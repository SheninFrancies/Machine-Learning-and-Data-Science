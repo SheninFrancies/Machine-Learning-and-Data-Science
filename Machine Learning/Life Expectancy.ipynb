{
 "cells": [
  {
   "cell_type": "markdown",
   "id": "bb17beb5",
   "metadata": {},
   "source": [
    "# Life Expectancy\n",
    "## Understanding Performance using different ML Techniques\n",
    "\n",
    "The dataset can be found [here](https://www.kaggle.com/datasets/kumarajarshi/life-expectancy-who). \n",
    "\n",
    "The dataset consists of the following columns:\n",
    "* Country\t\n",
    "* Year\n",
    "* Status\n",
    "* Life expectancy\t\n",
    "* Adult Mortality\t\n",
    "* infant deaths\t\n",
    "* Alcohol\t\n",
    "* percentage expenditure\t\n",
    "* Hepatitis B\t\n",
    "* Measles\t\n",
    "* BMI\t\n",
    "* under-five deaths\t\n",
    "* Polio\t\n",
    "* Total expenditure\t\n",
    "* Diphtheria\t\n",
    "* HIV/AIDS\t\n",
    "* GDP\tPopulation\t\n",
    "* thinness 1-19 years\t\n",
    "* thinness 5-9 years\t\n",
    "* Income composition of resources\t\n",
    "* Schooling"
   ]
  },
  {
   "cell_type": "markdown",
   "id": "48319e1e",
   "metadata": {},
   "source": [
    "#### Libraries"
   ]
  },
  {
   "cell_type": "code",
   "execution_count": 1,
   "id": "76d6a87e",
   "metadata": {},
   "outputs": [],
   "source": [
    "import pandas as pd\n",
    "import numpy as np\n",
    "import os\n",
    "import matplotlib.pyplot as plt\n",
    "import seaborn as sns\n",
    "sns.set()"
   ]
  },
  {
   "cell_type": "markdown",
   "id": "ce10ac73",
   "metadata": {},
   "source": [
    "Check the path:"
   ]
  },
  {
   "cell_type": "code",
   "execution_count": 2,
   "id": "871c74d2",
   "metadata": {},
   "outputs": [
    {
     "data": {
      "text/plain": [
       "'D:\\\\Python\\\\Dataset Training'"
      ]
     },
     "execution_count": 2,
     "metadata": {},
     "output_type": "execute_result"
    }
   ],
   "source": [
    "os.getcwd()"
   ]
  },
  {
   "cell_type": "markdown",
   "id": "ddcfa032",
   "metadata": {},
   "source": [
    "#### Load the data"
   ]
  },
  {
   "cell_type": "code",
   "execution_count": 3,
   "id": "0e2438d2",
   "metadata": {
    "scrolled": true
   },
   "outputs": [
    {
     "data": {
      "text/html": [
       "<div>\n",
       "<style scoped>\n",
       "    .dataframe tbody tr th:only-of-type {\n",
       "        vertical-align: middle;\n",
       "    }\n",
       "\n",
       "    .dataframe tbody tr th {\n",
       "        vertical-align: top;\n",
       "    }\n",
       "\n",
       "    .dataframe thead th {\n",
       "        text-align: right;\n",
       "    }\n",
       "</style>\n",
       "<table border=\"1\" class=\"dataframe\">\n",
       "  <thead>\n",
       "    <tr style=\"text-align: right;\">\n",
       "      <th></th>\n",
       "      <th>Country</th>\n",
       "      <th>Year</th>\n",
       "      <th>Status</th>\n",
       "      <th>Life expectancy</th>\n",
       "      <th>Adult Mortality</th>\n",
       "      <th>infant deaths</th>\n",
       "      <th>Alcohol</th>\n",
       "      <th>percentage expenditure</th>\n",
       "      <th>Hepatitis B</th>\n",
       "      <th>Measles</th>\n",
       "      <th>BMI</th>\n",
       "      <th>under-five deaths</th>\n",
       "      <th>Polio</th>\n",
       "      <th>Total expenditure</th>\n",
       "      <th>Diphtheria</th>\n",
       "      <th>HIV/AIDS</th>\n",
       "      <th>GDP</th>\n",
       "      <th>Population</th>\n",
       "      <th>thinness  1-19 years</th>\n",
       "      <th>thinness 5-9 years</th>\n",
       "      <th>Income composition of resources</th>\n",
       "      <th>Schooling</th>\n",
       "    </tr>\n",
       "  </thead>\n",
       "  <tbody>\n",
       "    <tr>\n",
       "      <th>0</th>\n",
       "      <td>Afghanistan</td>\n",
       "      <td>2015</td>\n",
       "      <td>Developing</td>\n",
       "      <td>65.0</td>\n",
       "      <td>263.0</td>\n",
       "      <td>62</td>\n",
       "      <td>0.01</td>\n",
       "      <td>71.279624</td>\n",
       "      <td>65.0</td>\n",
       "      <td>1154</td>\n",
       "      <td>19.1</td>\n",
       "      <td>83</td>\n",
       "      <td>6.0</td>\n",
       "      <td>8.16</td>\n",
       "      <td>65.0</td>\n",
       "      <td>0.1</td>\n",
       "      <td>584.259210</td>\n",
       "      <td>33736494.0</td>\n",
       "      <td>17.2</td>\n",
       "      <td>17.3</td>\n",
       "      <td>0.479</td>\n",
       "      <td>10.1</td>\n",
       "    </tr>\n",
       "    <tr>\n",
       "      <th>1</th>\n",
       "      <td>Afghanistan</td>\n",
       "      <td>2014</td>\n",
       "      <td>Developing</td>\n",
       "      <td>59.9</td>\n",
       "      <td>271.0</td>\n",
       "      <td>64</td>\n",
       "      <td>0.01</td>\n",
       "      <td>73.523582</td>\n",
       "      <td>62.0</td>\n",
       "      <td>492</td>\n",
       "      <td>18.6</td>\n",
       "      <td>86</td>\n",
       "      <td>58.0</td>\n",
       "      <td>8.18</td>\n",
       "      <td>62.0</td>\n",
       "      <td>0.1</td>\n",
       "      <td>612.696514</td>\n",
       "      <td>327582.0</td>\n",
       "      <td>17.5</td>\n",
       "      <td>17.5</td>\n",
       "      <td>0.476</td>\n",
       "      <td>10.0</td>\n",
       "    </tr>\n",
       "    <tr>\n",
       "      <th>2</th>\n",
       "      <td>Afghanistan</td>\n",
       "      <td>2013</td>\n",
       "      <td>Developing</td>\n",
       "      <td>59.9</td>\n",
       "      <td>268.0</td>\n",
       "      <td>66</td>\n",
       "      <td>0.01</td>\n",
       "      <td>73.219243</td>\n",
       "      <td>64.0</td>\n",
       "      <td>430</td>\n",
       "      <td>18.1</td>\n",
       "      <td>89</td>\n",
       "      <td>62.0</td>\n",
       "      <td>8.13</td>\n",
       "      <td>64.0</td>\n",
       "      <td>0.1</td>\n",
       "      <td>631.744976</td>\n",
       "      <td>31731688.0</td>\n",
       "      <td>17.7</td>\n",
       "      <td>17.7</td>\n",
       "      <td>0.470</td>\n",
       "      <td>9.9</td>\n",
       "    </tr>\n",
       "    <tr>\n",
       "      <th>3</th>\n",
       "      <td>Afghanistan</td>\n",
       "      <td>2012</td>\n",
       "      <td>Developing</td>\n",
       "      <td>59.5</td>\n",
       "      <td>272.0</td>\n",
       "      <td>69</td>\n",
       "      <td>0.01</td>\n",
       "      <td>78.184215</td>\n",
       "      <td>67.0</td>\n",
       "      <td>2787</td>\n",
       "      <td>17.6</td>\n",
       "      <td>93</td>\n",
       "      <td>67.0</td>\n",
       "      <td>8.52</td>\n",
       "      <td>67.0</td>\n",
       "      <td>0.1</td>\n",
       "      <td>669.959000</td>\n",
       "      <td>3696958.0</td>\n",
       "      <td>17.9</td>\n",
       "      <td>18.0</td>\n",
       "      <td>0.463</td>\n",
       "      <td>9.8</td>\n",
       "    </tr>\n",
       "    <tr>\n",
       "      <th>4</th>\n",
       "      <td>Afghanistan</td>\n",
       "      <td>2011</td>\n",
       "      <td>Developing</td>\n",
       "      <td>59.2</td>\n",
       "      <td>275.0</td>\n",
       "      <td>71</td>\n",
       "      <td>0.01</td>\n",
       "      <td>7.097109</td>\n",
       "      <td>68.0</td>\n",
       "      <td>3013</td>\n",
       "      <td>17.2</td>\n",
       "      <td>97</td>\n",
       "      <td>68.0</td>\n",
       "      <td>7.87</td>\n",
       "      <td>68.0</td>\n",
       "      <td>0.1</td>\n",
       "      <td>63.537231</td>\n",
       "      <td>2978599.0</td>\n",
       "      <td>18.2</td>\n",
       "      <td>18.2</td>\n",
       "      <td>0.454</td>\n",
       "      <td>9.5</td>\n",
       "    </tr>\n",
       "  </tbody>\n",
       "</table>\n",
       "</div>"
      ],
      "text/plain": [
       "       Country  Year      Status  Life expectancy   Adult Mortality  \\\n",
       "0  Afghanistan  2015  Developing              65.0            263.0   \n",
       "1  Afghanistan  2014  Developing              59.9            271.0   \n",
       "2  Afghanistan  2013  Developing              59.9            268.0   \n",
       "3  Afghanistan  2012  Developing              59.5            272.0   \n",
       "4  Afghanistan  2011  Developing              59.2            275.0   \n",
       "\n",
       "   infant deaths  Alcohol  percentage expenditure  Hepatitis B  Measles   \\\n",
       "0             62     0.01               71.279624         65.0      1154   \n",
       "1             64     0.01               73.523582         62.0       492   \n",
       "2             66     0.01               73.219243         64.0       430   \n",
       "3             69     0.01               78.184215         67.0      2787   \n",
       "4             71     0.01                7.097109         68.0      3013   \n",
       "\n",
       "    BMI   under-five deaths   Polio  Total expenditure  Diphtheria   \\\n",
       "0   19.1                  83    6.0               8.16         65.0   \n",
       "1   18.6                  86   58.0               8.18         62.0   \n",
       "2   18.1                  89   62.0               8.13         64.0   \n",
       "3   17.6                  93   67.0               8.52         67.0   \n",
       "4   17.2                  97   68.0               7.87         68.0   \n",
       "\n",
       "    HIV/AIDS         GDP  Population   thinness  1-19 years  \\\n",
       "0        0.1  584.259210  33736494.0                   17.2   \n",
       "1        0.1  612.696514    327582.0                   17.5   \n",
       "2        0.1  631.744976  31731688.0                   17.7   \n",
       "3        0.1  669.959000   3696958.0                   17.9   \n",
       "4        0.1   63.537231   2978599.0                   18.2   \n",
       "\n",
       "    thinness 5-9 years  Income composition of resources  Schooling  \n",
       "0                 17.3                            0.479       10.1  \n",
       "1                 17.5                            0.476       10.0  \n",
       "2                 17.7                            0.470        9.9  \n",
       "3                 18.0                            0.463        9.8  \n",
       "4                 18.2                            0.454        9.5  "
      ]
     },
     "execution_count": 3,
     "metadata": {},
     "output_type": "execute_result"
    }
   ],
   "source": [
    "data = pd.read_csv(r'Life Expectancy Data.csv')\n",
    "pd.options.display.max_columns = None\n",
    "data.head()"
   ]
  },
  {
   "cell_type": "markdown",
   "id": "d204986d",
   "metadata": {},
   "source": [
    "#### Preliminary analysis"
   ]
  },
  {
   "cell_type": "code",
   "execution_count": 4,
   "id": "5c0c48a7",
   "metadata": {},
   "outputs": [
    {
     "data": {
      "text/plain": [
       "(2938, 22)"
      ]
     },
     "execution_count": 4,
     "metadata": {},
     "output_type": "execute_result"
    }
   ],
   "source": [
    "data.shape"
   ]
  },
  {
   "cell_type": "code",
   "execution_count": 5,
   "id": "dd8d3e6d",
   "metadata": {},
   "outputs": [
    {
     "data": {
      "text/html": [
       "<div>\n",
       "<style scoped>\n",
       "    .dataframe tbody tr th:only-of-type {\n",
       "        vertical-align: middle;\n",
       "    }\n",
       "\n",
       "    .dataframe tbody tr th {\n",
       "        vertical-align: top;\n",
       "    }\n",
       "\n",
       "    .dataframe thead th {\n",
       "        text-align: right;\n",
       "    }\n",
       "</style>\n",
       "<table border=\"1\" class=\"dataframe\">\n",
       "  <thead>\n",
       "    <tr style=\"text-align: right;\">\n",
       "      <th></th>\n",
       "      <th>Country</th>\n",
       "      <th>Year</th>\n",
       "      <th>Status</th>\n",
       "      <th>Life expectancy</th>\n",
       "      <th>Adult Mortality</th>\n",
       "      <th>infant deaths</th>\n",
       "      <th>Alcohol</th>\n",
       "      <th>percentage expenditure</th>\n",
       "      <th>Hepatitis B</th>\n",
       "      <th>Measles</th>\n",
       "      <th>BMI</th>\n",
       "      <th>under-five deaths</th>\n",
       "      <th>Polio</th>\n",
       "      <th>Total expenditure</th>\n",
       "      <th>Diphtheria</th>\n",
       "      <th>HIV/AIDS</th>\n",
       "      <th>GDP</th>\n",
       "      <th>Population</th>\n",
       "      <th>thinness  1-19 years</th>\n",
       "      <th>thinness 5-9 years</th>\n",
       "      <th>Income composition of resources</th>\n",
       "      <th>Schooling</th>\n",
       "    </tr>\n",
       "  </thead>\n",
       "  <tbody>\n",
       "    <tr>\n",
       "      <th>count</th>\n",
       "      <td>2938</td>\n",
       "      <td>2938.000000</td>\n",
       "      <td>2938</td>\n",
       "      <td>2928.000000</td>\n",
       "      <td>2928.000000</td>\n",
       "      <td>2938.000000</td>\n",
       "      <td>2744.000000</td>\n",
       "      <td>2938.000000</td>\n",
       "      <td>2385.000000</td>\n",
       "      <td>2938.000000</td>\n",
       "      <td>2904.000000</td>\n",
       "      <td>2938.000000</td>\n",
       "      <td>2919.000000</td>\n",
       "      <td>2712.00000</td>\n",
       "      <td>2919.000000</td>\n",
       "      <td>2938.000000</td>\n",
       "      <td>2490.000000</td>\n",
       "      <td>2.286000e+03</td>\n",
       "      <td>2904.000000</td>\n",
       "      <td>2904.000000</td>\n",
       "      <td>2771.000000</td>\n",
       "      <td>2775.000000</td>\n",
       "    </tr>\n",
       "    <tr>\n",
       "      <th>unique</th>\n",
       "      <td>193</td>\n",
       "      <td>NaN</td>\n",
       "      <td>2</td>\n",
       "      <td>NaN</td>\n",
       "      <td>NaN</td>\n",
       "      <td>NaN</td>\n",
       "      <td>NaN</td>\n",
       "      <td>NaN</td>\n",
       "      <td>NaN</td>\n",
       "      <td>NaN</td>\n",
       "      <td>NaN</td>\n",
       "      <td>NaN</td>\n",
       "      <td>NaN</td>\n",
       "      <td>NaN</td>\n",
       "      <td>NaN</td>\n",
       "      <td>NaN</td>\n",
       "      <td>NaN</td>\n",
       "      <td>NaN</td>\n",
       "      <td>NaN</td>\n",
       "      <td>NaN</td>\n",
       "      <td>NaN</td>\n",
       "      <td>NaN</td>\n",
       "    </tr>\n",
       "    <tr>\n",
       "      <th>top</th>\n",
       "      <td>Afghanistan</td>\n",
       "      <td>NaN</td>\n",
       "      <td>Developing</td>\n",
       "      <td>NaN</td>\n",
       "      <td>NaN</td>\n",
       "      <td>NaN</td>\n",
       "      <td>NaN</td>\n",
       "      <td>NaN</td>\n",
       "      <td>NaN</td>\n",
       "      <td>NaN</td>\n",
       "      <td>NaN</td>\n",
       "      <td>NaN</td>\n",
       "      <td>NaN</td>\n",
       "      <td>NaN</td>\n",
       "      <td>NaN</td>\n",
       "      <td>NaN</td>\n",
       "      <td>NaN</td>\n",
       "      <td>NaN</td>\n",
       "      <td>NaN</td>\n",
       "      <td>NaN</td>\n",
       "      <td>NaN</td>\n",
       "      <td>NaN</td>\n",
       "    </tr>\n",
       "    <tr>\n",
       "      <th>freq</th>\n",
       "      <td>16</td>\n",
       "      <td>NaN</td>\n",
       "      <td>2426</td>\n",
       "      <td>NaN</td>\n",
       "      <td>NaN</td>\n",
       "      <td>NaN</td>\n",
       "      <td>NaN</td>\n",
       "      <td>NaN</td>\n",
       "      <td>NaN</td>\n",
       "      <td>NaN</td>\n",
       "      <td>NaN</td>\n",
       "      <td>NaN</td>\n",
       "      <td>NaN</td>\n",
       "      <td>NaN</td>\n",
       "      <td>NaN</td>\n",
       "      <td>NaN</td>\n",
       "      <td>NaN</td>\n",
       "      <td>NaN</td>\n",
       "      <td>NaN</td>\n",
       "      <td>NaN</td>\n",
       "      <td>NaN</td>\n",
       "      <td>NaN</td>\n",
       "    </tr>\n",
       "    <tr>\n",
       "      <th>mean</th>\n",
       "      <td>NaN</td>\n",
       "      <td>2007.518720</td>\n",
       "      <td>NaN</td>\n",
       "      <td>69.224932</td>\n",
       "      <td>164.796448</td>\n",
       "      <td>30.303948</td>\n",
       "      <td>4.602861</td>\n",
       "      <td>738.251295</td>\n",
       "      <td>80.940461</td>\n",
       "      <td>2419.592240</td>\n",
       "      <td>38.321247</td>\n",
       "      <td>42.035739</td>\n",
       "      <td>82.550188</td>\n",
       "      <td>5.93819</td>\n",
       "      <td>82.324084</td>\n",
       "      <td>1.742103</td>\n",
       "      <td>7483.158469</td>\n",
       "      <td>1.275338e+07</td>\n",
       "      <td>4.839704</td>\n",
       "      <td>4.870317</td>\n",
       "      <td>0.627551</td>\n",
       "      <td>11.992793</td>\n",
       "    </tr>\n",
       "    <tr>\n",
       "      <th>std</th>\n",
       "      <td>NaN</td>\n",
       "      <td>4.613841</td>\n",
       "      <td>NaN</td>\n",
       "      <td>9.523867</td>\n",
       "      <td>124.292079</td>\n",
       "      <td>117.926501</td>\n",
       "      <td>4.052413</td>\n",
       "      <td>1987.914858</td>\n",
       "      <td>25.070016</td>\n",
       "      <td>11467.272489</td>\n",
       "      <td>20.044034</td>\n",
       "      <td>160.445548</td>\n",
       "      <td>23.428046</td>\n",
       "      <td>2.49832</td>\n",
       "      <td>23.716912</td>\n",
       "      <td>5.077785</td>\n",
       "      <td>14270.169342</td>\n",
       "      <td>6.101210e+07</td>\n",
       "      <td>4.420195</td>\n",
       "      <td>4.508882</td>\n",
       "      <td>0.210904</td>\n",
       "      <td>3.358920</td>\n",
       "    </tr>\n",
       "    <tr>\n",
       "      <th>min</th>\n",
       "      <td>NaN</td>\n",
       "      <td>2000.000000</td>\n",
       "      <td>NaN</td>\n",
       "      <td>36.300000</td>\n",
       "      <td>1.000000</td>\n",
       "      <td>0.000000</td>\n",
       "      <td>0.010000</td>\n",
       "      <td>0.000000</td>\n",
       "      <td>1.000000</td>\n",
       "      <td>0.000000</td>\n",
       "      <td>1.000000</td>\n",
       "      <td>0.000000</td>\n",
       "      <td>3.000000</td>\n",
       "      <td>0.37000</td>\n",
       "      <td>2.000000</td>\n",
       "      <td>0.100000</td>\n",
       "      <td>1.681350</td>\n",
       "      <td>3.400000e+01</td>\n",
       "      <td>0.100000</td>\n",
       "      <td>0.100000</td>\n",
       "      <td>0.000000</td>\n",
       "      <td>0.000000</td>\n",
       "    </tr>\n",
       "    <tr>\n",
       "      <th>25%</th>\n",
       "      <td>NaN</td>\n",
       "      <td>2004.000000</td>\n",
       "      <td>NaN</td>\n",
       "      <td>63.100000</td>\n",
       "      <td>74.000000</td>\n",
       "      <td>0.000000</td>\n",
       "      <td>0.877500</td>\n",
       "      <td>4.685343</td>\n",
       "      <td>77.000000</td>\n",
       "      <td>0.000000</td>\n",
       "      <td>19.300000</td>\n",
       "      <td>0.000000</td>\n",
       "      <td>78.000000</td>\n",
       "      <td>4.26000</td>\n",
       "      <td>78.000000</td>\n",
       "      <td>0.100000</td>\n",
       "      <td>463.935626</td>\n",
       "      <td>1.957932e+05</td>\n",
       "      <td>1.600000</td>\n",
       "      <td>1.500000</td>\n",
       "      <td>0.493000</td>\n",
       "      <td>10.100000</td>\n",
       "    </tr>\n",
       "    <tr>\n",
       "      <th>50%</th>\n",
       "      <td>NaN</td>\n",
       "      <td>2008.000000</td>\n",
       "      <td>NaN</td>\n",
       "      <td>72.100000</td>\n",
       "      <td>144.000000</td>\n",
       "      <td>3.000000</td>\n",
       "      <td>3.755000</td>\n",
       "      <td>64.912906</td>\n",
       "      <td>92.000000</td>\n",
       "      <td>17.000000</td>\n",
       "      <td>43.500000</td>\n",
       "      <td>4.000000</td>\n",
       "      <td>93.000000</td>\n",
       "      <td>5.75500</td>\n",
       "      <td>93.000000</td>\n",
       "      <td>0.100000</td>\n",
       "      <td>1766.947595</td>\n",
       "      <td>1.386542e+06</td>\n",
       "      <td>3.300000</td>\n",
       "      <td>3.300000</td>\n",
       "      <td>0.677000</td>\n",
       "      <td>12.300000</td>\n",
       "    </tr>\n",
       "    <tr>\n",
       "      <th>75%</th>\n",
       "      <td>NaN</td>\n",
       "      <td>2012.000000</td>\n",
       "      <td>NaN</td>\n",
       "      <td>75.700000</td>\n",
       "      <td>228.000000</td>\n",
       "      <td>22.000000</td>\n",
       "      <td>7.702500</td>\n",
       "      <td>441.534144</td>\n",
       "      <td>97.000000</td>\n",
       "      <td>360.250000</td>\n",
       "      <td>56.200000</td>\n",
       "      <td>28.000000</td>\n",
       "      <td>97.000000</td>\n",
       "      <td>7.49250</td>\n",
       "      <td>97.000000</td>\n",
       "      <td>0.800000</td>\n",
       "      <td>5910.806335</td>\n",
       "      <td>7.420359e+06</td>\n",
       "      <td>7.200000</td>\n",
       "      <td>7.200000</td>\n",
       "      <td>0.779000</td>\n",
       "      <td>14.300000</td>\n",
       "    </tr>\n",
       "    <tr>\n",
       "      <th>max</th>\n",
       "      <td>NaN</td>\n",
       "      <td>2015.000000</td>\n",
       "      <td>NaN</td>\n",
       "      <td>89.000000</td>\n",
       "      <td>723.000000</td>\n",
       "      <td>1800.000000</td>\n",
       "      <td>17.870000</td>\n",
       "      <td>19479.911610</td>\n",
       "      <td>99.000000</td>\n",
       "      <td>212183.000000</td>\n",
       "      <td>87.300000</td>\n",
       "      <td>2500.000000</td>\n",
       "      <td>99.000000</td>\n",
       "      <td>17.60000</td>\n",
       "      <td>99.000000</td>\n",
       "      <td>50.600000</td>\n",
       "      <td>119172.741800</td>\n",
       "      <td>1.293859e+09</td>\n",
       "      <td>27.700000</td>\n",
       "      <td>28.600000</td>\n",
       "      <td>0.948000</td>\n",
       "      <td>20.700000</td>\n",
       "    </tr>\n",
       "  </tbody>\n",
       "</table>\n",
       "</div>"
      ],
      "text/plain": [
       "            Country         Year      Status  Life expectancy   \\\n",
       "count          2938  2938.000000        2938       2928.000000   \n",
       "unique          193          NaN           2               NaN   \n",
       "top     Afghanistan          NaN  Developing               NaN   \n",
       "freq             16          NaN        2426               NaN   \n",
       "mean            NaN  2007.518720         NaN         69.224932   \n",
       "std             NaN     4.613841         NaN          9.523867   \n",
       "min             NaN  2000.000000         NaN         36.300000   \n",
       "25%             NaN  2004.000000         NaN         63.100000   \n",
       "50%             NaN  2008.000000         NaN         72.100000   \n",
       "75%             NaN  2012.000000         NaN         75.700000   \n",
       "max             NaN  2015.000000         NaN         89.000000   \n",
       "\n",
       "        Adult Mortality  infant deaths      Alcohol  percentage expenditure  \\\n",
       "count       2928.000000    2938.000000  2744.000000             2938.000000   \n",
       "unique              NaN            NaN          NaN                     NaN   \n",
       "top                 NaN            NaN          NaN                     NaN   \n",
       "freq                NaN            NaN          NaN                     NaN   \n",
       "mean         164.796448      30.303948     4.602861              738.251295   \n",
       "std          124.292079     117.926501     4.052413             1987.914858   \n",
       "min            1.000000       0.000000     0.010000                0.000000   \n",
       "25%           74.000000       0.000000     0.877500                4.685343   \n",
       "50%          144.000000       3.000000     3.755000               64.912906   \n",
       "75%          228.000000      22.000000     7.702500              441.534144   \n",
       "max          723.000000    1800.000000    17.870000            19479.911610   \n",
       "\n",
       "        Hepatitis B       Measles          BMI   under-five deaths   \\\n",
       "count   2385.000000    2938.000000  2904.000000         2938.000000   \n",
       "unique          NaN            NaN          NaN                 NaN   \n",
       "top             NaN            NaN          NaN                 NaN   \n",
       "freq            NaN            NaN          NaN                 NaN   \n",
       "mean      80.940461    2419.592240    38.321247           42.035739   \n",
       "std       25.070016   11467.272489    20.044034          160.445548   \n",
       "min        1.000000       0.000000     1.000000            0.000000   \n",
       "25%       77.000000       0.000000    19.300000            0.000000   \n",
       "50%       92.000000      17.000000    43.500000            4.000000   \n",
       "75%       97.000000     360.250000    56.200000           28.000000   \n",
       "max       99.000000  212183.000000    87.300000         2500.000000   \n",
       "\n",
       "              Polio  Total expenditure  Diphtheria      HIV/AIDS  \\\n",
       "count   2919.000000         2712.00000  2919.000000  2938.000000   \n",
       "unique          NaN                NaN          NaN          NaN   \n",
       "top             NaN                NaN          NaN          NaN   \n",
       "freq            NaN                NaN          NaN          NaN   \n",
       "mean      82.550188            5.93819    82.324084     1.742103   \n",
       "std       23.428046            2.49832    23.716912     5.077785   \n",
       "min        3.000000            0.37000     2.000000     0.100000   \n",
       "25%       78.000000            4.26000    78.000000     0.100000   \n",
       "50%       93.000000            5.75500    93.000000     0.100000   \n",
       "75%       97.000000            7.49250    97.000000     0.800000   \n",
       "max       99.000000           17.60000    99.000000    50.600000   \n",
       "\n",
       "                  GDP    Population   thinness  1-19 years  \\\n",
       "count     2490.000000  2.286000e+03            2904.000000   \n",
       "unique            NaN           NaN                    NaN   \n",
       "top               NaN           NaN                    NaN   \n",
       "freq              NaN           NaN                    NaN   \n",
       "mean      7483.158469  1.275338e+07               4.839704   \n",
       "std      14270.169342  6.101210e+07               4.420195   \n",
       "min          1.681350  3.400000e+01               0.100000   \n",
       "25%        463.935626  1.957932e+05               1.600000   \n",
       "50%       1766.947595  1.386542e+06               3.300000   \n",
       "75%       5910.806335  7.420359e+06               7.200000   \n",
       "max     119172.741800  1.293859e+09              27.700000   \n",
       "\n",
       "         thinness 5-9 years  Income composition of resources    Schooling  \n",
       "count           2904.000000                      2771.000000  2775.000000  \n",
       "unique                  NaN                              NaN          NaN  \n",
       "top                     NaN                              NaN          NaN  \n",
       "freq                    NaN                              NaN          NaN  \n",
       "mean               4.870317                         0.627551    11.992793  \n",
       "std                4.508882                         0.210904     3.358920  \n",
       "min                0.100000                         0.000000     0.000000  \n",
       "25%                1.500000                         0.493000    10.100000  \n",
       "50%                3.300000                         0.677000    12.300000  \n",
       "75%                7.200000                         0.779000    14.300000  \n",
       "max               28.600000                         0.948000    20.700000  "
      ]
     },
     "execution_count": 5,
     "metadata": {},
     "output_type": "execute_result"
    }
   ],
   "source": [
    "data.describe(include='all')"
   ]
  },
  {
   "cell_type": "markdown",
   "id": "a3df9e2c",
   "metadata": {},
   "source": [
    "There seem to be some missing values that we have to take care of, as evident from the count."
   ]
  },
  {
   "cell_type": "code",
   "execution_count": 6,
   "id": "16e0f7ea",
   "metadata": {
    "scrolled": true
   },
   "outputs": [
    {
     "name": "stdout",
     "output_type": "stream",
     "text": [
      "<class 'pandas.core.frame.DataFrame'>\n",
      "RangeIndex: 2938 entries, 0 to 2937\n",
      "Data columns (total 22 columns):\n",
      " #   Column                           Non-Null Count  Dtype  \n",
      "---  ------                           --------------  -----  \n",
      " 0   Country                          2938 non-null   object \n",
      " 1   Year                             2938 non-null   int64  \n",
      " 2   Status                           2938 non-null   object \n",
      " 3   Life expectancy                  2928 non-null   float64\n",
      " 4   Adult Mortality                  2928 non-null   float64\n",
      " 5   infant deaths                    2938 non-null   int64  \n",
      " 6   Alcohol                          2744 non-null   float64\n",
      " 7   percentage expenditure           2938 non-null   float64\n",
      " 8   Hepatitis B                      2385 non-null   float64\n",
      " 9   Measles                          2938 non-null   int64  \n",
      " 10   BMI                             2904 non-null   float64\n",
      " 11  under-five deaths                2938 non-null   int64  \n",
      " 12  Polio                            2919 non-null   float64\n",
      " 13  Total expenditure                2712 non-null   float64\n",
      " 14  Diphtheria                       2919 non-null   float64\n",
      " 15   HIV/AIDS                        2938 non-null   float64\n",
      " 16  GDP                              2490 non-null   float64\n",
      " 17  Population                       2286 non-null   float64\n",
      " 18   thinness  1-19 years            2904 non-null   float64\n",
      " 19   thinness 5-9 years              2904 non-null   float64\n",
      " 20  Income composition of resources  2771 non-null   float64\n",
      " 21  Schooling                        2775 non-null   float64\n",
      "dtypes: float64(16), int64(4), object(2)\n",
      "memory usage: 505.1+ KB\n"
     ]
    }
   ],
   "source": [
    "data.info()"
   ]
  },
  {
   "cell_type": "markdown",
   "id": "601b01cc",
   "metadata": {},
   "source": [
    "There are two categorical variables: Country and Satus. \n",
    "Every other variables are numerical in nature."
   ]
  },
  {
   "cell_type": "code",
   "execution_count": 7,
   "id": "d281508e",
   "metadata": {},
   "outputs": [
    {
     "data": {
      "text/plain": [
       "<AxesSubplot:>"
      ]
     },
     "execution_count": 7,
     "metadata": {},
     "output_type": "execute_result"
    },
    {
     "data": {
      "image/png": "[encoded data removed]",
      "text/plain": [
       "<Figure size 640x480 with 1 Axes>"
      ]
     },
     "metadata": {},
     "output_type": "display_data"
    }
   ],
   "source": [
    "sns.heatmap(data.drop(['Country', 'Status'], axis=1).isnull(), cbar=False, yticklabels = False, cmap='viridis')"
   ]
  },
  {
   "cell_type": "markdown",
   "id": "33871ab9",
   "metadata": {},
   "source": [
    "It seems that Population and GDP columns have the most number of missing values that we ought to correct, followed by the Hepatitis B column:"
   ]
  },
  {
   "cell_type": "code",
   "execution_count": 8,
   "id": "f9e8824d",
   "metadata": {
    "scrolled": true
   },
   "outputs": [
    {
     "data": {
      "text/plain": [
       "Country                              0\n",
       "Year                                 0\n",
       "Status                               0\n",
       "Life expectancy                     10\n",
       "Adult Mortality                     10\n",
       "infant deaths                        0\n",
       "Alcohol                            194\n",
       "percentage expenditure               0\n",
       "Hepatitis B                        553\n",
       "Measles                              0\n",
       " BMI                                34\n",
       "under-five deaths                    0\n",
       "Polio                               19\n",
       "Total expenditure                  226\n",
       "Diphtheria                          19\n",
       " HIV/AIDS                            0\n",
       "GDP                                448\n",
       "Population                         652\n",
       " thinness  1-19 years               34\n",
       " thinness 5-9 years                 34\n",
       "Income composition of resources    167\n",
       "Schooling                          163\n",
       "dtype: int64"
      ]
     },
     "execution_count": 8,
     "metadata": {},
     "output_type": "execute_result"
    }
   ],
   "source": [
    "data.isna().sum()"
   ]
  },
  {
   "cell_type": "markdown",
   "id": "6f1b9e1d",
   "metadata": {},
   "source": [
    "Capitalize all column names:"
   ]
  },
  {
   "cell_type": "code",
   "execution_count": 9,
   "id": "896a06fd",
   "metadata": {
    "scrolled": true
   },
   "outputs": [
    {
     "data": {
      "text/plain": [
       "Index(['Country', 'Year', 'Status', 'Life expectancy', 'Adult Mortality',\n",
       "       'Infant deaths', 'Alcohol', 'Percentage expenditure', 'Hepatitis B',\n",
       "       'Measles', 'BMI', 'Under-Five deaths', 'Polio', 'Total expenditure',\n",
       "       'Diphtheria', 'HIV/AIDS', 'GDP', 'Population', 'Thinness ages 1-19',\n",
       "       'Thinness ages 5-9', 'Income composition of resources', 'Schooling'],\n",
       "      dtype='object')"
      ]
     },
     "execution_count": 9,
     "metadata": {},
     "output_type": "execute_result"
    }
   ],
   "source": [
    "data.columns = data.columns.str.strip()\n",
    "data.rename(columns={'infant deaths':'Infant deaths', \n",
    "              'percentage expenditure':'Percentage expenditure', \n",
    "              'under-five deaths': 'Under-Five deaths', \n",
    "              'thinness  1-19 years': 'Thinness ages 1-19',\n",
    "              'thinness 5-9 years': 'Thinness ages 5-9'}, inplace=True)\n",
    "data.columns"
   ]
  },
  {
   "cell_type": "markdown",
   "id": "046df3b9",
   "metadata": {},
   "source": [
    "Let us look at the Status column:"
   ]
  },
  {
   "cell_type": "code",
   "execution_count": 10,
   "id": "4564765e",
   "metadata": {},
   "outputs": [
    {
     "data": {
      "text/plain": [
       "array(['Developing', 'Developed'], dtype=object)"
      ]
     },
     "execution_count": 10,
     "metadata": {},
     "output_type": "execute_result"
    }
   ],
   "source": [
    "data['Status'].unique()"
   ]
  },
  {
   "cell_type": "markdown",
   "id": "37b532c5",
   "metadata": {},
   "source": [
    "It is better to convert the object datatype to an int or float. We can map the two categories into 0 or 1 respectively:"
   ]
  },
  {
   "cell_type": "code",
   "execution_count": 11,
   "id": "4ff0de8b",
   "metadata": {},
   "outputs": [
    {
     "data": {
      "text/plain": [
       "array([0, 1], dtype=int64)"
      ]
     },
     "execution_count": 11,
     "metadata": {},
     "output_type": "execute_result"
    }
   ],
   "source": [
    "data['Status'] = data['Status'].map({'Developing': 0, 'Developed': 1})\n",
    "data['Status'].unique()"
   ]
  },
  {
   "cell_type": "code",
   "execution_count": 12,
   "id": "141f04ca",
   "metadata": {},
   "outputs": [
    {
     "data": {
      "text/html": [
       "<div>\n",
       "<style scoped>\n",
       "    .dataframe tbody tr th:only-of-type {\n",
       "        vertical-align: middle;\n",
       "    }\n",
       "\n",
       "    .dataframe tbody tr th {\n",
       "        vertical-align: top;\n",
       "    }\n",
       "\n",
       "    .dataframe thead th {\n",
       "        text-align: right;\n",
       "    }\n",
       "</style>\n",
       "<table border=\"1\" class=\"dataframe\">\n",
       "  <thead>\n",
       "    <tr style=\"text-align: right;\">\n",
       "      <th></th>\n",
       "      <th>Country</th>\n",
       "      <th>Year</th>\n",
       "      <th>Status</th>\n",
       "      <th>Life expectancy</th>\n",
       "      <th>Adult Mortality</th>\n",
       "      <th>Infant deaths</th>\n",
       "      <th>Alcohol</th>\n",
       "      <th>Percentage expenditure</th>\n",
       "      <th>Hepatitis B</th>\n",
       "      <th>Measles</th>\n",
       "      <th>BMI</th>\n",
       "      <th>Under-Five deaths</th>\n",
       "      <th>Polio</th>\n",
       "      <th>Total expenditure</th>\n",
       "      <th>Diphtheria</th>\n",
       "      <th>HIV/AIDS</th>\n",
       "      <th>GDP</th>\n",
       "      <th>Population</th>\n",
       "      <th>Thinness ages 1-19</th>\n",
       "      <th>Thinness ages 5-9</th>\n",
       "      <th>Income composition of resources</th>\n",
       "      <th>Schooling</th>\n",
       "    </tr>\n",
       "  </thead>\n",
       "  <tbody>\n",
       "    <tr>\n",
       "      <th>0</th>\n",
       "      <td>Afghanistan</td>\n",
       "      <td>2015</td>\n",
       "      <td>0</td>\n",
       "      <td>65.0</td>\n",
       "      <td>263.0</td>\n",
       "      <td>62</td>\n",
       "      <td>0.01</td>\n",
       "      <td>71.279624</td>\n",
       "      <td>65.0</td>\n",
       "      <td>1154</td>\n",
       "      <td>19.1</td>\n",
       "      <td>83</td>\n",
       "      <td>6.0</td>\n",
       "      <td>8.16</td>\n",
       "      <td>65.0</td>\n",
       "      <td>0.1</td>\n",
       "      <td>584.259210</td>\n",
       "      <td>33736494.0</td>\n",
       "      <td>17.2</td>\n",
       "      <td>17.3</td>\n",
       "      <td>0.479</td>\n",
       "      <td>10.1</td>\n",
       "    </tr>\n",
       "    <tr>\n",
       "      <th>1</th>\n",
       "      <td>Afghanistan</td>\n",
       "      <td>2014</td>\n",
       "      <td>0</td>\n",
       "      <td>59.9</td>\n",
       "      <td>271.0</td>\n",
       "      <td>64</td>\n",
       "      <td>0.01</td>\n",
       "      <td>73.523582</td>\n",
       "      <td>62.0</td>\n",
       "      <td>492</td>\n",
       "      <td>18.6</td>\n",
       "      <td>86</td>\n",
       "      <td>58.0</td>\n",
       "      <td>8.18</td>\n",
       "      <td>62.0</td>\n",
       "      <td>0.1</td>\n",
       "      <td>612.696514</td>\n",
       "      <td>327582.0</td>\n",
       "      <td>17.5</td>\n",
       "      <td>17.5</td>\n",
       "      <td>0.476</td>\n",
       "      <td>10.0</td>\n",
       "    </tr>\n",
       "    <tr>\n",
       "      <th>2</th>\n",
       "      <td>Afghanistan</td>\n",
       "      <td>2013</td>\n",
       "      <td>0</td>\n",
       "      <td>59.9</td>\n",
       "      <td>268.0</td>\n",
       "      <td>66</td>\n",
       "      <td>0.01</td>\n",
       "      <td>73.219243</td>\n",
       "      <td>64.0</td>\n",
       "      <td>430</td>\n",
       "      <td>18.1</td>\n",
       "      <td>89</td>\n",
       "      <td>62.0</td>\n",
       "      <td>8.13</td>\n",
       "      <td>64.0</td>\n",
       "      <td>0.1</td>\n",
       "      <td>631.744976</td>\n",
       "      <td>31731688.0</td>\n",
       "      <td>17.7</td>\n",
       "      <td>17.7</td>\n",
       "      <td>0.470</td>\n",
       "      <td>9.9</td>\n",
       "    </tr>\n",
       "    <tr>\n",
       "      <th>3</th>\n",
       "      <td>Afghanistan</td>\n",
       "      <td>2012</td>\n",
       "      <td>0</td>\n",
       "      <td>59.5</td>\n",
       "      <td>272.0</td>\n",
       "      <td>69</td>\n",
       "      <td>0.01</td>\n",
       "      <td>78.184215</td>\n",
       "      <td>67.0</td>\n",
       "      <td>2787</td>\n",
       "      <td>17.6</td>\n",
       "      <td>93</td>\n",
       "      <td>67.0</td>\n",
       "      <td>8.52</td>\n",
       "      <td>67.0</td>\n",
       "      <td>0.1</td>\n",
       "      <td>669.959000</td>\n",
       "      <td>3696958.0</td>\n",
       "      <td>17.9</td>\n",
       "      <td>18.0</td>\n",
       "      <td>0.463</td>\n",
       "      <td>9.8</td>\n",
       "    </tr>\n",
       "    <tr>\n",
       "      <th>4</th>\n",
       "      <td>Afghanistan</td>\n",
       "      <td>2011</td>\n",
       "      <td>0</td>\n",
       "      <td>59.2</td>\n",
       "      <td>275.0</td>\n",
       "      <td>71</td>\n",
       "      <td>0.01</td>\n",
       "      <td>7.097109</td>\n",
       "      <td>68.0</td>\n",
       "      <td>3013</td>\n",
       "      <td>17.2</td>\n",
       "      <td>97</td>\n",
       "      <td>68.0</td>\n",
       "      <td>7.87</td>\n",
       "      <td>68.0</td>\n",
       "      <td>0.1</td>\n",
       "      <td>63.537231</td>\n",
       "      <td>2978599.0</td>\n",
       "      <td>18.2</td>\n",
       "      <td>18.2</td>\n",
       "      <td>0.454</td>\n",
       "      <td>9.5</td>\n",
       "    </tr>\n",
       "  </tbody>\n",
       "</table>\n",
       "</div>"
      ],
      "text/plain": [
       "       Country  Year  Status  Life expectancy  Adult Mortality  Infant deaths  \\\n",
       "0  Afghanistan  2015       0             65.0            263.0             62   \n",
       "1  Afghanistan  2014       0             59.9            271.0             64   \n",
       "2  Afghanistan  2013       0             59.9            268.0             66   \n",
       "3  Afghanistan  2012       0             59.5            272.0             69   \n",
       "4  Afghanistan  2011       0             59.2            275.0             71   \n",
       "\n",
       "   Alcohol  Percentage expenditure  Hepatitis B  Measles   BMI  \\\n",
       "0     0.01               71.279624         65.0     1154  19.1   \n",
       "1     0.01               73.523582         62.0      492  18.6   \n",
       "2     0.01               73.219243         64.0      430  18.1   \n",
       "3     0.01               78.184215         67.0     2787  17.6   \n",
       "4     0.01                7.097109         68.0     3013  17.2   \n",
       "\n",
       "   Under-Five deaths  Polio  Total expenditure  Diphtheria  HIV/AIDS  \\\n",
       "0                 83    6.0               8.16        65.0       0.1   \n",
       "1                 86   58.0               8.18        62.0       0.1   \n",
       "2                 89   62.0               8.13        64.0       0.1   \n",
       "3                 93   67.0               8.52        67.0       0.1   \n",
       "4                 97   68.0               7.87        68.0       0.1   \n",
       "\n",
       "          GDP  Population  Thinness ages 1-19  Thinness ages 5-9  \\\n",
       "0  584.259210  33736494.0                17.2               17.3   \n",
       "1  612.696514    327582.0                17.5               17.5   \n",
       "2  631.744976  31731688.0                17.7               17.7   \n",
       "3  669.959000   3696958.0                17.9               18.0   \n",
       "4   63.537231   2978599.0                18.2               18.2   \n",
       "\n",
       "   Income composition of resources  Schooling  \n",
       "0                            0.479       10.1  \n",
       "1                            0.476       10.0  \n",
       "2                            0.470        9.9  \n",
       "3                            0.463        9.8  \n",
       "4                            0.454        9.5  "
      ]
     },
     "execution_count": 12,
     "metadata": {},
     "output_type": "execute_result"
    }
   ],
   "source": [
    "data.head()"
   ]
  },
  {
   "cell_type": "markdown",
   "id": "e0c87e3e",
   "metadata": {},
   "source": [
    "We cannot really clean this dataset, since we do not have much information to derive from. Moreover, we also cannot fill or replace the values with mean, median or mode in these cases. To completely remove the rows would vastly undermine the dataset and the information that we would miss from other columns!"
   ]
  },
  {
   "cell_type": "markdown",
   "id": "aee3b0f7",
   "metadata": {},
   "source": [
    "However, we do not have any choice and so, we choose to remove the rows:"
   ]
  },
  {
   "cell_type": "code",
   "execution_count": 13,
   "id": "a5009d78",
   "metadata": {},
   "outputs": [
    {
     "data": {
      "text/plain": [
       "(1649, 22)"
      ]
     },
     "execution_count": 13,
     "metadata": {},
     "output_type": "execute_result"
    }
   ],
   "source": [
    "data.dropna(inplace=True)\n",
    "data.shape"
   ]
  },
  {
   "cell_type": "markdown",
   "id": "66fd058e",
   "metadata": {},
   "source": [
    "Now, we move on to implementing the regression algorithms:\n",
    "\n",
    "1. Linear Regression \n",
    "2. Multiple Linear Regression\n",
    "3. Logistic Regression"
   ]
  },
  {
   "cell_type": "markdown",
   "id": "0826b3c9",
   "metadata": {},
   "source": [
    "We check the correlation:"
   ]
  },
  {
   "cell_type": "code",
   "execution_count": 14,
   "id": "eb526ecc",
   "metadata": {},
   "outputs": [
    {
     "data": {
      "text/plain": [
       "<AxesSubplot:>"
      ]
     },
     "execution_count": 14,
     "metadata": {},
     "output_type": "execute_result"
    },
    {
     "data": {
      "image/png": "[encoded data removed]",
      "text/plain": [
       "<Figure size 640x480 with 2 Axes>"
      ]
     },
     "metadata": {},
     "output_type": "display_data"
    }
   ],
   "source": [
    "sns.heatmap(data.corr(), cmap='rainbow')"
   ]
  },
  {
   "cell_type": "markdown",
   "id": "440c8706",
   "metadata": {},
   "source": [
    "Two strong cases of correlation is evident - the first being *GDP and Percentage Expenditure* and the second being *Infant deaths and Under-Five deaths*. We will consider the former case to be our parameters in our Linear Regression model."
   ]
  },
  {
   "cell_type": "markdown",
   "id": "ad1a560f",
   "metadata": {},
   "source": [
    "### 1. Linear Regression"
   ]
  },
  {
   "cell_type": "markdown",
   "id": "f731b36a",
   "metadata": {},
   "source": [
    "We first make a copy of the data and then extract the GDP and Percentage Expenditure columns for analysis."
   ]
  },
  {
   "cell_type": "code",
   "execution_count": 15,
   "id": "cc2219b1",
   "metadata": {},
   "outputs": [],
   "source": [
    "linear_data = data.copy()"
   ]
  },
  {
   "cell_type": "code",
   "execution_count": 16,
   "id": "da616c0a",
   "metadata": {},
   "outputs": [
    {
     "data": {
      "text/plain": [
       "(1649,)"
      ]
     },
     "execution_count": 16,
     "metadata": {},
     "output_type": "execute_result"
    }
   ],
   "source": [
    "x = linear_data['GDP'].values\n",
    "x.shape"
   ]
  },
  {
   "cell_type": "code",
   "execution_count": 17,
   "id": "168ccaad",
   "metadata": {},
   "outputs": [
    {
     "data": {
      "text/plain": [
       "(1649,)"
      ]
     },
     "execution_count": 17,
     "metadata": {},
     "output_type": "execute_result"
    }
   ],
   "source": [
    "y = linear_data['Percentage expenditure'].values\n",
    "y.shape"
   ]
  },
  {
   "cell_type": "markdown",
   "id": "109dbae1",
   "metadata": {},
   "source": [
    "Seaborn offers a functionality wherein we can make a linear regression and visualize the fitted line:"
   ]
  },
  {
   "cell_type": "code",
   "execution_count": 18,
   "id": "ceec0249",
   "metadata": {},
   "outputs": [
    {
     "data": {
      "text/html": [
       "<div>\n",
       "<style scoped>\n",
       "    .dataframe tbody tr th:only-of-type {\n",
       "        vertical-align: middle;\n",
       "    }\n",
       "\n",
       "    .dataframe tbody tr th {\n",
       "        vertical-align: top;\n",
       "    }\n",
       "\n",
       "    .dataframe thead th {\n",
       "        text-align: right;\n",
       "    }\n",
       "</style>\n",
       "<table border=\"1\" class=\"dataframe\">\n",
       "  <thead>\n",
       "    <tr style=\"text-align: right;\">\n",
       "      <th></th>\n",
       "      <th>GDP</th>\n",
       "      <th>Percentage Expenditure</th>\n",
       "    </tr>\n",
       "  </thead>\n",
       "  <tbody>\n",
       "    <tr>\n",
       "      <th>0</th>\n",
       "      <td>584.259210</td>\n",
       "      <td>71.279624</td>\n",
       "    </tr>\n",
       "    <tr>\n",
       "      <th>1</th>\n",
       "      <td>612.696514</td>\n",
       "      <td>73.523582</td>\n",
       "    </tr>\n",
       "    <tr>\n",
       "      <th>2</th>\n",
       "      <td>631.744976</td>\n",
       "      <td>73.219243</td>\n",
       "    </tr>\n",
       "    <tr>\n",
       "      <th>3</th>\n",
       "      <td>669.959000</td>\n",
       "      <td>78.184215</td>\n",
       "    </tr>\n",
       "    <tr>\n",
       "      <th>4</th>\n",
       "      <td>63.537231</td>\n",
       "      <td>7.097109</td>\n",
       "    </tr>\n",
       "  </tbody>\n",
       "</table>\n",
       "</div>"
      ],
      "text/plain": [
       "          GDP  Percentage Expenditure\n",
       "0  584.259210               71.279624\n",
       "1  612.696514               73.523582\n",
       "2  631.744976               73.219243\n",
       "3  669.959000               78.184215\n",
       "4   63.537231                7.097109"
      ]
     },
     "execution_count": 18,
     "metadata": {},
     "output_type": "execute_result"
    }
   ],
   "source": [
    "lin_data = pd.DataFrame({'GDP': x, 'Percentage Expenditure': y})\n",
    "lin_data.head()"
   ]
  },
  {
   "cell_type": "code",
   "execution_count": 19,
   "id": "73750d9a",
   "metadata": {},
   "outputs": [
    {
     "data": {
      "text/plain": [
       "<seaborn.axisgrid.FacetGrid at 0x205def78370>"
      ]
     },
     "execution_count": 19,
     "metadata": {},
     "output_type": "execute_result"
    },
    {
     "data": {
      "image/png": "[encoded data removed]",
      "text/plain": [
       "<Figure size 500x500 with 1 Axes>"
      ]
     },
     "metadata": {},
     "output_type": "display_data"
    }
   ],
   "source": [
    "sns.lmplot(x='GDP', y='Percentage Expenditure', data=lin_data)"
   ]
  },
  {
   "cell_type": "markdown",
   "id": "d9d98fc0",
   "metadata": {},
   "source": [
    "Now, we take the longer route and actually implement the algorithm:"
   ]
  },
  {
   "cell_type": "code",
   "execution_count": 20,
   "id": "fc680983",
   "metadata": {},
   "outputs": [
    {
     "data": {
      "text/plain": [
       "{'copy_X': True,\n",
       " 'fit_intercept': True,\n",
       " 'n_jobs': None,\n",
       " 'normalize': 'deprecated',\n",
       " 'positive': False}"
      ]
     },
     "execution_count": 20,
     "metadata": {},
     "output_type": "execute_result"
    }
   ],
   "source": [
    "from sklearn.linear_model import LinearRegression\n",
    "lin_reg = LinearRegression()\n",
    "lin_reg.fit(x.reshape(-1,1),y.reshape(-1,1))\n",
    "lin_reg.get_params()"
   ]
  },
  {
   "cell_type": "markdown",
   "id": "6ced5c6c",
   "metadata": {},
   "source": [
    "The equation for the Linear regression is:\n",
    "\n",
    "$$ y = b_{0} + b_{1}x$$\n",
    "\n",
    "We can thus find the coefficient and the intercept:"
   ]
  },
  {
   "cell_type": "code",
   "execution_count": 21,
   "id": "d4be599c",
   "metadata": {},
   "outputs": [
    {
     "data": {
      "text/plain": [
       "array([[0.14705833]])"
      ]
     },
     "execution_count": 21,
     "metadata": {},
     "output_type": "execute_result"
    }
   ],
   "source": [
    "lin_reg.coef_"
   ]
  },
  {
   "cell_type": "code",
   "execution_count": 22,
   "id": "2ee67acf",
   "metadata": {},
   "outputs": [
    {
     "data": {
      "text/plain": [
       "array([-119.55778868])"
      ]
     },
     "execution_count": 22,
     "metadata": {},
     "output_type": "execute_result"
    }
   ],
   "source": [
    "lin_reg.intercept_"
   ]
  },
  {
   "cell_type": "markdown",
   "id": "8110b620",
   "metadata": {},
   "source": [
    "To make predictions, we can get an array of values ranging from the minimum to the maximum of the GDP and predict the corresponding values of Percentage Expenditure. Alternatively, we can also make predictions using the GDP itself.\n",
    "\n",
    "In both the cases, we find the accuracy of the model."
   ]
  },
  {
   "cell_type": "code",
   "execution_count": 23,
   "id": "d68a11b9",
   "metadata": {},
   "outputs": [],
   "source": [
    "predict_values = np.arange(min(lin_data['GDP']), max(lin_data['GDP'])).reshape(-1,1)"
   ]
  },
  {
   "cell_type": "code",
   "execution_count": 24,
   "id": "034088d6",
   "metadata": {},
   "outputs": [],
   "source": [
    "y_pred = lin_reg.predict(predict_values)"
   ]
  },
  {
   "cell_type": "markdown",
   "id": "cc3d64e4",
   "metadata": {},
   "source": [
    "We find the error between the actual and predicted values:"
   ]
  },
  {
   "cell_type": "code",
   "execution_count": 25,
   "id": "a29a874f",
   "metadata": {},
   "outputs": [
    {
     "data": {
      "text/html": [
       "<div>\n",
       "<style scoped>\n",
       "    .dataframe tbody tr th:only-of-type {\n",
       "        vertical-align: middle;\n",
       "    }\n",
       "\n",
       "    .dataframe tbody tr th {\n",
       "        vertical-align: top;\n",
       "    }\n",
       "\n",
       "    .dataframe thead th {\n",
       "        text-align: right;\n",
       "    }\n",
       "</style>\n",
       "<table border=\"1\" class=\"dataframe\">\n",
       "  <thead>\n",
       "    <tr style=\"text-align: right;\">\n",
       "      <th></th>\n",
       "      <th>Actual</th>\n",
       "      <th>Predicted</th>\n",
       "      <th>Error</th>\n",
       "    </tr>\n",
       "  </thead>\n",
       "  <tbody>\n",
       "    <tr>\n",
       "      <th>0</th>\n",
       "      <td>1.68135</td>\n",
       "      <td>-119.310532</td>\n",
       "      <td>120.991882</td>\n",
       "    </tr>\n",
       "    <tr>\n",
       "      <th>1</th>\n",
       "      <td>2.68135</td>\n",
       "      <td>-119.163474</td>\n",
       "      <td>121.844824</td>\n",
       "    </tr>\n",
       "    <tr>\n",
       "      <th>2</th>\n",
       "      <td>3.68135</td>\n",
       "      <td>-119.016416</td>\n",
       "      <td>122.697766</td>\n",
       "    </tr>\n",
       "    <tr>\n",
       "      <th>3</th>\n",
       "      <td>4.68135</td>\n",
       "      <td>-118.869357</td>\n",
       "      <td>123.550707</td>\n",
       "    </tr>\n",
       "    <tr>\n",
       "      <th>4</th>\n",
       "      <td>5.68135</td>\n",
       "      <td>-118.722299</td>\n",
       "      <td>124.403649</td>\n",
       "    </tr>\n",
       "  </tbody>\n",
       "</table>\n",
       "</div>"
      ],
      "text/plain": [
       "    Actual   Predicted       Error\n",
       "0  1.68135 -119.310532  120.991882\n",
       "1  2.68135 -119.163474  121.844824\n",
       "2  3.68135 -119.016416  122.697766\n",
       "3  4.68135 -118.869357  123.550707\n",
       "4  5.68135 -118.722299  124.403649"
      ]
     },
     "execution_count": 25,
     "metadata": {},
     "output_type": "execute_result"
    }
   ],
   "source": [
    "predict_df = pd.DataFrame({'Actual': predict_values.reshape(-1,), 'Predicted': y_pred.reshape(-1,)})\n",
    "predict_df['Error'] = abs(predict_values - y_pred)\n",
    "predict_df.head()"
   ]
  },
  {
   "cell_type": "code",
   "execution_count": 26,
   "id": "0833c67f",
   "metadata": {},
   "outputs": [
    {
     "data": {
      "image/png": "[encoded data removed]",
      "text/plain": [
       "<Figure size 640x480 with 1 Axes>"
      ]
     },
     "metadata": {},
     "output_type": "display_data"
    }
   ],
   "source": [
    "plt.scatter(x,y)\n",
    "plt.plot(predict_values, y_pred, '--r')\n",
    "plt.ylabel('Percentage Expenditure')\n",
    "plt.xlabel('GDP')\n",
    "plt.show()"
   ]
  },
  {
   "cell_type": "code",
   "execution_count": 27,
   "id": "7f796593",
   "metadata": {},
   "outputs": [
    {
     "name": "stdout",
     "output_type": "stream",
     "text": [
      "Mean Absolute Error:  50943.94783778521\n",
      "Mean Squared Error:  3456291221.6604424\n",
      "Mean Absolute Percentage Error:  0.8644735673571974\n",
      "Root Mean Squared Error:  58790.23066514063\n"
     ]
    }
   ],
   "source": [
    "from sklearn.metrics import (mean_absolute_error, mean_squared_error, \n",
    "                             mean_absolute_percentage_error, r2_score)\n",
    "\n",
    "print(\"Mean Absolute Error: \", mean_absolute_error(predict_values,y_pred))\n",
    "print(\"Mean Squared Error: \", mean_squared_error(predict_values,y_pred))\n",
    "print(\"Mean Absolute Percentage Error: \", \n",
    "      mean_absolute_percentage_error(predict_values, y_pred))\n",
    "print(\"Root Mean Squared Error: \", \n",
    "      np.sqrt(mean_squared_error(predict_values,y_pred)))"
   ]
  },
  {
   "cell_type": "markdown",
   "id": "743d406d",
   "metadata": {},
   "source": [
    "We see that the Mean Absolute Percentage Error an arbitrarily large value, which is possible if some of the actual values are very close to zero as opposed to the whole range of actual values, which in turn may be true in this case.\n",
    "\n",
    "Now, using the GDP values from the dataset, we can make predictions and calculate the accuracy score:"
   ]
  },
  {
   "cell_type": "code",
   "execution_count": 28,
   "id": "d8d47f64",
   "metadata": {},
   "outputs": [],
   "source": [
    "reg_predict = lin_reg.predict(x.reshape(-1,1))"
   ]
  },
  {
   "cell_type": "code",
   "execution_count": 29,
   "id": "be96c4dc",
   "metadata": {
    "scrolled": false
   },
   "outputs": [
    {
     "data": {
      "image/png": "[encoded data removed]",
      "text/plain": [
       "<Figure size 640x480 with 1 Axes>"
      ]
     },
     "metadata": {},
     "output_type": "display_data"
    }
   ],
   "source": [
    "plt.scatter(x,y)\n",
    "plt.plot(x, reg_predict, '--r')\n",
    "plt.ylabel('Percentage Expenditure')\n",
    "plt.xlabel('GDP')\n",
    "plt.show()"
   ]
  },
  {
   "cell_type": "code",
   "execution_count": 30,
   "id": "e2cacc4c",
   "metadata": {},
   "outputs": [
    {
     "name": "stdout",
     "output_type": "stream",
     "text": [
      "0.920254296978608\n"
     ]
    }
   ],
   "source": [
    "print(r2_score(y, reg_predict))"
   ]
  },
  {
   "cell_type": "markdown",
   "id": "f72a2050",
   "metadata": {},
   "source": [
    "The accuracy is about 92%."
   ]
  },
  {
   "cell_type": "markdown",
   "id": "a3c47c5d",
   "metadata": {},
   "source": [
    "But what if we split the dataset? Would it result in a higher or a lower accuracy? Let us split the dataset into testing and training sets and perform the Linear Regression:"
   ]
  },
  {
   "cell_type": "code",
   "execution_count": 31,
   "id": "860c22f5",
   "metadata": {},
   "outputs": [
    {
     "data": {
      "text/plain": [
       "(1649, 2)"
      ]
     },
     "execution_count": 31,
     "metadata": {},
     "output_type": "execute_result"
    }
   ],
   "source": [
    "lin_data.shape"
   ]
  },
  {
   "cell_type": "code",
   "execution_count": 32,
   "id": "90388f60",
   "metadata": {},
   "outputs": [],
   "source": [
    "x = lin_data['GDP'].values.reshape(-1,1)\n",
    "y = lin_data['Percentage Expenditure'].values"
   ]
  },
  {
   "cell_type": "code",
   "execution_count": 33,
   "id": "d09426b0",
   "metadata": {},
   "outputs": [],
   "source": [
    "from sklearn.model_selection import train_test_split\n",
    "x_train, x_test, y_train, y_test = train_test_split(x, y, random_state=42, \n",
    "                                                    test_size=0.2)"
   ]
  },
  {
   "cell_type": "code",
   "execution_count": 34,
   "id": "acb0473e",
   "metadata": {},
   "outputs": [
    {
     "data": {
      "text/plain": [
       "{'copy_X': True,\n",
       " 'fit_intercept': True,\n",
       " 'n_jobs': None,\n",
       " 'normalize': 'deprecated',\n",
       " 'positive': False}"
      ]
     },
     "execution_count": 34,
     "metadata": {},
     "output_type": "execute_result"
    }
   ],
   "source": [
    "lin_reg = LinearRegression()\n",
    "lin_reg.fit(x,y)\n",
    "lin_reg.get_params()"
   ]
  },
  {
   "cell_type": "code",
   "execution_count": 35,
   "id": "9f47f673",
   "metadata": {},
   "outputs": [
    {
     "data": {
      "text/plain": [
       "array([0.14705833])"
      ]
     },
     "execution_count": 35,
     "metadata": {},
     "output_type": "execute_result"
    }
   ],
   "source": [
    "lin_reg.coef_"
   ]
  },
  {
   "cell_type": "code",
   "execution_count": 36,
   "id": "6847673e",
   "metadata": {},
   "outputs": [
    {
     "data": {
      "text/plain": [
       "-119.55778868122195"
      ]
     },
     "execution_count": 36,
     "metadata": {},
     "output_type": "execute_result"
    }
   ],
   "source": [
    "lin_reg.intercept_"
   ]
  },
  {
   "cell_type": "code",
   "execution_count": 37,
   "id": "f9cd3967",
   "metadata": {},
   "outputs": [],
   "source": [
    "y_pred = lin_reg.predict(x_test)"
   ]
  },
  {
   "cell_type": "code",
   "execution_count": 38,
   "id": "d828ac9b",
   "metadata": {},
   "outputs": [
    {
     "data": {
      "image/png": "[encoded data removed]",
      "text/plain": [
       "<Figure size 640x480 with 1 Axes>"
      ]
     },
     "metadata": {},
     "output_type": "display_data"
    }
   ],
   "source": [
    "plt.scatter(x_train, y_train, label='Training Data')\n",
    "plt.scatter(x_test, y_test, label='True values')\n",
    "plt.scatter(x_test, y_pred, label='Predicted values', color='k')\n",
    "plt.plot(x_test, y_pred, label='Prediction Line', color='r')\n",
    "plt.xlabel('GDP', fontsize=12)\n",
    "plt.ylabel('Percentage Expenditure', fontsize=12)\n",
    "plt.title('Test/Predicted Data on Training Set', fontstyle='oblique')\n",
    "plt.legend()\n",
    "plt.show()"
   ]
  },
  {
   "cell_type": "code",
   "execution_count": 39,
   "id": "76bd1dc4",
   "metadata": {
    "scrolled": false
   },
   "outputs": [
    {
     "data": {
      "text/html": [
       "<div>\n",
       "<style scoped>\n",
       "    .dataframe tbody tr th:only-of-type {\n",
       "        vertical-align: middle;\n",
       "    }\n",
       "\n",
       "    .dataframe tbody tr th {\n",
       "        vertical-align: top;\n",
       "    }\n",
       "\n",
       "    .dataframe thead th {\n",
       "        text-align: right;\n",
       "    }\n",
       "</style>\n",
       "<table border=\"1\" class=\"dataframe\">\n",
       "  <thead>\n",
       "    <tr style=\"text-align: right;\">\n",
       "      <th></th>\n",
       "      <th>Actual value</th>\n",
       "      <th>Predicted value</th>\n",
       "      <th>Error</th>\n",
       "    </tr>\n",
       "  </thead>\n",
       "  <tbody>\n",
       "    <tr>\n",
       "      <th>0</th>\n",
       "      <td>102.633435</td>\n",
       "      <td>153.373521</td>\n",
       "      <td>50.740086</td>\n",
       "    </tr>\n",
       "    <tr>\n",
       "      <th>1</th>\n",
       "      <td>772.870035</td>\n",
       "      <td>683.104469</td>\n",
       "      <td>89.765566</td>\n",
       "    </tr>\n",
       "    <tr>\n",
       "      <th>2</th>\n",
       "      <td>5842.374765</td>\n",
       "      <td>4904.827408</td>\n",
       "      <td>937.547357</td>\n",
       "    </tr>\n",
       "    <tr>\n",
       "      <th>3</th>\n",
       "      <td>63.750530</td>\n",
       "      <td>3.960610</td>\n",
       "      <td>59.789921</td>\n",
       "    </tr>\n",
       "    <tr>\n",
       "      <th>4</th>\n",
       "      <td>40.451569</td>\n",
       "      <td>-53.387153</td>\n",
       "      <td>93.838722</td>\n",
       "    </tr>\n",
       "  </tbody>\n",
       "</table>\n",
       "</div>"
      ],
      "text/plain": [
       "   Actual value  Predicted value       Error\n",
       "0    102.633435       153.373521   50.740086\n",
       "1    772.870035       683.104469   89.765566\n",
       "2   5842.374765      4904.827408  937.547357\n",
       "3     63.750530         3.960610   59.789921\n",
       "4     40.451569       -53.387153   93.838722"
      ]
     },
     "execution_count": 39,
     "metadata": {},
     "output_type": "execute_result"
    }
   ],
   "source": [
    "Error_df = pd.DataFrame({'Actual value': y_test, 'Predicted value': y_pred})\n",
    "Error_df['Error'] = abs(y_test - y_pred)\n",
    "Error_df.head()"
   ]
  },
  {
   "cell_type": "code",
   "execution_count": 40,
   "id": "132c319b",
   "metadata": {},
   "outputs": [
    {
     "name": "stdout",
     "output_type": "stream",
     "text": [
      "Mean Absolute Error:  246.2953387517984\n",
      "Mean Squared Error:  308225.2058095567\n",
      "Mean Absolute Percentage Error:  5.178712978992068\n",
      "Root Mean Squared Error:  555.1803362958352\n"
     ]
    }
   ],
   "source": [
    "print(\"Mean Absolute Error: \", mean_absolute_error(y_test,y_pred))\n",
    "print(\"Mean Squared Error: \", mean_squared_error(y_test,y_pred))\n",
    "print(\"Mean Absolute Percentage Error: \", \n",
    "      mean_absolute_percentage_error(y_test, y_pred))\n",
    "print(\"Root Mean Squared Error: \", \n",
    "      np.sqrt(mean_squared_error(y_test,y_pred)))"
   ]
  },
  {
   "cell_type": "code",
   "execution_count": 41,
   "id": "55776a6e",
   "metadata": {},
   "outputs": [
    {
     "data": {
      "text/plain": [
       "0.8208418207351665"
      ]
     },
     "execution_count": 41,
     "metadata": {},
     "output_type": "execute_result"
    }
   ],
   "source": [
    "r2_score(y_test, y_pred)"
   ]
  },
  {
   "cell_type": "markdown",
   "id": "d57a0d3d",
   "metadata": {},
   "source": [
    "We find that the accuracy has reduced by 10% from the unsplitted dataset to 82%."
   ]
  },
  {
   "cell_type": "markdown",
   "id": "3a274fe5",
   "metadata": {},
   "source": [
    "### 2. Multiple Linear Regression"
   ]
  },
  {
   "cell_type": "code",
   "execution_count": 42,
   "id": "6c60bb71",
   "metadata": {},
   "outputs": [
    {
     "data": {
      "text/html": [
       "<div>\n",
       "<style scoped>\n",
       "    .dataframe tbody tr th:only-of-type {\n",
       "        vertical-align: middle;\n",
       "    }\n",
       "\n",
       "    .dataframe tbody tr th {\n",
       "        vertical-align: top;\n",
       "    }\n",
       "\n",
       "    .dataframe thead th {\n",
       "        text-align: right;\n",
       "    }\n",
       "</style>\n",
       "<table border=\"1\" class=\"dataframe\">\n",
       "  <thead>\n",
       "    <tr style=\"text-align: right;\">\n",
       "      <th></th>\n",
       "      <th>Country</th>\n",
       "      <th>Year</th>\n",
       "      <th>Status</th>\n",
       "      <th>Life expectancy</th>\n",
       "      <th>Adult Mortality</th>\n",
       "      <th>Infant deaths</th>\n",
       "      <th>Alcohol</th>\n",
       "      <th>Percentage expenditure</th>\n",
       "      <th>Hepatitis B</th>\n",
       "      <th>Measles</th>\n",
       "      <th>BMI</th>\n",
       "      <th>Under-Five deaths</th>\n",
       "      <th>Polio</th>\n",
       "      <th>Total expenditure</th>\n",
       "      <th>Diphtheria</th>\n",
       "      <th>HIV/AIDS</th>\n",
       "      <th>GDP</th>\n",
       "      <th>Population</th>\n",
       "      <th>Thinness ages 1-19</th>\n",
       "      <th>Thinness ages 5-9</th>\n",
       "      <th>Income composition of resources</th>\n",
       "      <th>Schooling</th>\n",
       "    </tr>\n",
       "  </thead>\n",
       "  <tbody>\n",
       "    <tr>\n",
       "      <th>0</th>\n",
       "      <td>Afghanistan</td>\n",
       "      <td>2015</td>\n",
       "      <td>0</td>\n",
       "      <td>65.0</td>\n",
       "      <td>263.0</td>\n",
       "      <td>62</td>\n",
       "      <td>0.01</td>\n",
       "      <td>71.279624</td>\n",
       "      <td>65.0</td>\n",
       "      <td>1154</td>\n",
       "      <td>19.1</td>\n",
       "      <td>83</td>\n",
       "      <td>6.0</td>\n",
       "      <td>8.16</td>\n",
       "      <td>65.0</td>\n",
       "      <td>0.1</td>\n",
       "      <td>584.259210</td>\n",
       "      <td>33736494.0</td>\n",
       "      <td>17.2</td>\n",
       "      <td>17.3</td>\n",
       "      <td>0.479</td>\n",
       "      <td>10.1</td>\n",
       "    </tr>\n",
       "    <tr>\n",
       "      <th>1</th>\n",
       "      <td>Afghanistan</td>\n",
       "      <td>2014</td>\n",
       "      <td>0</td>\n",
       "      <td>59.9</td>\n",
       "      <td>271.0</td>\n",
       "      <td>64</td>\n",
       "      <td>0.01</td>\n",
       "      <td>73.523582</td>\n",
       "      <td>62.0</td>\n",
       "      <td>492</td>\n",
       "      <td>18.6</td>\n",
       "      <td>86</td>\n",
       "      <td>58.0</td>\n",
       "      <td>8.18</td>\n",
       "      <td>62.0</td>\n",
       "      <td>0.1</td>\n",
       "      <td>612.696514</td>\n",
       "      <td>327582.0</td>\n",
       "      <td>17.5</td>\n",
       "      <td>17.5</td>\n",
       "      <td>0.476</td>\n",
       "      <td>10.0</td>\n",
       "    </tr>\n",
       "    <tr>\n",
       "      <th>2</th>\n",
       "      <td>Afghanistan</td>\n",
       "      <td>2013</td>\n",
       "      <td>0</td>\n",
       "      <td>59.9</td>\n",
       "      <td>268.0</td>\n",
       "      <td>66</td>\n",
       "      <td>0.01</td>\n",
       "      <td>73.219243</td>\n",
       "      <td>64.0</td>\n",
       "      <td>430</td>\n",
       "      <td>18.1</td>\n",
       "      <td>89</td>\n",
       "      <td>62.0</td>\n",
       "      <td>8.13</td>\n",
       "      <td>64.0</td>\n",
       "      <td>0.1</td>\n",
       "      <td>631.744976</td>\n",
       "      <td>31731688.0</td>\n",
       "      <td>17.7</td>\n",
       "      <td>17.7</td>\n",
       "      <td>0.470</td>\n",
       "      <td>9.9</td>\n",
       "    </tr>\n",
       "    <tr>\n",
       "      <th>3</th>\n",
       "      <td>Afghanistan</td>\n",
       "      <td>2012</td>\n",
       "      <td>0</td>\n",
       "      <td>59.5</td>\n",
       "      <td>272.0</td>\n",
       "      <td>69</td>\n",
       "      <td>0.01</td>\n",
       "      <td>78.184215</td>\n",
       "      <td>67.0</td>\n",
       "      <td>2787</td>\n",
       "      <td>17.6</td>\n",
       "      <td>93</td>\n",
       "      <td>67.0</td>\n",
       "      <td>8.52</td>\n",
       "      <td>67.0</td>\n",
       "      <td>0.1</td>\n",
       "      <td>669.959000</td>\n",
       "      <td>3696958.0</td>\n",
       "      <td>17.9</td>\n",
       "      <td>18.0</td>\n",
       "      <td>0.463</td>\n",
       "      <td>9.8</td>\n",
       "    </tr>\n",
       "    <tr>\n",
       "      <th>4</th>\n",
       "      <td>Afghanistan</td>\n",
       "      <td>2011</td>\n",
       "      <td>0</td>\n",
       "      <td>59.2</td>\n",
       "      <td>275.0</td>\n",
       "      <td>71</td>\n",
       "      <td>0.01</td>\n",
       "      <td>7.097109</td>\n",
       "      <td>68.0</td>\n",
       "      <td>3013</td>\n",
       "      <td>17.2</td>\n",
       "      <td>97</td>\n",
       "      <td>68.0</td>\n",
       "      <td>7.87</td>\n",
       "      <td>68.0</td>\n",
       "      <td>0.1</td>\n",
       "      <td>63.537231</td>\n",
       "      <td>2978599.0</td>\n",
       "      <td>18.2</td>\n",
       "      <td>18.2</td>\n",
       "      <td>0.454</td>\n",
       "      <td>9.5</td>\n",
       "    </tr>\n",
       "  </tbody>\n",
       "</table>\n",
       "</div>"
      ],
      "text/plain": [
       "       Country  Year  Status  Life expectancy  Adult Mortality  Infant deaths  \\\n",
       "0  Afghanistan  2015       0             65.0            263.0             62   \n",
       "1  Afghanistan  2014       0             59.9            271.0             64   \n",
       "2  Afghanistan  2013       0             59.9            268.0             66   \n",
       "3  Afghanistan  2012       0             59.5            272.0             69   \n",
       "4  Afghanistan  2011       0             59.2            275.0             71   \n",
       "\n",
       "   Alcohol  Percentage expenditure  Hepatitis B  Measles   BMI  \\\n",
       "0     0.01               71.279624         65.0     1154  19.1   \n",
       "1     0.01               73.523582         62.0      492  18.6   \n",
       "2     0.01               73.219243         64.0      430  18.1   \n",
       "3     0.01               78.184215         67.0     2787  17.6   \n",
       "4     0.01                7.097109         68.0     3013  17.2   \n",
       "\n",
       "   Under-Five deaths  Polio  Total expenditure  Diphtheria  HIV/AIDS  \\\n",
       "0                 83    6.0               8.16        65.0       0.1   \n",
       "1                 86   58.0               8.18        62.0       0.1   \n",
       "2                 89   62.0               8.13        64.0       0.1   \n",
       "3                 93   67.0               8.52        67.0       0.1   \n",
       "4                 97   68.0               7.87        68.0       0.1   \n",
       "\n",
       "          GDP  Population  Thinness ages 1-19  Thinness ages 5-9  \\\n",
       "0  584.259210  33736494.0                17.2               17.3   \n",
       "1  612.696514    327582.0                17.5               17.5   \n",
       "2  631.744976  31731688.0                17.7               17.7   \n",
       "3  669.959000   3696958.0                17.9               18.0   \n",
       "4   63.537231   2978599.0                18.2               18.2   \n",
       "\n",
       "   Income composition of resources  Schooling  \n",
       "0                            0.479       10.1  \n",
       "1                            0.476       10.0  \n",
       "2                            0.470        9.9  \n",
       "3                            0.463        9.8  \n",
       "4                            0.454        9.5  "
      ]
     },
     "execution_count": 42,
     "metadata": {},
     "output_type": "execute_result"
    }
   ],
   "source": [
    "multilinear_data = data.copy()\n",
    "multilinear_data.head()"
   ]
  },
  {
   "cell_type": "markdown",
   "id": "4dde3a09",
   "metadata": {},
   "source": [
    "There is no use label encoding the country in this scenario, so we just choose to drop it:"
   ]
  },
  {
   "cell_type": "code",
   "execution_count": 43,
   "id": "0051d711",
   "metadata": {},
   "outputs": [
    {
     "data": {
      "text/html": [
       "<div>\n",
       "<style scoped>\n",
       "    .dataframe tbody tr th:only-of-type {\n",
       "        vertical-align: middle;\n",
       "    }\n",
       "\n",
       "    .dataframe tbody tr th {\n",
       "        vertical-align: top;\n",
       "    }\n",
       "\n",
       "    .dataframe thead th {\n",
       "        text-align: right;\n",
       "    }\n",
       "</style>\n",
       "<table border=\"1\" class=\"dataframe\">\n",
       "  <thead>\n",
       "    <tr style=\"text-align: right;\">\n",
       "      <th></th>\n",
       "      <th>Year</th>\n",
       "      <th>Status</th>\n",
       "      <th>Life expectancy</th>\n",
       "      <th>Adult Mortality</th>\n",
       "      <th>Infant deaths</th>\n",
       "      <th>Alcohol</th>\n",
       "      <th>Percentage expenditure</th>\n",
       "      <th>Hepatitis B</th>\n",
       "      <th>Measles</th>\n",
       "      <th>BMI</th>\n",
       "      <th>Under-Five deaths</th>\n",
       "      <th>Polio</th>\n",
       "      <th>Total expenditure</th>\n",
       "      <th>Diphtheria</th>\n",
       "      <th>HIV/AIDS</th>\n",
       "      <th>GDP</th>\n",
       "      <th>Population</th>\n",
       "      <th>Thinness ages 1-19</th>\n",
       "      <th>Thinness ages 5-9</th>\n",
       "      <th>Income composition of resources</th>\n",
       "      <th>Schooling</th>\n",
       "    </tr>\n",
       "  </thead>\n",
       "  <tbody>\n",
       "    <tr>\n",
       "      <th>0</th>\n",
       "      <td>2015</td>\n",
       "      <td>0</td>\n",
       "      <td>65.0</td>\n",
       "      <td>263.0</td>\n",
       "      <td>62</td>\n",
       "      <td>0.01</td>\n",
       "      <td>71.279624</td>\n",
       "      <td>65.0</td>\n",
       "      <td>1154</td>\n",
       "      <td>19.1</td>\n",
       "      <td>83</td>\n",
       "      <td>6.0</td>\n",
       "      <td>8.16</td>\n",
       "      <td>65.0</td>\n",
       "      <td>0.1</td>\n",
       "      <td>584.259210</td>\n",
       "      <td>33736494.0</td>\n",
       "      <td>17.2</td>\n",
       "      <td>17.3</td>\n",
       "      <td>0.479</td>\n",
       "      <td>10.1</td>\n",
       "    </tr>\n",
       "    <tr>\n",
       "      <th>1</th>\n",
       "      <td>2014</td>\n",
       "      <td>0</td>\n",
       "      <td>59.9</td>\n",
       "      <td>271.0</td>\n",
       "      <td>64</td>\n",
       "      <td>0.01</td>\n",
       "      <td>73.523582</td>\n",
       "      <td>62.0</td>\n",
       "      <td>492</td>\n",
       "      <td>18.6</td>\n",
       "      <td>86</td>\n",
       "      <td>58.0</td>\n",
       "      <td>8.18</td>\n",
       "      <td>62.0</td>\n",
       "      <td>0.1</td>\n",
       "      <td>612.696514</td>\n",
       "      <td>327582.0</td>\n",
       "      <td>17.5</td>\n",
       "      <td>17.5</td>\n",
       "      <td>0.476</td>\n",
       "      <td>10.0</td>\n",
       "    </tr>\n",
       "    <tr>\n",
       "      <th>2</th>\n",
       "      <td>2013</td>\n",
       "      <td>0</td>\n",
       "      <td>59.9</td>\n",
       "      <td>268.0</td>\n",
       "      <td>66</td>\n",
       "      <td>0.01</td>\n",
       "      <td>73.219243</td>\n",
       "      <td>64.0</td>\n",
       "      <td>430</td>\n",
       "      <td>18.1</td>\n",
       "      <td>89</td>\n",
       "      <td>62.0</td>\n",
       "      <td>8.13</td>\n",
       "      <td>64.0</td>\n",
       "      <td>0.1</td>\n",
       "      <td>631.744976</td>\n",
       "      <td>31731688.0</td>\n",
       "      <td>17.7</td>\n",
       "      <td>17.7</td>\n",
       "      <td>0.470</td>\n",
       "      <td>9.9</td>\n",
       "    </tr>\n",
       "    <tr>\n",
       "      <th>3</th>\n",
       "      <td>2012</td>\n",
       "      <td>0</td>\n",
       "      <td>59.5</td>\n",
       "      <td>272.0</td>\n",
       "      <td>69</td>\n",
       "      <td>0.01</td>\n",
       "      <td>78.184215</td>\n",
       "      <td>67.0</td>\n",
       "      <td>2787</td>\n",
       "      <td>17.6</td>\n",
       "      <td>93</td>\n",
       "      <td>67.0</td>\n",
       "      <td>8.52</td>\n",
       "      <td>67.0</td>\n",
       "      <td>0.1</td>\n",
       "      <td>669.959000</td>\n",
       "      <td>3696958.0</td>\n",
       "      <td>17.9</td>\n",
       "      <td>18.0</td>\n",
       "      <td>0.463</td>\n",
       "      <td>9.8</td>\n",
       "    </tr>\n",
       "    <tr>\n",
       "      <th>4</th>\n",
       "      <td>2011</td>\n",
       "      <td>0</td>\n",
       "      <td>59.2</td>\n",
       "      <td>275.0</td>\n",
       "      <td>71</td>\n",
       "      <td>0.01</td>\n",
       "      <td>7.097109</td>\n",
       "      <td>68.0</td>\n",
       "      <td>3013</td>\n",
       "      <td>17.2</td>\n",
       "      <td>97</td>\n",
       "      <td>68.0</td>\n",
       "      <td>7.87</td>\n",
       "      <td>68.0</td>\n",
       "      <td>0.1</td>\n",
       "      <td>63.537231</td>\n",
       "      <td>2978599.0</td>\n",
       "      <td>18.2</td>\n",
       "      <td>18.2</td>\n",
       "      <td>0.454</td>\n",
       "      <td>9.5</td>\n",
       "    </tr>\n",
       "  </tbody>\n",
       "</table>\n",
       "</div>"
      ],
      "text/plain": [
       "   Year  Status  Life expectancy  Adult Mortality  Infant deaths  Alcohol  \\\n",
       "0  2015       0             65.0            263.0             62     0.01   \n",
       "1  2014       0             59.9            271.0             64     0.01   \n",
       "2  2013       0             59.9            268.0             66     0.01   \n",
       "3  2012       0             59.5            272.0             69     0.01   \n",
       "4  2011       0             59.2            275.0             71     0.01   \n",
       "\n",
       "   Percentage expenditure  Hepatitis B  Measles   BMI  Under-Five deaths  \\\n",
       "0               71.279624         65.0     1154  19.1                 83   \n",
       "1               73.523582         62.0      492  18.6                 86   \n",
       "2               73.219243         64.0      430  18.1                 89   \n",
       "3               78.184215         67.0     2787  17.6                 93   \n",
       "4                7.097109         68.0     3013  17.2                 97   \n",
       "\n",
       "   Polio  Total expenditure  Diphtheria  HIV/AIDS         GDP  Population  \\\n",
       "0    6.0               8.16        65.0       0.1  584.259210  33736494.0   \n",
       "1   58.0               8.18        62.0       0.1  612.696514    327582.0   \n",
       "2   62.0               8.13        64.0       0.1  631.744976  31731688.0   \n",
       "3   67.0               8.52        67.0       0.1  669.959000   3696958.0   \n",
       "4   68.0               7.87        68.0       0.1   63.537231   2978599.0   \n",
       "\n",
       "   Thinness ages 1-19  Thinness ages 5-9  Income composition of resources  \\\n",
       "0                17.2               17.3                            0.479   \n",
       "1                17.5               17.5                            0.476   \n",
       "2                17.7               17.7                            0.470   \n",
       "3                17.9               18.0                            0.463   \n",
       "4                18.2               18.2                            0.454   \n",
       "\n",
       "   Schooling  \n",
       "0       10.1  \n",
       "1       10.0  \n",
       "2        9.9  \n",
       "3        9.8  \n",
       "4        9.5  "
      ]
     },
     "execution_count": 43,
     "metadata": {},
     "output_type": "execute_result"
    }
   ],
   "source": [
    "multilinear_data.drop('Country', axis=1, inplace=True)\n",
    "multilinear_data.head()"
   ]
  },
  {
   "cell_type": "markdown",
   "id": "4f5cd345",
   "metadata": {},
   "source": [
    "Let's look at the heatmap once again:"
   ]
  },
  {
   "cell_type": "code",
   "execution_count": 44,
   "id": "796cee90",
   "metadata": {},
   "outputs": [
    {
     "data": {
      "text/plain": [
       "<AxesSubplot:>"
      ]
     },
     "execution_count": 44,
     "metadata": {},
     "output_type": "execute_result"
    },
    {
     "data": {
      "image/png": "[encoded data removed]",
      "text/plain": [
       "<Figure size 640x480 with 2 Axes>"
      ]
     },
     "metadata": {},
     "output_type": "display_data"
    }
   ],
   "source": [
    "sns.heatmap(multilinear_data.corr(), cmap='rainbow')"
   ]
  },
  {
   "cell_type": "markdown",
   "id": "15e89d97",
   "metadata": {},
   "source": [
    "We find that the Percentage expenditure has some degree of correlation with GDP, Income composition of resources, Schooling and Status, We choose these to be our independent variables:"
   ]
  },
  {
   "cell_type": "code",
   "execution_count": 45,
   "id": "b1944b6e",
   "metadata": {},
   "outputs": [],
   "source": [
    "# Independent variables\n",
    "x = multilinear_data.iloc[:, [1, -1, -2, -6]].values"
   ]
  },
  {
   "cell_type": "code",
   "execution_count": 46,
   "id": "54f1c732",
   "metadata": {},
   "outputs": [],
   "source": [
    "# Dependent variable\n",
    "y = multilinear_data['Percentage expenditure'].values"
   ]
  },
  {
   "cell_type": "code",
   "execution_count": 47,
   "id": "62a1918b",
   "metadata": {},
   "outputs": [
    {
     "data": {
      "text/plain": [
       "(1649,)"
      ]
     },
     "execution_count": 47,
     "metadata": {},
     "output_type": "execute_result"
    }
   ],
   "source": [
    "y.shape"
   ]
  },
  {
   "cell_type": "markdown",
   "id": "47f77eaa",
   "metadata": {},
   "source": [
    "We split the dataset and perform the multiple linear regression:"
   ]
  },
  {
   "cell_type": "code",
   "execution_count": 48,
   "id": "bb67a344",
   "metadata": {},
   "outputs": [
    {
     "data": {
      "text/plain": [
       "{'copy_X': True,\n",
       " 'fit_intercept': True,\n",
       " 'n_jobs': None,\n",
       " 'normalize': 'deprecated',\n",
       " 'positive': False}"
      ]
     },
     "execution_count": 48,
     "metadata": {},
     "output_type": "execute_result"
    }
   ],
   "source": [
    "x_train, x_test, y_train, y_test = train_test_split(x, y, test_size = 0.20, random_state= 42)\n",
    "multi_reg = LinearRegression()\n",
    "multi_reg.fit(x_train,y_train)\n",
    "multi_reg.get_params()"
   ]
  },
  {
   "cell_type": "code",
   "execution_count": 49,
   "id": "34562764",
   "metadata": {},
   "outputs": [
    {
     "data": {
      "text/plain": [
       "array([ 113.59824094,  -21.07773433, -119.09075958,    0.15102934])"
      ]
     },
     "execution_count": 49,
     "metadata": {},
     "output_type": "execute_result"
    }
   ],
   "source": [
    "multi_reg.coef_"
   ]
  },
  {
   "cell_type": "code",
   "execution_count": 50,
   "id": "6e50b050",
   "metadata": {},
   "outputs": [
    {
     "data": {
      "text/plain": [
       "186.40916523324904"
      ]
     },
     "execution_count": 50,
     "metadata": {},
     "output_type": "execute_result"
    }
   ],
   "source": [
    "multi_reg.intercept_"
   ]
  },
  {
   "cell_type": "code",
   "execution_count": 51,
   "id": "32f51c57",
   "metadata": {},
   "outputs": [],
   "source": [
    "y_pred = multi_reg.predict(x_test)"
   ]
  },
  {
   "cell_type": "code",
   "execution_count": 52,
   "id": "fb33bbc6",
   "metadata": {},
   "outputs": [
    {
     "data": {
      "text/html": [
       "<div>\n",
       "<style scoped>\n",
       "    .dataframe tbody tr th:only-of-type {\n",
       "        vertical-align: middle;\n",
       "    }\n",
       "\n",
       "    .dataframe tbody tr th {\n",
       "        vertical-align: top;\n",
       "    }\n",
       "\n",
       "    .dataframe thead th {\n",
       "        text-align: right;\n",
       "    }\n",
       "</style>\n",
       "<table border=\"1\" class=\"dataframe\">\n",
       "  <thead>\n",
       "    <tr style=\"text-align: right;\">\n",
       "      <th></th>\n",
       "      <th>Actual value</th>\n",
       "      <th>Predicted value</th>\n",
       "      <th>Error</th>\n",
       "    </tr>\n",
       "  </thead>\n",
       "  <tbody>\n",
       "    <tr>\n",
       "      <th>0</th>\n",
       "      <td>102.633435</td>\n",
       "      <td>158.875444</td>\n",
       "      <td>56.242009</td>\n",
       "    </tr>\n",
       "    <tr>\n",
       "      <th>1</th>\n",
       "      <td>772.870035</td>\n",
       "      <td>637.711826</td>\n",
       "      <td>135.158210</td>\n",
       "    </tr>\n",
       "    <tr>\n",
       "      <th>2</th>\n",
       "      <td>5842.374765</td>\n",
       "      <td>5009.948396</td>\n",
       "      <td>832.426369</td>\n",
       "    </tr>\n",
       "    <tr>\n",
       "      <th>3</th>\n",
       "      <td>63.750530</td>\n",
       "      <td>46.548785</td>\n",
       "      <td>17.201745</td>\n",
       "    </tr>\n",
       "    <tr>\n",
       "      <th>4</th>\n",
       "      <td>40.451569</td>\n",
       "      <td>78.382792</td>\n",
       "      <td>37.931223</td>\n",
       "    </tr>\n",
       "  </tbody>\n",
       "</table>\n",
       "</div>"
      ],
      "text/plain": [
       "   Actual value  Predicted value       Error\n",
       "0    102.633435       158.875444   56.242009\n",
       "1    772.870035       637.711826  135.158210\n",
       "2   5842.374765      5009.948396  832.426369\n",
       "3     63.750530        46.548785   17.201745\n",
       "4     40.451569        78.382792   37.931223"
      ]
     },
     "execution_count": 52,
     "metadata": {},
     "output_type": "execute_result"
    }
   ],
   "source": [
    "Error_df = pd.DataFrame({'Actual value': y_test, 'Predicted value': y_pred})\n",
    "Error_df['Error'] = abs(y_test - y_pred)\n",
    "Error_df.head()"
   ]
  },
  {
   "cell_type": "code",
   "execution_count": 53,
   "id": "7cb9ef16",
   "metadata": {},
   "outputs": [
    {
     "name": "stdout",
     "output_type": "stream",
     "text": [
      "Mean Absolute Error:  241.9818344399896\n",
      "Mean Squared Error:  317773.70158044965\n",
      "Mean Absolute Percentage Error:  3.6880333180118767\n",
      "Root Mean Squared Error:  563.714202038985\n",
      "Score on training:  0.9340866682195273\n",
      "Score of the model:  0.8152916869862475\n"
     ]
    }
   ],
   "source": [
    "print(\"Mean Absolute Error: \", mean_absolute_error(y_test,y_pred))\n",
    "print(\"Mean Squared Error: \", mean_squared_error(y_test,y_pred))\n",
    "print(\"Mean Absolute Percentage Error: \", \n",
    "      mean_absolute_percentage_error(y_test, y_pred))\n",
    "print(\"Root Mean Squared Error: \", \n",
    "      np.sqrt(mean_squared_error(y_test,y_pred)))\n",
    "print('Score on training: ', multi_reg.score(x_train, y_train))\n",
    "print('Score of the model: ', r2_score(y_test, y_pred))"
   ]
  },
  {
   "cell_type": "markdown",
   "id": "92d5aeb6",
   "metadata": {},
   "source": [
    "We find that the model performs well on training, but not so much on testing. This may perhaps mean that the model is overfitting to some extent. The model is 81% accurate."
   ]
  },
  {
   "cell_type": "markdown",
   "id": "3adc61b8",
   "metadata": {},
   "source": [
    "### 3. Polynomial Regression"
   ]
  },
  {
   "cell_type": "markdown",
   "id": "35bd9e80",
   "metadata": {},
   "source": [
    "We fit the 3rd and 5th degree polynomial regression to the data:"
   ]
  },
  {
   "cell_type": "code",
   "execution_count": 54,
   "id": "d8ca4df4",
   "metadata": {},
   "outputs": [],
   "source": [
    "from sklearn.preprocessing import PolynomialFeatures\n",
    "poly_reg_deg03 = PolynomialFeatures(degree = 3)\n",
    "poly_reg_deg03.fit(x_train)\n",
    "x_train_deg03 = poly_reg_deg03.transform(x_train)\n",
    "x_test_deg03 = poly_reg_deg03.transform(x_test)\n",
    "poly_linear_deg03 = LinearRegression()\n",
    "poly_linear_deg03.fit(x_train_deg03, y_train)\n",
    "y_pred_poly_deg03 = poly_linear_deg03.predict(x_test_deg03)"
   ]
  },
  {
   "cell_type": "code",
   "execution_count": 55,
   "id": "1264f734",
   "metadata": {
    "scrolled": true
   },
   "outputs": [
    {
     "name": "stdout",
     "output_type": "stream",
     "text": [
      "Mean Squared Error Polynomial 03rd degree:  290080.05379594694\n",
      "Mean Absolute Percentage Error Polynomial 03rd degree:  2.674666036592809\n",
      "RMS Error Polynomial 03rd degree:  538.5908036681901\n",
      "Score of the model:  0.8313888244712937\n"
     ]
    }
   ],
   "source": [
    "print('Mean Squared Error Polynomial 03rd degree: ', mean_squared_error(y_test, y_pred_poly_deg03))\n",
    "print('Mean Absolute Percentage Error Polynomial 03rd degree: ', mean_absolute_percentage_error(y_test, y_pred_poly_deg03))\n",
    "print('RMS Error Polynomial 03rd degree: ', np.sqrt(mean_squared_error(y_test, y_pred_poly_deg03)))\n",
    "print('Score of the model: ', r2_score(y_test, y_pred_poly_deg03))"
   ]
  },
  {
   "cell_type": "code",
   "execution_count": 56,
   "id": "a1ba12b0",
   "metadata": {
    "scrolled": true
   },
   "outputs": [
    {
     "name": "stdout",
     "output_type": "stream",
     "text": [
      "Mean Squared Error Polynomial 05th degree:  294231.2385546965\n",
      "Mean Absolute Percentage Error Polynomial 05th degree:  7.064436596714984\n",
      "RMS Error Polynomial 05th degree:  542.4308606216063\n",
      "Score of the model:  0.8289759176448838\n"
     ]
    }
   ],
   "source": [
    "poly_reg_deg05 = PolynomialFeatures(degree = 5)\n",
    "poly_reg_deg05.fit(x_train)\n",
    "x_train_deg05 = poly_reg_deg05.transform(x_train)\n",
    "x_test_deg05 = poly_reg_deg05.transform(x_test)\n",
    "poly_linear_deg05 = LinearRegression()\n",
    "poly_linear_deg05.fit(x_train_deg05, y_train)\n",
    "y_pred_poly_deg05 = poly_linear_deg05.predict(x_test_deg05)\n",
    "\n",
    "print('Mean Squared Error Polynomial 05th degree: ', mean_squared_error(y_test, y_pred_poly_deg05))\n",
    "print('Mean Absolute Percentage Error Polynomial 05th degree: ', mean_absolute_percentage_error(y_test, y_pred_poly_deg05))\n",
    "print('RMS Error Polynomial 05th degree: ', np.sqrt(mean_squared_error(y_test, y_pred_poly_deg05)))\n",
    "print('Score of the model: ', r2_score(y_test, y_pred_poly_deg05))"
   ]
  },
  {
   "cell_type": "markdown",
   "id": "8412cb1f",
   "metadata": {},
   "source": [
    "The $R^2$ score of the model is roughly 82%.\n",
    "\n",
    "From the comparison between the Mean Absolute Percentage Errors, we find that the 3rd degree polynomial fits the data better than the 5th degree polynomial but the errors are so high due to fitting errors."
   ]
  },
  {
   "cell_type": "markdown",
   "id": "cfb77302",
   "metadata": {},
   "source": [
    "### 4. Decision Tree Regression"
   ]
  },
  {
   "cell_type": "code",
   "execution_count": 57,
   "id": "96a5fbb9",
   "metadata": {},
   "outputs": [
    {
     "data": {
      "text/plain": [
       "{'ccp_alpha': 0.0,\n",
       " 'criterion': 'squared_error',\n",
       " 'max_depth': None,\n",
       " 'max_features': None,\n",
       " 'max_leaf_nodes': None,\n",
       " 'min_impurity_decrease': 0.0,\n",
       " 'min_samples_leaf': 1,\n",
       " 'min_samples_split': 2,\n",
       " 'min_weight_fraction_leaf': 0.0,\n",
       " 'random_state': None,\n",
       " 'splitter': 'best'}"
      ]
     },
     "execution_count": 57,
     "metadata": {},
     "output_type": "execute_result"
    }
   ],
   "source": [
    "from sklearn.tree import DecisionTreeRegressor\n",
    "tree_reg = DecisionTreeRegressor()\n",
    "tree_reg.fit(x_train, y_train)\n",
    "tree_reg.get_params()"
   ]
  },
  {
   "cell_type": "code",
   "execution_count": 58,
   "id": "a00f0e59",
   "metadata": {},
   "outputs": [],
   "source": [
    "y_pred_tree_reg = tree_reg.predict(x_test)"
   ]
  },
  {
   "cell_type": "code",
   "execution_count": 59,
   "id": "6a6c181a",
   "metadata": {},
   "outputs": [
    {
     "name": "stdout",
     "output_type": "stream",
     "text": [
      "Mean Squared Error:  400371.8333039692\n",
      "Mean Absolute Percentage Error:  1.1059732873456094\n",
      "RMS Error:  632.7494237879392\n",
      "Score of the model:  0.7672809123599635\n"
     ]
    }
   ],
   "source": [
    "print('Mean Squared Error: ', mean_squared_error(y_test, y_pred_tree_reg))\n",
    "print('Mean Absolute Percentage Error: ', mean_absolute_percentage_error(y_test, y_pred_tree_reg))\n",
    "print('RMS Error: ', np.sqrt(mean_squared_error(y_test, y_pred_tree_reg)))\n",
    "print('Score of the model: ', r2_score(y_test, y_pred_tree_reg))"
   ]
  },
  {
   "cell_type": "markdown",
   "id": "1d212a34",
   "metadata": {},
   "source": [
    "The Mean Absolute Percentage Error is really high!\n",
    "\n",
    "The $R^2$ score is about 81%."
   ]
  },
  {
   "cell_type": "markdown",
   "id": "7f4a16c6",
   "metadata": {},
   "source": [
    "### 5. Random Forest Regression"
   ]
  },
  {
   "cell_type": "code",
   "execution_count": 60,
   "id": "14b705f1",
   "metadata": {},
   "outputs": [
    {
     "data": {
      "text/plain": [
       "{'bootstrap': True,\n",
       " 'ccp_alpha': 0.0,\n",
       " 'criterion': 'squared_error',\n",
       " 'max_depth': None,\n",
       " 'max_features': 1.0,\n",
       " 'max_leaf_nodes': None,\n",
       " 'max_samples': None,\n",
       " 'min_impurity_decrease': 0.0,\n",
       " 'min_samples_leaf': 1,\n",
       " 'min_samples_split': 2,\n",
       " 'min_weight_fraction_leaf': 0.0,\n",
       " 'n_estimators': 100,\n",
       " 'n_jobs': None,\n",
       " 'oob_score': False,\n",
       " 'random_state': None,\n",
       " 'verbose': 0,\n",
       " 'warm_start': False}"
      ]
     },
     "execution_count": 60,
     "metadata": {},
     "output_type": "execute_result"
    }
   ],
   "source": [
    "from sklearn.ensemble import RandomForestRegressor\n",
    "random_forest_reg = RandomForestRegressor()\n",
    "random_forest_reg.fit(x_train, y_train)\n",
    "random_forest_reg.get_params()"
   ]
  },
  {
   "cell_type": "code",
   "execution_count": 61,
   "id": "e0a76248",
   "metadata": {},
   "outputs": [],
   "source": [
    "y_pred_rf = random_forest_reg.predict(x_test)"
   ]
  },
  {
   "cell_type": "code",
   "execution_count": 62,
   "id": "23ff544d",
   "metadata": {},
   "outputs": [
    {
     "name": "stdout",
     "output_type": "stream",
     "text": [
      "Mean Squared Error:  240529.9378306751\n",
      "Mean Absolute Percentage Error:  0.9723053807632203\n",
      "RMS Error:  490.43851585155414\n",
      "Score of the model:  0.8601901956485247\n"
     ]
    }
   ],
   "source": [
    "print('Mean Squared Error: ', mean_squared_error(y_test, y_pred_rf))\n",
    "print('Mean Absolute Percentage Error: ', mean_absolute_percentage_error(y_test, y_pred_rf))\n",
    "print('RMS Error: ', np.sqrt(mean_squared_error(y_test, y_pred_rf)))\n",
    "print('Score of the model: ', r2_score(y_test, y_pred_rf))"
   ]
  },
  {
   "cell_type": "markdown",
   "id": "70b5e86f",
   "metadata": {},
   "source": [
    "The model is 86% accurate."
   ]
  },
  {
   "cell_type": "markdown",
   "id": "00b6ca34",
   "metadata": {},
   "source": [
    "### 6. Logistic Regression"
   ]
  },
  {
   "cell_type": "code",
   "execution_count": 63,
   "id": "e13cfe26",
   "metadata": {},
   "outputs": [
    {
     "data": {
      "text/html": [
       "<div>\n",
       "<style scoped>\n",
       "    .dataframe tbody tr th:only-of-type {\n",
       "        vertical-align: middle;\n",
       "    }\n",
       "\n",
       "    .dataframe tbody tr th {\n",
       "        vertical-align: top;\n",
       "    }\n",
       "\n",
       "    .dataframe thead th {\n",
       "        text-align: right;\n",
       "    }\n",
       "</style>\n",
       "<table border=\"1\" class=\"dataframe\">\n",
       "  <thead>\n",
       "    <tr style=\"text-align: right;\">\n",
       "      <th></th>\n",
       "      <th>Country</th>\n",
       "      <th>Year</th>\n",
       "      <th>Status</th>\n",
       "      <th>Life expectancy</th>\n",
       "      <th>Adult Mortality</th>\n",
       "      <th>Infant deaths</th>\n",
       "      <th>Alcohol</th>\n",
       "      <th>Percentage expenditure</th>\n",
       "      <th>Hepatitis B</th>\n",
       "      <th>Measles</th>\n",
       "      <th>BMI</th>\n",
       "      <th>Under-Five deaths</th>\n",
       "      <th>Polio</th>\n",
       "      <th>Total expenditure</th>\n",
       "      <th>Diphtheria</th>\n",
       "      <th>HIV/AIDS</th>\n",
       "      <th>GDP</th>\n",
       "      <th>Population</th>\n",
       "      <th>Thinness ages 1-19</th>\n",
       "      <th>Thinness ages 5-9</th>\n",
       "      <th>Income composition of resources</th>\n",
       "      <th>Schooling</th>\n",
       "    </tr>\n",
       "  </thead>\n",
       "  <tbody>\n",
       "    <tr>\n",
       "      <th>0</th>\n",
       "      <td>Afghanistan</td>\n",
       "      <td>2015</td>\n",
       "      <td>0</td>\n",
       "      <td>65.0</td>\n",
       "      <td>263.0</td>\n",
       "      <td>62</td>\n",
       "      <td>0.01</td>\n",
       "      <td>71.279624</td>\n",
       "      <td>65.0</td>\n",
       "      <td>1154</td>\n",
       "      <td>19.1</td>\n",
       "      <td>83</td>\n",
       "      <td>6.0</td>\n",
       "      <td>8.16</td>\n",
       "      <td>65.0</td>\n",
       "      <td>0.1</td>\n",
       "      <td>584.259210</td>\n",
       "      <td>33736494.0</td>\n",
       "      <td>17.2</td>\n",
       "      <td>17.3</td>\n",
       "      <td>0.479</td>\n",
       "      <td>10.1</td>\n",
       "    </tr>\n",
       "    <tr>\n",
       "      <th>1</th>\n",
       "      <td>Afghanistan</td>\n",
       "      <td>2014</td>\n",
       "      <td>0</td>\n",
       "      <td>59.9</td>\n",
       "      <td>271.0</td>\n",
       "      <td>64</td>\n",
       "      <td>0.01</td>\n",
       "      <td>73.523582</td>\n",
       "      <td>62.0</td>\n",
       "      <td>492</td>\n",
       "      <td>18.6</td>\n",
       "      <td>86</td>\n",
       "      <td>58.0</td>\n",
       "      <td>8.18</td>\n",
       "      <td>62.0</td>\n",
       "      <td>0.1</td>\n",
       "      <td>612.696514</td>\n",
       "      <td>327582.0</td>\n",
       "      <td>17.5</td>\n",
       "      <td>17.5</td>\n",
       "      <td>0.476</td>\n",
       "      <td>10.0</td>\n",
       "    </tr>\n",
       "    <tr>\n",
       "      <th>2</th>\n",
       "      <td>Afghanistan</td>\n",
       "      <td>2013</td>\n",
       "      <td>0</td>\n",
       "      <td>59.9</td>\n",
       "      <td>268.0</td>\n",
       "      <td>66</td>\n",
       "      <td>0.01</td>\n",
       "      <td>73.219243</td>\n",
       "      <td>64.0</td>\n",
       "      <td>430</td>\n",
       "      <td>18.1</td>\n",
       "      <td>89</td>\n",
       "      <td>62.0</td>\n",
       "      <td>8.13</td>\n",
       "      <td>64.0</td>\n",
       "      <td>0.1</td>\n",
       "      <td>631.744976</td>\n",
       "      <td>31731688.0</td>\n",
       "      <td>17.7</td>\n",
       "      <td>17.7</td>\n",
       "      <td>0.470</td>\n",
       "      <td>9.9</td>\n",
       "    </tr>\n",
       "    <tr>\n",
       "      <th>3</th>\n",
       "      <td>Afghanistan</td>\n",
       "      <td>2012</td>\n",
       "      <td>0</td>\n",
       "      <td>59.5</td>\n",
       "      <td>272.0</td>\n",
       "      <td>69</td>\n",
       "      <td>0.01</td>\n",
       "      <td>78.184215</td>\n",
       "      <td>67.0</td>\n",
       "      <td>2787</td>\n",
       "      <td>17.6</td>\n",
       "      <td>93</td>\n",
       "      <td>67.0</td>\n",
       "      <td>8.52</td>\n",
       "      <td>67.0</td>\n",
       "      <td>0.1</td>\n",
       "      <td>669.959000</td>\n",
       "      <td>3696958.0</td>\n",
       "      <td>17.9</td>\n",
       "      <td>18.0</td>\n",
       "      <td>0.463</td>\n",
       "      <td>9.8</td>\n",
       "    </tr>\n",
       "    <tr>\n",
       "      <th>4</th>\n",
       "      <td>Afghanistan</td>\n",
       "      <td>2011</td>\n",
       "      <td>0</td>\n",
       "      <td>59.2</td>\n",
       "      <td>275.0</td>\n",
       "      <td>71</td>\n",
       "      <td>0.01</td>\n",
       "      <td>7.097109</td>\n",
       "      <td>68.0</td>\n",
       "      <td>3013</td>\n",
       "      <td>17.2</td>\n",
       "      <td>97</td>\n",
       "      <td>68.0</td>\n",
       "      <td>7.87</td>\n",
       "      <td>68.0</td>\n",
       "      <td>0.1</td>\n",
       "      <td>63.537231</td>\n",
       "      <td>2978599.0</td>\n",
       "      <td>18.2</td>\n",
       "      <td>18.2</td>\n",
       "      <td>0.454</td>\n",
       "      <td>9.5</td>\n",
       "    </tr>\n",
       "  </tbody>\n",
       "</table>\n",
       "</div>"
      ],
      "text/plain": [
       "       Country  Year  Status  Life expectancy  Adult Mortality  Infant deaths  \\\n",
       "0  Afghanistan  2015       0             65.0            263.0             62   \n",
       "1  Afghanistan  2014       0             59.9            271.0             64   \n",
       "2  Afghanistan  2013       0             59.9            268.0             66   \n",
       "3  Afghanistan  2012       0             59.5            272.0             69   \n",
       "4  Afghanistan  2011       0             59.2            275.0             71   \n",
       "\n",
       "   Alcohol  Percentage expenditure  Hepatitis B  Measles   BMI  \\\n",
       "0     0.01               71.279624         65.0     1154  19.1   \n",
       "1     0.01               73.523582         62.0      492  18.6   \n",
       "2     0.01               73.219243         64.0      430  18.1   \n",
       "3     0.01               78.184215         67.0     2787  17.6   \n",
       "4     0.01                7.097109         68.0     3013  17.2   \n",
       "\n",
       "   Under-Five deaths  Polio  Total expenditure  Diphtheria  HIV/AIDS  \\\n",
       "0                 83    6.0               8.16        65.0       0.1   \n",
       "1                 86   58.0               8.18        62.0       0.1   \n",
       "2                 89   62.0               8.13        64.0       0.1   \n",
       "3                 93   67.0               8.52        67.0       0.1   \n",
       "4                 97   68.0               7.87        68.0       0.1   \n",
       "\n",
       "          GDP  Population  Thinness ages 1-19  Thinness ages 5-9  \\\n",
       "0  584.259210  33736494.0                17.2               17.3   \n",
       "1  612.696514    327582.0                17.5               17.5   \n",
       "2  631.744976  31731688.0                17.7               17.7   \n",
       "3  669.959000   3696958.0                17.9               18.0   \n",
       "4   63.537231   2978599.0                18.2               18.2   \n",
       "\n",
       "   Income composition of resources  Schooling  \n",
       "0                            0.479       10.1  \n",
       "1                            0.476       10.0  \n",
       "2                            0.470        9.9  \n",
       "3                            0.463        9.8  \n",
       "4                            0.454        9.5  "
      ]
     },
     "execution_count": 63,
     "metadata": {},
     "output_type": "execute_result"
    }
   ],
   "source": [
    "log_data = data.copy()\n",
    "log_data.head()"
   ]
  },
  {
   "cell_type": "markdown",
   "id": "027fc4bf",
   "metadata": {},
   "source": [
    "Since the Logistic Regression works on a probabilistic scale, it would seem appropriate that we can use this algorithm to predict if the country is developing or developed using the binary class of Status:"
   ]
  },
  {
   "cell_type": "code",
   "execution_count": 64,
   "id": "11e6d4d4",
   "metadata": {},
   "outputs": [
    {
     "data": {
      "text/html": [
       "<div>\n",
       "<style scoped>\n",
       "    .dataframe tbody tr th:only-of-type {\n",
       "        vertical-align: middle;\n",
       "    }\n",
       "\n",
       "    .dataframe tbody tr th {\n",
       "        vertical-align: top;\n",
       "    }\n",
       "\n",
       "    .dataframe thead th {\n",
       "        text-align: right;\n",
       "    }\n",
       "</style>\n",
       "<table border=\"1\" class=\"dataframe\">\n",
       "  <thead>\n",
       "    <tr style=\"text-align: right;\">\n",
       "      <th></th>\n",
       "      <th>Year</th>\n",
       "      <th>Life expectancy</th>\n",
       "      <th>Adult Mortality</th>\n",
       "      <th>Infant deaths</th>\n",
       "      <th>Alcohol</th>\n",
       "      <th>Percentage expenditure</th>\n",
       "      <th>Hepatitis B</th>\n",
       "      <th>Measles</th>\n",
       "      <th>BMI</th>\n",
       "      <th>Under-Five deaths</th>\n",
       "      <th>Polio</th>\n",
       "      <th>Total expenditure</th>\n",
       "      <th>Diphtheria</th>\n",
       "      <th>HIV/AIDS</th>\n",
       "      <th>GDP</th>\n",
       "      <th>Population</th>\n",
       "      <th>Thinness ages 1-19</th>\n",
       "      <th>Thinness ages 5-9</th>\n",
       "      <th>Income composition of resources</th>\n",
       "      <th>Schooling</th>\n",
       "    </tr>\n",
       "  </thead>\n",
       "  <tbody>\n",
       "    <tr>\n",
       "      <th>0</th>\n",
       "      <td>2015</td>\n",
       "      <td>65.0</td>\n",
       "      <td>263.0</td>\n",
       "      <td>62</td>\n",
       "      <td>0.01</td>\n",
       "      <td>71.279624</td>\n",
       "      <td>65.0</td>\n",
       "      <td>1154</td>\n",
       "      <td>19.1</td>\n",
       "      <td>83</td>\n",
       "      <td>6.0</td>\n",
       "      <td>8.16</td>\n",
       "      <td>65.0</td>\n",
       "      <td>0.1</td>\n",
       "      <td>584.259210</td>\n",
       "      <td>33736494.0</td>\n",
       "      <td>17.2</td>\n",
       "      <td>17.3</td>\n",
       "      <td>0.479</td>\n",
       "      <td>10.1</td>\n",
       "    </tr>\n",
       "    <tr>\n",
       "      <th>1</th>\n",
       "      <td>2014</td>\n",
       "      <td>59.9</td>\n",
       "      <td>271.0</td>\n",
       "      <td>64</td>\n",
       "      <td>0.01</td>\n",
       "      <td>73.523582</td>\n",
       "      <td>62.0</td>\n",
       "      <td>492</td>\n",
       "      <td>18.6</td>\n",
       "      <td>86</td>\n",
       "      <td>58.0</td>\n",
       "      <td>8.18</td>\n",
       "      <td>62.0</td>\n",
       "      <td>0.1</td>\n",
       "      <td>612.696514</td>\n",
       "      <td>327582.0</td>\n",
       "      <td>17.5</td>\n",
       "      <td>17.5</td>\n",
       "      <td>0.476</td>\n",
       "      <td>10.0</td>\n",
       "    </tr>\n",
       "    <tr>\n",
       "      <th>2</th>\n",
       "      <td>2013</td>\n",
       "      <td>59.9</td>\n",
       "      <td>268.0</td>\n",
       "      <td>66</td>\n",
       "      <td>0.01</td>\n",
       "      <td>73.219243</td>\n",
       "      <td>64.0</td>\n",
       "      <td>430</td>\n",
       "      <td>18.1</td>\n",
       "      <td>89</td>\n",
       "      <td>62.0</td>\n",
       "      <td>8.13</td>\n",
       "      <td>64.0</td>\n",
       "      <td>0.1</td>\n",
       "      <td>631.744976</td>\n",
       "      <td>31731688.0</td>\n",
       "      <td>17.7</td>\n",
       "      <td>17.7</td>\n",
       "      <td>0.470</td>\n",
       "      <td>9.9</td>\n",
       "    </tr>\n",
       "    <tr>\n",
       "      <th>3</th>\n",
       "      <td>2012</td>\n",
       "      <td>59.5</td>\n",
       "      <td>272.0</td>\n",
       "      <td>69</td>\n",
       "      <td>0.01</td>\n",
       "      <td>78.184215</td>\n",
       "      <td>67.0</td>\n",
       "      <td>2787</td>\n",
       "      <td>17.6</td>\n",
       "      <td>93</td>\n",
       "      <td>67.0</td>\n",
       "      <td>8.52</td>\n",
       "      <td>67.0</td>\n",
       "      <td>0.1</td>\n",
       "      <td>669.959000</td>\n",
       "      <td>3696958.0</td>\n",
       "      <td>17.9</td>\n",
       "      <td>18.0</td>\n",
       "      <td>0.463</td>\n",
       "      <td>9.8</td>\n",
       "    </tr>\n",
       "    <tr>\n",
       "      <th>4</th>\n",
       "      <td>2011</td>\n",
       "      <td>59.2</td>\n",
       "      <td>275.0</td>\n",
       "      <td>71</td>\n",
       "      <td>0.01</td>\n",
       "      <td>7.097109</td>\n",
       "      <td>68.0</td>\n",
       "      <td>3013</td>\n",
       "      <td>17.2</td>\n",
       "      <td>97</td>\n",
       "      <td>68.0</td>\n",
       "      <td>7.87</td>\n",
       "      <td>68.0</td>\n",
       "      <td>0.1</td>\n",
       "      <td>63.537231</td>\n",
       "      <td>2978599.0</td>\n",
       "      <td>18.2</td>\n",
       "      <td>18.2</td>\n",
       "      <td>0.454</td>\n",
       "      <td>9.5</td>\n",
       "    </tr>\n",
       "  </tbody>\n",
       "</table>\n",
       "</div>"
      ],
      "text/plain": [
       "   Year  Life expectancy  Adult Mortality  Infant deaths  Alcohol  \\\n",
       "0  2015             65.0            263.0             62     0.01   \n",
       "1  2014             59.9            271.0             64     0.01   \n",
       "2  2013             59.9            268.0             66     0.01   \n",
       "3  2012             59.5            272.0             69     0.01   \n",
       "4  2011             59.2            275.0             71     0.01   \n",
       "\n",
       "   Percentage expenditure  Hepatitis B  Measles   BMI  Under-Five deaths  \\\n",
       "0               71.279624         65.0     1154  19.1                 83   \n",
       "1               73.523582         62.0      492  18.6                 86   \n",
       "2               73.219243         64.0      430  18.1                 89   \n",
       "3               78.184215         67.0     2787  17.6                 93   \n",
       "4                7.097109         68.0     3013  17.2                 97   \n",
       "\n",
       "   Polio  Total expenditure  Diphtheria  HIV/AIDS         GDP  Population  \\\n",
       "0    6.0               8.16        65.0       0.1  584.259210  33736494.0   \n",
       "1   58.0               8.18        62.0       0.1  612.696514    327582.0   \n",
       "2   62.0               8.13        64.0       0.1  631.744976  31731688.0   \n",
       "3   67.0               8.52        67.0       0.1  669.959000   3696958.0   \n",
       "4   68.0               7.87        68.0       0.1   63.537231   2978599.0   \n",
       "\n",
       "   Thinness ages 1-19  Thinness ages 5-9  Income composition of resources  \\\n",
       "0                17.2               17.3                            0.479   \n",
       "1                17.5               17.5                            0.476   \n",
       "2                17.7               17.7                            0.470   \n",
       "3                17.9               18.0                            0.463   \n",
       "4                18.2               18.2                            0.454   \n",
       "\n",
       "   Schooling  \n",
       "0       10.1  \n",
       "1       10.0  \n",
       "2        9.9  \n",
       "3        9.8  \n",
       "4        9.5  "
      ]
     },
     "execution_count": 64,
     "metadata": {},
     "output_type": "execute_result"
    }
   ],
   "source": [
    "log_data.drop('Country', axis = 1, inplace = True)\n",
    "y = log_data['Status']\n",
    "x = log_data.drop('Status', axis = 1)\n",
    "x.head()"
   ]
  },
  {
   "cell_type": "markdown",
   "id": "7e9dea5b",
   "metadata": {},
   "source": [
    "We split the data into test and train:"
   ]
  },
  {
   "cell_type": "code",
   "execution_count": 65,
   "id": "baac657f",
   "metadata": {},
   "outputs": [],
   "source": [
    "x_train, x_test, y_train, y_test = train_test_split(x, y, test_size = 0.20, random_state= 42)"
   ]
  },
  {
   "cell_type": "markdown",
   "id": "d8b2570e",
   "metadata": {},
   "source": [
    "We now have the x and y columns. Since there are a wide range of values in each column, it is better to standardize the values.\n",
    "\n",
    "We fit and transform the training data but only transform the testing data - this will apply the same transformations to both sets of data, thus creating consistent columns!"
   ]
  },
  {
   "cell_type": "code",
   "execution_count": 66,
   "id": "c2bb9346",
   "metadata": {},
   "outputs": [],
   "source": [
    "from sklearn.preprocessing import StandardScaler\n",
    "scaler = StandardScaler()\n",
    "x_train = scaler.fit_transform(x_train)\n",
    "x_test = scaler.transform(x_test)"
   ]
  },
  {
   "cell_type": "markdown",
   "id": "2651be13",
   "metadata": {},
   "source": [
    "We now fit the model:"
   ]
  },
  {
   "cell_type": "code",
   "execution_count": 67,
   "id": "8aad781c",
   "metadata": {},
   "outputs": [
    {
     "data": {
      "text/plain": [
       "{'C': 1.0,\n",
       " 'class_weight': None,\n",
       " 'dual': False,\n",
       " 'fit_intercept': True,\n",
       " 'intercept_scaling': 1,\n",
       " 'l1_ratio': None,\n",
       " 'max_iter': 100,\n",
       " 'multi_class': 'auto',\n",
       " 'n_jobs': None,\n",
       " 'penalty': 'l2',\n",
       " 'random_state': None,\n",
       " 'solver': 'lbfgs',\n",
       " 'tol': 0.0001,\n",
       " 'verbose': 0,\n",
       " 'warm_start': False}"
      ]
     },
     "execution_count": 67,
     "metadata": {},
     "output_type": "execute_result"
    }
   ],
   "source": [
    "from sklearn.linear_model import LogisticRegression\n",
    "log_reg = LogisticRegression()\n",
    "log_reg.fit(x_train,y_train)\n",
    "log_reg.get_params()"
   ]
  },
  {
   "cell_type": "code",
   "execution_count": 68,
   "id": "f44076f5",
   "metadata": {},
   "outputs": [
    {
     "data": {
      "text/plain": [
       "array([-6.63445035])"
      ]
     },
     "execution_count": 68,
     "metadata": {},
     "output_type": "execute_result"
    }
   ],
   "source": [
    "log_reg.intercept_"
   ]
  },
  {
   "cell_type": "markdown",
   "id": "a40c7ef8",
   "metadata": {},
   "source": [
    "Coefficients of all independent variables:"
   ]
  },
  {
   "cell_type": "code",
   "execution_count": 69,
   "id": "8a427f56",
   "metadata": {},
   "outputs": [
    {
     "data": {
      "text/plain": [
       "array([[-0.49719913,  0.53899139, -0.88764177, -0.86273473,  1.34497613,\n",
       "         0.12508902,  1.0296181 , -0.19343681,  0.01824211, -0.75915596,\n",
       "         0.14631854,  0.04082178,  0.07366572, -0.29618051, -0.06963845,\n",
       "        -0.47873226, -0.21517749,  0.26627285,  2.33788036,  0.64979084]])"
      ]
     },
     "execution_count": 69,
     "metadata": {},
     "output_type": "execute_result"
    }
   ],
   "source": [
    "log_reg.coef_"
   ]
  },
  {
   "cell_type": "markdown",
   "id": "9b71a373",
   "metadata": {},
   "source": [
    "Make predictions using the testing data:"
   ]
  },
  {
   "cell_type": "code",
   "execution_count": 70,
   "id": "466f415f",
   "metadata": {},
   "outputs": [],
   "source": [
    "y_pred_logistic = log_reg.predict(x_test)"
   ]
  },
  {
   "cell_type": "code",
   "execution_count": 71,
   "id": "f74e00b4",
   "metadata": {},
   "outputs": [
    {
     "name": "stdout",
     "output_type": "stream",
     "text": [
      "              precision    recall  f1-score   support\n",
      "\n",
      "           0       0.93      0.97      0.95       278\n",
      "           1       0.80      0.62      0.70        52\n",
      "\n",
      "    accuracy                           0.92       330\n",
      "   macro avg       0.87      0.79      0.82       330\n",
      "weighted avg       0.91      0.92      0.91       330\n",
      "\n"
     ]
    }
   ],
   "source": [
    "from sklearn.metrics import (confusion_matrix, ConfusionMatrixDisplay, \n",
    "                             accuracy_score, classification_report)\n",
    "\n",
    "print(classification_report(y_test, y_pred_logistic))"
   ]
  },
  {
   "cell_type": "code",
   "execution_count": 72,
   "id": "19a2c391",
   "metadata": {},
   "outputs": [
    {
     "data": {
      "text/plain": [
       "0.9151515151515152"
      ]
     },
     "execution_count": 72,
     "metadata": {},
     "output_type": "execute_result"
    }
   ],
   "source": [
    "accuracy_score(y_test, y_pred_logistic)"
   ]
  },
  {
   "cell_type": "markdown",
   "id": "e9c66f37",
   "metadata": {},
   "source": [
    "The model has an acccuracy of about 92%, a good overall f1-score and precision.\n",
    "\n",
    "Let us look at the confusion matrix:"
   ]
  },
  {
   "cell_type": "code",
   "execution_count": 73,
   "id": "135ebfbf",
   "metadata": {},
   "outputs": [
    {
     "data": {
      "text/plain": [
       "array([0, 1], dtype=int64)"
      ]
     },
     "execution_count": 73,
     "metadata": {},
     "output_type": "execute_result"
    }
   ],
   "source": [
    "# Output labels\n",
    "log_reg.classes_"
   ]
  },
  {
   "cell_type": "code",
   "execution_count": 74,
   "id": "564ae64e",
   "metadata": {},
   "outputs": [
    {
     "data": {
      "text/plain": [
       "<sklearn.metrics._plot.confusion_matrix.ConfusionMatrixDisplay at 0x205da7987c0>"
      ]
     },
     "execution_count": 74,
     "metadata": {},
     "output_type": "execute_result"
    },
    {
     "data": {
      "image/png": "[encoded data removed]",
      "text/plain": [
       "<Figure size 640x480 with 2 Axes>"
      ]
     },
     "metadata": {},
     "output_type": "display_data"
    }
   ],
   "source": [
    "ConfusionMatrixDisplay(confusion_matrix(y_test, y_pred_logistic), \n",
    "                       display_labels= log_reg.classes_).plot()"
   ]
  },
  {
   "cell_type": "markdown",
   "id": "3a77f660",
   "metadata": {},
   "source": [
    "It can be concluded that although the model has a good accuracy, it has a lot of false negatives, which has resulted in a lower recall score. Thus, something was missed 20 times which is not good for a classification that wants to minimize False Negatives; In our case, there are socioeconomic-and-political consequences to say that a country is developing when in reality, it already is enjoying the status of a developed country. \n",
    "\n",
    "Perhaps this model's bias towards this classification error is due to the unbalanced classes:"
   ]
  },
  {
   "cell_type": "code",
   "execution_count": 75,
   "id": "3ce0479a",
   "metadata": {},
   "outputs": [
    {
     "data": {
      "text/plain": [
       "0    1407\n",
       "1     242\n",
       "Name: Status, dtype: int64"
      ]
     },
     "execution_count": 75,
     "metadata": {},
     "output_type": "execute_result"
    }
   ],
   "source": [
    "log_data['Status'].value_counts()"
   ]
  },
  {
   "cell_type": "markdown",
   "id": "4c487647",
   "metadata": {},
   "source": [
    "A good way to understand this inflence of False negatives and positives is through an ROC Curve, which we will implement in the end:"
   ]
  },
  {
   "cell_type": "code",
   "execution_count": 76,
   "id": "68cda406",
   "metadata": {},
   "outputs": [
    {
     "data": {
      "text/plain": [
       "0.7933038184836746"
      ]
     },
     "execution_count": 76,
     "metadata": {},
     "output_type": "execute_result"
    }
   ],
   "source": [
    "from sklearn.metrics import roc_auc_score\n",
    "roc_auc_score(y_test, y_pred_logistic)"
   ]
  },
  {
   "cell_type": "markdown",
   "id": "6b283bf5",
   "metadata": {},
   "source": [
    "The AUC score is about 79%, which should be atleast 90% for our case."
   ]
  },
  {
   "cell_type": "code",
   "execution_count": 77,
   "id": "27a349b4",
   "metadata": {},
   "outputs": [
    {
     "data": {
      "image/png": "[encoded data removed]",
      "text/plain": [
       "<Figure size 640x480 with 1 Axes>"
      ]
     },
     "metadata": {},
     "output_type": "display_data"
    }
   ],
   "source": [
    "from sklearn.metrics import roc_curve\n",
    "fpr, tpr, thresholds = roc_curve(y_test, y_pred_logistic)\n",
    "plt.plot(fpr, tpr, '--r')\n",
    "plt.plot([0,1], [0,1])\n",
    "plt.title('ROC Curve')\n",
    "plt.xlabel('False Positive Rate')\n",
    "plt.ylabel('True Positive rate')\n",
    "plt.show()"
   ]
  },
  {
   "cell_type": "markdown",
   "id": "eabd7272",
   "metadata": {},
   "source": [
    "It may do us well to try other algorithms such as kNN and SVM to understand how they perform, compared to the Logistic Regression."
   ]
  },
  {
   "cell_type": "markdown",
   "id": "3eb90408",
   "metadata": {},
   "source": [
    "### 7. k-Nearest Neighbours - Regression"
   ]
  },
  {
   "cell_type": "code",
   "execution_count": 78,
   "id": "bacda585",
   "metadata": {},
   "outputs": [
    {
     "data": {
      "text/plain": [
       "{'algorithm': 'auto',\n",
       " 'leaf_size': 30,\n",
       " 'metric': 'minkowski',\n",
       " 'metric_params': None,\n",
       " 'n_jobs': None,\n",
       " 'n_neighbors': 5,\n",
       " 'p': 2,\n",
       " 'weights': 'uniform'}"
      ]
     },
     "execution_count": 78,
     "metadata": {},
     "output_type": "execute_result"
    }
   ],
   "source": [
    "from sklearn.neighbors import KNeighborsRegressor\n",
    "kNN_reg = KNeighborsRegressor()\n",
    "kNN_reg.fit(x_train,y_train)\n",
    "kNN_reg.get_params()"
   ]
  },
  {
   "cell_type": "code",
   "execution_count": 79,
   "id": "918527e9",
   "metadata": {},
   "outputs": [],
   "source": [
    "y_pred_kNN = kNN_reg.predict(x_test)"
   ]
  },
  {
   "cell_type": "code",
   "execution_count": 80,
   "id": "2b10f984",
   "metadata": {},
   "outputs": [
    {
     "data": {
      "text/plain": [
       "0.9668303818483674"
      ]
     },
     "execution_count": 80,
     "metadata": {},
     "output_type": "execute_result"
    }
   ],
   "source": [
    "roc_auc_score(y_test, y_pred_kNN)"
   ]
  },
  {
   "cell_type": "markdown",
   "id": "dae97d3b",
   "metadata": {},
   "source": [
    "The AUC score is about 96%. We should now have a better ROC curve, meaning that our model can catch the False Positives and False Negatives better than the Logistic Regression Model."
   ]
  },
  {
   "cell_type": "code",
   "execution_count": 81,
   "id": "467a1190",
   "metadata": {},
   "outputs": [
    {
     "data": {
      "text/html": [
       "<div>\n",
       "<style scoped>\n",
       "    .dataframe tbody tr th:only-of-type {\n",
       "        vertical-align: middle;\n",
       "    }\n",
       "\n",
       "    .dataframe tbody tr th {\n",
       "        vertical-align: top;\n",
       "    }\n",
       "\n",
       "    .dataframe thead th {\n",
       "        text-align: right;\n",
       "    }\n",
       "</style>\n",
       "<table border=\"1\" class=\"dataframe\">\n",
       "  <thead>\n",
       "    <tr style=\"text-align: right;\">\n",
       "      <th></th>\n",
       "      <th>Actual value</th>\n",
       "      <th>Predicted value</th>\n",
       "      <th>Error</th>\n",
       "    </tr>\n",
       "  </thead>\n",
       "  <tbody>\n",
       "    <tr>\n",
       "      <th>1210</th>\n",
       "      <td>0</td>\n",
       "      <td>0.0</td>\n",
       "      <td>0.0</td>\n",
       "    </tr>\n",
       "    <tr>\n",
       "      <th>2273</th>\n",
       "      <td>0</td>\n",
       "      <td>0.6</td>\n",
       "      <td>0.6</td>\n",
       "    </tr>\n",
       "    <tr>\n",
       "      <th>1005</th>\n",
       "      <td>1</td>\n",
       "      <td>1.0</td>\n",
       "      <td>0.0</td>\n",
       "    </tr>\n",
       "    <tr>\n",
       "      <th>2926</th>\n",
       "      <td>0</td>\n",
       "      <td>0.0</td>\n",
       "      <td>0.0</td>\n",
       "    </tr>\n",
       "    <tr>\n",
       "      <th>518</th>\n",
       "      <td>0</td>\n",
       "      <td>0.0</td>\n",
       "      <td>0.0</td>\n",
       "    </tr>\n",
       "  </tbody>\n",
       "</table>\n",
       "</div>"
      ],
      "text/plain": [
       "      Actual value  Predicted value  Error\n",
       "1210             0              0.0    0.0\n",
       "2273             0              0.6    0.6\n",
       "1005             1              1.0    0.0\n",
       "2926             0              0.0    0.0\n",
       "518              0              0.0    0.0"
      ]
     },
     "execution_count": 81,
     "metadata": {},
     "output_type": "execute_result"
    }
   ],
   "source": [
    "Error_df = pd.DataFrame({'Actual value': y_test, \n",
    "                         'Predicted value': y_pred_kNN})\n",
    "Error_df['Error'] = abs(y_test - y_pred_kNN)\n",
    "Error_df.reset_index(drop=True)\n",
    "Error_df.head()"
   ]
  },
  {
   "cell_type": "code",
   "execution_count": 82,
   "id": "64316f5a",
   "metadata": {},
   "outputs": [
    {
     "name": "stdout",
     "output_type": "stream",
     "text": [
      "Mean Absolute Error:  0.06545454545454546\n",
      "Mean Squared Error:  0.035878787878787885\n",
      "Mean Absolute Percentage Error:  155578896218253.53\n",
      "Root Mean Squared Error:  0.18941696829689753\n",
      "Score of the model:  0.7297177642501382\n"
     ]
    }
   ],
   "source": [
    "print(\"Mean Absolute Error: \", mean_absolute_error(y_test,y_pred_kNN))\n",
    "print(\"Mean Squared Error: \", mean_squared_error(y_test,y_pred_kNN))\n",
    "print(\"Mean Absolute Percentage Error: \", \n",
    "      mean_absolute_percentage_error(y_test, y_pred_kNN))\n",
    "print(\"Root Mean Squared Error: \", \n",
    "      np.sqrt(mean_squared_error(y_test,y_pred_kNN)))\n",
    "print('Score of the model: ', r2_score(y_test, y_pred_kNN))"
   ]
  },
  {
   "cell_type": "markdown",
   "id": "d149a1cd",
   "metadata": {},
   "source": [
    "We could essentially check the performances of different techniques, such as kNN for Classification, Naive Bayes, Support Vector Machines, Decision Trees and Random Forests.\n",
    "\n",
    "### 8. k-Nearest Neighbours - Classification"
   ]
  },
  {
   "cell_type": "code",
   "execution_count": 83,
   "id": "38736864",
   "metadata": {},
   "outputs": [
    {
     "data": {
      "text/plain": [
       "{'algorithm': 'auto',\n",
       " 'leaf_size': 30,\n",
       " 'metric': 'minkowski',\n",
       " 'metric_params': None,\n",
       " 'n_jobs': None,\n",
       " 'n_neighbors': 5,\n",
       " 'p': 2,\n",
       " 'weights': 'uniform'}"
      ]
     },
     "execution_count": 83,
     "metadata": {},
     "output_type": "execute_result"
    }
   ],
   "source": [
    "from sklearn.neighbors import KNeighborsClassifier\n",
    "kNN_class = KNeighborsClassifier()\n",
    "kNN_class.fit(x_train,y_train)\n",
    "kNN_class.get_params()"
   ]
  },
  {
   "cell_type": "code",
   "execution_count": 84,
   "id": "b19b8403",
   "metadata": {},
   "outputs": [],
   "source": [
    "y_pred_kNNClass = kNN_class.predict(x_test)"
   ]
  },
  {
   "cell_type": "code",
   "execution_count": 85,
   "id": "a51587d0",
   "metadata": {},
   "outputs": [
    {
     "data": {
      "text/plain": [
       "0.9471499723298284"
      ]
     },
     "execution_count": 85,
     "metadata": {},
     "output_type": "execute_result"
    }
   ],
   "source": [
    "roc_auc_score(y_test, y_pred_kNNClass)"
   ]
  },
  {
   "cell_type": "code",
   "execution_count": 86,
   "id": "1c942266",
   "metadata": {},
   "outputs": [
    {
     "data": {
      "text/plain": [
       "<sklearn.metrics._plot.confusion_matrix.ConfusionMatrixDisplay at 0x205da8c6970>"
      ]
     },
     "execution_count": 86,
     "metadata": {},
     "output_type": "execute_result"
    },
    {
     "data": {
      "image/png": "[encoded data removed]",
      "text/plain": [
       "<Figure size 640x480 with 2 Axes>"
      ]
     },
     "metadata": {},
     "output_type": "display_data"
    }
   ],
   "source": [
    "ConfusionMatrixDisplay(confusion_matrix(y_test, y_pred_kNNClass), \n",
    "                       display_labels= kNN_class.classes_).plot()"
   ]
  },
  {
   "cell_type": "code",
   "execution_count": 87,
   "id": "4b019d7e",
   "metadata": {
    "scrolled": true
   },
   "outputs": [
    {
     "name": "stdout",
     "output_type": "stream",
     "text": [
      "              precision    recall  f1-score   support\n",
      "\n",
      "           0       0.99      0.97      0.98       278\n",
      "           1       0.86      0.92      0.89        52\n",
      "\n",
      "    accuracy                           0.96       330\n",
      "   macro avg       0.92      0.95      0.93       330\n",
      "weighted avg       0.97      0.96      0.96       330\n",
      "\n"
     ]
    }
   ],
   "source": [
    "print(classification_report(y_test, y_pred_kNNClass))"
   ]
  },
  {
   "cell_type": "code",
   "execution_count": 88,
   "id": "f7d9a406",
   "metadata": {},
   "outputs": [
    {
     "data": {
      "text/plain": [
       "0.9636363636363636"
      ]
     },
     "execution_count": 88,
     "metadata": {},
     "output_type": "execute_result"
    }
   ],
   "source": [
    "kNN_class.score(x_test, y_test)"
   ]
  },
  {
   "cell_type": "markdown",
   "id": "077bfe0e",
   "metadata": {},
   "source": [
    "### 9. Naive Bayes - Classification"
   ]
  },
  {
   "cell_type": "code",
   "execution_count": 89,
   "id": "f5a53d3d",
   "metadata": {},
   "outputs": [
    {
     "data": {
      "text/plain": [
       "{'priors': None, 'var_smoothing': 1e-09}"
      ]
     },
     "execution_count": 89,
     "metadata": {},
     "output_type": "execute_result"
    }
   ],
   "source": [
    "from sklearn.naive_bayes import GaussianNB\n",
    "Gaussian = GaussianNB()\n",
    "Gaussian.fit(x_train, y_train)\n",
    "Gaussian.get_params()"
   ]
  },
  {
   "cell_type": "code",
   "execution_count": 90,
   "id": "d0ab1511",
   "metadata": {},
   "outputs": [],
   "source": [
    "y_pred_NB = Gaussian.predict(x_test)"
   ]
  },
  {
   "cell_type": "code",
   "execution_count": 91,
   "id": "b0b196e2",
   "metadata": {},
   "outputs": [
    {
     "data": {
      "text/plain": [
       "0.8734781405644716"
      ]
     },
     "execution_count": 91,
     "metadata": {},
     "output_type": "execute_result"
    }
   ],
   "source": [
    "roc_auc_score(y_test, y_pred_NB)"
   ]
  },
  {
   "cell_type": "code",
   "execution_count": 92,
   "id": "c156e123",
   "metadata": {},
   "outputs": [
    {
     "data": {
      "text/plain": [
       "<sklearn.metrics._plot.confusion_matrix.ConfusionMatrixDisplay at 0x205da9a5610>"
      ]
     },
     "execution_count": 92,
     "metadata": {},
     "output_type": "execute_result"
    },
    {
     "data": {
      "image/png": "[encoded data removed]",
      "text/plain": [
       "<Figure size 640x480 with 2 Axes>"
      ]
     },
     "metadata": {},
     "output_type": "display_data"
    }
   ],
   "source": [
    "ConfusionMatrixDisplay(confusion_matrix(y_test, y_pred_NB), \n",
    "                       display_labels= Gaussian.classes_).plot()"
   ]
  },
  {
   "cell_type": "code",
   "execution_count": 93,
   "id": "c50aa07c",
   "metadata": {},
   "outputs": [
    {
     "name": "stdout",
     "output_type": "stream",
     "text": [
      "              precision    recall  f1-score   support\n",
      "\n",
      "           0       1.00      0.77      0.87       278\n",
      "           1       0.44      0.98      0.61        52\n",
      "\n",
      "    accuracy                           0.80       330\n",
      "   macro avg       0.72      0.87      0.74       330\n",
      "weighted avg       0.91      0.80      0.83       330\n",
      "\n"
     ]
    }
   ],
   "source": [
    "print(classification_report(y_test, y_pred_NB))"
   ]
  },
  {
   "cell_type": "code",
   "execution_count": 94,
   "id": "6285e088",
   "metadata": {},
   "outputs": [
    {
     "data": {
      "text/plain": [
       "0.8"
      ]
     },
     "execution_count": 94,
     "metadata": {},
     "output_type": "execute_result"
    }
   ],
   "source": [
    "Gaussian.score(x_test, y_test)"
   ]
  },
  {
   "cell_type": "markdown",
   "id": "4e0a664f",
   "metadata": {},
   "source": [
    "### 10. Support Vector Machines - Classification"
   ]
  },
  {
   "cell_type": "code",
   "execution_count": 95,
   "id": "cfc305e9",
   "metadata": {},
   "outputs": [
    {
     "data": {
      "text/plain": [
       "{'C': 1.0,\n",
       " 'break_ties': False,\n",
       " 'cache_size': 200,\n",
       " 'class_weight': None,\n",
       " 'coef0': 0.0,\n",
       " 'decision_function_shape': 'ovr',\n",
       " 'degree': 3,\n",
       " 'gamma': 'scale',\n",
       " 'kernel': 'rbf',\n",
       " 'max_iter': -1,\n",
       " 'probability': False,\n",
       " 'random_state': None,\n",
       " 'shrinking': True,\n",
       " 'tol': 0.001,\n",
       " 'verbose': False}"
      ]
     },
     "execution_count": 95,
     "metadata": {},
     "output_type": "execute_result"
    }
   ],
   "source": [
    "from sklearn.svm import SVC\n",
    "SV_classifier = SVC()\n",
    "SV_classifier.fit(x_train, y_train)\n",
    "SV_classifier.get_params()"
   ]
  },
  {
   "cell_type": "code",
   "execution_count": 96,
   "id": "9c387bf1",
   "metadata": {},
   "outputs": [],
   "source": [
    "y_pred_SVC = SV_classifier.predict(x_test)"
   ]
  },
  {
   "cell_type": "code",
   "execution_count": 97,
   "id": "4eb876ea",
   "metadata": {},
   "outputs": [
    {
     "data": {
      "text/plain": [
       "0.831765356945213"
      ]
     },
     "execution_count": 97,
     "metadata": {},
     "output_type": "execute_result"
    }
   ],
   "source": [
    "roc_auc_score(y_test, y_pred_SVC)"
   ]
  },
  {
   "cell_type": "code",
   "execution_count": 98,
   "id": "0e7ee7d2",
   "metadata": {},
   "outputs": [
    {
     "data": {
      "text/plain": [
       "<sklearn.metrics._plot.confusion_matrix.ConfusionMatrixDisplay at 0x205da8620a0>"
      ]
     },
     "execution_count": 98,
     "metadata": {},
     "output_type": "execute_result"
    },
    {
     "data": {
      "image/png": "[encoded data removed]",
      "text/plain": [
       "<Figure size 640x480 with 2 Axes>"
      ]
     },
     "metadata": {},
     "output_type": "display_data"
    }
   ],
   "source": [
    "ConfusionMatrixDisplay(confusion_matrix(y_test, y_pred_SVC), \n",
    "                       display_labels= SV_classifier.classes_).plot()"
   ]
  },
  {
   "cell_type": "code",
   "execution_count": 99,
   "id": "e399de6a",
   "metadata": {
    "scrolled": false
   },
   "outputs": [
    {
     "name": "stdout",
     "output_type": "stream",
     "text": [
      "              precision    recall  f1-score   support\n",
      "\n",
      "           0       0.94      0.97      0.96       278\n",
      "           1       0.82      0.69      0.75        52\n",
      "\n",
      "    accuracy                           0.93       330\n",
      "   macro avg       0.88      0.83      0.85       330\n",
      "weighted avg       0.92      0.93      0.92       330\n",
      "\n"
     ]
    }
   ],
   "source": [
    "print(classification_report(y_test, y_pred_SVC))"
   ]
  },
  {
   "cell_type": "code",
   "execution_count": 100,
   "id": "26e9765f",
   "metadata": {},
   "outputs": [
    {
     "data": {
      "text/plain": [
       "0.9272727272727272"
      ]
     },
     "execution_count": 100,
     "metadata": {},
     "output_type": "execute_result"
    }
   ],
   "source": [
    "SV_classifier.score(x_test, y_test)"
   ]
  },
  {
   "cell_type": "markdown",
   "id": "3f6f27bb",
   "metadata": {},
   "source": [
    "### 11. Decision Tree - Classification\n"
   ]
  },
  {
   "cell_type": "code",
   "execution_count": 101,
   "id": "197e21b8",
   "metadata": {},
   "outputs": [
    {
     "data": {
      "text/plain": [
       "{'ccp_alpha': 0.0,\n",
       " 'class_weight': None,\n",
       " 'criterion': 'gini',\n",
       " 'max_depth': None,\n",
       " 'max_features': None,\n",
       " 'max_leaf_nodes': None,\n",
       " 'min_impurity_decrease': 0.0,\n",
       " 'min_samples_leaf': 1,\n",
       " 'min_samples_split': 2,\n",
       " 'min_weight_fraction_leaf': 0.0,\n",
       " 'random_state': None,\n",
       " 'splitter': 'best'}"
      ]
     },
     "execution_count": 101,
     "metadata": {},
     "output_type": "execute_result"
    }
   ],
   "source": [
    "from sklearn.tree import DecisionTreeClassifier\n",
    "DT_classifier = DecisionTreeClassifier()\n",
    "DT_classifier.fit(x_train, y_train)\n",
    "DT_classifier.get_params()"
   ]
  },
  {
   "cell_type": "code",
   "execution_count": 102,
   "id": "ffca2374",
   "metadata": {},
   "outputs": [],
   "source": [
    "y_pred_DTC = DT_classifier.predict(x_test)"
   ]
  },
  {
   "cell_type": "code",
   "execution_count": 103,
   "id": "091a4e9c",
   "metadata": {},
   "outputs": [
    {
     "data": {
      "text/plain": [
       "0.9525456557830658"
      ]
     },
     "execution_count": 103,
     "metadata": {},
     "output_type": "execute_result"
    }
   ],
   "source": [
    "roc_auc_score(y_test, y_pred_DTC)"
   ]
  },
  {
   "cell_type": "code",
   "execution_count": 104,
   "id": "8d36f5de",
   "metadata": {},
   "outputs": [
    {
     "data": {
      "text/plain": [
       "<sklearn.metrics._plot.confusion_matrix.ConfusionMatrixDisplay at 0x205e23f28e0>"
      ]
     },
     "execution_count": 104,
     "metadata": {},
     "output_type": "execute_result"
    },
    {
     "data": {
      "image/png": "[encoded data removed]",
      "text/plain": [
       "<Figure size 640x480 with 2 Axes>"
      ]
     },
     "metadata": {},
     "output_type": "display_data"
    }
   ],
   "source": [
    "ConfusionMatrixDisplay(confusion_matrix(y_test, y_pred_DTC), \n",
    "                       display_labels= DT_classifier.classes_).plot()"
   ]
  },
  {
   "cell_type": "code",
   "execution_count": 105,
   "id": "5c32319d",
   "metadata": {},
   "outputs": [
    {
     "name": "stdout",
     "output_type": "stream",
     "text": [
      "              precision    recall  f1-score   support\n",
      "\n",
      "           0       0.99      0.98      0.98       278\n",
      "           1       0.91      0.92      0.91        52\n",
      "\n",
      "    accuracy                           0.97       330\n",
      "   macro avg       0.95      0.95      0.95       330\n",
      "weighted avg       0.97      0.97      0.97       330\n",
      "\n"
     ]
    }
   ],
   "source": [
    "print(classification_report(y_test, y_pred_DTC))"
   ]
  },
  {
   "cell_type": "code",
   "execution_count": 106,
   "id": "a138dc6a",
   "metadata": {},
   "outputs": [
    {
     "data": {
      "text/plain": [
       "0.9727272727272728"
      ]
     },
     "execution_count": 106,
     "metadata": {},
     "output_type": "execute_result"
    }
   ],
   "source": [
    "DT_classifier.score(x_test, y_test)"
   ]
  },
  {
   "cell_type": "markdown",
   "id": "e893f09c",
   "metadata": {},
   "source": [
    "### 12. Random Forest Classifier"
   ]
  },
  {
   "cell_type": "code",
   "execution_count": 107,
   "id": "b0d11f1b",
   "metadata": {},
   "outputs": [],
   "source": [
    "from sklearn.ensemble import RandomForestClassifier"
   ]
  },
  {
   "cell_type": "code",
   "execution_count": 108,
   "id": "48763c3e",
   "metadata": {},
   "outputs": [
    {
     "data": {
      "text/plain": [
       "{'bootstrap': True,\n",
       " 'ccp_alpha': 0.0,\n",
       " 'class_weight': None,\n",
       " 'criterion': 'gini',\n",
       " 'max_depth': None,\n",
       " 'max_features': 'sqrt',\n",
       " 'max_leaf_nodes': None,\n",
       " 'max_samples': None,\n",
       " 'min_impurity_decrease': 0.0,\n",
       " 'min_samples_leaf': 1,\n",
       " 'min_samples_split': 2,\n",
       " 'min_weight_fraction_leaf': 0.0,\n",
       " 'n_estimators': 100,\n",
       " 'n_jobs': None,\n",
       " 'oob_score': False,\n",
       " 'random_state': 42,\n",
       " 'verbose': 0,\n",
       " 'warm_start': False}"
      ]
     },
     "execution_count": 108,
     "metadata": {},
     "output_type": "execute_result"
    }
   ],
   "source": [
    "RF_classifier = RandomForestClassifier(random_state=42)\n",
    "RF_classifier.fit(x_train, y_train)\n",
    "RF_classifier.get_params()"
   ]
  },
  {
   "cell_type": "code",
   "execution_count": 109,
   "id": "745fec06",
   "metadata": {},
   "outputs": [],
   "source": [
    "y_pred_RFC = RF_classifier.predict(x_test)"
   ]
  },
  {
   "cell_type": "code",
   "execution_count": 110,
   "id": "e5a2f19e",
   "metadata": {},
   "outputs": [
    {
     "data": {
      "text/plain": [
       "0.9020475926950748"
      ]
     },
     "execution_count": 110,
     "metadata": {},
     "output_type": "execute_result"
    }
   ],
   "source": [
    "roc_auc_score(y_test, y_pred_RFC)"
   ]
  },
  {
   "cell_type": "code",
   "execution_count": 111,
   "id": "70eca21a",
   "metadata": {},
   "outputs": [
    {
     "data": {
      "text/plain": [
       "<sklearn.metrics._plot.confusion_matrix.ConfusionMatrixDisplay at 0x205da87d1c0>"
      ]
     },
     "execution_count": 111,
     "metadata": {},
     "output_type": "execute_result"
    },
    {
     "data": {
      "image/png": "[encoded data removed]",
      "text/plain": [
       "<Figure size 640x480 with 2 Axes>"
      ]
     },
     "metadata": {},
     "output_type": "display_data"
    }
   ],
   "source": [
    "ConfusionMatrixDisplay(confusion_matrix(y_test, y_pred_RFC), \n",
    "                       display_labels=RF_classifier.classes_).plot()"
   ]
  },
  {
   "cell_type": "code",
   "execution_count": 112,
   "id": "adc1008f",
   "metadata": {},
   "outputs": [
    {
     "name": "stdout",
     "output_type": "stream",
     "text": [
      "              precision    recall  f1-score   support\n",
      "\n",
      "           0       0.97      1.00      0.98       278\n",
      "           1       0.98      0.81      0.88        52\n",
      "\n",
      "    accuracy                           0.97       330\n",
      "   macro avg       0.97      0.90      0.93       330\n",
      "weighted avg       0.97      0.97      0.97       330\n",
      "\n"
     ]
    }
   ],
   "source": [
    "print(classification_report(y_test, y_pred_RFC))"
   ]
  },
  {
   "cell_type": "code",
   "execution_count": 113,
   "id": "a113bd0c",
   "metadata": {},
   "outputs": [
    {
     "data": {
      "text/plain": [
       "0.9666666666666667"
      ]
     },
     "execution_count": 113,
     "metadata": {},
     "output_type": "execute_result"
    }
   ],
   "source": [
    "RF_classifier.score(x_test, y_test)"
   ]
  },
  {
   "cell_type": "markdown",
   "id": "9b4753a4",
   "metadata": {},
   "source": [
    "### 13. AdaBoost Classifier"
   ]
  },
  {
   "cell_type": "code",
   "execution_count": 114,
   "id": "6190ef12",
   "metadata": {},
   "outputs": [
    {
     "data": {
      "text/plain": [
       "{'algorithm': 'SAMME.R',\n",
       " 'base_estimator__ccp_alpha': 0.0,\n",
       " 'base_estimator__criterion': 'friedman_mse',\n",
       " 'base_estimator__init': None,\n",
       " 'base_estimator__learning_rate': 0.1,\n",
       " 'base_estimator__loss': 'log_loss',\n",
       " 'base_estimator__max_depth': 3,\n",
       " 'base_estimator__max_features': None,\n",
       " 'base_estimator__max_leaf_nodes': None,\n",
       " 'base_estimator__min_impurity_decrease': 0.0,\n",
       " 'base_estimator__min_samples_leaf': 1,\n",
       " 'base_estimator__min_samples_split': 2,\n",
       " 'base_estimator__min_weight_fraction_leaf': 0.0,\n",
       " 'base_estimator__n_estimators': 100,\n",
       " 'base_estimator__n_iter_no_change': None,\n",
       " 'base_estimator__random_state': 42,\n",
       " 'base_estimator__subsample': 1.0,\n",
       " 'base_estimator__tol': 0.0001,\n",
       " 'base_estimator__validation_fraction': 0.1,\n",
       " 'base_estimator__verbose': 0,\n",
       " 'base_estimator__warm_start': False,\n",
       " 'base_estimator': GradientBoostingClassifier(random_state=42),\n",
       " 'learning_rate': 0.01,\n",
       " 'n_estimators': 50,\n",
       " 'random_state': None}"
      ]
     },
     "execution_count": 114,
     "metadata": {},
     "output_type": "execute_result"
    }
   ],
   "source": [
    "from sklearn.ensemble import AdaBoostClassifier, GradientBoostingClassifier\n",
    "base_est_gb = GradientBoostingClassifier(n_estimators=100, random_state=42)\n",
    "ABClassifier = AdaBoostClassifier(base_estimator=base_est_gb, learning_rate = 0.01)\n",
    "ABClassifier.get_params()"
   ]
  },
  {
   "cell_type": "code",
   "execution_count": 115,
   "id": "c0763d88",
   "metadata": {},
   "outputs": [
    {
     "data": {
      "text/html": [
       "<style>#sk-container-id-1 {color: black;background-color: white;}#sk-container-id-1 pre{padding: 0;}#sk-container-id-1 div.sk-toggleable {background-color: white;}#sk-container-id-1 label.sk-toggleable__label {cursor: pointer;display: block;width: 100%;margin-bottom: 0;padding: 0.3em;box-sizing: border-box;text-align: center;}#sk-container-id-1 label.sk-toggleable__label-arrow:before {content: \"▸\";float: left;margin-right: 0.25em;color: #696969;}#sk-container-id-1 label.sk-toggleable__label-arrow:hover:before {color: black;}#sk-container-id-1 div.sk-estimator:hover label.sk-toggleable__label-arrow:before {color: black;}#sk-container-id-1 div.sk-toggleable__content {max-height: 0;max-width: 0;overflow: hidden;text-align: left;background-color: #f0f8ff;}#sk-container-id-1 div.sk-toggleable__content pre {margin: 0.2em;color: black;border-radius: 0.25em;background-color: #f0f8ff;}#sk-container-id-1 input.sk-toggleable__control:checked~div.sk-toggleable__content {max-height: 200px;max-width: 100%;overflow: auto;}#sk-container-id-1 input.sk-toggleable__control:checked~label.sk-toggleable__label-arrow:before {content: \"▾\";}#sk-container-id-1 div.sk-estimator input.sk-toggleable__control:checked~label.sk-toggleable__label {background-color: #d4ebff;}#sk-container-id-1 div.sk-label input.sk-toggleable__control:checked~label.sk-toggleable__label {background-color: #d4ebff;}#sk-container-id-1 input.sk-hidden--visually {border: 0;clip: rect(1px 1px 1px 1px);clip: rect(1px, 1px, 1px, 1px);height: 1px;margin: -1px;overflow: hidden;padding: 0;position: absolute;width: 1px;}#sk-container-id-1 div.sk-estimator {font-family: monospace;background-color: #f0f8ff;border: 1px dotted black;border-radius: 0.25em;box-sizing: border-box;margin-bottom: 0.5em;}#sk-container-id-1 div.sk-estimator:hover {background-color: #d4ebff;}#sk-container-id-1 div.sk-parallel-item::after {content: \"\";width: 100%;border-bottom: 1px solid gray;flex-grow: 1;}#sk-container-id-1 div.sk-label:hover label.sk-toggleable__label {background-color: #d4ebff;}#sk-container-id-1 div.sk-serial::before {content: \"\";position: absolute;border-left: 1px solid gray;box-sizing: border-box;top: 0;bottom: 0;left: 50%;z-index: 0;}#sk-container-id-1 div.sk-serial {display: flex;flex-direction: column;align-items: center;background-color: white;padding-right: 0.2em;padding-left: 0.2em;position: relative;}#sk-container-id-1 div.sk-item {position: relative;z-index: 1;}#sk-container-id-1 div.sk-parallel {display: flex;align-items: stretch;justify-content: center;background-color: white;position: relative;}#sk-container-id-1 div.sk-item::before, #sk-container-id-1 div.sk-parallel-item::before {content: \"\";position: absolute;border-left: 1px solid gray;box-sizing: border-box;top: 0;bottom: 0;left: 50%;z-index: -1;}#sk-container-id-1 div.sk-parallel-item {display: flex;flex-direction: column;z-index: 1;position: relative;background-color: white;}#sk-container-id-1 div.sk-parallel-item:first-child::after {align-self: flex-end;width: 50%;}#sk-container-id-1 div.sk-parallel-item:last-child::after {align-self: flex-start;width: 50%;}#sk-container-id-1 div.sk-parallel-item:only-child::after {width: 0;}#sk-container-id-1 div.sk-dashed-wrapped {border: 1px dashed gray;margin: 0 0.4em 0.5em 0.4em;box-sizing: border-box;padding-bottom: 0.4em;background-color: white;}#sk-container-id-1 div.sk-label label {font-family: monospace;font-weight: bold;display: inline-block;line-height: 1.2em;}#sk-container-id-1 div.sk-label-container {text-align: center;}#sk-container-id-1 div.sk-container {/* jupyter's `normalize.less` sets `[hidden] { display: none; }` but bootstrap.min.css set `[hidden] { display: none !important; }` so we also need the `!important` here to be able to override the default hidden behavior on the sphinx rendered scikit-learn.org. See: https://github.com/scikit-learn/scikit-learn/issues/21755 */display: inline-block !important;position: relative;}#sk-container-id-1 div.sk-text-repr-fallback {display: none;}</style><div id=\"sk-container-id-1\" class=\"sk-top-container\"><div class=\"sk-text-repr-fallback\"><pre>AdaBoostClassifier(base_estimator=GradientBoostingClassifier(random_state=42),\n",
       "                   learning_rate=0.01)</pre><b>In a Jupyter environment, please rerun this cell to show the HTML representation or trust the notebook. <br />On GitHub, the HTML representation is unable to render, please try loading this page with nbviewer.org.</b></div><div class=\"sk-container\" hidden><div class=\"sk-item sk-dashed-wrapped\"><div class=\"sk-label-container\"><div class=\"sk-label sk-toggleable\"><input class=\"sk-toggleable__control sk-hidden--visually\" id=\"sk-estimator-id-1\" type=\"checkbox\" ><label for=\"sk-estimator-id-1\" class=\"sk-toggleable__label sk-toggleable__label-arrow\">AdaBoostClassifier</label><div class=\"sk-toggleable__content\"><pre>AdaBoostClassifier(base_estimator=GradientBoostingClassifier(random_state=42),\n",
       "                   learning_rate=0.01)</pre></div></div></div><div class=\"sk-parallel\"><div class=\"sk-parallel-item\"><div class=\"sk-item\"><div class=\"sk-label-container\"><div class=\"sk-label sk-toggleable\"><input class=\"sk-toggleable__control sk-hidden--visually\" id=\"sk-estimator-id-2\" type=\"checkbox\" ><label for=\"sk-estimator-id-2\" class=\"sk-toggleable__label sk-toggleable__label-arrow\">base_estimator: GradientBoostingClassifier</label><div class=\"sk-toggleable__content\"><pre>GradientBoostingClassifier(random_state=42)</pre></div></div></div><div class=\"sk-serial\"><div class=\"sk-item\"><div class=\"sk-estimator sk-toggleable\"><input class=\"sk-toggleable__control sk-hidden--visually\" id=\"sk-estimator-id-3\" type=\"checkbox\" ><label for=\"sk-estimator-id-3\" class=\"sk-toggleable__label sk-toggleable__label-arrow\">GradientBoostingClassifier</label><div class=\"sk-toggleable__content\"><pre>GradientBoostingClassifier(random_state=42)</pre></div></div></div></div></div></div></div></div></div></div>"
      ],
      "text/plain": [
       "AdaBoostClassifier(base_estimator=GradientBoostingClassifier(random_state=42),\n",
       "                   learning_rate=0.01)"
      ]
     },
     "execution_count": 115,
     "metadata": {},
     "output_type": "execute_result"
    }
   ],
   "source": [
    "ABClassifier.fit(x_train, y_train)"
   ]
  },
  {
   "cell_type": "code",
   "execution_count": 116,
   "id": "bc4f1e1a",
   "metadata": {},
   "outputs": [],
   "source": [
    "y_pred_ABClassifier = ABClassifier.predict(x_test)"
   ]
  },
  {
   "cell_type": "code",
   "execution_count": 117,
   "id": "b9b3424f",
   "metadata": {},
   "outputs": [
    {
     "data": {
      "text/plain": [
       "0.89243220807969"
      ]
     },
     "execution_count": 117,
     "metadata": {},
     "output_type": "execute_result"
    }
   ],
   "source": [
    "roc_auc_score(y_test, y_pred_ABClassifier)"
   ]
  },
  {
   "cell_type": "code",
   "execution_count": 118,
   "id": "dab6402d",
   "metadata": {},
   "outputs": [
    {
     "data": {
      "text/plain": [
       "<sklearn.metrics._plot.confusion_matrix.ConfusionMatrixDisplay at 0x205e4028dc0>"
      ]
     },
     "execution_count": 118,
     "metadata": {},
     "output_type": "execute_result"
    },
    {
     "data": {
      "image/png": "[encoded data removed]",
      "text/plain": [
       "<Figure size 640x480 with 2 Axes>"
      ]
     },
     "metadata": {},
     "output_type": "display_data"
    }
   ],
   "source": [
    "ConfusionMatrixDisplay(confusion_matrix(y_test, y_pred_ABClassifier), \n",
    "                       display_labels=ABClassifier.classes_).plot()"
   ]
  },
  {
   "cell_type": "code",
   "execution_count": 119,
   "id": "a5ede3e1",
   "metadata": {},
   "outputs": [
    {
     "name": "stdout",
     "output_type": "stream",
     "text": [
      "              precision    recall  f1-score   support\n",
      "\n",
      "           0       0.96      1.00      0.98       278\n",
      "           1       0.98      0.79      0.87        52\n",
      "\n",
      "    accuracy                           0.96       330\n",
      "   macro avg       0.97      0.89      0.93       330\n",
      "weighted avg       0.96      0.96      0.96       330\n",
      "\n"
     ]
    }
   ],
   "source": [
    "print(classification_report(y_test, y_pred_ABClassifier))"
   ]
  },
  {
   "cell_type": "code",
   "execution_count": 120,
   "id": "79641193",
   "metadata": {
    "scrolled": true
   },
   "outputs": [
    {
     "data": {
      "text/plain": [
       "0.9636363636363636"
      ]
     },
     "execution_count": 120,
     "metadata": {},
     "output_type": "execute_result"
    }
   ],
   "source": [
    "ABClassifier.score(x_test, y_test)"
   ]
  },
  {
   "cell_type": "markdown",
   "id": "30142fa2",
   "metadata": {},
   "source": [
    "### 14. Stacking Classifier\n",
    "\n",
    "We use a Stacking Classifier with base Models as Decision Tree, Random Forests and Gradient Boosting. Our Meta Classifier is chosen to be Logisitic Regression."
   ]
  },
  {
   "cell_type": "code",
   "execution_count": 121,
   "id": "62a5bc06",
   "metadata": {},
   "outputs": [
    {
     "data": {
      "text/plain": [
       "{'cv': 5,\n",
       " 'estimators': [('RF', RandomForestClassifier(random_state=42)),\n",
       "  ('GB', GradientBoostingClassifier(random_state=42)),\n",
       "  ('DT', DecisionTreeClassifier(random_state=42))],\n",
       " 'final_estimator__C': 1.0,\n",
       " 'final_estimator__class_weight': None,\n",
       " 'final_estimator__dual': False,\n",
       " 'final_estimator__fit_intercept': True,\n",
       " 'final_estimator__intercept_scaling': 1,\n",
       " 'final_estimator__l1_ratio': None,\n",
       " 'final_estimator__max_iter': 100,\n",
       " 'final_estimator__multi_class': 'auto',\n",
       " 'final_estimator__n_jobs': None,\n",
       " 'final_estimator__penalty': 'l2',\n",
       " 'final_estimator__random_state': None,\n",
       " 'final_estimator__solver': 'lbfgs',\n",
       " 'final_estimator__tol': 0.0001,\n",
       " 'final_estimator__verbose': 0,\n",
       " 'final_estimator__warm_start': False,\n",
       " 'final_estimator': LogisticRegression(),\n",
       " 'n_jobs': None,\n",
       " 'passthrough': False,\n",
       " 'stack_method': 'auto',\n",
       " 'verbose': 0,\n",
       " 'RF': RandomForestClassifier(random_state=42),\n",
       " 'GB': GradientBoostingClassifier(random_state=42),\n",
       " 'DT': DecisionTreeClassifier(random_state=42),\n",
       " 'RF__bootstrap': True,\n",
       " 'RF__ccp_alpha': 0.0,\n",
       " 'RF__class_weight': None,\n",
       " 'RF__criterion': 'gini',\n",
       " 'RF__max_depth': None,\n",
       " 'RF__max_features': 'sqrt',\n",
       " 'RF__max_leaf_nodes': None,\n",
       " 'RF__max_samples': None,\n",
       " 'RF__min_impurity_decrease': 0.0,\n",
       " 'RF__min_samples_leaf': 1,\n",
       " 'RF__min_samples_split': 2,\n",
       " 'RF__min_weight_fraction_leaf': 0.0,\n",
       " 'RF__n_estimators': 100,\n",
       " 'RF__n_jobs': None,\n",
       " 'RF__oob_score': False,\n",
       " 'RF__random_state': 42,\n",
       " 'RF__verbose': 0,\n",
       " 'RF__warm_start': False,\n",
       " 'GB__ccp_alpha': 0.0,\n",
       " 'GB__criterion': 'friedman_mse',\n",
       " 'GB__init': None,\n",
       " 'GB__learning_rate': 0.1,\n",
       " 'GB__loss': 'log_loss',\n",
       " 'GB__max_depth': 3,\n",
       " 'GB__max_features': None,\n",
       " 'GB__max_leaf_nodes': None,\n",
       " 'GB__min_impurity_decrease': 0.0,\n",
       " 'GB__min_samples_leaf': 1,\n",
       " 'GB__min_samples_split': 2,\n",
       " 'GB__min_weight_fraction_leaf': 0.0,\n",
       " 'GB__n_estimators': 100,\n",
       " 'GB__n_iter_no_change': None,\n",
       " 'GB__random_state': 42,\n",
       " 'GB__subsample': 1.0,\n",
       " 'GB__tol': 0.0001,\n",
       " 'GB__validation_fraction': 0.1,\n",
       " 'GB__verbose': 0,\n",
       " 'GB__warm_start': False,\n",
       " 'DT__ccp_alpha': 0.0,\n",
       " 'DT__class_weight': None,\n",
       " 'DT__criterion': 'gini',\n",
       " 'DT__max_depth': None,\n",
       " 'DT__max_features': None,\n",
       " 'DT__max_leaf_nodes': None,\n",
       " 'DT__min_impurity_decrease': 0.0,\n",
       " 'DT__min_samples_leaf': 1,\n",
       " 'DT__min_samples_split': 2,\n",
       " 'DT__min_weight_fraction_leaf': 0.0,\n",
       " 'DT__random_state': 42,\n",
       " 'DT__splitter': 'best'}"
      ]
     },
     "execution_count": 121,
     "metadata": {},
     "output_type": "execute_result"
    }
   ],
   "source": [
    "from sklearn.ensemble import StackingClassifier\n",
    "\n",
    "base_est_svm = SVC()\n",
    "base_est_gb = GradientBoostingClassifier(n_estimators=100, random_state=42)\n",
    "base_est_rf = RandomForestClassifier(n_estimators=100, random_state=42)\n",
    "base_est_dt = DecisionTreeClassifier(random_state=42)\n",
    "estimators = [('RF', base_est_rf), ('GB', base_est_gb), ('DT', base_est_dt)]\n",
    "StackClassifier = StackingClassifier(estimators=estimators, final_estimator=LogisticRegression(), cv=5)\n",
    "StackClassifier.get_params()"
   ]
  },
  {
   "cell_type": "code",
   "execution_count": 122,
   "id": "f841a770",
   "metadata": {},
   "outputs": [
    {
     "data": {
      "text/html": [
       "<style>#sk-container-id-2 {color: black;background-color: white;}#sk-container-id-2 pre{padding: 0;}#sk-container-id-2 div.sk-toggleable {background-color: white;}#sk-container-id-2 label.sk-toggleable__label {cursor: pointer;display: block;width: 100%;margin-bottom: 0;padding: 0.3em;box-sizing: border-box;text-align: center;}#sk-container-id-2 label.sk-toggleable__label-arrow:before {content: \"▸\";float: left;margin-right: 0.25em;color: #696969;}#sk-container-id-2 label.sk-toggleable__label-arrow:hover:before {color: black;}#sk-container-id-2 div.sk-estimator:hover label.sk-toggleable__label-arrow:before {color: black;}#sk-container-id-2 div.sk-toggleable__content {max-height: 0;max-width: 0;overflow: hidden;text-align: left;background-color: #f0f8ff;}#sk-container-id-2 div.sk-toggleable__content pre {margin: 0.2em;color: black;border-radius: 0.25em;background-color: #f0f8ff;}#sk-container-id-2 input.sk-toggleable__control:checked~div.sk-toggleable__content {max-height: 200px;max-width: 100%;overflow: auto;}#sk-container-id-2 input.sk-toggleable__control:checked~label.sk-toggleable__label-arrow:before {content: \"▾\";}#sk-container-id-2 div.sk-estimator input.sk-toggleable__control:checked~label.sk-toggleable__label {background-color: #d4ebff;}#sk-container-id-2 div.sk-label input.sk-toggleable__control:checked~label.sk-toggleable__label {background-color: #d4ebff;}#sk-container-id-2 input.sk-hidden--visually {border: 0;clip: rect(1px 1px 1px 1px);clip: rect(1px, 1px, 1px, 1px);height: 1px;margin: -1px;overflow: hidden;padding: 0;position: absolute;width: 1px;}#sk-container-id-2 div.sk-estimator {font-family: monospace;background-color: #f0f8ff;border: 1px dotted black;border-radius: 0.25em;box-sizing: border-box;margin-bottom: 0.5em;}#sk-container-id-2 div.sk-estimator:hover {background-color: #d4ebff;}#sk-container-id-2 div.sk-parallel-item::after {content: \"\";width: 100%;border-bottom: 1px solid gray;flex-grow: 1;}#sk-container-id-2 div.sk-label:hover label.sk-toggleable__label {background-color: #d4ebff;}#sk-container-id-2 div.sk-serial::before {content: \"\";position: absolute;border-left: 1px solid gray;box-sizing: border-box;top: 0;bottom: 0;left: 50%;z-index: 0;}#sk-container-id-2 div.sk-serial {display: flex;flex-direction: column;align-items: center;background-color: white;padding-right: 0.2em;padding-left: 0.2em;position: relative;}#sk-container-id-2 div.sk-item {position: relative;z-index: 1;}#sk-container-id-2 div.sk-parallel {display: flex;align-items: stretch;justify-content: center;background-color: white;position: relative;}#sk-container-id-2 div.sk-item::before, #sk-container-id-2 div.sk-parallel-item::before {content: \"\";position: absolute;border-left: 1px solid gray;box-sizing: border-box;top: 0;bottom: 0;left: 50%;z-index: -1;}#sk-container-id-2 div.sk-parallel-item {display: flex;flex-direction: column;z-index: 1;position: relative;background-color: white;}#sk-container-id-2 div.sk-parallel-item:first-child::after {align-self: flex-end;width: 50%;}#sk-container-id-2 div.sk-parallel-item:last-child::after {align-self: flex-start;width: 50%;}#sk-container-id-2 div.sk-parallel-item:only-child::after {width: 0;}#sk-container-id-2 div.sk-dashed-wrapped {border: 1px dashed gray;margin: 0 0.4em 0.5em 0.4em;box-sizing: border-box;padding-bottom: 0.4em;background-color: white;}#sk-container-id-2 div.sk-label label {font-family: monospace;font-weight: bold;display: inline-block;line-height: 1.2em;}#sk-container-id-2 div.sk-label-container {text-align: center;}#sk-container-id-2 div.sk-container {/* jupyter's `normalize.less` sets `[hidden] { display: none; }` but bootstrap.min.css set `[hidden] { display: none !important; }` so we also need the `!important` here to be able to override the default hidden behavior on the sphinx rendered scikit-learn.org. See: https://github.com/scikit-learn/scikit-learn/issues/21755 */display: inline-block !important;position: relative;}#sk-container-id-2 div.sk-text-repr-fallback {display: none;}</style><div id=\"sk-container-id-2\" class=\"sk-top-container\"><div class=\"sk-text-repr-fallback\"><pre>StackingClassifier(cv=5,\n",
       "                   estimators=[(&#x27;RF&#x27;, RandomForestClassifier(random_state=42)),\n",
       "                               (&#x27;GB&#x27;,\n",
       "                                GradientBoostingClassifier(random_state=42)),\n",
       "                               (&#x27;DT&#x27;, DecisionTreeClassifier(random_state=42))],\n",
       "                   final_estimator=LogisticRegression())</pre><b>In a Jupyter environment, please rerun this cell to show the HTML representation or trust the notebook. <br />On GitHub, the HTML representation is unable to render, please try loading this page with nbviewer.org.</b></div><div class=\"sk-container\" hidden><div class=\"sk-item sk-dashed-wrapped\"><div class=\"sk-label-container\"><div class=\"sk-label sk-toggleable\"><input class=\"sk-toggleable__control sk-hidden--visually\" id=\"sk-estimator-id-4\" type=\"checkbox\" ><label for=\"sk-estimator-id-4\" class=\"sk-toggleable__label sk-toggleable__label-arrow\">StackingClassifier</label><div class=\"sk-toggleable__content\"><pre>StackingClassifier(cv=5,\n",
       "                   estimators=[(&#x27;RF&#x27;, RandomForestClassifier(random_state=42)),\n",
       "                               (&#x27;GB&#x27;,\n",
       "                                GradientBoostingClassifier(random_state=42)),\n",
       "                               (&#x27;DT&#x27;, DecisionTreeClassifier(random_state=42))],\n",
       "                   final_estimator=LogisticRegression())</pre></div></div></div><div class=\"sk-serial\"><div class=\"sk-item\"><div class=\"sk-parallel\"><div class=\"sk-parallel-item\"><div class=\"sk-item\"><div class=\"sk-label-container\"><div class=\"sk-label sk-toggleable\"><label>RF</label></div></div><div class=\"sk-serial\"><div class=\"sk-item\"><div class=\"sk-estimator sk-toggleable\"><input class=\"sk-toggleable__control sk-hidden--visually\" id=\"sk-estimator-id-5\" type=\"checkbox\" ><label for=\"sk-estimator-id-5\" class=\"sk-toggleable__label sk-toggleable__label-arrow\">RandomForestClassifier</label><div class=\"sk-toggleable__content\"><pre>RandomForestClassifier(random_state=42)</pre></div></div></div></div></div></div><div class=\"sk-parallel-item\"><div class=\"sk-item\"><div class=\"sk-label-container\"><div class=\"sk-label sk-toggleable\"><label>GB</label></div></div><div class=\"sk-serial\"><div class=\"sk-item\"><div class=\"sk-estimator sk-toggleable\"><input class=\"sk-toggleable__control sk-hidden--visually\" id=\"sk-estimator-id-6\" type=\"checkbox\" ><label for=\"sk-estimator-id-6\" class=\"sk-toggleable__label sk-toggleable__label-arrow\">GradientBoostingClassifier</label><div class=\"sk-toggleable__content\"><pre>GradientBoostingClassifier(random_state=42)</pre></div></div></div></div></div></div><div class=\"sk-parallel-item\"><div class=\"sk-item\"><div class=\"sk-label-container\"><div class=\"sk-label sk-toggleable\"><label>DT</label></div></div><div class=\"sk-serial\"><div class=\"sk-item\"><div class=\"sk-estimator sk-toggleable\"><input class=\"sk-toggleable__control sk-hidden--visually\" id=\"sk-estimator-id-7\" type=\"checkbox\" ><label for=\"sk-estimator-id-7\" class=\"sk-toggleable__label sk-toggleable__label-arrow\">DecisionTreeClassifier</label><div class=\"sk-toggleable__content\"><pre>DecisionTreeClassifier(random_state=42)</pre></div></div></div></div></div></div></div></div><div class=\"sk-item\"><div class=\"sk-parallel\"><div class=\"sk-parallel-item\"><div class=\"sk-item\"><div class=\"sk-label-container\"><div class=\"sk-label sk-toggleable\"><label>final_estimator</label></div></div><div class=\"sk-serial\"><div class=\"sk-item\"><div class=\"sk-estimator sk-toggleable\"><input class=\"sk-toggleable__control sk-hidden--visually\" id=\"sk-estimator-id-8\" type=\"checkbox\" ><label for=\"sk-estimator-id-8\" class=\"sk-toggleable__label sk-toggleable__label-arrow\">LogisticRegression</label><div class=\"sk-toggleable__content\"><pre>LogisticRegression()</pre></div></div></div></div></div></div></div></div></div></div></div></div>"
      ],
      "text/plain": [
       "StackingClassifier(cv=5,\n",
       "                   estimators=[('RF', RandomForestClassifier(random_state=42)),\n",
       "                               ('GB',\n",
       "                                GradientBoostingClassifier(random_state=42)),\n",
       "                               ('DT', DecisionTreeClassifier(random_state=42))],\n",
       "                   final_estimator=LogisticRegression())"
      ]
     },
     "execution_count": 122,
     "metadata": {},
     "output_type": "execute_result"
    }
   ],
   "source": [
    "StackClassifier.fit(x_train, y_train)"
   ]
  },
  {
   "cell_type": "code",
   "execution_count": 123,
   "id": "399370b1",
   "metadata": {},
   "outputs": [],
   "source": [
    "y_pred_Stack = StackClassifier.predict(x_test)"
   ]
  },
  {
   "cell_type": "code",
   "execution_count": 124,
   "id": "b7698f8d",
   "metadata": {},
   "outputs": [
    {
     "data": {
      "text/plain": [
       "0.9116629773104593"
      ]
     },
     "execution_count": 124,
     "metadata": {},
     "output_type": "execute_result"
    }
   ],
   "source": [
    "roc_auc_score(y_test, y_pred_Stack)"
   ]
  },
  {
   "cell_type": "code",
   "execution_count": 125,
   "id": "5cecfc05",
   "metadata": {},
   "outputs": [
    {
     "data": {
      "text/plain": [
       "<sklearn.metrics._plot.confusion_matrix.ConfusionMatrixDisplay at 0x205e50cdd60>"
      ]
     },
     "execution_count": 125,
     "metadata": {},
     "output_type": "execute_result"
    },
    {
     "data": {
      "image/png": "[encoded data removed]",
      "text/plain": [
       "<Figure size 640x480 with 2 Axes>"
      ]
     },
     "metadata": {},
     "output_type": "display_data"
    }
   ],
   "source": [
    "ConfusionMatrixDisplay(confusion_matrix(y_test, y_pred_Stack), \n",
    "                       display_labels=StackClassifier.classes_).plot()"
   ]
  },
  {
   "cell_type": "code",
   "execution_count": 126,
   "id": "34372418",
   "metadata": {
    "scrolled": true
   },
   "outputs": [
    {
     "name": "stdout",
     "output_type": "stream",
     "text": [
      "              precision    recall  f1-score   support\n",
      "\n",
      "           0       0.97      1.00      0.98       278\n",
      "           1       0.98      0.83      0.90        52\n",
      "\n",
      "    accuracy                           0.97       330\n",
      "   macro avg       0.97      0.91      0.94       330\n",
      "weighted avg       0.97      0.97      0.97       330\n",
      "\n"
     ]
    }
   ],
   "source": [
    "print(classification_report(y_test, y_pred_Stack))"
   ]
  },
  {
   "cell_type": "code",
   "execution_count": 127,
   "id": "cc4e1e5f",
   "metadata": {},
   "outputs": [
    {
     "data": {
      "text/plain": [
       "0.9696969696969697"
      ]
     },
     "execution_count": 127,
     "metadata": {},
     "output_type": "execute_result"
    }
   ],
   "source": [
    "StackClassifier.score(x_test, y_test)"
   ]
  },
  {
   "cell_type": "markdown",
   "id": "e8ba7a2f",
   "metadata": {},
   "source": [
    "### Comparison of Scores"
   ]
  },
  {
   "cell_type": "code",
   "execution_count": 128,
   "id": "ed1c253f",
   "metadata": {},
   "outputs": [
    {
     "name": "stdout",
     "output_type": "stream",
     "text": [
      "Stacking Classifier:  0.9696969696969697\n",
      "AdaBoost Classifier:  0.9636363636363636\n",
      "Random Forest Classifier:  0.9666666666666667\n",
      "kNN Classifier:  0.9636363636363636\n",
      "Naive Bayes Classifier:  0.8\n",
      "Decision Tree Classifier:  0.9727272727272728\n",
      "SVM Classifier:  0.9272727272727272\n"
     ]
    }
   ],
   "source": [
    "print('Stacking Classifier: ', StackClassifier.score(x_test, y_test))\n",
    "print('AdaBoost Classifier: ', ABClassifier.score(x_test, y_test))\n",
    "print('Random Forest Classifier: ', RF_classifier.score(x_test, y_test))\n",
    "print('kNN Classifier: ', kNN_class.score(x_test, y_test))\n",
    "print('Naive Bayes Classifier: ', Gaussian.score(x_test, y_test))\n",
    "print('Decision Tree Classifier: ', DT_classifier.score(x_test, y_test))\n",
    "print('SVM Classifier: ', SV_classifier.score(x_test, y_test))"
   ]
  },
  {
   "cell_type": "markdown",
   "id": "9ab51b5b",
   "metadata": {},
   "source": [
    "We can see that the score is highest for Stacking Classifiers but it is not so different when compared to the AdaBoost, kNN, Random Forests or even Decision Trees! Thus, we can choose to use any of the aforementioned algorithms. \n",
    "\n",
    "However, we can also get some inference from the ROC Curve."
   ]
  },
  {
   "cell_type": "markdown",
   "id": "13d7d7a3",
   "metadata": {},
   "source": [
    "### ROC Curve"
   ]
  },
  {
   "cell_type": "code",
   "execution_count": 129,
   "id": "e4af0641",
   "metadata": {},
   "outputs": [
    {
     "data": {
      "image/png": "[encoded data removed]",
      "text/plain": [
       "<Figure size 640x480 with 1 Axes>"
      ]
     },
     "metadata": {},
     "output_type": "display_data"
    }
   ],
   "source": [
    "fpr1, tpr1, thresholds = roc_curve(y_test, y_pred_logistic)\n",
    "fpr2, tpr2, thresholds = roc_curve(y_test, y_pred_kNN)\n",
    "fpr3, tpr3, thresholds = roc_curve(y_test, y_pred_kNNClass)\n",
    "fpr4, tpr4, thresholds = roc_curve(y_test, y_pred_NB)\n",
    "fpr5, tpr5, thresholds = roc_curve(y_test, y_pred_SVC)\n",
    "fpr6, tpr6, thresholds = roc_curve(y_test, y_pred_DTC)\n",
    "fpr7, tpr7, thresholds = roc_curve(y_test, y_pred_RFC)\n",
    "fpr8, tpr8, thresholds = roc_curve(y_test, y_pred_ABClassifier)\n",
    "fpr9, tpr9, thresholds = roc_curve(y_test, y_pred_Stack)\n",
    "plt.plot(fpr1, tpr1, '--', label='Logistic Regression')\n",
    "plt.plot(fpr2, tpr2, '--', label='kNN Regression')\n",
    "plt.plot(fpr3, tpr3, '--', label='kNN Classification')\n",
    "plt.plot(fpr4, tpr4, '--', label='Naive Bayes Classification')\n",
    "plt.plot(fpr5, tpr5, '--', label='SVM Classification')\n",
    "plt.plot(fpr6, tpr6, '--', label='Decision Tree Classification')\n",
    "plt.plot(fpr7, tpr7, '--', label='Random Forest Classification')\n",
    "plt.plot(fpr8, tpr8, '--', label='AdaBoost Classifier')\n",
    "plt.plot(fpr9, tpr9, '--', label='Stacking Classifier')\n",
    "plt.plot([0,1], [0,1], ':')\n",
    "plt.title('ROC Curve')\n",
    "plt.xlabel('False Positive Rate')\n",
    "plt.ylabel('True Positive rate')\n",
    "plt.legend(bbox_to_anchor=(1, 0.5), loc='center left')\n",
    "plt.show()"
   ]
  },
  {
   "cell_type": "markdown",
   "id": "df56ea5c",
   "metadata": {},
   "source": [
    "From the ROC Curve, we can get the inference that it is better to use a kNN Algorithm since it classifies most of the Positives correctly as well as also maintaining a favourable False Positives. Thus, the kNN accounts for better sensitivity. There is approximately a close tie between the Decision Tree, Stacking Classifier and the Random Forest Classifier. \n",
    "\n",
    "If we were to compromise on the Sensitivity for the score, then choosing to go forward with the Stacking Classifier would make sense. Otherwise, it would be better to choose the kNN algorithm. \n",
    "\n",
    "In terms of Precision and Recall, we are limited to kNN as well as a Stacked Classifier which combines the base model of Decision Tree, Random Forests and Gradient Boosting."
   ]
  },
  {
   "cell_type": "markdown",
   "id": "b678b54e",
   "metadata": {},
   "source": [
    "### Further Notes"
   ]
  },
  {
   "cell_type": "markdown",
   "id": "1a115eb9",
   "metadata": {},
   "source": [
    "1. We have not considered the advantages of using cross-validation on this dataset, but it may lead to a better understanding of which algorithm performs better.\n",
    "2. Other Boosting Algorithms such as XGBoost may also be tested.\n",
    "3. Implementation of Stacking, Boosting and Bagging techniques are not necessary to yield appreciable results, however it may be useful when considering the consequences of False Positives.\n",
    "4. There is a high chance that the Decision Tree is overfitting and we may be forced to resort to kNN as a better algorithm in this case."
   ]
  }
 ],
 "metadata": {
  "kernelspec": {
   "display_name": "Python 3 (ipykernel)",
   "language": "python",
   "name": "python3"
  },
  "language_info": {
   "codemirror_mode": {
    "name": "ipython",
    "version": 3
   },
   "file_extension": ".py",
   "mimetype": "text/x-python",
   "name": "python",
   "nbconvert_exporter": "python",
   "pygments_lexer": "ipython3",
   "version": "3.9.13"
  }
 },
 "nbformat": 4,
 "nbformat_minor": 5
}
