{
  "nbformat": 4,
  "nbformat_minor": 0,
  "metadata": {
    "colab": {
      "provenance": []
    },
    "kernelspec": {
      "name": "python3",
      "display_name": "Python 3"
    },
    "language_info": {
      "name": "python"
    }
  },
  "cells": [
    {
      "cell_type": "markdown",
      "source": [
        "# Wholesale Customers Data\n",
        "\n",
        "The dataset can be found [here](https://www.kaggle.com/datasets/binovi/wholesale-customers-data-set). The dataset consists of 8 columns, namely:\n",
        "\n",
        "1. FRESH: Annual spending on fresh products (Continuous);\n",
        "2. MILK: Annual spending on milk products (Continuous);\n",
        "3. GROCERY: Annual spending on grocery products (Continuous);\n",
        "4. FROZEN: Annual spending on frozen products (Continuous)\n",
        "5. DETERGENTS_PAPER: annual spending on detergents and paper products (Continuous)\n",
        "6. DELICATESSEN: annual spending on and delicatessen products (Continuous);\n",
        "7. CHANNEL: customer's Channel - Horeca (Hotel/Restaurant/CafÃ©) channel or Retail channel (Nominal)\n",
        "8. REGION: customer's Region - Lisbon, Oporto or Other (Nominal)\n",
        "\n",
        "We will implement the K-Means and then the Agglomerative Clustering algorithms."
      ],
      "metadata": {
        "id": "631e534ocByl"
      }
    },
    {
      "cell_type": "code",
      "execution_count": 1,
      "metadata": {
        "id": "auAgc52Rb3Wz"
      },
      "outputs": [],
      "source": [
        "import pandas as pd\n",
        "import numpy as np\n",
        "import matplotlib.pyplot as plt\n",
        "import seaborn as sns\n",
        "sns.set()"
      ]
    },
    {
      "cell_type": "code",
      "source": [
        "data = pd.read_csv(r'/content/drive/MyDrive/Colab Notebooks/Machine Learning/Data Training/Wholesale Customers Dataset/Wholesale_customers.csv')\n",
        "data.head()"
      ],
      "metadata": {
        "colab": {
          "base_uri": "https://localhost:8080/",
          "height": 206
        },
        "id": "cHzFPlxgcLGy",
        "outputId": "30fa5b6e-a818-44b1-8d27-18990c3fbc4f"
      },
      "execution_count": 2,
      "outputs": [
        {
          "output_type": "execute_result",
          "data": {
            "text/plain": [
              "   Channel  Region  Fresh  Milk  Grocery  Frozen  Detergents_Paper  Delicassen\n",
              "0        2       3  12669  9656     7561     214              2674        1338\n",
              "1        2       3   7057  9810     9568    1762              3293        1776\n",
              "2        2       3   6353  8808     7684    2405              3516        7844\n",
              "3        1       3  13265  1196     4221    6404               507        1788\n",
              "4        2       3  22615  5410     7198    3915              1777        5185"
            ],
            "text/html": [
              "\n",
              "  <div id=\"df-0c583f10-c444-49cd-912a-f3ff7ff1f2f2\">\n",
              "    <div class=\"colab-df-container\">\n",
              "      <div>\n",
              "<style scoped>\n",
              "    .dataframe tbody tr th:only-of-type {\n",
              "        vertical-align: middle;\n",
              "    }\n",
              "\n",
              "    .dataframe tbody tr th {\n",
              "        vertical-align: top;\n",
              "    }\n",
              "\n",
              "    .dataframe thead th {\n",
              "        text-align: right;\n",
              "    }\n",
              "</style>\n",
              "<table border=\"1\" class=\"dataframe\">\n",
              "  <thead>\n",
              "    <tr style=\"text-align: right;\">\n",
              "      <th></th>\n",
              "      <th>Channel</th>\n",
              "      <th>Region</th>\n",
              "      <th>Fresh</th>\n",
              "      <th>Milk</th>\n",
              "      <th>Grocery</th>\n",
              "      <th>Frozen</th>\n",
              "      <th>Detergents_Paper</th>\n",
              "      <th>Delicassen</th>\n",
              "    </tr>\n",
              "  </thead>\n",
              "  <tbody>\n",
              "    <tr>\n",
              "      <th>0</th>\n",
              "      <td>2</td>\n",
              "      <td>3</td>\n",
              "      <td>12669</td>\n",
              "      <td>9656</td>\n",
              "      <td>7561</td>\n",
              "      <td>214</td>\n",
              "      <td>2674</td>\n",
              "      <td>1338</td>\n",
              "    </tr>\n",
              "    <tr>\n",
              "      <th>1</th>\n",
              "      <td>2</td>\n",
              "      <td>3</td>\n",
              "      <td>7057</td>\n",
              "      <td>9810</td>\n",
              "      <td>9568</td>\n",
              "      <td>1762</td>\n",
              "      <td>3293</td>\n",
              "      <td>1776</td>\n",
              "    </tr>\n",
              "    <tr>\n",
              "      <th>2</th>\n",
              "      <td>2</td>\n",
              "      <td>3</td>\n",
              "      <td>6353</td>\n",
              "      <td>8808</td>\n",
              "      <td>7684</td>\n",
              "      <td>2405</td>\n",
              "      <td>3516</td>\n",
              "      <td>7844</td>\n",
              "    </tr>\n",
              "    <tr>\n",
              "      <th>3</th>\n",
              "      <td>1</td>\n",
              "      <td>3</td>\n",
              "      <td>13265</td>\n",
              "      <td>1196</td>\n",
              "      <td>4221</td>\n",
              "      <td>6404</td>\n",
              "      <td>507</td>\n",
              "      <td>1788</td>\n",
              "    </tr>\n",
              "    <tr>\n",
              "      <th>4</th>\n",
              "      <td>2</td>\n",
              "      <td>3</td>\n",
              "      <td>22615</td>\n",
              "      <td>5410</td>\n",
              "      <td>7198</td>\n",
              "      <td>3915</td>\n",
              "      <td>1777</td>\n",
              "      <td>5185</td>\n",
              "    </tr>\n",
              "  </tbody>\n",
              "</table>\n",
              "</div>\n",
              "      <button class=\"colab-df-convert\" onclick=\"convertToInteractive('df-0c583f10-c444-49cd-912a-f3ff7ff1f2f2')\"\n",
              "              title=\"Convert this dataframe to an interactive table.\"\n",
              "              style=\"display:none;\">\n",
              "        \n",
              "  <svg xmlns=\"http://www.w3.org/2000/svg\" height=\"24px\"viewBox=\"0 0 24 24\"\n",
              "       width=\"24px\">\n",
              "    <path d=\"M0 0h24v24H0V0z\" fill=\"none\"/>\n",
              "    <path d=\"M18.56 5.44l.94 2.06.94-2.06 2.06-.94-2.06-.94-.94-2.06-.94 2.06-2.06.94zm-11 1L8.5 8.5l.94-2.06 2.06-.94-2.06-.94L8.5 2.5l-.94 2.06-2.06.94zm10 10l.94 2.06.94-2.06 2.06-.94-2.06-.94-.94-2.06-.94 2.06-2.06.94z\"/><path d=\"M17.41 7.96l-1.37-1.37c-.4-.4-.92-.59-1.43-.59-.52 0-1.04.2-1.43.59L10.3 9.45l-7.72 7.72c-.78.78-.78 2.05 0 2.83L4 21.41c.39.39.9.59 1.41.59.51 0 1.02-.2 1.41-.59l7.78-7.78 2.81-2.81c.8-.78.8-2.07 0-2.86zM5.41 20L4 18.59l7.72-7.72 1.47 1.35L5.41 20z\"/>\n",
              "  </svg>\n",
              "      </button>\n",
              "      \n",
              "  <style>\n",
              "    .colab-df-container {\n",
              "      display:flex;\n",
              "      flex-wrap:wrap;\n",
              "      gap: 12px;\n",
              "    }\n",
              "\n",
              "    .colab-df-convert {\n",
              "      background-color: #E8F0FE;\n",
              "      border: none;\n",
              "      border-radius: 50%;\n",
              "      cursor: pointer;\n",
              "      display: none;\n",
              "      fill: #1967D2;\n",
              "      height: 32px;\n",
              "      padding: 0 0 0 0;\n",
              "      width: 32px;\n",
              "    }\n",
              "\n",
              "    .colab-df-convert:hover {\n",
              "      background-color: #E2EBFA;\n",
              "      box-shadow: 0px 1px 2px rgba(60, 64, 67, 0.3), 0px 1px 3px 1px rgba(60, 64, 67, 0.15);\n",
              "      fill: #174EA6;\n",
              "    }\n",
              "\n",
              "    [theme=dark] .colab-df-convert {\n",
              "      background-color: #3B4455;\n",
              "      fill: #D2E3FC;\n",
              "    }\n",
              "\n",
              "    [theme=dark] .colab-df-convert:hover {\n",
              "      background-color: #434B5C;\n",
              "      box-shadow: 0px 1px 3px 1px rgba(0, 0, 0, 0.15);\n",
              "      filter: drop-shadow(0px 1px 2px rgba(0, 0, 0, 0.3));\n",
              "      fill: #FFFFFF;\n",
              "    }\n",
              "  </style>\n",
              "\n",
              "      <script>\n",
              "        const buttonEl =\n",
              "          document.querySelector('#df-0c583f10-c444-49cd-912a-f3ff7ff1f2f2 button.colab-df-convert');\n",
              "        buttonEl.style.display =\n",
              "          google.colab.kernel.accessAllowed ? 'block' : 'none';\n",
              "\n",
              "        async function convertToInteractive(key) {\n",
              "          const element = document.querySelector('#df-0c583f10-c444-49cd-912a-f3ff7ff1f2f2');\n",
              "          const dataTable =\n",
              "            await google.colab.kernel.invokeFunction('convertToInteractive',\n",
              "                                                     [key], {});\n",
              "          if (!dataTable) return;\n",
              "\n",
              "          const docLinkHtml = 'Like what you see? Visit the ' +\n",
              "            '<a target=\"_blank\" href=https://colab.research.google.com/notebooks/data_table.ipynb>data table notebook</a>'\n",
              "            + ' to learn more about interactive tables.';\n",
              "          element.innerHTML = '';\n",
              "          dataTable['output_type'] = 'display_data';\n",
              "          await google.colab.output.renderOutput(dataTable, element);\n",
              "          const docLink = document.createElement('div');\n",
              "          docLink.innerHTML = docLinkHtml;\n",
              "          element.appendChild(docLink);\n",
              "        }\n",
              "      </script>\n",
              "    </div>\n",
              "  </div>\n",
              "  "
            ]
          },
          "metadata": {},
          "execution_count": 2
        }
      ]
    },
    {
      "cell_type": "markdown",
      "source": [
        "Shape of the data:"
      ],
      "metadata": {
        "id": "DiNDcy_6dL_V"
      }
    },
    {
      "cell_type": "code",
      "source": [
        "data.shape"
      ],
      "metadata": {
        "colab": {
          "base_uri": "https://localhost:8080/"
        },
        "id": "pf6rS64gcYZ2",
        "outputId": "4f77c435-5479-4a98-e484-0470a1ba6545"
      },
      "execution_count": 3,
      "outputs": [
        {
          "output_type": "execute_result",
          "data": {
            "text/plain": [
              "(440, 8)"
            ]
          },
          "metadata": {},
          "execution_count": 3
        }
      ]
    },
    {
      "cell_type": "markdown",
      "source": [
        "Missing values check:"
      ],
      "metadata": {
        "id": "w_t-XXIodOIA"
      }
    },
    {
      "cell_type": "code",
      "source": [
        "data.isnull().sum()"
      ],
      "metadata": {
        "colab": {
          "base_uri": "https://localhost:8080/"
        },
        "id": "YLEsfROwdQLh",
        "outputId": "34bc130a-f1c4-4a7c-ae2d-e7598101c1c1"
      },
      "execution_count": 4,
      "outputs": [
        {
          "output_type": "execute_result",
          "data": {
            "text/plain": [
              "Channel             0\n",
              "Region              0\n",
              "Fresh               0\n",
              "Milk                0\n",
              "Grocery             0\n",
              "Frozen              0\n",
              "Detergents_Paper    0\n",
              "Delicassen          0\n",
              "dtype: int64"
            ]
          },
          "metadata": {},
          "execution_count": 4
        }
      ]
    },
    {
      "cell_type": "markdown",
      "source": [
        "No missing values. We normalize the data:"
      ],
      "metadata": {
        "id": "nPD0lVlvdvRj"
      }
    },
    {
      "cell_type": "code",
      "source": [
        "from sklearn.preprocessing import MinMaxScaler\n",
        "scaler = MinMaxScaler()\n",
        "data_scaled = scaler.fit_transform(data)"
      ],
      "metadata": {
        "id": "gkQh4-ypcaPL"
      },
      "execution_count": 5,
      "outputs": []
    },
    {
      "cell_type": "code",
      "source": [
        "normalized_df = pd.DataFrame(data_scaled, columns = data.columns)\n",
        "normalized_df.head()"
      ],
      "metadata": {
        "colab": {
          "base_uri": "https://localhost:8080/",
          "height": 206
        },
        "id": "z3riGgescnIv",
        "outputId": "43e700c5-ba96-4c24-f24d-d17bce91134c"
      },
      "execution_count": 6,
      "outputs": [
        {
          "output_type": "execute_result",
          "data": {
            "text/plain": [
              "   Channel  Region     Fresh      Milk   Grocery    Frozen  Detergents_Paper  \\\n",
              "0      1.0     1.0  0.112940  0.130727  0.081464  0.003106          0.065427   \n",
              "1      1.0     1.0  0.062899  0.132824  0.103097  0.028548          0.080590   \n",
              "2      1.0     1.0  0.056622  0.119181  0.082790  0.039116          0.086052   \n",
              "3      0.0     1.0  0.118254  0.015536  0.045464  0.104842          0.012346   \n",
              "4      1.0     1.0  0.201626  0.072914  0.077552  0.063934          0.043455   \n",
              "\n",
              "   Delicassen  \n",
              "0    0.027847  \n",
              "1    0.036984  \n",
              "2    0.163559  \n",
              "3    0.037234  \n",
              "4    0.108093  "
            ],
            "text/html": [
              "\n",
              "  <div id=\"df-4bdaf47e-8fb1-4d31-a47a-b74892f5fbc1\">\n",
              "    <div class=\"colab-df-container\">\n",
              "      <div>\n",
              "<style scoped>\n",
              "    .dataframe tbody tr th:only-of-type {\n",
              "        vertical-align: middle;\n",
              "    }\n",
              "\n",
              "    .dataframe tbody tr th {\n",
              "        vertical-align: top;\n",
              "    }\n",
              "\n",
              "    .dataframe thead th {\n",
              "        text-align: right;\n",
              "    }\n",
              "</style>\n",
              "<table border=\"1\" class=\"dataframe\">\n",
              "  <thead>\n",
              "    <tr style=\"text-align: right;\">\n",
              "      <th></th>\n",
              "      <th>Channel</th>\n",
              "      <th>Region</th>\n",
              "      <th>Fresh</th>\n",
              "      <th>Milk</th>\n",
              "      <th>Grocery</th>\n",
              "      <th>Frozen</th>\n",
              "      <th>Detergents_Paper</th>\n",
              "      <th>Delicassen</th>\n",
              "    </tr>\n",
              "  </thead>\n",
              "  <tbody>\n",
              "    <tr>\n",
              "      <th>0</th>\n",
              "      <td>1.0</td>\n",
              "      <td>1.0</td>\n",
              "      <td>0.112940</td>\n",
              "      <td>0.130727</td>\n",
              "      <td>0.081464</td>\n",
              "      <td>0.003106</td>\n",
              "      <td>0.065427</td>\n",
              "      <td>0.027847</td>\n",
              "    </tr>\n",
              "    <tr>\n",
              "      <th>1</th>\n",
              "      <td>1.0</td>\n",
              "      <td>1.0</td>\n",
              "      <td>0.062899</td>\n",
              "      <td>0.132824</td>\n",
              "      <td>0.103097</td>\n",
              "      <td>0.028548</td>\n",
              "      <td>0.080590</td>\n",
              "      <td>0.036984</td>\n",
              "    </tr>\n",
              "    <tr>\n",
              "      <th>2</th>\n",
              "      <td>1.0</td>\n",
              "      <td>1.0</td>\n",
              "      <td>0.056622</td>\n",
              "      <td>0.119181</td>\n",
              "      <td>0.082790</td>\n",
              "      <td>0.039116</td>\n",
              "      <td>0.086052</td>\n",
              "      <td>0.163559</td>\n",
              "    </tr>\n",
              "    <tr>\n",
              "      <th>3</th>\n",
              "      <td>0.0</td>\n",
              "      <td>1.0</td>\n",
              "      <td>0.118254</td>\n",
              "      <td>0.015536</td>\n",
              "      <td>0.045464</td>\n",
              "      <td>0.104842</td>\n",
              "      <td>0.012346</td>\n",
              "      <td>0.037234</td>\n",
              "    </tr>\n",
              "    <tr>\n",
              "      <th>4</th>\n",
              "      <td>1.0</td>\n",
              "      <td>1.0</td>\n",
              "      <td>0.201626</td>\n",
              "      <td>0.072914</td>\n",
              "      <td>0.077552</td>\n",
              "      <td>0.063934</td>\n",
              "      <td>0.043455</td>\n",
              "      <td>0.108093</td>\n",
              "    </tr>\n",
              "  </tbody>\n",
              "</table>\n",
              "</div>\n",
              "      <button class=\"colab-df-convert\" onclick=\"convertToInteractive('df-4bdaf47e-8fb1-4d31-a47a-b74892f5fbc1')\"\n",
              "              title=\"Convert this dataframe to an interactive table.\"\n",
              "              style=\"display:none;\">\n",
              "        \n",
              "  <svg xmlns=\"http://www.w3.org/2000/svg\" height=\"24px\"viewBox=\"0 0 24 24\"\n",
              "       width=\"24px\">\n",
              "    <path d=\"M0 0h24v24H0V0z\" fill=\"none\"/>\n",
              "    <path d=\"M18.56 5.44l.94 2.06.94-2.06 2.06-.94-2.06-.94-.94-2.06-.94 2.06-2.06.94zm-11 1L8.5 8.5l.94-2.06 2.06-.94-2.06-.94L8.5 2.5l-.94 2.06-2.06.94zm10 10l.94 2.06.94-2.06 2.06-.94-2.06-.94-.94-2.06-.94 2.06-2.06.94z\"/><path d=\"M17.41 7.96l-1.37-1.37c-.4-.4-.92-.59-1.43-.59-.52 0-1.04.2-1.43.59L10.3 9.45l-7.72 7.72c-.78.78-.78 2.05 0 2.83L4 21.41c.39.39.9.59 1.41.59.51 0 1.02-.2 1.41-.59l7.78-7.78 2.81-2.81c.8-.78.8-2.07 0-2.86zM5.41 20L4 18.59l7.72-7.72 1.47 1.35L5.41 20z\"/>\n",
              "  </svg>\n",
              "      </button>\n",
              "      \n",
              "  <style>\n",
              "    .colab-df-container {\n",
              "      display:flex;\n",
              "      flex-wrap:wrap;\n",
              "      gap: 12px;\n",
              "    }\n",
              "\n",
              "    .colab-df-convert {\n",
              "      background-color: #E8F0FE;\n",
              "      border: none;\n",
              "      border-radius: 50%;\n",
              "      cursor: pointer;\n",
              "      display: none;\n",
              "      fill: #1967D2;\n",
              "      height: 32px;\n",
              "      padding: 0 0 0 0;\n",
              "      width: 32px;\n",
              "    }\n",
              "\n",
              "    .colab-df-convert:hover {\n",
              "      background-color: #E2EBFA;\n",
              "      box-shadow: 0px 1px 2px rgba(60, 64, 67, 0.3), 0px 1px 3px 1px rgba(60, 64, 67, 0.15);\n",
              "      fill: #174EA6;\n",
              "    }\n",
              "\n",
              "    [theme=dark] .colab-df-convert {\n",
              "      background-color: #3B4455;\n",
              "      fill: #D2E3FC;\n",
              "    }\n",
              "\n",
              "    [theme=dark] .colab-df-convert:hover {\n",
              "      background-color: #434B5C;\n",
              "      box-shadow: 0px 1px 3px 1px rgba(0, 0, 0, 0.15);\n",
              "      filter: drop-shadow(0px 1px 2px rgba(0, 0, 0, 0.3));\n",
              "      fill: #FFFFFF;\n",
              "    }\n",
              "  </style>\n",
              "\n",
              "      <script>\n",
              "        const buttonEl =\n",
              "          document.querySelector('#df-4bdaf47e-8fb1-4d31-a47a-b74892f5fbc1 button.colab-df-convert');\n",
              "        buttonEl.style.display =\n",
              "          google.colab.kernel.accessAllowed ? 'block' : 'none';\n",
              "\n",
              "        async function convertToInteractive(key) {\n",
              "          const element = document.querySelector('#df-4bdaf47e-8fb1-4d31-a47a-b74892f5fbc1');\n",
              "          const dataTable =\n",
              "            await google.colab.kernel.invokeFunction('convertToInteractive',\n",
              "                                                     [key], {});\n",
              "          if (!dataTable) return;\n",
              "\n",
              "          const docLinkHtml = 'Like what you see? Visit the ' +\n",
              "            '<a target=\"_blank\" href=https://colab.research.google.com/notebooks/data_table.ipynb>data table notebook</a>'\n",
              "            + ' to learn more about interactive tables.';\n",
              "          element.innerHTML = '';\n",
              "          dataTable['output_type'] = 'display_data';\n",
              "          await google.colab.output.renderOutput(dataTable, element);\n",
              "          const docLink = document.createElement('div');\n",
              "          docLink.innerHTML = docLinkHtml;\n",
              "          element.appendChild(docLink);\n",
              "        }\n",
              "      </script>\n",
              "    </div>\n",
              "  </div>\n",
              "  "
            ]
          },
          "metadata": {},
          "execution_count": 6
        }
      ]
    },
    {
      "cell_type": "markdown",
      "source": [
        "## KMeans Clustering"
      ],
      "metadata": {
        "id": "mrAOs6pi_bbF"
      }
    },
    {
      "cell_type": "markdown",
      "source": [
        "### Elbow Method"
      ],
      "metadata": {
        "id": "99GKc5gZGrQh"
      }
    },
    {
      "cell_type": "code",
      "source": [
        "from sklearn.cluster import KMeans\n",
        "from sklearn.model_selection import cross_validate\n",
        "\n",
        "WCSS = [] \n",
        "for i in range(1, 11): \n",
        "  kmeans = KMeans(n_clusters = i, init = 'k-means++', random_state = 42)\n",
        "  kmeans.fit(normalized_df) \n",
        "  WCSS.append(kmeans.inertia_)\n",
        "  \n",
        "plt.plot(range(1,11), WCSS, 'o--')\n",
        "plt.xticks(range(1, 11))\n",
        "plt.xlabel('Clusters')\n",
        "plt.ylabel('WCSS')\n",
        "plt.title('WCSS')\n",
        "plt.show()"
      ],
      "metadata": {
        "colab": {
          "base_uri": "https://localhost:8080/",
          "height": 301
        },
        "id": "d-WJ2Y8Z_gJW",
        "outputId": "c0fb0f58-6c6a-4ae9-8fcf-2afbb4739bcc"
      },
      "execution_count": 7,
      "outputs": [
        {
          "output_type": "display_data",
          "data": {
            "text/plain": [
              "<Figure size 432x288 with 1 Axes>"
            ],
            "image/png": "[encoded data removed]"
          },
          "metadata": {}
        }
      ]
    },
    {
      "cell_type": "markdown",
      "source": [
        "It appears that the number of clusters = 3 would be a good choice since there is significant change in the sum of squares between 2-cluster configuration and 3-cluster configuration."
      ],
      "metadata": {
        "id": "XiKwVktORoJD"
      }
    },
    {
      "cell_type": "markdown",
      "source": [
        "### Silhouette Analysis"
      ],
      "metadata": {
        "id": "OOjhXJhtlksD"
      }
    },
    {
      "cell_type": "markdown",
      "source": [
        "We calculate the Silhouette score, which ranges from -1 to 1. A silhouette score of 1 implies that the clusters and well-distinguished from each other."
      ],
      "metadata": {
        "id": "ejLp5saSlsnF"
      }
    },
    {
      "cell_type": "code",
      "source": [
        "from sklearn.metrics import silhouette_score"
      ],
      "metadata": {
        "id": "cWPZc0MYwdqP"
      },
      "execution_count": 8,
      "outputs": []
    },
    {
      "cell_type": "code",
      "source": [
        "X = normalized_df.values\n",
        "kmeans_per_k  = [KMeans(n_clusters = i, random_state = 42).fit(X) for i in range(1, 11)]\n",
        "silhouette_scores = [silhouette_score(X, kmean.labels_) for kmean in kmeans_per_k[1:]]\n",
        "\n",
        "k = np.argmax(silhouette_scores) + 1\n",
        "plt.plot(range(1, len(silhouette_scores)+1), silhouette_scores, marker = 'o')\n",
        "plt.axvline(x = k, linestyle = '--', c = 'r', label = 'Optimal Number of Clusters: {}'.format(k))\n",
        "plt.xlabel('Number of Clusters')\n",
        "plt.ylabel('Silhouette Score')\n",
        "plt.legend()\n",
        "plt.show()"
      ],
      "metadata": {
        "colab": {
          "base_uri": "https://localhost:8080/",
          "height": 285
        },
        "id": "DUhK3e45lnMt",
        "outputId": "7340fa46-59cd-47ea-d7ae-64ce728a5ee6"
      },
      "execution_count": 9,
      "outputs": [
        {
          "output_type": "display_data",
          "data": {
            "text/plain": [
              "<Figure size 432x288 with 1 Axes>"
            ],
            "image/png": "[encoded data removed]"
          },
          "metadata": {}
        }
      ]
    },
    {
      "cell_type": "markdown",
      "source": [
        "The Silhouette Score confirms that 3 is the optimal number of clusters."
      ],
      "metadata": {
        "id": "su3m_oFY0vZS"
      }
    },
    {
      "cell_type": "markdown",
      "source": [
        "We can find the cluster centers:"
      ],
      "metadata": {
        "id": "E5CrRzP2eY9F"
      }
    },
    {
      "cell_type": "code",
      "source": [
        "kmeans.cluster_centers_"
      ],
      "metadata": {
        "colab": {
          "base_uri": "https://localhost:8080/"
        },
        "id": "0UMV7qqweYJ2",
        "outputId": "fd76da73-5d7f-4d7f-c408-f826914c6add"
      },
      "execution_count": 10,
      "outputs": [
        {
          "output_type": "execute_result",
          "data": {
            "text/plain": [
              "array([[ 1.66533454e-16,  1.00000000e+00,  3.32507730e-01,\n",
              "         6.69027472e-02,  5.96622229e-02,  1.13177626e-01,\n",
              "         2.00554475e-02,  5.31091214e-02],\n",
              "       [ 1.00000000e+00,  1.00000000e+00,  5.96964725e-02,\n",
              "         2.15485206e-01,  2.54834280e-01,  2.63684176e-02,\n",
              "         2.53116794e-01,  5.36512307e-02],\n",
              "       [ 1.00000000e+00,  0.00000000e+00,  4.63405500e-02,\n",
              "         1.46086080e-01,  1.99068136e-01,  4.20602050e-02,\n",
              "         2.01407941e-01,  3.89850739e-02],\n",
              "       [ 2.77555756e-16, -6.66133815e-16,  1.15019922e-01,\n",
              "         5.19478152e-02,  4.33635017e-02,  5.09881341e-02,\n",
              "         2.32100094e-02,  2.49093146e-02],\n",
              "       [ 2.77555756e-16,  5.00000000e-01,  9.69013830e-02,\n",
              "         2.33237063e-02,  4.36598470e-02,  6.04563705e-02,\n",
              "         1.10347218e-02,  1.95267232e-02],\n",
              "       [ 1.00000000e+00,  1.00000000e+00,  8.85855596e-02,\n",
              "         9.41459363e-02,  1.14667788e-01,  2.26134596e-02,\n",
              "         1.07710824e-01,  3.15391462e-02],\n",
              "       [ 1.00000000e+00,  5.00000000e-01,  6.43430507e-02,\n",
              "         1.27578152e-01,  1.45419183e-01,  2.61963199e-02,\n",
              "         1.65533074e-01,  2.58100403e-02],\n",
              "       [-3.88578059e-16,  1.00000000e+00,  7.49051431e-02,\n",
              "         3.89071272e-02,  3.67746543e-02,  4.43335867e-02,\n",
              "         1.90791909e-02,  2.10410430e-02],\n",
              "       [ 0.00000000e+00,  7.50000000e-01,  3.10116988e-01,\n",
              "         4.12728238e-01,  1.82103323e-01,  8.00021366e-01,\n",
              "         1.84327846e-02,  5.58468919e-01],\n",
              "       [ 1.00000000e+00,  9.16666667e-01,  1.90346685e-01,\n",
              "         5.39947079e-01,  6.34444241e-01,  3.57909846e-02,\n",
              "         7.10709387e-01,  5.19712140e-02]])"
            ]
          },
          "metadata": {},
          "execution_count": 10
        }
      ]
    },
    {
      "cell_type": "markdown",
      "source": [
        "We can also find the cluster labels:"
      ],
      "metadata": {
        "id": "rlji25TqfWg4"
      }
    },
    {
      "cell_type": "code",
      "source": [
        "kmeans.labels_"
      ],
      "metadata": {
        "colab": {
          "base_uri": "https://localhost:8080/"
        },
        "id": "XN8KzwSjfase",
        "outputId": "65ce251a-28db-4dbc-e610-abd048556ff9"
      },
      "execution_count": 11,
      "outputs": [
        {
          "output_type": "execute_result",
          "data": {
            "text/plain": [
              "array([5, 5, 5, 7, 5, 5, 5, 5, 7, 1, 5, 5, 5, 5, 5, 7, 5, 7, 5, 7, 5, 7,\n",
              "       0, 1, 5, 5, 7, 7, 1, 0, 7, 7, 7, 0, 7, 5, 0, 5, 1, 0, 0, 7, 5, 1,\n",
              "       5, 1, 1, 9, 5, 1, 7, 7, 5, 5, 0, 7, 1, 5, 7, 7, 5, 9, 5, 5, 7, 9,\n",
              "       7, 5, 7, 7, 7, 0, 7, 5, 5, 7, 7, 1, 7, 7, 7, 5, 5, 7, 5, 9, 9, 0,\n",
              "       7, 0, 7, 7, 1, 0, 5, 7, 5, 7, 7, 7, 5, 5, 5, 0, 7, 7, 5, 1, 5, 1,\n",
              "       7, 5, 7, 7, 7, 7, 7, 7, 7, 7, 7, 7, 7, 5, 0, 0, 7, 5, 7, 0, 7, 7,\n",
              "       7, 7, 7, 7, 7, 7, 7, 7, 7, 0, 0, 7, 7, 1, 7, 7, 7, 0, 7, 7, 7, 7,\n",
              "       7, 1, 5, 7, 5, 5, 5, 7, 7, 1, 5, 1, 5, 7, 7, 7, 5, 1, 7, 1, 7, 5,\n",
              "       0, 7, 7, 7, 7, 0, 7, 8, 7, 7, 7, 7, 5, 5, 7, 7, 7, 5, 7, 7, 3, 2,\n",
              "       3, 3, 2, 2, 3, 3, 3, 2, 3, 2, 3, 2, 3, 2, 3, 3, 2, 3, 2, 3, 2, 3,\n",
              "       3, 3, 3, 2, 3, 3, 2, 3, 3, 3, 2, 3, 3, 3, 3, 3, 3, 3, 3, 3, 3, 3,\n",
              "       3, 3, 3, 2, 3, 3, 3, 3, 3, 2, 3, 3, 3, 3, 3, 3, 3, 3, 3, 3, 3, 3,\n",
              "       2, 3, 2, 3, 2, 3, 3, 3, 3, 0, 7, 7, 0, 7, 7, 5, 7, 5, 0, 0, 0, 0,\n",
              "       7, 7, 7, 0, 7, 7, 7, 6, 4, 6, 4, 6, 6, 4, 6, 6, 6, 6, 6, 6, 6, 4,\n",
              "       4, 6, 4, 4, 6, 4, 4, 6, 4, 4, 4, 6, 4, 4, 4, 4, 4, 8, 4, 4, 4, 4,\n",
              "       4, 6, 4, 9, 6, 6, 4, 4, 4, 4, 5, 5, 7, 1, 7, 7, 5, 5, 7, 1, 7, 1,\n",
              "       7, 1, 7, 7, 7, 5, 7, 7, 7, 7, 7, 7, 7, 5, 7, 7, 7, 7, 5, 7, 7, 5,\n",
              "       7, 7, 5, 0, 7, 5, 0, 7, 0, 7, 7, 7, 7, 7, 7, 7, 7, 7, 7, 0, 7, 7,\n",
              "       5, 7, 7, 7, 7, 0, 0, 0, 7, 7, 0, 1, 5, 7, 7, 7, 7, 7, 7, 5, 5, 7,\n",
              "       5, 7, 7, 5, 0, 5, 5, 7, 7, 0, 7, 7, 7, 7, 7, 7, 7, 0, 0, 1, 7, 7],\n",
              "      dtype=int32)"
            ]
          },
          "metadata": {},
          "execution_count": 11
        }
      ]
    },
    {
      "cell_type": "markdown",
      "source": [
        "We can store these predictions in the dataset:"
      ],
      "metadata": {
        "id": "j3LRs13f30iz"
      }
    },
    {
      "cell_type": "code",
      "source": [
        "kmeans_clustered = normalized_df.copy()\n",
        "kmeans_clustered['Cluster'] = kmeans.labels_\n",
        "kmeans_clustered.info()"
      ],
      "metadata": {
        "colab": {
          "base_uri": "https://localhost:8080/"
        },
        "id": "XUk7YM9c2tAH",
        "outputId": "f15c5f52-6725-4faf-daff-87ddd639bda5"
      },
      "execution_count": 12,
      "outputs": [
        {
          "output_type": "stream",
          "name": "stdout",
          "text": [
            "<class 'pandas.core.frame.DataFrame'>\n",
            "RangeIndex: 440 entries, 0 to 439\n",
            "Data columns (total 9 columns):\n",
            " #   Column            Non-Null Count  Dtype  \n",
            "---  ------            --------------  -----  \n",
            " 0   Channel           440 non-null    float64\n",
            " 1   Region            440 non-null    float64\n",
            " 2   Fresh             440 non-null    float64\n",
            " 3   Milk              440 non-null    float64\n",
            " 4   Grocery           440 non-null    float64\n",
            " 5   Frozen            440 non-null    float64\n",
            " 6   Detergents_Paper  440 non-null    float64\n",
            " 7   Delicassen        440 non-null    float64\n",
            " 8   Cluster           440 non-null    int32  \n",
            "dtypes: float64(8), int32(1)\n",
            "memory usage: 29.3 KB\n"
          ]
        }
      ]
    },
    {
      "cell_type": "markdown",
      "source": [
        "We can visualize any two features and how they are predicted:"
      ],
      "metadata": {
        "id": "yOkPhnSHfigi"
      }
    },
    {
      "cell_type": "code",
      "source": [
        "plt.figure(figsize = (10, 10))\n",
        "plt.scatter(kmeans_clustered['Milk'], kmeans_clustered['Grocery'], c = kmeans.labels_)\n",
        "plt.xlabel('Milk')\n",
        "plt.ylabel('Grocery')\n",
        "plt.show()"
      ],
      "metadata": {
        "colab": {
          "base_uri": "https://localhost:8080/",
          "height": 611
        },
        "id": "mIkfDRRHf3Lx",
        "outputId": "8b025d50-acca-471e-ff67-95131a6cbfeb"
      },
      "execution_count": 13,
      "outputs": [
        {
          "output_type": "display_data",
          "data": {
            "text/plain": [
              "<Figure size 720x720 with 1 Axes>"
            ],
            "image/png": "[encoded data removed]"
          },
          "metadata": {}
        }
      ]
    },
    {
      "cell_type": "code",
      "source": [
        "kmeans = KMeans(n_clusters = 3, init = 'k-means++', random_state = 42) \n",
        "y_kmeans = kmeans.fit_predict(data_scaled)"
      ],
      "metadata": {
        "id": "lsCQ_a88CIUQ"
      },
      "execution_count": 14,
      "outputs": []
    },
    {
      "cell_type": "markdown",
      "source": [
        "### Visualization of Dendrogram\n",
        " \n",
        "\n",
        "Let's visualize the dendrogram for 3 clusters."
      ],
      "metadata": {
        "id": "XtjUu96DPinI"
      }
    },
    {
      "cell_type": "code",
      "source": [
        "from scipy.cluster.hierarchy import dendrogram, linkage\n",
        "plt.figure(figsize = (10, 10))\n",
        "dendrogram(linkage(normalized_df, method = 'ward'), truncate_mode = 'level', p = 3)\n",
        "plt.axhline(y = 6, linestyle = '--', color = 'r', label = 'Threshold')\n",
        "plt.legend()\n",
        "plt.show()"
      ],
      "metadata": {
        "colab": {
          "base_uri": "https://localhost:8080/",
          "height": 597
        },
        "id": "4ubxhohFPk1z",
        "outputId": "4f822e74-a62a-40f2-e070-b651ed6a131a"
      },
      "execution_count": 15,
      "outputs": [
        {
          "output_type": "display_data",
          "data": {
            "text/plain": [
              "<Figure size 720x720 with 1 Axes>"
            ],
            "image/png": "[encoded data removed]"
          },
          "metadata": {}
        }
      ]
    },
    {
      "cell_type": "markdown",
      "source": [
        "We find that the two cluster configuration is actually not very bad, considering that the distance between the 4-cluster configuration is small. "
      ],
      "metadata": {
        "id": "1HRT9fo0TyMG"
      }
    },
    {
      "cell_type": "markdown",
      "source": [
        "## Agglomerative Clustering"
      ],
      "metadata": {
        "id": "iVT59KGZ9mUR"
      }
    },
    {
      "cell_type": "markdown",
      "source": [
        "### Dendrogram\n",
        "\n",
        "We use a Dendrogram to understand the optimal number of clusters."
      ],
      "metadata": {
        "id": "2HKfMI3bQCh5"
      }
    },
    {
      "cell_type": "code",
      "source": [
        "import scipy.cluster.hierarchy as HC\n",
        "import matplotlib.pyplot as plt\n",
        "\n",
        "plt.figure(figsize = (10, 10))\n",
        "plt.title('Dendrogram')\n",
        "plt.ylabel('distance')\n",
        "graph = HC.dendrogram(HC.linkage(normalized_df, method = 'ward'))\n",
        "plt.axhline(y=6, label='threshold', color = 'r')\n",
        "plt.legend(loc = 'upper right')\n",
        "plt.show()"
      ],
      "metadata": {
        "colab": {
          "base_uri": "https://localhost:8080/",
          "height": 610
        },
        "id": "GIP__ofudf7f",
        "outputId": "fe5c2fb8-bab8-4b93-b47b-ed73e8f1daf6"
      },
      "execution_count": 16,
      "outputs": [
        {
          "output_type": "display_data",
          "data": {
            "text/plain": [
              "<Figure size 720x720 with 1 Axes>"
            ],
            "image/png": "[encoded data removed]"
          },
          "metadata": {}
        }
      ]
    },
    {
      "cell_type": "markdown",
      "source": [
        "We can choose 3 cluster configuration, since that has the largest distance between the splits."
      ],
      "metadata": {
        "id": "mb3YuTq6Lb0W"
      }
    },
    {
      "cell_type": "code",
      "source": [
        "from sklearn.cluster import AgglomerativeClustering\n",
        "cluster = AgglomerativeClustering(n_clusters = 3, affinity = 'euclidean', linkage = 'complete')"
      ],
      "metadata": {
        "id": "O7VbCx54e6v_"
      },
      "execution_count": 17,
      "outputs": []
    },
    {
      "cell_type": "code",
      "source": [
        "cluster.fit(normalized_df)\n",
        "cluster.get_params()"
      ],
      "metadata": {
        "colab": {
          "base_uri": "https://localhost:8080/"
        },
        "id": "8RnB_Rebgk0P",
        "outputId": "4471dd59-387c-4170-e4c6-dc0bfddd36f7"
      },
      "execution_count": 18,
      "outputs": [
        {
          "output_type": "execute_result",
          "data": {
            "text/plain": [
              "{'affinity': 'euclidean',\n",
              " 'compute_distances': False,\n",
              " 'compute_full_tree': 'auto',\n",
              " 'connectivity': None,\n",
              " 'distance_threshold': None,\n",
              " 'linkage': 'complete',\n",
              " 'memory': None,\n",
              " 'n_clusters': 3}"
            ]
          },
          "metadata": {},
          "execution_count": 18
        }
      ]
    },
    {
      "cell_type": "code",
      "source": [
        "y_pred = cluster.fit_predict(normalized_df)"
      ],
      "metadata": {
        "id": "qXV-aQ5Bg1sn"
      },
      "execution_count": 19,
      "outputs": []
    },
    {
      "cell_type": "code",
      "source": [
        "agglomerative_clustered = normalized_df.copy()\n",
        "agglomerative_clustered['Cluster'] = cluster.labels_\n",
        "agglomerative_clustered.info()"
      ],
      "metadata": {
        "colab": {
          "base_uri": "https://localhost:8080/"
        },
        "id": "mzH11hznTlqK",
        "outputId": "93aca3bd-e2b0-4e2f-d687-4bf036d484ab"
      },
      "execution_count": 20,
      "outputs": [
        {
          "output_type": "stream",
          "name": "stdout",
          "text": [
            "<class 'pandas.core.frame.DataFrame'>\n",
            "RangeIndex: 440 entries, 0 to 439\n",
            "Data columns (total 9 columns):\n",
            " #   Column            Non-Null Count  Dtype  \n",
            "---  ------            --------------  -----  \n",
            " 0   Channel           440 non-null    float64\n",
            " 1   Region            440 non-null    float64\n",
            " 2   Fresh             440 non-null    float64\n",
            " 3   Milk              440 non-null    float64\n",
            " 4   Grocery           440 non-null    float64\n",
            " 5   Frozen            440 non-null    float64\n",
            " 6   Detergents_Paper  440 non-null    float64\n",
            " 7   Delicassen        440 non-null    float64\n",
            " 8   Cluster           440 non-null    int64  \n",
            "dtypes: float64(8), int64(1)\n",
            "memory usage: 31.1 KB\n"
          ]
        }
      ]
    },
    {
      "cell_type": "code",
      "source": [
        "plt.figure(figsize = (10, 10))\n",
        "plt.scatter(agglomerative_clustered['Milk'], agglomerative_clustered['Grocery'], c = cluster.labels_)\n",
        "plt.show()"
      ],
      "metadata": {
        "colab": {
          "base_uri": "https://localhost:8080/",
          "height": 594
        },
        "id": "yQUsLmFYhDDg",
        "outputId": "b505c6be-4861-494c-ff12-57ac2057fe6a"
      },
      "execution_count": 21,
      "outputs": [
        {
          "output_type": "display_data",
          "data": {
            "text/plain": [
              "<Figure size 720x720 with 1 Axes>"
            ],
            "image/png": "[encoded data removed]"
          },
          "metadata": {}
        }
      ]
    },
    {
      "cell_type": "markdown",
      "source": [
        "## Conclusion\n",
        "\n",
        "The Silhouette Score suggests that there 3 is the optimal number of clusters. The dendrogram for Hierarchical Clustering also confirms through the distances between the splits."
      ],
      "metadata": {
        "id": "CmqCBXVdQUQo"
      }
    },
    {
      "cell_type": "markdown",
      "source": [
        "# Note\n",
        "\n",
        "It was noted that the Min-Max Scaler results in an optimal cluster formation of 3. During the experimentation, Scikit-learn's individual sampling to unit norm by the preprocessing method normalize resulted in an optimal number of cluster = 1, which was counterintuitive to the entire attitude of implementing the KMeans algorithm. Thus, choosing the right scaler is an essential part to produce the right results in KMeans and Hierarchical Clustering algorithms."
      ],
      "metadata": {
        "id": "HCgiJXqcUSzh"
      }
    }
  ]
}