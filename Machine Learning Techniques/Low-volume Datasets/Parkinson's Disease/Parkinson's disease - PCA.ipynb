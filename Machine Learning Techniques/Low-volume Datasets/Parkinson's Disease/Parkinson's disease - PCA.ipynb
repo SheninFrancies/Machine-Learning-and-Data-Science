{
  "nbformat": 4,
  "nbformat_minor": 0,
  "metadata": {
    "colab": {
      "provenance": [],
      "toc_visible": true
    },
    "kernelspec": {
      "name": "python3",
      "display_name": "Python 3"
    },
    "language_info": {
      "name": "python"
    }
  },
  "cells": [
    {
      "cell_type": "markdown",
      "source": [
        "# Parkinson's Disease\n",
        "\n",
        "\n",
        "---\n",
        "\n",
        "\n",
        "**This project is part of the Udemy course \"Machine Learning in Healthcare\"**\n",
        "\n",
        "\n",
        "---\n",
        "\n",
        "\n",
        "The dataset can be found [here](https://www.kaggle.com/datasets/debasisdotcom/parkinson-disease-detection). \n",
        "\n",
        "The dataset is very small, with only about 195 entries, and consists of the following columns:\n",
        "1. name - ASCII subject name and recording number.\n",
        "2. MDVP:Fo(Hz) - Average vocal fundamental frequency.\n",
        "3. MDVP:Fhi(Hz) - Maximum vocal fundamental frequency.\n",
        "4. MDVP:Flo(Hz) - Minimum vocal fundamental frequency.\n",
        "5. MDVP:Jitter(%), MDVP:Jitter(Abs), MDVP:RAP, MDVP:PPQ, Jitter:DDP - Several\n",
        "measures of variation in fundamental frequency.\n",
        "6. MDVP:Shimmer, MDVP:Shimmer(dB), Shimmer:APQ3, Shimmer:APQ5, MDVP:APQ, Shimmer:DDA - Several measures of variation in amplitude.\n",
        "7. NHR, HNR - Two measures of ratio of noise to tonal components in the voice.\n",
        "8. status: Health status of the subject (one) - Parkinson's, (zero) - Healthy.\n",
        "9. RPDE, D2 - Two nonlinear dynamical complexity measures.\n",
        "10. DFA - Signal fractal scaling exponent.\n",
        "11. spread1, spread2, PPE - Three nonlinear measures of fundamental frequency variation.\n",
        "\n",
        "Parkinson's disease is a chronic neurodegenerative disease that affects the neurons in the brain that contain dopamine and does not have cure. It affects the patients' movements and causes stiffness and tremor.\n",
        "\n",
        "We would like to predict whether the patient has Parkinson's disease or not, given the various factors."
      ],
      "metadata": {
        "id": "yZkhb0IBaMZ-"
      }
    },
    {
      "cell_type": "code",
      "execution_count": 1,
      "metadata": {
        "id": "1kieKVrFaDCL"
      },
      "outputs": [],
      "source": [
        "import pandas as pd\n",
        "import numpy as np\n",
        "import matplotlib.pyplot as plt\n",
        "import seaborn as sns\n",
        "sns.set()"
      ]
    },
    {
      "cell_type": "code",
      "source": [
        "data = pd.read_csv(r\"/content/drive/MyDrive/Colab Notebooks/Machine Learning/Data Training/Parkinson's Disease Prediction Dataset/Parkinson_disease.csv\")\n",
        "data.head()"
      ],
      "metadata": {
        "colab": {
          "base_uri": "https://localhost:8080/",
          "height": 299
        },
        "id": "ZJU3CEDutPCh",
        "outputId": "486a9ede-14e0-4e72-f60d-b927387cc119"
      },
      "execution_count": 2,
      "outputs": [
        {
          "output_type": "execute_result",
          "data": {
            "text/plain": [
              "             name  MDVP:Fo(Hz)  MDVP:Fhi(Hz)  MDVP:Flo(Hz)  MDVP:Jitter(%)  \\\n",
              "0  phon_R01_S01_1      119.992       157.302        74.997         0.00784   \n",
              "1  phon_R01_S01_2      122.400       148.650       113.819         0.00968   \n",
              "2  phon_R01_S01_3      116.682       131.111       111.555         0.01050   \n",
              "3  phon_R01_S01_4      116.676       137.871       111.366         0.00997   \n",
              "4  phon_R01_S01_5      116.014       141.781       110.655         0.01284   \n",
              "\n",
              "   MDVP:Jitter(Abs)  MDVP:RAP  MDVP:PPQ  Jitter:DDP  MDVP:Shimmer  ...  \\\n",
              "0           0.00007   0.00370   0.00554     0.01109       0.04374  ...   \n",
              "1           0.00008   0.00465   0.00696     0.01394       0.06134  ...   \n",
              "2           0.00009   0.00544   0.00781     0.01633       0.05233  ...   \n",
              "3           0.00009   0.00502   0.00698     0.01505       0.05492  ...   \n",
              "4           0.00011   0.00655   0.00908     0.01966       0.06425  ...   \n",
              "\n",
              "   Shimmer:DDA      NHR     HNR  status      RPDE       DFA   spread1  \\\n",
              "0      0.06545  0.02211  21.033       1  0.414783  0.815285 -4.813031   \n",
              "1      0.09403  0.01929  19.085       1  0.458359  0.819521 -4.075192   \n",
              "2      0.08270  0.01309  20.651       1  0.429895  0.825288 -4.443179   \n",
              "3      0.08771  0.01353  20.644       1  0.434969  0.819235 -4.117501   \n",
              "4      0.10470  0.01767  19.649       1  0.417356  0.823484 -3.747787   \n",
              "\n",
              "    spread2        D2       PPE  \n",
              "0  0.266482  2.301442  0.284654  \n",
              "1  0.335590  2.486855  0.368674  \n",
              "2  0.311173  2.342259  0.332634  \n",
              "3  0.334147  2.405554  0.368975  \n",
              "4  0.234513  2.332180  0.410335  \n",
              "\n",
              "[5 rows x 24 columns]"
            ],
            "text/html": [
              "\n",
              "  <div id=\"df-011205e8-5a56-4f96-847d-0898f4feb9e7\">\n",
              "    <div class=\"colab-df-container\">\n",
              "      <div>\n",
              "<style scoped>\n",
              "    .dataframe tbody tr th:only-of-type {\n",
              "        vertical-align: middle;\n",
              "    }\n",
              "\n",
              "    .dataframe tbody tr th {\n",
              "        vertical-align: top;\n",
              "    }\n",
              "\n",
              "    .dataframe thead th {\n",
              "        text-align: right;\n",
              "    }\n",
              "</style>\n",
              "<table border=\"1\" class=\"dataframe\">\n",
              "  <thead>\n",
              "    <tr style=\"text-align: right;\">\n",
              "      <th></th>\n",
              "      <th>name</th>\n",
              "      <th>MDVP:Fo(Hz)</th>\n",
              "      <th>MDVP:Fhi(Hz)</th>\n",
              "      <th>MDVP:Flo(Hz)</th>\n",
              "      <th>MDVP:Jitter(%)</th>\n",
              "      <th>MDVP:Jitter(Abs)</th>\n",
              "      <th>MDVP:RAP</th>\n",
              "      <th>MDVP:PPQ</th>\n",
              "      <th>Jitter:DDP</th>\n",
              "      <th>MDVP:Shimmer</th>\n",
              "      <th>...</th>\n",
              "      <th>Shimmer:DDA</th>\n",
              "      <th>NHR</th>\n",
              "      <th>HNR</th>\n",
              "      <th>status</th>\n",
              "      <th>RPDE</th>\n",
              "      <th>DFA</th>\n",
              "      <th>spread1</th>\n",
              "      <th>spread2</th>\n",
              "      <th>D2</th>\n",
              "      <th>PPE</th>\n",
              "    </tr>\n",
              "  </thead>\n",
              "  <tbody>\n",
              "    <tr>\n",
              "      <th>0</th>\n",
              "      <td>phon_R01_S01_1</td>\n",
              "      <td>119.992</td>\n",
              "      <td>157.302</td>\n",
              "      <td>74.997</td>\n",
              "      <td>0.00784</td>\n",
              "      <td>0.00007</td>\n",
              "      <td>0.00370</td>\n",
              "      <td>0.00554</td>\n",
              "      <td>0.01109</td>\n",
              "      <td>0.04374</td>\n",
              "      <td>...</td>\n",
              "      <td>0.06545</td>\n",
              "      <td>0.02211</td>\n",
              "      <td>21.033</td>\n",
              "      <td>1</td>\n",
              "      <td>0.414783</td>\n",
              "      <td>0.815285</td>\n",
              "      <td>-4.813031</td>\n",
              "      <td>0.266482</td>\n",
              "      <td>2.301442</td>\n",
              "      <td>0.284654</td>\n",
              "    </tr>\n",
              "    <tr>\n",
              "      <th>1</th>\n",
              "      <td>phon_R01_S01_2</td>\n",
              "      <td>122.400</td>\n",
              "      <td>148.650</td>\n",
              "      <td>113.819</td>\n",
              "      <td>0.00968</td>\n",
              "      <td>0.00008</td>\n",
              "      <td>0.00465</td>\n",
              "      <td>0.00696</td>\n",
              "      <td>0.01394</td>\n",
              "      <td>0.06134</td>\n",
              "      <td>...</td>\n",
              "      <td>0.09403</td>\n",
              "      <td>0.01929</td>\n",
              "      <td>19.085</td>\n",
              "      <td>1</td>\n",
              "      <td>0.458359</td>\n",
              "      <td>0.819521</td>\n",
              "      <td>-4.075192</td>\n",
              "      <td>0.335590</td>\n",
              "      <td>2.486855</td>\n",
              "      <td>0.368674</td>\n",
              "    </tr>\n",
              "    <tr>\n",
              "      <th>2</th>\n",
              "      <td>phon_R01_S01_3</td>\n",
              "      <td>116.682</td>\n",
              "      <td>131.111</td>\n",
              "      <td>111.555</td>\n",
              "      <td>0.01050</td>\n",
              "      <td>0.00009</td>\n",
              "      <td>0.00544</td>\n",
              "      <td>0.00781</td>\n",
              "      <td>0.01633</td>\n",
              "      <td>0.05233</td>\n",
              "      <td>...</td>\n",
              "      <td>0.08270</td>\n",
              "      <td>0.01309</td>\n",
              "      <td>20.651</td>\n",
              "      <td>1</td>\n",
              "      <td>0.429895</td>\n",
              "      <td>0.825288</td>\n",
              "      <td>-4.443179</td>\n",
              "      <td>0.311173</td>\n",
              "      <td>2.342259</td>\n",
              "      <td>0.332634</td>\n",
              "    </tr>\n",
              "    <tr>\n",
              "      <th>3</th>\n",
              "      <td>phon_R01_S01_4</td>\n",
              "      <td>116.676</td>\n",
              "      <td>137.871</td>\n",
              "      <td>111.366</td>\n",
              "      <td>0.00997</td>\n",
              "      <td>0.00009</td>\n",
              "      <td>0.00502</td>\n",
              "      <td>0.00698</td>\n",
              "      <td>0.01505</td>\n",
              "      <td>0.05492</td>\n",
              "      <td>...</td>\n",
              "      <td>0.08771</td>\n",
              "      <td>0.01353</td>\n",
              "      <td>20.644</td>\n",
              "      <td>1</td>\n",
              "      <td>0.434969</td>\n",
              "      <td>0.819235</td>\n",
              "      <td>-4.117501</td>\n",
              "      <td>0.334147</td>\n",
              "      <td>2.405554</td>\n",
              "      <td>0.368975</td>\n",
              "    </tr>\n",
              "    <tr>\n",
              "      <th>4</th>\n",
              "      <td>phon_R01_S01_5</td>\n",
              "      <td>116.014</td>\n",
              "      <td>141.781</td>\n",
              "      <td>110.655</td>\n",
              "      <td>0.01284</td>\n",
              "      <td>0.00011</td>\n",
              "      <td>0.00655</td>\n",
              "      <td>0.00908</td>\n",
              "      <td>0.01966</td>\n",
              "      <td>0.06425</td>\n",
              "      <td>...</td>\n",
              "      <td>0.10470</td>\n",
              "      <td>0.01767</td>\n",
              "      <td>19.649</td>\n",
              "      <td>1</td>\n",
              "      <td>0.417356</td>\n",
              "      <td>0.823484</td>\n",
              "      <td>-3.747787</td>\n",
              "      <td>0.234513</td>\n",
              "      <td>2.332180</td>\n",
              "      <td>0.410335</td>\n",
              "    </tr>\n",
              "  </tbody>\n",
              "</table>\n",
              "<p>5 rows × 24 columns</p>\n",
              "</div>\n",
              "      <button class=\"colab-df-convert\" onclick=\"convertToInteractive('df-011205e8-5a56-4f96-847d-0898f4feb9e7')\"\n",
              "              title=\"Convert this dataframe to an interactive table.\"\n",
              "              style=\"display:none;\">\n",
              "        \n",
              "  <svg xmlns=\"http://www.w3.org/2000/svg\" height=\"24px\"viewBox=\"0 0 24 24\"\n",
              "       width=\"24px\">\n",
              "    <path d=\"M0 0h24v24H0V0z\" fill=\"none\"/>\n",
              "    <path d=\"M18.56 5.44l.94 2.06.94-2.06 2.06-.94-2.06-.94-.94-2.06-.94 2.06-2.06.94zm-11 1L8.5 8.5l.94-2.06 2.06-.94-2.06-.94L8.5 2.5l-.94 2.06-2.06.94zm10 10l.94 2.06.94-2.06 2.06-.94-2.06-.94-.94-2.06-.94 2.06-2.06.94z\"/><path d=\"M17.41 7.96l-1.37-1.37c-.4-.4-.92-.59-1.43-.59-.52 0-1.04.2-1.43.59L10.3 9.45l-7.72 7.72c-.78.78-.78 2.05 0 2.83L4 21.41c.39.39.9.59 1.41.59.51 0 1.02-.2 1.41-.59l7.78-7.78 2.81-2.81c.8-.78.8-2.07 0-2.86zM5.41 20L4 18.59l7.72-7.72 1.47 1.35L5.41 20z\"/>\n",
              "  </svg>\n",
              "      </button>\n",
              "      \n",
              "  <style>\n",
              "    .colab-df-container {\n",
              "      display:flex;\n",
              "      flex-wrap:wrap;\n",
              "      gap: 12px;\n",
              "    }\n",
              "\n",
              "    .colab-df-convert {\n",
              "      background-color: #E8F0FE;\n",
              "      border: none;\n",
              "      border-radius: 50%;\n",
              "      cursor: pointer;\n",
              "      display: none;\n",
              "      fill: #1967D2;\n",
              "      height: 32px;\n",
              "      padding: 0 0 0 0;\n",
              "      width: 32px;\n",
              "    }\n",
              "\n",
              "    .colab-df-convert:hover {\n",
              "      background-color: #E2EBFA;\n",
              "      box-shadow: 0px 1px 2px rgba(60, 64, 67, 0.3), 0px 1px 3px 1px rgba(60, 64, 67, 0.15);\n",
              "      fill: #174EA6;\n",
              "    }\n",
              "\n",
              "    [theme=dark] .colab-df-convert {\n",
              "      background-color: #3B4455;\n",
              "      fill: #D2E3FC;\n",
              "    }\n",
              "\n",
              "    [theme=dark] .colab-df-convert:hover {\n",
              "      background-color: #434B5C;\n",
              "      box-shadow: 0px 1px 3px 1px rgba(0, 0, 0, 0.15);\n",
              "      filter: drop-shadow(0px 1px 2px rgba(0, 0, 0, 0.3));\n",
              "      fill: #FFFFFF;\n",
              "    }\n",
              "  </style>\n",
              "\n",
              "      <script>\n",
              "        const buttonEl =\n",
              "          document.querySelector('#df-011205e8-5a56-4f96-847d-0898f4feb9e7 button.colab-df-convert');\n",
              "        buttonEl.style.display =\n",
              "          google.colab.kernel.accessAllowed ? 'block' : 'none';\n",
              "\n",
              "        async function convertToInteractive(key) {\n",
              "          const element = document.querySelector('#df-011205e8-5a56-4f96-847d-0898f4feb9e7');\n",
              "          const dataTable =\n",
              "            await google.colab.kernel.invokeFunction('convertToInteractive',\n",
              "                                                     [key], {});\n",
              "          if (!dataTable) return;\n",
              "\n",
              "          const docLinkHtml = 'Like what you see? Visit the ' +\n",
              "            '<a target=\"_blank\" href=https://colab.research.google.com/notebooks/data_table.ipynb>data table notebook</a>'\n",
              "            + ' to learn more about interactive tables.';\n",
              "          element.innerHTML = '';\n",
              "          dataTable['output_type'] = 'display_data';\n",
              "          await google.colab.output.renderOutput(dataTable, element);\n",
              "          const docLink = document.createElement('div');\n",
              "          docLink.innerHTML = docLinkHtml;\n",
              "          element.appendChild(docLink);\n",
              "        }\n",
              "      </script>\n",
              "    </div>\n",
              "  </div>\n",
              "  "
            ]
          },
          "metadata": {},
          "execution_count": 2
        }
      ]
    },
    {
      "cell_type": "markdown",
      "source": [
        "We drop the name:"
      ],
      "metadata": {
        "id": "CQplsSIhxzil"
      }
    },
    {
      "cell_type": "code",
      "source": [
        "data.drop('name', axis = 1, inplace = True)\n",
        "data.info()"
      ],
      "metadata": {
        "colab": {
          "base_uri": "https://localhost:8080/"
        },
        "id": "Qpoz_Zvnxs6E",
        "outputId": "e5d6d0d1-02d5-486f-9781-24ae7f9bad98"
      },
      "execution_count": 3,
      "outputs": [
        {
          "output_type": "stream",
          "name": "stdout",
          "text": [
            "<class 'pandas.core.frame.DataFrame'>\n",
            "RangeIndex: 195 entries, 0 to 194\n",
            "Data columns (total 23 columns):\n",
            " #   Column            Non-Null Count  Dtype  \n",
            "---  ------            --------------  -----  \n",
            " 0   MDVP:Fo(Hz)       195 non-null    float64\n",
            " 1   MDVP:Fhi(Hz)      195 non-null    float64\n",
            " 2   MDVP:Flo(Hz)      195 non-null    float64\n",
            " 3   MDVP:Jitter(%)    195 non-null    float64\n",
            " 4   MDVP:Jitter(Abs)  195 non-null    float64\n",
            " 5   MDVP:RAP          195 non-null    float64\n",
            " 6   MDVP:PPQ          195 non-null    float64\n",
            " 7   Jitter:DDP        195 non-null    float64\n",
            " 8   MDVP:Shimmer      195 non-null    float64\n",
            " 9   MDVP:Shimmer(dB)  195 non-null    float64\n",
            " 10  Shimmer:APQ3      195 non-null    float64\n",
            " 11  Shimmer:APQ5      195 non-null    float64\n",
            " 12  MDVP:APQ          195 non-null    float64\n",
            " 13  Shimmer:DDA       195 non-null    float64\n",
            " 14  NHR               195 non-null    float64\n",
            " 15  HNR               195 non-null    float64\n",
            " 16  status            195 non-null    int64  \n",
            " 17  RPDE              195 non-null    float64\n",
            " 18  DFA               195 non-null    float64\n",
            " 19  spread1           195 non-null    float64\n",
            " 20  spread2           195 non-null    float64\n",
            " 21  D2                195 non-null    float64\n",
            " 22  PPE               195 non-null    float64\n",
            "dtypes: float64(22), int64(1)\n",
            "memory usage: 35.2 KB\n"
          ]
        }
      ]
    },
    {
      "cell_type": "markdown",
      "source": [
        "There are no null values.\n",
        "\n",
        "Check the target variable, status:"
      ],
      "metadata": {
        "id": "wjjbziiAyGOO"
      }
    },
    {
      "cell_type": "code",
      "source": [
        "sns.countplot(x = 'status', data = data)\n",
        "print('Target variable count: ')\n",
        "print(data['status'].value_counts())"
      ],
      "metadata": {
        "colab": {
          "base_uri": "https://localhost:8080/",
          "height": 354
        },
        "id": "jO_t7DqiyDJx",
        "outputId": "59c871d4-5158-48e9-aab2-a4eba6f3a785"
      },
      "execution_count": 4,
      "outputs": [
        {
          "output_type": "stream",
          "name": "stdout",
          "text": [
            "Target variable count: \n",
            "1    147\n",
            "0     48\n",
            "Name: status, dtype: int64\n"
          ]
        },
        {
          "output_type": "display_data",
          "data": {
            "text/plain": [
              "<Figure size 432x288 with 1 Axes>"
            ],
            "image/png": "[encoded data removed]"
          },
          "metadata": {}
        }
      ]
    },
    {
      "cell_type": "markdown",
      "source": [
        "It seems that there are a lot of candidates who suffer from Parkinson's disease rather than Healthy candidates. Thus, any predictions could be skewed towards detecting patients with Parkinson's. This could infact lead to a large number of False Negatives.\n",
        "\n",
        "Let us find the correlation:"
      ],
      "metadata": {
        "id": "AS7SlfGI3lvA"
      }
    },
    {
      "cell_type": "code",
      "source": [
        "plt.figure(figsize = (20, 20))\n",
        "sns.heatmap(data.corr(), cmap = 'viridis', annot = True)"
      ],
      "metadata": {
        "colab": {
          "base_uri": "https://localhost:8080/",
          "height": 1000
        },
        "id": "mhg-B8oF2vhn",
        "outputId": "fe0f278f-27ee-4474-deec-f8426caea02e"
      },
      "execution_count": 5,
      "outputs": [
        {
          "output_type": "execute_result",
          "data": {
            "text/plain": [
              "<matplotlib.axes._subplots.AxesSubplot at 0x7efc05e212e0>"
            ]
          },
          "metadata": {},
          "execution_count": 5
        },
        {
          "output_type": "display_data",
          "data": {
            "text/plain": [
              "<Figure size 1440x1440 with 2 Axes>"
            ],
            "image/png": "[encoded data removed]"
          },
          "metadata": {}
        }
      ]
    },
    {
      "cell_type": "markdown",
      "source": [
        "We see that there are a lot of correlations between the different MDVP variables as well as between spread1 and PPE."
      ],
      "metadata": {
        "id": "hXmJSYGQ5Cph"
      }
    },
    {
      "cell_type": "markdown",
      "source": [
        "## Split the Features and Targets"
      ],
      "metadata": {
        "id": "FOfslcF05Sjq"
      }
    },
    {
      "cell_type": "code",
      "source": [
        "x_data = data.drop('status', axis = 1)\n",
        "print('Shape of Features: ', x_data.shape)\n",
        "y_data = data['status']\n",
        "print('Shape of the target: ', y_data.shape)"
      ],
      "metadata": {
        "colab": {
          "base_uri": "https://localhost:8080/"
        },
        "id": "D2frj4rA4lJU",
        "outputId": "022779c2-07c9-4b69-a534-fcf79f13af9a"
      },
      "execution_count": 6,
      "outputs": [
        {
          "output_type": "stream",
          "name": "stdout",
          "text": [
            "Shape of Features:  (195, 22)\n",
            "Shape of the target:  (195,)\n"
          ]
        }
      ]
    },
    {
      "cell_type": "markdown",
      "source": [
        "## Standardization"
      ],
      "metadata": {
        "id": "1kfmPvU15viD"
      }
    },
    {
      "cell_type": "code",
      "source": [
        "from sklearn.preprocessing import StandardScaler\n",
        "scaler = StandardScaler()\n",
        "scaler.fit(x_data)\n",
        "x_scaled = scaler.transform(x_data)"
      ],
      "metadata": {
        "id": "_sJ1nnOB5j7W"
      },
      "execution_count": 7,
      "outputs": []
    },
    {
      "cell_type": "code",
      "source": [
        "scaled_data = pd.DataFrame(x_scaled, columns = x_data.columns)\n",
        "scaled_data.head()"
      ],
      "metadata": {
        "colab": {
          "base_uri": "https://localhost:8080/",
          "height": 299
        },
        "id": "dituSLtO4bWR",
        "outputId": "0e1daa1c-2fff-4ac1-e81b-69f30916e180"
      },
      "execution_count": 8,
      "outputs": [
        {
          "output_type": "execute_result",
          "data": {
            "text/plain": [
              "   MDVP:Fo(Hz)  MDVP:Fhi(Hz)  MDVP:Flo(Hz)  MDVP:Jitter(%)  MDVP:Jitter(Abs)  \\\n",
              "0    -0.829300     -0.436165     -0.952037        0.334914          0.749759   \n",
              "1    -0.770972     -0.530974     -0.057721        0.715418          1.037674   \n",
              "2    -0.909476     -0.723168     -0.109875        0.884991          1.325589   \n",
              "3    -0.909622     -0.649092     -0.114229        0.775389          1.325589   \n",
              "4    -0.925657     -0.606245     -0.130608        1.368893          1.901418   \n",
              "\n",
              "   MDVP:RAP  MDVP:PPQ  Jitter:DDP  MDVP:Shimmer  MDVP:Shimmer(dB)  ...  \\\n",
              "0  0.132963  0.760800    0.131755      0.745985          0.739536  ...   \n",
              "1  0.453892  1.276809    0.452684      1.681731          1.768464  ...   \n",
              "2  0.720770  1.585687    0.721813      1.202693          1.027636  ...   \n",
              "3  0.578885  1.284076    0.577677      1.340396          1.207698  ...   \n",
              "4  1.095750  2.047187    1.096793      1.836448          1.552389  ...   \n",
              "\n",
              "   MDVP:APQ  Shimmer:DDA       NHR       HNR      RPDE       DFA   spread1  \\\n",
              "0  0.332985     0.607532 -0.067893 -0.193225 -0.807838  1.760814  0.801323   \n",
              "1  1.159454     1.548254 -0.137843 -0.634508 -0.387524  1.837562  1.479853   \n",
              "2  0.699187     1.175323 -0.291633 -0.279760 -0.662075  1.942048  1.141445   \n",
              "3  0.806859     1.340229 -0.280719 -0.281346 -0.613134  1.832380  1.440945   \n",
              "4  1.216839     1.899461 -0.178026 -0.506745 -0.783021  1.909364  1.780940   \n",
              "\n",
              "    spread2        D2       PPE  \n",
              "0  0.480477 -0.210531  0.868886  \n",
              "1  1.311185  0.275077  1.803605  \n",
              "2  1.017682 -0.103629  1.402661  \n",
              "3  1.293840  0.062145  1.806954  \n",
              "4  0.096195 -0.130026  2.267082  \n",
              "\n",
              "[5 rows x 22 columns]"
            ],
            "text/html": [
              "\n",
              "  <div id=\"df-56af2f01-efee-4180-bdaf-7bb6b787ac4f\">\n",
              "    <div class=\"colab-df-container\">\n",
              "      <div>\n",
              "<style scoped>\n",
              "    .dataframe tbody tr th:only-of-type {\n",
              "        vertical-align: middle;\n",
              "    }\n",
              "\n",
              "    .dataframe tbody tr th {\n",
              "        vertical-align: top;\n",
              "    }\n",
              "\n",
              "    .dataframe thead th {\n",
              "        text-align: right;\n",
              "    }\n",
              "</style>\n",
              "<table border=\"1\" class=\"dataframe\">\n",
              "  <thead>\n",
              "    <tr style=\"text-align: right;\">\n",
              "      <th></th>\n",
              "      <th>MDVP:Fo(Hz)</th>\n",
              "      <th>MDVP:Fhi(Hz)</th>\n",
              "      <th>MDVP:Flo(Hz)</th>\n",
              "      <th>MDVP:Jitter(%)</th>\n",
              "      <th>MDVP:Jitter(Abs)</th>\n",
              "      <th>MDVP:RAP</th>\n",
              "      <th>MDVP:PPQ</th>\n",
              "      <th>Jitter:DDP</th>\n",
              "      <th>MDVP:Shimmer</th>\n",
              "      <th>MDVP:Shimmer(dB)</th>\n",
              "      <th>...</th>\n",
              "      <th>MDVP:APQ</th>\n",
              "      <th>Shimmer:DDA</th>\n",
              "      <th>NHR</th>\n",
              "      <th>HNR</th>\n",
              "      <th>RPDE</th>\n",
              "      <th>DFA</th>\n",
              "      <th>spread1</th>\n",
              "      <th>spread2</th>\n",
              "      <th>D2</th>\n",
              "      <th>PPE</th>\n",
              "    </tr>\n",
              "  </thead>\n",
              "  <tbody>\n",
              "    <tr>\n",
              "      <th>0</th>\n",
              "      <td>-0.829300</td>\n",
              "      <td>-0.436165</td>\n",
              "      <td>-0.952037</td>\n",
              "      <td>0.334914</td>\n",
              "      <td>0.749759</td>\n",
              "      <td>0.132963</td>\n",
              "      <td>0.760800</td>\n",
              "      <td>0.131755</td>\n",
              "      <td>0.745985</td>\n",
              "      <td>0.739536</td>\n",
              "      <td>...</td>\n",
              "      <td>0.332985</td>\n",
              "      <td>0.607532</td>\n",
              "      <td>-0.067893</td>\n",
              "      <td>-0.193225</td>\n",
              "      <td>-0.807838</td>\n",
              "      <td>1.760814</td>\n",
              "      <td>0.801323</td>\n",
              "      <td>0.480477</td>\n",
              "      <td>-0.210531</td>\n",
              "      <td>0.868886</td>\n",
              "    </tr>\n",
              "    <tr>\n",
              "      <th>1</th>\n",
              "      <td>-0.770972</td>\n",
              "      <td>-0.530974</td>\n",
              "      <td>-0.057721</td>\n",
              "      <td>0.715418</td>\n",
              "      <td>1.037674</td>\n",
              "      <td>0.453892</td>\n",
              "      <td>1.276809</td>\n",
              "      <td>0.452684</td>\n",
              "      <td>1.681731</td>\n",
              "      <td>1.768464</td>\n",
              "      <td>...</td>\n",
              "      <td>1.159454</td>\n",
              "      <td>1.548254</td>\n",
              "      <td>-0.137843</td>\n",
              "      <td>-0.634508</td>\n",
              "      <td>-0.387524</td>\n",
              "      <td>1.837562</td>\n",
              "      <td>1.479853</td>\n",
              "      <td>1.311185</td>\n",
              "      <td>0.275077</td>\n",
              "      <td>1.803605</td>\n",
              "    </tr>\n",
              "    <tr>\n",
              "      <th>2</th>\n",
              "      <td>-0.909476</td>\n",
              "      <td>-0.723168</td>\n",
              "      <td>-0.109875</td>\n",
              "      <td>0.884991</td>\n",
              "      <td>1.325589</td>\n",
              "      <td>0.720770</td>\n",
              "      <td>1.585687</td>\n",
              "      <td>0.721813</td>\n",
              "      <td>1.202693</td>\n",
              "      <td>1.027636</td>\n",
              "      <td>...</td>\n",
              "      <td>0.699187</td>\n",
              "      <td>1.175323</td>\n",
              "      <td>-0.291633</td>\n",
              "      <td>-0.279760</td>\n",
              "      <td>-0.662075</td>\n",
              "      <td>1.942048</td>\n",
              "      <td>1.141445</td>\n",
              "      <td>1.017682</td>\n",
              "      <td>-0.103629</td>\n",
              "      <td>1.402661</td>\n",
              "    </tr>\n",
              "    <tr>\n",
              "      <th>3</th>\n",
              "      <td>-0.909622</td>\n",
              "      <td>-0.649092</td>\n",
              "      <td>-0.114229</td>\n",
              "      <td>0.775389</td>\n",
              "      <td>1.325589</td>\n",
              "      <td>0.578885</td>\n",
              "      <td>1.284076</td>\n",
              "      <td>0.577677</td>\n",
              "      <td>1.340396</td>\n",
              "      <td>1.207698</td>\n",
              "      <td>...</td>\n",
              "      <td>0.806859</td>\n",
              "      <td>1.340229</td>\n",
              "      <td>-0.280719</td>\n",
              "      <td>-0.281346</td>\n",
              "      <td>-0.613134</td>\n",
              "      <td>1.832380</td>\n",
              "      <td>1.440945</td>\n",
              "      <td>1.293840</td>\n",
              "      <td>0.062145</td>\n",
              "      <td>1.806954</td>\n",
              "    </tr>\n",
              "    <tr>\n",
              "      <th>4</th>\n",
              "      <td>-0.925657</td>\n",
              "      <td>-0.606245</td>\n",
              "      <td>-0.130608</td>\n",
              "      <td>1.368893</td>\n",
              "      <td>1.901418</td>\n",
              "      <td>1.095750</td>\n",
              "      <td>2.047187</td>\n",
              "      <td>1.096793</td>\n",
              "      <td>1.836448</td>\n",
              "      <td>1.552389</td>\n",
              "      <td>...</td>\n",
              "      <td>1.216839</td>\n",
              "      <td>1.899461</td>\n",
              "      <td>-0.178026</td>\n",
              "      <td>-0.506745</td>\n",
              "      <td>-0.783021</td>\n",
              "      <td>1.909364</td>\n",
              "      <td>1.780940</td>\n",
              "      <td>0.096195</td>\n",
              "      <td>-0.130026</td>\n",
              "      <td>2.267082</td>\n",
              "    </tr>\n",
              "  </tbody>\n",
              "</table>\n",
              "<p>5 rows × 22 columns</p>\n",
              "</div>\n",
              "      <button class=\"colab-df-convert\" onclick=\"convertToInteractive('df-56af2f01-efee-4180-bdaf-7bb6b787ac4f')\"\n",
              "              title=\"Convert this dataframe to an interactive table.\"\n",
              "              style=\"display:none;\">\n",
              "        \n",
              "  <svg xmlns=\"http://www.w3.org/2000/svg\" height=\"24px\"viewBox=\"0 0 24 24\"\n",
              "       width=\"24px\">\n",
              "    <path d=\"M0 0h24v24H0V0z\" fill=\"none\"/>\n",
              "    <path d=\"M18.56 5.44l.94 2.06.94-2.06 2.06-.94-2.06-.94-.94-2.06-.94 2.06-2.06.94zm-11 1L8.5 8.5l.94-2.06 2.06-.94-2.06-.94L8.5 2.5l-.94 2.06-2.06.94zm10 10l.94 2.06.94-2.06 2.06-.94-2.06-.94-.94-2.06-.94 2.06-2.06.94z\"/><path d=\"M17.41 7.96l-1.37-1.37c-.4-.4-.92-.59-1.43-.59-.52 0-1.04.2-1.43.59L10.3 9.45l-7.72 7.72c-.78.78-.78 2.05 0 2.83L4 21.41c.39.39.9.59 1.41.59.51 0 1.02-.2 1.41-.59l7.78-7.78 2.81-2.81c.8-.78.8-2.07 0-2.86zM5.41 20L4 18.59l7.72-7.72 1.47 1.35L5.41 20z\"/>\n",
              "  </svg>\n",
              "      </button>\n",
              "      \n",
              "  <style>\n",
              "    .colab-df-container {\n",
              "      display:flex;\n",
              "      flex-wrap:wrap;\n",
              "      gap: 12px;\n",
              "    }\n",
              "\n",
              "    .colab-df-convert {\n",
              "      background-color: #E8F0FE;\n",
              "      border: none;\n",
              "      border-radius: 50%;\n",
              "      cursor: pointer;\n",
              "      display: none;\n",
              "      fill: #1967D2;\n",
              "      height: 32px;\n",
              "      padding: 0 0 0 0;\n",
              "      width: 32px;\n",
              "    }\n",
              "\n",
              "    .colab-df-convert:hover {\n",
              "      background-color: #E2EBFA;\n",
              "      box-shadow: 0px 1px 2px rgba(60, 64, 67, 0.3), 0px 1px 3px 1px rgba(60, 64, 67, 0.15);\n",
              "      fill: #174EA6;\n",
              "    }\n",
              "\n",
              "    [theme=dark] .colab-df-convert {\n",
              "      background-color: #3B4455;\n",
              "      fill: #D2E3FC;\n",
              "    }\n",
              "\n",
              "    [theme=dark] .colab-df-convert:hover {\n",
              "      background-color: #434B5C;\n",
              "      box-shadow: 0px 1px 3px 1px rgba(0, 0, 0, 0.15);\n",
              "      filter: drop-shadow(0px 1px 2px rgba(0, 0, 0, 0.3));\n",
              "      fill: #FFFFFF;\n",
              "    }\n",
              "  </style>\n",
              "\n",
              "      <script>\n",
              "        const buttonEl =\n",
              "          document.querySelector('#df-56af2f01-efee-4180-bdaf-7bb6b787ac4f button.colab-df-convert');\n",
              "        buttonEl.style.display =\n",
              "          google.colab.kernel.accessAllowed ? 'block' : 'none';\n",
              "\n",
              "        async function convertToInteractive(key) {\n",
              "          const element = document.querySelector('#df-56af2f01-efee-4180-bdaf-7bb6b787ac4f');\n",
              "          const dataTable =\n",
              "            await google.colab.kernel.invokeFunction('convertToInteractive',\n",
              "                                                     [key], {});\n",
              "          if (!dataTable) return;\n",
              "\n",
              "          const docLinkHtml = 'Like what you see? Visit the ' +\n",
              "            '<a target=\"_blank\" href=https://colab.research.google.com/notebooks/data_table.ipynb>data table notebook</a>'\n",
              "            + ' to learn more about interactive tables.';\n",
              "          element.innerHTML = '';\n",
              "          dataTable['output_type'] = 'display_data';\n",
              "          await google.colab.output.renderOutput(dataTable, element);\n",
              "          const docLink = document.createElement('div');\n",
              "          docLink.innerHTML = docLinkHtml;\n",
              "          element.appendChild(docLink);\n",
              "        }\n",
              "      </script>\n",
              "    </div>\n",
              "  </div>\n",
              "  "
            ]
          },
          "metadata": {},
          "execution_count": 8
        }
      ]
    },
    {
      "cell_type": "markdown",
      "source": [
        "## Principal Component Analysis"
      ],
      "metadata": {
        "id": "IksL3pMK7NFn"
      }
    },
    {
      "cell_type": "code",
      "source": [
        "from sklearn.decomposition import PCA\n",
        "pca = PCA()\n",
        "pca.fit(scaled_data)\n",
        "pca.get_params()"
      ],
      "metadata": {
        "colab": {
          "base_uri": "https://localhost:8080/"
        },
        "id": "VctdXiDB7PxI",
        "outputId": "efcdda39-34a1-447f-b9e0-5c9f14109a63"
      },
      "execution_count": 9,
      "outputs": [
        {
          "output_type": "execute_result",
          "data": {
            "text/plain": [
              "{'copy': True,\n",
              " 'iterated_power': 'auto',\n",
              " 'n_components': None,\n",
              " 'random_state': None,\n",
              " 'svd_solver': 'auto',\n",
              " 'tol': 0.0,\n",
              " 'whiten': False}"
            ]
          },
          "metadata": {},
          "execution_count": 9
        }
      ]
    },
    {
      "cell_type": "markdown",
      "source": [
        "#### Scree Plot"
      ],
      "metadata": {
        "id": "9x1WbwQyxQP-"
      }
    },
    {
      "cell_type": "code",
      "source": [
        "fig, ax = plt.subplots()\n",
        "xi = np.arange(1, len(scaled_data.columns)+1, 1)\n",
        "yi = np.cumsum(pca.explained_variance_ratio_)\n",
        "\n",
        "plt.plot(xi, yi, marker='o', linestyle='--', color='b')\n",
        "plt.xlabel('Number of Components')\n",
        "plt.xticks(np.arange(1, 23, step=1))\n",
        "plt.ylabel('Cumulative variance (%)')\n",
        "plt.title('Scree Plot')\n",
        "ax.set_ylim([0.70, 1.01])\n",
        "plt.axhline(y = 0.95, color='r', linestyle='--')\n",
        "ax.grid(\"both\")\n",
        "plt.show()"
      ],
      "metadata": {
        "colab": {
          "base_uri": "https://localhost:8080/",
          "height": 301
        },
        "id": "uo9rp-IorhEW",
        "outputId": "1a175166-28d9-4ddc-f0f1-f46f9f595bc1"
      },
      "execution_count": 10,
      "outputs": [
        {
          "output_type": "display_data",
          "data": {
            "text/plain": [
              "<Figure size 432x288 with 1 Axes>"
            ],
            "image/png": "[encoded data removed]"
          },
          "metadata": {}
        }
      ]
    },
    {
      "cell_type": "markdown",
      "source": [
        "We note that with just 8 components, we can explain over 95% of the variance in our dataset."
      ],
      "metadata": {
        "id": "9ove0BjvxVfO"
      }
    },
    {
      "cell_type": "code",
      "source": [
        "pca = PCA(n_components = 0.95, random_state = 42)\n",
        "pca.fit(scaled_data)\n",
        "x_PCA = pca.transform(scaled_data)\n",
        "print('Shape of x before PCA: ', scaled_data.shape)\n",
        "print('Shape of x after PCA: ', x_PCA.shape)"
      ],
      "metadata": {
        "colab": {
          "base_uri": "https://localhost:8080/"
        },
        "id": "n07Gb3S9xiuv",
        "outputId": "36acb7b9-57bc-4f76-adb7-bff0bcd6baf6"
      },
      "execution_count": 11,
      "outputs": [
        {
          "output_type": "stream",
          "name": "stdout",
          "text": [
            "Shape of x before PCA:  (195, 22)\n",
            "Shape of x after PCA:  (195, 8)\n"
          ]
        }
      ]
    },
    {
      "cell_type": "code",
      "source": [
        "columns = ['PCA Compponent 0%i' %i for i in range(1, 9)]\n",
        "PCA_data  = pd.DataFrame(pca.transform(x_data), columns = columns)\n",
        "PCA_data.head()"
      ],
      "metadata": {
        "colab": {
          "base_uri": "https://localhost:8080/",
          "height": 267
        },
        "id": "QE6aDfxXyLN1",
        "outputId": "c2629677-e2f4-48b2-c32f-14a60c417d33"
      },
      "execution_count": 12,
      "outputs": [
        {
          "output_type": "execute_result",
          "data": {
            "text/plain": [
              "   PCA Compponent 01  PCA Compponent 02  PCA Compponent 03  PCA Compponent 04  \\\n",
              "0         -15.568083         151.182946          36.737201           6.465471   \n",
              "1         -17.455712         164.747231          26.233808          -4.656703   \n",
              "2         -17.671470         154.585414          20.942153          -7.486110   \n",
              "3         -17.505308         156.787129          22.887414          -5.800369   \n",
              "4         -17.060758         157.466017          24.156047          -4.672713   \n",
              "\n",
              "   PCA Compponent 05  PCA Compponent 06  PCA Compponent 07  PCA Compponent 08  \n",
              "0         -68.061853          62.531807          91.322288         -26.345806  \n",
              "1         -77.739918          37.543720         105.706945         -26.919125  \n",
              "2         -73.272299          27.025147          98.302106         -24.181901  \n",
              "3         -74.590066          31.941854         100.709064         -24.680923  \n",
              "4         -74.908704          35.092270         101.840566         -25.245292  "
            ],
            "text/html": [
              "\n",
              "  <div id=\"df-847f1f4f-7baa-4330-8c9d-f69227257378\">\n",
              "    <div class=\"colab-df-container\">\n",
              "      <div>\n",
              "<style scoped>\n",
              "    .dataframe tbody tr th:only-of-type {\n",
              "        vertical-align: middle;\n",
              "    }\n",
              "\n",
              "    .dataframe tbody tr th {\n",
              "        vertical-align: top;\n",
              "    }\n",
              "\n",
              "    .dataframe thead th {\n",
              "        text-align: right;\n",
              "    }\n",
              "</style>\n",
              "<table border=\"1\" class=\"dataframe\">\n",
              "  <thead>\n",
              "    <tr style=\"text-align: right;\">\n",
              "      <th></th>\n",
              "      <th>PCA Compponent 01</th>\n",
              "      <th>PCA Compponent 02</th>\n",
              "      <th>PCA Compponent 03</th>\n",
              "      <th>PCA Compponent 04</th>\n",
              "      <th>PCA Compponent 05</th>\n",
              "      <th>PCA Compponent 06</th>\n",
              "      <th>PCA Compponent 07</th>\n",
              "      <th>PCA Compponent 08</th>\n",
              "    </tr>\n",
              "  </thead>\n",
              "  <tbody>\n",
              "    <tr>\n",
              "      <th>0</th>\n",
              "      <td>-15.568083</td>\n",
              "      <td>151.182946</td>\n",
              "      <td>36.737201</td>\n",
              "      <td>6.465471</td>\n",
              "      <td>-68.061853</td>\n",
              "      <td>62.531807</td>\n",
              "      <td>91.322288</td>\n",
              "      <td>-26.345806</td>\n",
              "    </tr>\n",
              "    <tr>\n",
              "      <th>1</th>\n",
              "      <td>-17.455712</td>\n",
              "      <td>164.747231</td>\n",
              "      <td>26.233808</td>\n",
              "      <td>-4.656703</td>\n",
              "      <td>-77.739918</td>\n",
              "      <td>37.543720</td>\n",
              "      <td>105.706945</td>\n",
              "      <td>-26.919125</td>\n",
              "    </tr>\n",
              "    <tr>\n",
              "      <th>2</th>\n",
              "      <td>-17.671470</td>\n",
              "      <td>154.585414</td>\n",
              "      <td>20.942153</td>\n",
              "      <td>-7.486110</td>\n",
              "      <td>-73.272299</td>\n",
              "      <td>27.025147</td>\n",
              "      <td>98.302106</td>\n",
              "      <td>-24.181901</td>\n",
              "    </tr>\n",
              "    <tr>\n",
              "      <th>3</th>\n",
              "      <td>-17.505308</td>\n",
              "      <td>156.787129</td>\n",
              "      <td>22.887414</td>\n",
              "      <td>-5.800369</td>\n",
              "      <td>-74.590066</td>\n",
              "      <td>31.941854</td>\n",
              "      <td>100.709064</td>\n",
              "      <td>-24.680923</td>\n",
              "    </tr>\n",
              "    <tr>\n",
              "      <th>4</th>\n",
              "      <td>-17.060758</td>\n",
              "      <td>157.466017</td>\n",
              "      <td>24.156047</td>\n",
              "      <td>-4.672713</td>\n",
              "      <td>-74.908704</td>\n",
              "      <td>35.092270</td>\n",
              "      <td>101.840566</td>\n",
              "      <td>-25.245292</td>\n",
              "    </tr>\n",
              "  </tbody>\n",
              "</table>\n",
              "</div>\n",
              "      <button class=\"colab-df-convert\" onclick=\"convertToInteractive('df-847f1f4f-7baa-4330-8c9d-f69227257378')\"\n",
              "              title=\"Convert this dataframe to an interactive table.\"\n",
              "              style=\"display:none;\">\n",
              "        \n",
              "  <svg xmlns=\"http://www.w3.org/2000/svg\" height=\"24px\"viewBox=\"0 0 24 24\"\n",
              "       width=\"24px\">\n",
              "    <path d=\"M0 0h24v24H0V0z\" fill=\"none\"/>\n",
              "    <path d=\"M18.56 5.44l.94 2.06.94-2.06 2.06-.94-2.06-.94-.94-2.06-.94 2.06-2.06.94zm-11 1L8.5 8.5l.94-2.06 2.06-.94-2.06-.94L8.5 2.5l-.94 2.06-2.06.94zm10 10l.94 2.06.94-2.06 2.06-.94-2.06-.94-.94-2.06-.94 2.06-2.06.94z\"/><path d=\"M17.41 7.96l-1.37-1.37c-.4-.4-.92-.59-1.43-.59-.52 0-1.04.2-1.43.59L10.3 9.45l-7.72 7.72c-.78.78-.78 2.05 0 2.83L4 21.41c.39.39.9.59 1.41.59.51 0 1.02-.2 1.41-.59l7.78-7.78 2.81-2.81c.8-.78.8-2.07 0-2.86zM5.41 20L4 18.59l7.72-7.72 1.47 1.35L5.41 20z\"/>\n",
              "  </svg>\n",
              "      </button>\n",
              "      \n",
              "  <style>\n",
              "    .colab-df-container {\n",
              "      display:flex;\n",
              "      flex-wrap:wrap;\n",
              "      gap: 12px;\n",
              "    }\n",
              "\n",
              "    .colab-df-convert {\n",
              "      background-color: #E8F0FE;\n",
              "      border: none;\n",
              "      border-radius: 50%;\n",
              "      cursor: pointer;\n",
              "      display: none;\n",
              "      fill: #1967D2;\n",
              "      height: 32px;\n",
              "      padding: 0 0 0 0;\n",
              "      width: 32px;\n",
              "    }\n",
              "\n",
              "    .colab-df-convert:hover {\n",
              "      background-color: #E2EBFA;\n",
              "      box-shadow: 0px 1px 2px rgba(60, 64, 67, 0.3), 0px 1px 3px 1px rgba(60, 64, 67, 0.15);\n",
              "      fill: #174EA6;\n",
              "    }\n",
              "\n",
              "    [theme=dark] .colab-df-convert {\n",
              "      background-color: #3B4455;\n",
              "      fill: #D2E3FC;\n",
              "    }\n",
              "\n",
              "    [theme=dark] .colab-df-convert:hover {\n",
              "      background-color: #434B5C;\n",
              "      box-shadow: 0px 1px 3px 1px rgba(0, 0, 0, 0.15);\n",
              "      filter: drop-shadow(0px 1px 2px rgba(0, 0, 0, 0.3));\n",
              "      fill: #FFFFFF;\n",
              "    }\n",
              "  </style>\n",
              "\n",
              "      <script>\n",
              "        const buttonEl =\n",
              "          document.querySelector('#df-847f1f4f-7baa-4330-8c9d-f69227257378 button.colab-df-convert');\n",
              "        buttonEl.style.display =\n",
              "          google.colab.kernel.accessAllowed ? 'block' : 'none';\n",
              "\n",
              "        async function convertToInteractive(key) {\n",
              "          const element = document.querySelector('#df-847f1f4f-7baa-4330-8c9d-f69227257378');\n",
              "          const dataTable =\n",
              "            await google.colab.kernel.invokeFunction('convertToInteractive',\n",
              "                                                     [key], {});\n",
              "          if (!dataTable) return;\n",
              "\n",
              "          const docLinkHtml = 'Like what you see? Visit the ' +\n",
              "            '<a target=\"_blank\" href=https://colab.research.google.com/notebooks/data_table.ipynb>data table notebook</a>'\n",
              "            + ' to learn more about interactive tables.';\n",
              "          element.innerHTML = '';\n",
              "          dataTable['output_type'] = 'display_data';\n",
              "          await google.colab.output.renderOutput(dataTable, element);\n",
              "          const docLink = document.createElement('div');\n",
              "          docLink.innerHTML = docLinkHtml;\n",
              "          element.appendChild(docLink);\n",
              "        }\n",
              "      </script>\n",
              "    </div>\n",
              "  </div>\n",
              "  "
            ]
          },
          "metadata": {},
          "execution_count": 12
        }
      ]
    },
    {
      "cell_type": "code",
      "source": [
        "PCA_data.info()"
      ],
      "metadata": {
        "colab": {
          "base_uri": "https://localhost:8080/"
        },
        "id": "gDicnxsV3Cmx",
        "outputId": "622705a1-36f3-4a09-8bcc-ac34c67fb583"
      },
      "execution_count": 13,
      "outputs": [
        {
          "output_type": "stream",
          "name": "stdout",
          "text": [
            "<class 'pandas.core.frame.DataFrame'>\n",
            "RangeIndex: 195 entries, 0 to 194\n",
            "Data columns (total 8 columns):\n",
            " #   Column             Non-Null Count  Dtype  \n",
            "---  ------             --------------  -----  \n",
            " 0   PCA Compponent 01  195 non-null    float64\n",
            " 1   PCA Compponent 02  195 non-null    float64\n",
            " 2   PCA Compponent 03  195 non-null    float64\n",
            " 3   PCA Compponent 04  195 non-null    float64\n",
            " 4   PCA Compponent 05  195 non-null    float64\n",
            " 5   PCA Compponent 06  195 non-null    float64\n",
            " 6   PCA Compponent 07  195 non-null    float64\n",
            " 7   PCA Compponent 08  195 non-null    float64\n",
            "dtypes: float64(8)\n",
            "memory usage: 12.3 KB\n"
          ]
        }
      ]
    },
    {
      "cell_type": "code",
      "source": [
        "x = PCA_data.values\n",
        "y = data['status'].values"
      ],
      "metadata": {
        "id": "9KvxN4qj3LWu"
      },
      "execution_count": 14,
      "outputs": []
    },
    {
      "cell_type": "markdown",
      "source": [
        "## Split into Test and Train sets"
      ],
      "metadata": {
        "id": "KcS473bK6PXg"
      }
    },
    {
      "cell_type": "code",
      "source": [
        "from sklearn.model_selection import train_test_split\n",
        "x_train, x_test, y_train, y_test = train_test_split(x, y, test_size = 0.2, random_state = 42)\n",
        "print('Shape x_train: ', x_train.shape)\n",
        "print('Shape y_train: ', y_train.shape)\n",
        "print('Shape x_test: ', x_test.shape)\n",
        "print('Shape y_test: ', y_test.shape)"
      ],
      "metadata": {
        "colab": {
          "base_uri": "https://localhost:8080/"
        },
        "id": "B09FOKCT6Sfx",
        "outputId": "1809050a-3be8-435d-df9f-5b10249b0e5a"
      },
      "execution_count": 15,
      "outputs": [
        {
          "output_type": "stream",
          "name": "stdout",
          "text": [
            "Shape x_train:  (156, 8)\n",
            "Shape y_train:  (156,)\n",
            "Shape x_test:  (39, 8)\n",
            "Shape y_test:  (39,)\n"
          ]
        }
      ]
    },
    {
      "cell_type": "markdown",
      "source": [
        "## ML Techniques - Imbalanced Dataset\n",
        "\n",
        "We do not perform Pruning on the Imbalanced data; we would like to know how the performance changes in a general manner."
      ],
      "metadata": {
        "id": "Pf2RDQOgBRrg"
      }
    },
    {
      "cell_type": "code",
      "source": [
        "from sklearn.metrics import classification_report, confusion_matrix, ConfusionMatrixDisplay, accuracy_score, roc_curve, roc_auc_score"
      ],
      "metadata": {
        "id": "tPpFOVykZWOe"
      },
      "execution_count": 16,
      "outputs": []
    },
    {
      "cell_type": "markdown",
      "source": [
        "### k-Nearest Neighbours"
      ],
      "metadata": {
        "id": "RCVk2pHmTRZp"
      }
    },
    {
      "cell_type": "code",
      "source": [
        "from sklearn.neighbors import KNeighborsClassifier\n",
        "kNN_classifier = KNeighborsClassifier(n_neighbors = 7)\n",
        "kNN_classifier.fit(x_train, y_train)\n",
        "y_pred_kNN = kNN_classifier.predict(x_test)\n",
        "kNN_classifier.get_params()"
      ],
      "metadata": {
        "id": "pQfHdpExSAMR",
        "colab": {
          "base_uri": "https://localhost:8080/"
        },
        "outputId": "9b379913-321b-4dc7-a1a1-41d27f1d9290"
      },
      "execution_count": 17,
      "outputs": [
        {
          "output_type": "execute_result",
          "data": {
            "text/plain": [
              "{'algorithm': 'auto',\n",
              " 'leaf_size': 30,\n",
              " 'metric': 'minkowski',\n",
              " 'metric_params': None,\n",
              " 'n_jobs': None,\n",
              " 'n_neighbors': 7,\n",
              " 'p': 2,\n",
              " 'weights': 'uniform'}"
            ]
          },
          "metadata": {},
          "execution_count": 17
        }
      ]
    },
    {
      "cell_type": "code",
      "source": [
        "y_pred_kNN_train = kNN_classifier.predict(x_train)\n",
        "print('Accuracy of the train set: ', accuracy_score(y_train, y_pred_kNN_train))\n",
        "print('Accuracy of the test set: ', accuracy_score(y_test, y_pred_kNN))"
      ],
      "metadata": {
        "colab": {
          "base_uri": "https://localhost:8080/"
        },
        "id": "pTKYZgwLZQe1",
        "outputId": "69c96d30-7579-4a69-bab2-e16a9aa20965"
      },
      "execution_count": 18,
      "outputs": [
        {
          "output_type": "stream",
          "name": "stdout",
          "text": [
            "Accuracy of the train set:  0.9038461538461539\n",
            "Accuracy of the test set:  0.8461538461538461\n"
          ]
        }
      ]
    },
    {
      "cell_type": "code",
      "source": [
        "print(classification_report(y_test, y_pred_kNN))"
      ],
      "metadata": {
        "colab": {
          "base_uri": "https://localhost:8080/"
        },
        "id": "ZV7cR37jZ4RE",
        "outputId": "b36c6407-20e4-4bab-db28-e59c1bc158f7"
      },
      "execution_count": 19,
      "outputs": [
        {
          "output_type": "stream",
          "name": "stdout",
          "text": [
            "              precision    recall  f1-score   support\n",
            "\n",
            "           0       0.57      0.57      0.57         7\n",
            "           1       0.91      0.91      0.91        32\n",
            "\n",
            "    accuracy                           0.85        39\n",
            "   macro avg       0.74      0.74      0.74        39\n",
            "weighted avg       0.85      0.85      0.85        39\n",
            "\n"
          ]
        }
      ]
    },
    {
      "cell_type": "code",
      "source": [
        "ConfusionMatrixDisplay.from_predictions(y_test, y_pred_kNN, colorbar = False)"
      ],
      "metadata": {
        "colab": {
          "base_uri": "https://localhost:8080/",
          "height": 302
        },
        "id": "e0rGakTFZ-Lw",
        "outputId": "0595cddc-11f1-4001-897e-44d9bf0ef220"
      },
      "execution_count": 20,
      "outputs": [
        {
          "output_type": "execute_result",
          "data": {
            "text/plain": [
              "<sklearn.metrics._plot.confusion_matrix.ConfusionMatrixDisplay at 0x7efbfeae2310>"
            ]
          },
          "metadata": {},
          "execution_count": 20
        },
        {
          "output_type": "display_data",
          "data": {
            "text/plain": [
              "<Figure size 432x288 with 1 Axes>"
            ],
            "image/png": "[encoded data removed]"
          },
          "metadata": {}
        }
      ]
    },
    {
      "cell_type": "markdown",
      "source": [
        "### Naive Bayes"
      ],
      "metadata": {
        "id": "9QxPtx76a4GE"
      }
    },
    {
      "cell_type": "code",
      "source": [
        "from sklearn.naive_bayes import GaussianNB\n",
        "NB_classifier = GaussianNB()\n",
        "NB_classifier.fit(x_train, y_train)\n",
        "y_pred_NB = NB_classifier.predict(x_test)"
      ],
      "metadata": {
        "id": "_J1lFhF5ae-s"
      },
      "execution_count": 21,
      "outputs": []
    },
    {
      "cell_type": "code",
      "source": [
        "y_pred_NB_train = NB_classifier.predict(x_train)\n",
        "print('Accuracy of the train set: ', accuracy_score(y_train, y_pred_NB_train))\n",
        "print('Accuracy of the test set: ', accuracy_score(y_test, y_pred_NB))"
      ],
      "metadata": {
        "colab": {
          "base_uri": "https://localhost:8080/"
        },
        "id": "0gGgxc9_bKEg",
        "outputId": "3f79bc91-9d98-4f5c-8c22-022aa0528a33"
      },
      "execution_count": 22,
      "outputs": [
        {
          "output_type": "stream",
          "name": "stdout",
          "text": [
            "Accuracy of the train set:  0.8012820512820513\n",
            "Accuracy of the test set:  0.6666666666666666\n"
          ]
        }
      ]
    },
    {
      "cell_type": "code",
      "source": [
        "print(classification_report(y_test, y_pred_NB))"
      ],
      "metadata": {
        "colab": {
          "base_uri": "https://localhost:8080/"
        },
        "id": "VxyY9WrFbRtH",
        "outputId": "f04e3791-7be5-4dee-9dcc-d6a2f3d692b2"
      },
      "execution_count": 23,
      "outputs": [
        {
          "output_type": "stream",
          "name": "stdout",
          "text": [
            "              precision    recall  f1-score   support\n",
            "\n",
            "           0       0.25      0.43      0.32         7\n",
            "           1       0.85      0.72      0.78        32\n",
            "\n",
            "    accuracy                           0.67        39\n",
            "   macro avg       0.55      0.57      0.55        39\n",
            "weighted avg       0.74      0.67      0.70        39\n",
            "\n"
          ]
        }
      ]
    },
    {
      "cell_type": "code",
      "source": [
        "ConfusionMatrixDisplay.from_predictions(y_test, y_pred_NB, colorbar = False)"
      ],
      "metadata": {
        "colab": {
          "base_uri": "https://localhost:8080/",
          "height": 302
        },
        "id": "U01vFPXrbVG3",
        "outputId": "1efdb00e-824c-416e-b287-46c722b7035c"
      },
      "execution_count": 24,
      "outputs": [
        {
          "output_type": "execute_result",
          "data": {
            "text/plain": [
              "<sklearn.metrics._plot.confusion_matrix.ConfusionMatrixDisplay at 0x7efbfeaa8df0>"
            ]
          },
          "metadata": {},
          "execution_count": 24
        },
        {
          "output_type": "display_data",
          "data": {
            "text/plain": [
              "<Figure size 432x288 with 1 Axes>"
            ],
            "image/png": "[encoded data removed]"
          },
          "metadata": {}
        }
      ]
    },
    {
      "cell_type": "markdown",
      "source": [
        "### Support Vector Machine"
      ],
      "metadata": {
        "id": "7Rl3icw5bwKo"
      }
    },
    {
      "cell_type": "code",
      "source": [
        "from sklearn.svm import SVC\n",
        "SVM_classifier = SVC(cache_size=100)\n",
        "SVM_classifier.fit(x_train, y_train)\n",
        "y_pred_SVM = SVM_classifier.predict(x_test)\n",
        "SVM_classifier.get_params()"
      ],
      "metadata": {
        "id": "7i0wOAZWbY8X",
        "colab": {
          "base_uri": "https://localhost:8080/"
        },
        "outputId": "14aad2c8-a69a-445f-bfbf-cceae188341d"
      },
      "execution_count": 25,
      "outputs": [
        {
          "output_type": "execute_result",
          "data": {
            "text/plain": [
              "{'C': 1.0,\n",
              " 'break_ties': False,\n",
              " 'cache_size': 100,\n",
              " 'class_weight': None,\n",
              " 'coef0': 0.0,\n",
              " 'decision_function_shape': 'ovr',\n",
              " 'degree': 3,\n",
              " 'gamma': 'scale',\n",
              " 'kernel': 'rbf',\n",
              " 'max_iter': -1,\n",
              " 'probability': False,\n",
              " 'random_state': None,\n",
              " 'shrinking': True,\n",
              " 'tol': 0.001,\n",
              " 'verbose': False}"
            ]
          },
          "metadata": {},
          "execution_count": 25
        }
      ]
    },
    {
      "cell_type": "code",
      "source": [
        "y_pred_SVM_train = SVM_classifier.predict(x_train)\n",
        "print('Accuracy of the train set: ', accuracy_score(y_train, y_pred_SVM_train))\n",
        "print('Accuracy of the test set: ', accuracy_score(y_test, y_pred_SVM))"
      ],
      "metadata": {
        "colab": {
          "base_uri": "https://localhost:8080/"
        },
        "id": "lzi2rNMIcDJT",
        "outputId": "2280d763-7f56-465a-a44c-c3dbf4d7a3cc"
      },
      "execution_count": 26,
      "outputs": [
        {
          "output_type": "stream",
          "name": "stdout",
          "text": [
            "Accuracy of the train set:  0.8076923076923077\n",
            "Accuracy of the test set:  0.8461538461538461\n"
          ]
        }
      ]
    },
    {
      "cell_type": "code",
      "source": [
        "print(classification_report(y_test, y_pred_SVM))"
      ],
      "metadata": {
        "colab": {
          "base_uri": "https://localhost:8080/"
        },
        "id": "Nxk-OW7EcDFy",
        "outputId": "2b777ef0-9e25-48b0-9f9f-9b00c426f553"
      },
      "execution_count": 27,
      "outputs": [
        {
          "output_type": "stream",
          "name": "stdout",
          "text": [
            "              precision    recall  f1-score   support\n",
            "\n",
            "           0       0.67      0.29      0.40         7\n",
            "           1       0.86      0.97      0.91        32\n",
            "\n",
            "    accuracy                           0.85        39\n",
            "   macro avg       0.76      0.63      0.66        39\n",
            "weighted avg       0.83      0.85      0.82        39\n",
            "\n"
          ]
        }
      ]
    },
    {
      "cell_type": "code",
      "source": [
        "ConfusionMatrixDisplay.from_predictions(y_test, y_pred_SVM, colorbar = False)"
      ],
      "metadata": {
        "colab": {
          "base_uri": "https://localhost:8080/",
          "height": 302
        },
        "id": "_UrtrYyHcgHS",
        "outputId": "808caf63-4e27-4b8f-b068-63a7becd64e5"
      },
      "execution_count": 28,
      "outputs": [
        {
          "output_type": "execute_result",
          "data": {
            "text/plain": [
              "<sklearn.metrics._plot.confusion_matrix.ConfusionMatrixDisplay at 0x7efc17ed9d90>"
            ]
          },
          "metadata": {},
          "execution_count": 28
        },
        {
          "output_type": "display_data",
          "data": {
            "text/plain": [
              "<Figure size 432x288 with 1 Axes>"
            ],
            "image/png": "[encoded data removed]"
          },
          "metadata": {}
        }
      ]
    },
    {
      "cell_type": "markdown",
      "source": [
        "### Logistic Regression"
      ],
      "metadata": {
        "id": "FA46mrF0dIBn"
      }
    },
    {
      "cell_type": "code",
      "source": [
        "from sklearn.linear_model import LogisticRegression\n",
        "LR_classifier = LogisticRegression(C = 0.01)\n",
        "LR_classifier.fit(x_train, y_train)\n",
        "y_pred_LR = LR_classifier.predict(x_test)\n",
        "LR_classifier.get_params()"
      ],
      "metadata": {
        "id": "beNwIotmcqdC",
        "colab": {
          "base_uri": "https://localhost:8080/"
        },
        "outputId": "f9436480-2c43-4f4d-9b52-6c48577ce414"
      },
      "execution_count": 29,
      "outputs": [
        {
          "output_type": "execute_result",
          "data": {
            "text/plain": [
              "{'C': 0.01,\n",
              " 'class_weight': None,\n",
              " 'dual': False,\n",
              " 'fit_intercept': True,\n",
              " 'intercept_scaling': 1,\n",
              " 'l1_ratio': None,\n",
              " 'max_iter': 100,\n",
              " 'multi_class': 'auto',\n",
              " 'n_jobs': None,\n",
              " 'penalty': 'l2',\n",
              " 'random_state': None,\n",
              " 'solver': 'lbfgs',\n",
              " 'tol': 0.0001,\n",
              " 'verbose': 0,\n",
              " 'warm_start': False}"
            ]
          },
          "metadata": {},
          "execution_count": 29
        }
      ]
    },
    {
      "cell_type": "code",
      "source": [
        "y_pred_LR_train = LR_classifier.predict(x_train)\n",
        "print('Accuracy of the train set: ', accuracy_score(y_train, y_pred_LR_train))\n",
        "print('Accuracy of the test set: ', accuracy_score(y_test, y_pred_LR))"
      ],
      "metadata": {
        "colab": {
          "base_uri": "https://localhost:8080/"
        },
        "id": "FEtAdtlZdq_2",
        "outputId": "795ef65f-53e1-4bca-8c7e-c5158d9a728c"
      },
      "execution_count": 30,
      "outputs": [
        {
          "output_type": "stream",
          "name": "stdout",
          "text": [
            "Accuracy of the train set:  0.8333333333333334\n",
            "Accuracy of the test set:  0.8461538461538461\n"
          ]
        }
      ]
    },
    {
      "cell_type": "code",
      "source": [
        "print(classification_report(y_test, y_pred_LR))"
      ],
      "metadata": {
        "colab": {
          "base_uri": "https://localhost:8080/"
        },
        "id": "kcGdUI3bdq8V",
        "outputId": "73d9fb39-c7a9-45a6-a677-28ea2891767d"
      },
      "execution_count": 31,
      "outputs": [
        {
          "output_type": "stream",
          "name": "stdout",
          "text": [
            "              precision    recall  f1-score   support\n",
            "\n",
            "           0       0.60      0.43      0.50         7\n",
            "           1       0.88      0.94      0.91        32\n",
            "\n",
            "    accuracy                           0.85        39\n",
            "   macro avg       0.74      0.68      0.70        39\n",
            "weighted avg       0.83      0.85      0.84        39\n",
            "\n"
          ]
        }
      ]
    },
    {
      "cell_type": "code",
      "source": [
        "ConfusionMatrixDisplay.from_predictions(y_test, y_pred_LR, colorbar = False)"
      ],
      "metadata": {
        "colab": {
          "base_uri": "https://localhost:8080/",
          "height": 302
        },
        "id": "VMJquwLrdq4N",
        "outputId": "7eb53dbf-88e7-49a0-cef6-1346756f5ff4"
      },
      "execution_count": 32,
      "outputs": [
        {
          "output_type": "execute_result",
          "data": {
            "text/plain": [
              "<sklearn.metrics._plot.confusion_matrix.ConfusionMatrixDisplay at 0x7efbfe9d0970>"
            ]
          },
          "metadata": {},
          "execution_count": 32
        },
        {
          "output_type": "display_data",
          "data": {
            "text/plain": [
              "<Figure size 432x288 with 1 Axes>"
            ],
            "image/png": "[encoded data removed]"
          },
          "metadata": {}
        }
      ]
    },
    {
      "cell_type": "markdown",
      "source": [
        "### Decision Tree "
      ],
      "metadata": {
        "id": "9MnHCc3SeU11"
      }
    },
    {
      "cell_type": "code",
      "source": [
        "from sklearn.tree import DecisionTreeClassifier\n",
        "DT_classifier = DecisionTreeClassifier(random_state = 42, max_depth = 3) \n",
        "DT_classifier.fit(x_train, y_train)\n",
        "y_pred_DT = DT_classifier.predict(x_test)\n",
        "DT_classifier.get_params()"
      ],
      "metadata": {
        "colab": {
          "base_uri": "https://localhost:8080/"
        },
        "id": "IG2FpKJCdq01",
        "outputId": "b06d7897-520f-4277-ae26-5a251c7bc373"
      },
      "execution_count": 33,
      "outputs": [
        {
          "output_type": "execute_result",
          "data": {
            "text/plain": [
              "{'ccp_alpha': 0.0,\n",
              " 'class_weight': None,\n",
              " 'criterion': 'gini',\n",
              " 'max_depth': 3,\n",
              " 'max_features': None,\n",
              " 'max_leaf_nodes': None,\n",
              " 'min_impurity_decrease': 0.0,\n",
              " 'min_samples_leaf': 1,\n",
              " 'min_samples_split': 2,\n",
              " 'min_weight_fraction_leaf': 0.0,\n",
              " 'random_state': 42,\n",
              " 'splitter': 'best'}"
            ]
          },
          "metadata": {},
          "execution_count": 33
        }
      ]
    },
    {
      "cell_type": "code",
      "source": [
        "y_pred_DT_train = DT_classifier.predict(x_train)\n",
        "print('Accuracy of the train set: ', accuracy_score(y_train, y_pred_DT_train))\n",
        "print('Accuracy of the test set: ', accuracy_score(y_test, y_pred_DT))"
      ],
      "metadata": {
        "colab": {
          "base_uri": "https://localhost:8080/"
        },
        "id": "tPQspH32epgp",
        "outputId": "392ef141-3360-4a1f-dcf4-4cb033a33621"
      },
      "execution_count": 34,
      "outputs": [
        {
          "output_type": "stream",
          "name": "stdout",
          "text": [
            "Accuracy of the train set:  0.8653846153846154\n",
            "Accuracy of the test set:  0.7948717948717948\n"
          ]
        }
      ]
    },
    {
      "cell_type": "markdown",
      "source": [
        "There is overfitting, as evident between the huge difference between the accuracy of the training and testing datasets. The overfitting has been prevented to an extent using the hyperparameters max_depth. For further pruning of Decision Trees, one can use GridSearchCV."
      ],
      "metadata": {
        "id": "jp6roYA9gzb5"
      }
    },
    {
      "cell_type": "code",
      "source": [
        "print(classification_report(y_test, y_pred_DT))\n",
        "ConfusionMatrixDisplay.from_predictions(y_test, y_pred_DT, colorbar=False)"
      ],
      "metadata": {
        "colab": {
          "base_uri": "https://localhost:8080/",
          "height": 459
        },
        "id": "XHCJKekZAT4g",
        "outputId": "8636ae45-b838-419a-d6d2-e6c7171197a9"
      },
      "execution_count": 35,
      "outputs": [
        {
          "output_type": "stream",
          "name": "stdout",
          "text": [
            "              precision    recall  f1-score   support\n",
            "\n",
            "           0       0.43      0.43      0.43         7\n",
            "           1       0.88      0.88      0.88        32\n",
            "\n",
            "    accuracy                           0.79        39\n",
            "   macro avg       0.65      0.65      0.65        39\n",
            "weighted avg       0.79      0.79      0.79        39\n",
            "\n"
          ]
        },
        {
          "output_type": "execute_result",
          "data": {
            "text/plain": [
              "<sklearn.metrics._plot.confusion_matrix.ConfusionMatrixDisplay at 0x7efbfe9a2eb0>"
            ]
          },
          "metadata": {},
          "execution_count": 35
        },
        {
          "output_type": "display_data",
          "data": {
            "text/plain": [
              "<Figure size 432x288 with 1 Axes>"
            ],
            "image/png": "[encoded data removed]"
          },
          "metadata": {}
        }
      ]
    },
    {
      "cell_type": "markdown",
      "source": [
        "### Random Forests"
      ],
      "metadata": {
        "id": "vCiXguKSlIBa"
      }
    },
    {
      "cell_type": "code",
      "source": [
        "from sklearn.ensemble import RandomForestClassifier\n",
        "RF_classifier = RandomForestClassifier(random_state=42, max_depth = 2)\n",
        "RF_classifier.fit(x_train, y_train)\n",
        "y_pred_RF = RF_classifier.predict(x_test)\n",
        "RF_classifier.get_params()"
      ],
      "metadata": {
        "colab": {
          "base_uri": "https://localhost:8080/"
        },
        "id": "v6l6fU3pkq5Q",
        "outputId": "a72b0607-d4aa-446d-dfbd-a6ce44535615"
      },
      "execution_count": 36,
      "outputs": [
        {
          "output_type": "execute_result",
          "data": {
            "text/plain": [
              "{'bootstrap': True,\n",
              " 'ccp_alpha': 0.0,\n",
              " 'class_weight': None,\n",
              " 'criterion': 'gini',\n",
              " 'max_depth': 2,\n",
              " 'max_features': 'auto',\n",
              " 'max_leaf_nodes': None,\n",
              " 'max_samples': None,\n",
              " 'min_impurity_decrease': 0.0,\n",
              " 'min_samples_leaf': 1,\n",
              " 'min_samples_split': 2,\n",
              " 'min_weight_fraction_leaf': 0.0,\n",
              " 'n_estimators': 100,\n",
              " 'n_jobs': None,\n",
              " 'oob_score': False,\n",
              " 'random_state': 42,\n",
              " 'verbose': 0,\n",
              " 'warm_start': False}"
            ]
          },
          "metadata": {},
          "execution_count": 36
        }
      ]
    },
    {
      "cell_type": "code",
      "source": [
        "y_pred_RF_train = RF_classifier.predict(x_train)\n",
        "print('Accuracy of the train set: ', accuracy_score(y_train, y_pred_RF_train))\n",
        "print('Accuracy of the test set: ', accuracy_score(y_test, y_pred_RF))"
      ],
      "metadata": {
        "colab": {
          "base_uri": "https://localhost:8080/"
        },
        "id": "hK1Fdh7BuLqS",
        "outputId": "f0f393c0-7795-434f-e5d7-89db3d08a907"
      },
      "execution_count": 37,
      "outputs": [
        {
          "output_type": "stream",
          "name": "stdout",
          "text": [
            "Accuracy of the train set:  0.8589743589743589\n",
            "Accuracy of the test set:  0.7948717948717948\n"
          ]
        }
      ]
    },
    {
      "cell_type": "markdown",
      "source": [
        "The overfitting here has been prevented to an extent using the Hyperparameter max_depth."
      ],
      "metadata": {
        "id": "1Qc8NlWu7Ceu"
      }
    },
    {
      "cell_type": "code",
      "source": [
        "print(classification_report(y_test, y_pred_RF))\n",
        "ConfusionMatrixDisplay.from_predictions(y_test, y_pred_RF, colorbar=False)"
      ],
      "metadata": {
        "colab": {
          "base_uri": "https://localhost:8080/",
          "height": 459
        },
        "id": "1DWQRhBPAaPj",
        "outputId": "28717af3-0aa9-46f6-de5a-a341e3721410"
      },
      "execution_count": 38,
      "outputs": [
        {
          "output_type": "stream",
          "name": "stdout",
          "text": [
            "              precision    recall  f1-score   support\n",
            "\n",
            "           0       0.43      0.43      0.43         7\n",
            "           1       0.88      0.88      0.88        32\n",
            "\n",
            "    accuracy                           0.79        39\n",
            "   macro avg       0.65      0.65      0.65        39\n",
            "weighted avg       0.79      0.79      0.79        39\n",
            "\n"
          ]
        },
        {
          "output_type": "execute_result",
          "data": {
            "text/plain": [
              "<sklearn.metrics._plot.confusion_matrix.ConfusionMatrixDisplay at 0x7efc031b9130>"
            ]
          },
          "metadata": {},
          "execution_count": 38
        },
        {
          "output_type": "display_data",
          "data": {
            "text/plain": [
              "<Figure size 432x288 with 1 Axes>"
            ],
            "image/png": "[encoded data removed]"
          },
          "metadata": {}
        }
      ]
    },
    {
      "cell_type": "markdown",
      "source": [
        "### Accuracy"
      ],
      "metadata": {
        "id": "VNqpQ7E00ZLs"
      }
    },
    {
      "cell_type": "code",
      "source": [
        "accuracy_df = pd.DataFrame()\n",
        "accuracy_df['Classifier'] = ['Decision Tree', 'kNN', 'Naive Bayes', 'SVC', 'Logistic Regression', 'Random Forest']\n",
        "accuracy_df['Accuracy'] = [accuracy_score(y_test, y_pred_DT), accuracy_score(y_test, y_pred_kNN), accuracy_score(y_test, y_pred_NB), \n",
        "                           accuracy_score(y_test, y_pred_SVM), accuracy_score(y_test, y_pred_LR), accuracy_score(y_test, y_pred_RF)]\n",
        "\n",
        "sns.barplot(y = 'Accuracy', x = 'Classifier', data = accuracy_df, order = accuracy_df.sort_values('Accuracy', ascending = False).Classifier)\n",
        "plt.title('Accuracy of the Classifiers')\n",
        "plt.xticks(rotation=90)\n",
        "plt.show()"
      ],
      "metadata": {
        "colab": {
          "base_uri": "https://localhost:8080/",
          "height": 397
        },
        "id": "QjcB0Xd70clw",
        "outputId": "5fbc3aa9-f1d5-4cc7-ba1b-b0af7892304d"
      },
      "execution_count": 39,
      "outputs": [
        {
          "output_type": "display_data",
          "data": {
            "text/plain": [
              "<Figure size 432x288 with 1 Axes>"
            ],
            "image/png": "[encoded data removed]"
          },
          "metadata": {}
        }
      ]
    },
    {
      "cell_type": "markdown",
      "source": [
        "We see that kNN, SVC and Logistic Regression performs the best amongst the algorithms that we have implemented on the dataset with imbalanced target class."
      ],
      "metadata": {
        "id": "CYUkjmZ_1SYn"
      }
    },
    {
      "cell_type": "markdown",
      "source": [
        "### ROC Curve"
      ],
      "metadata": {
        "id": "YmRJTtOx1rK9"
      }
    },
    {
      "cell_type": "code",
      "source": [
        "plt.plot([0,1], [0,1], ':')\n",
        "fpr1, tpr1, thresholds = roc_curve(y_test, y_pred_kNN)\n",
        "plt.plot(fpr1, tpr1, '--', label='kNN')\n",
        "fpr2, tpr2, thresholds = roc_curve(y_test, y_pred_NB)\n",
        "plt.plot(fpr2, tpr2, '--', label='Naive Bayes')\n",
        "fpr3, tpr3, thresholds = roc_curve(y_test, y_pred_SVM)\n",
        "plt.plot(fpr3, tpr3, '--', label='SVM Classifier')\n",
        "fpr4, tpr4, thresholds = roc_curve(y_test, y_pred_LR)\n",
        "plt.plot(fpr4, tpr4, '--', label='Logistic Regression')\n",
        "fpr5, tpr5, thresholds = roc_curve(y_test, y_pred_DT)\n",
        "plt.plot(fpr5, tpr5, '--', label='Decision Tree Classifier')\n",
        "fpr6, tpr6, thresholds = roc_curve(y_test, y_pred_RF)\n",
        "plt.plot(fpr6, tpr6, '--', label='Random Forest Classifier')\n",
        "plt.xlabel('False Positive Rate')\n",
        "plt.ylabel('True Positive Rate')\n",
        "plt.title('ROC Curve')\n",
        "plt.legend(bbox_to_anchor = (1.0, 0.5), loc = 'center left')\n",
        "plt.show()"
      ],
      "metadata": {
        "colab": {
          "base_uri": "https://localhost:8080/",
          "height": 301
        },
        "id": "vEojChLi1zd3",
        "outputId": "58e3bbcd-3e0a-4f9c-9db1-e4c8072e95e6"
      },
      "execution_count": 40,
      "outputs": [
        {
          "output_type": "display_data",
          "data": {
            "text/plain": [
              "<Figure size 432x288 with 1 Axes>"
            ],
            "image/png": "[encoded data removed]"
          },
          "metadata": {}
        }
      ]
    },
    {
      "cell_type": "markdown",
      "source": [
        "k-Neighbors Classifier has a better ROC Curve compared to the rest of the algorithms we have implemented. Therefore, considering the accuracy and the ROC Curve, kNN Classifier is the best option, since we have to take into account the False positives when dealing with healthcare."
      ],
      "metadata": {
        "id": "au-1lKmC5ZBx"
      }
    },
    {
      "cell_type": "markdown",
      "source": [
        "## Balancing the Target Class - Oversampling Technique"
      ],
      "metadata": {
        "id": "BQBovutj7wJd"
      }
    },
    {
      "cell_type": "markdown",
      "source": [
        "### Data Oversampling"
      ],
      "metadata": {
        "id": "5Ok6ezPf8zvp"
      }
    },
    {
      "cell_type": "code",
      "source": [
        "from imblearn.over_sampling import ADASYN\n",
        "from collections import Counter\n",
        "oversample = ADASYN()\n",
        "X_data,Y_data = oversample.fit_resample(x_data, y_data)\n",
        "Counter(Y_data)"
      ],
      "metadata": {
        "colab": {
          "base_uri": "https://localhost:8080/"
        },
        "id": "AMnQNGz65VtD",
        "outputId": "307ee33b-f99b-4541-9034-185597e33693"
      },
      "execution_count": 41,
      "outputs": [
        {
          "output_type": "execute_result",
          "data": {
            "text/plain": [
              "Counter({1: 147, 0: 146})"
            ]
          },
          "metadata": {},
          "execution_count": 41
        }
      ]
    },
    {
      "cell_type": "code",
      "source": [
        "Data = pd.DataFrame(X_data, columns = x_data.columns)\n",
        "Data.head()"
      ],
      "metadata": {
        "colab": {
          "base_uri": "https://localhost:8080/",
          "height": 299
        },
        "id": "TIwruOXL64pi",
        "outputId": "40f354ab-face-4fb3-b2df-7a3a18a852cb"
      },
      "execution_count": 42,
      "outputs": [
        {
          "output_type": "execute_result",
          "data": {
            "text/plain": [
              "   MDVP:Fo(Hz)  MDVP:Fhi(Hz)  MDVP:Flo(Hz)  MDVP:Jitter(%)  MDVP:Jitter(Abs)  \\\n",
              "0      119.992       157.302        74.997         0.00784           0.00007   \n",
              "1      122.400       148.650       113.819         0.00968           0.00008   \n",
              "2      116.682       131.111       111.555         0.01050           0.00009   \n",
              "3      116.676       137.871       111.366         0.00997           0.00009   \n",
              "4      116.014       141.781       110.655         0.01284           0.00011   \n",
              "\n",
              "   MDVP:RAP  MDVP:PPQ  Jitter:DDP  MDVP:Shimmer  MDVP:Shimmer(dB)  ...  \\\n",
              "0   0.00370   0.00554     0.01109       0.04374             0.426  ...   \n",
              "1   0.00465   0.00696     0.01394       0.06134             0.626  ...   \n",
              "2   0.00544   0.00781     0.01633       0.05233             0.482  ...   \n",
              "3   0.00502   0.00698     0.01505       0.05492             0.517  ...   \n",
              "4   0.00655   0.00908     0.01966       0.06425             0.584  ...   \n",
              "\n",
              "   MDVP:APQ  Shimmer:DDA      NHR     HNR      RPDE       DFA   spread1  \\\n",
              "0   0.02971      0.06545  0.02211  21.033  0.414783  0.815285 -4.813031   \n",
              "1   0.04368      0.09403  0.01929  19.085  0.458359  0.819521 -4.075192   \n",
              "2   0.03590      0.08270  0.01309  20.651  0.429895  0.825288 -4.443179   \n",
              "3   0.03772      0.08771  0.01353  20.644  0.434969  0.819235 -4.117501   \n",
              "4   0.04465      0.10470  0.01767  19.649  0.417356  0.823484 -3.747787   \n",
              "\n",
              "    spread2        D2       PPE  \n",
              "0  0.266482  2.301442  0.284654  \n",
              "1  0.335590  2.486855  0.368674  \n",
              "2  0.311173  2.342259  0.332634  \n",
              "3  0.334147  2.405554  0.368975  \n",
              "4  0.234513  2.332180  0.410335  \n",
              "\n",
              "[5 rows x 22 columns]"
            ],
            "text/html": [
              "\n",
              "  <div id=\"df-82ab9218-9c50-4294-bc1b-0984d502b6fd\">\n",
              "    <div class=\"colab-df-container\">\n",
              "      <div>\n",
              "<style scoped>\n",
              "    .dataframe tbody tr th:only-of-type {\n",
              "        vertical-align: middle;\n",
              "    }\n",
              "\n",
              "    .dataframe tbody tr th {\n",
              "        vertical-align: top;\n",
              "    }\n",
              "\n",
              "    .dataframe thead th {\n",
              "        text-align: right;\n",
              "    }\n",
              "</style>\n",
              "<table border=\"1\" class=\"dataframe\">\n",
              "  <thead>\n",
              "    <tr style=\"text-align: right;\">\n",
              "      <th></th>\n",
              "      <th>MDVP:Fo(Hz)</th>\n",
              "      <th>MDVP:Fhi(Hz)</th>\n",
              "      <th>MDVP:Flo(Hz)</th>\n",
              "      <th>MDVP:Jitter(%)</th>\n",
              "      <th>MDVP:Jitter(Abs)</th>\n",
              "      <th>MDVP:RAP</th>\n",
              "      <th>MDVP:PPQ</th>\n",
              "      <th>Jitter:DDP</th>\n",
              "      <th>MDVP:Shimmer</th>\n",
              "      <th>MDVP:Shimmer(dB)</th>\n",
              "      <th>...</th>\n",
              "      <th>MDVP:APQ</th>\n",
              "      <th>Shimmer:DDA</th>\n",
              "      <th>NHR</th>\n",
              "      <th>HNR</th>\n",
              "      <th>RPDE</th>\n",
              "      <th>DFA</th>\n",
              "      <th>spread1</th>\n",
              "      <th>spread2</th>\n",
              "      <th>D2</th>\n",
              "      <th>PPE</th>\n",
              "    </tr>\n",
              "  </thead>\n",
              "  <tbody>\n",
              "    <tr>\n",
              "      <th>0</th>\n",
              "      <td>119.992</td>\n",
              "      <td>157.302</td>\n",
              "      <td>74.997</td>\n",
              "      <td>0.00784</td>\n",
              "      <td>0.00007</td>\n",
              "      <td>0.00370</td>\n",
              "      <td>0.00554</td>\n",
              "      <td>0.01109</td>\n",
              "      <td>0.04374</td>\n",
              "      <td>0.426</td>\n",
              "      <td>...</td>\n",
              "      <td>0.02971</td>\n",
              "      <td>0.06545</td>\n",
              "      <td>0.02211</td>\n",
              "      <td>21.033</td>\n",
              "      <td>0.414783</td>\n",
              "      <td>0.815285</td>\n",
              "      <td>-4.813031</td>\n",
              "      <td>0.266482</td>\n",
              "      <td>2.301442</td>\n",
              "      <td>0.284654</td>\n",
              "    </tr>\n",
              "    <tr>\n",
              "      <th>1</th>\n",
              "      <td>122.400</td>\n",
              "      <td>148.650</td>\n",
              "      <td>113.819</td>\n",
              "      <td>0.00968</td>\n",
              "      <td>0.00008</td>\n",
              "      <td>0.00465</td>\n",
              "      <td>0.00696</td>\n",
              "      <td>0.01394</td>\n",
              "      <td>0.06134</td>\n",
              "      <td>0.626</td>\n",
              "      <td>...</td>\n",
              "      <td>0.04368</td>\n",
              "      <td>0.09403</td>\n",
              "      <td>0.01929</td>\n",
              "      <td>19.085</td>\n",
              "      <td>0.458359</td>\n",
              "      <td>0.819521</td>\n",
              "      <td>-4.075192</td>\n",
              "      <td>0.335590</td>\n",
              "      <td>2.486855</td>\n",
              "      <td>0.368674</td>\n",
              "    </tr>\n",
              "    <tr>\n",
              "      <th>2</th>\n",
              "      <td>116.682</td>\n",
              "      <td>131.111</td>\n",
              "      <td>111.555</td>\n",
              "      <td>0.01050</td>\n",
              "      <td>0.00009</td>\n",
              "      <td>0.00544</td>\n",
              "      <td>0.00781</td>\n",
              "      <td>0.01633</td>\n",
              "      <td>0.05233</td>\n",
              "      <td>0.482</td>\n",
              "      <td>...</td>\n",
              "      <td>0.03590</td>\n",
              "      <td>0.08270</td>\n",
              "      <td>0.01309</td>\n",
              "      <td>20.651</td>\n",
              "      <td>0.429895</td>\n",
              "      <td>0.825288</td>\n",
              "      <td>-4.443179</td>\n",
              "      <td>0.311173</td>\n",
              "      <td>2.342259</td>\n",
              "      <td>0.332634</td>\n",
              "    </tr>\n",
              "    <tr>\n",
              "      <th>3</th>\n",
              "      <td>116.676</td>\n",
              "      <td>137.871</td>\n",
              "      <td>111.366</td>\n",
              "      <td>0.00997</td>\n",
              "      <td>0.00009</td>\n",
              "      <td>0.00502</td>\n",
              "      <td>0.00698</td>\n",
              "      <td>0.01505</td>\n",
              "      <td>0.05492</td>\n",
              "      <td>0.517</td>\n",
              "      <td>...</td>\n",
              "      <td>0.03772</td>\n",
              "      <td>0.08771</td>\n",
              "      <td>0.01353</td>\n",
              "      <td>20.644</td>\n",
              "      <td>0.434969</td>\n",
              "      <td>0.819235</td>\n",
              "      <td>-4.117501</td>\n",
              "      <td>0.334147</td>\n",
              "      <td>2.405554</td>\n",
              "      <td>0.368975</td>\n",
              "    </tr>\n",
              "    <tr>\n",
              "      <th>4</th>\n",
              "      <td>116.014</td>\n",
              "      <td>141.781</td>\n",
              "      <td>110.655</td>\n",
              "      <td>0.01284</td>\n",
              "      <td>0.00011</td>\n",
              "      <td>0.00655</td>\n",
              "      <td>0.00908</td>\n",
              "      <td>0.01966</td>\n",
              "      <td>0.06425</td>\n",
              "      <td>0.584</td>\n",
              "      <td>...</td>\n",
              "      <td>0.04465</td>\n",
              "      <td>0.10470</td>\n",
              "      <td>0.01767</td>\n",
              "      <td>19.649</td>\n",
              "      <td>0.417356</td>\n",
              "      <td>0.823484</td>\n",
              "      <td>-3.747787</td>\n",
              "      <td>0.234513</td>\n",
              "      <td>2.332180</td>\n",
              "      <td>0.410335</td>\n",
              "    </tr>\n",
              "  </tbody>\n",
              "</table>\n",
              "<p>5 rows × 22 columns</p>\n",
              "</div>\n",
              "      <button class=\"colab-df-convert\" onclick=\"convertToInteractive('df-82ab9218-9c50-4294-bc1b-0984d502b6fd')\"\n",
              "              title=\"Convert this dataframe to an interactive table.\"\n",
              "              style=\"display:none;\">\n",
              "        \n",
              "  <svg xmlns=\"http://www.w3.org/2000/svg\" height=\"24px\"viewBox=\"0 0 24 24\"\n",
              "       width=\"24px\">\n",
              "    <path d=\"M0 0h24v24H0V0z\" fill=\"none\"/>\n",
              "    <path d=\"M18.56 5.44l.94 2.06.94-2.06 2.06-.94-2.06-.94-.94-2.06-.94 2.06-2.06.94zm-11 1L8.5 8.5l.94-2.06 2.06-.94-2.06-.94L8.5 2.5l-.94 2.06-2.06.94zm10 10l.94 2.06.94-2.06 2.06-.94-2.06-.94-.94-2.06-.94 2.06-2.06.94z\"/><path d=\"M17.41 7.96l-1.37-1.37c-.4-.4-.92-.59-1.43-.59-.52 0-1.04.2-1.43.59L10.3 9.45l-7.72 7.72c-.78.78-.78 2.05 0 2.83L4 21.41c.39.39.9.59 1.41.59.51 0 1.02-.2 1.41-.59l7.78-7.78 2.81-2.81c.8-.78.8-2.07 0-2.86zM5.41 20L4 18.59l7.72-7.72 1.47 1.35L5.41 20z\"/>\n",
              "  </svg>\n",
              "      </button>\n",
              "      \n",
              "  <style>\n",
              "    .colab-df-container {\n",
              "      display:flex;\n",
              "      flex-wrap:wrap;\n",
              "      gap: 12px;\n",
              "    }\n",
              "\n",
              "    .colab-df-convert {\n",
              "      background-color: #E8F0FE;\n",
              "      border: none;\n",
              "      border-radius: 50%;\n",
              "      cursor: pointer;\n",
              "      display: none;\n",
              "      fill: #1967D2;\n",
              "      height: 32px;\n",
              "      padding: 0 0 0 0;\n",
              "      width: 32px;\n",
              "    }\n",
              "\n",
              "    .colab-df-convert:hover {\n",
              "      background-color: #E2EBFA;\n",
              "      box-shadow: 0px 1px 2px rgba(60, 64, 67, 0.3), 0px 1px 3px 1px rgba(60, 64, 67, 0.15);\n",
              "      fill: #174EA6;\n",
              "    }\n",
              "\n",
              "    [theme=dark] .colab-df-convert {\n",
              "      background-color: #3B4455;\n",
              "      fill: #D2E3FC;\n",
              "    }\n",
              "\n",
              "    [theme=dark] .colab-df-convert:hover {\n",
              "      background-color: #434B5C;\n",
              "      box-shadow: 0px 1px 3px 1px rgba(0, 0, 0, 0.15);\n",
              "      filter: drop-shadow(0px 1px 2px rgba(0, 0, 0, 0.3));\n",
              "      fill: #FFFFFF;\n",
              "    }\n",
              "  </style>\n",
              "\n",
              "      <script>\n",
              "        const buttonEl =\n",
              "          document.querySelector('#df-82ab9218-9c50-4294-bc1b-0984d502b6fd button.colab-df-convert');\n",
              "        buttonEl.style.display =\n",
              "          google.colab.kernel.accessAllowed ? 'block' : 'none';\n",
              "\n",
              "        async function convertToInteractive(key) {\n",
              "          const element = document.querySelector('#df-82ab9218-9c50-4294-bc1b-0984d502b6fd');\n",
              "          const dataTable =\n",
              "            await google.colab.kernel.invokeFunction('convertToInteractive',\n",
              "                                                     [key], {});\n",
              "          if (!dataTable) return;\n",
              "\n",
              "          const docLinkHtml = 'Like what you see? Visit the ' +\n",
              "            '<a target=\"_blank\" href=https://colab.research.google.com/notebooks/data_table.ipynb>data table notebook</a>'\n",
              "            + ' to learn more about interactive tables.';\n",
              "          element.innerHTML = '';\n",
              "          dataTable['output_type'] = 'display_data';\n",
              "          await google.colab.output.renderOutput(dataTable, element);\n",
              "          const docLink = document.createElement('div');\n",
              "          docLink.innerHTML = docLinkHtml;\n",
              "          element.appendChild(docLink);\n",
              "        }\n",
              "      </script>\n",
              "    </div>\n",
              "  </div>\n",
              "  "
            ]
          },
          "metadata": {},
          "execution_count": 42
        }
      ]
    },
    {
      "cell_type": "code",
      "source": [
        "Data.info()"
      ],
      "metadata": {
        "colab": {
          "base_uri": "https://localhost:8080/"
        },
        "id": "RyfhGkV88F4E",
        "outputId": "04f7711e-e4c3-4265-8fa7-fb40e077759f"
      },
      "execution_count": 43,
      "outputs": [
        {
          "output_type": "stream",
          "name": "stdout",
          "text": [
            "<class 'pandas.core.frame.DataFrame'>\n",
            "RangeIndex: 293 entries, 0 to 292\n",
            "Data columns (total 22 columns):\n",
            " #   Column            Non-Null Count  Dtype  \n",
            "---  ------            --------------  -----  \n",
            " 0   MDVP:Fo(Hz)       293 non-null    float64\n",
            " 1   MDVP:Fhi(Hz)      293 non-null    float64\n",
            " 2   MDVP:Flo(Hz)      293 non-null    float64\n",
            " 3   MDVP:Jitter(%)    293 non-null    float64\n",
            " 4   MDVP:Jitter(Abs)  293 non-null    float64\n",
            " 5   MDVP:RAP          293 non-null    float64\n",
            " 6   MDVP:PPQ          293 non-null    float64\n",
            " 7   Jitter:DDP        293 non-null    float64\n",
            " 8   MDVP:Shimmer      293 non-null    float64\n",
            " 9   MDVP:Shimmer(dB)  293 non-null    float64\n",
            " 10  Shimmer:APQ3      293 non-null    float64\n",
            " 11  Shimmer:APQ5      293 non-null    float64\n",
            " 12  MDVP:APQ          293 non-null    float64\n",
            " 13  Shimmer:DDA       293 non-null    float64\n",
            " 14  NHR               293 non-null    float64\n",
            " 15  HNR               293 non-null    float64\n",
            " 16  RPDE              293 non-null    float64\n",
            " 17  DFA               293 non-null    float64\n",
            " 18  spread1           293 non-null    float64\n",
            " 19  spread2           293 non-null    float64\n",
            " 20  D2                293 non-null    float64\n",
            " 21  PPE               293 non-null    float64\n",
            "dtypes: float64(22)\n",
            "memory usage: 50.5 KB\n"
          ]
        }
      ]
    },
    {
      "cell_type": "markdown",
      "source": [
        "### Standardization"
      ],
      "metadata": {
        "id": "oXg6H1RW-nhe"
      }
    },
    {
      "cell_type": "code",
      "source": [
        "scaler_balanced = StandardScaler()\n",
        "scaler_balanced.fit(X_data)\n",
        "X_scaled = scaler_balanced.transform(X_data)"
      ],
      "metadata": {
        "id": "0br9xMbp-iJQ"
      },
      "execution_count": 44,
      "outputs": []
    },
    {
      "cell_type": "code",
      "source": [
        "Scaled_Data = pd.DataFrame(X_scaled, columns = X_data.columns)\n",
        "Scaled_Data.head()"
      ],
      "metadata": {
        "colab": {
          "base_uri": "https://localhost:8080/",
          "height": 299
        },
        "id": "nRdVHvRb6pkk",
        "outputId": "f5f956a7-2995-4456-a20e-7a348e9d77ae"
      },
      "execution_count": 45,
      "outputs": [
        {
          "output_type": "execute_result",
          "data": {
            "text/plain": [
              "   MDVP:Fo(Hz)  MDVP:Fhi(Hz)  MDVP:Flo(Hz)  MDVP:Jitter(%)  MDVP:Jitter(Abs)  \\\n",
              "0    -0.814824     -0.456272     -0.944501        0.498076          1.007874   \n",
              "1    -0.757725     -0.547675      0.059751        0.937228          1.344349   \n",
              "2    -0.893311     -0.732963      0.001185        1.132937          1.680824   \n",
              "3    -0.893453     -0.661548     -0.003704        1.006442          1.680824   \n",
              "4    -0.909151     -0.620241     -0.022096        1.691423          2.353774   \n",
              "\n",
              "   MDVP:RAP  MDVP:PPQ  Jitter:DDP  MDVP:Shimmer  MDVP:Shimmer(dB)  ...  \\\n",
              "0  0.281188  1.018876    0.279743      1.078368          1.062991  ...   \n",
              "1  0.653132  1.621609    0.651696      2.157870          2.254194  ...   \n",
              "2  0.962433  1.982401    0.963615      1.605239          1.396528  ...   \n",
              "3  0.797995  1.630099    0.796562      1.764097          1.604988  ...   \n",
              "4  1.397021  2.521466    1.398213      2.336356          2.004041  ...   \n",
              "\n",
              "   MDVP:APQ  Shimmer:DDA       NHR       HNR      RPDE       DFA   spread1  \\\n",
              "0  0.598537     0.908929 -0.012405 -0.348562 -0.724135  1.951620  1.113198   \n",
              "1  1.560990     1.992038 -0.092303 -0.840980 -0.281863  2.033489  1.869233   \n",
              "2  1.024992     1.562660 -0.267965 -0.445124 -0.570757  2.144947  1.492171   \n",
              "3  1.150380     1.752526 -0.255499 -0.446894 -0.519259  2.027961  1.825881   \n",
              "4  1.627817     2.396404 -0.138202 -0.698411 -0.698021  2.110081  2.204713   \n",
              "\n",
              "    spread2        D2       PPE  \n",
              "0  0.737352 -0.081889  1.200576  \n",
              "1  1.615183  0.441537  2.243086  \n",
              "2  1.305031  0.033338  1.795906  \n",
              "3  1.596853  0.212022  2.246821  \n",
              "4  0.331273  0.004885  2.760011  \n",
              "\n",
              "[5 rows x 22 columns]"
            ],
            "text/html": [
              "\n",
              "  <div id=\"df-06a4ead3-71e2-4ace-bf9e-fdcf4e8cfbe5\">\n",
              "    <div class=\"colab-df-container\">\n",
              "      <div>\n",
              "<style scoped>\n",
              "    .dataframe tbody tr th:only-of-type {\n",
              "        vertical-align: middle;\n",
              "    }\n",
              "\n",
              "    .dataframe tbody tr th {\n",
              "        vertical-align: top;\n",
              "    }\n",
              "\n",
              "    .dataframe thead th {\n",
              "        text-align: right;\n",
              "    }\n",
              "</style>\n",
              "<table border=\"1\" class=\"dataframe\">\n",
              "  <thead>\n",
              "    <tr style=\"text-align: right;\">\n",
              "      <th></th>\n",
              "      <th>MDVP:Fo(Hz)</th>\n",
              "      <th>MDVP:Fhi(Hz)</th>\n",
              "      <th>MDVP:Flo(Hz)</th>\n",
              "      <th>MDVP:Jitter(%)</th>\n",
              "      <th>MDVP:Jitter(Abs)</th>\n",
              "      <th>MDVP:RAP</th>\n",
              "      <th>MDVP:PPQ</th>\n",
              "      <th>Jitter:DDP</th>\n",
              "      <th>MDVP:Shimmer</th>\n",
              "      <th>MDVP:Shimmer(dB)</th>\n",
              "      <th>...</th>\n",
              "      <th>MDVP:APQ</th>\n",
              "      <th>Shimmer:DDA</th>\n",
              "      <th>NHR</th>\n",
              "      <th>HNR</th>\n",
              "      <th>RPDE</th>\n",
              "      <th>DFA</th>\n",
              "      <th>spread1</th>\n",
              "      <th>spread2</th>\n",
              "      <th>D2</th>\n",
              "      <th>PPE</th>\n",
              "    </tr>\n",
              "  </thead>\n",
              "  <tbody>\n",
              "    <tr>\n",
              "      <th>0</th>\n",
              "      <td>-0.814824</td>\n",
              "      <td>-0.456272</td>\n",
              "      <td>-0.944501</td>\n",
              "      <td>0.498076</td>\n",
              "      <td>1.007874</td>\n",
              "      <td>0.281188</td>\n",
              "      <td>1.018876</td>\n",
              "      <td>0.279743</td>\n",
              "      <td>1.078368</td>\n",
              "      <td>1.062991</td>\n",
              "      <td>...</td>\n",
              "      <td>0.598537</td>\n",
              "      <td>0.908929</td>\n",
              "      <td>-0.012405</td>\n",
              "      <td>-0.348562</td>\n",
              "      <td>-0.724135</td>\n",
              "      <td>1.951620</td>\n",
              "      <td>1.113198</td>\n",
              "      <td>0.737352</td>\n",
              "      <td>-0.081889</td>\n",
              "      <td>1.200576</td>\n",
              "    </tr>\n",
              "    <tr>\n",
              "      <th>1</th>\n",
              "      <td>-0.757725</td>\n",
              "      <td>-0.547675</td>\n",
              "      <td>0.059751</td>\n",
              "      <td>0.937228</td>\n",
              "      <td>1.344349</td>\n",
              "      <td>0.653132</td>\n",
              "      <td>1.621609</td>\n",
              "      <td>0.651696</td>\n",
              "      <td>2.157870</td>\n",
              "      <td>2.254194</td>\n",
              "      <td>...</td>\n",
              "      <td>1.560990</td>\n",
              "      <td>1.992038</td>\n",
              "      <td>-0.092303</td>\n",
              "      <td>-0.840980</td>\n",
              "      <td>-0.281863</td>\n",
              "      <td>2.033489</td>\n",
              "      <td>1.869233</td>\n",
              "      <td>1.615183</td>\n",
              "      <td>0.441537</td>\n",
              "      <td>2.243086</td>\n",
              "    </tr>\n",
              "    <tr>\n",
              "      <th>2</th>\n",
              "      <td>-0.893311</td>\n",
              "      <td>-0.732963</td>\n",
              "      <td>0.001185</td>\n",
              "      <td>1.132937</td>\n",
              "      <td>1.680824</td>\n",
              "      <td>0.962433</td>\n",
              "      <td>1.982401</td>\n",
              "      <td>0.963615</td>\n",
              "      <td>1.605239</td>\n",
              "      <td>1.396528</td>\n",
              "      <td>...</td>\n",
              "      <td>1.024992</td>\n",
              "      <td>1.562660</td>\n",
              "      <td>-0.267965</td>\n",
              "      <td>-0.445124</td>\n",
              "      <td>-0.570757</td>\n",
              "      <td>2.144947</td>\n",
              "      <td>1.492171</td>\n",
              "      <td>1.305031</td>\n",
              "      <td>0.033338</td>\n",
              "      <td>1.795906</td>\n",
              "    </tr>\n",
              "    <tr>\n",
              "      <th>3</th>\n",
              "      <td>-0.893453</td>\n",
              "      <td>-0.661548</td>\n",
              "      <td>-0.003704</td>\n",
              "      <td>1.006442</td>\n",
              "      <td>1.680824</td>\n",
              "      <td>0.797995</td>\n",
              "      <td>1.630099</td>\n",
              "      <td>0.796562</td>\n",
              "      <td>1.764097</td>\n",
              "      <td>1.604988</td>\n",
              "      <td>...</td>\n",
              "      <td>1.150380</td>\n",
              "      <td>1.752526</td>\n",
              "      <td>-0.255499</td>\n",
              "      <td>-0.446894</td>\n",
              "      <td>-0.519259</td>\n",
              "      <td>2.027961</td>\n",
              "      <td>1.825881</td>\n",
              "      <td>1.596853</td>\n",
              "      <td>0.212022</td>\n",
              "      <td>2.246821</td>\n",
              "    </tr>\n",
              "    <tr>\n",
              "      <th>4</th>\n",
              "      <td>-0.909151</td>\n",
              "      <td>-0.620241</td>\n",
              "      <td>-0.022096</td>\n",
              "      <td>1.691423</td>\n",
              "      <td>2.353774</td>\n",
              "      <td>1.397021</td>\n",
              "      <td>2.521466</td>\n",
              "      <td>1.398213</td>\n",
              "      <td>2.336356</td>\n",
              "      <td>2.004041</td>\n",
              "      <td>...</td>\n",
              "      <td>1.627817</td>\n",
              "      <td>2.396404</td>\n",
              "      <td>-0.138202</td>\n",
              "      <td>-0.698411</td>\n",
              "      <td>-0.698021</td>\n",
              "      <td>2.110081</td>\n",
              "      <td>2.204713</td>\n",
              "      <td>0.331273</td>\n",
              "      <td>0.004885</td>\n",
              "      <td>2.760011</td>\n",
              "    </tr>\n",
              "  </tbody>\n",
              "</table>\n",
              "<p>5 rows × 22 columns</p>\n",
              "</div>\n",
              "      <button class=\"colab-df-convert\" onclick=\"convertToInteractive('df-06a4ead3-71e2-4ace-bf9e-fdcf4e8cfbe5')\"\n",
              "              title=\"Convert this dataframe to an interactive table.\"\n",
              "              style=\"display:none;\">\n",
              "        \n",
              "  <svg xmlns=\"http://www.w3.org/2000/svg\" height=\"24px\"viewBox=\"0 0 24 24\"\n",
              "       width=\"24px\">\n",
              "    <path d=\"M0 0h24v24H0V0z\" fill=\"none\"/>\n",
              "    <path d=\"M18.56 5.44l.94 2.06.94-2.06 2.06-.94-2.06-.94-.94-2.06-.94 2.06-2.06.94zm-11 1L8.5 8.5l.94-2.06 2.06-.94-2.06-.94L8.5 2.5l-.94 2.06-2.06.94zm10 10l.94 2.06.94-2.06 2.06-.94-2.06-.94-.94-2.06-.94 2.06-2.06.94z\"/><path d=\"M17.41 7.96l-1.37-1.37c-.4-.4-.92-.59-1.43-.59-.52 0-1.04.2-1.43.59L10.3 9.45l-7.72 7.72c-.78.78-.78 2.05 0 2.83L4 21.41c.39.39.9.59 1.41.59.51 0 1.02-.2 1.41-.59l7.78-7.78 2.81-2.81c.8-.78.8-2.07 0-2.86zM5.41 20L4 18.59l7.72-7.72 1.47 1.35L5.41 20z\"/>\n",
              "  </svg>\n",
              "      </button>\n",
              "      \n",
              "  <style>\n",
              "    .colab-df-container {\n",
              "      display:flex;\n",
              "      flex-wrap:wrap;\n",
              "      gap: 12px;\n",
              "    }\n",
              "\n",
              "    .colab-df-convert {\n",
              "      background-color: #E8F0FE;\n",
              "      border: none;\n",
              "      border-radius: 50%;\n",
              "      cursor: pointer;\n",
              "      display: none;\n",
              "      fill: #1967D2;\n",
              "      height: 32px;\n",
              "      padding: 0 0 0 0;\n",
              "      width: 32px;\n",
              "    }\n",
              "\n",
              "    .colab-df-convert:hover {\n",
              "      background-color: #E2EBFA;\n",
              "      box-shadow: 0px 1px 2px rgba(60, 64, 67, 0.3), 0px 1px 3px 1px rgba(60, 64, 67, 0.15);\n",
              "      fill: #174EA6;\n",
              "    }\n",
              "\n",
              "    [theme=dark] .colab-df-convert {\n",
              "      background-color: #3B4455;\n",
              "      fill: #D2E3FC;\n",
              "    }\n",
              "\n",
              "    [theme=dark] .colab-df-convert:hover {\n",
              "      background-color: #434B5C;\n",
              "      box-shadow: 0px 1px 3px 1px rgba(0, 0, 0, 0.15);\n",
              "      filter: drop-shadow(0px 1px 2px rgba(0, 0, 0, 0.3));\n",
              "      fill: #FFFFFF;\n",
              "    }\n",
              "  </style>\n",
              "\n",
              "      <script>\n",
              "        const buttonEl =\n",
              "          document.querySelector('#df-06a4ead3-71e2-4ace-bf9e-fdcf4e8cfbe5 button.colab-df-convert');\n",
              "        buttonEl.style.display =\n",
              "          google.colab.kernel.accessAllowed ? 'block' : 'none';\n",
              "\n",
              "        async function convertToInteractive(key) {\n",
              "          const element = document.querySelector('#df-06a4ead3-71e2-4ace-bf9e-fdcf4e8cfbe5');\n",
              "          const dataTable =\n",
              "            await google.colab.kernel.invokeFunction('convertToInteractive',\n",
              "                                                     [key], {});\n",
              "          if (!dataTable) return;\n",
              "\n",
              "          const docLinkHtml = 'Like what you see? Visit the ' +\n",
              "            '<a target=\"_blank\" href=https://colab.research.google.com/notebooks/data_table.ipynb>data table notebook</a>'\n",
              "            + ' to learn more about interactive tables.';\n",
              "          element.innerHTML = '';\n",
              "          dataTable['output_type'] = 'display_data';\n",
              "          await google.colab.output.renderOutput(dataTable, element);\n",
              "          const docLink = document.createElement('div');\n",
              "          docLink.innerHTML = docLinkHtml;\n",
              "          element.appendChild(docLink);\n",
              "        }\n",
              "      </script>\n",
              "    </div>\n",
              "  </div>\n",
              "  "
            ]
          },
          "metadata": {},
          "execution_count": 45
        }
      ]
    },
    {
      "cell_type": "code",
      "source": [
        "Scaled_Data.info()"
      ],
      "metadata": {
        "colab": {
          "base_uri": "https://localhost:8080/"
        },
        "id": "BOSHCMJ1-NE3",
        "outputId": "301e8c5a-c1ac-4ad6-ee22-984f222173d7"
      },
      "execution_count": 46,
      "outputs": [
        {
          "output_type": "stream",
          "name": "stdout",
          "text": [
            "<class 'pandas.core.frame.DataFrame'>\n",
            "RangeIndex: 293 entries, 0 to 292\n",
            "Data columns (total 22 columns):\n",
            " #   Column            Non-Null Count  Dtype  \n",
            "---  ------            --------------  -----  \n",
            " 0   MDVP:Fo(Hz)       293 non-null    float64\n",
            " 1   MDVP:Fhi(Hz)      293 non-null    float64\n",
            " 2   MDVP:Flo(Hz)      293 non-null    float64\n",
            " 3   MDVP:Jitter(%)    293 non-null    float64\n",
            " 4   MDVP:Jitter(Abs)  293 non-null    float64\n",
            " 5   MDVP:RAP          293 non-null    float64\n",
            " 6   MDVP:PPQ          293 non-null    float64\n",
            " 7   Jitter:DDP        293 non-null    float64\n",
            " 8   MDVP:Shimmer      293 non-null    float64\n",
            " 9   MDVP:Shimmer(dB)  293 non-null    float64\n",
            " 10  Shimmer:APQ3      293 non-null    float64\n",
            " 11  Shimmer:APQ5      293 non-null    float64\n",
            " 12  MDVP:APQ          293 non-null    float64\n",
            " 13  Shimmer:DDA       293 non-null    float64\n",
            " 14  NHR               293 non-null    float64\n",
            " 15  HNR               293 non-null    float64\n",
            " 16  RPDE              293 non-null    float64\n",
            " 17  DFA               293 non-null    float64\n",
            " 18  spread1           293 non-null    float64\n",
            " 19  spread2           293 non-null    float64\n",
            " 20  D2                293 non-null    float64\n",
            " 21  PPE               293 non-null    float64\n",
            "dtypes: float64(22)\n",
            "memory usage: 50.5 KB\n"
          ]
        }
      ]
    },
    {
      "cell_type": "markdown",
      "source": [
        "### Principal Component Analysis\n",
        "Do the PCA on the balanced data:"
      ],
      "metadata": {
        "id": "YWZiM8dU-MRq"
      }
    },
    {
      "cell_type": "code",
      "source": [
        "pca_balanced = PCA()\n",
        "pca_balanced.fit(Scaled_Data)\n",
        "pca_balanced.get_params()"
      ],
      "metadata": {
        "colab": {
          "base_uri": "https://localhost:8080/"
        },
        "id": "Vivkc4I46SmK",
        "outputId": "8fe2a0c8-4191-427a-bcc6-c9b5e40f2f4a"
      },
      "execution_count": 47,
      "outputs": [
        {
          "output_type": "execute_result",
          "data": {
            "text/plain": [
              "{'copy': True,\n",
              " 'iterated_power': 'auto',\n",
              " 'n_components': None,\n",
              " 'random_state': None,\n",
              " 'svd_solver': 'auto',\n",
              " 'tol': 0.0,\n",
              " 'whiten': False}"
            ]
          },
          "metadata": {},
          "execution_count": 47
        }
      ]
    },
    {
      "cell_type": "markdown",
      "source": [
        "#### Scree Plot"
      ],
      "metadata": {
        "id": "w0dRHMIF8-Tm"
      }
    },
    {
      "cell_type": "code",
      "source": [
        "fig, ax = plt.subplots()\n",
        "xi = np.arange(1, len(Scaled_Data.columns)+1, 1)\n",
        "yi = np.cumsum(pca_balanced.explained_variance_ratio_)\n",
        "\n",
        "plt.plot(xi, yi, marker='o', linestyle='--', color='b')\n",
        "plt.xlabel('Number of Components')\n",
        "plt.xticks(np.arange(1, 23, step=1))\n",
        "plt.ylabel('Cumulative variance (%)')\n",
        "plt.title('Scree Plot')\n",
        "ax.set_ylim([0.70, 1.01])\n",
        "plt.axhline(y = 0.95, color='r', linestyle='--')\n",
        "ax.grid(\"both\")\n",
        "plt.show()"
      ],
      "metadata": {
        "colab": {
          "base_uri": "https://localhost:8080/",
          "height": 301
        },
        "id": "ZE--tLWm6ZXG",
        "outputId": "4f4446cb-61fb-4e57-e76e-0d43e82af420"
      },
      "execution_count": 48,
      "outputs": [
        {
          "output_type": "display_data",
          "data": {
            "text/plain": [
              "<Figure size 432x288 with 1 Axes>"
            ],
            "image/png": "[encoded data removed]"
          },
          "metadata": {}
        }
      ]
    },
    {
      "cell_type": "code",
      "source": [
        "pca_balanced = PCA(n_components=0.95, random_state = 42)\n",
        "pca_balanced.fit(Scaled_Data)\n",
        "X_PCA = pca_balanced.transform(Scaled_Data)\n",
        "print('Shape of X before PCA: ', Scaled_Data.shape)\n",
        "print('Shape of X after PCA: ', X_PCA.shape)"
      ],
      "metadata": {
        "colab": {
          "base_uri": "https://localhost:8080/"
        },
        "id": "6sHdMCOm9Sun",
        "outputId": "d6e35f54-b09a-4ebb-97d3-bed20e7bc216"
      },
      "execution_count": 49,
      "outputs": [
        {
          "output_type": "stream",
          "name": "stdout",
          "text": [
            "Shape of X before PCA:  (293, 22)\n",
            "Shape of X after PCA:  (293, 8)\n"
          ]
        }
      ]
    },
    {
      "cell_type": "code",
      "source": [
        "columns_PCA = ['PCA Compponent 0%i' %i for i in range(1, 9)]\n",
        "PCA_Data = pd.DataFrame(pca_balanced.transform(X_data), columns = columns_PCA)\n",
        "PCA_Data.head()"
      ],
      "metadata": {
        "colab": {
          "base_uri": "https://localhost:8080/",
          "height": 267
        },
        "id": "13BRVphG9KBs",
        "outputId": "a67ef28c-0e84-4b73-e043-0deaddd30e7b"
      },
      "execution_count": 50,
      "outputs": [
        {
          "output_type": "execute_result",
          "data": {
            "text/plain": [
              "   PCA Compponent 01  PCA Compponent 02  PCA Compponent 03  PCA Compponent 04  \\\n",
              "0         -10.574122         139.862438          11.990974         -25.530032   \n",
              "1         -11.965034         146.532576          32.868480         -20.282735   \n",
              "2         -12.459703         136.272901          35.888255         -16.934173   \n",
              "3         -12.257997         138.695380          33.908800         -17.970639   \n",
              "4         -11.818555         139.661069          32.331511         -18.676216   \n",
              "\n",
              "   PCA Compponent 05  PCA Compponent 06  PCA Compponent 07  PCA Compponent 08  \n",
              "0         -64.752084          -8.363399         124.380273         -15.266380  \n",
              "1         -80.241170          17.735623         125.953464         -17.839258  \n",
              "2         -77.079460          22.337565         112.999112         -16.650126  \n",
              "3         -77.615382          19.851155         118.184143         -16.917815  \n",
              "4         -77.409799          18.074843         121.002899         -17.171217  "
            ],
            "text/html": [
              "\n",
              "  <div id=\"df-b2022034-44bd-45d6-b0ed-e71275186994\">\n",
              "    <div class=\"colab-df-container\">\n",
              "      <div>\n",
              "<style scoped>\n",
              "    .dataframe tbody tr th:only-of-type {\n",
              "        vertical-align: middle;\n",
              "    }\n",
              "\n",
              "    .dataframe tbody tr th {\n",
              "        vertical-align: top;\n",
              "    }\n",
              "\n",
              "    .dataframe thead th {\n",
              "        text-align: right;\n",
              "    }\n",
              "</style>\n",
              "<table border=\"1\" class=\"dataframe\">\n",
              "  <thead>\n",
              "    <tr style=\"text-align: right;\">\n",
              "      <th></th>\n",
              "      <th>PCA Compponent 01</th>\n",
              "      <th>PCA Compponent 02</th>\n",
              "      <th>PCA Compponent 03</th>\n",
              "      <th>PCA Compponent 04</th>\n",
              "      <th>PCA Compponent 05</th>\n",
              "      <th>PCA Compponent 06</th>\n",
              "      <th>PCA Compponent 07</th>\n",
              "      <th>PCA Compponent 08</th>\n",
              "    </tr>\n",
              "  </thead>\n",
              "  <tbody>\n",
              "    <tr>\n",
              "      <th>0</th>\n",
              "      <td>-10.574122</td>\n",
              "      <td>139.862438</td>\n",
              "      <td>11.990974</td>\n",
              "      <td>-25.530032</td>\n",
              "      <td>-64.752084</td>\n",
              "      <td>-8.363399</td>\n",
              "      <td>124.380273</td>\n",
              "      <td>-15.266380</td>\n",
              "    </tr>\n",
              "    <tr>\n",
              "      <th>1</th>\n",
              "      <td>-11.965034</td>\n",
              "      <td>146.532576</td>\n",
              "      <td>32.868480</td>\n",
              "      <td>-20.282735</td>\n",
              "      <td>-80.241170</td>\n",
              "      <td>17.735623</td>\n",
              "      <td>125.953464</td>\n",
              "      <td>-17.839258</td>\n",
              "    </tr>\n",
              "    <tr>\n",
              "      <th>2</th>\n",
              "      <td>-12.459703</td>\n",
              "      <td>136.272901</td>\n",
              "      <td>35.888255</td>\n",
              "      <td>-16.934173</td>\n",
              "      <td>-77.079460</td>\n",
              "      <td>22.337565</td>\n",
              "      <td>112.999112</td>\n",
              "      <td>-16.650126</td>\n",
              "    </tr>\n",
              "    <tr>\n",
              "      <th>3</th>\n",
              "      <td>-12.257997</td>\n",
              "      <td>138.695380</td>\n",
              "      <td>33.908800</td>\n",
              "      <td>-17.970639</td>\n",
              "      <td>-77.615382</td>\n",
              "      <td>19.851155</td>\n",
              "      <td>118.184143</td>\n",
              "      <td>-16.917815</td>\n",
              "    </tr>\n",
              "    <tr>\n",
              "      <th>4</th>\n",
              "      <td>-11.818555</td>\n",
              "      <td>139.661069</td>\n",
              "      <td>32.331511</td>\n",
              "      <td>-18.676216</td>\n",
              "      <td>-77.409799</td>\n",
              "      <td>18.074843</td>\n",
              "      <td>121.002899</td>\n",
              "      <td>-17.171217</td>\n",
              "    </tr>\n",
              "  </tbody>\n",
              "</table>\n",
              "</div>\n",
              "      <button class=\"colab-df-convert\" onclick=\"convertToInteractive('df-b2022034-44bd-45d6-b0ed-e71275186994')\"\n",
              "              title=\"Convert this dataframe to an interactive table.\"\n",
              "              style=\"display:none;\">\n",
              "        \n",
              "  <svg xmlns=\"http://www.w3.org/2000/svg\" height=\"24px\"viewBox=\"0 0 24 24\"\n",
              "       width=\"24px\">\n",
              "    <path d=\"M0 0h24v24H0V0z\" fill=\"none\"/>\n",
              "    <path d=\"M18.56 5.44l.94 2.06.94-2.06 2.06-.94-2.06-.94-.94-2.06-.94 2.06-2.06.94zm-11 1L8.5 8.5l.94-2.06 2.06-.94-2.06-.94L8.5 2.5l-.94 2.06-2.06.94zm10 10l.94 2.06.94-2.06 2.06-.94-2.06-.94-.94-2.06-.94 2.06-2.06.94z\"/><path d=\"M17.41 7.96l-1.37-1.37c-.4-.4-.92-.59-1.43-.59-.52 0-1.04.2-1.43.59L10.3 9.45l-7.72 7.72c-.78.78-.78 2.05 0 2.83L4 21.41c.39.39.9.59 1.41.59.51 0 1.02-.2 1.41-.59l7.78-7.78 2.81-2.81c.8-.78.8-2.07 0-2.86zM5.41 20L4 18.59l7.72-7.72 1.47 1.35L5.41 20z\"/>\n",
              "  </svg>\n",
              "      </button>\n",
              "      \n",
              "  <style>\n",
              "    .colab-df-container {\n",
              "      display:flex;\n",
              "      flex-wrap:wrap;\n",
              "      gap: 12px;\n",
              "    }\n",
              "\n",
              "    .colab-df-convert {\n",
              "      background-color: #E8F0FE;\n",
              "      border: none;\n",
              "      border-radius: 50%;\n",
              "      cursor: pointer;\n",
              "      display: none;\n",
              "      fill: #1967D2;\n",
              "      height: 32px;\n",
              "      padding: 0 0 0 0;\n",
              "      width: 32px;\n",
              "    }\n",
              "\n",
              "    .colab-df-convert:hover {\n",
              "      background-color: #E2EBFA;\n",
              "      box-shadow: 0px 1px 2px rgba(60, 64, 67, 0.3), 0px 1px 3px 1px rgba(60, 64, 67, 0.15);\n",
              "      fill: #174EA6;\n",
              "    }\n",
              "\n",
              "    [theme=dark] .colab-df-convert {\n",
              "      background-color: #3B4455;\n",
              "      fill: #D2E3FC;\n",
              "    }\n",
              "\n",
              "    [theme=dark] .colab-df-convert:hover {\n",
              "      background-color: #434B5C;\n",
              "      box-shadow: 0px 1px 3px 1px rgba(0, 0, 0, 0.15);\n",
              "      filter: drop-shadow(0px 1px 2px rgba(0, 0, 0, 0.3));\n",
              "      fill: #FFFFFF;\n",
              "    }\n",
              "  </style>\n",
              "\n",
              "      <script>\n",
              "        const buttonEl =\n",
              "          document.querySelector('#df-b2022034-44bd-45d6-b0ed-e71275186994 button.colab-df-convert');\n",
              "        buttonEl.style.display =\n",
              "          google.colab.kernel.accessAllowed ? 'block' : 'none';\n",
              "\n",
              "        async function convertToInteractive(key) {\n",
              "          const element = document.querySelector('#df-b2022034-44bd-45d6-b0ed-e71275186994');\n",
              "          const dataTable =\n",
              "            await google.colab.kernel.invokeFunction('convertToInteractive',\n",
              "                                                     [key], {});\n",
              "          if (!dataTable) return;\n",
              "\n",
              "          const docLinkHtml = 'Like what you see? Visit the ' +\n",
              "            '<a target=\"_blank\" href=https://colab.research.google.com/notebooks/data_table.ipynb>data table notebook</a>'\n",
              "            + ' to learn more about interactive tables.';\n",
              "          element.innerHTML = '';\n",
              "          dataTable['output_type'] = 'display_data';\n",
              "          await google.colab.output.renderOutput(dataTable, element);\n",
              "          const docLink = document.createElement('div');\n",
              "          docLink.innerHTML = docLinkHtml;\n",
              "          element.appendChild(docLink);\n",
              "        }\n",
              "      </script>\n",
              "    </div>\n",
              "  </div>\n",
              "  "
            ]
          },
          "metadata": {},
          "execution_count": 50
        }
      ]
    },
    {
      "cell_type": "code",
      "source": [
        "X = PCA_Data.values\n",
        "Y = Y_data.values"
      ],
      "metadata": {
        "id": "Cn-A_f_896_K"
      },
      "execution_count": 51,
      "outputs": []
    },
    {
      "cell_type": "markdown",
      "source": [
        "### Split into Train and Test sets"
      ],
      "metadata": {
        "id": "hUt1r2pD-H39"
      }
    },
    {
      "cell_type": "code",
      "source": [
        "X_train, X_test, Y_train, Y_test = train_test_split(X, Y, random_state=42, test_size = 0.2)\n",
        "print('x_train shape: ', X_train.shape)\n",
        "print('x_test shape: ', X_test.shape)\n",
        "print('y_train shape: ', Y_train.shape)\n",
        "print('y_test shape: ', Y_test.shape)"
      ],
      "metadata": {
        "colab": {
          "base_uri": "https://localhost:8080/"
        },
        "id": "fX4t_zNq9FzN",
        "outputId": "dddc8a63-7b13-41f3-e671-e8a59960523c"
      },
      "execution_count": 52,
      "outputs": [
        {
          "output_type": "stream",
          "name": "stdout",
          "text": [
            "x_train shape:  (234, 8)\n",
            "x_test shape:  (59, 8)\n",
            "y_train shape:  (234,)\n",
            "y_test shape:  (59,)\n"
          ]
        }
      ]
    },
    {
      "cell_type": "markdown",
      "source": [
        "## ML Techniques - Balanced Target class"
      ],
      "metadata": {
        "id": "-9yvTh88-1XI"
      }
    },
    {
      "cell_type": "markdown",
      "source": [
        "### k-Neighbours Classifier\n",
        "\n",
        "We can quickly tweak the n_neighbors to prevent overfitting."
      ],
      "metadata": {
        "id": "xt7xuZMKc46j"
      }
    },
    {
      "cell_type": "code",
      "source": [
        "from sklearn.neighbors import KNeighborsClassifier\n",
        "kNN_classifier_balanced = KNeighborsClassifier()\n",
        "kNN_classifier_balanced.fit(X_train, Y_train)\n",
        "kNN_classifier_balanced.get_params()"
      ],
      "metadata": {
        "colab": {
          "base_uri": "https://localhost:8080/"
        },
        "outputId": "0575c9cb-c8d6-4981-d5d2-0952c07444e7",
        "id": "zaeOc9Hqc46k"
      },
      "execution_count": 53,
      "outputs": [
        {
          "output_type": "execute_result",
          "data": {
            "text/plain": [
              "{'algorithm': 'auto',\n",
              " 'leaf_size': 30,\n",
              " 'metric': 'minkowski',\n",
              " 'metric_params': None,\n",
              " 'n_jobs': None,\n",
              " 'n_neighbors': 5,\n",
              " 'p': 2,\n",
              " 'weights': 'uniform'}"
            ]
          },
          "metadata": {},
          "execution_count": 53
        }
      ]
    },
    {
      "cell_type": "code",
      "source": [
        "y_pred_kNN_balanced = kNN_classifier_balanced.predict(X_test)\n",
        "y_pred_kNN_train_balanced = kNN_classifier_balanced.predict(X_train)\n",
        "print('Accuracy of the training set: ', accuracy_score(Y_train, y_pred_kNN_train_balanced))\n",
        "print('Accuracy of the testing set: ', accuracy_score(Y_test, y_pred_kNN_balanced))"
      ],
      "metadata": {
        "colab": {
          "base_uri": "https://localhost:8080/"
        },
        "outputId": "78c0023e-2c43-4ca7-aa84-1f5fb4140879",
        "id": "jYcUoOXxc46k"
      },
      "execution_count": 54,
      "outputs": [
        {
          "output_type": "stream",
          "name": "stdout",
          "text": [
            "Accuracy of the training set:  0.8931623931623932\n",
            "Accuracy of the testing set:  0.8135593220338984\n"
          ]
        }
      ]
    },
    {
      "cell_type": "code",
      "source": [
        "print(classification_report(Y_test, y_pred_kNN_balanced))\n",
        "ConfusionMatrixDisplay.from_predictions(Y_test, y_pred_kNN_balanced, colorbar=False)"
      ],
      "metadata": {
        "colab": {
          "base_uri": "https://localhost:8080/",
          "height": 459
        },
        "outputId": "8482c621-0577-4d68-819e-8d52b3e9b880",
        "id": "dW6MEOSoc46l"
      },
      "execution_count": 55,
      "outputs": [
        {
          "output_type": "stream",
          "name": "stdout",
          "text": [
            "              precision    recall  f1-score   support\n",
            "\n",
            "           0       0.74      0.97      0.84        30\n",
            "           1       0.95      0.66      0.78        29\n",
            "\n",
            "    accuracy                           0.81        59\n",
            "   macro avg       0.85      0.81      0.81        59\n",
            "weighted avg       0.85      0.81      0.81        59\n",
            "\n"
          ]
        },
        {
          "output_type": "execute_result",
          "data": {
            "text/plain": [
              "<sklearn.metrics._plot.confusion_matrix.ConfusionMatrixDisplay at 0x7efbfdf8f9a0>"
            ]
          },
          "metadata": {},
          "execution_count": 55
        },
        {
          "output_type": "display_data",
          "data": {
            "text/plain": [
              "<Figure size 432x288 with 1 Axes>"
            ],
            "image/png": "[encoded data removed]"
          },
          "metadata": {}
        }
      ]
    },
    {
      "cell_type": "markdown",
      "source": [
        "### Naive Bayes"
      ],
      "metadata": {
        "id": "t6OskHsEc46h"
      }
    },
    {
      "cell_type": "code",
      "source": [
        "from sklearn.naive_bayes import GaussianNB\n",
        "NB_classifier_balanced = GaussianNB()\n",
        "NB_classifier_balanced.fit(X_train, Y_train)\n",
        "NB_classifier_balanced.get_params()"
      ],
      "metadata": {
        "colab": {
          "base_uri": "https://localhost:8080/"
        },
        "outputId": "7be98529-7830-4a7c-f78c-a866c6bc34fe",
        "id": "jGUDVQHsc46h"
      },
      "execution_count": 56,
      "outputs": [
        {
          "output_type": "execute_result",
          "data": {
            "text/plain": [
              "{'priors': None, 'var_smoothing': 1e-09}"
            ]
          },
          "metadata": {},
          "execution_count": 56
        }
      ]
    },
    {
      "cell_type": "code",
      "source": [
        "y_pred_NB_balanced = NB_classifier_balanced.predict(X_test)\n",
        "y_pred_NB_train_balanced = NB_classifier_balanced.predict(X_train)\n",
        "print('Accuracy of the training set: ', accuracy_score(Y_train, y_pred_NB_train_balanced))\n",
        "print('Accuracy of the testing set: ', accuracy_score(Y_test, y_pred_NB_balanced))"
      ],
      "metadata": {
        "colab": {
          "base_uri": "https://localhost:8080/"
        },
        "id": "sfDTpz2Ac46i",
        "outputId": "1ef6a51c-cec0-4195-a681-28d6cf3f1924"
      },
      "execution_count": 57,
      "outputs": [
        {
          "output_type": "stream",
          "name": "stdout",
          "text": [
            "Accuracy of the training set:  0.6153846153846154\n",
            "Accuracy of the testing set:  0.6440677966101694\n"
          ]
        }
      ]
    },
    {
      "cell_type": "code",
      "source": [
        "print(classification_report(Y_test, y_pred_NB_balanced))\n",
        "ConfusionMatrixDisplay.from_predictions(Y_test, y_pred_NB_balanced, colorbar=False)"
      ],
      "metadata": {
        "colab": {
          "base_uri": "https://localhost:8080/",
          "height": 459
        },
        "outputId": "88649874-76b9-42b6-c8c2-8a925a51b4c3",
        "id": "51Kj5-Phc46j"
      },
      "execution_count": 58,
      "outputs": [
        {
          "output_type": "stream",
          "name": "stdout",
          "text": [
            "              precision    recall  f1-score   support\n",
            "\n",
            "           0       0.74      0.47      0.57        30\n",
            "           1       0.60      0.83      0.70        29\n",
            "\n",
            "    accuracy                           0.64        59\n",
            "   macro avg       0.67      0.65      0.63        59\n",
            "weighted avg       0.67      0.64      0.63        59\n",
            "\n"
          ]
        },
        {
          "output_type": "execute_result",
          "data": {
            "text/plain": [
              "<sklearn.metrics._plot.confusion_matrix.ConfusionMatrixDisplay at 0x7efbfe36efd0>"
            ]
          },
          "metadata": {},
          "execution_count": 58
        },
        {
          "output_type": "display_data",
          "data": {
            "text/plain": [
              "<Figure size 432x288 with 1 Axes>"
            ],
            "image/png": "[encoded data removed]"
          },
          "metadata": {}
        }
      ]
    },
    {
      "cell_type": "markdown",
      "source": [
        "### Support Vector Machine"
      ],
      "metadata": {
        "id": "SgBmpmVrc46b"
      }
    },
    {
      "cell_type": "code",
      "source": [
        "SVM_classifier_balanced = SVC(random_state = 42)\n",
        "SVM_classifier_balanced.fit(X_train, Y_train)\n",
        "y_pred_SVM_balanced = SVM_classifier_balanced.predict(X_test)"
      ],
      "metadata": {
        "id": "OwDfbTmNc46c"
      },
      "execution_count": 59,
      "outputs": []
    },
    {
      "cell_type": "code",
      "source": [
        "y_pred_SVM_train_balanced = SVM_classifier_balanced.predict(X_train)\n",
        "print('Accuracy of the training set: ', accuracy_score(Y_train, y_pred_SVM_train_balanced))\n",
        "print('Accuracy of the testing set: ', accuracy_score(Y_test, y_pred_SVM_balanced))"
      ],
      "metadata": {
        "colab": {
          "base_uri": "https://localhost:8080/"
        },
        "outputId": "19c1f349-221a-457f-eb62-ee7f99d04a62",
        "id": "_sEAAaXbc46c"
      },
      "execution_count": 60,
      "outputs": [
        {
          "output_type": "stream",
          "name": "stdout",
          "text": [
            "Accuracy of the training set:  0.6623931623931624\n",
            "Accuracy of the testing set:  0.6779661016949152\n"
          ]
        }
      ]
    },
    {
      "cell_type": "code",
      "source": [
        "print(classification_report(Y_test, y_pred_SVM_balanced))"
      ],
      "metadata": {
        "colab": {
          "base_uri": "https://localhost:8080/"
        },
        "outputId": "3750bcc7-cfb9-4c21-95e2-4b737a6c29b0",
        "id": "0S-BjiC7c46d"
      },
      "execution_count": 61,
      "outputs": [
        {
          "output_type": "stream",
          "name": "stdout",
          "text": [
            "              precision    recall  f1-score   support\n",
            "\n",
            "           0       0.72      0.60      0.65        30\n",
            "           1       0.65      0.76      0.70        29\n",
            "\n",
            "    accuracy                           0.68        59\n",
            "   macro avg       0.68      0.68      0.68        59\n",
            "weighted avg       0.68      0.68      0.68        59\n",
            "\n"
          ]
        }
      ]
    },
    {
      "cell_type": "code",
      "source": [
        "ConfusionMatrixDisplay.from_predictions(Y_test, y_pred_SVM_balanced, colorbar=False)"
      ],
      "metadata": {
        "colab": {
          "base_uri": "https://localhost:8080/",
          "height": 302
        },
        "outputId": "a743d825-6ce6-43b0-b0a1-3ebb7244b238",
        "id": "oN9TtjYSc46d"
      },
      "execution_count": 62,
      "outputs": [
        {
          "output_type": "execute_result",
          "data": {
            "text/plain": [
              "<sklearn.metrics._plot.confusion_matrix.ConfusionMatrixDisplay at 0x7efbfe3e2d00>"
            ]
          },
          "metadata": {},
          "execution_count": 62
        },
        {
          "output_type": "display_data",
          "data": {
            "text/plain": [
              "<Figure size 432x288 with 1 Axes>"
            ],
            "image/png": "[encoded data removed]"
          },
          "metadata": {}
        }
      ]
    },
    {
      "cell_type": "markdown",
      "source": [
        "### Logistic Regression"
      ],
      "metadata": {
        "id": "E7ud_DzIc46e"
      }
    },
    {
      "cell_type": "code",
      "source": [
        "from sklearn.linear_model import LogisticRegression\n",
        "LR_classifier_balanced = LogisticRegression(C = 0.01, random_state = 42)\n",
        "LR_classifier_balanced.fit(X_train, Y_train)\n",
        "LR_classifier_balanced.get_params()"
      ],
      "metadata": {
        "colab": {
          "base_uri": "https://localhost:8080/"
        },
        "outputId": "cdd99435-d296-4bfb-86c8-964a8bc4bee7",
        "id": "BGKaHyWFc46f"
      },
      "execution_count": 63,
      "outputs": [
        {
          "output_type": "execute_result",
          "data": {
            "text/plain": [
              "{'C': 0.01,\n",
              " 'class_weight': None,\n",
              " 'dual': False,\n",
              " 'fit_intercept': True,\n",
              " 'intercept_scaling': 1,\n",
              " 'l1_ratio': None,\n",
              " 'max_iter': 100,\n",
              " 'multi_class': 'auto',\n",
              " 'n_jobs': None,\n",
              " 'penalty': 'l2',\n",
              " 'random_state': 42,\n",
              " 'solver': 'lbfgs',\n",
              " 'tol': 0.0001,\n",
              " 'verbose': 0,\n",
              " 'warm_start': False}"
            ]
          },
          "metadata": {},
          "execution_count": 63
        }
      ]
    },
    {
      "cell_type": "code",
      "source": [
        "y_pred_LR_balanced = LR_classifier_balanced.predict(X_test)\n",
        "y_pred_LR_train_balanced = LR_classifier_balanced.predict(X_train)\n",
        "print('Accuracy of the training set: ', accuracy_score(Y_train, y_pred_LR_train_balanced))\n",
        "print('Accuracy of the testing set: ', accuracy_score(Y_test, y_pred_LR_balanced))"
      ],
      "metadata": {
        "colab": {
          "base_uri": "https://localhost:8080/"
        },
        "id": "7ct9d-zwc46f",
        "outputId": "5f61b2cb-e5de-49e9-e3ee-5c5545c0c85c"
      },
      "execution_count": 64,
      "outputs": [
        {
          "output_type": "stream",
          "name": "stdout",
          "text": [
            "Accuracy of the training set:  0.6367521367521367\n",
            "Accuracy of the testing set:  0.6779661016949152\n"
          ]
        }
      ]
    },
    {
      "cell_type": "code",
      "source": [
        "print(classification_report(Y_test, y_pred_LR_balanced))"
      ],
      "metadata": {
        "colab": {
          "base_uri": "https://localhost:8080/"
        },
        "outputId": "b7596888-3762-4b81-d0a8-c30668fb8997",
        "id": "CSYBxuQMc46g"
      },
      "execution_count": 65,
      "outputs": [
        {
          "output_type": "stream",
          "name": "stdout",
          "text": [
            "              precision    recall  f1-score   support\n",
            "\n",
            "           0       0.70      0.63      0.67        30\n",
            "           1       0.66      0.72      0.69        29\n",
            "\n",
            "    accuracy                           0.68        59\n",
            "   macro avg       0.68      0.68      0.68        59\n",
            "weighted avg       0.68      0.68      0.68        59\n",
            "\n"
          ]
        }
      ]
    },
    {
      "cell_type": "code",
      "source": [
        "ConfusionMatrixDisplay.from_predictions(Y_test, y_pred_LR_balanced, colorbar=False)"
      ],
      "metadata": {
        "colab": {
          "base_uri": "https://localhost:8080/",
          "height": 302
        },
        "outputId": "46d7481e-e6ee-4344-d393-a6befd082842",
        "id": "FtzmnoM7c46h"
      },
      "execution_count": 66,
      "outputs": [
        {
          "output_type": "execute_result",
          "data": {
            "text/plain": [
              "<sklearn.metrics._plot.confusion_matrix.ConfusionMatrixDisplay at 0x7efbfe462ca0>"
            ]
          },
          "metadata": {},
          "execution_count": 66
        },
        {
          "output_type": "display_data",
          "data": {
            "text/plain": [
              "<Figure size 432x288 with 1 Axes>"
            ],
            "image/png": "[encoded data removed]"
          },
          "metadata": {}
        }
      ]
    },
    {
      "cell_type": "markdown",
      "source": [
        "### Decision Tree Classifier\n",
        "\n",
        "We limit the *max_depth* since this is a small dataset, in order to avoid overfitting."
      ],
      "metadata": {
        "id": "--mAn3adc46l"
      }
    },
    {
      "cell_type": "code",
      "source": [
        "from sklearn.tree import DecisionTreeClassifier\n",
        "DT_classifier_balanced = DecisionTreeClassifier(max_depth = 5)\n",
        "DT_classifier_balanced.fit(X_train, Y_train)\n",
        "DT_classifier_balanced.get_params()"
      ],
      "metadata": {
        "colab": {
          "base_uri": "https://localhost:8080/"
        },
        "outputId": "0de36f0f-e16c-481a-817e-1a5fb560a469",
        "id": "aLN3fel_c46m"
      },
      "execution_count": 67,
      "outputs": [
        {
          "output_type": "execute_result",
          "data": {
            "text/plain": [
              "{'ccp_alpha': 0.0,\n",
              " 'class_weight': None,\n",
              " 'criterion': 'gini',\n",
              " 'max_depth': 5,\n",
              " 'max_features': None,\n",
              " 'max_leaf_nodes': None,\n",
              " 'min_impurity_decrease': 0.0,\n",
              " 'min_samples_leaf': 1,\n",
              " 'min_samples_split': 2,\n",
              " 'min_weight_fraction_leaf': 0.0,\n",
              " 'random_state': None,\n",
              " 'splitter': 'best'}"
            ]
          },
          "metadata": {},
          "execution_count": 67
        }
      ]
    },
    {
      "cell_type": "code",
      "source": [
        "y_pred_DT_balanced = DT_classifier_balanced.predict(X_test)\n",
        "y_pred_DT_train_balanced = DT_classifier_balanced.predict(X_train)\n",
        "print('Accuracy of the training set: ', accuracy_score(Y_train, y_pred_DT_train_balanced))\n",
        "print('Accuracy of the testing set: ', accuracy_score(Y_test, y_pred_DT_balanced))"
      ],
      "metadata": {
        "colab": {
          "base_uri": "https://localhost:8080/"
        },
        "outputId": "7008fa09-1473-4e70-8e08-862e1037cf07",
        "id": "PQNVHiJic46m"
      },
      "execution_count": 68,
      "outputs": [
        {
          "output_type": "stream",
          "name": "stdout",
          "text": [
            "Accuracy of the training set:  0.9444444444444444\n",
            "Accuracy of the testing set:  0.7966101694915254\n"
          ]
        }
      ]
    },
    {
      "cell_type": "code",
      "source": [
        "print(classification_report(Y_test, y_pred_DT_balanced))\n",
        "ConfusionMatrixDisplay.from_predictions(Y_test, y_pred_DT_balanced, colorbar=False)"
      ],
      "metadata": {
        "colab": {
          "base_uri": "https://localhost:8080/",
          "height": 459
        },
        "outputId": "04b597ba-9b63-4542-866d-2a6eeb68581b",
        "id": "EnzduOhEc46o"
      },
      "execution_count": 69,
      "outputs": [
        {
          "output_type": "stream",
          "name": "stdout",
          "text": [
            "              precision    recall  f1-score   support\n",
            "\n",
            "           0       0.74      0.93      0.82        30\n",
            "           1       0.90      0.66      0.76        29\n",
            "\n",
            "    accuracy                           0.80        59\n",
            "   macro avg       0.82      0.79      0.79        59\n",
            "weighted avg       0.82      0.80      0.79        59\n",
            "\n"
          ]
        },
        {
          "output_type": "execute_result",
          "data": {
            "text/plain": [
              "<sklearn.metrics._plot.confusion_matrix.ConfusionMatrixDisplay at 0x7efbfdf157c0>"
            ]
          },
          "metadata": {},
          "execution_count": 69
        },
        {
          "output_type": "display_data",
          "data": {
            "text/plain": [
              "<Figure size 432x288 with 1 Axes>"
            ],
            "image/png": "[encoded data removed]"
          },
          "metadata": {}
        }
      ]
    },
    {
      "cell_type": "markdown",
      "source": [
        "### Random Forest Classifier\n",
        "\n",
        "We limit the max_depth since this is a small dataset, in order to control overfitting - we still need to fine-tune the hyperparameters in order to prevent overfitting."
      ],
      "metadata": {
        "id": "EMTxmnG6c46o"
      }
    },
    {
      "cell_type": "code",
      "source": [
        "from sklearn.ensemble import RandomForestClassifier\n",
        "RF_classifier_balanced = RandomForestClassifier(max_depth=4)\n",
        "RF_classifier_balanced.fit(X_train, Y_train)\n",
        "RF_classifier_balanced.get_params()"
      ],
      "metadata": {
        "colab": {
          "base_uri": "https://localhost:8080/"
        },
        "outputId": "2550d919-9371-4369-b96d-f7608ee59ba7",
        "id": "6FyBRL7zc46p"
      },
      "execution_count": 70,
      "outputs": [
        {
          "output_type": "execute_result",
          "data": {
            "text/plain": [
              "{'bootstrap': True,\n",
              " 'ccp_alpha': 0.0,\n",
              " 'class_weight': None,\n",
              " 'criterion': 'gini',\n",
              " 'max_depth': 4,\n",
              " 'max_features': 'auto',\n",
              " 'max_leaf_nodes': None,\n",
              " 'max_samples': None,\n",
              " 'min_impurity_decrease': 0.0,\n",
              " 'min_samples_leaf': 1,\n",
              " 'min_samples_split': 2,\n",
              " 'min_weight_fraction_leaf': 0.0,\n",
              " 'n_estimators': 100,\n",
              " 'n_jobs': None,\n",
              " 'oob_score': False,\n",
              " 'random_state': None,\n",
              " 'verbose': 0,\n",
              " 'warm_start': False}"
            ]
          },
          "metadata": {},
          "execution_count": 70
        }
      ]
    },
    {
      "cell_type": "code",
      "source": [
        "y_pred_RF_balanced = RF_classifier_balanced.predict(X_test)\n",
        "y_pred_RF_train_balanced = RF_classifier_balanced.predict(X_train)\n",
        "print('Accuracy of the training set: ', accuracy_score(Y_train, y_pred_RF_train_balanced))\n",
        "print('Accuracy of the testing set: ', accuracy_score(Y_test, y_pred_RF_balanced))"
      ],
      "metadata": {
        "colab": {
          "base_uri": "https://localhost:8080/"
        },
        "outputId": "503d175e-6e03-4f64-9802-49d03febdeb3",
        "id": "f5OG2FGKc46p"
      },
      "execution_count": 71,
      "outputs": [
        {
          "output_type": "stream",
          "name": "stdout",
          "text": [
            "Accuracy of the training set:  0.9017094017094017\n",
            "Accuracy of the testing set:  0.8135593220338984\n"
          ]
        }
      ]
    },
    {
      "cell_type": "code",
      "source": [
        "print(classification_report(Y_test, y_pred_RF_balanced))\n",
        "ConfusionMatrixDisplay.from_predictions(Y_test, y_pred_RF_balanced, colorbar=False)"
      ],
      "metadata": {
        "colab": {
          "base_uri": "https://localhost:8080/",
          "height": 459
        },
        "outputId": "d446e5bc-34f4-4ca9-aa4e-b04966db79a1",
        "id": "1e74-w05c46q"
      },
      "execution_count": 72,
      "outputs": [
        {
          "output_type": "stream",
          "name": "stdout",
          "text": [
            "              precision    recall  f1-score   support\n",
            "\n",
            "           0       0.76      0.93      0.84        30\n",
            "           1       0.91      0.69      0.78        29\n",
            "\n",
            "    accuracy                           0.81        59\n",
            "   macro avg       0.83      0.81      0.81        59\n",
            "weighted avg       0.83      0.81      0.81        59\n",
            "\n"
          ]
        },
        {
          "output_type": "execute_result",
          "data": {
            "text/plain": [
              "<sklearn.metrics._plot.confusion_matrix.ConfusionMatrixDisplay at 0x7efbfdf15be0>"
            ]
          },
          "metadata": {},
          "execution_count": 72
        },
        {
          "output_type": "display_data",
          "data": {
            "text/plain": [
              "<Figure size 432x288 with 1 Axes>"
            ],
            "image/png": "[encoded data removed]"
          },
          "metadata": {}
        }
      ]
    },
    {
      "cell_type": "markdown",
      "source": [
        "### AdaBoost Classifier"
      ],
      "metadata": {
        "id": "51jBkLF9c46q"
      }
    },
    {
      "cell_type": "code",
      "source": [
        "from sklearn.ensemble import AdaBoostClassifier\n",
        "adaboost_balanced = AdaBoostClassifier()\n",
        "adaboost_balanced.fit(X_train, Y_train)\n",
        "adaboost_balanced.get_params()"
      ],
      "metadata": {
        "colab": {
          "base_uri": "https://localhost:8080/"
        },
        "outputId": "b62574f3-1759-4049-e8b5-db5cc4e06465",
        "id": "L0Z18TtHc46r"
      },
      "execution_count": 73,
      "outputs": [
        {
          "output_type": "execute_result",
          "data": {
            "text/plain": [
              "{'algorithm': 'SAMME.R',\n",
              " 'base_estimator': None,\n",
              " 'learning_rate': 1.0,\n",
              " 'n_estimators': 50,\n",
              " 'random_state': None}"
            ]
          },
          "metadata": {},
          "execution_count": 73
        }
      ]
    },
    {
      "cell_type": "code",
      "source": [
        "y_pred_Adaboost_balanced = adaboost_balanced.predict(X_test)\n",
        "print('Accuracy of the training set: ', adaboost_balanced.score(X_train, Y_train))\n",
        "print('Accuracy of the testing set: ', accuracy_score(Y_test, y_pred_Adaboost_balanced))"
      ],
      "metadata": {
        "colab": {
          "base_uri": "https://localhost:8080/"
        },
        "outputId": "127862c7-ea51-4a2c-c154-59ae86768b51",
        "id": "UYH21TgMc46r"
      },
      "execution_count": 74,
      "outputs": [
        {
          "output_type": "stream",
          "name": "stdout",
          "text": [
            "Accuracy of the training set:  0.9786324786324786\n",
            "Accuracy of the testing set:  0.8135593220338984\n"
          ]
        }
      ]
    },
    {
      "cell_type": "code",
      "source": [
        "print(classification_report(Y_test, y_pred_Adaboost_balanced))\n",
        "ConfusionMatrixDisplay.from_predictions(Y_test, y_pred_Adaboost_balanced, colorbar=False)"
      ],
      "metadata": {
        "colab": {
          "base_uri": "https://localhost:8080/",
          "height": 459
        },
        "outputId": "82cc08dd-b4c8-4c6d-e6bc-2c504ffe2896",
        "id": "DCCOXhZMc46s"
      },
      "execution_count": 75,
      "outputs": [
        {
          "output_type": "stream",
          "name": "stdout",
          "text": [
            "              precision    recall  f1-score   support\n",
            "\n",
            "           0       0.76      0.93      0.84        30\n",
            "           1       0.91      0.69      0.78        29\n",
            "\n",
            "    accuracy                           0.81        59\n",
            "   macro avg       0.83      0.81      0.81        59\n",
            "weighted avg       0.83      0.81      0.81        59\n",
            "\n"
          ]
        },
        {
          "output_type": "execute_result",
          "data": {
            "text/plain": [
              "<sklearn.metrics._plot.confusion_matrix.ConfusionMatrixDisplay at 0x7efbfe3b04c0>"
            ]
          },
          "metadata": {},
          "execution_count": 75
        },
        {
          "output_type": "display_data",
          "data": {
            "text/plain": [
              "<Figure size 432x288 with 1 Axes>"
            ],
            "image/png": "[encoded data removed]"
          },
          "metadata": {}
        }
      ]
    },
    {
      "cell_type": "markdown",
      "source": [
        "### XGBoost Classifier\n",
        "\n",
        "We limit the n_estimators and the learning_rate."
      ],
      "metadata": {
        "id": "qlVPSEM-c46t"
      }
    },
    {
      "cell_type": "code",
      "source": [
        "from xgboost import XGBClassifier\n",
        "xgb_classifier_balanced = XGBClassifier(random_state = 42, n_estimators = 50, learning_rate = 0.05)\n",
        "xgb_classifier_balanced.fit(X_train, Y_train)\n",
        "xgb_classifier_balanced.get_params()"
      ],
      "metadata": {
        "colab": {
          "base_uri": "https://localhost:8080/"
        },
        "outputId": "0f2866b6-1b03-40d2-b1e6-91c87f0f82ab",
        "id": "hQwn1aZpc46t"
      },
      "execution_count": 76,
      "outputs": [
        {
          "output_type": "execute_result",
          "data": {
            "text/plain": [
              "{'base_score': 0.5,\n",
              " 'booster': 'gbtree',\n",
              " 'colsample_bylevel': 1,\n",
              " 'colsample_bynode': 1,\n",
              " 'colsample_bytree': 1,\n",
              " 'gamma': 0,\n",
              " 'learning_rate': 0.05,\n",
              " 'max_delta_step': 0,\n",
              " 'max_depth': 3,\n",
              " 'min_child_weight': 1,\n",
              " 'missing': None,\n",
              " 'n_estimators': 50,\n",
              " 'n_jobs': 1,\n",
              " 'nthread': None,\n",
              " 'objective': 'binary:logistic',\n",
              " 'random_state': 42,\n",
              " 'reg_alpha': 0,\n",
              " 'reg_lambda': 1,\n",
              " 'scale_pos_weight': 1,\n",
              " 'seed': None,\n",
              " 'silent': None,\n",
              " 'subsample': 1,\n",
              " 'verbosity': 1}"
            ]
          },
          "metadata": {},
          "execution_count": 76
        }
      ]
    },
    {
      "cell_type": "code",
      "source": [
        "y_pred_XGB_balanced = xgb_classifier_balanced.predict(X_test)\n",
        "print('Accuracy of the training set: ', xgb_classifier_balanced.score(X_train, Y_train))\n",
        "print('Accuracy of the testing set: ', accuracy_score(Y_test, y_pred_XGB_balanced))"
      ],
      "metadata": {
        "colab": {
          "base_uri": "https://localhost:8080/"
        },
        "outputId": "45a6b748-7ad3-468c-a0af-a761c719b0ee",
        "id": "kjket3zRc46t"
      },
      "execution_count": 77,
      "outputs": [
        {
          "output_type": "stream",
          "name": "stdout",
          "text": [
            "Accuracy of the training set:  0.9358974358974359\n",
            "Accuracy of the testing set:  0.8305084745762712\n"
          ]
        }
      ]
    },
    {
      "cell_type": "code",
      "source": [
        "print(classification_report(Y_test, y_pred_XGB_balanced))\n",
        "ConfusionMatrixDisplay.from_predictions(Y_test, y_pred_XGB_balanced, colorbar=False)"
      ],
      "metadata": {
        "colab": {
          "base_uri": "https://localhost:8080/",
          "height": 459
        },
        "outputId": "9be0fc32-f6f5-495f-a50b-62e3f8689aa8",
        "id": "BJ8OkQORc46u"
      },
      "execution_count": 78,
      "outputs": [
        {
          "output_type": "stream",
          "name": "stdout",
          "text": [
            "              precision    recall  f1-score   support\n",
            "\n",
            "           0       0.76      0.97      0.85        30\n",
            "           1       0.95      0.69      0.80        29\n",
            "\n",
            "    accuracy                           0.83        59\n",
            "   macro avg       0.86      0.83      0.83        59\n",
            "weighted avg       0.86      0.83      0.83        59\n",
            "\n"
          ]
        },
        {
          "output_type": "execute_result",
          "data": {
            "text/plain": [
              "<sklearn.metrics._plot.confusion_matrix.ConfusionMatrixDisplay at 0x7efbfdeb3820>"
            ]
          },
          "metadata": {},
          "execution_count": 78
        },
        {
          "output_type": "display_data",
          "data": {
            "text/plain": [
              "<Figure size 432x288 with 1 Axes>"
            ],
            "image/png": "[encoded data removed]"
          },
          "metadata": {}
        }
      ]
    },
    {
      "cell_type": "markdown",
      "source": [
        "### Voting Classifier"
      ],
      "metadata": {
        "id": "8itM3oBxW4fp"
      }
    },
    {
      "cell_type": "code",
      "source": [
        "from sklearn.ensemble import VotingClassifier\n",
        "\n",
        "VC = VotingClassifier(estimators = [('kNN', kNN_classifier_balanced), ('NB', NB_classifier_balanced), ('SVM', SVM_classifier_balanced),\n",
        "                                    ('LR', LR_classifier_balanced), ('DT', DT_classifier_balanced), ('RF', RF_classifier_balanced), \n",
        "                                    ('Adaboost', adaboost_balanced), ('XGB', xgb_classifier_balanced)], voting = 'hard')\n",
        "VC.fit(X_train, Y_train)\n",
        "VC.get_params()"
      ],
      "metadata": {
        "colab": {
          "base_uri": "https://localhost:8080/"
        },
        "id": "F9Hg7i_IW44H",
        "outputId": "5e6b2b5d-2a25-45ee-e324-269471c83416"
      },
      "execution_count": 79,
      "outputs": [
        {
          "output_type": "execute_result",
          "data": {
            "text/plain": [
              "{'estimators': [('kNN', KNeighborsClassifier()),\n",
              "  ('NB', GaussianNB()),\n",
              "  ('SVM', SVC(random_state=42)),\n",
              "  ('LR', LogisticRegression(C=0.01, random_state=42)),\n",
              "  ('DT', DecisionTreeClassifier(max_depth=5)),\n",
              "  ('RF', RandomForestClassifier(max_depth=4)),\n",
              "  ('Adaboost', AdaBoostClassifier()),\n",
              "  ('XGB',\n",
              "   XGBClassifier(learning_rate=0.05, n_estimators=50, random_state=42))],\n",
              " 'flatten_transform': True,\n",
              " 'n_jobs': None,\n",
              " 'verbose': False,\n",
              " 'voting': 'hard',\n",
              " 'weights': None,\n",
              " 'kNN': KNeighborsClassifier(),\n",
              " 'NB': GaussianNB(),\n",
              " 'SVM': SVC(random_state=42),\n",
              " 'LR': LogisticRegression(C=0.01, random_state=42),\n",
              " 'DT': DecisionTreeClassifier(max_depth=5),\n",
              " 'RF': RandomForestClassifier(max_depth=4),\n",
              " 'Adaboost': AdaBoostClassifier(),\n",
              " 'XGB': XGBClassifier(learning_rate=0.05, n_estimators=50, random_state=42),\n",
              " 'kNN__algorithm': 'auto',\n",
              " 'kNN__leaf_size': 30,\n",
              " 'kNN__metric': 'minkowski',\n",
              " 'kNN__metric_params': None,\n",
              " 'kNN__n_jobs': None,\n",
              " 'kNN__n_neighbors': 5,\n",
              " 'kNN__p': 2,\n",
              " 'kNN__weights': 'uniform',\n",
              " 'NB__priors': None,\n",
              " 'NB__var_smoothing': 1e-09,\n",
              " 'SVM__C': 1.0,\n",
              " 'SVM__break_ties': False,\n",
              " 'SVM__cache_size': 200,\n",
              " 'SVM__class_weight': None,\n",
              " 'SVM__coef0': 0.0,\n",
              " 'SVM__decision_function_shape': 'ovr',\n",
              " 'SVM__degree': 3,\n",
              " 'SVM__gamma': 'scale',\n",
              " 'SVM__kernel': 'rbf',\n",
              " 'SVM__max_iter': -1,\n",
              " 'SVM__probability': False,\n",
              " 'SVM__random_state': 42,\n",
              " 'SVM__shrinking': True,\n",
              " 'SVM__tol': 0.001,\n",
              " 'SVM__verbose': False,\n",
              " 'LR__C': 0.01,\n",
              " 'LR__class_weight': None,\n",
              " 'LR__dual': False,\n",
              " 'LR__fit_intercept': True,\n",
              " 'LR__intercept_scaling': 1,\n",
              " 'LR__l1_ratio': None,\n",
              " 'LR__max_iter': 100,\n",
              " 'LR__multi_class': 'auto',\n",
              " 'LR__n_jobs': None,\n",
              " 'LR__penalty': 'l2',\n",
              " 'LR__random_state': 42,\n",
              " 'LR__solver': 'lbfgs',\n",
              " 'LR__tol': 0.0001,\n",
              " 'LR__verbose': 0,\n",
              " 'LR__warm_start': False,\n",
              " 'DT__ccp_alpha': 0.0,\n",
              " 'DT__class_weight': None,\n",
              " 'DT__criterion': 'gini',\n",
              " 'DT__max_depth': 5,\n",
              " 'DT__max_features': None,\n",
              " 'DT__max_leaf_nodes': None,\n",
              " 'DT__min_impurity_decrease': 0.0,\n",
              " 'DT__min_samples_leaf': 1,\n",
              " 'DT__min_samples_split': 2,\n",
              " 'DT__min_weight_fraction_leaf': 0.0,\n",
              " 'DT__random_state': None,\n",
              " 'DT__splitter': 'best',\n",
              " 'RF__bootstrap': True,\n",
              " 'RF__ccp_alpha': 0.0,\n",
              " 'RF__class_weight': None,\n",
              " 'RF__criterion': 'gini',\n",
              " 'RF__max_depth': 4,\n",
              " 'RF__max_features': 'auto',\n",
              " 'RF__max_leaf_nodes': None,\n",
              " 'RF__max_samples': None,\n",
              " 'RF__min_impurity_decrease': 0.0,\n",
              " 'RF__min_samples_leaf': 1,\n",
              " 'RF__min_samples_split': 2,\n",
              " 'RF__min_weight_fraction_leaf': 0.0,\n",
              " 'RF__n_estimators': 100,\n",
              " 'RF__n_jobs': None,\n",
              " 'RF__oob_score': False,\n",
              " 'RF__random_state': None,\n",
              " 'RF__verbose': 0,\n",
              " 'RF__warm_start': False,\n",
              " 'Adaboost__algorithm': 'SAMME.R',\n",
              " 'Adaboost__base_estimator': None,\n",
              " 'Adaboost__learning_rate': 1.0,\n",
              " 'Adaboost__n_estimators': 50,\n",
              " 'Adaboost__random_state': None,\n",
              " 'XGB__base_score': 0.5,\n",
              " 'XGB__booster': 'gbtree',\n",
              " 'XGB__colsample_bylevel': 1,\n",
              " 'XGB__colsample_bynode': 1,\n",
              " 'XGB__colsample_bytree': 1,\n",
              " 'XGB__gamma': 0,\n",
              " 'XGB__learning_rate': 0.05,\n",
              " 'XGB__max_delta_step': 0,\n",
              " 'XGB__max_depth': 3,\n",
              " 'XGB__min_child_weight': 1,\n",
              " 'XGB__missing': None,\n",
              " 'XGB__n_estimators': 50,\n",
              " 'XGB__n_jobs': 1,\n",
              " 'XGB__nthread': None,\n",
              " 'XGB__objective': 'binary:logistic',\n",
              " 'XGB__random_state': 42,\n",
              " 'XGB__reg_alpha': 0,\n",
              " 'XGB__reg_lambda': 1,\n",
              " 'XGB__scale_pos_weight': 1,\n",
              " 'XGB__seed': None,\n",
              " 'XGB__silent': None,\n",
              " 'XGB__subsample': 1,\n",
              " 'XGB__verbosity': 1}"
            ]
          },
          "metadata": {},
          "execution_count": 79
        }
      ]
    },
    {
      "cell_type": "code",
      "source": [
        "y_pred_VC_balanced = VC.predict(X_test)\n",
        "print('Accuracy of the training set: ', VC.score(X_train, Y_train))\n",
        "print('Accuracy of the testing set: ', accuracy_score(Y_test, y_pred_VC_balanced))"
      ],
      "metadata": {
        "colab": {
          "base_uri": "https://localhost:8080/"
        },
        "id": "-L-SwXKsYivM",
        "outputId": "56f0a2f1-c70a-433a-b40b-4b717853827f"
      },
      "execution_count": 80,
      "outputs": [
        {
          "output_type": "stream",
          "name": "stdout",
          "text": [
            "Accuracy of the training set:  0.9273504273504274\n",
            "Accuracy of the testing set:  0.8135593220338984\n"
          ]
        }
      ]
    },
    {
      "cell_type": "code",
      "source": [
        "print(classification_report(Y_test, y_pred_VC_balanced))\n",
        "ConfusionMatrixDisplay.from_predictions(Y_test, y_pred_VC_balanced, colorbar=False)"
      ],
      "metadata": {
        "colab": {
          "base_uri": "https://localhost:8080/",
          "height": 459
        },
        "id": "_JXp4ocoYinl",
        "outputId": "18373f23-6534-4766-c8c3-481fbbc5d90b"
      },
      "execution_count": 81,
      "outputs": [
        {
          "output_type": "stream",
          "name": "stdout",
          "text": [
            "              precision    recall  f1-score   support\n",
            "\n",
            "           0       0.76      0.93      0.84        30\n",
            "           1       0.91      0.69      0.78        29\n",
            "\n",
            "    accuracy                           0.81        59\n",
            "   macro avg       0.83      0.81      0.81        59\n",
            "weighted avg       0.83      0.81      0.81        59\n",
            "\n"
          ]
        },
        {
          "output_type": "execute_result",
          "data": {
            "text/plain": [
              "<sklearn.metrics._plot.confusion_matrix.ConfusionMatrixDisplay at 0x7efbfde6bdf0>"
            ]
          },
          "metadata": {},
          "execution_count": 81
        },
        {
          "output_type": "display_data",
          "data": {
            "text/plain": [
              "<Figure size 432x288 with 1 Axes>"
            ],
            "image/png": "[encoded data removed]"
          },
          "metadata": {}
        }
      ]
    },
    {
      "cell_type": "markdown",
      "source": [
        "### Accuracy"
      ],
      "metadata": {
        "id": "06X14wHfO7fP"
      }
    },
    {
      "cell_type": "code",
      "source": [
        "accuracy_df = pd.DataFrame()\n",
        "accuracy_df['Classifier'] = ['Decision Tree', 'kNN', 'Naive Bayes', 'SVC', 'Logistic Regression', 'Random Forest', 'Adaboost', \n",
        "                             'XGBoost', 'Voting Classifier']\n",
        "accuracy_df['Accuracy'] = [accuracy_score(Y_test, y_pred_DT_balanced), accuracy_score(Y_test, y_pred_kNN_balanced), \n",
        "                           accuracy_score(Y_test, y_pred_NB_balanced), accuracy_score(Y_test, y_pred_SVM_balanced), \n",
        "                           accuracy_score(Y_test, y_pred_LR_balanced), accuracy_score(Y_test, y_pred_RF_balanced),\n",
        "                           accuracy_score(Y_test, y_pred_Adaboost_balanced), accuracy_score(Y_test, y_pred_XGB_balanced), \n",
        "                           accuracy_score(Y_test, y_pred_VC_balanced)]\n",
        "\n",
        "sns.barplot(y = 'Accuracy', x = 'Classifier', data = accuracy_df, order = accuracy_df.sort_values('Accuracy', ascending = False).Classifier)\n",
        "plt.title('Accuracy of the Classifiers')\n",
        "plt.xticks(rotation=90)\n",
        "plt.show()"
      ],
      "metadata": {
        "colab": {
          "base_uri": "https://localhost:8080/",
          "height": 397
        },
        "id": "IydrVDkBFyFs",
        "outputId": "0f57095a-ea60-4086-ee92-4faf3ddf91ab"
      },
      "execution_count": 82,
      "outputs": [
        {
          "output_type": "display_data",
          "data": {
            "text/plain": [
              "<Figure size 432x288 with 1 Axes>"
            ],
            "image/png": "[encoded data removed]"
          },
          "metadata": {}
        }
      ]
    },
    {
      "cell_type": "markdown",
      "source": [
        "Adaboost, Voting Classifier and Decision Tree Classifier produces the highest accuracy at about 85% of the algorithms implemented upon balancing the target class. It is closely followed by XGBoost and kNN which also has an accuracy close to 80%."
      ],
      "metadata": {
        "id": "yrf6DF0EQTvb"
      }
    },
    {
      "cell_type": "markdown",
      "source": [
        "### ROC Curve"
      ],
      "metadata": {
        "id": "THmpDqB1Po8P"
      }
    },
    {
      "cell_type": "code",
      "source": [
        "plt.plot([0,1], [0,1], ':')\n",
        "fpr1, tpr1, thresholds = roc_curve(Y_test, y_pred_kNN_balanced)\n",
        "plt.plot(fpr1, tpr1, '--', label='kNN')\n",
        "fpr2, tpr2, thresholds = roc_curve(Y_test, y_pred_NB_balanced)\n",
        "plt.plot(fpr2, tpr2, '--', label='Naive Bayes')\n",
        "fpr3, tpr3, thresholds = roc_curve(Y_test, y_pred_SVM_balanced)\n",
        "plt.plot(fpr3, tpr3, '--', label='SVM Classifier')\n",
        "fpr4, tpr4, thresholds = roc_curve(Y_test, y_pred_LR_balanced)\n",
        "plt.plot(fpr4, tpr4, '--', label='Logistic Regression')\n",
        "fpr5, tpr5, thresholds = roc_curve(Y_test, y_pred_DT_balanced)\n",
        "plt.plot(fpr5, tpr5, '--', label='Decision Tree Classifier')\n",
        "fpr6, tpr6, thresholds = roc_curve(Y_test, y_pred_RF_balanced)\n",
        "plt.plot(fpr6, tpr6, '--', label='Random Forest Classifier')\n",
        "fpr7, tpr7, thresholds = roc_curve(Y_test, y_pred_Adaboost_balanced)\n",
        "plt.plot(fpr7, tpr7, '--', label='Adaboost Classifier')\n",
        "fpr8, tpr8, thresholds = roc_curve(Y_test, y_pred_XGB_balanced)\n",
        "plt.plot(fpr8, tpr8, '--', label='XGBoost Classifier')\n",
        "fpr9, tpr9, thresholds = roc_curve(Y_test, y_pred_VC_balanced)\n",
        "plt.plot(fpr9, tpr9, '--', label='Voting Classifier')\n",
        "plt.xlabel('False Positive Rate')\n",
        "plt.ylabel('True Positive Rate')\n",
        "plt.title('ROC Curve')\n",
        "plt.legend(bbox_to_anchor = (1.0, 0.5), loc = 'center left')\n",
        "plt.show()"
      ],
      "metadata": {
        "colab": {
          "base_uri": "https://localhost:8080/",
          "height": 301
        },
        "id": "bFChtNbqPfCw",
        "outputId": "41f56c6b-062a-4421-a86c-2bf80f5cf1f7"
      },
      "execution_count": 83,
      "outputs": [
        {
          "output_type": "display_data",
          "data": {
            "text/plain": [
              "<Figure size 432x288 with 1 Axes>"
            ],
            "image/png": "[encoded data removed]"
          },
          "metadata": {}
        }
      ]
    },
    {
      "cell_type": "markdown",
      "source": [
        "Adaboost Classifier and XGBoost Classifier easily stands out from the rest of the algorithms on the ROC Curve - they have nearly zero False Positive Rate! Considering the accuracy and the ROC Curve, We can choose Adaboost Classifier for the case where the target class is balanced."
      ],
      "metadata": {
        "id": "WtdDAPhqTR3e"
      }
    },
    {
      "cell_type": "markdown",
      "source": [
        "## Conclusion\n",
        "\n",
        "In healthcare, we have to take the False Positives and Negatives into account, since they can either have significant consequences on the society as a whole or on the patients themselves. Thus, accuracy alone cannot be used to judge a classifier's performance - we must also take into account the impact and the consequences that our model will have to face if we deploy it in the real-world. \n",
        "\n",
        "In this particular case, upon balancing the target class, Adaboost Classifier works best among the classifiers we have implemented. However, it is still not a perfect classifier and we have to investigate the performance of the classifier further on newer test data to understand its limits."
      ],
      "metadata": {
        "id": "qaiawAKVTh9a"
      }
    },
    {
      "cell_type": "markdown",
      "source": [
        "## Miscellaneous - LazyPredict Library\n",
        "\n",
        "You may need to install the LazyPredict Library if you have not already done so:\n",
        "\n",
        "\n",
        "```\n",
        "!pip install lazypredict\n",
        "```\n",
        "\n"
      ],
      "metadata": {
        "id": "r4W0TOiiUzaU"
      }
    },
    {
      "cell_type": "code",
      "source": [
        "import lazypredict\n",
        "from lazypredict.Supervised import LazyClassifier"
      ],
      "metadata": {
        "id": "LY6iJ-1HUyIy"
      },
      "execution_count": 84,
      "outputs": []
    },
    {
      "cell_type": "code",
      "source": [
        "lazypredict_classifier = LazyClassifier(verbose=0, ignore_warnings=True, custom_metric = None, random_state = 42)\n",
        "model, predictions = lazypredict_classifier.fit(X_train, X_test, Y_train, Y_test)\n",
        "model"
      ],
      "metadata": {
        "colab": {
          "base_uri": "https://localhost:8080/",
          "height": 945
        },
        "id": "9JDAknkXZzrR",
        "outputId": "4ccc3992-99c5-459f-c978-641b5ea08a94"
      },
      "execution_count": 85,
      "outputs": [
        {
          "output_type": "stream",
          "name": "stderr",
          "text": [
            "100%|██████████| 29/29 [00:02<00:00, 14.14it/s]\n"
          ]
        },
        {
          "output_type": "execute_result",
          "data": {
            "text/plain": [
              "                               Accuracy  Balanced Accuracy  ROC AUC  F1 Score  \\\n",
              "Model                                                                           \n",
              "QuadraticDiscriminantAnalysis      0.93               0.93     0.93      0.93   \n",
              "LinearDiscriminantAnalysis         0.90               0.90     0.90      0.90   \n",
              "ExtraTreeClassifier                0.85               0.85     0.85      0.85   \n",
              "ExtraTreesClassifier               0.85               0.85     0.85      0.84   \n",
              "LGBMClassifier                     0.85               0.84     0.84      0.84   \n",
              "XGBClassifier                      0.85               0.84     0.84      0.84   \n",
              "SVC                                0.85               0.84     0.84      0.84   \n",
              "RidgeClassifierCV                  0.83               0.83     0.83      0.83   \n",
              "NuSVC                              0.83               0.83     0.83      0.83   \n",
              "DecisionTreeClassifier             0.83               0.83     0.83      0.83   \n",
              "RandomForestClassifier             0.83               0.83     0.83      0.82   \n",
              "KNeighborsClassifier               0.83               0.83     0.83      0.82   \n",
              "LabelPropagation                   0.83               0.83     0.83      0.82   \n",
              "LabelSpreading                     0.83               0.83     0.83      0.82   \n",
              "BaggingClassifier                  0.83               0.83     0.83      0.82   \n",
              "AdaBoostClassifier                 0.81               0.81     0.81      0.81   \n",
              "LogisticRegression                 0.80               0.80     0.80      0.80   \n",
              "RidgeClassifier                    0.80               0.80     0.80      0.80   \n",
              "CalibratedClassifierCV             0.80               0.80     0.80      0.80   \n",
              "LinearSVC                          0.80               0.80     0.80      0.80   \n",
              "SGDClassifier                      0.66               0.66     0.66      0.66   \n",
              "PassiveAggressiveClassifier        0.66               0.66     0.66      0.66   \n",
              "GaussianNB                         0.64               0.65     0.65      0.63   \n",
              "Perceptron                         0.63               0.63     0.63      0.60   \n",
              "NearestCentroid                    0.61               0.61     0.61      0.61   \n",
              "BernoulliNB                        0.61               0.61     0.61      0.61   \n",
              "DummyClassifier                    0.49               0.50     0.50      0.32   \n",
              "\n",
              "                               Time Taken  \n",
              "Model                                      \n",
              "QuadraticDiscriminantAnalysis        0.02  \n",
              "LinearDiscriminantAnalysis           0.05  \n",
              "ExtraTreeClassifier                  0.02  \n",
              "ExtraTreesClassifier                 0.29  \n",
              "LGBMClassifier                       0.14  \n",
              "XGBClassifier                        0.06  \n",
              "SVC                                  0.05  \n",
              "RidgeClassifierCV                    0.04  \n",
              "NuSVC                                0.02  \n",
              "DecisionTreeClassifier               0.04  \n",
              "RandomForestClassifier               0.49  \n",
              "KNeighborsClassifier                 0.02  \n",
              "LabelPropagation                     0.02  \n",
              "LabelSpreading                       0.04  \n",
              "BaggingClassifier                    0.07  \n",
              "AdaBoostClassifier                   0.23  \n",
              "LogisticRegression                   0.03  \n",
              "RidgeClassifier                      0.06  \n",
              "CalibratedClassifierCV               0.12  \n",
              "LinearSVC                            0.05  \n",
              "SGDClassifier                        0.02  \n",
              "PassiveAggressiveClassifier          0.02  \n",
              "GaussianNB                           0.02  \n",
              "Perceptron                           0.02  \n",
              "NearestCentroid                      0.02  \n",
              "BernoulliNB                          0.02  \n",
              "DummyClassifier                      0.03  "
            ],
            "text/html": [
              "\n",
              "  <div id=\"df-ed8ba5be-213b-40e3-9324-de19c9cea56d\">\n",
              "    <div class=\"colab-df-container\">\n",
              "      <div>\n",
              "<style scoped>\n",
              "    .dataframe tbody tr th:only-of-type {\n",
              "        vertical-align: middle;\n",
              "    }\n",
              "\n",
              "    .dataframe tbody tr th {\n",
              "        vertical-align: top;\n",
              "    }\n",
              "\n",
              "    .dataframe thead th {\n",
              "        text-align: right;\n",
              "    }\n",
              "</style>\n",
              "<table border=\"1\" class=\"dataframe\">\n",
              "  <thead>\n",
              "    <tr style=\"text-align: right;\">\n",
              "      <th></th>\n",
              "      <th>Accuracy</th>\n",
              "      <th>Balanced Accuracy</th>\n",
              "      <th>ROC AUC</th>\n",
              "      <th>F1 Score</th>\n",
              "      <th>Time Taken</th>\n",
              "    </tr>\n",
              "    <tr>\n",
              "      <th>Model</th>\n",
              "      <th></th>\n",
              "      <th></th>\n",
              "      <th></th>\n",
              "      <th></th>\n",
              "      <th></th>\n",
              "    </tr>\n",
              "  </thead>\n",
              "  <tbody>\n",
              "    <tr>\n",
              "      <th>QuadraticDiscriminantAnalysis</th>\n",
              "      <td>0.93</td>\n",
              "      <td>0.93</td>\n",
              "      <td>0.93</td>\n",
              "      <td>0.93</td>\n",
              "      <td>0.02</td>\n",
              "    </tr>\n",
              "    <tr>\n",
              "      <th>LinearDiscriminantAnalysis</th>\n",
              "      <td>0.90</td>\n",
              "      <td>0.90</td>\n",
              "      <td>0.90</td>\n",
              "      <td>0.90</td>\n",
              "      <td>0.05</td>\n",
              "    </tr>\n",
              "    <tr>\n",
              "      <th>ExtraTreeClassifier</th>\n",
              "      <td>0.85</td>\n",
              "      <td>0.85</td>\n",
              "      <td>0.85</td>\n",
              "      <td>0.85</td>\n",
              "      <td>0.02</td>\n",
              "    </tr>\n",
              "    <tr>\n",
              "      <th>ExtraTreesClassifier</th>\n",
              "      <td>0.85</td>\n",
              "      <td>0.85</td>\n",
              "      <td>0.85</td>\n",
              "      <td>0.84</td>\n",
              "      <td>0.29</td>\n",
              "    </tr>\n",
              "    <tr>\n",
              "      <th>LGBMClassifier</th>\n",
              "      <td>0.85</td>\n",
              "      <td>0.84</td>\n",
              "      <td>0.84</td>\n",
              "      <td>0.84</td>\n",
              "      <td>0.14</td>\n",
              "    </tr>\n",
              "    <tr>\n",
              "      <th>XGBClassifier</th>\n",
              "      <td>0.85</td>\n",
              "      <td>0.84</td>\n",
              "      <td>0.84</td>\n",
              "      <td>0.84</td>\n",
              "      <td>0.06</td>\n",
              "    </tr>\n",
              "    <tr>\n",
              "      <th>SVC</th>\n",
              "      <td>0.85</td>\n",
              "      <td>0.84</td>\n",
              "      <td>0.84</td>\n",
              "      <td>0.84</td>\n",
              "      <td>0.05</td>\n",
              "    </tr>\n",
              "    <tr>\n",
              "      <th>RidgeClassifierCV</th>\n",
              "      <td>0.83</td>\n",
              "      <td>0.83</td>\n",
              "      <td>0.83</td>\n",
              "      <td>0.83</td>\n",
              "      <td>0.04</td>\n",
              "    </tr>\n",
              "    <tr>\n",
              "      <th>NuSVC</th>\n",
              "      <td>0.83</td>\n",
              "      <td>0.83</td>\n",
              "      <td>0.83</td>\n",
              "      <td>0.83</td>\n",
              "      <td>0.02</td>\n",
              "    </tr>\n",
              "    <tr>\n",
              "      <th>DecisionTreeClassifier</th>\n",
              "      <td>0.83</td>\n",
              "      <td>0.83</td>\n",
              "      <td>0.83</td>\n",
              "      <td>0.83</td>\n",
              "      <td>0.04</td>\n",
              "    </tr>\n",
              "    <tr>\n",
              "      <th>RandomForestClassifier</th>\n",
              "      <td>0.83</td>\n",
              "      <td>0.83</td>\n",
              "      <td>0.83</td>\n",
              "      <td>0.82</td>\n",
              "      <td>0.49</td>\n",
              "    </tr>\n",
              "    <tr>\n",
              "      <th>KNeighborsClassifier</th>\n",
              "      <td>0.83</td>\n",
              "      <td>0.83</td>\n",
              "      <td>0.83</td>\n",
              "      <td>0.82</td>\n",
              "      <td>0.02</td>\n",
              "    </tr>\n",
              "    <tr>\n",
              "      <th>LabelPropagation</th>\n",
              "      <td>0.83</td>\n",
              "      <td>0.83</td>\n",
              "      <td>0.83</td>\n",
              "      <td>0.82</td>\n",
              "      <td>0.02</td>\n",
              "    </tr>\n",
              "    <tr>\n",
              "      <th>LabelSpreading</th>\n",
              "      <td>0.83</td>\n",
              "      <td>0.83</td>\n",
              "      <td>0.83</td>\n",
              "      <td>0.82</td>\n",
              "      <td>0.04</td>\n",
              "    </tr>\n",
              "    <tr>\n",
              "      <th>BaggingClassifier</th>\n",
              "      <td>0.83</td>\n",
              "      <td>0.83</td>\n",
              "      <td>0.83</td>\n",
              "      <td>0.82</td>\n",
              "      <td>0.07</td>\n",
              "    </tr>\n",
              "    <tr>\n",
              "      <th>AdaBoostClassifier</th>\n",
              "      <td>0.81</td>\n",
              "      <td>0.81</td>\n",
              "      <td>0.81</td>\n",
              "      <td>0.81</td>\n",
              "      <td>0.23</td>\n",
              "    </tr>\n",
              "    <tr>\n",
              "      <th>LogisticRegression</th>\n",
              "      <td>0.80</td>\n",
              "      <td>0.80</td>\n",
              "      <td>0.80</td>\n",
              "      <td>0.80</td>\n",
              "      <td>0.03</td>\n",
              "    </tr>\n",
              "    <tr>\n",
              "      <th>RidgeClassifier</th>\n",
              "      <td>0.80</td>\n",
              "      <td>0.80</td>\n",
              "      <td>0.80</td>\n",
              "      <td>0.80</td>\n",
              "      <td>0.06</td>\n",
              "    </tr>\n",
              "    <tr>\n",
              "      <th>CalibratedClassifierCV</th>\n",
              "      <td>0.80</td>\n",
              "      <td>0.80</td>\n",
              "      <td>0.80</td>\n",
              "      <td>0.80</td>\n",
              "      <td>0.12</td>\n",
              "    </tr>\n",
              "    <tr>\n",
              "      <th>LinearSVC</th>\n",
              "      <td>0.80</td>\n",
              "      <td>0.80</td>\n",
              "      <td>0.80</td>\n",
              "      <td>0.80</td>\n",
              "      <td>0.05</td>\n",
              "    </tr>\n",
              "    <tr>\n",
              "      <th>SGDClassifier</th>\n",
              "      <td>0.66</td>\n",
              "      <td>0.66</td>\n",
              "      <td>0.66</td>\n",
              "      <td>0.66</td>\n",
              "      <td>0.02</td>\n",
              "    </tr>\n",
              "    <tr>\n",
              "      <th>PassiveAggressiveClassifier</th>\n",
              "      <td>0.66</td>\n",
              "      <td>0.66</td>\n",
              "      <td>0.66</td>\n",
              "      <td>0.66</td>\n",
              "      <td>0.02</td>\n",
              "    </tr>\n",
              "    <tr>\n",
              "      <th>GaussianNB</th>\n",
              "      <td>0.64</td>\n",
              "      <td>0.65</td>\n",
              "      <td>0.65</td>\n",
              "      <td>0.63</td>\n",
              "      <td>0.02</td>\n",
              "    </tr>\n",
              "    <tr>\n",
              "      <th>Perceptron</th>\n",
              "      <td>0.63</td>\n",
              "      <td>0.63</td>\n",
              "      <td>0.63</td>\n",
              "      <td>0.60</td>\n",
              "      <td>0.02</td>\n",
              "    </tr>\n",
              "    <tr>\n",
              "      <th>NearestCentroid</th>\n",
              "      <td>0.61</td>\n",
              "      <td>0.61</td>\n",
              "      <td>0.61</td>\n",
              "      <td>0.61</td>\n",
              "      <td>0.02</td>\n",
              "    </tr>\n",
              "    <tr>\n",
              "      <th>BernoulliNB</th>\n",
              "      <td>0.61</td>\n",
              "      <td>0.61</td>\n",
              "      <td>0.61</td>\n",
              "      <td>0.61</td>\n",
              "      <td>0.02</td>\n",
              "    </tr>\n",
              "    <tr>\n",
              "      <th>DummyClassifier</th>\n",
              "      <td>0.49</td>\n",
              "      <td>0.50</td>\n",
              "      <td>0.50</td>\n",
              "      <td>0.32</td>\n",
              "      <td>0.03</td>\n",
              "    </tr>\n",
              "  </tbody>\n",
              "</table>\n",
              "</div>\n",
              "      <button class=\"colab-df-convert\" onclick=\"convertToInteractive('df-ed8ba5be-213b-40e3-9324-de19c9cea56d')\"\n",
              "              title=\"Convert this dataframe to an interactive table.\"\n",
              "              style=\"display:none;\">\n",
              "        \n",
              "  <svg xmlns=\"http://www.w3.org/2000/svg\" height=\"24px\"viewBox=\"0 0 24 24\"\n",
              "       width=\"24px\">\n",
              "    <path d=\"M0 0h24v24H0V0z\" fill=\"none\"/>\n",
              "    <path d=\"M18.56 5.44l.94 2.06.94-2.06 2.06-.94-2.06-.94-.94-2.06-.94 2.06-2.06.94zm-11 1L8.5 8.5l.94-2.06 2.06-.94-2.06-.94L8.5 2.5l-.94 2.06-2.06.94zm10 10l.94 2.06.94-2.06 2.06-.94-2.06-.94-.94-2.06-.94 2.06-2.06.94z\"/><path d=\"M17.41 7.96l-1.37-1.37c-.4-.4-.92-.59-1.43-.59-.52 0-1.04.2-1.43.59L10.3 9.45l-7.72 7.72c-.78.78-.78 2.05 0 2.83L4 21.41c.39.39.9.59 1.41.59.51 0 1.02-.2 1.41-.59l7.78-7.78 2.81-2.81c.8-.78.8-2.07 0-2.86zM5.41 20L4 18.59l7.72-7.72 1.47 1.35L5.41 20z\"/>\n",
              "  </svg>\n",
              "      </button>\n",
              "      \n",
              "  <style>\n",
              "    .colab-df-container {\n",
              "      display:flex;\n",
              "      flex-wrap:wrap;\n",
              "      gap: 12px;\n",
              "    }\n",
              "\n",
              "    .colab-df-convert {\n",
              "      background-color: #E8F0FE;\n",
              "      border: none;\n",
              "      border-radius: 50%;\n",
              "      cursor: pointer;\n",
              "      display: none;\n",
              "      fill: #1967D2;\n",
              "      height: 32px;\n",
              "      padding: 0 0 0 0;\n",
              "      width: 32px;\n",
              "    }\n",
              "\n",
              "    .colab-df-convert:hover {\n",
              "      background-color: #E2EBFA;\n",
              "      box-shadow: 0px 1px 2px rgba(60, 64, 67, 0.3), 0px 1px 3px 1px rgba(60, 64, 67, 0.15);\n",
              "      fill: #174EA6;\n",
              "    }\n",
              "\n",
              "    [theme=dark] .colab-df-convert {\n",
              "      background-color: #3B4455;\n",
              "      fill: #D2E3FC;\n",
              "    }\n",
              "\n",
              "    [theme=dark] .colab-df-convert:hover {\n",
              "      background-color: #434B5C;\n",
              "      box-shadow: 0px 1px 3px 1px rgba(0, 0, 0, 0.15);\n",
              "      filter: drop-shadow(0px 1px 2px rgba(0, 0, 0, 0.3));\n",
              "      fill: #FFFFFF;\n",
              "    }\n",
              "  </style>\n",
              "\n",
              "      <script>\n",
              "        const buttonEl =\n",
              "          document.querySelector('#df-ed8ba5be-213b-40e3-9324-de19c9cea56d button.colab-df-convert');\n",
              "        buttonEl.style.display =\n",
              "          google.colab.kernel.accessAllowed ? 'block' : 'none';\n",
              "\n",
              "        async function convertToInteractive(key) {\n",
              "          const element = document.querySelector('#df-ed8ba5be-213b-40e3-9324-de19c9cea56d');\n",
              "          const dataTable =\n",
              "            await google.colab.kernel.invokeFunction('convertToInteractive',\n",
              "                                                     [key], {});\n",
              "          if (!dataTable) return;\n",
              "\n",
              "          const docLinkHtml = 'Like what you see? Visit the ' +\n",
              "            '<a target=\"_blank\" href=https://colab.research.google.com/notebooks/data_table.ipynb>data table notebook</a>'\n",
              "            + ' to learn more about interactive tables.';\n",
              "          element.innerHTML = '';\n",
              "          dataTable['output_type'] = 'display_data';\n",
              "          await google.colab.output.renderOutput(dataTable, element);\n",
              "          const docLink = document.createElement('div');\n",
              "          docLink.innerHTML = docLinkHtml;\n",
              "          element.appendChild(docLink);\n",
              "        }\n",
              "      </script>\n",
              "    </div>\n",
              "  </div>\n",
              "  "
            ]
          },
          "metadata": {},
          "execution_count": 85
        }
      ]
    },
    {
      "cell_type": "markdown",
      "source": [
        "We see that Adaboost Classifier is amongst the top five, with about 86% accuracy, which is in line with our Manual implementation of the algorithm."
      ],
      "metadata": {
        "id": "hrm0exhKbN8h"
      }
    },
    {
      "cell_type": "markdown",
      "source": [
        "## Note\n",
        "\n",
        "There are cases where the accuracy of the training set is lower than that of the testing set. It does not necessarily mean overfitting; given the size of the dataset, it may be by chance. \n",
        "\n",
        "Thus, it is advisable to run the train/test split without the random seed, should the situation occur."
      ],
      "metadata": {
        "id": "iHsl17_SH-VL"
      }
    }
  ]
}