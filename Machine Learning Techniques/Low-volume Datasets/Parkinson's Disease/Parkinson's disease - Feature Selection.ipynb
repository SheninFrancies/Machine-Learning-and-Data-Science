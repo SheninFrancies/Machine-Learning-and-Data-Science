{
  "nbformat": 4,
  "nbformat_minor": 0,
  "metadata": {
    "colab": {
      "provenance": [],
      "toc_visible": true
    },
    "kernelspec": {
      "name": "python3",
      "display_name": "Python 3"
    },
    "language_info": {
      "name": "python"
    }
  },
  "cells": [
    {
      "cell_type": "markdown",
      "source": [
        "# Parkinson's Disease\n",
        "\n",
        "\n",
        "---\n",
        "\n",
        "\n",
        "**This project is part of the Udemy course \"Machine Learning in Healthcare\"**\n",
        "\n",
        "\n",
        "---\n",
        "\n",
        "\n",
        "The dataset can be found [here](https://www.kaggle.com/datasets/debasisdotcom/parkinson-disease-detection). \n",
        "\n",
        "The dataset is very small, with only about 195 entries, and consists of the following columns:\n",
        "1. name - ASCII subject name and recording number.\n",
        "2. MDVP:Fo(Hz) - Average vocal fundamental frequency.\n",
        "3. MDVP:Fhi(Hz) - Maximum vocal fundamental frequency.\n",
        "4. MDVP:Flo(Hz) - Minimum vocal fundamental frequency.\n",
        "5. MDVP:Jitter(%), MDVP:Jitter(Abs), MDVP:RAP, MDVP:PPQ, Jitter:DDP - Several\n",
        "measures of variation in fundamental frequency.\n",
        "6. MDVP:Shimmer, MDVP:Shimmer(dB), Shimmer:APQ3, Shimmer:APQ5, MDVP:APQ, Shimmer:DDA - Several measures of variation in amplitude.\n",
        "7. NHR, HNR - Two measures of ratio of noise to tonal components in the voice.\n",
        "8. status: Health status of the subject (one) - Parkinson's, (zero) - Healthy.\n",
        "9. RPDE, D2 - Two nonlinear dynamical complexity measures.\n",
        "10. DFA - Signal fractal scaling exponent.\n",
        "11. spread1, spread2, PPE - Three nonlinear measures of fundamental frequency variation.\n",
        "\n",
        "Parkinson's disease is a chronic neurodegenerative disease that affects the neurons in the brain that contain dopamine and does not have cure. It affects the patients' movements and causes stiffness and tremor.\n",
        "\n",
        "We would like to predict whether the patient has Parkinson's disease or not, given the various factors."
      ],
      "metadata": {
        "id": "yZkhb0IBaMZ-"
      }
    },
    {
      "cell_type": "code",
      "execution_count": 1,
      "metadata": {
        "id": "1kieKVrFaDCL"
      },
      "outputs": [],
      "source": [
        "import pandas as pd\n",
        "import numpy as np\n",
        "import matplotlib.pyplot as plt\n",
        "import seaborn as sns\n",
        "sns.set()"
      ]
    },
    {
      "cell_type": "code",
      "source": [
        "data = pd.read_csv(r\"/content/drive/MyDrive/Colab Notebooks/Machine Learning/Data Training/Parkinson's Disease Prediction Dataset/Parkinson_disease.csv\")\n",
        "data.head()"
      ],
      "metadata": {
        "colab": {
          "base_uri": "https://localhost:8080/",
          "height": 299
        },
        "id": "ZJU3CEDutPCh",
        "outputId": "cf919c5f-1cbc-4477-8ac6-b3c27df7f564"
      },
      "execution_count": 2,
      "outputs": [
        {
          "output_type": "execute_result",
          "data": {
            "text/plain": [
              "             name  MDVP:Fo(Hz)  MDVP:Fhi(Hz)  MDVP:Flo(Hz)  MDVP:Jitter(%)  \\\n",
              "0  phon_R01_S01_1      119.992       157.302        74.997         0.00784   \n",
              "1  phon_R01_S01_2      122.400       148.650       113.819         0.00968   \n",
              "2  phon_R01_S01_3      116.682       131.111       111.555         0.01050   \n",
              "3  phon_R01_S01_4      116.676       137.871       111.366         0.00997   \n",
              "4  phon_R01_S01_5      116.014       141.781       110.655         0.01284   \n",
              "\n",
              "   MDVP:Jitter(Abs)  MDVP:RAP  MDVP:PPQ  Jitter:DDP  MDVP:Shimmer  ...  \\\n",
              "0           0.00007   0.00370   0.00554     0.01109       0.04374  ...   \n",
              "1           0.00008   0.00465   0.00696     0.01394       0.06134  ...   \n",
              "2           0.00009   0.00544   0.00781     0.01633       0.05233  ...   \n",
              "3           0.00009   0.00502   0.00698     0.01505       0.05492  ...   \n",
              "4           0.00011   0.00655   0.00908     0.01966       0.06425  ...   \n",
              "\n",
              "   Shimmer:DDA      NHR     HNR  status      RPDE       DFA   spread1  \\\n",
              "0      0.06545  0.02211  21.033       1  0.414783  0.815285 -4.813031   \n",
              "1      0.09403  0.01929  19.085       1  0.458359  0.819521 -4.075192   \n",
              "2      0.08270  0.01309  20.651       1  0.429895  0.825288 -4.443179   \n",
              "3      0.08771  0.01353  20.644       1  0.434969  0.819235 -4.117501   \n",
              "4      0.10470  0.01767  19.649       1  0.417356  0.823484 -3.747787   \n",
              "\n",
              "    spread2        D2       PPE  \n",
              "0  0.266482  2.301442  0.284654  \n",
              "1  0.335590  2.486855  0.368674  \n",
              "2  0.311173  2.342259  0.332634  \n",
              "3  0.334147  2.405554  0.368975  \n",
              "4  0.234513  2.332180  0.410335  \n",
              "\n",
              "[5 rows x 24 columns]"
            ],
            "text/html": [
              "\n",
              "  <div id=\"df-4991b0a1-2a34-4fe9-ad96-fcabc8860da1\">\n",
              "    <div class=\"colab-df-container\">\n",
              "      <div>\n",
              "<style scoped>\n",
              "    .dataframe tbody tr th:only-of-type {\n",
              "        vertical-align: middle;\n",
              "    }\n",
              "\n",
              "    .dataframe tbody tr th {\n",
              "        vertical-align: top;\n",
              "    }\n",
              "\n",
              "    .dataframe thead th {\n",
              "        text-align: right;\n",
              "    }\n",
              "</style>\n",
              "<table border=\"1\" class=\"dataframe\">\n",
              "  <thead>\n",
              "    <tr style=\"text-align: right;\">\n",
              "      <th></th>\n",
              "      <th>name</th>\n",
              "      <th>MDVP:Fo(Hz)</th>\n",
              "      <th>MDVP:Fhi(Hz)</th>\n",
              "      <th>MDVP:Flo(Hz)</th>\n",
              "      <th>MDVP:Jitter(%)</th>\n",
              "      <th>MDVP:Jitter(Abs)</th>\n",
              "      <th>MDVP:RAP</th>\n",
              "      <th>MDVP:PPQ</th>\n",
              "      <th>Jitter:DDP</th>\n",
              "      <th>MDVP:Shimmer</th>\n",
              "      <th>...</th>\n",
              "      <th>Shimmer:DDA</th>\n",
              "      <th>NHR</th>\n",
              "      <th>HNR</th>\n",
              "      <th>status</th>\n",
              "      <th>RPDE</th>\n",
              "      <th>DFA</th>\n",
              "      <th>spread1</th>\n",
              "      <th>spread2</th>\n",
              "      <th>D2</th>\n",
              "      <th>PPE</th>\n",
              "    </tr>\n",
              "  </thead>\n",
              "  <tbody>\n",
              "    <tr>\n",
              "      <th>0</th>\n",
              "      <td>phon_R01_S01_1</td>\n",
              "      <td>119.992</td>\n",
              "      <td>157.302</td>\n",
              "      <td>74.997</td>\n",
              "      <td>0.00784</td>\n",
              "      <td>0.00007</td>\n",
              "      <td>0.00370</td>\n",
              "      <td>0.00554</td>\n",
              "      <td>0.01109</td>\n",
              "      <td>0.04374</td>\n",
              "      <td>...</td>\n",
              "      <td>0.06545</td>\n",
              "      <td>0.02211</td>\n",
              "      <td>21.033</td>\n",
              "      <td>1</td>\n",
              "      <td>0.414783</td>\n",
              "      <td>0.815285</td>\n",
              "      <td>-4.813031</td>\n",
              "      <td>0.266482</td>\n",
              "      <td>2.301442</td>\n",
              "      <td>0.284654</td>\n",
              "    </tr>\n",
              "    <tr>\n",
              "      <th>1</th>\n",
              "      <td>phon_R01_S01_2</td>\n",
              "      <td>122.400</td>\n",
              "      <td>148.650</td>\n",
              "      <td>113.819</td>\n",
              "      <td>0.00968</td>\n",
              "      <td>0.00008</td>\n",
              "      <td>0.00465</td>\n",
              "      <td>0.00696</td>\n",
              "      <td>0.01394</td>\n",
              "      <td>0.06134</td>\n",
              "      <td>...</td>\n",
              "      <td>0.09403</td>\n",
              "      <td>0.01929</td>\n",
              "      <td>19.085</td>\n",
              "      <td>1</td>\n",
              "      <td>0.458359</td>\n",
              "      <td>0.819521</td>\n",
              "      <td>-4.075192</td>\n",
              "      <td>0.335590</td>\n",
              "      <td>2.486855</td>\n",
              "      <td>0.368674</td>\n",
              "    </tr>\n",
              "    <tr>\n",
              "      <th>2</th>\n",
              "      <td>phon_R01_S01_3</td>\n",
              "      <td>116.682</td>\n",
              "      <td>131.111</td>\n",
              "      <td>111.555</td>\n",
              "      <td>0.01050</td>\n",
              "      <td>0.00009</td>\n",
              "      <td>0.00544</td>\n",
              "      <td>0.00781</td>\n",
              "      <td>0.01633</td>\n",
              "      <td>0.05233</td>\n",
              "      <td>...</td>\n",
              "      <td>0.08270</td>\n",
              "      <td>0.01309</td>\n",
              "      <td>20.651</td>\n",
              "      <td>1</td>\n",
              "      <td>0.429895</td>\n",
              "      <td>0.825288</td>\n",
              "      <td>-4.443179</td>\n",
              "      <td>0.311173</td>\n",
              "      <td>2.342259</td>\n",
              "      <td>0.332634</td>\n",
              "    </tr>\n",
              "    <tr>\n",
              "      <th>3</th>\n",
              "      <td>phon_R01_S01_4</td>\n",
              "      <td>116.676</td>\n",
              "      <td>137.871</td>\n",
              "      <td>111.366</td>\n",
              "      <td>0.00997</td>\n",
              "      <td>0.00009</td>\n",
              "      <td>0.00502</td>\n",
              "      <td>0.00698</td>\n",
              "      <td>0.01505</td>\n",
              "      <td>0.05492</td>\n",
              "      <td>...</td>\n",
              "      <td>0.08771</td>\n",
              "      <td>0.01353</td>\n",
              "      <td>20.644</td>\n",
              "      <td>1</td>\n",
              "      <td>0.434969</td>\n",
              "      <td>0.819235</td>\n",
              "      <td>-4.117501</td>\n",
              "      <td>0.334147</td>\n",
              "      <td>2.405554</td>\n",
              "      <td>0.368975</td>\n",
              "    </tr>\n",
              "    <tr>\n",
              "      <th>4</th>\n",
              "      <td>phon_R01_S01_5</td>\n",
              "      <td>116.014</td>\n",
              "      <td>141.781</td>\n",
              "      <td>110.655</td>\n",
              "      <td>0.01284</td>\n",
              "      <td>0.00011</td>\n",
              "      <td>0.00655</td>\n",
              "      <td>0.00908</td>\n",
              "      <td>0.01966</td>\n",
              "      <td>0.06425</td>\n",
              "      <td>...</td>\n",
              "      <td>0.10470</td>\n",
              "      <td>0.01767</td>\n",
              "      <td>19.649</td>\n",
              "      <td>1</td>\n",
              "      <td>0.417356</td>\n",
              "      <td>0.823484</td>\n",
              "      <td>-3.747787</td>\n",
              "      <td>0.234513</td>\n",
              "      <td>2.332180</td>\n",
              "      <td>0.410335</td>\n",
              "    </tr>\n",
              "  </tbody>\n",
              "</table>\n",
              "<p>5 rows × 24 columns</p>\n",
              "</div>\n",
              "      <button class=\"colab-df-convert\" onclick=\"convertToInteractive('df-4991b0a1-2a34-4fe9-ad96-fcabc8860da1')\"\n",
              "              title=\"Convert this dataframe to an interactive table.\"\n",
              "              style=\"display:none;\">\n",
              "        \n",
              "  <svg xmlns=\"http://www.w3.org/2000/svg\" height=\"24px\"viewBox=\"0 0 24 24\"\n",
              "       width=\"24px\">\n",
              "    <path d=\"M0 0h24v24H0V0z\" fill=\"none\"/>\n",
              "    <path d=\"M18.56 5.44l.94 2.06.94-2.06 2.06-.94-2.06-.94-.94-2.06-.94 2.06-2.06.94zm-11 1L8.5 8.5l.94-2.06 2.06-.94-2.06-.94L8.5 2.5l-.94 2.06-2.06.94zm10 10l.94 2.06.94-2.06 2.06-.94-2.06-.94-.94-2.06-.94 2.06-2.06.94z\"/><path d=\"M17.41 7.96l-1.37-1.37c-.4-.4-.92-.59-1.43-.59-.52 0-1.04.2-1.43.59L10.3 9.45l-7.72 7.72c-.78.78-.78 2.05 0 2.83L4 21.41c.39.39.9.59 1.41.59.51 0 1.02-.2 1.41-.59l7.78-7.78 2.81-2.81c.8-.78.8-2.07 0-2.86zM5.41 20L4 18.59l7.72-7.72 1.47 1.35L5.41 20z\"/>\n",
              "  </svg>\n",
              "      </button>\n",
              "      \n",
              "  <style>\n",
              "    .colab-df-container {\n",
              "      display:flex;\n",
              "      flex-wrap:wrap;\n",
              "      gap: 12px;\n",
              "    }\n",
              "\n",
              "    .colab-df-convert {\n",
              "      background-color: #E8F0FE;\n",
              "      border: none;\n",
              "      border-radius: 50%;\n",
              "      cursor: pointer;\n",
              "      display: none;\n",
              "      fill: #1967D2;\n",
              "      height: 32px;\n",
              "      padding: 0 0 0 0;\n",
              "      width: 32px;\n",
              "    }\n",
              "\n",
              "    .colab-df-convert:hover {\n",
              "      background-color: #E2EBFA;\n",
              "      box-shadow: 0px 1px 2px rgba(60, 64, 67, 0.3), 0px 1px 3px 1px rgba(60, 64, 67, 0.15);\n",
              "      fill: #174EA6;\n",
              "    }\n",
              "\n",
              "    [theme=dark] .colab-df-convert {\n",
              "      background-color: #3B4455;\n",
              "      fill: #D2E3FC;\n",
              "    }\n",
              "\n",
              "    [theme=dark] .colab-df-convert:hover {\n",
              "      background-color: #434B5C;\n",
              "      box-shadow: 0px 1px 3px 1px rgba(0, 0, 0, 0.15);\n",
              "      filter: drop-shadow(0px 1px 2px rgba(0, 0, 0, 0.3));\n",
              "      fill: #FFFFFF;\n",
              "    }\n",
              "  </style>\n",
              "\n",
              "      <script>\n",
              "        const buttonEl =\n",
              "          document.querySelector('#df-4991b0a1-2a34-4fe9-ad96-fcabc8860da1 button.colab-df-convert');\n",
              "        buttonEl.style.display =\n",
              "          google.colab.kernel.accessAllowed ? 'block' : 'none';\n",
              "\n",
              "        async function convertToInteractive(key) {\n",
              "          const element = document.querySelector('#df-4991b0a1-2a34-4fe9-ad96-fcabc8860da1');\n",
              "          const dataTable =\n",
              "            await google.colab.kernel.invokeFunction('convertToInteractive',\n",
              "                                                     [key], {});\n",
              "          if (!dataTable) return;\n",
              "\n",
              "          const docLinkHtml = 'Like what you see? Visit the ' +\n",
              "            '<a target=\"_blank\" href=https://colab.research.google.com/notebooks/data_table.ipynb>data table notebook</a>'\n",
              "            + ' to learn more about interactive tables.';\n",
              "          element.innerHTML = '';\n",
              "          dataTable['output_type'] = 'display_data';\n",
              "          await google.colab.output.renderOutput(dataTable, element);\n",
              "          const docLink = document.createElement('div');\n",
              "          docLink.innerHTML = docLinkHtml;\n",
              "          element.appendChild(docLink);\n",
              "        }\n",
              "      </script>\n",
              "    </div>\n",
              "  </div>\n",
              "  "
            ]
          },
          "metadata": {},
          "execution_count": 2
        }
      ]
    },
    {
      "cell_type": "markdown",
      "source": [
        "We drop the name:"
      ],
      "metadata": {
        "id": "CQplsSIhxzil"
      }
    },
    {
      "cell_type": "code",
      "source": [
        "data.drop('name', axis = 1, inplace = True)\n",
        "data.info()"
      ],
      "metadata": {
        "colab": {
          "base_uri": "https://localhost:8080/"
        },
        "id": "Qpoz_Zvnxs6E",
        "outputId": "6aa9d882-7ce3-4ac5-bfdb-5e0f417e1e8a"
      },
      "execution_count": 3,
      "outputs": [
        {
          "output_type": "stream",
          "name": "stdout",
          "text": [
            "<class 'pandas.core.frame.DataFrame'>\n",
            "RangeIndex: 195 entries, 0 to 194\n",
            "Data columns (total 23 columns):\n",
            " #   Column            Non-Null Count  Dtype  \n",
            "---  ------            --------------  -----  \n",
            " 0   MDVP:Fo(Hz)       195 non-null    float64\n",
            " 1   MDVP:Fhi(Hz)      195 non-null    float64\n",
            " 2   MDVP:Flo(Hz)      195 non-null    float64\n",
            " 3   MDVP:Jitter(%)    195 non-null    float64\n",
            " 4   MDVP:Jitter(Abs)  195 non-null    float64\n",
            " 5   MDVP:RAP          195 non-null    float64\n",
            " 6   MDVP:PPQ          195 non-null    float64\n",
            " 7   Jitter:DDP        195 non-null    float64\n",
            " 8   MDVP:Shimmer      195 non-null    float64\n",
            " 9   MDVP:Shimmer(dB)  195 non-null    float64\n",
            " 10  Shimmer:APQ3      195 non-null    float64\n",
            " 11  Shimmer:APQ5      195 non-null    float64\n",
            " 12  MDVP:APQ          195 non-null    float64\n",
            " 13  Shimmer:DDA       195 non-null    float64\n",
            " 14  NHR               195 non-null    float64\n",
            " 15  HNR               195 non-null    float64\n",
            " 16  status            195 non-null    int64  \n",
            " 17  RPDE              195 non-null    float64\n",
            " 18  DFA               195 non-null    float64\n",
            " 19  spread1           195 non-null    float64\n",
            " 20  spread2           195 non-null    float64\n",
            " 21  D2                195 non-null    float64\n",
            " 22  PPE               195 non-null    float64\n",
            "dtypes: float64(22), int64(1)\n",
            "memory usage: 35.2 KB\n"
          ]
        }
      ]
    },
    {
      "cell_type": "markdown",
      "source": [
        "There are no null values.\n",
        "\n",
        "Check the target variable, status:"
      ],
      "metadata": {
        "id": "wjjbziiAyGOO"
      }
    },
    {
      "cell_type": "code",
      "source": [
        "sns.countplot(x = 'status', data = data)\n",
        "print('Target variable count: ')\n",
        "print(data['status'].value_counts())"
      ],
      "metadata": {
        "colab": {
          "base_uri": "https://localhost:8080/",
          "height": 354
        },
        "id": "jO_t7DqiyDJx",
        "outputId": "2bc5c1e2-ce07-4efa-fdaf-fdc71436bda3"
      },
      "execution_count": 4,
      "outputs": [
        {
          "output_type": "stream",
          "name": "stdout",
          "text": [
            "Target variable count: \n",
            "1    147\n",
            "0     48\n",
            "Name: status, dtype: int64\n"
          ]
        },
        {
          "output_type": "display_data",
          "data": {
            "text/plain": [
              "<Figure size 432x288 with 1 Axes>"
            ],
            "image/png": "[encoded data removed]"
          },
          "metadata": {}
        }
      ]
    },
    {
      "cell_type": "markdown",
      "source": [
        "It seems that there are a lot of candidates who suffer from Parkinson's disease rather than Healthy candidates. Thus, any predictions could be skewed towards detecting patients with Parkinson's. This could infact lead to a large number of False Negatives.\n",
        "\n",
        "Let us find the correlation:"
      ],
      "metadata": {
        "id": "AS7SlfGI3lvA"
      }
    },
    {
      "cell_type": "code",
      "source": [
        "plt.figure(figsize = (20, 20))\n",
        "sns.heatmap(data.corr(), cmap = 'viridis', annot = True)"
      ],
      "metadata": {
        "colab": {
          "base_uri": "https://localhost:8080/",
          "height": 1000
        },
        "id": "mhg-B8oF2vhn",
        "outputId": "801727f8-80e7-469a-ff8e-287da14ab2de"
      },
      "execution_count": 5,
      "outputs": [
        {
          "output_type": "execute_result",
          "data": {
            "text/plain": [
              "<matplotlib.axes._subplots.AxesSubplot at 0x7f8c4aa32bb0>"
            ]
          },
          "metadata": {},
          "execution_count": 5
        },
        {
          "output_type": "display_data",
          "data": {
            "text/plain": [
              "<Figure size 1440x1440 with 2 Axes>"
            ],
            "image/png": "[encoded data removed]"
          },
          "metadata": {}
        }
      ]
    },
    {
      "cell_type": "markdown",
      "source": [
        "We see that there are a lot of correlations between the different MDVP variables as well as between spread1 and PPE."
      ],
      "metadata": {
        "id": "hXmJSYGQ5Cph"
      }
    },
    {
      "cell_type": "markdown",
      "source": [
        "## Split the Features and Targets"
      ],
      "metadata": {
        "id": "FOfslcF05Sjq"
      }
    },
    {
      "cell_type": "code",
      "source": [
        "x_data = data.drop('status', axis = 1)\n",
        "print('Shape of Features: ', x_data.shape)\n",
        "y_data = data['status']\n",
        "print('Shape of the target: ', y_data.shape)"
      ],
      "metadata": {
        "colab": {
          "base_uri": "https://localhost:8080/"
        },
        "id": "D2frj4rA4lJU",
        "outputId": "6c8058a6-247b-405b-f219-62970ee761cc"
      },
      "execution_count": 6,
      "outputs": [
        {
          "output_type": "stream",
          "name": "stdout",
          "text": [
            "Shape of Features:  (195, 22)\n",
            "Shape of the target:  (195,)\n"
          ]
        }
      ]
    },
    {
      "cell_type": "markdown",
      "source": [
        "## Normalization"
      ],
      "metadata": {
        "id": "1kfmPvU15viD"
      }
    },
    {
      "cell_type": "code",
      "source": [
        "from sklearn.preprocessing import StandardScaler\n",
        "scaler = StandardScaler()\n",
        "scaler.fit(x_data)\n",
        "x = scaler.transform(x_data)\n",
        "x = pd.DataFrame(x, columns = x_data.columns)\n",
        "x.info()"
      ],
      "metadata": {
        "id": "_sJ1nnOB5j7W",
        "colab": {
          "base_uri": "https://localhost:8080/"
        },
        "outputId": "188acc4d-6323-460f-ccc4-f66cf31ed979"
      },
      "execution_count": 7,
      "outputs": [
        {
          "output_type": "stream",
          "name": "stdout",
          "text": [
            "<class 'pandas.core.frame.DataFrame'>\n",
            "RangeIndex: 195 entries, 0 to 194\n",
            "Data columns (total 22 columns):\n",
            " #   Column            Non-Null Count  Dtype  \n",
            "---  ------            --------------  -----  \n",
            " 0   MDVP:Fo(Hz)       195 non-null    float64\n",
            " 1   MDVP:Fhi(Hz)      195 non-null    float64\n",
            " 2   MDVP:Flo(Hz)      195 non-null    float64\n",
            " 3   MDVP:Jitter(%)    195 non-null    float64\n",
            " 4   MDVP:Jitter(Abs)  195 non-null    float64\n",
            " 5   MDVP:RAP          195 non-null    float64\n",
            " 6   MDVP:PPQ          195 non-null    float64\n",
            " 7   Jitter:DDP        195 non-null    float64\n",
            " 8   MDVP:Shimmer      195 non-null    float64\n",
            " 9   MDVP:Shimmer(dB)  195 non-null    float64\n",
            " 10  Shimmer:APQ3      195 non-null    float64\n",
            " 11  Shimmer:APQ5      195 non-null    float64\n",
            " 12  MDVP:APQ          195 non-null    float64\n",
            " 13  Shimmer:DDA       195 non-null    float64\n",
            " 14  NHR               195 non-null    float64\n",
            " 15  HNR               195 non-null    float64\n",
            " 16  RPDE              195 non-null    float64\n",
            " 17  DFA               195 non-null    float64\n",
            " 18  spread1           195 non-null    float64\n",
            " 19  spread2           195 non-null    float64\n",
            " 20  D2                195 non-null    float64\n",
            " 21  PPE               195 non-null    float64\n",
            "dtypes: float64(22)\n",
            "memory usage: 33.6 KB\n"
          ]
        }
      ]
    },
    {
      "cell_type": "markdown",
      "source": [
        "## Feature Selection\n",
        "\n",
        "There are negative values in features columns. Since Chi2 uses frequency distribution and frequency cannot be negative, we can either transform the data or choose an alternative scoring method such as f_classif which computes the ANOVA f-value or mutual_info_classif which computes the mutual information. "
      ],
      "metadata": {
        "id": "hziSzoHYGJNu"
      }
    },
    {
      "cell_type": "code",
      "source": [
        "from sklearn.feature_selection import SelectKBest, f_classif\n",
        "x_Features = SelectKBest(f_classif).fit(x, y_data)\n",
        "score_df = pd.DataFrame({'Features': x.columns, 'Score': x_Features.scores_}).sort_values('Score', ascending=False)\n",
        "score_df"
      ],
      "metadata": {
        "colab": {
          "base_uri": "https://localhost:8080/",
          "height": 739
        },
        "id": "_6xQfIu3GLVi",
        "outputId": "ca6d99bb-2eed-4bbc-dced-ff560ce58134"
      },
      "execution_count": 8,
      "outputs": [
        {
          "output_type": "execute_result",
          "data": {
            "text/plain": [
              "            Features      Score\n",
              "18           spread1  90.424219\n",
              "21               PPE  75.803195\n",
              "19           spread2  50.343165\n",
              "0        MDVP:Fo(Hz)  33.286577\n",
              "2       MDVP:Flo(Hz)  32.612875\n",
              "8       MDVP:Shimmer  30.122600\n",
              "12          MDVP:APQ  29.536350\n",
              "15               HNR  29.015927\n",
              "11      Shimmer:APQ5  27.145033\n",
              "9   MDVP:Shimmer(dB)  27.065484\n",
              "10      Shimmer:APQ3  26.527120\n",
              "13       Shimmer:DDA  26.525626\n",
              "20                D2  25.265912\n",
              "4   MDVP:Jitter(Abs)  25.001729\n",
              "16              RPDE  20.310049\n",
              "6           MDVP:PPQ  17.548533\n",
              "3     MDVP:Jitter(%)  16.192809\n",
              "5           MDVP:RAP  14.775226\n",
              "7         Jitter:DDP  14.772666\n",
              "17               DFA  10.952901\n",
              "14               NHR   7.183270\n",
              "1       MDVP:Fhi(Hz)   5.478255"
            ],
            "text/html": [
              "\n",
              "  <div id=\"df-52fb634e-220f-4bd0-932c-70663197c05a\">\n",
              "    <div class=\"colab-df-container\">\n",
              "      <div>\n",
              "<style scoped>\n",
              "    .dataframe tbody tr th:only-of-type {\n",
              "        vertical-align: middle;\n",
              "    }\n",
              "\n",
              "    .dataframe tbody tr th {\n",
              "        vertical-align: top;\n",
              "    }\n",
              "\n",
              "    .dataframe thead th {\n",
              "        text-align: right;\n",
              "    }\n",
              "</style>\n",
              "<table border=\"1\" class=\"dataframe\">\n",
              "  <thead>\n",
              "    <tr style=\"text-align: right;\">\n",
              "      <th></th>\n",
              "      <th>Features</th>\n",
              "      <th>Score</th>\n",
              "    </tr>\n",
              "  </thead>\n",
              "  <tbody>\n",
              "    <tr>\n",
              "      <th>18</th>\n",
              "      <td>spread1</td>\n",
              "      <td>90.424219</td>\n",
              "    </tr>\n",
              "    <tr>\n",
              "      <th>21</th>\n",
              "      <td>PPE</td>\n",
              "      <td>75.803195</td>\n",
              "    </tr>\n",
              "    <tr>\n",
              "      <th>19</th>\n",
              "      <td>spread2</td>\n",
              "      <td>50.343165</td>\n",
              "    </tr>\n",
              "    <tr>\n",
              "      <th>0</th>\n",
              "      <td>MDVP:Fo(Hz)</td>\n",
              "      <td>33.286577</td>\n",
              "    </tr>\n",
              "    <tr>\n",
              "      <th>2</th>\n",
              "      <td>MDVP:Flo(Hz)</td>\n",
              "      <td>32.612875</td>\n",
              "    </tr>\n",
              "    <tr>\n",
              "      <th>8</th>\n",
              "      <td>MDVP:Shimmer</td>\n",
              "      <td>30.122600</td>\n",
              "    </tr>\n",
              "    <tr>\n",
              "      <th>12</th>\n",
              "      <td>MDVP:APQ</td>\n",
              "      <td>29.536350</td>\n",
              "    </tr>\n",
              "    <tr>\n",
              "      <th>15</th>\n",
              "      <td>HNR</td>\n",
              "      <td>29.015927</td>\n",
              "    </tr>\n",
              "    <tr>\n",
              "      <th>11</th>\n",
              "      <td>Shimmer:APQ5</td>\n",
              "      <td>27.145033</td>\n",
              "    </tr>\n",
              "    <tr>\n",
              "      <th>9</th>\n",
              "      <td>MDVP:Shimmer(dB)</td>\n",
              "      <td>27.065484</td>\n",
              "    </tr>\n",
              "    <tr>\n",
              "      <th>10</th>\n",
              "      <td>Shimmer:APQ3</td>\n",
              "      <td>26.527120</td>\n",
              "    </tr>\n",
              "    <tr>\n",
              "      <th>13</th>\n",
              "      <td>Shimmer:DDA</td>\n",
              "      <td>26.525626</td>\n",
              "    </tr>\n",
              "    <tr>\n",
              "      <th>20</th>\n",
              "      <td>D2</td>\n",
              "      <td>25.265912</td>\n",
              "    </tr>\n",
              "    <tr>\n",
              "      <th>4</th>\n",
              "      <td>MDVP:Jitter(Abs)</td>\n",
              "      <td>25.001729</td>\n",
              "    </tr>\n",
              "    <tr>\n",
              "      <th>16</th>\n",
              "      <td>RPDE</td>\n",
              "      <td>20.310049</td>\n",
              "    </tr>\n",
              "    <tr>\n",
              "      <th>6</th>\n",
              "      <td>MDVP:PPQ</td>\n",
              "      <td>17.548533</td>\n",
              "    </tr>\n",
              "    <tr>\n",
              "      <th>3</th>\n",
              "      <td>MDVP:Jitter(%)</td>\n",
              "      <td>16.192809</td>\n",
              "    </tr>\n",
              "    <tr>\n",
              "      <th>5</th>\n",
              "      <td>MDVP:RAP</td>\n",
              "      <td>14.775226</td>\n",
              "    </tr>\n",
              "    <tr>\n",
              "      <th>7</th>\n",
              "      <td>Jitter:DDP</td>\n",
              "      <td>14.772666</td>\n",
              "    </tr>\n",
              "    <tr>\n",
              "      <th>17</th>\n",
              "      <td>DFA</td>\n",
              "      <td>10.952901</td>\n",
              "    </tr>\n",
              "    <tr>\n",
              "      <th>14</th>\n",
              "      <td>NHR</td>\n",
              "      <td>7.183270</td>\n",
              "    </tr>\n",
              "    <tr>\n",
              "      <th>1</th>\n",
              "      <td>MDVP:Fhi(Hz)</td>\n",
              "      <td>5.478255</td>\n",
              "    </tr>\n",
              "  </tbody>\n",
              "</table>\n",
              "</div>\n",
              "      <button class=\"colab-df-convert\" onclick=\"convertToInteractive('df-52fb634e-220f-4bd0-932c-70663197c05a')\"\n",
              "              title=\"Convert this dataframe to an interactive table.\"\n",
              "              style=\"display:none;\">\n",
              "        \n",
              "  <svg xmlns=\"http://www.w3.org/2000/svg\" height=\"24px\"viewBox=\"0 0 24 24\"\n",
              "       width=\"24px\">\n",
              "    <path d=\"M0 0h24v24H0V0z\" fill=\"none\"/>\n",
              "    <path d=\"M18.56 5.44l.94 2.06.94-2.06 2.06-.94-2.06-.94-.94-2.06-.94 2.06-2.06.94zm-11 1L8.5 8.5l.94-2.06 2.06-.94-2.06-.94L8.5 2.5l-.94 2.06-2.06.94zm10 10l.94 2.06.94-2.06 2.06-.94-2.06-.94-.94-2.06-.94 2.06-2.06.94z\"/><path d=\"M17.41 7.96l-1.37-1.37c-.4-.4-.92-.59-1.43-.59-.52 0-1.04.2-1.43.59L10.3 9.45l-7.72 7.72c-.78.78-.78 2.05 0 2.83L4 21.41c.39.39.9.59 1.41.59.51 0 1.02-.2 1.41-.59l7.78-7.78 2.81-2.81c.8-.78.8-2.07 0-2.86zM5.41 20L4 18.59l7.72-7.72 1.47 1.35L5.41 20z\"/>\n",
              "  </svg>\n",
              "      </button>\n",
              "      \n",
              "  <style>\n",
              "    .colab-df-container {\n",
              "      display:flex;\n",
              "      flex-wrap:wrap;\n",
              "      gap: 12px;\n",
              "    }\n",
              "\n",
              "    .colab-df-convert {\n",
              "      background-color: #E8F0FE;\n",
              "      border: none;\n",
              "      border-radius: 50%;\n",
              "      cursor: pointer;\n",
              "      display: none;\n",
              "      fill: #1967D2;\n",
              "      height: 32px;\n",
              "      padding: 0 0 0 0;\n",
              "      width: 32px;\n",
              "    }\n",
              "\n",
              "    .colab-df-convert:hover {\n",
              "      background-color: #E2EBFA;\n",
              "      box-shadow: 0px 1px 2px rgba(60, 64, 67, 0.3), 0px 1px 3px 1px rgba(60, 64, 67, 0.15);\n",
              "      fill: #174EA6;\n",
              "    }\n",
              "\n",
              "    [theme=dark] .colab-df-convert {\n",
              "      background-color: #3B4455;\n",
              "      fill: #D2E3FC;\n",
              "    }\n",
              "\n",
              "    [theme=dark] .colab-df-convert:hover {\n",
              "      background-color: #434B5C;\n",
              "      box-shadow: 0px 1px 3px 1px rgba(0, 0, 0, 0.15);\n",
              "      filter: drop-shadow(0px 1px 2px rgba(0, 0, 0, 0.3));\n",
              "      fill: #FFFFFF;\n",
              "    }\n",
              "  </style>\n",
              "\n",
              "      <script>\n",
              "        const buttonEl =\n",
              "          document.querySelector('#df-52fb634e-220f-4bd0-932c-70663197c05a button.colab-df-convert');\n",
              "        buttonEl.style.display =\n",
              "          google.colab.kernel.accessAllowed ? 'block' : 'none';\n",
              "\n",
              "        async function convertToInteractive(key) {\n",
              "          const element = document.querySelector('#df-52fb634e-220f-4bd0-932c-70663197c05a');\n",
              "          const dataTable =\n",
              "            await google.colab.kernel.invokeFunction('convertToInteractive',\n",
              "                                                     [key], {});\n",
              "          if (!dataTable) return;\n",
              "\n",
              "          const docLinkHtml = 'Like what you see? Visit the ' +\n",
              "            '<a target=\"_blank\" href=https://colab.research.google.com/notebooks/data_table.ipynb>data table notebook</a>'\n",
              "            + ' to learn more about interactive tables.';\n",
              "          element.innerHTML = '';\n",
              "          dataTable['output_type'] = 'display_data';\n",
              "          await google.colab.output.renderOutput(dataTable, element);\n",
              "          const docLink = document.createElement('div');\n",
              "          docLink.innerHTML = docLinkHtml;\n",
              "          element.appendChild(docLink);\n",
              "        }\n",
              "      </script>\n",
              "    </div>\n",
              "  </div>\n",
              "  "
            ]
          },
          "metadata": {},
          "execution_count": 8
        }
      ]
    },
    {
      "cell_type": "markdown",
      "source": [
        "We can choose the features that have scores above or around 26, i.e., The first 11 components. "
      ],
      "metadata": {
        "id": "skkbBFQSOcMo"
      }
    },
    {
      "cell_type": "code",
      "source": [
        "X_features = SelectKBest(f_classif, k=11)\n",
        "X_transform = X_features.fit_transform(x, y_data)\n",
        "filter = X_features.get_support()\n",
        "filtered_x = np.array(x.columns[filter])\n",
        "data_copy = x.copy()\n",
        "for col in data_copy.columns:\n",
        "  if col not in filtered_x:\n",
        "    data_copy.drop(col, axis = 1, inplace = True)\n",
        "data_copy.columns"
      ],
      "metadata": {
        "colab": {
          "base_uri": "https://localhost:8080/"
        },
        "id": "mF_TGU5DRDVL",
        "outputId": "2c3f5f87-df9d-414c-a3e8-313b9a1fa105"
      },
      "execution_count": 9,
      "outputs": [
        {
          "output_type": "execute_result",
          "data": {
            "text/plain": [
              "Index(['MDVP:Fo(Hz)', 'MDVP:Flo(Hz)', 'MDVP:Shimmer', 'MDVP:Shimmer(dB)',\n",
              "       'Shimmer:APQ3', 'Shimmer:APQ5', 'MDVP:APQ', 'HNR', 'spread1', 'spread2',\n",
              "       'PPE'],\n",
              "      dtype='object')"
            ]
          },
          "metadata": {},
          "execution_count": 9
        }
      ]
    },
    {
      "cell_type": "code",
      "source": [
        "data_copy.info()"
      ],
      "metadata": {
        "colab": {
          "base_uri": "https://localhost:8080/"
        },
        "id": "tSmPJNMbSLM9",
        "outputId": "cce74b75-8e37-4c91-e30b-25512dd499ac"
      },
      "execution_count": 10,
      "outputs": [
        {
          "output_type": "stream",
          "name": "stdout",
          "text": [
            "<class 'pandas.core.frame.DataFrame'>\n",
            "RangeIndex: 195 entries, 0 to 194\n",
            "Data columns (total 11 columns):\n",
            " #   Column            Non-Null Count  Dtype  \n",
            "---  ------            --------------  -----  \n",
            " 0   MDVP:Fo(Hz)       195 non-null    float64\n",
            " 1   MDVP:Flo(Hz)      195 non-null    float64\n",
            " 2   MDVP:Shimmer      195 non-null    float64\n",
            " 3   MDVP:Shimmer(dB)  195 non-null    float64\n",
            " 4   Shimmer:APQ3      195 non-null    float64\n",
            " 5   Shimmer:APQ5      195 non-null    float64\n",
            " 6   MDVP:APQ          195 non-null    float64\n",
            " 7   HNR               195 non-null    float64\n",
            " 8   spread1           195 non-null    float64\n",
            " 9   spread2           195 non-null    float64\n",
            " 10  PPE               195 non-null    float64\n",
            "dtypes: float64(11)\n",
            "memory usage: 16.9 KB\n"
          ]
        }
      ]
    },
    {
      "cell_type": "code",
      "source": [
        "x = data_copy.values\n",
        "y = data['status'].values"
      ],
      "metadata": {
        "id": "YVV5i-CiTSfF"
      },
      "execution_count": 11,
      "outputs": []
    },
    {
      "cell_type": "markdown",
      "source": [
        "## Split into Test and Train sets"
      ],
      "metadata": {
        "id": "KcS473bK6PXg"
      }
    },
    {
      "cell_type": "code",
      "source": [
        "from sklearn.model_selection import train_test_split\n",
        "x_train, x_test, y_train, y_test = train_test_split(x, y, test_size = 0.2, random_state = 42)\n",
        "print('Shape x_train: ', x_train.shape)\n",
        "print('Shape y_train: ', y_train.shape)\n",
        "print('Shape x_test: ', x_test.shape)\n",
        "print('Shape y_test: ', y_test.shape)"
      ],
      "metadata": {
        "colab": {
          "base_uri": "https://localhost:8080/"
        },
        "id": "B09FOKCT6Sfx",
        "outputId": "fc581284-0c0b-4650-a9ef-55b0d8f7c3f5"
      },
      "execution_count": 12,
      "outputs": [
        {
          "output_type": "stream",
          "name": "stdout",
          "text": [
            "Shape x_train:  (156, 11)\n",
            "Shape y_train:  (156,)\n",
            "Shape x_test:  (39, 11)\n",
            "Shape y_test:  (39,)\n"
          ]
        }
      ]
    },
    {
      "cell_type": "markdown",
      "source": [
        "## ML Techniques - Imbalanced Dataset\n",
        "\n",
        "We do not perform Pruning on the Imbalanced data; we would like to know how the performance changes in a general manner."
      ],
      "metadata": {
        "id": "Pf2RDQOgBRrg"
      }
    },
    {
      "cell_type": "code",
      "source": [
        "from sklearn.metrics import classification_report, confusion_matrix, ConfusionMatrixDisplay, accuracy_score, roc_curve, roc_auc_score"
      ],
      "metadata": {
        "id": "tPpFOVykZWOe"
      },
      "execution_count": 13,
      "outputs": []
    },
    {
      "cell_type": "markdown",
      "source": [
        "### k-Nearest Neighbours"
      ],
      "metadata": {
        "id": "RCVk2pHmTRZp"
      }
    },
    {
      "cell_type": "code",
      "source": [
        "from sklearn.neighbors import KNeighborsClassifier\n",
        "kNN_classifier = KNeighborsClassifier(n_neighbors = 8)\n",
        "kNN_classifier.fit(x_train, y_train)\n",
        "y_pred_kNN = kNN_classifier.predict(x_test)\n",
        "kNN_classifier.get_params()"
      ],
      "metadata": {
        "id": "pQfHdpExSAMR",
        "colab": {
          "base_uri": "https://localhost:8080/"
        },
        "outputId": "935ee1e7-d468-480c-c4c2-b9b5f9564331"
      },
      "execution_count": 14,
      "outputs": [
        {
          "output_type": "execute_result",
          "data": {
            "text/plain": [
              "{'algorithm': 'auto',\n",
              " 'leaf_size': 30,\n",
              " 'metric': 'minkowski',\n",
              " 'metric_params': None,\n",
              " 'n_jobs': None,\n",
              " 'n_neighbors': 8,\n",
              " 'p': 2,\n",
              " 'weights': 'uniform'}"
            ]
          },
          "metadata": {},
          "execution_count": 14
        }
      ]
    },
    {
      "cell_type": "code",
      "source": [
        "y_pred_kNN_train = kNN_classifier.predict(x_train)\n",
        "print('Accuracy of the train set: ', accuracy_score(y_train, y_pred_kNN_train))\n",
        "print('Accuracy of the test set: ', accuracy_score(y_test, y_pred_kNN))"
      ],
      "metadata": {
        "colab": {
          "base_uri": "https://localhost:8080/"
        },
        "id": "pTKYZgwLZQe1",
        "outputId": "ff60ea7f-998d-400f-d455-0f65df231e1c"
      },
      "execution_count": 15,
      "outputs": [
        {
          "output_type": "stream",
          "name": "stdout",
          "text": [
            "Accuracy of the train set:  0.9294871794871795\n",
            "Accuracy of the test set:  0.9230769230769231\n"
          ]
        }
      ]
    },
    {
      "cell_type": "code",
      "source": [
        "print(classification_report(y_test, y_pred_kNN))"
      ],
      "metadata": {
        "colab": {
          "base_uri": "https://localhost:8080/"
        },
        "id": "ZV7cR37jZ4RE",
        "outputId": "36e2f3b5-a07f-43bb-f7fc-a613a0cdea77"
      },
      "execution_count": 16,
      "outputs": [
        {
          "output_type": "stream",
          "name": "stdout",
          "text": [
            "              precision    recall  f1-score   support\n",
            "\n",
            "           0       0.83      0.71      0.77         7\n",
            "           1       0.94      0.97      0.95        32\n",
            "\n",
            "    accuracy                           0.92        39\n",
            "   macro avg       0.89      0.84      0.86        39\n",
            "weighted avg       0.92      0.92      0.92        39\n",
            "\n"
          ]
        }
      ]
    },
    {
      "cell_type": "code",
      "source": [
        "ConfusionMatrixDisplay.from_predictions(y_test, y_pred_kNN, colorbar = False)"
      ],
      "metadata": {
        "colab": {
          "base_uri": "https://localhost:8080/",
          "height": 302
        },
        "id": "e0rGakTFZ-Lw",
        "outputId": "16e0fc7d-dc34-4237-d03c-c5e8dbdbdb24"
      },
      "execution_count": 17,
      "outputs": [
        {
          "output_type": "execute_result",
          "data": {
            "text/plain": [
              "<sklearn.metrics._plot.confusion_matrix.ConfusionMatrixDisplay at 0x7f8c45eda220>"
            ]
          },
          "metadata": {},
          "execution_count": 17
        },
        {
          "output_type": "display_data",
          "data": {
            "text/plain": [
              "<Figure size 432x288 with 1 Axes>"
            ],
            "image/png": "[encoded data removed]"
          },
          "metadata": {}
        }
      ]
    },
    {
      "cell_type": "markdown",
      "source": [
        "### Naive Bayes"
      ],
      "metadata": {
        "id": "9QxPtx76a4GE"
      }
    },
    {
      "cell_type": "code",
      "source": [
        "from sklearn.naive_bayes import BernoulliNB\n",
        "NB_classifier = BernoulliNB()\n",
        "NB_classifier.fit(x_train, y_train)\n",
        "y_pred_NB = NB_classifier.predict(x_test)"
      ],
      "metadata": {
        "id": "_J1lFhF5ae-s"
      },
      "execution_count": 18,
      "outputs": []
    },
    {
      "cell_type": "code",
      "source": [
        "y_pred_NB_train = NB_classifier.predict(x_train)\n",
        "print('Accuracy of the train set: ', accuracy_score(y_train, y_pred_NB_train))\n",
        "print('Accuracy of the test set: ', accuracy_score(y_test, y_pred_NB))"
      ],
      "metadata": {
        "colab": {
          "base_uri": "https://localhost:8080/"
        },
        "id": "0gGgxc9_bKEg",
        "outputId": "a71c725e-1ee1-4fb5-b377-21ec08dbeb80"
      },
      "execution_count": 19,
      "outputs": [
        {
          "output_type": "stream",
          "name": "stdout",
          "text": [
            "Accuracy of the train set:  0.7435897435897436\n",
            "Accuracy of the test set:  0.8717948717948718\n"
          ]
        }
      ]
    },
    {
      "cell_type": "code",
      "source": [
        "print(classification_report(y_test, y_pred_NB))"
      ],
      "metadata": {
        "colab": {
          "base_uri": "https://localhost:8080/"
        },
        "id": "VxyY9WrFbRtH",
        "outputId": "779b6e37-d1c8-4c5c-f6a4-978663ea5cb7"
      },
      "execution_count": 20,
      "outputs": [
        {
          "output_type": "stream",
          "name": "stdout",
          "text": [
            "              precision    recall  f1-score   support\n",
            "\n",
            "           0       0.60      0.86      0.71         7\n",
            "           1       0.97      0.88      0.92        32\n",
            "\n",
            "    accuracy                           0.87        39\n",
            "   macro avg       0.78      0.87      0.81        39\n",
            "weighted avg       0.90      0.87      0.88        39\n",
            "\n"
          ]
        }
      ]
    },
    {
      "cell_type": "code",
      "source": [
        "ConfusionMatrixDisplay.from_predictions(y_test, y_pred_NB, colorbar = False)"
      ],
      "metadata": {
        "colab": {
          "base_uri": "https://localhost:8080/",
          "height": 302
        },
        "id": "U01vFPXrbVG3",
        "outputId": "3e41e2ed-f7a1-4856-9fe9-8fc39f51e255"
      },
      "execution_count": 21,
      "outputs": [
        {
          "output_type": "execute_result",
          "data": {
            "text/plain": [
              "<sklearn.metrics._plot.confusion_matrix.ConfusionMatrixDisplay at 0x7f8c456e6d30>"
            ]
          },
          "metadata": {},
          "execution_count": 21
        },
        {
          "output_type": "display_data",
          "data": {
            "text/plain": [
              "<Figure size 432x288 with 1 Axes>"
            ],
            "image/png": "[encoded data removed]"
          },
          "metadata": {}
        }
      ]
    },
    {
      "cell_type": "markdown",
      "source": [
        "### Support Vector Machine"
      ],
      "metadata": {
        "id": "7Rl3icw5bwKo"
      }
    },
    {
      "cell_type": "code",
      "source": [
        "from sklearn.svm import SVC\n",
        "SVM_classifier = SVC()\n",
        "SVM_classifier.fit(x_train, y_train)\n",
        "y_pred_SVM = SVM_classifier.predict(x_test)\n",
        "SVM_classifier.get_params()"
      ],
      "metadata": {
        "id": "7i0wOAZWbY8X",
        "colab": {
          "base_uri": "https://localhost:8080/"
        },
        "outputId": "774a4097-8d1d-4f19-84b4-3b1c5c1b407d"
      },
      "execution_count": 22,
      "outputs": [
        {
          "output_type": "execute_result",
          "data": {
            "text/plain": [
              "{'C': 1.0,\n",
              " 'break_ties': False,\n",
              " 'cache_size': 200,\n",
              " 'class_weight': None,\n",
              " 'coef0': 0.0,\n",
              " 'decision_function_shape': 'ovr',\n",
              " 'degree': 3,\n",
              " 'gamma': 'scale',\n",
              " 'kernel': 'rbf',\n",
              " 'max_iter': -1,\n",
              " 'probability': False,\n",
              " 'random_state': None,\n",
              " 'shrinking': True,\n",
              " 'tol': 0.001,\n",
              " 'verbose': False}"
            ]
          },
          "metadata": {},
          "execution_count": 22
        }
      ]
    },
    {
      "cell_type": "code",
      "source": [
        "y_pred_SVM_train = SVM_classifier.predict(x_train)\n",
        "print('Accuracy of the train set: ', accuracy_score(y_train, y_pred_SVM_train))\n",
        "print('Accuracy of the test set: ', accuracy_score(y_test, y_pred_SVM))"
      ],
      "metadata": {
        "colab": {
          "base_uri": "https://localhost:8080/"
        },
        "id": "lzi2rNMIcDJT",
        "outputId": "b1a70d2a-a84b-4986-a078-cf517a448e81"
      },
      "execution_count": 23,
      "outputs": [
        {
          "output_type": "stream",
          "name": "stdout",
          "text": [
            "Accuracy of the train set:  0.8653846153846154\n",
            "Accuracy of the test set:  0.8974358974358975\n"
          ]
        }
      ]
    },
    {
      "cell_type": "code",
      "source": [
        "print(classification_report(y_test, y_pred_SVM))"
      ],
      "metadata": {
        "colab": {
          "base_uri": "https://localhost:8080/"
        },
        "id": "Nxk-OW7EcDFy",
        "outputId": "f529fb28-cfd1-490c-f85b-65817769074d"
      },
      "execution_count": 24,
      "outputs": [
        {
          "output_type": "stream",
          "name": "stdout",
          "text": [
            "              precision    recall  f1-score   support\n",
            "\n",
            "           0       1.00      0.43      0.60         7\n",
            "           1       0.89      1.00      0.94        32\n",
            "\n",
            "    accuracy                           0.90        39\n",
            "   macro avg       0.94      0.71      0.77        39\n",
            "weighted avg       0.91      0.90      0.88        39\n",
            "\n"
          ]
        }
      ]
    },
    {
      "cell_type": "code",
      "source": [
        "ConfusionMatrixDisplay.from_predictions(y_test, y_pred_SVM, colorbar = False)"
      ],
      "metadata": {
        "colab": {
          "base_uri": "https://localhost:8080/",
          "height": 302
        },
        "id": "_UrtrYyHcgHS",
        "outputId": "1f895e22-fb61-4e7e-d0bd-75f5f63d1b34"
      },
      "execution_count": 25,
      "outputs": [
        {
          "output_type": "execute_result",
          "data": {
            "text/plain": [
              "<sklearn.metrics._plot.confusion_matrix.ConfusionMatrixDisplay at 0x7f8c45ec8820>"
            ]
          },
          "metadata": {},
          "execution_count": 25
        },
        {
          "output_type": "display_data",
          "data": {
            "text/plain": [
              "<Figure size 432x288 with 1 Axes>"
            ],
            "image/png": "[encoded data removed]"
          },
          "metadata": {}
        }
      ]
    },
    {
      "cell_type": "markdown",
      "source": [
        "### Logistic Regression"
      ],
      "metadata": {
        "id": "FA46mrF0dIBn"
      }
    },
    {
      "cell_type": "code",
      "source": [
        "from sklearn.linear_model import LogisticRegression\n",
        "LR_classifier = LogisticRegression()\n",
        "LR_classifier.fit(x_train, y_train)\n",
        "y_pred_LR = LR_classifier.predict(x_test)\n",
        "LR_classifier.get_params()"
      ],
      "metadata": {
        "id": "beNwIotmcqdC",
        "colab": {
          "base_uri": "https://localhost:8080/"
        },
        "outputId": "3b74eec0-5d07-45fa-b4ba-9ba739dd015e"
      },
      "execution_count": 26,
      "outputs": [
        {
          "output_type": "execute_result",
          "data": {
            "text/plain": [
              "{'C': 1.0,\n",
              " 'class_weight': None,\n",
              " 'dual': False,\n",
              " 'fit_intercept': True,\n",
              " 'intercept_scaling': 1,\n",
              " 'l1_ratio': None,\n",
              " 'max_iter': 100,\n",
              " 'multi_class': 'auto',\n",
              " 'n_jobs': None,\n",
              " 'penalty': 'l2',\n",
              " 'random_state': None,\n",
              " 'solver': 'lbfgs',\n",
              " 'tol': 0.0001,\n",
              " 'verbose': 0,\n",
              " 'warm_start': False}"
            ]
          },
          "metadata": {},
          "execution_count": 26
        }
      ]
    },
    {
      "cell_type": "code",
      "source": [
        "y_pred_LR_train = LR_classifier.predict(x_train)\n",
        "print('Accuracy of the train set: ', accuracy_score(y_train, y_pred_LR_train))\n",
        "print('Accuracy of the test set: ', accuracy_score(y_test, y_pred_LR))"
      ],
      "metadata": {
        "colab": {
          "base_uri": "https://localhost:8080/"
        },
        "id": "FEtAdtlZdq_2",
        "outputId": "02d6e4b1-e736-494b-877f-191d737473bf"
      },
      "execution_count": 27,
      "outputs": [
        {
          "output_type": "stream",
          "name": "stdout",
          "text": [
            "Accuracy of the train set:  0.8397435897435898\n",
            "Accuracy of the test set:  0.8974358974358975\n"
          ]
        }
      ]
    },
    {
      "cell_type": "code",
      "source": [
        "print(classification_report(y_test, y_pred_LR))"
      ],
      "metadata": {
        "colab": {
          "base_uri": "https://localhost:8080/"
        },
        "id": "kcGdUI3bdq8V",
        "outputId": "16bc1236-229f-4bbe-e19f-bf66be672196"
      },
      "execution_count": 28,
      "outputs": [
        {
          "output_type": "stream",
          "name": "stdout",
          "text": [
            "              precision    recall  f1-score   support\n",
            "\n",
            "           0       0.80      0.57      0.67         7\n",
            "           1       0.91      0.97      0.94        32\n",
            "\n",
            "    accuracy                           0.90        39\n",
            "   macro avg       0.86      0.77      0.80        39\n",
            "weighted avg       0.89      0.90      0.89        39\n",
            "\n"
          ]
        }
      ]
    },
    {
      "cell_type": "code",
      "source": [
        "ConfusionMatrixDisplay.from_predictions(y_test, y_pred_LR, colorbar = False)"
      ],
      "metadata": {
        "colab": {
          "base_uri": "https://localhost:8080/",
          "height": 302
        },
        "id": "VMJquwLrdq4N",
        "outputId": "aa2d761e-0144-4cbe-9af5-77119bb7cdc2"
      },
      "execution_count": 29,
      "outputs": [
        {
          "output_type": "execute_result",
          "data": {
            "text/plain": [
              "<sklearn.metrics._plot.confusion_matrix.ConfusionMatrixDisplay at 0x7f8c47d7fc40>"
            ]
          },
          "metadata": {},
          "execution_count": 29
        },
        {
          "output_type": "display_data",
          "data": {
            "text/plain": [
              "<Figure size 432x288 with 1 Axes>"
            ],
            "image/png": "[encoded data removed]"
          },
          "metadata": {}
        }
      ]
    },
    {
      "cell_type": "markdown",
      "source": [
        "### Decision Tree "
      ],
      "metadata": {
        "id": "9MnHCc3SeU11"
      }
    },
    {
      "cell_type": "code",
      "source": [
        "from sklearn.tree import DecisionTreeClassifier\n",
        "DT_classifier = DecisionTreeClassifier(random_state = 42)\n",
        "DT_classifier.fit(x_train, y_train)\n",
        "y_pred_DT = DT_classifier.predict(x_test)\n",
        "DT_classifier.get_params()"
      ],
      "metadata": {
        "colab": {
          "base_uri": "https://localhost:8080/"
        },
        "id": "IG2FpKJCdq01",
        "outputId": "9bd688f8-d69f-4426-fc41-d0ef2c64b81a"
      },
      "execution_count": 30,
      "outputs": [
        {
          "output_type": "execute_result",
          "data": {
            "text/plain": [
              "{'ccp_alpha': 0.0,\n",
              " 'class_weight': None,\n",
              " 'criterion': 'gini',\n",
              " 'max_depth': None,\n",
              " 'max_features': None,\n",
              " 'max_leaf_nodes': None,\n",
              " 'min_impurity_decrease': 0.0,\n",
              " 'min_samples_leaf': 1,\n",
              " 'min_samples_split': 2,\n",
              " 'min_weight_fraction_leaf': 0.0,\n",
              " 'random_state': 42,\n",
              " 'splitter': 'best'}"
            ]
          },
          "metadata": {},
          "execution_count": 30
        }
      ]
    },
    {
      "cell_type": "code",
      "source": [
        "y_pred_DT_train = DT_classifier.predict(x_train)\n",
        "print('Accuracy of the train set: ', accuracy_score(y_train, y_pred_DT_train))\n",
        "print('Accuracy of the test set: ', accuracy_score(y_test, y_pred_DT))"
      ],
      "metadata": {
        "colab": {
          "base_uri": "https://localhost:8080/"
        },
        "id": "tPQspH32epgp",
        "outputId": "39d3981e-c6fa-4bc9-cfa7-771d204b4556"
      },
      "execution_count": 31,
      "outputs": [
        {
          "output_type": "stream",
          "name": "stdout",
          "text": [
            "Accuracy of the train set:  1.0\n",
            "Accuracy of the test set:  0.8974358974358975\n"
          ]
        }
      ]
    },
    {
      "cell_type": "markdown",
      "source": [
        "There is overfitting, as evident between the huge difference between the accuracy of the training and testing datasets. "
      ],
      "metadata": {
        "id": "jp6roYA9gzb5"
      }
    },
    {
      "cell_type": "code",
      "source": [
        "print(classification_report(y_test, y_pred_DT))\n",
        "ConfusionMatrixDisplay.from_predictions(y_test, y_pred_DT, colorbar=False)"
      ],
      "metadata": {
        "colab": {
          "base_uri": "https://localhost:8080/",
          "height": 459
        },
        "id": "XHCJKekZAT4g",
        "outputId": "7dd45ff6-9be3-4a61-9c03-a939e946cc75"
      },
      "execution_count": 32,
      "outputs": [
        {
          "output_type": "stream",
          "name": "stdout",
          "text": [
            "              precision    recall  f1-score   support\n",
            "\n",
            "           0       0.71      0.71      0.71         7\n",
            "           1       0.94      0.94      0.94        32\n",
            "\n",
            "    accuracy                           0.90        39\n",
            "   macro avg       0.83      0.83      0.83        39\n",
            "weighted avg       0.90      0.90      0.90        39\n",
            "\n"
          ]
        },
        {
          "output_type": "execute_result",
          "data": {
            "text/plain": [
              "<sklearn.metrics._plot.confusion_matrix.ConfusionMatrixDisplay at 0x7f8c4564ef40>"
            ]
          },
          "metadata": {},
          "execution_count": 32
        },
        {
          "output_type": "display_data",
          "data": {
            "text/plain": [
              "<Figure size 432x288 with 1 Axes>"
            ],
            "image/png": "[encoded data removed]"
          },
          "metadata": {}
        }
      ]
    },
    {
      "cell_type": "markdown",
      "source": [
        "### Random Forests"
      ],
      "metadata": {
        "id": "vCiXguKSlIBa"
      }
    },
    {
      "cell_type": "code",
      "source": [
        "from sklearn.ensemble import RandomForestClassifier\n",
        "RF_classifier = RandomForestClassifier(random_state=42)\n",
        "RF_classifier.fit(x_train, y_train)\n",
        "y_pred_RF = RF_classifier.predict(x_test)\n",
        "RF_classifier.get_params()"
      ],
      "metadata": {
        "colab": {
          "base_uri": "https://localhost:8080/"
        },
        "id": "v6l6fU3pkq5Q",
        "outputId": "d50da9bf-6b76-4696-aef4-a373b71b62df"
      },
      "execution_count": 33,
      "outputs": [
        {
          "output_type": "execute_result",
          "data": {
            "text/plain": [
              "{'bootstrap': True,\n",
              " 'ccp_alpha': 0.0,\n",
              " 'class_weight': None,\n",
              " 'criterion': 'gini',\n",
              " 'max_depth': None,\n",
              " 'max_features': 'auto',\n",
              " 'max_leaf_nodes': None,\n",
              " 'max_samples': None,\n",
              " 'min_impurity_decrease': 0.0,\n",
              " 'min_samples_leaf': 1,\n",
              " 'min_samples_split': 2,\n",
              " 'min_weight_fraction_leaf': 0.0,\n",
              " 'n_estimators': 100,\n",
              " 'n_jobs': None,\n",
              " 'oob_score': False,\n",
              " 'random_state': 42,\n",
              " 'verbose': 0,\n",
              " 'warm_start': False}"
            ]
          },
          "metadata": {},
          "execution_count": 33
        }
      ]
    },
    {
      "cell_type": "code",
      "source": [
        "y_pred_RF_train = RF_classifier.predict(x_train)\n",
        "print('Accuracy of the train set: ', accuracy_score(y_train, y_pred_RF_train))\n",
        "print('Accuracy of the test set: ', accuracy_score(y_test, y_pred_RF))"
      ],
      "metadata": {
        "colab": {
          "base_uri": "https://localhost:8080/"
        },
        "id": "hK1Fdh7BuLqS",
        "outputId": "6e4ac281-56e0-4da7-8631-2235bbc5ab86"
      },
      "execution_count": 34,
      "outputs": [
        {
          "output_type": "stream",
          "name": "stdout",
          "text": [
            "Accuracy of the train set:  1.0\n",
            "Accuracy of the test set:  0.9230769230769231\n"
          ]
        }
      ]
    },
    {
      "cell_type": "markdown",
      "source": [
        "Again, this is a case of overfitting."
      ],
      "metadata": {
        "id": "1Qc8NlWu7Ceu"
      }
    },
    {
      "cell_type": "code",
      "source": [
        "print(classification_report(y_test, y_pred_RF))\n",
        "ConfusionMatrixDisplay.from_predictions(y_test, y_pred_RF, colorbar=False)"
      ],
      "metadata": {
        "colab": {
          "base_uri": "https://localhost:8080/",
          "height": 459
        },
        "id": "1DWQRhBPAaPj",
        "outputId": "9a0e2530-50ff-4424-81d3-bab8ac1f85da"
      },
      "execution_count": 35,
      "outputs": [
        {
          "output_type": "stream",
          "name": "stdout",
          "text": [
            "              precision    recall  f1-score   support\n",
            "\n",
            "           0       0.83      0.71      0.77         7\n",
            "           1       0.94      0.97      0.95        32\n",
            "\n",
            "    accuracy                           0.92        39\n",
            "   macro avg       0.89      0.84      0.86        39\n",
            "weighted avg       0.92      0.92      0.92        39\n",
            "\n"
          ]
        },
        {
          "output_type": "execute_result",
          "data": {
            "text/plain": [
              "<sklearn.metrics._plot.confusion_matrix.ConfusionMatrixDisplay at 0x7f8c456fb730>"
            ]
          },
          "metadata": {},
          "execution_count": 35
        },
        {
          "output_type": "display_data",
          "data": {
            "text/plain": [
              "<Figure size 432x288 with 1 Axes>"
            ],
            "image/png": "[encoded data removed]"
          },
          "metadata": {}
        }
      ]
    },
    {
      "cell_type": "markdown",
      "source": [
        "### Accuracy"
      ],
      "metadata": {
        "id": "VNqpQ7E00ZLs"
      }
    },
    {
      "cell_type": "code",
      "source": [
        "accuracy_df = pd.DataFrame()\n",
        "accuracy_df['Classifier'] = ['Decision Tree', 'kNN', 'Naive Bayes', 'SVC', 'Logistic Regression', 'Random Forest']\n",
        "accuracy_df['Accuracy'] = [accuracy_score(y_test, y_pred_DT), accuracy_score(y_test, y_pred_kNN), accuracy_score(y_test, y_pred_NB), \n",
        "                           accuracy_score(y_test, y_pred_SVM), accuracy_score(y_test, y_pred_LR), accuracy_score(y_test, y_pred_RF)]\n",
        "\n",
        "sns.barplot(y = 'Accuracy', x = 'Classifier', data = accuracy_df, order = accuracy_df.sort_values('Accuracy', ascending = False).Classifier)\n",
        "plt.title('Accuracy of the Classifiers')\n",
        "plt.xticks(rotation=90)\n",
        "plt.show()"
      ],
      "metadata": {
        "colab": {
          "base_uri": "https://localhost:8080/",
          "height": 397
        },
        "id": "QjcB0Xd70clw",
        "outputId": "c8e0a44e-ee97-41d1-f336-5f6135b12a58"
      },
      "execution_count": 36,
      "outputs": [
        {
          "output_type": "display_data",
          "data": {
            "text/plain": [
              "<Figure size 432x288 with 1 Axes>"
            ],
            "image/png": "[encoded data removed]"
          },
          "metadata": {}
        }
      ]
    },
    {
      "cell_type": "markdown",
      "source": [
        "kNN and Random Forest Classifiers performs the best amongst the algorithms that we have implemented on the dataset with imbalanced target class. They are followed by SVC."
      ],
      "metadata": {
        "id": "CYUkjmZ_1SYn"
      }
    },
    {
      "cell_type": "markdown",
      "source": [
        "### ROC Curve"
      ],
      "metadata": {
        "id": "YmRJTtOx1rK9"
      }
    },
    {
      "cell_type": "code",
      "source": [
        "plt.plot([0,1], [0,1], ':')\n",
        "fpr1, tpr1, thresholds = roc_curve(y_test, y_pred_kNN)\n",
        "plt.plot(fpr1, tpr1, '--', label='kNN')\n",
        "fpr2, tpr2, thresholds = roc_curve(y_test, y_pred_NB)\n",
        "plt.plot(fpr2, tpr2, '--', label='Naive Bayes')\n",
        "fpr3, tpr3, thresholds = roc_curve(y_test, y_pred_SVM)\n",
        "plt.plot(fpr3, tpr3, '--', label='SVM Classifier')\n",
        "fpr4, tpr4, thresholds = roc_curve(y_test, y_pred_LR)\n",
        "plt.plot(fpr4, tpr4, '--', label='Logistic Regression')\n",
        "fpr5, tpr5, thresholds = roc_curve(y_test, y_pred_DT)\n",
        "plt.plot(fpr5, tpr5, '--', label='Decision Tree Classifier')\n",
        "fpr6, tpr6, thresholds = roc_curve(y_test, y_pred_RF)\n",
        "plt.plot(fpr6, tpr6, '--', label='Random Forest Classifier')\n",
        "plt.xlabel('False Positive Rate')\n",
        "plt.ylabel('True Positive Rate')\n",
        "plt.title('ROC Curve')\n",
        "plt.legend(bbox_to_anchor = (1.0, 0.5), loc = 'center left')\n",
        "plt.show()"
      ],
      "metadata": {
        "colab": {
          "base_uri": "https://localhost:8080/",
          "height": 301
        },
        "id": "vEojChLi1zd3",
        "outputId": "b10e6ef6-b4c4-4555-b629-1d2bad6f10f4"
      },
      "execution_count": 37,
      "outputs": [
        {
          "output_type": "display_data",
          "data": {
            "text/plain": [
              "<Figure size 432x288 with 1 Axes>"
            ],
            "image/png": "[encoded data removed]"
          },
          "metadata": {}
        }
      ]
    },
    {
      "cell_type": "markdown",
      "source": [
        "Naive Bayes Classifier has a better ROC Curve compared to the rest of the algorithms we have implemented. However, considering the accuracy and the ROC Curve, Random Forest Classifier could be a better option, since we have to take into account the False positives when dealing with healthcare."
      ],
      "metadata": {
        "id": "au-1lKmC5ZBx"
      }
    },
    {
      "cell_type": "markdown",
      "source": [
        "## Balancing the Target Class - Oversampling Technique"
      ],
      "metadata": {
        "id": "BQBovutj7wJd"
      }
    },
    {
      "cell_type": "code",
      "source": [
        "from imblearn.over_sampling import ADASYN\n",
        "from collections import Counter\n",
        "oversample = ADASYN()\n",
        "X,Y = oversample.fit_resample(x,y)\n",
        "Counter(Y)"
      ],
      "metadata": {
        "colab": {
          "base_uri": "https://localhost:8080/"
        },
        "id": "AMnQNGz65VtD",
        "outputId": "8302dc5e-0ff1-401d-d966-da996db6b08b"
      },
      "execution_count": 38,
      "outputs": [
        {
          "output_type": "execute_result",
          "data": {
            "text/plain": [
              "Counter({1: 147, 0: 154})"
            ]
          },
          "metadata": {},
          "execution_count": 38
        }
      ]
    },
    {
      "cell_type": "markdown",
      "source": [
        "Split into train and test sets:"
      ],
      "metadata": {
        "id": "hUt1r2pD-H39"
      }
    },
    {
      "cell_type": "code",
      "source": [
        "X_train, X_test, Y_train, Y_test = train_test_split(X, Y, random_state=42, test_size = 0.2)\n",
        "print('x_train shape: ', X_train.shape)\n",
        "print('x_test shape: ', X_test.shape)\n",
        "print('y_train shape: ', Y_train.shape)\n",
        "print('y_test shape: ', Y_test.shape)"
      ],
      "metadata": {
        "colab": {
          "base_uri": "https://localhost:8080/"
        },
        "id": "fX4t_zNq9FzN",
        "outputId": "e8cf02b7-32ec-4e4b-f753-90ea7dd6f0d2"
      },
      "execution_count": 39,
      "outputs": [
        {
          "output_type": "stream",
          "name": "stdout",
          "text": [
            "x_train shape:  (240, 11)\n",
            "x_test shape:  (61, 11)\n",
            "y_train shape:  (240,)\n",
            "y_test shape:  (61,)\n"
          ]
        }
      ]
    },
    {
      "cell_type": "markdown",
      "source": [
        "Standardize:"
      ],
      "metadata": {
        "id": "oXg6H1RW-nhe"
      }
    },
    {
      "cell_type": "code",
      "source": [
        "scaler_balanced = StandardScaler()\n",
        "scaler_balanced.fit(X_train)\n",
        "X_train_PCA = scaler_balanced.transform(X_train)\n",
        "X_test_PCA = scaler_balanced.transform(X_test)"
      ],
      "metadata": {
        "id": "0br9xMbp-iJQ"
      },
      "execution_count": 40,
      "outputs": []
    },
    {
      "cell_type": "markdown",
      "source": [
        "## ML Techniques - Balanced Target class"
      ],
      "metadata": {
        "id": "-9yvTh88-1XI"
      }
    },
    {
      "cell_type": "markdown",
      "source": [
        "### k-Neighbours Classifier\n",
        "\n",
        "We can quickly tweak the n_neighbors to prevent overfitting."
      ],
      "metadata": {
        "id": "xt7xuZMKc46j"
      }
    },
    {
      "cell_type": "code",
      "source": [
        "from sklearn.neighbors import KNeighborsClassifier\n",
        "kNN_classifier_balanced = KNeighborsClassifier()\n",
        "kNN_classifier_balanced.fit(X_train, Y_train)\n",
        "kNN_classifier_balanced.get_params()"
      ],
      "metadata": {
        "colab": {
          "base_uri": "https://localhost:8080/"
        },
        "outputId": "4236259e-5d84-4f26-b9d6-3a0db5a240da",
        "id": "zaeOc9Hqc46k"
      },
      "execution_count": 41,
      "outputs": [
        {
          "output_type": "execute_result",
          "data": {
            "text/plain": [
              "{'algorithm': 'auto',\n",
              " 'leaf_size': 30,\n",
              " 'metric': 'minkowski',\n",
              " 'metric_params': None,\n",
              " 'n_jobs': None,\n",
              " 'n_neighbors': 5,\n",
              " 'p': 2,\n",
              " 'weights': 'uniform'}"
            ]
          },
          "metadata": {},
          "execution_count": 41
        }
      ]
    },
    {
      "cell_type": "code",
      "source": [
        "y_pred_kNN_balanced = kNN_classifier_balanced.predict(X_test)\n",
        "y_pred_kNN_train_balanced = kNN_classifier_balanced.predict(X_train)\n",
        "print('Accuracy of the training set: ', accuracy_score(Y_train, y_pred_kNN_train_balanced))\n",
        "print('Accuracy of the testing set: ', accuracy_score(Y_test, y_pred_kNN_balanced))"
      ],
      "metadata": {
        "colab": {
          "base_uri": "https://localhost:8080/"
        },
        "outputId": "d4dbb5fc-79b7-4b9d-ad8e-cf7cd4b226f2",
        "id": "jYcUoOXxc46k"
      },
      "execution_count": 42,
      "outputs": [
        {
          "output_type": "stream",
          "name": "stdout",
          "text": [
            "Accuracy of the training set:  0.9375\n",
            "Accuracy of the testing set:  0.9344262295081968\n"
          ]
        }
      ]
    },
    {
      "cell_type": "code",
      "source": [
        "print(classification_report(Y_test, y_pred_kNN_balanced))\n",
        "ConfusionMatrixDisplay.from_predictions(Y_test, y_pred_kNN_balanced, colorbar=False)"
      ],
      "metadata": {
        "colab": {
          "base_uri": "https://localhost:8080/",
          "height": 459
        },
        "outputId": "0982cbb2-41e9-4bf4-edc3-5cccf6a35d20",
        "id": "dW6MEOSoc46l"
      },
      "execution_count": 43,
      "outputs": [
        {
          "output_type": "stream",
          "name": "stdout",
          "text": [
            "              precision    recall  f1-score   support\n",
            "\n",
            "           0       0.88      1.00      0.94        30\n",
            "           1       1.00      0.87      0.93        31\n",
            "\n",
            "    accuracy                           0.93        61\n",
            "   macro avg       0.94      0.94      0.93        61\n",
            "weighted avg       0.94      0.93      0.93        61\n",
            "\n"
          ]
        },
        {
          "output_type": "execute_result",
          "data": {
            "text/plain": [
              "<sklearn.metrics._plot.confusion_matrix.ConfusionMatrixDisplay at 0x7f8c44c97100>"
            ]
          },
          "metadata": {},
          "execution_count": 43
        },
        {
          "output_type": "display_data",
          "data": {
            "text/plain": [
              "<Figure size 432x288 with 1 Axes>"
            ],
            "image/png": "[encoded data removed]"
          },
          "metadata": {}
        }
      ]
    },
    {
      "cell_type": "markdown",
      "source": [
        "### Naive Bayes"
      ],
      "metadata": {
        "id": "t6OskHsEc46h"
      }
    },
    {
      "cell_type": "code",
      "source": [
        "from sklearn.naive_bayes import BernoulliNB\n",
        "NB_classifier_balanced = BernoulliNB()\n",
        "NB_classifier_balanced.fit(X_train, Y_train)\n",
        "NB_classifier_balanced.get_params()"
      ],
      "metadata": {
        "colab": {
          "base_uri": "https://localhost:8080/"
        },
        "outputId": "91649866-a097-4d24-f79c-5a48f8b2b5fc",
        "id": "jGUDVQHsc46h"
      },
      "execution_count": 44,
      "outputs": [
        {
          "output_type": "execute_result",
          "data": {
            "text/plain": [
              "{'alpha': 1.0, 'binarize': 0.0, 'class_prior': None, 'fit_prior': True}"
            ]
          },
          "metadata": {},
          "execution_count": 44
        }
      ]
    },
    {
      "cell_type": "code",
      "source": [
        "y_pred_NB_balanced = NB_classifier_balanced.predict(X_test)\n",
        "y_pred_NB_train_balanced = NB_classifier_balanced.predict(X_train)\n",
        "print('Accuracy of the training set: ', accuracy_score(Y_train, y_pred_NB_train_balanced))\n",
        "print('Accuracy of the testing set: ', accuracy_score(Y_test, y_pred_NB_balanced))"
      ],
      "metadata": {
        "colab": {
          "base_uri": "https://localhost:8080/"
        },
        "id": "sfDTpz2Ac46i",
        "outputId": "81f85445-efac-4da3-9e86-3f728dbcafae"
      },
      "execution_count": 45,
      "outputs": [
        {
          "output_type": "stream",
          "name": "stdout",
          "text": [
            "Accuracy of the training set:  0.825\n",
            "Accuracy of the testing set:  0.8032786885245902\n"
          ]
        }
      ]
    },
    {
      "cell_type": "code",
      "source": [
        "print(classification_report(Y_test, y_pred_NB_balanced))\n",
        "ConfusionMatrixDisplay.from_predictions(Y_test, y_pred_NB_balanced, colorbar=False)"
      ],
      "metadata": {
        "colab": {
          "base_uri": "https://localhost:8080/",
          "height": 459
        },
        "outputId": "896a77ee-512c-46b8-95e0-52151331400f",
        "id": "51Kj5-Phc46j"
      },
      "execution_count": 46,
      "outputs": [
        {
          "output_type": "stream",
          "name": "stdout",
          "text": [
            "              precision    recall  f1-score   support\n",
            "\n",
            "           0       0.75      0.90      0.82        30\n",
            "           1       0.88      0.71      0.79        31\n",
            "\n",
            "    accuracy                           0.80        61\n",
            "   macro avg       0.81      0.80      0.80        61\n",
            "weighted avg       0.82      0.80      0.80        61\n",
            "\n"
          ]
        },
        {
          "output_type": "execute_result",
          "data": {
            "text/plain": [
              "<sklearn.metrics._plot.confusion_matrix.ConfusionMatrixDisplay at 0x7f8c44be4f40>"
            ]
          },
          "metadata": {},
          "execution_count": 46
        },
        {
          "output_type": "display_data",
          "data": {
            "text/plain": [
              "<Figure size 432x288 with 1 Axes>"
            ],
            "image/png": "[encoded data removed]"
          },
          "metadata": {}
        }
      ]
    },
    {
      "cell_type": "markdown",
      "source": [
        "### Support Vector Machine"
      ],
      "metadata": {
        "id": "SgBmpmVrc46b"
      }
    },
    {
      "cell_type": "code",
      "source": [
        "SVM_classifier_balanced = SVC()\n",
        "SVM_classifier_balanced.fit(X_train, Y_train)\n",
        "y_pred_SVM_balanced = SVM_classifier_balanced.predict(X_test)"
      ],
      "metadata": {
        "id": "OwDfbTmNc46c"
      },
      "execution_count": 47,
      "outputs": []
    },
    {
      "cell_type": "code",
      "source": [
        "y_pred_SVM_train_balanced = SVM_classifier_balanced.predict(X_train)\n",
        "print('Accuracy of the training set: ', accuracy_score(Y_train, y_pred_SVM_train_balanced))\n",
        "print('Accuracy of the testing set: ', accuracy_score(Y_test, y_pred_SVM_balanced))"
      ],
      "metadata": {
        "colab": {
          "base_uri": "https://localhost:8080/"
        },
        "outputId": "25ff54a7-c56c-4dd8-ae28-5d562ad6f7b8",
        "id": "_sEAAaXbc46c"
      },
      "execution_count": 48,
      "outputs": [
        {
          "output_type": "stream",
          "name": "stdout",
          "text": [
            "Accuracy of the training set:  0.9083333333333333\n",
            "Accuracy of the testing set:  0.8688524590163934\n"
          ]
        }
      ]
    },
    {
      "cell_type": "code",
      "source": [
        "print(classification_report(Y_test, y_pred_SVM_balanced))"
      ],
      "metadata": {
        "colab": {
          "base_uri": "https://localhost:8080/"
        },
        "outputId": "c491e34d-80bf-4b3d-e160-bc197cf921e2",
        "id": "0S-BjiC7c46d"
      },
      "execution_count": 49,
      "outputs": [
        {
          "output_type": "stream",
          "name": "stdout",
          "text": [
            "              precision    recall  f1-score   support\n",
            "\n",
            "           0       0.79      1.00      0.88        30\n",
            "           1       1.00      0.74      0.85        31\n",
            "\n",
            "    accuracy                           0.87        61\n",
            "   macro avg       0.89      0.87      0.87        61\n",
            "weighted avg       0.90      0.87      0.87        61\n",
            "\n"
          ]
        }
      ]
    },
    {
      "cell_type": "code",
      "source": [
        "ConfusionMatrixDisplay.from_predictions(Y_test, y_pred_SVM_balanced, colorbar=False)"
      ],
      "metadata": {
        "colab": {
          "base_uri": "https://localhost:8080/",
          "height": 302
        },
        "outputId": "210a4d7f-2eb2-4d89-9f99-65ac8116e9ea",
        "id": "oN9TtjYSc46d"
      },
      "execution_count": 50,
      "outputs": [
        {
          "output_type": "execute_result",
          "data": {
            "text/plain": [
              "<sklearn.metrics._plot.confusion_matrix.ConfusionMatrixDisplay at 0x7f8c44c97850>"
            ]
          },
          "metadata": {},
          "execution_count": 50
        },
        {
          "output_type": "display_data",
          "data": {
            "text/plain": [
              "<Figure size 432x288 with 1 Axes>"
            ],
            "image/png": "[encoded data removed]"
          },
          "metadata": {}
        }
      ]
    },
    {
      "cell_type": "markdown",
      "source": [
        "### Logistic Regression"
      ],
      "metadata": {
        "id": "E7ud_DzIc46e"
      }
    },
    {
      "cell_type": "code",
      "source": [
        "from sklearn.linear_model import LogisticRegression\n",
        "LR_classifier_balanced = LogisticRegression()\n",
        "LR_classifier_balanced.fit(X_train, Y_train)\n",
        "LR_classifier_balanced.get_params()"
      ],
      "metadata": {
        "colab": {
          "base_uri": "https://localhost:8080/"
        },
        "outputId": "63e0d677-cb87-4289-955c-7c08f1aaed7c",
        "id": "BGKaHyWFc46f"
      },
      "execution_count": 51,
      "outputs": [
        {
          "output_type": "execute_result",
          "data": {
            "text/plain": [
              "{'C': 1.0,\n",
              " 'class_weight': None,\n",
              " 'dual': False,\n",
              " 'fit_intercept': True,\n",
              " 'intercept_scaling': 1,\n",
              " 'l1_ratio': None,\n",
              " 'max_iter': 100,\n",
              " 'multi_class': 'auto',\n",
              " 'n_jobs': None,\n",
              " 'penalty': 'l2',\n",
              " 'random_state': None,\n",
              " 'solver': 'lbfgs',\n",
              " 'tol': 0.0001,\n",
              " 'verbose': 0,\n",
              " 'warm_start': False}"
            ]
          },
          "metadata": {},
          "execution_count": 51
        }
      ]
    },
    {
      "cell_type": "code",
      "source": [
        "y_pred_LR_balanced = LR_classifier_balanced.predict(X_test)\n",
        "y_pred_LR_train_balanced = LR_classifier_balanced.predict(X_train)\n",
        "print('Accuracy of the training set: ', accuracy_score(Y_train, y_pred_LR_train_balanced))\n",
        "print('Accuracy of the testing set: ', accuracy_score(Y_test, y_pred_LR_balanced))"
      ],
      "metadata": {
        "colab": {
          "base_uri": "https://localhost:8080/"
        },
        "id": "7ct9d-zwc46f",
        "outputId": "451cd8a0-30fe-47fb-c69e-b3e9f7620538"
      },
      "execution_count": 52,
      "outputs": [
        {
          "output_type": "stream",
          "name": "stdout",
          "text": [
            "Accuracy of the training set:  0.8416666666666667\n",
            "Accuracy of the testing set:  0.8524590163934426\n"
          ]
        }
      ]
    },
    {
      "cell_type": "code",
      "source": [
        "print(classification_report(Y_test, y_pred_LR_balanced))"
      ],
      "metadata": {
        "colab": {
          "base_uri": "https://localhost:8080/"
        },
        "outputId": "87f9e157-8f06-4dc8-e461-334985f3cb8a",
        "id": "CSYBxuQMc46g"
      },
      "execution_count": 53,
      "outputs": [
        {
          "output_type": "stream",
          "name": "stdout",
          "text": [
            "              precision    recall  f1-score   support\n",
            "\n",
            "           0       0.80      0.93      0.86        30\n",
            "           1       0.92      0.77      0.84        31\n",
            "\n",
            "    accuracy                           0.85        61\n",
            "   macro avg       0.86      0.85      0.85        61\n",
            "weighted avg       0.86      0.85      0.85        61\n",
            "\n"
          ]
        }
      ]
    },
    {
      "cell_type": "code",
      "source": [
        "ConfusionMatrixDisplay.from_predictions(Y_test, y_pred_LR_balanced, colorbar=False)"
      ],
      "metadata": {
        "colab": {
          "base_uri": "https://localhost:8080/",
          "height": 302
        },
        "outputId": "24b7d919-4b74-4a9e-fb83-fb5393e9a57c",
        "id": "FtzmnoM7c46h"
      },
      "execution_count": 54,
      "outputs": [
        {
          "output_type": "execute_result",
          "data": {
            "text/plain": [
              "<sklearn.metrics._plot.confusion_matrix.ConfusionMatrixDisplay at 0x7f8c44fbea90>"
            ]
          },
          "metadata": {},
          "execution_count": 54
        },
        {
          "output_type": "display_data",
          "data": {
            "text/plain": [
              "<Figure size 432x288 with 1 Axes>"
            ],
            "image/png": "[encoded data removed]"
          },
          "metadata": {}
        }
      ]
    },
    {
      "cell_type": "markdown",
      "source": [
        "### Decision Tree Classifier\n",
        "\n",
        "We limit the *max_depth* since this is a small dataset, in order to avoid overfitting."
      ],
      "metadata": {
        "id": "--mAn3adc46l"
      }
    },
    {
      "cell_type": "code",
      "source": [
        "from sklearn.tree import DecisionTreeClassifier\n",
        "DT_classifier_balanced = DecisionTreeClassifier(max_depth = 4)\n",
        "DT_classifier_balanced.fit(X_train, Y_train)\n",
        "DT_classifier_balanced.get_params()"
      ],
      "metadata": {
        "colab": {
          "base_uri": "https://localhost:8080/"
        },
        "outputId": "74ef86a4-a5b0-4b0d-bb96-68d54d39b75a",
        "id": "aLN3fel_c46m"
      },
      "execution_count": 55,
      "outputs": [
        {
          "output_type": "execute_result",
          "data": {
            "text/plain": [
              "{'ccp_alpha': 0.0,\n",
              " 'class_weight': None,\n",
              " 'criterion': 'gini',\n",
              " 'max_depth': 4,\n",
              " 'max_features': None,\n",
              " 'max_leaf_nodes': None,\n",
              " 'min_impurity_decrease': 0.0,\n",
              " 'min_samples_leaf': 1,\n",
              " 'min_samples_split': 2,\n",
              " 'min_weight_fraction_leaf': 0.0,\n",
              " 'random_state': None,\n",
              " 'splitter': 'best'}"
            ]
          },
          "metadata": {},
          "execution_count": 55
        }
      ]
    },
    {
      "cell_type": "code",
      "source": [
        "y_pred_DT_balanced = DT_classifier_balanced.predict(X_test)\n",
        "y_pred_DT_train_balanced = DT_classifier_balanced.predict(X_train)\n",
        "print('Accuracy of the training set: ', accuracy_score(Y_train, y_pred_DT_train_balanced))\n",
        "print('Accuracy of the testing set: ', accuracy_score(Y_test, y_pred_DT_balanced))"
      ],
      "metadata": {
        "colab": {
          "base_uri": "https://localhost:8080/"
        },
        "outputId": "e20778bd-5ada-4870-d55f-3a49667f2c88",
        "id": "PQNVHiJic46m"
      },
      "execution_count": 56,
      "outputs": [
        {
          "output_type": "stream",
          "name": "stdout",
          "text": [
            "Accuracy of the training set:  0.9375\n",
            "Accuracy of the testing set:  0.8360655737704918\n"
          ]
        }
      ]
    },
    {
      "cell_type": "code",
      "source": [
        "print(classification_report(Y_test, y_pred_DT_balanced))\n",
        "ConfusionMatrixDisplay.from_predictions(Y_test, y_pred_DT_balanced, colorbar=False)"
      ],
      "metadata": {
        "colab": {
          "base_uri": "https://localhost:8080/",
          "height": 459
        },
        "outputId": "7d34bf58-9458-4727-f401-4b1dd5ae0974",
        "id": "EnzduOhEc46o"
      },
      "execution_count": 57,
      "outputs": [
        {
          "output_type": "stream",
          "name": "stdout",
          "text": [
            "              precision    recall  f1-score   support\n",
            "\n",
            "           0       0.81      0.87      0.84        30\n",
            "           1       0.86      0.81      0.83        31\n",
            "\n",
            "    accuracy                           0.84        61\n",
            "   macro avg       0.84      0.84      0.84        61\n",
            "weighted avg       0.84      0.84      0.84        61\n",
            "\n"
          ]
        },
        {
          "output_type": "execute_result",
          "data": {
            "text/plain": [
              "<sklearn.metrics._plot.confusion_matrix.ConfusionMatrixDisplay at 0x7f8c45012820>"
            ]
          },
          "metadata": {},
          "execution_count": 57
        },
        {
          "output_type": "display_data",
          "data": {
            "text/plain": [
              "<Figure size 432x288 with 1 Axes>"
            ],
            "image/png": "[encoded data removed]"
          },
          "metadata": {}
        }
      ]
    },
    {
      "cell_type": "markdown",
      "source": [
        "### Random Forest Classifier\n",
        "\n",
        "We limit the max_depth since this is a small dataset, in order to avoid overfitting."
      ],
      "metadata": {
        "id": "EMTxmnG6c46o"
      }
    },
    {
      "cell_type": "code",
      "source": [
        "from sklearn.ensemble import RandomForestClassifier\n",
        "RF_classifier_balanced = RandomForestClassifier(max_depth=4)\n",
        "RF_classifier_balanced.fit(X_train, Y_train)\n",
        "RF_classifier_balanced.get_params()"
      ],
      "metadata": {
        "colab": {
          "base_uri": "https://localhost:8080/"
        },
        "outputId": "16405bc7-18a2-439d-ded3-25ad08d846c9",
        "id": "6FyBRL7zc46p"
      },
      "execution_count": 58,
      "outputs": [
        {
          "output_type": "execute_result",
          "data": {
            "text/plain": [
              "{'bootstrap': True,\n",
              " 'ccp_alpha': 0.0,\n",
              " 'class_weight': None,\n",
              " 'criterion': 'gini',\n",
              " 'max_depth': 4,\n",
              " 'max_features': 'auto',\n",
              " 'max_leaf_nodes': None,\n",
              " 'max_samples': None,\n",
              " 'min_impurity_decrease': 0.0,\n",
              " 'min_samples_leaf': 1,\n",
              " 'min_samples_split': 2,\n",
              " 'min_weight_fraction_leaf': 0.0,\n",
              " 'n_estimators': 100,\n",
              " 'n_jobs': None,\n",
              " 'oob_score': False,\n",
              " 'random_state': None,\n",
              " 'verbose': 0,\n",
              " 'warm_start': False}"
            ]
          },
          "metadata": {},
          "execution_count": 58
        }
      ]
    },
    {
      "cell_type": "code",
      "source": [
        "y_pred_RF_balanced = RF_classifier_balanced.predict(X_test)\n",
        "y_pred_RF_train_balanced = RF_classifier_balanced.predict(X_train)\n",
        "print('Accuracy of the training set: ', accuracy_score(Y_train, y_pred_RF_train_balanced))\n",
        "print('Accuracy of the testing set: ', accuracy_score(Y_test, y_pred_RF_balanced))"
      ],
      "metadata": {
        "colab": {
          "base_uri": "https://localhost:8080/"
        },
        "outputId": "8e91a929-e88b-4f95-e7ba-7fda6c33085f",
        "id": "f5OG2FGKc46p"
      },
      "execution_count": 59,
      "outputs": [
        {
          "output_type": "stream",
          "name": "stdout",
          "text": [
            "Accuracy of the training set:  0.9583333333333334\n",
            "Accuracy of the testing set:  0.9344262295081968\n"
          ]
        }
      ]
    },
    {
      "cell_type": "code",
      "source": [
        "print(classification_report(Y_test, y_pred_RF_balanced))\n",
        "ConfusionMatrixDisplay.from_predictions(Y_test, y_pred_RF_balanced, colorbar=False)"
      ],
      "metadata": {
        "colab": {
          "base_uri": "https://localhost:8080/",
          "height": 459
        },
        "outputId": "7e058a22-662e-4a75-9b2a-dc6ccf1d558d",
        "id": "1e74-w05c46q"
      },
      "execution_count": 60,
      "outputs": [
        {
          "output_type": "stream",
          "name": "stdout",
          "text": [
            "              precision    recall  f1-score   support\n",
            "\n",
            "           0       0.88      1.00      0.94        30\n",
            "           1       1.00      0.87      0.93        31\n",
            "\n",
            "    accuracy                           0.93        61\n",
            "   macro avg       0.94      0.94      0.93        61\n",
            "weighted avg       0.94      0.93      0.93        61\n",
            "\n"
          ]
        },
        {
          "output_type": "execute_result",
          "data": {
            "text/plain": [
              "<sklearn.metrics._plot.confusion_matrix.ConfusionMatrixDisplay at 0x7f8c450d10d0>"
            ]
          },
          "metadata": {},
          "execution_count": 60
        },
        {
          "output_type": "display_data",
          "data": {
            "text/plain": [
              "<Figure size 432x288 with 1 Axes>"
            ],
            "image/png": "[encoded data removed]"
          },
          "metadata": {}
        }
      ]
    },
    {
      "cell_type": "markdown",
      "source": [
        "### AdaBoost Classifier\n",
        "\n",
        "We limit the learning_rate, since it can lead to overfitting."
      ],
      "metadata": {
        "id": "51jBkLF9c46q"
      }
    },
    {
      "cell_type": "code",
      "source": [
        "from sklearn.ensemble import AdaBoostClassifier\n",
        "adaboost_balanced = AdaBoostClassifier(learning_rate=0.01)\n",
        "adaboost_balanced.fit(X_train, Y_train)\n",
        "adaboost_balanced.get_params()"
      ],
      "metadata": {
        "colab": {
          "base_uri": "https://localhost:8080/"
        },
        "outputId": "4ca41f48-302d-45dc-eb28-1b2ac34f6c33",
        "id": "L0Z18TtHc46r"
      },
      "execution_count": 61,
      "outputs": [
        {
          "output_type": "execute_result",
          "data": {
            "text/plain": [
              "{'algorithm': 'SAMME.R',\n",
              " 'base_estimator': None,\n",
              " 'learning_rate': 0.01,\n",
              " 'n_estimators': 50,\n",
              " 'random_state': None}"
            ]
          },
          "metadata": {},
          "execution_count": 61
        }
      ]
    },
    {
      "cell_type": "code",
      "source": [
        "y_pred_Adaboost_balanced = adaboost_balanced.predict(X_test)\n",
        "print('Accuracy of the training set: ', adaboost_balanced.score(X_train, Y_train))\n",
        "print('Accuracy of the testing set: ', accuracy_score(Y_test, y_pred_Adaboost_balanced))"
      ],
      "metadata": {
        "colab": {
          "base_uri": "https://localhost:8080/"
        },
        "outputId": "09245710-112e-4b05-80d6-3a80919a7aa2",
        "id": "UYH21TgMc46r"
      },
      "execution_count": 62,
      "outputs": [
        {
          "output_type": "stream",
          "name": "stdout",
          "text": [
            "Accuracy of the training set:  0.8166666666666667\n",
            "Accuracy of the testing set:  0.7868852459016393\n"
          ]
        }
      ]
    },
    {
      "cell_type": "code",
      "source": [
        "print(classification_report(Y_test, y_pred_Adaboost_balanced))\n",
        "ConfusionMatrixDisplay.from_predictions(Y_test, y_pred_Adaboost_balanced, colorbar=False)"
      ],
      "metadata": {
        "colab": {
          "base_uri": "https://localhost:8080/",
          "height": 459
        },
        "outputId": "97ef916d-9171-4934-edc4-da45a544dea0",
        "id": "DCCOXhZMc46s"
      },
      "execution_count": 63,
      "outputs": [
        {
          "output_type": "stream",
          "name": "stdout",
          "text": [
            "              precision    recall  f1-score   support\n",
            "\n",
            "           0       0.74      0.87      0.80        30\n",
            "           1       0.85      0.71      0.77        31\n",
            "\n",
            "    accuracy                           0.79        61\n",
            "   macro avg       0.79      0.79      0.79        61\n",
            "weighted avg       0.80      0.79      0.79        61\n",
            "\n"
          ]
        },
        {
          "output_type": "execute_result",
          "data": {
            "text/plain": [
              "<sklearn.metrics._plot.confusion_matrix.ConfusionMatrixDisplay at 0x7f8c45065fa0>"
            ]
          },
          "metadata": {},
          "execution_count": 63
        },
        {
          "output_type": "display_data",
          "data": {
            "text/plain": [
              "<Figure size 432x288 with 1 Axes>"
            ],
            "image/png": "[encoded data removed]"
          },
          "metadata": {}
        }
      ]
    },
    {
      "cell_type": "markdown",
      "source": [
        "### XGBoost Classifier\n",
        "\n",
        "We limit the n_estimators and the learning_rate."
      ],
      "metadata": {
        "id": "qlVPSEM-c46t"
      }
    },
    {
      "cell_type": "code",
      "source": [
        "from xgboost import XGBClassifier\n",
        "xgb_classifier_balanced = XGBClassifier(n_estimators=50, learning_rate = 0.05)\n",
        "xgb_classifier_balanced.fit(X_train, Y_train)\n",
        "xgb_classifier_balanced.get_params()"
      ],
      "metadata": {
        "colab": {
          "base_uri": "https://localhost:8080/"
        },
        "outputId": "4d339ffc-3a90-4394-eb51-751e3b990f7e",
        "id": "hQwn1aZpc46t"
      },
      "execution_count": 64,
      "outputs": [
        {
          "output_type": "execute_result",
          "data": {
            "text/plain": [
              "{'base_score': 0.5,\n",
              " 'booster': 'gbtree',\n",
              " 'colsample_bylevel': 1,\n",
              " 'colsample_bynode': 1,\n",
              " 'colsample_bytree': 1,\n",
              " 'gamma': 0,\n",
              " 'learning_rate': 0.05,\n",
              " 'max_delta_step': 0,\n",
              " 'max_depth': 3,\n",
              " 'min_child_weight': 1,\n",
              " 'missing': None,\n",
              " 'n_estimators': 50,\n",
              " 'n_jobs': 1,\n",
              " 'nthread': None,\n",
              " 'objective': 'binary:logistic',\n",
              " 'random_state': 0,\n",
              " 'reg_alpha': 0,\n",
              " 'reg_lambda': 1,\n",
              " 'scale_pos_weight': 1,\n",
              " 'seed': None,\n",
              " 'silent': None,\n",
              " 'subsample': 1,\n",
              " 'verbosity': 1}"
            ]
          },
          "metadata": {},
          "execution_count": 64
        }
      ]
    },
    {
      "cell_type": "code",
      "source": [
        "y_pred_XGB_balanced = xgb_classifier_balanced.predict(X_test)\n",
        "print('Accuracy of the training set: ', xgb_classifier_balanced.score(X_train, Y_train))\n",
        "print('Accuracy of the testing set: ', accuracy_score(Y_test, y_pred_XGB_balanced))"
      ],
      "metadata": {
        "colab": {
          "base_uri": "https://localhost:8080/"
        },
        "outputId": "b7b26daa-6a1e-4f21-cabb-6bcc3a664de8",
        "id": "kjket3zRc46t"
      },
      "execution_count": 65,
      "outputs": [
        {
          "output_type": "stream",
          "name": "stdout",
          "text": [
            "Accuracy of the training set:  0.9875\n",
            "Accuracy of the testing set:  0.9672131147540983\n"
          ]
        }
      ]
    },
    {
      "cell_type": "code",
      "source": [
        "print(classification_report(Y_test, y_pred_XGB_balanced))\n",
        "ConfusionMatrixDisplay.from_predictions(Y_test, y_pred_XGB_balanced, colorbar=False)"
      ],
      "metadata": {
        "colab": {
          "base_uri": "https://localhost:8080/",
          "height": 459
        },
        "outputId": "1aae50f6-bb3d-4794-eb06-32a47687af0d",
        "id": "BJ8OkQORc46u"
      },
      "execution_count": 66,
      "outputs": [
        {
          "output_type": "stream",
          "name": "stdout",
          "text": [
            "              precision    recall  f1-score   support\n",
            "\n",
            "           0       0.94      1.00      0.97        30\n",
            "           1       1.00      0.94      0.97        31\n",
            "\n",
            "    accuracy                           0.97        61\n",
            "   macro avg       0.97      0.97      0.97        61\n",
            "weighted avg       0.97      0.97      0.97        61\n",
            "\n"
          ]
        },
        {
          "output_type": "execute_result",
          "data": {
            "text/plain": [
              "<sklearn.metrics._plot.confusion_matrix.ConfusionMatrixDisplay at 0x7f8c44b5c8b0>"
            ]
          },
          "metadata": {},
          "execution_count": 66
        },
        {
          "output_type": "display_data",
          "data": {
            "text/plain": [
              "<Figure size 432x288 with 1 Axes>"
            ],
            "image/png": "[encoded data removed]"
          },
          "metadata": {}
        }
      ]
    },
    {
      "cell_type": "markdown",
      "source": [
        "### Voting Classifier"
      ],
      "metadata": {
        "id": "8itM3oBxW4fp"
      }
    },
    {
      "cell_type": "code",
      "source": [
        "from sklearn.ensemble import VotingClassifier\n",
        "\n",
        "VC = VotingClassifier(estimators = [('kNN', kNN_classifier_balanced), ('NB', NB_classifier_balanced), ('SVM', SVM_classifier_balanced),\n",
        "                                    ('LR', LR_classifier_balanced), ('DT', DT_classifier_balanced), ('RF', RF_classifier_balanced), \n",
        "                                    ('Adaboost', adaboost_balanced), ('XGB', xgb_classifier_balanced)], voting = 'hard')\n",
        "VC.fit(X_train_PCA, Y_train)\n",
        "VC.get_params()"
      ],
      "metadata": {
        "colab": {
          "base_uri": "https://localhost:8080/"
        },
        "id": "F9Hg7i_IW44H",
        "outputId": "c4e21937-3051-4bcf-fef0-2126270c73b9"
      },
      "execution_count": 67,
      "outputs": [
        {
          "output_type": "execute_result",
          "data": {
            "text/plain": [
              "{'estimators': [('kNN', KNeighborsClassifier()),\n",
              "  ('NB', BernoulliNB()),\n",
              "  ('SVM', SVC()),\n",
              "  ('LR', LogisticRegression()),\n",
              "  ('DT', DecisionTreeClassifier(max_depth=4)),\n",
              "  ('RF', RandomForestClassifier(max_depth=4)),\n",
              "  ('Adaboost', AdaBoostClassifier(learning_rate=0.01)),\n",
              "  ('XGB', XGBClassifier(learning_rate=0.05, n_estimators=50))],\n",
              " 'flatten_transform': True,\n",
              " 'n_jobs': None,\n",
              " 'verbose': False,\n",
              " 'voting': 'hard',\n",
              " 'weights': None,\n",
              " 'kNN': KNeighborsClassifier(),\n",
              " 'NB': BernoulliNB(),\n",
              " 'SVM': SVC(),\n",
              " 'LR': LogisticRegression(),\n",
              " 'DT': DecisionTreeClassifier(max_depth=4),\n",
              " 'RF': RandomForestClassifier(max_depth=4),\n",
              " 'Adaboost': AdaBoostClassifier(learning_rate=0.01),\n",
              " 'XGB': XGBClassifier(learning_rate=0.05, n_estimators=50),\n",
              " 'kNN__algorithm': 'auto',\n",
              " 'kNN__leaf_size': 30,\n",
              " 'kNN__metric': 'minkowski',\n",
              " 'kNN__metric_params': None,\n",
              " 'kNN__n_jobs': None,\n",
              " 'kNN__n_neighbors': 5,\n",
              " 'kNN__p': 2,\n",
              " 'kNN__weights': 'uniform',\n",
              " 'NB__alpha': 1.0,\n",
              " 'NB__binarize': 0.0,\n",
              " 'NB__class_prior': None,\n",
              " 'NB__fit_prior': True,\n",
              " 'SVM__C': 1.0,\n",
              " 'SVM__break_ties': False,\n",
              " 'SVM__cache_size': 200,\n",
              " 'SVM__class_weight': None,\n",
              " 'SVM__coef0': 0.0,\n",
              " 'SVM__decision_function_shape': 'ovr',\n",
              " 'SVM__degree': 3,\n",
              " 'SVM__gamma': 'scale',\n",
              " 'SVM__kernel': 'rbf',\n",
              " 'SVM__max_iter': -1,\n",
              " 'SVM__probability': False,\n",
              " 'SVM__random_state': None,\n",
              " 'SVM__shrinking': True,\n",
              " 'SVM__tol': 0.001,\n",
              " 'SVM__verbose': False,\n",
              " 'LR__C': 1.0,\n",
              " 'LR__class_weight': None,\n",
              " 'LR__dual': False,\n",
              " 'LR__fit_intercept': True,\n",
              " 'LR__intercept_scaling': 1,\n",
              " 'LR__l1_ratio': None,\n",
              " 'LR__max_iter': 100,\n",
              " 'LR__multi_class': 'auto',\n",
              " 'LR__n_jobs': None,\n",
              " 'LR__penalty': 'l2',\n",
              " 'LR__random_state': None,\n",
              " 'LR__solver': 'lbfgs',\n",
              " 'LR__tol': 0.0001,\n",
              " 'LR__verbose': 0,\n",
              " 'LR__warm_start': False,\n",
              " 'DT__ccp_alpha': 0.0,\n",
              " 'DT__class_weight': None,\n",
              " 'DT__criterion': 'gini',\n",
              " 'DT__max_depth': 4,\n",
              " 'DT__max_features': None,\n",
              " 'DT__max_leaf_nodes': None,\n",
              " 'DT__min_impurity_decrease': 0.0,\n",
              " 'DT__min_samples_leaf': 1,\n",
              " 'DT__min_samples_split': 2,\n",
              " 'DT__min_weight_fraction_leaf': 0.0,\n",
              " 'DT__random_state': None,\n",
              " 'DT__splitter': 'best',\n",
              " 'RF__bootstrap': True,\n",
              " 'RF__ccp_alpha': 0.0,\n",
              " 'RF__class_weight': None,\n",
              " 'RF__criterion': 'gini',\n",
              " 'RF__max_depth': 4,\n",
              " 'RF__max_features': 'auto',\n",
              " 'RF__max_leaf_nodes': None,\n",
              " 'RF__max_samples': None,\n",
              " 'RF__min_impurity_decrease': 0.0,\n",
              " 'RF__min_samples_leaf': 1,\n",
              " 'RF__min_samples_split': 2,\n",
              " 'RF__min_weight_fraction_leaf': 0.0,\n",
              " 'RF__n_estimators': 100,\n",
              " 'RF__n_jobs': None,\n",
              " 'RF__oob_score': False,\n",
              " 'RF__random_state': None,\n",
              " 'RF__verbose': 0,\n",
              " 'RF__warm_start': False,\n",
              " 'Adaboost__algorithm': 'SAMME.R',\n",
              " 'Adaboost__base_estimator': None,\n",
              " 'Adaboost__learning_rate': 0.01,\n",
              " 'Adaboost__n_estimators': 50,\n",
              " 'Adaboost__random_state': None,\n",
              " 'XGB__base_score': 0.5,\n",
              " 'XGB__booster': 'gbtree',\n",
              " 'XGB__colsample_bylevel': 1,\n",
              " 'XGB__colsample_bynode': 1,\n",
              " 'XGB__colsample_bytree': 1,\n",
              " 'XGB__gamma': 0,\n",
              " 'XGB__learning_rate': 0.05,\n",
              " 'XGB__max_delta_step': 0,\n",
              " 'XGB__max_depth': 3,\n",
              " 'XGB__min_child_weight': 1,\n",
              " 'XGB__missing': None,\n",
              " 'XGB__n_estimators': 50,\n",
              " 'XGB__n_jobs': 1,\n",
              " 'XGB__nthread': None,\n",
              " 'XGB__objective': 'binary:logistic',\n",
              " 'XGB__random_state': 0,\n",
              " 'XGB__reg_alpha': 0,\n",
              " 'XGB__reg_lambda': 1,\n",
              " 'XGB__scale_pos_weight': 1,\n",
              " 'XGB__seed': None,\n",
              " 'XGB__silent': None,\n",
              " 'XGB__subsample': 1,\n",
              " 'XGB__verbosity': 1}"
            ]
          },
          "metadata": {},
          "execution_count": 67
        }
      ]
    },
    {
      "cell_type": "code",
      "source": [
        "y_pred_VC_balanced = VC.predict(X_test)\n",
        "print('Accuracy of the training set: ', VC.score(X_train, Y_train))\n",
        "print('Accuracy of the testing set: ', accuracy_score(Y_test, y_pred_VC_balanced))"
      ],
      "metadata": {
        "colab": {
          "base_uri": "https://localhost:8080/"
        },
        "id": "-L-SwXKsYivM",
        "outputId": "22fa91e1-065c-4833-88c0-d2316c82eb98"
      },
      "execution_count": 68,
      "outputs": [
        {
          "output_type": "stream",
          "name": "stdout",
          "text": [
            "Accuracy of the training set:  0.8333333333333334\n",
            "Accuracy of the testing set:  0.8032786885245902\n"
          ]
        }
      ]
    },
    {
      "cell_type": "code",
      "source": [
        "print(classification_report(Y_test, y_pred_VC_balanced))\n",
        "ConfusionMatrixDisplay.from_predictions(Y_test, y_pred_VC_balanced, colorbar=False)"
      ],
      "metadata": {
        "colab": {
          "base_uri": "https://localhost:8080/",
          "height": 459
        },
        "id": "_JXp4ocoYinl",
        "outputId": "433991fe-1c2f-4248-aa7c-4cc87e06457c"
      },
      "execution_count": 69,
      "outputs": [
        {
          "output_type": "stream",
          "name": "stdout",
          "text": [
            "              precision    recall  f1-score   support\n",
            "\n",
            "           0       0.71      1.00      0.83        30\n",
            "           1       1.00      0.61      0.76        31\n",
            "\n",
            "    accuracy                           0.80        61\n",
            "   macro avg       0.86      0.81      0.80        61\n",
            "weighted avg       0.86      0.80      0.80        61\n",
            "\n"
          ]
        },
        {
          "output_type": "execute_result",
          "data": {
            "text/plain": [
              "<sklearn.metrics._plot.confusion_matrix.ConfusionMatrixDisplay at 0x7f8c45019f70>"
            ]
          },
          "metadata": {},
          "execution_count": 69
        },
        {
          "output_type": "display_data",
          "data": {
            "text/plain": [
              "<Figure size 432x288 with 1 Axes>"
            ],
            "image/png": "[encoded data removed]"
          },
          "metadata": {}
        }
      ]
    },
    {
      "cell_type": "markdown",
      "source": [
        "### Accuracy"
      ],
      "metadata": {
        "id": "06X14wHfO7fP"
      }
    },
    {
      "cell_type": "code",
      "source": [
        "accuracy_df = pd.DataFrame()\n",
        "accuracy_df['Classifier'] = ['Decision Tree', 'kNN', 'Naive Bayes', 'SVC', 'Logistic Regression', 'Random Forest', 'Adaboost', \n",
        "                             'XGBoost', 'Voting Classifier']\n",
        "accuracy_df['Accuracy'] = [accuracy_score(Y_test, y_pred_DT_balanced), accuracy_score(Y_test, y_pred_kNN_balanced), \n",
        "                           accuracy_score(Y_test, y_pred_NB_balanced), accuracy_score(Y_test, y_pred_SVM_balanced), \n",
        "                           accuracy_score(Y_test, y_pred_LR_balanced), accuracy_score(Y_test, y_pred_RF_balanced),\n",
        "                           accuracy_score(Y_test, y_pred_Adaboost_balanced), accuracy_score(Y_test, y_pred_XGB_balanced), \n",
        "                           accuracy_score(Y_test, y_pred_VC_balanced)]\n",
        "\n",
        "sns.barplot(y = 'Accuracy', x = 'Classifier', data = accuracy_df, order = accuracy_df.sort_values('Accuracy', ascending = False).Classifier)\n",
        "plt.title('Accuracy of the Classifiers')\n",
        "plt.xticks(rotation=90)\n",
        "plt.show()"
      ],
      "metadata": {
        "colab": {
          "base_uri": "https://localhost:8080/",
          "height": 397
        },
        "id": "IydrVDkBFyFs",
        "outputId": "66f2b53b-df7b-4474-b08f-6b95c4a72988"
      },
      "execution_count": 70,
      "outputs": [
        {
          "output_type": "display_data",
          "data": {
            "text/plain": [
              "<Figure size 432x288 with 1 Axes>"
            ],
            "image/png": "[encoded data removed]"
          },
          "metadata": {}
        }
      ]
    },
    {
      "cell_type": "markdown",
      "source": [
        "XGBoost Classifier produces the highest accuracy at about 95% of the algorithms implemented upon balancing the target class. It is closely followed by kNN and Random Forest Classifiers which also have an accuracy close to 90%."
      ],
      "metadata": {
        "id": "yrf6DF0EQTvb"
      }
    },
    {
      "cell_type": "markdown",
      "source": [
        "### ROC Curve"
      ],
      "metadata": {
        "id": "THmpDqB1Po8P"
      }
    },
    {
      "cell_type": "code",
      "source": [
        "plt.plot([0,1], [0,1], ':')\n",
        "fpr1, tpr1, thresholds = roc_curve(Y_test, y_pred_kNN_balanced)\n",
        "plt.plot(fpr1, tpr1, '--', label='kNN')\n",
        "fpr2, tpr2, thresholds = roc_curve(Y_test, y_pred_NB_balanced)\n",
        "plt.plot(fpr2, tpr2, '--', label='Naive Bayes')\n",
        "fpr3, tpr3, thresholds = roc_curve(Y_test, y_pred_SVM_balanced)\n",
        "plt.plot(fpr3, tpr3, '--', label='SVM Classifier')\n",
        "fpr4, tpr4, thresholds = roc_curve(Y_test, y_pred_LR_balanced)\n",
        "plt.plot(fpr4, tpr4, '--', label='Logistic Regression')\n",
        "fpr5, tpr5, thresholds = roc_curve(Y_test, y_pred_DT_balanced)\n",
        "plt.plot(fpr5, tpr5, '--', label='Decision Tree Classifier')\n",
        "fpr6, tpr6, thresholds = roc_curve(Y_test, y_pred_RF_balanced)\n",
        "plt.plot(fpr6, tpr6, '--', label='Random Forest Classifier')\n",
        "fpr7, tpr7, thresholds = roc_curve(Y_test, y_pred_Adaboost_balanced)\n",
        "plt.plot(fpr7, tpr7, '--', label='Adaboost Classifier')\n",
        "fpr8, tpr8, thresholds = roc_curve(Y_test, y_pred_XGB_balanced)\n",
        "plt.plot(fpr8, tpr8, '--', label='XGBoost Classifier')\n",
        "fpr9, tpr9, thresholds = roc_curve(Y_test, y_pred_VC_balanced)\n",
        "plt.plot(fpr9, tpr9, '--', label='Voting Classifier')\n",
        "plt.xlabel('False Positive Rate')\n",
        "plt.ylabel('True Positive Rate')\n",
        "plt.title('ROC Curve')\n",
        "plt.legend(bbox_to_anchor = (1.0, 0.5), loc = 'center left')\n",
        "plt.show()"
      ],
      "metadata": {
        "colab": {
          "base_uri": "https://localhost:8080/",
          "height": 301
        },
        "id": "bFChtNbqPfCw",
        "outputId": "e61177f6-b427-48a6-fff7-1b2f07386b86"
      },
      "execution_count": 71,
      "outputs": [
        {
          "output_type": "display_data",
          "data": {
            "text/plain": [
              "<Figure size 432x288 with 1 Axes>"
            ],
            "image/png": "[encoded data removed]"
          },
          "metadata": {}
        }
      ]
    },
    {
      "cell_type": "markdown",
      "source": [
        "Random Forest Classifier, kNN and XGBoost Classifier easily stands out from the rest of the algorithms on the ROC Curve - they are almost perfect! We can thus choose Random Forest Classifier for the case where the target class is balanced."
      ],
      "metadata": {
        "id": "WtdDAPhqTR3e"
      }
    },
    {
      "cell_type": "markdown",
      "source": [
        "## Conclusion\n",
        "\n",
        "In healthcare, we have to take the False Positives and Negatives into account, since they can either have significant consequences on the society as a whole or on the patients themselves. Thus, accuracy alone cannot be used to judge a classifier's performance - we must also take into account the impact and the consequences that our model will have to face if we deploy it in the real-world. \n",
        "\n",
        "In this particular case, XGBoost Classifier works best among the classifiers we have implemented. However, it is still not a perfect classifier and we have to investigate the performance of the classifier further on newer test data to understand its limits."
      ],
      "metadata": {
        "id": "qaiawAKVTh9a"
      }
    },
    {
      "cell_type": "markdown",
      "source": [
        "## Miscellaneous - LazyPredict Library\n",
        "\n",
        "You may need to install the LazyPredict Library if you have not already done so:\n",
        "\n",
        "\n",
        "```\n",
        "!pip install lazypredict\n",
        "```\n",
        "\n"
      ],
      "metadata": {
        "id": "r4W0TOiiUzaU"
      }
    },
    {
      "cell_type": "code",
      "source": [
        "import lazypredict\n",
        "from lazypredict.Supervised import LazyClassifier"
      ],
      "metadata": {
        "id": "LY6iJ-1HUyIy"
      },
      "execution_count": 72,
      "outputs": []
    },
    {
      "cell_type": "code",
      "source": [
        "lazypredict_classifier = LazyClassifier(verbose=0, ignore_warnings=True, custom_metric = None, random_state = 42)\n",
        "model, predictions = lazypredict_classifier.fit(X_train_PCA, X_test_PCA, Y_train, Y_test)\n",
        "model"
      ],
      "metadata": {
        "colab": {
          "base_uri": "https://localhost:8080/",
          "height": 945
        },
        "id": "9JDAknkXZzrR",
        "outputId": "35a79850-dc1b-444b-c72d-d095e8917180"
      },
      "execution_count": 73,
      "outputs": [
        {
          "output_type": "stream",
          "name": "stderr",
          "text": [
            "100%|██████████| 29/29 [00:01<00:00, 15.96it/s]\n"
          ]
        },
        {
          "output_type": "execute_result",
          "data": {
            "text/plain": [
              "                               Accuracy  Balanced Accuracy  ROC AUC  F1 Score  \\\n",
              "Model                                                                           \n",
              "XGBClassifier                      0.97               0.97     0.97      0.97   \n",
              "ExtraTreesClassifier               0.97               0.97     0.97      0.97   \n",
              "LGBMClassifier                     0.95               0.95     0.95      0.95   \n",
              "RandomForestClassifier             0.95               0.95     0.95      0.95   \n",
              "LabelSpreading                     0.95               0.95     0.95      0.95   \n",
              "LabelPropagation                   0.95               0.95     0.95      0.95   \n",
              "KNeighborsClassifier               0.93               0.94     0.94      0.93   \n",
              "BaggingClassifier                  0.93               0.93     0.93      0.93   \n",
              "AdaBoostClassifier                 0.92               0.92     0.92      0.92   \n",
              "SVC                                0.90               0.90     0.90      0.90   \n",
              "ExtraTreeClassifier                0.90               0.90     0.90      0.90   \n",
              "DecisionTreeClassifier             0.90               0.90     0.90      0.90   \n",
              "NuSVC                              0.89               0.89     0.89      0.88   \n",
              "QuadraticDiscriminantAnalysis      0.87               0.87     0.87      0.87   \n",
              "RidgeClassifier                    0.85               0.85     0.85      0.85   \n",
              "LinearDiscriminantAnalysis         0.85               0.85     0.85      0.85   \n",
              "LinearSVC                          0.85               0.85     0.85      0.85   \n",
              "LogisticRegression                 0.85               0.85     0.85      0.85   \n",
              "CalibratedClassifierCV             0.85               0.85     0.85      0.85   \n",
              "NearestCentroid                    0.84               0.84     0.84      0.83   \n",
              "RidgeClassifierCV                  0.84               0.84     0.84      0.83   \n",
              "GaussianNB                         0.79               0.79     0.79      0.78   \n",
              "BernoulliNB                        0.75               0.76     0.76      0.75   \n",
              "Perceptron                         0.74               0.74     0.74      0.74   \n",
              "PassiveAggressiveClassifier        0.70               0.70     0.70      0.70   \n",
              "SGDClassifier                      0.67               0.67     0.67      0.66   \n",
              "DummyClassifier                    0.49               0.50     0.50      0.32   \n",
              "\n",
              "                               Time Taken  \n",
              "Model                                      \n",
              "XGBClassifier                        0.08  \n",
              "ExtraTreesClassifier                 0.25  \n",
              "LGBMClassifier                       0.09  \n",
              "RandomForestClassifier               0.34  \n",
              "LabelSpreading                       0.06  \n",
              "LabelPropagation                     0.05  \n",
              "KNeighborsClassifier                 0.02  \n",
              "BaggingClassifier                    0.12  \n",
              "AdaBoostClassifier                   0.17  \n",
              "SVC                                  0.02  \n",
              "ExtraTreeClassifier                  0.02  \n",
              "DecisionTreeClassifier               0.02  \n",
              "NuSVC                                0.04  \n",
              "QuadraticDiscriminantAnalysis        0.03  \n",
              "RidgeClassifier                      0.02  \n",
              "LinearDiscriminantAnalysis           0.04  \n",
              "LinearSVC                            0.04  \n",
              "LogisticRegression                   0.03  \n",
              "CalibratedClassifierCV               0.10  \n",
              "NearestCentroid                      0.02  \n",
              "RidgeClassifierCV                    0.02  \n",
              "GaussianNB                           0.02  \n",
              "BernoulliNB                          0.02  \n",
              "Perceptron                           0.02  \n",
              "PassiveAggressiveClassifier          0.03  \n",
              "SGDClassifier                        0.02  \n",
              "DummyClassifier                      0.02  "
            ],
            "text/html": [
              "\n",
              "  <div id=\"df-9bb5306d-5a2a-4a74-b466-8a9efcec19a0\">\n",
              "    <div class=\"colab-df-container\">\n",
              "      <div>\n",
              "<style scoped>\n",
              "    .dataframe tbody tr th:only-of-type {\n",
              "        vertical-align: middle;\n",
              "    }\n",
              "\n",
              "    .dataframe tbody tr th {\n",
              "        vertical-align: top;\n",
              "    }\n",
              "\n",
              "    .dataframe thead th {\n",
              "        text-align: right;\n",
              "    }\n",
              "</style>\n",
              "<table border=\"1\" class=\"dataframe\">\n",
              "  <thead>\n",
              "    <tr style=\"text-align: right;\">\n",
              "      <th></th>\n",
              "      <th>Accuracy</th>\n",
              "      <th>Balanced Accuracy</th>\n",
              "      <th>ROC AUC</th>\n",
              "      <th>F1 Score</th>\n",
              "      <th>Time Taken</th>\n",
              "    </tr>\n",
              "    <tr>\n",
              "      <th>Model</th>\n",
              "      <th></th>\n",
              "      <th></th>\n",
              "      <th></th>\n",
              "      <th></th>\n",
              "      <th></th>\n",
              "    </tr>\n",
              "  </thead>\n",
              "  <tbody>\n",
              "    <tr>\n",
              "      <th>XGBClassifier</th>\n",
              "      <td>0.97</td>\n",
              "      <td>0.97</td>\n",
              "      <td>0.97</td>\n",
              "      <td>0.97</td>\n",
              "      <td>0.08</td>\n",
              "    </tr>\n",
              "    <tr>\n",
              "      <th>ExtraTreesClassifier</th>\n",
              "      <td>0.97</td>\n",
              "      <td>0.97</td>\n",
              "      <td>0.97</td>\n",
              "      <td>0.97</td>\n",
              "      <td>0.25</td>\n",
              "    </tr>\n",
              "    <tr>\n",
              "      <th>LGBMClassifier</th>\n",
              "      <td>0.95</td>\n",
              "      <td>0.95</td>\n",
              "      <td>0.95</td>\n",
              "      <td>0.95</td>\n",
              "      <td>0.09</td>\n",
              "    </tr>\n",
              "    <tr>\n",
              "      <th>RandomForestClassifier</th>\n",
              "      <td>0.95</td>\n",
              "      <td>0.95</td>\n",
              "      <td>0.95</td>\n",
              "      <td>0.95</td>\n",
              "      <td>0.34</td>\n",
              "    </tr>\n",
              "    <tr>\n",
              "      <th>LabelSpreading</th>\n",
              "      <td>0.95</td>\n",
              "      <td>0.95</td>\n",
              "      <td>0.95</td>\n",
              "      <td>0.95</td>\n",
              "      <td>0.06</td>\n",
              "    </tr>\n",
              "    <tr>\n",
              "      <th>LabelPropagation</th>\n",
              "      <td>0.95</td>\n",
              "      <td>0.95</td>\n",
              "      <td>0.95</td>\n",
              "      <td>0.95</td>\n",
              "      <td>0.05</td>\n",
              "    </tr>\n",
              "    <tr>\n",
              "      <th>KNeighborsClassifier</th>\n",
              "      <td>0.93</td>\n",
              "      <td>0.94</td>\n",
              "      <td>0.94</td>\n",
              "      <td>0.93</td>\n",
              "      <td>0.02</td>\n",
              "    </tr>\n",
              "    <tr>\n",
              "      <th>BaggingClassifier</th>\n",
              "      <td>0.93</td>\n",
              "      <td>0.93</td>\n",
              "      <td>0.93</td>\n",
              "      <td>0.93</td>\n",
              "      <td>0.12</td>\n",
              "    </tr>\n",
              "    <tr>\n",
              "      <th>AdaBoostClassifier</th>\n",
              "      <td>0.92</td>\n",
              "      <td>0.92</td>\n",
              "      <td>0.92</td>\n",
              "      <td>0.92</td>\n",
              "      <td>0.17</td>\n",
              "    </tr>\n",
              "    <tr>\n",
              "      <th>SVC</th>\n",
              "      <td>0.90</td>\n",
              "      <td>0.90</td>\n",
              "      <td>0.90</td>\n",
              "      <td>0.90</td>\n",
              "      <td>0.02</td>\n",
              "    </tr>\n",
              "    <tr>\n",
              "      <th>ExtraTreeClassifier</th>\n",
              "      <td>0.90</td>\n",
              "      <td>0.90</td>\n",
              "      <td>0.90</td>\n",
              "      <td>0.90</td>\n",
              "      <td>0.02</td>\n",
              "    </tr>\n",
              "    <tr>\n",
              "      <th>DecisionTreeClassifier</th>\n",
              "      <td>0.90</td>\n",
              "      <td>0.90</td>\n",
              "      <td>0.90</td>\n",
              "      <td>0.90</td>\n",
              "      <td>0.02</td>\n",
              "    </tr>\n",
              "    <tr>\n",
              "      <th>NuSVC</th>\n",
              "      <td>0.89</td>\n",
              "      <td>0.89</td>\n",
              "      <td>0.89</td>\n",
              "      <td>0.88</td>\n",
              "      <td>0.04</td>\n",
              "    </tr>\n",
              "    <tr>\n",
              "      <th>QuadraticDiscriminantAnalysis</th>\n",
              "      <td>0.87</td>\n",
              "      <td>0.87</td>\n",
              "      <td>0.87</td>\n",
              "      <td>0.87</td>\n",
              "      <td>0.03</td>\n",
              "    </tr>\n",
              "    <tr>\n",
              "      <th>RidgeClassifier</th>\n",
              "      <td>0.85</td>\n",
              "      <td>0.85</td>\n",
              "      <td>0.85</td>\n",
              "      <td>0.85</td>\n",
              "      <td>0.02</td>\n",
              "    </tr>\n",
              "    <tr>\n",
              "      <th>LinearDiscriminantAnalysis</th>\n",
              "      <td>0.85</td>\n",
              "      <td>0.85</td>\n",
              "      <td>0.85</td>\n",
              "      <td>0.85</td>\n",
              "      <td>0.04</td>\n",
              "    </tr>\n",
              "    <tr>\n",
              "      <th>LinearSVC</th>\n",
              "      <td>0.85</td>\n",
              "      <td>0.85</td>\n",
              "      <td>0.85</td>\n",
              "      <td>0.85</td>\n",
              "      <td>0.04</td>\n",
              "    </tr>\n",
              "    <tr>\n",
              "      <th>LogisticRegression</th>\n",
              "      <td>0.85</td>\n",
              "      <td>0.85</td>\n",
              "      <td>0.85</td>\n",
              "      <td>0.85</td>\n",
              "      <td>0.03</td>\n",
              "    </tr>\n",
              "    <tr>\n",
              "      <th>CalibratedClassifierCV</th>\n",
              "      <td>0.85</td>\n",
              "      <td>0.85</td>\n",
              "      <td>0.85</td>\n",
              "      <td>0.85</td>\n",
              "      <td>0.10</td>\n",
              "    </tr>\n",
              "    <tr>\n",
              "      <th>NearestCentroid</th>\n",
              "      <td>0.84</td>\n",
              "      <td>0.84</td>\n",
              "      <td>0.84</td>\n",
              "      <td>0.83</td>\n",
              "      <td>0.02</td>\n",
              "    </tr>\n",
              "    <tr>\n",
              "      <th>RidgeClassifierCV</th>\n",
              "      <td>0.84</td>\n",
              "      <td>0.84</td>\n",
              "      <td>0.84</td>\n",
              "      <td>0.83</td>\n",
              "      <td>0.02</td>\n",
              "    </tr>\n",
              "    <tr>\n",
              "      <th>GaussianNB</th>\n",
              "      <td>0.79</td>\n",
              "      <td>0.79</td>\n",
              "      <td>0.79</td>\n",
              "      <td>0.78</td>\n",
              "      <td>0.02</td>\n",
              "    </tr>\n",
              "    <tr>\n",
              "      <th>BernoulliNB</th>\n",
              "      <td>0.75</td>\n",
              "      <td>0.76</td>\n",
              "      <td>0.76</td>\n",
              "      <td>0.75</td>\n",
              "      <td>0.02</td>\n",
              "    </tr>\n",
              "    <tr>\n",
              "      <th>Perceptron</th>\n",
              "      <td>0.74</td>\n",
              "      <td>0.74</td>\n",
              "      <td>0.74</td>\n",
              "      <td>0.74</td>\n",
              "      <td>0.02</td>\n",
              "    </tr>\n",
              "    <tr>\n",
              "      <th>PassiveAggressiveClassifier</th>\n",
              "      <td>0.70</td>\n",
              "      <td>0.70</td>\n",
              "      <td>0.70</td>\n",
              "      <td>0.70</td>\n",
              "      <td>0.03</td>\n",
              "    </tr>\n",
              "    <tr>\n",
              "      <th>SGDClassifier</th>\n",
              "      <td>0.67</td>\n",
              "      <td>0.67</td>\n",
              "      <td>0.67</td>\n",
              "      <td>0.66</td>\n",
              "      <td>0.02</td>\n",
              "    </tr>\n",
              "    <tr>\n",
              "      <th>DummyClassifier</th>\n",
              "      <td>0.49</td>\n",
              "      <td>0.50</td>\n",
              "      <td>0.50</td>\n",
              "      <td>0.32</td>\n",
              "      <td>0.02</td>\n",
              "    </tr>\n",
              "  </tbody>\n",
              "</table>\n",
              "</div>\n",
              "      <button class=\"colab-df-convert\" onclick=\"convertToInteractive('df-9bb5306d-5a2a-4a74-b466-8a9efcec19a0')\"\n",
              "              title=\"Convert this dataframe to an interactive table.\"\n",
              "              style=\"display:none;\">\n",
              "        \n",
              "  <svg xmlns=\"http://www.w3.org/2000/svg\" height=\"24px\"viewBox=\"0 0 24 24\"\n",
              "       width=\"24px\">\n",
              "    <path d=\"M0 0h24v24H0V0z\" fill=\"none\"/>\n",
              "    <path d=\"M18.56 5.44l.94 2.06.94-2.06 2.06-.94-2.06-.94-.94-2.06-.94 2.06-2.06.94zm-11 1L8.5 8.5l.94-2.06 2.06-.94-2.06-.94L8.5 2.5l-.94 2.06-2.06.94zm10 10l.94 2.06.94-2.06 2.06-.94-2.06-.94-.94-2.06-.94 2.06-2.06.94z\"/><path d=\"M17.41 7.96l-1.37-1.37c-.4-.4-.92-.59-1.43-.59-.52 0-1.04.2-1.43.59L10.3 9.45l-7.72 7.72c-.78.78-.78 2.05 0 2.83L4 21.41c.39.39.9.59 1.41.59.51 0 1.02-.2 1.41-.59l7.78-7.78 2.81-2.81c.8-.78.8-2.07 0-2.86zM5.41 20L4 18.59l7.72-7.72 1.47 1.35L5.41 20z\"/>\n",
              "  </svg>\n",
              "      </button>\n",
              "      \n",
              "  <style>\n",
              "    .colab-df-container {\n",
              "      display:flex;\n",
              "      flex-wrap:wrap;\n",
              "      gap: 12px;\n",
              "    }\n",
              "\n",
              "    .colab-df-convert {\n",
              "      background-color: #E8F0FE;\n",
              "      border: none;\n",
              "      border-radius: 50%;\n",
              "      cursor: pointer;\n",
              "      display: none;\n",
              "      fill: #1967D2;\n",
              "      height: 32px;\n",
              "      padding: 0 0 0 0;\n",
              "      width: 32px;\n",
              "    }\n",
              "\n",
              "    .colab-df-convert:hover {\n",
              "      background-color: #E2EBFA;\n",
              "      box-shadow: 0px 1px 2px rgba(60, 64, 67, 0.3), 0px 1px 3px 1px rgba(60, 64, 67, 0.15);\n",
              "      fill: #174EA6;\n",
              "    }\n",
              "\n",
              "    [theme=dark] .colab-df-convert {\n",
              "      background-color: #3B4455;\n",
              "      fill: #D2E3FC;\n",
              "    }\n",
              "\n",
              "    [theme=dark] .colab-df-convert:hover {\n",
              "      background-color: #434B5C;\n",
              "      box-shadow: 0px 1px 3px 1px rgba(0, 0, 0, 0.15);\n",
              "      filter: drop-shadow(0px 1px 2px rgba(0, 0, 0, 0.3));\n",
              "      fill: #FFFFFF;\n",
              "    }\n",
              "  </style>\n",
              "\n",
              "      <script>\n",
              "        const buttonEl =\n",
              "          document.querySelector('#df-9bb5306d-5a2a-4a74-b466-8a9efcec19a0 button.colab-df-convert');\n",
              "        buttonEl.style.display =\n",
              "          google.colab.kernel.accessAllowed ? 'block' : 'none';\n",
              "\n",
              "        async function convertToInteractive(key) {\n",
              "          const element = document.querySelector('#df-9bb5306d-5a2a-4a74-b466-8a9efcec19a0');\n",
              "          const dataTable =\n",
              "            await google.colab.kernel.invokeFunction('convertToInteractive',\n",
              "                                                     [key], {});\n",
              "          if (!dataTable) return;\n",
              "\n",
              "          const docLinkHtml = 'Like what you see? Visit the ' +\n",
              "            '<a target=\"_blank\" href=https://colab.research.google.com/notebooks/data_table.ipynb>data table notebook</a>'\n",
              "            + ' to learn more about interactive tables.';\n",
              "          element.innerHTML = '';\n",
              "          dataTable['output_type'] = 'display_data';\n",
              "          await google.colab.output.renderOutput(dataTable, element);\n",
              "          const docLink = document.createElement('div');\n",
              "          docLink.innerHTML = docLinkHtml;\n",
              "          element.appendChild(docLink);\n",
              "        }\n",
              "      </script>\n",
              "    </div>\n",
              "  </div>\n",
              "  "
            ]
          },
          "metadata": {},
          "execution_count": 73
        }
      ]
    },
    {
      "cell_type": "markdown",
      "source": [
        "We see that XGBoost and Random Forest Classifiers are amongst the top three, which is also the case when we have manually implemented them."
      ],
      "metadata": {
        "id": "hrm0exhKbN8h"
      }
    }
  ]
}