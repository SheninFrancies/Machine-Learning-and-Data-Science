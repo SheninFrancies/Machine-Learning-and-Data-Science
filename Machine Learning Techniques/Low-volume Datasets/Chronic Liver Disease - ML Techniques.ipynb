{
  "nbformat": 4,
  "nbformat_minor": 0,
  "metadata": {
    "colab": {
      "provenance": [],
      "toc_visible": true
    },
    "kernelspec": {
      "name": "python3",
      "display_name": "Python 3"
    },
    "language_info": {
      "name": "python"
    }
  },
  "cells": [
    {
      "cell_type": "markdown",
      "source": [
        "# Chronic Liver Disease \n",
        "\n",
        "The dataset can be found [here](https://www.kaggle.com/datasets/uciml/indian-liver-patient-records).\n",
        "\n",
        "This data set contains 416 liver patient records and 167 non liver patient records collected from North East of Andhra Pradesh, India. The \"Dataset\" column is a class label used to divide groups into liver patient (liver disease) or not (no disease). This data set contains 441 male patient records and 142 female patient records.\n",
        "\n",
        "Any patient whose age exceeded 89 is listed as being of age \"90\".\n",
        "\n",
        "The dataset contains the following features:\n",
        "1. Age of the patient\n",
        "2. Gender of the patient\n",
        "3. Total Bilirubin\n",
        "4. Direct Bilirubin\n",
        "5. Alkaline Phosphotase\n",
        "6. Alamine Aminotransferase\n",
        "7. Aspartate Aminotransferase\n",
        "8. Total Protiens\n",
        "9. Albumin\n",
        "10. Albumin and Globulin Ratio\n",
        "11. Dataset: Target - Patient with liver disease, or no disease"
      ],
      "metadata": {
        "id": "c7Vtlvd-0gpR"
      }
    },
    {
      "cell_type": "code",
      "execution_count": 1,
      "metadata": {
        "id": "DL1R89FCx19E"
      },
      "outputs": [],
      "source": [
        "import pandas as pd\n",
        "import numpy as np\n",
        "import matplotlib.pyplot as plt\n",
        "import seaborn as sns\n",
        "sns.set()"
      ]
    },
    {
      "cell_type": "code",
      "source": [
        "data = pd.read_csv(r'/content/drive/MyDrive/Colab Notebooks/Machine Learning/Data Training/Chronic Liver Disease/indian_liver_patient.csv')\n",
        "data.head()"
      ],
      "metadata": {
        "colab": {
          "base_uri": "https://localhost:8080/",
          "height": 270
        },
        "id": "z2U8LreV0EwB",
        "outputId": "bc0f4b94-b129-4fba-d0ad-84fe370440e6"
      },
      "execution_count": 2,
      "outputs": [
        {
          "output_type": "execute_result",
          "data": {
            "text/plain": [
              "   Age  Gender  Total_Bilirubin  Direct_Bilirubin  Alkaline_Phosphotase  \\\n",
              "0   65  Female              0.7               0.1                   187   \n",
              "1   62    Male             10.9               5.5                   699   \n",
              "2   62    Male              7.3               4.1                   490   \n",
              "3   58    Male              1.0               0.4                   182   \n",
              "4   72    Male              3.9               2.0                   195   \n",
              "\n",
              "   Alamine_Aminotransferase  Aspartate_Aminotransferase  Total_Protiens  \\\n",
              "0                        16                          18             6.8   \n",
              "1                        64                         100             7.5   \n",
              "2                        60                          68             7.0   \n",
              "3                        14                          20             6.8   \n",
              "4                        27                          59             7.3   \n",
              "\n",
              "   Albumin  Albumin_and_Globulin_Ratio  Dataset  \n",
              "0      3.3                        0.90        1  \n",
              "1      3.2                        0.74        1  \n",
              "2      3.3                        0.89        1  \n",
              "3      3.4                        1.00        1  \n",
              "4      2.4                        0.40        1  "
            ],
            "text/html": [
              "\n",
              "  <div id=\"df-b9caa59e-450a-46cd-bccb-79a203e8106a\">\n",
              "    <div class=\"colab-df-container\">\n",
              "      <div>\n",
              "<style scoped>\n",
              "    .dataframe tbody tr th:only-of-type {\n",
              "        vertical-align: middle;\n",
              "    }\n",
              "\n",
              "    .dataframe tbody tr th {\n",
              "        vertical-align: top;\n",
              "    }\n",
              "\n",
              "    .dataframe thead th {\n",
              "        text-align: right;\n",
              "    }\n",
              "</style>\n",
              "<table border=\"1\" class=\"dataframe\">\n",
              "  <thead>\n",
              "    <tr style=\"text-align: right;\">\n",
              "      <th></th>\n",
              "      <th>Age</th>\n",
              "      <th>Gender</th>\n",
              "      <th>Total_Bilirubin</th>\n",
              "      <th>Direct_Bilirubin</th>\n",
              "      <th>Alkaline_Phosphotase</th>\n",
              "      <th>Alamine_Aminotransferase</th>\n",
              "      <th>Aspartate_Aminotransferase</th>\n",
              "      <th>Total_Protiens</th>\n",
              "      <th>Albumin</th>\n",
              "      <th>Albumin_and_Globulin_Ratio</th>\n",
              "      <th>Dataset</th>\n",
              "    </tr>\n",
              "  </thead>\n",
              "  <tbody>\n",
              "    <tr>\n",
              "      <th>0</th>\n",
              "      <td>65</td>\n",
              "      <td>Female</td>\n",
              "      <td>0.7</td>\n",
              "      <td>0.1</td>\n",
              "      <td>187</td>\n",
              "      <td>16</td>\n",
              "      <td>18</td>\n",
              "      <td>6.8</td>\n",
              "      <td>3.3</td>\n",
              "      <td>0.90</td>\n",
              "      <td>1</td>\n",
              "    </tr>\n",
              "    <tr>\n",
              "      <th>1</th>\n",
              "      <td>62</td>\n",
              "      <td>Male</td>\n",
              "      <td>10.9</td>\n",
              "      <td>5.5</td>\n",
              "      <td>699</td>\n",
              "      <td>64</td>\n",
              "      <td>100</td>\n",
              "      <td>7.5</td>\n",
              "      <td>3.2</td>\n",
              "      <td>0.74</td>\n",
              "      <td>1</td>\n",
              "    </tr>\n",
              "    <tr>\n",
              "      <th>2</th>\n",
              "      <td>62</td>\n",
              "      <td>Male</td>\n",
              "      <td>7.3</td>\n",
              "      <td>4.1</td>\n",
              "      <td>490</td>\n",
              "      <td>60</td>\n",
              "      <td>68</td>\n",
              "      <td>7.0</td>\n",
              "      <td>3.3</td>\n",
              "      <td>0.89</td>\n",
              "      <td>1</td>\n",
              "    </tr>\n",
              "    <tr>\n",
              "      <th>3</th>\n",
              "      <td>58</td>\n",
              "      <td>Male</td>\n",
              "      <td>1.0</td>\n",
              "      <td>0.4</td>\n",
              "      <td>182</td>\n",
              "      <td>14</td>\n",
              "      <td>20</td>\n",
              "      <td>6.8</td>\n",
              "      <td>3.4</td>\n",
              "      <td>1.00</td>\n",
              "      <td>1</td>\n",
              "    </tr>\n",
              "    <tr>\n",
              "      <th>4</th>\n",
              "      <td>72</td>\n",
              "      <td>Male</td>\n",
              "      <td>3.9</td>\n",
              "      <td>2.0</td>\n",
              "      <td>195</td>\n",
              "      <td>27</td>\n",
              "      <td>59</td>\n",
              "      <td>7.3</td>\n",
              "      <td>2.4</td>\n",
              "      <td>0.40</td>\n",
              "      <td>1</td>\n",
              "    </tr>\n",
              "  </tbody>\n",
              "</table>\n",
              "</div>\n",
              "      <button class=\"colab-df-convert\" onclick=\"convertToInteractive('df-b9caa59e-450a-46cd-bccb-79a203e8106a')\"\n",
              "              title=\"Convert this dataframe to an interactive table.\"\n",
              "              style=\"display:none;\">\n",
              "        \n",
              "  <svg xmlns=\"http://www.w3.org/2000/svg\" height=\"24px\"viewBox=\"0 0 24 24\"\n",
              "       width=\"24px\">\n",
              "    <path d=\"M0 0h24v24H0V0z\" fill=\"none\"/>\n",
              "    <path d=\"M18.56 5.44l.94 2.06.94-2.06 2.06-.94-2.06-.94-.94-2.06-.94 2.06-2.06.94zm-11 1L8.5 8.5l.94-2.06 2.06-.94-2.06-.94L8.5 2.5l-.94 2.06-2.06.94zm10 10l.94 2.06.94-2.06 2.06-.94-2.06-.94-.94-2.06-.94 2.06-2.06.94z\"/><path d=\"M17.41 7.96l-1.37-1.37c-.4-.4-.92-.59-1.43-.59-.52 0-1.04.2-1.43.59L10.3 9.45l-7.72 7.72c-.78.78-.78 2.05 0 2.83L4 21.41c.39.39.9.59 1.41.59.51 0 1.02-.2 1.41-.59l7.78-7.78 2.81-2.81c.8-.78.8-2.07 0-2.86zM5.41 20L4 18.59l7.72-7.72 1.47 1.35L5.41 20z\"/>\n",
              "  </svg>\n",
              "      </button>\n",
              "      \n",
              "  <style>\n",
              "    .colab-df-container {\n",
              "      display:flex;\n",
              "      flex-wrap:wrap;\n",
              "      gap: 12px;\n",
              "    }\n",
              "\n",
              "    .colab-df-convert {\n",
              "      background-color: #E8F0FE;\n",
              "      border: none;\n",
              "      border-radius: 50%;\n",
              "      cursor: pointer;\n",
              "      display: none;\n",
              "      fill: #1967D2;\n",
              "      height: 32px;\n",
              "      padding: 0 0 0 0;\n",
              "      width: 32px;\n",
              "    }\n",
              "\n",
              "    .colab-df-convert:hover {\n",
              "      background-color: #E2EBFA;\n",
              "      box-shadow: 0px 1px 2px rgba(60, 64, 67, 0.3), 0px 1px 3px 1px rgba(60, 64, 67, 0.15);\n",
              "      fill: #174EA6;\n",
              "    }\n",
              "\n",
              "    [theme=dark] .colab-df-convert {\n",
              "      background-color: #3B4455;\n",
              "      fill: #D2E3FC;\n",
              "    }\n",
              "\n",
              "    [theme=dark] .colab-df-convert:hover {\n",
              "      background-color: #434B5C;\n",
              "      box-shadow: 0px 1px 3px 1px rgba(0, 0, 0, 0.15);\n",
              "      filter: drop-shadow(0px 1px 2px rgba(0, 0, 0, 0.3));\n",
              "      fill: #FFFFFF;\n",
              "    }\n",
              "  </style>\n",
              "\n",
              "      <script>\n",
              "        const buttonEl =\n",
              "          document.querySelector('#df-b9caa59e-450a-46cd-bccb-79a203e8106a button.colab-df-convert');\n",
              "        buttonEl.style.display =\n",
              "          google.colab.kernel.accessAllowed ? 'block' : 'none';\n",
              "\n",
              "        async function convertToInteractive(key) {\n",
              "          const element = document.querySelector('#df-b9caa59e-450a-46cd-bccb-79a203e8106a');\n",
              "          const dataTable =\n",
              "            await google.colab.kernel.invokeFunction('convertToInteractive',\n",
              "                                                     [key], {});\n",
              "          if (!dataTable) return;\n",
              "\n",
              "          const docLinkHtml = 'Like what you see? Visit the ' +\n",
              "            '<a target=\"_blank\" href=https://colab.research.google.com/notebooks/data_table.ipynb>data table notebook</a>'\n",
              "            + ' to learn more about interactive tables.';\n",
              "          element.innerHTML = '';\n",
              "          dataTable['output_type'] = 'display_data';\n",
              "          await google.colab.output.renderOutput(dataTable, element);\n",
              "          const docLink = document.createElement('div');\n",
              "          docLink.innerHTML = docLinkHtml;\n",
              "          element.appendChild(docLink);\n",
              "        }\n",
              "      </script>\n",
              "    </div>\n",
              "  </div>\n",
              "  "
            ]
          },
          "metadata": {},
          "execution_count": 2
        }
      ]
    },
    {
      "cell_type": "markdown",
      "source": [
        "## Data analysis"
      ],
      "metadata": {
        "id": "-cBs69VgKjRT"
      }
    },
    {
      "cell_type": "code",
      "source": [
        "data.info()"
      ],
      "metadata": {
        "colab": {
          "base_uri": "https://localhost:8080/"
        },
        "id": "Yxj_nMAf0P9H",
        "outputId": "cf3b6b94-7d8c-4f9e-9e70-99a4963ad6ae"
      },
      "execution_count": 3,
      "outputs": [
        {
          "output_type": "stream",
          "name": "stdout",
          "text": [
            "<class 'pandas.core.frame.DataFrame'>\n",
            "RangeIndex: 583 entries, 0 to 582\n",
            "Data columns (total 11 columns):\n",
            " #   Column                      Non-Null Count  Dtype  \n",
            "---  ------                      --------------  -----  \n",
            " 0   Age                         583 non-null    int64  \n",
            " 1   Gender                      583 non-null    object \n",
            " 2   Total_Bilirubin             583 non-null    float64\n",
            " 3   Direct_Bilirubin            583 non-null    float64\n",
            " 4   Alkaline_Phosphotase        583 non-null    int64  \n",
            " 5   Alamine_Aminotransferase    583 non-null    int64  \n",
            " 6   Aspartate_Aminotransferase  583 non-null    int64  \n",
            " 7   Total_Protiens              583 non-null    float64\n",
            " 8   Albumin                     583 non-null    float64\n",
            " 9   Albumin_and_Globulin_Ratio  579 non-null    float64\n",
            " 10  Dataset                     583 non-null    int64  \n",
            "dtypes: float64(5), int64(5), object(1)\n",
            "memory usage: 50.2+ KB\n"
          ]
        }
      ]
    },
    {
      "cell_type": "markdown",
      "source": [
        "There are 4 missing values in Albumin_and_Globulin_ratio column."
      ],
      "metadata": {
        "id": "f-H6icnK-XHM"
      }
    },
    {
      "cell_type": "code",
      "source": [
        "data['Albumin_and_Globulin_Ratio'].unique()"
      ],
      "metadata": {
        "colab": {
          "base_uri": "https://localhost:8080/"
        },
        "id": "hDoD9t-jCzpc",
        "outputId": "2ca14826-6d23-4407-bf6e-fb1c013393dc"
      },
      "execution_count": 4,
      "outputs": [
        {
          "output_type": "execute_result",
          "data": {
            "text/plain": [
              "array([0.9 , 0.74, 0.89, 1.  , 0.4 , 1.3 , 1.1 , 1.2 , 0.8 , 0.6 , 0.87,\n",
              "       0.7 , 0.92, 0.55, 0.5 , 1.85, 0.95, 1.4 , 1.18, 0.61, 1.34, 1.39,\n",
              "       1.6 , 1.58, 1.25, 0.78, 0.76, 1.55, 0.71, 0.62, 0.67, 0.75, 1.16,\n",
              "       1.5 , 1.66, 0.96, 1.38, 0.52, 0.47, 0.93, 0.48, 0.58, 0.69, 1.27,\n",
              "       1.12, 1.06, 0.53, 1.03, 0.68,  nan, 1.9 , 1.7 , 1.8 , 0.3 , 0.97,\n",
              "       0.35, 1.51, 0.64, 0.45, 1.36, 0.88, 1.09, 1.11, 1.72, 2.8 , 0.46,\n",
              "       0.39, 1.02, 2.5 , 0.37])"
            ]
          },
          "metadata": {},
          "execution_count": 4
        }
      ]
    },
    {
      "cell_type": "markdown",
      "source": [
        "We can fill the missing values with its mean:"
      ],
      "metadata": {
        "id": "2oREr7QEC_MS"
      }
    },
    {
      "cell_type": "code",
      "source": [
        "data['Albumin_and_Globulin_Ratio'] = data['Albumin_and_Globulin_Ratio'].fillna(data['Albumin_and_Globulin_Ratio'].mean())"
      ],
      "metadata": {
        "id": "xgaZDnJL0SsS"
      },
      "execution_count": 5,
      "outputs": []
    },
    {
      "cell_type": "markdown",
      "source": [
        "We rename the column 'Dataset' to 'Target' to reflect its true meaning:"
      ],
      "metadata": {
        "id": "AQg_1BqKDvn3"
      }
    },
    {
      "cell_type": "code",
      "source": [
        "data.rename(columns = {'Dataset':'Target'}, inplace = True)\n",
        "data.info()"
      ],
      "metadata": {
        "colab": {
          "base_uri": "https://localhost:8080/"
        },
        "id": "Y29aZnL0DF6f",
        "outputId": "8686af5e-974d-43c7-fbac-a9f765df390e"
      },
      "execution_count": 6,
      "outputs": [
        {
          "output_type": "stream",
          "name": "stdout",
          "text": [
            "<class 'pandas.core.frame.DataFrame'>\n",
            "RangeIndex: 583 entries, 0 to 582\n",
            "Data columns (total 11 columns):\n",
            " #   Column                      Non-Null Count  Dtype  \n",
            "---  ------                      --------------  -----  \n",
            " 0   Age                         583 non-null    int64  \n",
            " 1   Gender                      583 non-null    object \n",
            " 2   Total_Bilirubin             583 non-null    float64\n",
            " 3   Direct_Bilirubin            583 non-null    float64\n",
            " 4   Alkaline_Phosphotase        583 non-null    int64  \n",
            " 5   Alamine_Aminotransferase    583 non-null    int64  \n",
            " 6   Aspartate_Aminotransferase  583 non-null    int64  \n",
            " 7   Total_Protiens              583 non-null    float64\n",
            " 8   Albumin                     583 non-null    float64\n",
            " 9   Albumin_and_Globulin_Ratio  583 non-null    float64\n",
            " 10  Target                      583 non-null    int64  \n",
            "dtypes: float64(5), int64(5), object(1)\n",
            "memory usage: 50.2+ KB\n"
          ]
        }
      ]
    },
    {
      "cell_type": "code",
      "source": [
        "for x in data.columns:\n",
        "  print('Unique values for column \"{}\": \\n'.format(x), data[x].unique())"
      ],
      "metadata": {
        "colab": {
          "base_uri": "https://localhost:8080/"
        },
        "id": "LBrRbQuHD3Tm",
        "outputId": "778ce0bf-8db2-4810-ea16-6e4c980258ee"
      },
      "execution_count": 7,
      "outputs": [
        {
          "output_type": "stream",
          "name": "stdout",
          "text": [
            "Unique values for column \"Age\": \n",
            " [65 62 58 72 46 26 29 17 55 57 64 74 61 25 38 33 40 51 63 34 20 84 52 30\n",
            " 48 47 45 42 50 85 35 21 32 31 54 37 66 60 19 75 68 70 49 14 13 18 39 27\n",
            " 36 24 28 53 15 56 44 41  7 22  8  6  4 43 23 12 69 16 78 11 73 67 10 90]\n",
            "Unique values for column \"Gender\": \n",
            " ['Female' 'Male']\n",
            "Unique values for column \"Total_Bilirubin\": \n",
            " [ 0.7 10.9  7.3  1.   3.9  1.8  0.9  0.6  2.7  1.1  1.6  2.2  2.9  6.8\n",
            "  1.9  4.1  6.2  4.   2.6  1.3 14.2  1.4  2.4 18.4  3.1  8.9  0.8  2.8\n",
            "  2.   5.7  8.6  5.8  5.2  3.8  6.6  0.5  5.3  3.2  1.2 12.7 15.9 18.\n",
            " 23.  22.7  1.7  3.  11.3  4.7  4.2  3.5  5.9  8.7 11.  11.5  4.5 75.\n",
            " 22.8 14.1 14.8 10.6  8.   1.5  2.1  6.3  2.3 27.2  2.5  3.6 30.5 16.4\n",
            " 14.5 18.5 23.2  3.7  3.3  7.1  6.7 22.6  7.5  5.   4.9  8.2  0.4  7.4\n",
            " 23.3  7.9  3.4 19.8 32.6 17.7 20.  26.3  4.4  9.4 30.8 19.6 15.8  5.5\n",
            " 20.2 27.7 11.1 10.2 42.8 15.2 16.6 17.3 22.5 16.7  7.7 15.6 12.1 25.\n",
            " 15. ]\n",
            "Unique values for column \"Direct_Bilirubin\": \n",
            " [ 0.1  5.5  4.1  0.4  2.   0.7  0.2  0.3  1.3  0.8  0.5  1.   3.   1.9\n",
            "  1.2  7.8  0.6  1.1  3.2  1.8  8.8  1.6  4.5  2.8  4.   2.7  2.4  1.5\n",
            "  2.3  3.6  6.2  7.   8.2 11.3 10.2  2.5  1.4  1.7  5.6  2.2  2.1  4.9\n",
            "  5.   0.9 12.6  7.6  9.   4.6 11.8 14.2  8.9  6.4  9.5  3.3 11.4  4.3\n",
            "  3.7  2.6  3.9  5.1 12.8 10.4 17.1 14.1  8.5 10.  12.1  2.9  5.2 18.3\n",
            "  7.2 11.7 10.8  6.1  4.2 19.7  7.7  8.4  6.  13.7]\n",
            "Unique values for column \"Alkaline_Phosphotase\": \n",
            " [ 187  699  490  182  195  208  154  202  290  210  260  310  214  145\n",
            "  183  342  165  293  610  482  542  231  194  289  240  128  188  190\n",
            "  156  410  374  263  275  168  160  630  415  150  230  176  206  170\n",
            "  161  253  198  272  175  367  158  259  470  215  239  186  205  171\n",
            "  162  518 1620  146  670  915   75  148  258  237  269  320  298  538\n",
            "  238  308  204  282  265  312  243  224  225  486  257  179  661 1580\n",
            " 1630  280  300  178  177  201  802  248 1896  512  199 1110  380  159\n",
            "  332  189  392  286  180  218  462  196  750 1050  599  292  962  950\n",
            "  200 1020  562  386  250  191  614  314  209 1124  664  142  169 1420\n",
            "  135  163  285  350  220  219  401  100  116  125  147  192  400  120\n",
            "  173  157 2110  360  316  498  480  680  152  859  901  335  245  505\n",
            "  228  185  247  348  140  358  110  235  460  262  144  123  575  155\n",
            "  315  174  340  234  430  588  527  574  106  216   63  302  211  458\n",
            "  375  405  650  115  621  256  418  271  130  558  326  331  172  105\n",
            "  102  149  580   92  719  554  555  509  690  862  592  450 1350  246\n",
            "  166 1750  236  212  279  181 1550 1100  686  309  164  270  137   90\n",
            "  167  197  226  352  103  850  276  193  805  151  349  365  305  127\n",
            "  254  108  268  138  466  227  395   97  406  114  153  768  232  390\n",
            "  356  388  143  251  134  612  515  560  500   98  184]\n",
            "Unique values for column \"Alamine_Aminotransferase\": \n",
            " [  16   64   60   14   27   19   22   53   51   31   61   91  168   15\n",
            "  232   17  116   52  875 1680   20   13   45   35   59  102   18   38\n",
            "  123   33   42   25  407   48   36 1630   39   21   80   86   26   24\n",
            "   37   40   62   55  166  189   95   12  194   58   28  119  412  404\n",
            "  220  126  190   97  308   32   29   11   63  181   88   74 2000 1350\n",
            " 1250  482  322  133   46   57   50   34   72   84   30   70  140   99\n",
            "   43  378  112   71   23   79  114  118  107  790  950   82   41   56\n",
            "   85  149  230   69   90   89  148   65  205   96  152  390   10  120\n",
            "   78  178  179   47  160   54  198   44  349  110  115   94  142  137\n",
            "  155  157  141  284  440   93   76   49  425  159  622  779  132  154\n",
            "  196   68  509   67  139  382   75  321  233  173  213  131]\n",
            "Unique values for column \"Aspartate_Aminotransferase\": \n",
            " [  18  100   68   20   59   14   12   11   19   58   56   30   41   53\n",
            "  441   23  245   28   34   66   55   45  731  850   21  111   44   57\n",
            "   80   36   77   73   50  110   47  576   15  178   27  960  406  150\n",
            "   61   54   24   16   43   97   86   88   95   26   17  397   29   22\n",
            "  127   79  142  152   31  350  794  400  202  630  950  161  405   92\n",
            "   39   10  116   98  285   64  149 2946 1600 1050  275  113   84   25\n",
            "   40   83   65 4929   90  140  139   87   38   42  233  138   82   35\n",
            "   32  187   62   74   67   37  602   63   99  103  145  247  114  104\n",
            "   51   60 1500   33  180  148   46   13   85  231  156   89  298   48\n",
            "  130   75  500  105  250  232  143  176   70   52   91  236  108  190\n",
            "   71  126  141  102   81  511   72  135  497  844  368  188  248  401\n",
            "   76  221  235  185  230  540  181  155  200  186  623  220   78  348\n",
            "  125  330  562  384  367  101  168  134   49]\n",
            "Unique values for column \"Total_Protiens\": \n",
            " [6.8 7.5 7.  7.3 7.6 6.7 7.4 5.9 8.1 5.8 5.5 6.4 4.3 6.  5.  7.2 3.9 5.2\n",
            " 4.9 5.6 6.9 6.2 5.1 6.1 6.5 5.7 6.6 6.3 8.  4.4 5.3 4.6 4.7 5.4 7.1 4.\n",
            " 3.7 2.7 3.  3.8 7.8 4.5 4.1 4.8 7.9 8.5 7.7 8.2 2.8 9.5 9.6 8.3 8.6 8.4\n",
            " 8.9 8.7 3.6 9.2]\n",
            "Unique values for column \"Albumin\": \n",
            " [3.3 3.2 3.4 2.4 4.4 3.5 3.6 4.1 2.7 3.  2.3 3.1 2.6 1.6 3.9 4.  1.9 1.5\n",
            " 2.9 2.  2.2 2.8 1.8 2.5 2.1 3.7 3.8 4.3 1.7 4.2 4.5 0.9 1.4 4.7 5.5 4.9\n",
            " 4.6 4.8 5.  1. ]\n",
            "Unique values for column \"Albumin_and_Globulin_Ratio\": \n",
            " [0.9       0.74      0.89      1.        0.4       1.3       1.1\n",
            " 1.2       0.8       0.6       0.87      0.7       0.92      0.55\n",
            " 0.5       1.85      0.95      1.4       1.18      0.61      1.34\n",
            " 1.39      1.6       1.58      1.25      0.78      0.76      1.55\n",
            " 0.71      0.62      0.67      0.75      1.16      1.5       1.66\n",
            " 0.96      1.38      0.52      0.47      0.93      0.48      0.58\n",
            " 0.69      1.27      1.12      1.06      0.53      1.03      0.68\n",
            " 0.9470639 1.9       1.7       1.8       0.3       0.97      0.35\n",
            " 1.51      0.64      0.45      1.36      0.88      1.09      1.11\n",
            " 1.72      2.8       0.46      0.39      1.02      2.5       0.37     ]\n",
            "Unique values for column \"Target\": \n",
            " [1 2]\n"
          ]
        }
      ]
    },
    {
      "cell_type": "markdown",
      "source": [
        "There does not seem to be any mismatches or errors. Encode the categorical variable Gender:"
      ],
      "metadata": {
        "id": "PTXZbm8mHcKR"
      }
    },
    {
      "cell_type": "code",
      "source": [
        "from sklearn.preprocessing import LabelEncoder\n",
        "Encoder = LabelEncoder()\n",
        "data['Gender'] = Encoder.fit_transform(data['Gender'])\n",
        "data['Gender'].unique()"
      ],
      "metadata": {
        "colab": {
          "base_uri": "https://localhost:8080/"
        },
        "id": "wEfBlxJFEIIZ",
        "outputId": "7d54b946-bf47-49be-c80b-27ee1f7e22aa"
      },
      "execution_count": 8,
      "outputs": [
        {
          "output_type": "execute_result",
          "data": {
            "text/plain": [
              "array([0, 1])"
            ]
          },
          "metadata": {},
          "execution_count": 8
        }
      ]
    },
    {
      "cell_type": "code",
      "source": [
        "data.info()"
      ],
      "metadata": {
        "colab": {
          "base_uri": "https://localhost:8080/"
        },
        "id": "_ftYpx1XJH-7",
        "outputId": "0915972c-8398-4d09-e2e6-0be0bc60d8f2"
      },
      "execution_count": 9,
      "outputs": [
        {
          "output_type": "stream",
          "name": "stdout",
          "text": [
            "<class 'pandas.core.frame.DataFrame'>\n",
            "RangeIndex: 583 entries, 0 to 582\n",
            "Data columns (total 11 columns):\n",
            " #   Column                      Non-Null Count  Dtype  \n",
            "---  ------                      --------------  -----  \n",
            " 0   Age                         583 non-null    int64  \n",
            " 1   Gender                      583 non-null    int64  \n",
            " 2   Total_Bilirubin             583 non-null    float64\n",
            " 3   Direct_Bilirubin            583 non-null    float64\n",
            " 4   Alkaline_Phosphotase        583 non-null    int64  \n",
            " 5   Alamine_Aminotransferase    583 non-null    int64  \n",
            " 6   Aspartate_Aminotransferase  583 non-null    int64  \n",
            " 7   Total_Protiens              583 non-null    float64\n",
            " 8   Albumin                     583 non-null    float64\n",
            " 9   Albumin_and_Globulin_Ratio  583 non-null    float64\n",
            " 10  Target                      583 non-null    int64  \n",
            "dtypes: float64(5), int64(6)\n",
            "memory usage: 50.2 KB\n"
          ]
        }
      ]
    },
    {
      "cell_type": "markdown",
      "source": [
        "We check the correlation:"
      ],
      "metadata": {
        "id": "4gdB8Bi4LxLq"
      }
    },
    {
      "cell_type": "code",
      "source": [
        "plt.figure(figsize = (10,10))\n",
        "sns.heatmap(data.corr(), annot = True)"
      ],
      "metadata": {
        "colab": {
          "base_uri": "https://localhost:8080/",
          "height": 763
        },
        "id": "aaTT80zzL0bj",
        "outputId": "c5994f70-4c05-49ae-bab0-2351d6db2d7d"
      },
      "execution_count": 10,
      "outputs": [
        {
          "output_type": "execute_result",
          "data": {
            "text/plain": [
              "<matplotlib.axes._subplots.AxesSubplot at 0x7f4cc0d5f5b0>"
            ]
          },
          "metadata": {},
          "execution_count": 10
        },
        {
          "output_type": "display_data",
          "data": {
            "text/plain": [
              "<Figure size 720x720 with 2 Axes>"
            ],
            "image/png": "[encoded data removed]"
          },
          "metadata": {}
        }
      ]
    },
    {
      "cell_type": "markdown",
      "source": [
        "There is no noteworthy correlation.\n",
        "\n",
        "Now we check the Target class:"
      ],
      "metadata": {
        "id": "-CjsQHyDJxc_"
      }
    },
    {
      "cell_type": "code",
      "source": [
        "data['Target'].replace({1:1, 2:0}, inplace = True)"
      ],
      "metadata": {
        "id": "7jUVaE8iTiXG"
      },
      "execution_count": 11,
      "outputs": []
    },
    {
      "cell_type": "code",
      "source": [
        "sns.countplot(x = data['Target'])"
      ],
      "metadata": {
        "colab": {
          "base_uri": "https://localhost:8080/",
          "height": 302
        },
        "id": "4zFpf7oyJpfK",
        "outputId": "1b532627-ce1b-47d0-dcc6-6cba96a13bdd"
      },
      "execution_count": 12,
      "outputs": [
        {
          "output_type": "execute_result",
          "data": {
            "text/plain": [
              "<matplotlib.axes._subplots.AxesSubplot at 0x7f4cbe209e80>"
            ]
          },
          "metadata": {},
          "execution_count": 12
        },
        {
          "output_type": "display_data",
          "data": {
            "text/plain": [
              "<Figure size 432x288 with 1 Axes>"
            ],
            "image/png": "[encoded data removed]"
          },
          "metadata": {}
        }
      ]
    },
    {
      "cell_type": "markdown",
      "source": [
        "Clearly, there is target imbalance."
      ],
      "metadata": {
        "id": "n-8XDFD2KU4t"
      }
    },
    {
      "cell_type": "markdown",
      "source": [
        "## Split the Features and Targets"
      ],
      "metadata": {
        "id": "FOfslcF05Sjq"
      }
    },
    {
      "cell_type": "code",
      "source": [
        "x_data = data.drop('Target', axis = 1)\n",
        "print('Shape of Features: ', x_data.shape)\n",
        "y_data = data['Target']\n",
        "print('Shape of the target: ', y_data.shape)"
      ],
      "metadata": {
        "colab": {
          "base_uri": "https://localhost:8080/"
        },
        "id": "D2frj4rA4lJU",
        "outputId": "08604cc1-e715-4085-b71a-d028601f1dde"
      },
      "execution_count": 13,
      "outputs": [
        {
          "output_type": "stream",
          "name": "stdout",
          "text": [
            "Shape of Features:  (583, 10)\n",
            "Shape of the target:  (583,)\n"
          ]
        }
      ]
    },
    {
      "cell_type": "markdown",
      "source": [
        "## Standardization"
      ],
      "metadata": {
        "id": "1kfmPvU15viD"
      }
    },
    {
      "cell_type": "code",
      "source": [
        "from sklearn.preprocessing import RobustScaler\n",
        "scaler = RobustScaler()\n",
        "scaler.fit(x_data)\n",
        "x_scaled = scaler.transform(x_data)"
      ],
      "metadata": {
        "id": "_sJ1nnOB5j7W"
      },
      "execution_count": 14,
      "outputs": []
    },
    {
      "cell_type": "code",
      "source": [
        "scaled_data = pd.DataFrame(x_scaled, columns = x_data.columns)\n",
        "scaled_data.head()"
      ],
      "metadata": {
        "colab": {
          "base_uri": "https://localhost:8080/",
          "height": 270
        },
        "id": "dituSLtO4bWR",
        "outputId": "9008effd-8ce5-4545-df4c-55476e9789ce"
      },
      "execution_count": 15,
      "outputs": [
        {
          "output_type": "execute_result",
          "data": {
            "text/plain": [
              "    Age  Gender  Total_Bilirubin  Direct_Bilirubin  Alkaline_Phosphotase  \\\n",
              "0  0.80    -1.0        -0.166667         -0.181818             -0.171429   \n",
              "1  0.68     0.0         5.500000          4.727273              4.008163   \n",
              "2  0.68     0.0         3.500000          3.454545              2.302041   \n",
              "3  0.52     0.0         0.000000          0.090909             -0.212245   \n",
              "4  1.08     0.0         1.611111          1.545455             -0.106122   \n",
              "\n",
              "   Alamine_Aminotransferase  Aspartate_Aminotransferase  Total_Protiens  \\\n",
              "0                 -0.506667                   -0.387097        0.142857   \n",
              "1                  0.773333                    0.935484        0.642857   \n",
              "2                  0.666667                    0.419355        0.285714   \n",
              "3                 -0.560000                   -0.354839        0.142857   \n",
              "4                 -0.213333                    0.274194        0.500000   \n",
              "\n",
              "    Albumin  Albumin_and_Globulin_Ratio  \n",
              "0  0.166667                    -0.11766  \n",
              "1  0.083333                    -0.51766  \n",
              "2  0.166667                    -0.14266  \n",
              "3  0.250000                     0.13234  \n",
              "4 -0.583333                    -1.36766  "
            ],
            "text/html": [
              "\n",
              "  <div id=\"df-9568d27c-30d8-455c-974f-7e69fa22b87f\">\n",
              "    <div class=\"colab-df-container\">\n",
              "      <div>\n",
              "<style scoped>\n",
              "    .dataframe tbody tr th:only-of-type {\n",
              "        vertical-align: middle;\n",
              "    }\n",
              "\n",
              "    .dataframe tbody tr th {\n",
              "        vertical-align: top;\n",
              "    }\n",
              "\n",
              "    .dataframe thead th {\n",
              "        text-align: right;\n",
              "    }\n",
              "</style>\n",
              "<table border=\"1\" class=\"dataframe\">\n",
              "  <thead>\n",
              "    <tr style=\"text-align: right;\">\n",
              "      <th></th>\n",
              "      <th>Age</th>\n",
              "      <th>Gender</th>\n",
              "      <th>Total_Bilirubin</th>\n",
              "      <th>Direct_Bilirubin</th>\n",
              "      <th>Alkaline_Phosphotase</th>\n",
              "      <th>Alamine_Aminotransferase</th>\n",
              "      <th>Aspartate_Aminotransferase</th>\n",
              "      <th>Total_Protiens</th>\n",
              "      <th>Albumin</th>\n",
              "      <th>Albumin_and_Globulin_Ratio</th>\n",
              "    </tr>\n",
              "  </thead>\n",
              "  <tbody>\n",
              "    <tr>\n",
              "      <th>0</th>\n",
              "      <td>0.80</td>\n",
              "      <td>-1.0</td>\n",
              "      <td>-0.166667</td>\n",
              "      <td>-0.181818</td>\n",
              "      <td>-0.171429</td>\n",
              "      <td>-0.506667</td>\n",
              "      <td>-0.387097</td>\n",
              "      <td>0.142857</td>\n",
              "      <td>0.166667</td>\n",
              "      <td>-0.11766</td>\n",
              "    </tr>\n",
              "    <tr>\n",
              "      <th>1</th>\n",
              "      <td>0.68</td>\n",
              "      <td>0.0</td>\n",
              "      <td>5.500000</td>\n",
              "      <td>4.727273</td>\n",
              "      <td>4.008163</td>\n",
              "      <td>0.773333</td>\n",
              "      <td>0.935484</td>\n",
              "      <td>0.642857</td>\n",
              "      <td>0.083333</td>\n",
              "      <td>-0.51766</td>\n",
              "    </tr>\n",
              "    <tr>\n",
              "      <th>2</th>\n",
              "      <td>0.68</td>\n",
              "      <td>0.0</td>\n",
              "      <td>3.500000</td>\n",
              "      <td>3.454545</td>\n",
              "      <td>2.302041</td>\n",
              "      <td>0.666667</td>\n",
              "      <td>0.419355</td>\n",
              "      <td>0.285714</td>\n",
              "      <td>0.166667</td>\n",
              "      <td>-0.14266</td>\n",
              "    </tr>\n",
              "    <tr>\n",
              "      <th>3</th>\n",
              "      <td>0.52</td>\n",
              "      <td>0.0</td>\n",
              "      <td>0.000000</td>\n",
              "      <td>0.090909</td>\n",
              "      <td>-0.212245</td>\n",
              "      <td>-0.560000</td>\n",
              "      <td>-0.354839</td>\n",
              "      <td>0.142857</td>\n",
              "      <td>0.250000</td>\n",
              "      <td>0.13234</td>\n",
              "    </tr>\n",
              "    <tr>\n",
              "      <th>4</th>\n",
              "      <td>1.08</td>\n",
              "      <td>0.0</td>\n",
              "      <td>1.611111</td>\n",
              "      <td>1.545455</td>\n",
              "      <td>-0.106122</td>\n",
              "      <td>-0.213333</td>\n",
              "      <td>0.274194</td>\n",
              "      <td>0.500000</td>\n",
              "      <td>-0.583333</td>\n",
              "      <td>-1.36766</td>\n",
              "    </tr>\n",
              "  </tbody>\n",
              "</table>\n",
              "</div>\n",
              "      <button class=\"colab-df-convert\" onclick=\"convertToInteractive('df-9568d27c-30d8-455c-974f-7e69fa22b87f')\"\n",
              "              title=\"Convert this dataframe to an interactive table.\"\n",
              "              style=\"display:none;\">\n",
              "        \n",
              "  <svg xmlns=\"http://www.w3.org/2000/svg\" height=\"24px\"viewBox=\"0 0 24 24\"\n",
              "       width=\"24px\">\n",
              "    <path d=\"M0 0h24v24H0V0z\" fill=\"none\"/>\n",
              "    <path d=\"M18.56 5.44l.94 2.06.94-2.06 2.06-.94-2.06-.94-.94-2.06-.94 2.06-2.06.94zm-11 1L8.5 8.5l.94-2.06 2.06-.94-2.06-.94L8.5 2.5l-.94 2.06-2.06.94zm10 10l.94 2.06.94-2.06 2.06-.94-2.06-.94-.94-2.06-.94 2.06-2.06.94z\"/><path d=\"M17.41 7.96l-1.37-1.37c-.4-.4-.92-.59-1.43-.59-.52 0-1.04.2-1.43.59L10.3 9.45l-7.72 7.72c-.78.78-.78 2.05 0 2.83L4 21.41c.39.39.9.59 1.41.59.51 0 1.02-.2 1.41-.59l7.78-7.78 2.81-2.81c.8-.78.8-2.07 0-2.86zM5.41 20L4 18.59l7.72-7.72 1.47 1.35L5.41 20z\"/>\n",
              "  </svg>\n",
              "      </button>\n",
              "      \n",
              "  <style>\n",
              "    .colab-df-container {\n",
              "      display:flex;\n",
              "      flex-wrap:wrap;\n",
              "      gap: 12px;\n",
              "    }\n",
              "\n",
              "    .colab-df-convert {\n",
              "      background-color: #E8F0FE;\n",
              "      border: none;\n",
              "      border-radius: 50%;\n",
              "      cursor: pointer;\n",
              "      display: none;\n",
              "      fill: #1967D2;\n",
              "      height: 32px;\n",
              "      padding: 0 0 0 0;\n",
              "      width: 32px;\n",
              "    }\n",
              "\n",
              "    .colab-df-convert:hover {\n",
              "      background-color: #E2EBFA;\n",
              "      box-shadow: 0px 1px 2px rgba(60, 64, 67, 0.3), 0px 1px 3px 1px rgba(60, 64, 67, 0.15);\n",
              "      fill: #174EA6;\n",
              "    }\n",
              "\n",
              "    [theme=dark] .colab-df-convert {\n",
              "      background-color: #3B4455;\n",
              "      fill: #D2E3FC;\n",
              "    }\n",
              "\n",
              "    [theme=dark] .colab-df-convert:hover {\n",
              "      background-color: #434B5C;\n",
              "      box-shadow: 0px 1px 3px 1px rgba(0, 0, 0, 0.15);\n",
              "      filter: drop-shadow(0px 1px 2px rgba(0, 0, 0, 0.3));\n",
              "      fill: #FFFFFF;\n",
              "    }\n",
              "  </style>\n",
              "\n",
              "      <script>\n",
              "        const buttonEl =\n",
              "          document.querySelector('#df-9568d27c-30d8-455c-974f-7e69fa22b87f button.colab-df-convert');\n",
              "        buttonEl.style.display =\n",
              "          google.colab.kernel.accessAllowed ? 'block' : 'none';\n",
              "\n",
              "        async function convertToInteractive(key) {\n",
              "          const element = document.querySelector('#df-9568d27c-30d8-455c-974f-7e69fa22b87f');\n",
              "          const dataTable =\n",
              "            await google.colab.kernel.invokeFunction('convertToInteractive',\n",
              "                                                     [key], {});\n",
              "          if (!dataTable) return;\n",
              "\n",
              "          const docLinkHtml = 'Like what you see? Visit the ' +\n",
              "            '<a target=\"_blank\" href=https://colab.research.google.com/notebooks/data_table.ipynb>data table notebook</a>'\n",
              "            + ' to learn more about interactive tables.';\n",
              "          element.innerHTML = '';\n",
              "          dataTable['output_type'] = 'display_data';\n",
              "          await google.colab.output.renderOutput(dataTable, element);\n",
              "          const docLink = document.createElement('div');\n",
              "          docLink.innerHTML = docLinkHtml;\n",
              "          element.appendChild(docLink);\n",
              "        }\n",
              "      </script>\n",
              "    </div>\n",
              "  </div>\n",
              "  "
            ]
          },
          "metadata": {},
          "execution_count": 15
        }
      ]
    },
    {
      "cell_type": "markdown",
      "source": [
        "## Principal Component Analysis"
      ],
      "metadata": {
        "id": "IksL3pMK7NFn"
      }
    },
    {
      "cell_type": "code",
      "source": [
        "from sklearn.decomposition import PCA\n",
        "pca = PCA()\n",
        "pca.fit(scaled_data)\n",
        "pca.get_params()"
      ],
      "metadata": {
        "colab": {
          "base_uri": "https://localhost:8080/"
        },
        "id": "VctdXiDB7PxI",
        "outputId": "d0c27e53-5bba-4056-bd22-c80147921d27"
      },
      "execution_count": 16,
      "outputs": [
        {
          "output_type": "execute_result",
          "data": {
            "text/plain": [
              "{'copy': True,\n",
              " 'iterated_power': 'auto',\n",
              " 'n_components': None,\n",
              " 'random_state': None,\n",
              " 'svd_solver': 'auto',\n",
              " 'tol': 0.0,\n",
              " 'whiten': False}"
            ]
          },
          "metadata": {},
          "execution_count": 16
        }
      ]
    },
    {
      "cell_type": "markdown",
      "source": [
        "#### Scree Plot"
      ],
      "metadata": {
        "id": "9x1WbwQyxQP-"
      }
    },
    {
      "cell_type": "code",
      "source": [
        "fig, ax = plt.subplots()\n",
        "xi = np.arange(1, len(scaled_data.columns)+1, 1)\n",
        "yi = np.cumsum(pca.explained_variance_ratio_)\n",
        "\n",
        "plt.plot(xi, yi, marker='o', linestyle='--', color='b')\n",
        "plt.xlabel('Number of Components')\n",
        "plt.xticks(xi)\n",
        "plt.ylabel('Cumulative variance (%)')\n",
        "plt.title('Scree Plot')\n",
        "ax.set_ylim([0.70, 1.01])\n",
        "plt.axhline(y = 0.95, color='r', linestyle='--')\n",
        "ax.grid(\"both\")\n",
        "plt.show()"
      ],
      "metadata": {
        "colab": {
          "base_uri": "https://localhost:8080/",
          "height": 301
        },
        "id": "uo9rp-IorhEW",
        "outputId": "863e3e87-29a8-43f5-8c49-a05170c43763"
      },
      "execution_count": 17,
      "outputs": [
        {
          "output_type": "display_data",
          "data": {
            "text/plain": [
              "<Figure size 432x288 with 1 Axes>"
            ],
            "image/png": "[encoded data removed]"
          },
          "metadata": {}
        }
      ]
    },
    {
      "cell_type": "markdown",
      "source": [
        "We note that with just 4 components, we can explain over 95% of the variance in our dataset."
      ],
      "metadata": {
        "id": "9ove0BjvxVfO"
      }
    },
    {
      "cell_type": "code",
      "source": [
        "pca = PCA(n_components = 0.95, random_state = 42)\n",
        "pca.fit(scaled_data)\n",
        "x_PCA = pca.transform(scaled_data)\n",
        "print('Shape of x before PCA: ', scaled_data.shape)\n",
        "print('Shape of x after PCA: ', x_PCA.shape)"
      ],
      "metadata": {
        "colab": {
          "base_uri": "https://localhost:8080/"
        },
        "id": "n07Gb3S9xiuv",
        "outputId": "14682775-b6da-4308-8128-800567bb22a1"
      },
      "execution_count": 18,
      "outputs": [
        {
          "output_type": "stream",
          "name": "stdout",
          "text": [
            "Shape of x before PCA:  (583, 10)\n",
            "Shape of x after PCA:  (583, 4)\n"
          ]
        }
      ]
    },
    {
      "cell_type": "code",
      "source": [
        "columns = ['PCA Compponent 0%i' %i for i in range(1, (x_PCA.shape)[1]+1)]\n",
        "PCA_data  = pd.DataFrame(pca.transform(x_data), columns = columns)\n",
        "PCA_data.head()"
      ],
      "metadata": {
        "colab": {
          "base_uri": "https://localhost:8080/",
          "height": 206
        },
        "id": "QE6aDfxXyLN1",
        "outputId": "feeca503-f652-4f5e-8d04-57f2a22ceee0"
      },
      "execution_count": 19,
      "outputs": [
        {
          "output_type": "execute_result",
          "data": {
            "text/plain": [
              "   PCA Compponent 01  PCA Compponent 02  PCA Compponent 03  PCA Compponent 04\n",
              "0          32.217190          13.556513          46.433048         178.613546\n",
              "1         154.355220          56.373651         186.457792         658.217801\n",
              "2         116.608301          36.121898         119.837748         464.227528\n",
              "3          31.995473          13.486971          47.732925         172.901357\n",
              "4          68.559186           9.274848          69.849482         179.670704"
            ],
            "text/html": [
              "\n",
              "  <div id=\"df-13d14b2f-96fd-44f1-94c1-d7c373603ee5\">\n",
              "    <div class=\"colab-df-container\">\n",
              "      <div>\n",
              "<style scoped>\n",
              "    .dataframe tbody tr th:only-of-type {\n",
              "        vertical-align: middle;\n",
              "    }\n",
              "\n",
              "    .dataframe tbody tr th {\n",
              "        vertical-align: top;\n",
              "    }\n",
              "\n",
              "    .dataframe thead th {\n",
              "        text-align: right;\n",
              "    }\n",
              "</style>\n",
              "<table border=\"1\" class=\"dataframe\">\n",
              "  <thead>\n",
              "    <tr style=\"text-align: right;\">\n",
              "      <th></th>\n",
              "      <th>PCA Compponent 01</th>\n",
              "      <th>PCA Compponent 02</th>\n",
              "      <th>PCA Compponent 03</th>\n",
              "      <th>PCA Compponent 04</th>\n",
              "    </tr>\n",
              "  </thead>\n",
              "  <tbody>\n",
              "    <tr>\n",
              "      <th>0</th>\n",
              "      <td>32.217190</td>\n",
              "      <td>13.556513</td>\n",
              "      <td>46.433048</td>\n",
              "      <td>178.613546</td>\n",
              "    </tr>\n",
              "    <tr>\n",
              "      <th>1</th>\n",
              "      <td>154.355220</td>\n",
              "      <td>56.373651</td>\n",
              "      <td>186.457792</td>\n",
              "      <td>658.217801</td>\n",
              "    </tr>\n",
              "    <tr>\n",
              "      <th>2</th>\n",
              "      <td>116.608301</td>\n",
              "      <td>36.121898</td>\n",
              "      <td>119.837748</td>\n",
              "      <td>464.227528</td>\n",
              "    </tr>\n",
              "    <tr>\n",
              "      <th>3</th>\n",
              "      <td>31.995473</td>\n",
              "      <td>13.486971</td>\n",
              "      <td>47.732925</td>\n",
              "      <td>172.901357</td>\n",
              "    </tr>\n",
              "    <tr>\n",
              "      <th>4</th>\n",
              "      <td>68.559186</td>\n",
              "      <td>9.274848</td>\n",
              "      <td>69.849482</td>\n",
              "      <td>179.670704</td>\n",
              "    </tr>\n",
              "  </tbody>\n",
              "</table>\n",
              "</div>\n",
              "      <button class=\"colab-df-convert\" onclick=\"convertToInteractive('df-13d14b2f-96fd-44f1-94c1-d7c373603ee5')\"\n",
              "              title=\"Convert this dataframe to an interactive table.\"\n",
              "              style=\"display:none;\">\n",
              "        \n",
              "  <svg xmlns=\"http://www.w3.org/2000/svg\" height=\"24px\"viewBox=\"0 0 24 24\"\n",
              "       width=\"24px\">\n",
              "    <path d=\"M0 0h24v24H0V0z\" fill=\"none\"/>\n",
              "    <path d=\"M18.56 5.44l.94 2.06.94-2.06 2.06-.94-2.06-.94-.94-2.06-.94 2.06-2.06.94zm-11 1L8.5 8.5l.94-2.06 2.06-.94-2.06-.94L8.5 2.5l-.94 2.06-2.06.94zm10 10l.94 2.06.94-2.06 2.06-.94-2.06-.94-.94-2.06-.94 2.06-2.06.94z\"/><path d=\"M17.41 7.96l-1.37-1.37c-.4-.4-.92-.59-1.43-.59-.52 0-1.04.2-1.43.59L10.3 9.45l-7.72 7.72c-.78.78-.78 2.05 0 2.83L4 21.41c.39.39.9.59 1.41.59.51 0 1.02-.2 1.41-.59l7.78-7.78 2.81-2.81c.8-.78.8-2.07 0-2.86zM5.41 20L4 18.59l7.72-7.72 1.47 1.35L5.41 20z\"/>\n",
              "  </svg>\n",
              "      </button>\n",
              "      \n",
              "  <style>\n",
              "    .colab-df-container {\n",
              "      display:flex;\n",
              "      flex-wrap:wrap;\n",
              "      gap: 12px;\n",
              "    }\n",
              "\n",
              "    .colab-df-convert {\n",
              "      background-color: #E8F0FE;\n",
              "      border: none;\n",
              "      border-radius: 50%;\n",
              "      cursor: pointer;\n",
              "      display: none;\n",
              "      fill: #1967D2;\n",
              "      height: 32px;\n",
              "      padding: 0 0 0 0;\n",
              "      width: 32px;\n",
              "    }\n",
              "\n",
              "    .colab-df-convert:hover {\n",
              "      background-color: #E2EBFA;\n",
              "      box-shadow: 0px 1px 2px rgba(60, 64, 67, 0.3), 0px 1px 3px 1px rgba(60, 64, 67, 0.15);\n",
              "      fill: #174EA6;\n",
              "    }\n",
              "\n",
              "    [theme=dark] .colab-df-convert {\n",
              "      background-color: #3B4455;\n",
              "      fill: #D2E3FC;\n",
              "    }\n",
              "\n",
              "    [theme=dark] .colab-df-convert:hover {\n",
              "      background-color: #434B5C;\n",
              "      box-shadow: 0px 1px 3px 1px rgba(0, 0, 0, 0.15);\n",
              "      filter: drop-shadow(0px 1px 2px rgba(0, 0, 0, 0.3));\n",
              "      fill: #FFFFFF;\n",
              "    }\n",
              "  </style>\n",
              "\n",
              "      <script>\n",
              "        const buttonEl =\n",
              "          document.querySelector('#df-13d14b2f-96fd-44f1-94c1-d7c373603ee5 button.colab-df-convert');\n",
              "        buttonEl.style.display =\n",
              "          google.colab.kernel.accessAllowed ? 'block' : 'none';\n",
              "\n",
              "        async function convertToInteractive(key) {\n",
              "          const element = document.querySelector('#df-13d14b2f-96fd-44f1-94c1-d7c373603ee5');\n",
              "          const dataTable =\n",
              "            await google.colab.kernel.invokeFunction('convertToInteractive',\n",
              "                                                     [key], {});\n",
              "          if (!dataTable) return;\n",
              "\n",
              "          const docLinkHtml = 'Like what you see? Visit the ' +\n",
              "            '<a target=\"_blank\" href=https://colab.research.google.com/notebooks/data_table.ipynb>data table notebook</a>'\n",
              "            + ' to learn more about interactive tables.';\n",
              "          element.innerHTML = '';\n",
              "          dataTable['output_type'] = 'display_data';\n",
              "          await google.colab.output.renderOutput(dataTable, element);\n",
              "          const docLink = document.createElement('div');\n",
              "          docLink.innerHTML = docLinkHtml;\n",
              "          element.appendChild(docLink);\n",
              "        }\n",
              "      </script>\n",
              "    </div>\n",
              "  </div>\n",
              "  "
            ]
          },
          "metadata": {},
          "execution_count": 19
        }
      ]
    },
    {
      "cell_type": "code",
      "source": [
        "PCA_data.info()"
      ],
      "metadata": {
        "colab": {
          "base_uri": "https://localhost:8080/"
        },
        "id": "gDicnxsV3Cmx",
        "outputId": "265c13a8-8502-4dfd-fedb-ce549d310575"
      },
      "execution_count": 20,
      "outputs": [
        {
          "output_type": "stream",
          "name": "stdout",
          "text": [
            "<class 'pandas.core.frame.DataFrame'>\n",
            "RangeIndex: 583 entries, 0 to 582\n",
            "Data columns (total 4 columns):\n",
            " #   Column             Non-Null Count  Dtype  \n",
            "---  ------             --------------  -----  \n",
            " 0   PCA Compponent 01  583 non-null    float64\n",
            " 1   PCA Compponent 02  583 non-null    float64\n",
            " 2   PCA Compponent 03  583 non-null    float64\n",
            " 3   PCA Compponent 04  583 non-null    float64\n",
            "dtypes: float64(4)\n",
            "memory usage: 18.3 KB\n"
          ]
        }
      ]
    },
    {
      "cell_type": "code",
      "source": [
        "x = PCA_data.values\n",
        "y = y_data.values"
      ],
      "metadata": {
        "id": "9KvxN4qj3LWu"
      },
      "execution_count": 21,
      "outputs": []
    },
    {
      "cell_type": "markdown",
      "source": [
        "## Split into Test and Train sets"
      ],
      "metadata": {
        "id": "KcS473bK6PXg"
      }
    },
    {
      "cell_type": "code",
      "source": [
        "from sklearn.model_selection import train_test_split\n",
        "x_train, x_test, y_train, y_test = train_test_split(x, y, test_size = 0.3, random_state = 42)\n",
        "print('Shape x_train: ', x_train.shape)\n",
        "print('Shape y_train: ', y_train.shape)\n",
        "print('Shape x_test: ', x_test.shape)\n",
        "print('Shape y_test: ', y_test.shape)"
      ],
      "metadata": {
        "colab": {
          "base_uri": "https://localhost:8080/"
        },
        "id": "B09FOKCT6Sfx",
        "outputId": "049f18ac-62a4-44c0-c599-4f3209d0c586"
      },
      "execution_count": 22,
      "outputs": [
        {
          "output_type": "stream",
          "name": "stdout",
          "text": [
            "Shape x_train:  (408, 4)\n",
            "Shape y_train:  (408,)\n",
            "Shape x_test:  (175, 4)\n",
            "Shape y_test:  (175,)\n"
          ]
        }
      ]
    },
    {
      "cell_type": "markdown",
      "source": [
        "## ML Techniques - Imbalanced Dataset\n",
        "\n",
        "We do not perform Pre-pruning or post-pruning on the Imbalanced data; we would like to know how the performance changes in general."
      ],
      "metadata": {
        "id": "Pf2RDQOgBRrg"
      }
    },
    {
      "cell_type": "code",
      "source": [
        "from sklearn.metrics import classification_report, confusion_matrix, ConfusionMatrixDisplay, accuracy_score, roc_curve, roc_auc_score"
      ],
      "metadata": {
        "id": "tPpFOVykZWOe"
      },
      "execution_count": 23,
      "outputs": []
    },
    {
      "cell_type": "markdown",
      "source": [
        "### k-Nearest Neighbours"
      ],
      "metadata": {
        "id": "RCVk2pHmTRZp"
      }
    },
    {
      "cell_type": "code",
      "source": [
        "from sklearn.neighbors import KNeighborsClassifier\n",
        "kNN_classifier = KNeighborsClassifier(n_neighbors = 11)\n",
        "kNN_classifier.fit(x_train, y_train)\n",
        "y_pred_kNN = kNN_classifier.predict(x_test)\n",
        "kNN_classifier.get_params()"
      ],
      "metadata": {
        "id": "pQfHdpExSAMR",
        "colab": {
          "base_uri": "https://localhost:8080/"
        },
        "outputId": "b660f980-4504-4093-c068-869ed01f11d8"
      },
      "execution_count": 24,
      "outputs": [
        {
          "output_type": "execute_result",
          "data": {
            "text/plain": [
              "{'algorithm': 'auto',\n",
              " 'leaf_size': 30,\n",
              " 'metric': 'minkowski',\n",
              " 'metric_params': None,\n",
              " 'n_jobs': None,\n",
              " 'n_neighbors': 11,\n",
              " 'p': 2,\n",
              " 'weights': 'uniform'}"
            ]
          },
          "metadata": {},
          "execution_count": 24
        }
      ]
    },
    {
      "cell_type": "code",
      "source": [
        "y_pred_kNN_train = kNN_classifier.predict(x_train)\n",
        "print('Accuracy of the train set: ', accuracy_score(y_train, y_pred_kNN_train))\n",
        "print('Accuracy of the test set: ', accuracy_score(y_test, y_pred_kNN))"
      ],
      "metadata": {
        "colab": {
          "base_uri": "https://localhost:8080/"
        },
        "id": "pTKYZgwLZQe1",
        "outputId": "e3af99e0-634a-49b6-90c4-0824d692c0f7"
      },
      "execution_count": 25,
      "outputs": [
        {
          "output_type": "stream",
          "name": "stdout",
          "text": [
            "Accuracy of the train set:  0.7352941176470589\n",
            "Accuracy of the test set:  0.6914285714285714\n"
          ]
        }
      ]
    },
    {
      "cell_type": "code",
      "source": [
        "print(classification_report(y_test, y_pred_kNN))"
      ],
      "metadata": {
        "colab": {
          "base_uri": "https://localhost:8080/"
        },
        "id": "ZV7cR37jZ4RE",
        "outputId": "05ec5e69-5581-4ccd-8356-2fb8628b8ce9"
      },
      "execution_count": 26,
      "outputs": [
        {
          "output_type": "stream",
          "name": "stdout",
          "text": [
            "              precision    recall  f1-score   support\n",
            "\n",
            "           0       0.41      0.36      0.39        47\n",
            "           1       0.78      0.81      0.79       128\n",
            "\n",
            "    accuracy                           0.69       175\n",
            "   macro avg       0.60      0.59      0.59       175\n",
            "weighted avg       0.68      0.69      0.68       175\n",
            "\n"
          ]
        }
      ]
    },
    {
      "cell_type": "code",
      "source": [
        "ConfusionMatrixDisplay.from_predictions(y_test, y_pred_kNN, colorbar = False)"
      ],
      "metadata": {
        "colab": {
          "base_uri": "https://localhost:8080/",
          "height": 302
        },
        "id": "e0rGakTFZ-Lw",
        "outputId": "ba431135-219c-4701-9e3a-881f2b3c139f"
      },
      "execution_count": 27,
      "outputs": [
        {
          "output_type": "execute_result",
          "data": {
            "text/plain": [
              "<sklearn.metrics._plot.confusion_matrix.ConfusionMatrixDisplay at 0x7f4cbe21a880>"
            ]
          },
          "metadata": {},
          "execution_count": 27
        },
        {
          "output_type": "display_data",
          "data": {
            "text/plain": [
              "<Figure size 432x288 with 1 Axes>"
            ],
            "image/png": "[encoded data removed]"
          },
          "metadata": {}
        }
      ]
    },
    {
      "cell_type": "markdown",
      "source": [
        "### Naive Bayes"
      ],
      "metadata": {
        "id": "9QxPtx76a4GE"
      }
    },
    {
      "cell_type": "code",
      "source": [
        "from sklearn.naive_bayes import BernoulliNB\n",
        "NB_classifier = BernoulliNB()\n",
        "NB_classifier.fit(x_train, y_train)\n",
        "y_pred_NB = NB_classifier.predict(x_test)\n",
        "NB_classifier.get_params()"
      ],
      "metadata": {
        "id": "_J1lFhF5ae-s",
        "colab": {
          "base_uri": "https://localhost:8080/"
        },
        "outputId": "218762a0-0e60-471b-958a-bc7b71092b3d"
      },
      "execution_count": 28,
      "outputs": [
        {
          "output_type": "execute_result",
          "data": {
            "text/plain": [
              "{'alpha': 1.0, 'binarize': 0.0, 'class_prior': None, 'fit_prior': True}"
            ]
          },
          "metadata": {},
          "execution_count": 28
        }
      ]
    },
    {
      "cell_type": "code",
      "source": [
        "y_pred_NB_train = NB_classifier.predict(x_train)\n",
        "print('Accuracy of the train set: ', accuracy_score(y_train, y_pred_NB_train))\n",
        "print('Accuracy of the test set: ', accuracy_score(y_test, y_pred_NB))"
      ],
      "metadata": {
        "colab": {
          "base_uri": "https://localhost:8080/"
        },
        "id": "0gGgxc9_bKEg",
        "outputId": "fe6557c5-349e-41e1-eb2a-f16aa7574d87"
      },
      "execution_count": 29,
      "outputs": [
        {
          "output_type": "stream",
          "name": "stdout",
          "text": [
            "Accuracy of the train set:  0.7058823529411765\n",
            "Accuracy of the test set:  0.7314285714285714\n"
          ]
        }
      ]
    },
    {
      "cell_type": "code",
      "source": [
        "print(classification_report(y_test, y_pred_NB, labels = np.unique(y_pred_NB)))"
      ],
      "metadata": {
        "colab": {
          "base_uri": "https://localhost:8080/"
        },
        "id": "VxyY9WrFbRtH",
        "outputId": "2e266821-58d5-4b8d-9a8c-bbf057e5df01"
      },
      "execution_count": 30,
      "outputs": [
        {
          "output_type": "stream",
          "name": "stdout",
          "text": [
            "              precision    recall  f1-score   support\n",
            "\n",
            "           1       0.73      1.00      0.84       128\n",
            "\n",
            "   micro avg       0.73      1.00      0.84       128\n",
            "   macro avg       0.73      1.00      0.84       128\n",
            "weighted avg       0.73      1.00      0.84       128\n",
            "\n"
          ]
        }
      ]
    },
    {
      "cell_type": "code",
      "source": [
        "ConfusionMatrixDisplay.from_predictions(y_test, y_pred_NB, colorbar = False)"
      ],
      "metadata": {
        "colab": {
          "base_uri": "https://localhost:8080/",
          "height": 302
        },
        "id": "U01vFPXrbVG3",
        "outputId": "4aa503d5-606f-4d2f-e2e2-5425a03f193d"
      },
      "execution_count": 31,
      "outputs": [
        {
          "output_type": "execute_result",
          "data": {
            "text/plain": [
              "<sklearn.metrics._plot.confusion_matrix.ConfusionMatrixDisplay at 0x7f4cb9da2cd0>"
            ]
          },
          "metadata": {},
          "execution_count": 31
        },
        {
          "output_type": "display_data",
          "data": {
            "text/plain": [
              "<Figure size 432x288 with 1 Axes>"
            ],
            "image/png": "[encoded data removed]"
          },
          "metadata": {}
        }
      ]
    },
    {
      "cell_type": "markdown",
      "source": [
        "Naive Bayes probably finds the test data too easy. We have to be cautious."
      ],
      "metadata": {
        "id": "1KCc7Aw6Rh_3"
      }
    },
    {
      "cell_type": "markdown",
      "source": [
        "### Support Vector Machine"
      ],
      "metadata": {
        "id": "7Rl3icw5bwKo"
      }
    },
    {
      "cell_type": "code",
      "source": [
        "from sklearn.svm import SVC\n",
        "SVM_classifier = SVC(random_state = 42)\n",
        "SVM_classifier.fit(x_train, y_train)\n",
        "y_pred_SVM = SVM_classifier.predict(x_test)\n",
        "SVM_classifier.get_params()"
      ],
      "metadata": {
        "id": "7i0wOAZWbY8X",
        "colab": {
          "base_uri": "https://localhost:8080/"
        },
        "outputId": "0317efb0-59cd-4ed8-d640-3ec52fb73aa9"
      },
      "execution_count": 32,
      "outputs": [
        {
          "output_type": "execute_result",
          "data": {
            "text/plain": [
              "{'C': 1.0,\n",
              " 'break_ties': False,\n",
              " 'cache_size': 200,\n",
              " 'class_weight': None,\n",
              " 'coef0': 0.0,\n",
              " 'decision_function_shape': 'ovr',\n",
              " 'degree': 3,\n",
              " 'gamma': 'scale',\n",
              " 'kernel': 'rbf',\n",
              " 'max_iter': -1,\n",
              " 'probability': False,\n",
              " 'random_state': 42,\n",
              " 'shrinking': True,\n",
              " 'tol': 0.001,\n",
              " 'verbose': False}"
            ]
          },
          "metadata": {},
          "execution_count": 32
        }
      ]
    },
    {
      "cell_type": "code",
      "source": [
        "y_pred_SVM_train = SVM_classifier.predict(x_train)\n",
        "print('Accuracy of the train set: ', accuracy_score(y_train, y_pred_SVM_train))\n",
        "print('Accuracy of the test set: ', accuracy_score(y_test, y_pred_SVM))"
      ],
      "metadata": {
        "colab": {
          "base_uri": "https://localhost:8080/"
        },
        "id": "lzi2rNMIcDJT",
        "outputId": "7d5b0206-31f5-4c4b-f349-6c853def1517"
      },
      "execution_count": 33,
      "outputs": [
        {
          "output_type": "stream",
          "name": "stdout",
          "text": [
            "Accuracy of the train set:  0.7058823529411765\n",
            "Accuracy of the test set:  0.7314285714285714\n"
          ]
        }
      ]
    },
    {
      "cell_type": "code",
      "source": [
        "print(classification_report(y_test, y_pred_SVM, labels = np.unique(y_pred_NB)))"
      ],
      "metadata": {
        "colab": {
          "base_uri": "https://localhost:8080/"
        },
        "id": "Nxk-OW7EcDFy",
        "outputId": "13839e6f-dfa3-4a0c-d08e-7dc2847d954b"
      },
      "execution_count": 34,
      "outputs": [
        {
          "output_type": "stream",
          "name": "stdout",
          "text": [
            "              precision    recall  f1-score   support\n",
            "\n",
            "           1       0.73      1.00      0.84       128\n",
            "\n",
            "   micro avg       0.73      1.00      0.84       128\n",
            "   macro avg       0.73      1.00      0.84       128\n",
            "weighted avg       0.73      1.00      0.84       128\n",
            "\n"
          ]
        }
      ]
    },
    {
      "cell_type": "code",
      "source": [
        "ConfusionMatrixDisplay.from_predictions(y_test, y_pred_SVM, colorbar = False)"
      ],
      "metadata": {
        "colab": {
          "base_uri": "https://localhost:8080/",
          "height": 302
        },
        "id": "_UrtrYyHcgHS",
        "outputId": "73efb5f6-19d5-4612-9edc-64399c658909"
      },
      "execution_count": 35,
      "outputs": [
        {
          "output_type": "execute_result",
          "data": {
            "text/plain": [
              "<sklearn.metrics._plot.confusion_matrix.ConfusionMatrixDisplay at 0x7f4cb9d848e0>"
            ]
          },
          "metadata": {},
          "execution_count": 35
        },
        {
          "output_type": "display_data",
          "data": {
            "text/plain": [
              "<Figure size 432x288 with 1 Axes>"
            ],
            "image/png": "[encoded data removed]"
          },
          "metadata": {}
        }
      ]
    },
    {
      "cell_type": "markdown",
      "source": [
        "The test accuracy is higher than the training accuracy by the same numbers; what are the odds?"
      ],
      "metadata": {
        "id": "HoUP8A3aSB1q"
      }
    },
    {
      "cell_type": "markdown",
      "source": [
        "### Logistic Regression"
      ],
      "metadata": {
        "id": "FA46mrF0dIBn"
      }
    },
    {
      "cell_type": "code",
      "source": [
        "from sklearn.linear_model import LogisticRegression\n",
        "LR_classifier = LogisticRegression()\n",
        "LR_classifier.fit(x_train, y_train)\n",
        "y_pred_LR = LR_classifier.predict(x_test)\n",
        "LR_classifier.get_params()"
      ],
      "metadata": {
        "id": "beNwIotmcqdC",
        "colab": {
          "base_uri": "https://localhost:8080/"
        },
        "outputId": "dd9e81c2-04bf-4522-849a-7c0e45445e97"
      },
      "execution_count": 36,
      "outputs": [
        {
          "output_type": "execute_result",
          "data": {
            "text/plain": [
              "{'C': 1.0,\n",
              " 'class_weight': None,\n",
              " 'dual': False,\n",
              " 'fit_intercept': True,\n",
              " 'intercept_scaling': 1,\n",
              " 'l1_ratio': None,\n",
              " 'max_iter': 100,\n",
              " 'multi_class': 'auto',\n",
              " 'n_jobs': None,\n",
              " 'penalty': 'l2',\n",
              " 'random_state': None,\n",
              " 'solver': 'lbfgs',\n",
              " 'tol': 0.0001,\n",
              " 'verbose': 0,\n",
              " 'warm_start': False}"
            ]
          },
          "metadata": {},
          "execution_count": 36
        }
      ]
    },
    {
      "cell_type": "code",
      "source": [
        "y_pred_LR_train = LR_classifier.predict(x_train)\n",
        "print('Accuracy of the train set: ', accuracy_score(y_train, y_pred_LR_train))\n",
        "print('Accuracy of the test set: ', accuracy_score(y_test, y_pred_LR))"
      ],
      "metadata": {
        "colab": {
          "base_uri": "https://localhost:8080/"
        },
        "id": "FEtAdtlZdq_2",
        "outputId": "5377a672-1ba1-4250-dcd0-ec739b9be938"
      },
      "execution_count": 37,
      "outputs": [
        {
          "output_type": "stream",
          "name": "stdout",
          "text": [
            "Accuracy of the train set:  0.7034313725490197\n",
            "Accuracy of the test set:  0.7257142857142858\n"
          ]
        }
      ]
    },
    {
      "cell_type": "code",
      "source": [
        "print(classification_report(y_test, y_pred_LR))"
      ],
      "metadata": {
        "colab": {
          "base_uri": "https://localhost:8080/"
        },
        "id": "kcGdUI3bdq8V",
        "outputId": "e8c7b511-d3c9-4958-cff0-78f372f833b2"
      },
      "execution_count": 38,
      "outputs": [
        {
          "output_type": "stream",
          "name": "stdout",
          "text": [
            "              precision    recall  f1-score   support\n",
            "\n",
            "           0       0.00      0.00      0.00        47\n",
            "           1       0.73      0.99      0.84       128\n",
            "\n",
            "    accuracy                           0.73       175\n",
            "   macro avg       0.36      0.50      0.42       175\n",
            "weighted avg       0.53      0.73      0.62       175\n",
            "\n"
          ]
        }
      ]
    },
    {
      "cell_type": "code",
      "source": [
        "ConfusionMatrixDisplay.from_predictions(y_test, y_pred_LR, colorbar = False)"
      ],
      "metadata": {
        "colab": {
          "base_uri": "https://localhost:8080/",
          "height": 302
        },
        "id": "VMJquwLrdq4N",
        "outputId": "3cb7085f-f433-46d4-814c-07a6b2a0a591"
      },
      "execution_count": 39,
      "outputs": [
        {
          "output_type": "execute_result",
          "data": {
            "text/plain": [
              "<sklearn.metrics._plot.confusion_matrix.ConfusionMatrixDisplay at 0x7f4cb9cc9f40>"
            ]
          },
          "metadata": {},
          "execution_count": 39
        },
        {
          "output_type": "display_data",
          "data": {
            "text/plain": [
              "<Figure size 432x288 with 1 Axes>"
            ],
            "image/png": "[encoded data removed]"
          },
          "metadata": {}
        }
      ]
    },
    {
      "cell_type": "markdown",
      "source": [
        "### Decision Tree "
      ],
      "metadata": {
        "id": "9MnHCc3SeU11"
      }
    },
    {
      "cell_type": "code",
      "source": [
        "from sklearn.tree import DecisionTreeClassifier\n",
        "DT_classifier = DecisionTreeClassifier(random_state = 42, max_depth = 3) \n",
        "DT_classifier.fit(x_train, y_train)\n",
        "y_pred_DT = DT_classifier.predict(x_test)\n",
        "DT_classifier.get_params()"
      ],
      "metadata": {
        "colab": {
          "base_uri": "https://localhost:8080/"
        },
        "id": "IG2FpKJCdq01",
        "outputId": "f57e2922-77d3-4b77-8ee7-ce4b185470e6"
      },
      "execution_count": 40,
      "outputs": [
        {
          "output_type": "execute_result",
          "data": {
            "text/plain": [
              "{'ccp_alpha': 0.0,\n",
              " 'class_weight': None,\n",
              " 'criterion': 'gini',\n",
              " 'max_depth': 3,\n",
              " 'max_features': None,\n",
              " 'max_leaf_nodes': None,\n",
              " 'min_impurity_decrease': 0.0,\n",
              " 'min_samples_leaf': 1,\n",
              " 'min_samples_split': 2,\n",
              " 'min_weight_fraction_leaf': 0.0,\n",
              " 'random_state': 42,\n",
              " 'splitter': 'best'}"
            ]
          },
          "metadata": {},
          "execution_count": 40
        }
      ]
    },
    {
      "cell_type": "code",
      "source": [
        "y_pred_DT_train = DT_classifier.predict(x_train)\n",
        "print('Accuracy of the train set: ', accuracy_score(y_train, y_pred_DT_train))\n",
        "print('Accuracy of the test set: ', accuracy_score(y_test, y_pred_DT))"
      ],
      "metadata": {
        "colab": {
          "base_uri": "https://localhost:8080/"
        },
        "id": "tPQspH32epgp",
        "outputId": "bf8624f4-3b76-4846-bf0a-d3de9eff8d41"
      },
      "execution_count": 41,
      "outputs": [
        {
          "output_type": "stream",
          "name": "stdout",
          "text": [
            "Accuracy of the train set:  0.7401960784313726\n",
            "Accuracy of the test set:  0.6971428571428572\n"
          ]
        }
      ]
    },
    {
      "cell_type": "markdown",
      "source": [
        "The overfitting has been prevented to an extent using the hyperparameters max_depth. For further pruning of Decision Trees, one can use GridSearchCV."
      ],
      "metadata": {
        "id": "jp6roYA9gzb5"
      }
    },
    {
      "cell_type": "code",
      "source": [
        "print(classification_report(y_test, y_pred_DT))\n",
        "ConfusionMatrixDisplay.from_predictions(y_test, y_pred_DT, colorbar=False)"
      ],
      "metadata": {
        "colab": {
          "base_uri": "https://localhost:8080/",
          "height": 459
        },
        "id": "XHCJKekZAT4g",
        "outputId": "d5d9373c-58fc-4f55-ecbc-c6e745e7ae64"
      },
      "execution_count": 42,
      "outputs": [
        {
          "output_type": "stream",
          "name": "stdout",
          "text": [
            "              precision    recall  f1-score   support\n",
            "\n",
            "           0       0.42      0.34      0.38        47\n",
            "           1       0.77      0.83      0.80       128\n",
            "\n",
            "    accuracy                           0.70       175\n",
            "   macro avg       0.60      0.58      0.59       175\n",
            "weighted avg       0.68      0.70      0.69       175\n",
            "\n"
          ]
        },
        {
          "output_type": "execute_result",
          "data": {
            "text/plain": [
              "<sklearn.metrics._plot.confusion_matrix.ConfusionMatrixDisplay at 0x7f4cb9c98ee0>"
            ]
          },
          "metadata": {},
          "execution_count": 42
        },
        {
          "output_type": "display_data",
          "data": {
            "text/plain": [
              "<Figure size 432x288 with 1 Axes>"
            ],
            "image/png": "[encoded data removed]"
          },
          "metadata": {}
        }
      ]
    },
    {
      "cell_type": "markdown",
      "source": [
        "### Random Forests"
      ],
      "metadata": {
        "id": "vCiXguKSlIBa"
      }
    },
    {
      "cell_type": "code",
      "source": [
        "from sklearn.ensemble import RandomForestClassifier\n",
        "RF_classifier = RandomForestClassifier(random_state=42, max_depth = 3)\n",
        "RF_classifier.fit(x_train, y_train)\n",
        "y_pred_RF = RF_classifier.predict(x_test)\n",
        "RF_classifier.get_params()"
      ],
      "metadata": {
        "colab": {
          "base_uri": "https://localhost:8080/"
        },
        "id": "v6l6fU3pkq5Q",
        "outputId": "e40977c7-f088-4acc-c55c-d2f1639110ad"
      },
      "execution_count": 43,
      "outputs": [
        {
          "output_type": "execute_result",
          "data": {
            "text/plain": [
              "{'bootstrap': True,\n",
              " 'ccp_alpha': 0.0,\n",
              " 'class_weight': None,\n",
              " 'criterion': 'gini',\n",
              " 'max_depth': 3,\n",
              " 'max_features': 'auto',\n",
              " 'max_leaf_nodes': None,\n",
              " 'max_samples': None,\n",
              " 'min_impurity_decrease': 0.0,\n",
              " 'min_samples_leaf': 1,\n",
              " 'min_samples_split': 2,\n",
              " 'min_weight_fraction_leaf': 0.0,\n",
              " 'n_estimators': 100,\n",
              " 'n_jobs': None,\n",
              " 'oob_score': False,\n",
              " 'random_state': 42,\n",
              " 'verbose': 0,\n",
              " 'warm_start': False}"
            ]
          },
          "metadata": {},
          "execution_count": 43
        }
      ]
    },
    {
      "cell_type": "code",
      "source": [
        "y_pred_RF_train = RF_classifier.predict(x_train)\n",
        "print('Accuracy of the train set: ', accuracy_score(y_train, y_pred_RF_train))\n",
        "print('Accuracy of the test set: ', accuracy_score(y_test, y_pred_RF))"
      ],
      "metadata": {
        "colab": {
          "base_uri": "https://localhost:8080/"
        },
        "id": "hK1Fdh7BuLqS",
        "outputId": "4dd5f950-07e9-4daf-fa39-e7e8c3dd14dc"
      },
      "execution_count": 44,
      "outputs": [
        {
          "output_type": "stream",
          "name": "stdout",
          "text": [
            "Accuracy of the train set:  0.7696078431372549\n",
            "Accuracy of the test set:  0.72\n"
          ]
        }
      ]
    },
    {
      "cell_type": "markdown",
      "source": [
        "The overfitting here has been prevented to an extent using the Hyperparameter max_depth."
      ],
      "metadata": {
        "id": "1Qc8NlWu7Ceu"
      }
    },
    {
      "cell_type": "code",
      "source": [
        "print(classification_report(y_test, y_pred_RF))\n",
        "ConfusionMatrixDisplay.from_predictions(y_test, y_pred_RF, colorbar=False)"
      ],
      "metadata": {
        "colab": {
          "base_uri": "https://localhost:8080/",
          "height": 459
        },
        "id": "1DWQRhBPAaPj",
        "outputId": "3a3391bb-0c7b-4756-85f7-bf40c5783f78"
      },
      "execution_count": 45,
      "outputs": [
        {
          "output_type": "stream",
          "name": "stdout",
          "text": [
            "              precision    recall  f1-score   support\n",
            "\n",
            "           0       0.47      0.32      0.38        47\n",
            "           1       0.78      0.87      0.82       128\n",
            "\n",
            "    accuracy                           0.72       175\n",
            "   macro avg       0.62      0.59      0.60       175\n",
            "weighted avg       0.69      0.72      0.70       175\n",
            "\n"
          ]
        },
        {
          "output_type": "execute_result",
          "data": {
            "text/plain": [
              "<sklearn.metrics._plot.confusion_matrix.ConfusionMatrixDisplay at 0x7f4cb9ab0c70>"
            ]
          },
          "metadata": {},
          "execution_count": 45
        },
        {
          "output_type": "display_data",
          "data": {
            "text/plain": [
              "<Figure size 432x288 with 1 Axes>"
            ],
            "image/png": "[encoded data removed]"
          },
          "metadata": {}
        }
      ]
    },
    {
      "cell_type": "markdown",
      "source": [
        "### Accuracy"
      ],
      "metadata": {
        "id": "VNqpQ7E00ZLs"
      }
    },
    {
      "cell_type": "code",
      "source": [
        "accuracy_df = pd.DataFrame()\n",
        "accuracy_df['Classifier'] = ['Decision Tree', 'kNN', 'Naive Bayes', 'SVC', 'Logistic Regression', 'Random Forest']\n",
        "accuracy_df['Accuracy'] = [accuracy_score(y_test, y_pred_DT), accuracy_score(y_test, y_pred_kNN), accuracy_score(y_test, y_pred_NB), \n",
        "                           accuracy_score(y_test, y_pred_SVM), accuracy_score(y_test, y_pred_LR), accuracy_score(y_test, y_pred_RF)]\n",
        "\n",
        "sns.barplot(y = 'Accuracy', x = 'Classifier', data = accuracy_df, order = accuracy_df.sort_values('Accuracy', ascending = False).Classifier)\n",
        "plt.title('Accuracy of the Classifiers')\n",
        "plt.xticks(rotation=90)\n",
        "plt.show()"
      ],
      "metadata": {
        "colab": {
          "base_uri": "https://localhost:8080/",
          "height": 397
        },
        "id": "QjcB0Xd70clw",
        "outputId": "b7e64b85-6539-43f2-89fb-bcf11fbe00c3"
      },
      "execution_count": 46,
      "outputs": [
        {
          "output_type": "display_data",
          "data": {
            "text/plain": [
              "<Figure size 432x288 with 1 Axes>"
            ],
            "image/png": "[encoded data removed]"
          },
          "metadata": {}
        }
      ]
    },
    {
      "cell_type": "markdown",
      "source": [
        "We see that SVC, Naive Bayes and Random Forest Classifier performs the best amongst the algorithms that we have implemented on the dataset with imbalanced target class."
      ],
      "metadata": {
        "id": "CYUkjmZ_1SYn"
      }
    },
    {
      "cell_type": "markdown",
      "source": [
        "### ROC Curve"
      ],
      "metadata": {
        "id": "YmRJTtOx1rK9"
      }
    },
    {
      "cell_type": "code",
      "source": [
        "plt.plot([0,1], [0,1], ':')\n",
        "fpr1, tpr1, thresholds = roc_curve(y_test, y_pred_kNN)\n",
        "plt.plot(fpr1, tpr1, '--', label='kNN')\n",
        "fpr2, tpr2, thresholds = roc_curve(y_test, y_pred_NB)\n",
        "plt.plot(fpr2, tpr2, '--', label='Naive Bayes')\n",
        "fpr3, tpr3, thresholds = roc_curve(y_test, y_pred_SVM)\n",
        "plt.plot(fpr3, tpr3, '--', label='SVM Classifier')\n",
        "fpr4, tpr4, thresholds = roc_curve(y_test, y_pred_LR)\n",
        "plt.plot(fpr4, tpr4, '--', label='Logistic Regression')\n",
        "fpr5, tpr5, thresholds = roc_curve(y_test, y_pred_DT)\n",
        "plt.plot(fpr5, tpr5, '--', label='Decision Tree Classifier')\n",
        "fpr6, tpr6, thresholds = roc_curve(y_test, y_pred_RF)\n",
        "plt.plot(fpr6, tpr6, '--', label='Random Forest Classifier')\n",
        "plt.xlabel('False Positive Rate')\n",
        "plt.ylabel('True Positive Rate')\n",
        "plt.title('ROC Curve')\n",
        "plt.legend(bbox_to_anchor = (1.0, 0.5), loc = 'center left')\n",
        "plt.show()"
      ],
      "metadata": {
        "colab": {
          "base_uri": "https://localhost:8080/",
          "height": 301
        },
        "id": "vEojChLi1zd3",
        "outputId": "45df556d-efe9-46d0-a082-c346a11643ea"
      },
      "execution_count": 47,
      "outputs": [
        {
          "output_type": "display_data",
          "data": {
            "text/plain": [
              "<Figure size 432x288 with 1 Axes>"
            ],
            "image/png": "[encoded data removed]"
          },
          "metadata": {}
        }
      ]
    },
    {
      "cell_type": "markdown",
      "source": [
        "Random Forest Classifier has a better ROC Curve compared to the rest of the algorithms we have implemented. But it still is not appreciable. We therefore balance the target class, since in healthcare, we care not just about the accuracy but also about Precision, Recall and F1 score."
      ],
      "metadata": {
        "id": "au-1lKmC5ZBx"
      }
    },
    {
      "cell_type": "markdown",
      "source": [
        "### Precision-Recall Curve"
      ],
      "metadata": {
        "id": "A2fGd8ZC11Ke"
      }
    },
    {
      "cell_type": "code",
      "source": [
        "from sklearn.metrics import precision_recall_curve\n",
        "\n",
        "no_skill = len(y_test[y_test == 1]) / len(y_test)\n",
        "plt.plot([0, 1], [no_skill, no_skill], linestyle='--')\n",
        "\n",
        "precision1, recall1, thresholds1 = precision_recall_curve(y_test, y_pred_kNN)\n",
        "plt.plot(recall1, precision1, '--', label='k-Neighbors Classifier')\n",
        "precision2, recall2, thresholds2 = precision_recall_curve(y_test, y_pred_NB)\n",
        "plt.plot(recall2, precision2, '--', label='Bernoulli Naive Bayes Classifier')\n",
        "precision3, recall3, thresholds3 = precision_recall_curve(y_test, y_pred_SVM)\n",
        "plt.plot(recall3, precision3, '--', label='Support Vector Classifier')\n",
        "precision4, recall4, thresholds4 = precision_recall_curve(y_test, y_pred_LR)\n",
        "plt.plot(recall4, precision4, '--', label='Logistic Regression Classifier')\n",
        "precision5, recall5, thresholds5 = precision_recall_curve(y_test, y_pred_DT)\n",
        "plt.plot(recall5, precision5, '--', label='Decision Tree Classifier')\n",
        "precision6, recall6, thresholds6 = precision_recall_curve(y_test, y_pred_RF)\n",
        "plt.plot(recall6, precision6, '--', label='Random Forest Classifier')\n",
        "\n",
        "fscore1 = (2 * precision1 * recall1) / (precision1 + recall1)\n",
        "fscore2 = (2 * precision2 * recall2) / (precision2 + recall2)\n",
        "fscore3 = (2 * precision3 * recall3) / (precision3 + recall3)\n",
        "fscore4 = (2 * precision4 * recall4) / (precision4 + recall4)\n",
        "fscore5 = (2 * precision5 * recall5) / (precision5 + recall5)\n",
        "fscore6 = (2 * precision6 * recall6) / (precision6 + recall6)\n",
        "\n",
        "ix1 = np.argmax(fscore1)\n",
        "ix2 = np.argmax(fscore2)\n",
        "ix3 = np.argmax(fscore3)\n",
        "ix4 = np.argmax(fscore4)\n",
        "ix5 = np.argmax(fscore5)\n",
        "ix6 = np.argmax(fscore6)\n",
        "\n",
        "plt.scatter(recall1[ix1], precision1[ix1], marker='o', label='Best Threshold kNN')\n",
        "plt.scatter(recall2[ix2], precision2[ix2], marker='o', label='Best Threshold NB')\n",
        "plt.scatter(recall3[ix3], precision3[ix3], marker='o', label='Best Threshold SVC')\n",
        "plt.scatter(recall4[ix4], precision4[ix4], marker='o', label='Best Threshold LR')\n",
        "plt.scatter(recall5[ix5], precision5[ix5], marker='o', label='Best Threshold DT')\n",
        "plt.scatter(recall6[ix6], precision6[ix6], marker='o', label='Best Threshold RF')\n",
        "\n",
        "plt.xlabel('Recall')\n",
        "plt.ylabel('Precision')\n",
        "plt.title('Precision-Recall Curve')\n",
        "plt.legend(bbox_to_anchor = (1.0, 0.5), loc = 'center left')\n",
        "plt.show()"
      ],
      "metadata": {
        "colab": {
          "base_uri": "https://localhost:8080/",
          "height": 301
        },
        "id": "3SRZ6R0_VKD1",
        "outputId": "c8aa909c-8938-4123-b9c1-2b9ff16c6315"
      },
      "execution_count": 48,
      "outputs": [
        {
          "output_type": "display_data",
          "data": {
            "text/plain": [
              "<Figure size 432x288 with 1 Axes>"
            ],
            "image/png": "[encoded data removed]"
          },
          "metadata": {}
        }
      ]
    },
    {
      "cell_type": "markdown",
      "source": [
        "The No-skill line, depicted by the horizontal blue line, represents the scenario where the classifier cannot differentiate between the classes and predicts at random. We can see from the Precision-Recall Curve that our models are neither good nor bad - The random Forest Classifier performs a little better than the other models but it is still not appreciably good enough.\n",
        "\n",
        "The Best Thresholds however are at Recall = 1, which yields a corresponding Precision of about 70%.\n"
      ],
      "metadata": {
        "id": "24TjpRFdY0vi"
      }
    },
    {
      "cell_type": "markdown",
      "source": [
        "## Handling Target Imbalance"
      ],
      "metadata": {
        "id": "XsC_m1-1KnuY"
      }
    },
    {
      "cell_type": "markdown",
      "source": [
        "### Data Oversampling"
      ],
      "metadata": {
        "id": "5Ok6ezPf8zvp"
      }
    },
    {
      "cell_type": "code",
      "source": [
        "from imblearn.over_sampling import ADASYN\n",
        "from collections import Counter\n",
        "oversample = ADASYN()\n",
        "X_data,Y_data = oversample.fit_resample(x_data, y_data)\n",
        "Counter(Y_data)"
      ],
      "metadata": {
        "colab": {
          "base_uri": "https://localhost:8080/"
        },
        "id": "AMnQNGz65VtD",
        "outputId": "cd20fff8-8ad5-4f37-ff54-95d12e355afa"
      },
      "execution_count": 49,
      "outputs": [
        {
          "output_type": "execute_result",
          "data": {
            "text/plain": [
              "Counter({1: 416, 0: 374})"
            ]
          },
          "metadata": {},
          "execution_count": 49
        }
      ]
    },
    {
      "cell_type": "code",
      "source": [
        "Data = pd.DataFrame(X_data, columns = x_data.columns)\n",
        "Data.head()"
      ],
      "metadata": {
        "colab": {
          "base_uri": "https://localhost:8080/",
          "height": 270
        },
        "id": "TIwruOXL64pi",
        "outputId": "3b0d6730-09b9-4f9a-e0d9-2b0e523bac04"
      },
      "execution_count": 50,
      "outputs": [
        {
          "output_type": "execute_result",
          "data": {
            "text/plain": [
              "   Age  Gender  Total_Bilirubin  Direct_Bilirubin  Alkaline_Phosphotase  \\\n",
              "0   65       0              0.7               0.1                   187   \n",
              "1   62       1             10.9               5.5                   699   \n",
              "2   62       1              7.3               4.1                   490   \n",
              "3   58       1              1.0               0.4                   182   \n",
              "4   72       1              3.9               2.0                   195   \n",
              "\n",
              "   Alamine_Aminotransferase  Aspartate_Aminotransferase  Total_Protiens  \\\n",
              "0                        16                          18             6.8   \n",
              "1                        64                         100             7.5   \n",
              "2                        60                          68             7.0   \n",
              "3                        14                          20             6.8   \n",
              "4                        27                          59             7.3   \n",
              "\n",
              "   Albumin  Albumin_and_Globulin_Ratio  \n",
              "0      3.3                        0.90  \n",
              "1      3.2                        0.74  \n",
              "2      3.3                        0.89  \n",
              "3      3.4                        1.00  \n",
              "4      2.4                        0.40  "
            ],
            "text/html": [
              "\n",
              "  <div id=\"df-08f8eb7d-8bea-40d4-974d-3b438e50ed91\">\n",
              "    <div class=\"colab-df-container\">\n",
              "      <div>\n",
              "<style scoped>\n",
              "    .dataframe tbody tr th:only-of-type {\n",
              "        vertical-align: middle;\n",
              "    }\n",
              "\n",
              "    .dataframe tbody tr th {\n",
              "        vertical-align: top;\n",
              "    }\n",
              "\n",
              "    .dataframe thead th {\n",
              "        text-align: right;\n",
              "    }\n",
              "</style>\n",
              "<table border=\"1\" class=\"dataframe\">\n",
              "  <thead>\n",
              "    <tr style=\"text-align: right;\">\n",
              "      <th></th>\n",
              "      <th>Age</th>\n",
              "      <th>Gender</th>\n",
              "      <th>Total_Bilirubin</th>\n",
              "      <th>Direct_Bilirubin</th>\n",
              "      <th>Alkaline_Phosphotase</th>\n",
              "      <th>Alamine_Aminotransferase</th>\n",
              "      <th>Aspartate_Aminotransferase</th>\n",
              "      <th>Total_Protiens</th>\n",
              "      <th>Albumin</th>\n",
              "      <th>Albumin_and_Globulin_Ratio</th>\n",
              "    </tr>\n",
              "  </thead>\n",
              "  <tbody>\n",
              "    <tr>\n",
              "      <th>0</th>\n",
              "      <td>65</td>\n",
              "      <td>0</td>\n",
              "      <td>0.7</td>\n",
              "      <td>0.1</td>\n",
              "      <td>187</td>\n",
              "      <td>16</td>\n",
              "      <td>18</td>\n",
              "      <td>6.8</td>\n",
              "      <td>3.3</td>\n",
              "      <td>0.90</td>\n",
              "    </tr>\n",
              "    <tr>\n",
              "      <th>1</th>\n",
              "      <td>62</td>\n",
              "      <td>1</td>\n",
              "      <td>10.9</td>\n",
              "      <td>5.5</td>\n",
              "      <td>699</td>\n",
              "      <td>64</td>\n",
              "      <td>100</td>\n",
              "      <td>7.5</td>\n",
              "      <td>3.2</td>\n",
              "      <td>0.74</td>\n",
              "    </tr>\n",
              "    <tr>\n",
              "      <th>2</th>\n",
              "      <td>62</td>\n",
              "      <td>1</td>\n",
              "      <td>7.3</td>\n",
              "      <td>4.1</td>\n",
              "      <td>490</td>\n",
              "      <td>60</td>\n",
              "      <td>68</td>\n",
              "      <td>7.0</td>\n",
              "      <td>3.3</td>\n",
              "      <td>0.89</td>\n",
              "    </tr>\n",
              "    <tr>\n",
              "      <th>3</th>\n",
              "      <td>58</td>\n",
              "      <td>1</td>\n",
              "      <td>1.0</td>\n",
              "      <td>0.4</td>\n",
              "      <td>182</td>\n",
              "      <td>14</td>\n",
              "      <td>20</td>\n",
              "      <td>6.8</td>\n",
              "      <td>3.4</td>\n",
              "      <td>1.00</td>\n",
              "    </tr>\n",
              "    <tr>\n",
              "      <th>4</th>\n",
              "      <td>72</td>\n",
              "      <td>1</td>\n",
              "      <td>3.9</td>\n",
              "      <td>2.0</td>\n",
              "      <td>195</td>\n",
              "      <td>27</td>\n",
              "      <td>59</td>\n",
              "      <td>7.3</td>\n",
              "      <td>2.4</td>\n",
              "      <td>0.40</td>\n",
              "    </tr>\n",
              "  </tbody>\n",
              "</table>\n",
              "</div>\n",
              "      <button class=\"colab-df-convert\" onclick=\"convertToInteractive('df-08f8eb7d-8bea-40d4-974d-3b438e50ed91')\"\n",
              "              title=\"Convert this dataframe to an interactive table.\"\n",
              "              style=\"display:none;\">\n",
              "        \n",
              "  <svg xmlns=\"http://www.w3.org/2000/svg\" height=\"24px\"viewBox=\"0 0 24 24\"\n",
              "       width=\"24px\">\n",
              "    <path d=\"M0 0h24v24H0V0z\" fill=\"none\"/>\n",
              "    <path d=\"M18.56 5.44l.94 2.06.94-2.06 2.06-.94-2.06-.94-.94-2.06-.94 2.06-2.06.94zm-11 1L8.5 8.5l.94-2.06 2.06-.94-2.06-.94L8.5 2.5l-.94 2.06-2.06.94zm10 10l.94 2.06.94-2.06 2.06-.94-2.06-.94-.94-2.06-.94 2.06-2.06.94z\"/><path d=\"M17.41 7.96l-1.37-1.37c-.4-.4-.92-.59-1.43-.59-.52 0-1.04.2-1.43.59L10.3 9.45l-7.72 7.72c-.78.78-.78 2.05 0 2.83L4 21.41c.39.39.9.59 1.41.59.51 0 1.02-.2 1.41-.59l7.78-7.78 2.81-2.81c.8-.78.8-2.07 0-2.86zM5.41 20L4 18.59l7.72-7.72 1.47 1.35L5.41 20z\"/>\n",
              "  </svg>\n",
              "      </button>\n",
              "      \n",
              "  <style>\n",
              "    .colab-df-container {\n",
              "      display:flex;\n",
              "      flex-wrap:wrap;\n",
              "      gap: 12px;\n",
              "    }\n",
              "\n",
              "    .colab-df-convert {\n",
              "      background-color: #E8F0FE;\n",
              "      border: none;\n",
              "      border-radius: 50%;\n",
              "      cursor: pointer;\n",
              "      display: none;\n",
              "      fill: #1967D2;\n",
              "      height: 32px;\n",
              "      padding: 0 0 0 0;\n",
              "      width: 32px;\n",
              "    }\n",
              "\n",
              "    .colab-df-convert:hover {\n",
              "      background-color: #E2EBFA;\n",
              "      box-shadow: 0px 1px 2px rgba(60, 64, 67, 0.3), 0px 1px 3px 1px rgba(60, 64, 67, 0.15);\n",
              "      fill: #174EA6;\n",
              "    }\n",
              "\n",
              "    [theme=dark] .colab-df-convert {\n",
              "      background-color: #3B4455;\n",
              "      fill: #D2E3FC;\n",
              "    }\n",
              "\n",
              "    [theme=dark] .colab-df-convert:hover {\n",
              "      background-color: #434B5C;\n",
              "      box-shadow: 0px 1px 3px 1px rgba(0, 0, 0, 0.15);\n",
              "      filter: drop-shadow(0px 1px 2px rgba(0, 0, 0, 0.3));\n",
              "      fill: #FFFFFF;\n",
              "    }\n",
              "  </style>\n",
              "\n",
              "      <script>\n",
              "        const buttonEl =\n",
              "          document.querySelector('#df-08f8eb7d-8bea-40d4-974d-3b438e50ed91 button.colab-df-convert');\n",
              "        buttonEl.style.display =\n",
              "          google.colab.kernel.accessAllowed ? 'block' : 'none';\n",
              "\n",
              "        async function convertToInteractive(key) {\n",
              "          const element = document.querySelector('#df-08f8eb7d-8bea-40d4-974d-3b438e50ed91');\n",
              "          const dataTable =\n",
              "            await google.colab.kernel.invokeFunction('convertToInteractive',\n",
              "                                                     [key], {});\n",
              "          if (!dataTable) return;\n",
              "\n",
              "          const docLinkHtml = 'Like what you see? Visit the ' +\n",
              "            '<a target=\"_blank\" href=https://colab.research.google.com/notebooks/data_table.ipynb>data table notebook</a>'\n",
              "            + ' to learn more about interactive tables.';\n",
              "          element.innerHTML = '';\n",
              "          dataTable['output_type'] = 'display_data';\n",
              "          await google.colab.output.renderOutput(dataTable, element);\n",
              "          const docLink = document.createElement('div');\n",
              "          docLink.innerHTML = docLinkHtml;\n",
              "          element.appendChild(docLink);\n",
              "        }\n",
              "      </script>\n",
              "    </div>\n",
              "  </div>\n",
              "  "
            ]
          },
          "metadata": {},
          "execution_count": 50
        }
      ]
    },
    {
      "cell_type": "code",
      "source": [
        "Data.info()"
      ],
      "metadata": {
        "colab": {
          "base_uri": "https://localhost:8080/"
        },
        "id": "RyfhGkV88F4E",
        "outputId": "91179de3-e52b-4770-a33f-be6255fa87ad"
      },
      "execution_count": 51,
      "outputs": [
        {
          "output_type": "stream",
          "name": "stdout",
          "text": [
            "<class 'pandas.core.frame.DataFrame'>\n",
            "RangeIndex: 790 entries, 0 to 789\n",
            "Data columns (total 10 columns):\n",
            " #   Column                      Non-Null Count  Dtype  \n",
            "---  ------                      --------------  -----  \n",
            " 0   Age                         790 non-null    int64  \n",
            " 1   Gender                      790 non-null    int64  \n",
            " 2   Total_Bilirubin             790 non-null    float64\n",
            " 3   Direct_Bilirubin            790 non-null    float64\n",
            " 4   Alkaline_Phosphotase        790 non-null    int64  \n",
            " 5   Alamine_Aminotransferase    790 non-null    int64  \n",
            " 6   Aspartate_Aminotransferase  790 non-null    int64  \n",
            " 7   Total_Protiens              790 non-null    float64\n",
            " 8   Albumin                     790 non-null    float64\n",
            " 9   Albumin_and_Globulin_Ratio  790 non-null    float64\n",
            "dtypes: float64(5), int64(5)\n",
            "memory usage: 61.8 KB\n"
          ]
        }
      ]
    },
    {
      "cell_type": "markdown",
      "source": [
        "### Standardization"
      ],
      "metadata": {
        "id": "oXg6H1RW-nhe"
      }
    },
    {
      "cell_type": "code",
      "source": [
        "scaler_balanced = RobustScaler()\n",
        "scaler_balanced.fit(X_data)\n",
        "X_scaled = scaler_balanced.transform(X_data)"
      ],
      "metadata": {
        "id": "0br9xMbp-iJQ"
      },
      "execution_count": 52,
      "outputs": []
    },
    {
      "cell_type": "code",
      "source": [
        "Scaled_Data = pd.DataFrame(X_scaled, columns = X_data.columns)\n",
        "Scaled_Data.head()"
      ],
      "metadata": {
        "colab": {
          "base_uri": "https://localhost:8080/",
          "height": 270
        },
        "id": "nRdVHvRb6pkk",
        "outputId": "da729ecf-e8db-4cb8-c0be-e88d94616525"
      },
      "execution_count": 53,
      "outputs": [
        {
          "output_type": "execute_result",
          "data": {
            "text/plain": [
              "    Age  Gender  Total_Bilirubin  Direct_Bilirubin  Alkaline_Phosphotase  \\\n",
              "0  0.80    -1.0        -0.206210         -0.285714             -0.124464   \n",
              "1  0.68     0.0         8.865136          7.428571              4.270386   \n",
              "2  0.68     0.0         5.663485          5.428571              2.476395   \n",
              "3  0.52     0.0         0.060595          0.142857             -0.167382   \n",
              "4  1.08     0.0         2.639703          2.428571             -0.055794   \n",
              "\n",
              "   Alamine_Aminotransferase  Aspartate_Aminotransferase  Total_Protiens  \\\n",
              "0                 -0.484848                   -0.408163        0.148860   \n",
              "1                  0.969697                    1.265306        0.661042   \n",
              "2                  0.848485                    0.612245        0.295198   \n",
              "3                 -0.545455                   -0.367347        0.148860   \n",
              "4                 -0.151515                    0.428571        0.514704   \n",
              "\n",
              "    Albumin  Albumin_and_Globulin_Ratio  \n",
              "0  0.090909                   -0.326143  \n",
              "1  0.000000                   -0.849242  \n",
              "2  0.090909                   -0.358836  \n",
              "3  0.181818                    0.000794  \n",
              "4 -0.727273                   -1.960828  "
            ],
            "text/html": [
              "\n",
              "  <div id=\"df-5593b79c-498b-4bc9-af61-2d98bf7aa575\">\n",
              "    <div class=\"colab-df-container\">\n",
              "      <div>\n",
              "<style scoped>\n",
              "    .dataframe tbody tr th:only-of-type {\n",
              "        vertical-align: middle;\n",
              "    }\n",
              "\n",
              "    .dataframe tbody tr th {\n",
              "        vertical-align: top;\n",
              "    }\n",
              "\n",
              "    .dataframe thead th {\n",
              "        text-align: right;\n",
              "    }\n",
              "</style>\n",
              "<table border=\"1\" class=\"dataframe\">\n",
              "  <thead>\n",
              "    <tr style=\"text-align: right;\">\n",
              "      <th></th>\n",
              "      <th>Age</th>\n",
              "      <th>Gender</th>\n",
              "      <th>Total_Bilirubin</th>\n",
              "      <th>Direct_Bilirubin</th>\n",
              "      <th>Alkaline_Phosphotase</th>\n",
              "      <th>Alamine_Aminotransferase</th>\n",
              "      <th>Aspartate_Aminotransferase</th>\n",
              "      <th>Total_Protiens</th>\n",
              "      <th>Albumin</th>\n",
              "      <th>Albumin_and_Globulin_Ratio</th>\n",
              "    </tr>\n",
              "  </thead>\n",
              "  <tbody>\n",
              "    <tr>\n",
              "      <th>0</th>\n",
              "      <td>0.80</td>\n",
              "      <td>-1.0</td>\n",
              "      <td>-0.206210</td>\n",
              "      <td>-0.285714</td>\n",
              "      <td>-0.124464</td>\n",
              "      <td>-0.484848</td>\n",
              "      <td>-0.408163</td>\n",
              "      <td>0.148860</td>\n",
              "      <td>0.090909</td>\n",
              "      <td>-0.326143</td>\n",
              "    </tr>\n",
              "    <tr>\n",
              "      <th>1</th>\n",
              "      <td>0.68</td>\n",
              "      <td>0.0</td>\n",
              "      <td>8.865136</td>\n",
              "      <td>7.428571</td>\n",
              "      <td>4.270386</td>\n",
              "      <td>0.969697</td>\n",
              "      <td>1.265306</td>\n",
              "      <td>0.661042</td>\n",
              "      <td>0.000000</td>\n",
              "      <td>-0.849242</td>\n",
              "    </tr>\n",
              "    <tr>\n",
              "      <th>2</th>\n",
              "      <td>0.68</td>\n",
              "      <td>0.0</td>\n",
              "      <td>5.663485</td>\n",
              "      <td>5.428571</td>\n",
              "      <td>2.476395</td>\n",
              "      <td>0.848485</td>\n",
              "      <td>0.612245</td>\n",
              "      <td>0.295198</td>\n",
              "      <td>0.090909</td>\n",
              "      <td>-0.358836</td>\n",
              "    </tr>\n",
              "    <tr>\n",
              "      <th>3</th>\n",
              "      <td>0.52</td>\n",
              "      <td>0.0</td>\n",
              "      <td>0.060595</td>\n",
              "      <td>0.142857</td>\n",
              "      <td>-0.167382</td>\n",
              "      <td>-0.545455</td>\n",
              "      <td>-0.367347</td>\n",
              "      <td>0.148860</td>\n",
              "      <td>0.181818</td>\n",
              "      <td>0.000794</td>\n",
              "    </tr>\n",
              "    <tr>\n",
              "      <th>4</th>\n",
              "      <td>1.08</td>\n",
              "      <td>0.0</td>\n",
              "      <td>2.639703</td>\n",
              "      <td>2.428571</td>\n",
              "      <td>-0.055794</td>\n",
              "      <td>-0.151515</td>\n",
              "      <td>0.428571</td>\n",
              "      <td>0.514704</td>\n",
              "      <td>-0.727273</td>\n",
              "      <td>-1.960828</td>\n",
              "    </tr>\n",
              "  </tbody>\n",
              "</table>\n",
              "</div>\n",
              "      <button class=\"colab-df-convert\" onclick=\"convertToInteractive('df-5593b79c-498b-4bc9-af61-2d98bf7aa575')\"\n",
              "              title=\"Convert this dataframe to an interactive table.\"\n",
              "              style=\"display:none;\">\n",
              "        \n",
              "  <svg xmlns=\"http://www.w3.org/2000/svg\" height=\"24px\"viewBox=\"0 0 24 24\"\n",
              "       width=\"24px\">\n",
              "    <path d=\"M0 0h24v24H0V0z\" fill=\"none\"/>\n",
              "    <path d=\"M18.56 5.44l.94 2.06.94-2.06 2.06-.94-2.06-.94-.94-2.06-.94 2.06-2.06.94zm-11 1L8.5 8.5l.94-2.06 2.06-.94-2.06-.94L8.5 2.5l-.94 2.06-2.06.94zm10 10l.94 2.06.94-2.06 2.06-.94-2.06-.94-.94-2.06-.94 2.06-2.06.94z\"/><path d=\"M17.41 7.96l-1.37-1.37c-.4-.4-.92-.59-1.43-.59-.52 0-1.04.2-1.43.59L10.3 9.45l-7.72 7.72c-.78.78-.78 2.05 0 2.83L4 21.41c.39.39.9.59 1.41.59.51 0 1.02-.2 1.41-.59l7.78-7.78 2.81-2.81c.8-.78.8-2.07 0-2.86zM5.41 20L4 18.59l7.72-7.72 1.47 1.35L5.41 20z\"/>\n",
              "  </svg>\n",
              "      </button>\n",
              "      \n",
              "  <style>\n",
              "    .colab-df-container {\n",
              "      display:flex;\n",
              "      flex-wrap:wrap;\n",
              "      gap: 12px;\n",
              "    }\n",
              "\n",
              "    .colab-df-convert {\n",
              "      background-color: #E8F0FE;\n",
              "      border: none;\n",
              "      border-radius: 50%;\n",
              "      cursor: pointer;\n",
              "      display: none;\n",
              "      fill: #1967D2;\n",
              "      height: 32px;\n",
              "      padding: 0 0 0 0;\n",
              "      width: 32px;\n",
              "    }\n",
              "\n",
              "    .colab-df-convert:hover {\n",
              "      background-color: #E2EBFA;\n",
              "      box-shadow: 0px 1px 2px rgba(60, 64, 67, 0.3), 0px 1px 3px 1px rgba(60, 64, 67, 0.15);\n",
              "      fill: #174EA6;\n",
              "    }\n",
              "\n",
              "    [theme=dark] .colab-df-convert {\n",
              "      background-color: #3B4455;\n",
              "      fill: #D2E3FC;\n",
              "    }\n",
              "\n",
              "    [theme=dark] .colab-df-convert:hover {\n",
              "      background-color: #434B5C;\n",
              "      box-shadow: 0px 1px 3px 1px rgba(0, 0, 0, 0.15);\n",
              "      filter: drop-shadow(0px 1px 2px rgba(0, 0, 0, 0.3));\n",
              "      fill: #FFFFFF;\n",
              "    }\n",
              "  </style>\n",
              "\n",
              "      <script>\n",
              "        const buttonEl =\n",
              "          document.querySelector('#df-5593b79c-498b-4bc9-af61-2d98bf7aa575 button.colab-df-convert');\n",
              "        buttonEl.style.display =\n",
              "          google.colab.kernel.accessAllowed ? 'block' : 'none';\n",
              "\n",
              "        async function convertToInteractive(key) {\n",
              "          const element = document.querySelector('#df-5593b79c-498b-4bc9-af61-2d98bf7aa575');\n",
              "          const dataTable =\n",
              "            await google.colab.kernel.invokeFunction('convertToInteractive',\n",
              "                                                     [key], {});\n",
              "          if (!dataTable) return;\n",
              "\n",
              "          const docLinkHtml = 'Like what you see? Visit the ' +\n",
              "            '<a target=\"_blank\" href=https://colab.research.google.com/notebooks/data_table.ipynb>data table notebook</a>'\n",
              "            + ' to learn more about interactive tables.';\n",
              "          element.innerHTML = '';\n",
              "          dataTable['output_type'] = 'display_data';\n",
              "          await google.colab.output.renderOutput(dataTable, element);\n",
              "          const docLink = document.createElement('div');\n",
              "          docLink.innerHTML = docLinkHtml;\n",
              "          element.appendChild(docLink);\n",
              "        }\n",
              "      </script>\n",
              "    </div>\n",
              "  </div>\n",
              "  "
            ]
          },
          "metadata": {},
          "execution_count": 53
        }
      ]
    },
    {
      "cell_type": "code",
      "source": [
        "Scaled_Data.info()"
      ],
      "metadata": {
        "colab": {
          "base_uri": "https://localhost:8080/"
        },
        "id": "BOSHCMJ1-NE3",
        "outputId": "5903a6a4-3c5f-4f24-d26b-6d623f2cadca"
      },
      "execution_count": 54,
      "outputs": [
        {
          "output_type": "stream",
          "name": "stdout",
          "text": [
            "<class 'pandas.core.frame.DataFrame'>\n",
            "RangeIndex: 790 entries, 0 to 789\n",
            "Data columns (total 10 columns):\n",
            " #   Column                      Non-Null Count  Dtype  \n",
            "---  ------                      --------------  -----  \n",
            " 0   Age                         790 non-null    float64\n",
            " 1   Gender                      790 non-null    float64\n",
            " 2   Total_Bilirubin             790 non-null    float64\n",
            " 3   Direct_Bilirubin            790 non-null    float64\n",
            " 4   Alkaline_Phosphotase        790 non-null    float64\n",
            " 5   Alamine_Aminotransferase    790 non-null    float64\n",
            " 6   Aspartate_Aminotransferase  790 non-null    float64\n",
            " 7   Total_Protiens              790 non-null    float64\n",
            " 8   Albumin                     790 non-null    float64\n",
            " 9   Albumin_and_Globulin_Ratio  790 non-null    float64\n",
            "dtypes: float64(10)\n",
            "memory usage: 61.8 KB\n"
          ]
        }
      ]
    },
    {
      "cell_type": "markdown",
      "source": [
        "### Principal Component Analysis\n",
        "Do the PCA on the balanced data:"
      ],
      "metadata": {
        "id": "YWZiM8dU-MRq"
      }
    },
    {
      "cell_type": "code",
      "source": [
        "pca_balanced = PCA()\n",
        "pca_balanced.fit(Scaled_Data)\n",
        "pca_balanced.get_params()"
      ],
      "metadata": {
        "colab": {
          "base_uri": "https://localhost:8080/"
        },
        "id": "Vivkc4I46SmK",
        "outputId": "869b25d0-afd2-483c-e889-c6164f717162"
      },
      "execution_count": 55,
      "outputs": [
        {
          "output_type": "execute_result",
          "data": {
            "text/plain": [
              "{'copy': True,\n",
              " 'iterated_power': 'auto',\n",
              " 'n_components': None,\n",
              " 'random_state': None,\n",
              " 'svd_solver': 'auto',\n",
              " 'tol': 0.0,\n",
              " 'whiten': False}"
            ]
          },
          "metadata": {},
          "execution_count": 55
        }
      ]
    },
    {
      "cell_type": "markdown",
      "source": [
        "#### Scree Plot"
      ],
      "metadata": {
        "id": "w0dRHMIF8-Tm"
      }
    },
    {
      "cell_type": "code",
      "source": [
        "fig, ax = plt.subplots()\n",
        "xi = np.arange(1, len(Scaled_Data.columns)+1, 1)\n",
        "yi = np.cumsum(pca_balanced.explained_variance_ratio_)\n",
        "\n",
        "plt.plot(xi, yi, marker='o', linestyle='--', color='b')\n",
        "plt.xlabel('Number of Components')\n",
        "plt.xticks(xi)\n",
        "plt.ylabel('Cumulative variance (%)')\n",
        "plt.title('Scree Plot')\n",
        "ax.set_ylim([0.70, 1.01])\n",
        "plt.axhline(y = 0.95, color='r', linestyle='--')\n",
        "ax.grid(\"both\")\n",
        "plt.show()"
      ],
      "metadata": {
        "colab": {
          "base_uri": "https://localhost:8080/",
          "height": 301
        },
        "id": "ZE--tLWm6ZXG",
        "outputId": "8941e813-f0d6-4ee3-c53c-a477f3572f33"
      },
      "execution_count": 56,
      "outputs": [
        {
          "output_type": "display_data",
          "data": {
            "text/plain": [
              "<Figure size 432x288 with 1 Axes>"
            ],
            "image/png": "[encoded data removed]"
          },
          "metadata": {}
        }
      ]
    },
    {
      "cell_type": "code",
      "source": [
        "pca_balanced = PCA(n_components=0.96, random_state = 42)\n",
        "pca_balanced.fit(Scaled_Data)\n",
        "X_PCA = pca_balanced.transform(Scaled_Data)\n",
        "print('Shape of X before PCA: ', Scaled_Data.shape)\n",
        "print('Shape of X after PCA: ', X_PCA.shape)"
      ],
      "metadata": {
        "colab": {
          "base_uri": "https://localhost:8080/"
        },
        "id": "6sHdMCOm9Sun",
        "outputId": "367c3fd8-986b-4c09-ca9e-c5756721d8f1"
      },
      "execution_count": 57,
      "outputs": [
        {
          "output_type": "stream",
          "name": "stdout",
          "text": [
            "Shape of X before PCA:  (790, 10)\n",
            "Shape of X after PCA:  (790, 5)\n"
          ]
        }
      ]
    },
    {
      "cell_type": "code",
      "source": [
        "columns_PCA = ['PCA Compponent 0%i' %i for i in range(1, (X_PCA.shape)[1]+1, 1)]\n",
        "PCA_Data = pd.DataFrame(pca_balanced.transform(X_data), columns = columns_PCA)\n",
        "PCA_Data.head()"
      ],
      "metadata": {
        "colab": {
          "base_uri": "https://localhost:8080/",
          "height": 206
        },
        "id": "13BRVphG9KBs",
        "outputId": "b4dd3773-c5f5-492f-feeb-6781d032391a"
      },
      "execution_count": 58,
      "outputs": [
        {
          "output_type": "execute_result",
          "data": {
            "text/plain": [
              "   PCA Compponent 01  PCA Compponent 02  PCA Compponent 03  PCA Compponent 04  \\\n",
              "0          30.758509          -4.173358          25.828869         179.043374   \n",
              "1         150.231536         -19.823665         109.911719         663.337876   \n",
              "2         111.766631         -19.062536          65.189691         466.626122   \n",
              "3          30.763720          -4.119911          27.753658         173.615831   \n",
              "4          65.105450         -20.351340          46.544747         182.665376   \n",
              "\n",
              "   PCA Compponent 05  \n",
              "0          24.453012  \n",
              "1          90.730486  \n",
              "2          63.560558  \n",
              "3          23.632388  \n",
              "4          25.983369  "
            ],
            "text/html": [
              "\n",
              "  <div id=\"df-b9b2f813-7b0c-4101-8d29-6d7bca2012cb\">\n",
              "    <div class=\"colab-df-container\">\n",
              "      <div>\n",
              "<style scoped>\n",
              "    .dataframe tbody tr th:only-of-type {\n",
              "        vertical-align: middle;\n",
              "    }\n",
              "\n",
              "    .dataframe tbody tr th {\n",
              "        vertical-align: top;\n",
              "    }\n",
              "\n",
              "    .dataframe thead th {\n",
              "        text-align: right;\n",
              "    }\n",
              "</style>\n",
              "<table border=\"1\" class=\"dataframe\">\n",
              "  <thead>\n",
              "    <tr style=\"text-align: right;\">\n",
              "      <th></th>\n",
              "      <th>PCA Compponent 01</th>\n",
              "      <th>PCA Compponent 02</th>\n",
              "      <th>PCA Compponent 03</th>\n",
              "      <th>PCA Compponent 04</th>\n",
              "      <th>PCA Compponent 05</th>\n",
              "    </tr>\n",
              "  </thead>\n",
              "  <tbody>\n",
              "    <tr>\n",
              "      <th>0</th>\n",
              "      <td>30.758509</td>\n",
              "      <td>-4.173358</td>\n",
              "      <td>25.828869</td>\n",
              "      <td>179.043374</td>\n",
              "      <td>24.453012</td>\n",
              "    </tr>\n",
              "    <tr>\n",
              "      <th>1</th>\n",
              "      <td>150.231536</td>\n",
              "      <td>-19.823665</td>\n",
              "      <td>109.911719</td>\n",
              "      <td>663.337876</td>\n",
              "      <td>90.730486</td>\n",
              "    </tr>\n",
              "    <tr>\n",
              "      <th>2</th>\n",
              "      <td>111.766631</td>\n",
              "      <td>-19.062536</td>\n",
              "      <td>65.189691</td>\n",
              "      <td>466.626122</td>\n",
              "      <td>63.560558</td>\n",
              "    </tr>\n",
              "    <tr>\n",
              "      <th>3</th>\n",
              "      <td>30.763720</td>\n",
              "      <td>-4.119911</td>\n",
              "      <td>27.753658</td>\n",
              "      <td>173.615831</td>\n",
              "      <td>23.632388</td>\n",
              "    </tr>\n",
              "    <tr>\n",
              "      <th>4</th>\n",
              "      <td>65.105450</td>\n",
              "      <td>-20.351340</td>\n",
              "      <td>46.544747</td>\n",
              "      <td>182.665376</td>\n",
              "      <td>25.983369</td>\n",
              "    </tr>\n",
              "  </tbody>\n",
              "</table>\n",
              "</div>\n",
              "      <button class=\"colab-df-convert\" onclick=\"convertToInteractive('df-b9b2f813-7b0c-4101-8d29-6d7bca2012cb')\"\n",
              "              title=\"Convert this dataframe to an interactive table.\"\n",
              "              style=\"display:none;\">\n",
              "        \n",
              "  <svg xmlns=\"http://www.w3.org/2000/svg\" height=\"24px\"viewBox=\"0 0 24 24\"\n",
              "       width=\"24px\">\n",
              "    <path d=\"M0 0h24v24H0V0z\" fill=\"none\"/>\n",
              "    <path d=\"M18.56 5.44l.94 2.06.94-2.06 2.06-.94-2.06-.94-.94-2.06-.94 2.06-2.06.94zm-11 1L8.5 8.5l.94-2.06 2.06-.94-2.06-.94L8.5 2.5l-.94 2.06-2.06.94zm10 10l.94 2.06.94-2.06 2.06-.94-2.06-.94-.94-2.06-.94 2.06-2.06.94z\"/><path d=\"M17.41 7.96l-1.37-1.37c-.4-.4-.92-.59-1.43-.59-.52 0-1.04.2-1.43.59L10.3 9.45l-7.72 7.72c-.78.78-.78 2.05 0 2.83L4 21.41c.39.39.9.59 1.41.59.51 0 1.02-.2 1.41-.59l7.78-7.78 2.81-2.81c.8-.78.8-2.07 0-2.86zM5.41 20L4 18.59l7.72-7.72 1.47 1.35L5.41 20z\"/>\n",
              "  </svg>\n",
              "      </button>\n",
              "      \n",
              "  <style>\n",
              "    .colab-df-container {\n",
              "      display:flex;\n",
              "      flex-wrap:wrap;\n",
              "      gap: 12px;\n",
              "    }\n",
              "\n",
              "    .colab-df-convert {\n",
              "      background-color: #E8F0FE;\n",
              "      border: none;\n",
              "      border-radius: 50%;\n",
              "      cursor: pointer;\n",
              "      display: none;\n",
              "      fill: #1967D2;\n",
              "      height: 32px;\n",
              "      padding: 0 0 0 0;\n",
              "      width: 32px;\n",
              "    }\n",
              "\n",
              "    .colab-df-convert:hover {\n",
              "      background-color: #E2EBFA;\n",
              "      box-shadow: 0px 1px 2px rgba(60, 64, 67, 0.3), 0px 1px 3px 1px rgba(60, 64, 67, 0.15);\n",
              "      fill: #174EA6;\n",
              "    }\n",
              "\n",
              "    [theme=dark] .colab-df-convert {\n",
              "      background-color: #3B4455;\n",
              "      fill: #D2E3FC;\n",
              "    }\n",
              "\n",
              "    [theme=dark] .colab-df-convert:hover {\n",
              "      background-color: #434B5C;\n",
              "      box-shadow: 0px 1px 3px 1px rgba(0, 0, 0, 0.15);\n",
              "      filter: drop-shadow(0px 1px 2px rgba(0, 0, 0, 0.3));\n",
              "      fill: #FFFFFF;\n",
              "    }\n",
              "  </style>\n",
              "\n",
              "      <script>\n",
              "        const buttonEl =\n",
              "          document.querySelector('#df-b9b2f813-7b0c-4101-8d29-6d7bca2012cb button.colab-df-convert');\n",
              "        buttonEl.style.display =\n",
              "          google.colab.kernel.accessAllowed ? 'block' : 'none';\n",
              "\n",
              "        async function convertToInteractive(key) {\n",
              "          const element = document.querySelector('#df-b9b2f813-7b0c-4101-8d29-6d7bca2012cb');\n",
              "          const dataTable =\n",
              "            await google.colab.kernel.invokeFunction('convertToInteractive',\n",
              "                                                     [key], {});\n",
              "          if (!dataTable) return;\n",
              "\n",
              "          const docLinkHtml = 'Like what you see? Visit the ' +\n",
              "            '<a target=\"_blank\" href=https://colab.research.google.com/notebooks/data_table.ipynb>data table notebook</a>'\n",
              "            + ' to learn more about interactive tables.';\n",
              "          element.innerHTML = '';\n",
              "          dataTable['output_type'] = 'display_data';\n",
              "          await google.colab.output.renderOutput(dataTable, element);\n",
              "          const docLink = document.createElement('div');\n",
              "          docLink.innerHTML = docLinkHtml;\n",
              "          element.appendChild(docLink);\n",
              "        }\n",
              "      </script>\n",
              "    </div>\n",
              "  </div>\n",
              "  "
            ]
          },
          "metadata": {},
          "execution_count": 58
        }
      ]
    },
    {
      "cell_type": "code",
      "source": [
        "X = PCA_Data.values\n",
        "Y = Y_data.values"
      ],
      "metadata": {
        "id": "Cn-A_f_896_K"
      },
      "execution_count": 59,
      "outputs": []
    },
    {
      "cell_type": "markdown",
      "source": [
        "### Split into Train and Test sets"
      ],
      "metadata": {
        "id": "hUt1r2pD-H39"
      }
    },
    {
      "cell_type": "code",
      "source": [
        "X_train, X_test, Y_train, Y_test = train_test_split(X, Y, random_state=42, test_size = 0.3)\n",
        "print('x_train shape: ', X_train.shape)\n",
        "print('x_test shape: ', X_test.shape)\n",
        "print('y_train shape: ', Y_train.shape)\n",
        "print('y_test shape: ', Y_test.shape)"
      ],
      "metadata": {
        "colab": {
          "base_uri": "https://localhost:8080/"
        },
        "id": "fX4t_zNq9FzN",
        "outputId": "5e1bfb81-9e33-4103-f592-2445ace1f4db"
      },
      "execution_count": 60,
      "outputs": [
        {
          "output_type": "stream",
          "name": "stdout",
          "text": [
            "x_train shape:  (553, 5)\n",
            "x_test shape:  (237, 5)\n",
            "y_train shape:  (553,)\n",
            "y_test shape:  (237,)\n"
          ]
        }
      ]
    },
    {
      "cell_type": "markdown",
      "source": [
        "## ML Techniques - Balanced Target class"
      ],
      "metadata": {
        "id": "-9yvTh88-1XI"
      }
    },
    {
      "cell_type": "markdown",
      "source": [
        "### k-Neighbours Classifier\n",
        "\n",
        "We can quickly tweak the n_neighbors to prevent overfitting."
      ],
      "metadata": {
        "id": "xt7xuZMKc46j"
      }
    },
    {
      "cell_type": "code",
      "source": [
        "from sklearn.neighbors import KNeighborsClassifier\n",
        "kNN_classifier_balanced = KNeighborsClassifier(n_neighbors=3)\n",
        "kNN_classifier_balanced.fit(X_train, Y_train)\n",
        "kNN_classifier_balanced.get_params()"
      ],
      "metadata": {
        "colab": {
          "base_uri": "https://localhost:8080/"
        },
        "outputId": "b2325e28-9d7e-4c2e-d693-4b5be23ee819",
        "id": "zaeOc9Hqc46k"
      },
      "execution_count": 61,
      "outputs": [
        {
          "output_type": "execute_result",
          "data": {
            "text/plain": [
              "{'algorithm': 'auto',\n",
              " 'leaf_size': 30,\n",
              " 'metric': 'minkowski',\n",
              " 'metric_params': None,\n",
              " 'n_jobs': None,\n",
              " 'n_neighbors': 3,\n",
              " 'p': 2,\n",
              " 'weights': 'uniform'}"
            ]
          },
          "metadata": {},
          "execution_count": 61
        }
      ]
    },
    {
      "cell_type": "code",
      "source": [
        "y_pred_kNN_balanced = kNN_classifier_balanced.predict(X_test)\n",
        "y_pred_kNN_train_balanced = kNN_classifier_balanced.predict(X_train)\n",
        "print('Accuracy of the training set: ', accuracy_score(Y_train, y_pred_kNN_train_balanced))\n",
        "print('Accuracy of the testing set: ', accuracy_score(Y_test, y_pred_kNN_balanced))"
      ],
      "metadata": {
        "colab": {
          "base_uri": "https://localhost:8080/"
        },
        "outputId": "27ffb60b-4156-4c3b-bf7e-bc35028b0fe6",
        "id": "jYcUoOXxc46k"
      },
      "execution_count": 62,
      "outputs": [
        {
          "output_type": "stream",
          "name": "stdout",
          "text": [
            "Accuracy of the training set:  0.8517179023508138\n",
            "Accuracy of the testing set:  0.6666666666666666\n"
          ]
        }
      ]
    },
    {
      "cell_type": "code",
      "source": [
        "print(classification_report(Y_test, y_pred_kNN_balanced))\n",
        "ConfusionMatrixDisplay.from_predictions(Y_test, y_pred_kNN_balanced, colorbar=False)"
      ],
      "metadata": {
        "colab": {
          "base_uri": "https://localhost:8080/",
          "height": 459
        },
        "outputId": "d0f5784c-adb7-494b-bb17-59e193937c51",
        "id": "dW6MEOSoc46l"
      },
      "execution_count": 63,
      "outputs": [
        {
          "output_type": "stream",
          "name": "stdout",
          "text": [
            "              precision    recall  f1-score   support\n",
            "\n",
            "           0       0.62      0.75      0.68       113\n",
            "           1       0.72      0.59      0.65       124\n",
            "\n",
            "    accuracy                           0.67       237\n",
            "   macro avg       0.67      0.67      0.67       237\n",
            "weighted avg       0.68      0.67      0.67       237\n",
            "\n"
          ]
        },
        {
          "output_type": "execute_result",
          "data": {
            "text/plain": [
              "<sklearn.metrics._plot.confusion_matrix.ConfusionMatrixDisplay at 0x7f4cb9283160>"
            ]
          },
          "metadata": {},
          "execution_count": 63
        },
        {
          "output_type": "display_data",
          "data": {
            "text/plain": [
              "<Figure size 432x288 with 1 Axes>"
            ],
            "image/png": "[encoded data removed]"
          },
          "metadata": {}
        }
      ]
    },
    {
      "cell_type": "markdown",
      "source": [
        "### Naive Bayes"
      ],
      "metadata": {
        "id": "t6OskHsEc46h"
      }
    },
    {
      "cell_type": "code",
      "source": [
        "from sklearn.naive_bayes import GaussianNB\n",
        "NB_classifier_balanced = GaussianNB()\n",
        "NB_classifier_balanced.fit(X_train, Y_train)\n",
        "NB_classifier_balanced.get_params()"
      ],
      "metadata": {
        "colab": {
          "base_uri": "https://localhost:8080/"
        },
        "outputId": "952da7ca-1d99-45b9-9ec3-def67d58984d",
        "id": "jGUDVQHsc46h"
      },
      "execution_count": 64,
      "outputs": [
        {
          "output_type": "execute_result",
          "data": {
            "text/plain": [
              "{'priors': None, 'var_smoothing': 1e-09}"
            ]
          },
          "metadata": {},
          "execution_count": 64
        }
      ]
    },
    {
      "cell_type": "code",
      "source": [
        "y_pred_NB_balanced = NB_classifier_balanced.predict(X_test)\n",
        "y_pred_NB_train_balanced = NB_classifier_balanced.predict(X_train)\n",
        "print('Accuracy of the training set: ', accuracy_score(Y_train, y_pred_NB_train_balanced))\n",
        "print('Accuracy of the testing set: ', accuracy_score(Y_test, y_pred_NB_balanced))"
      ],
      "metadata": {
        "colab": {
          "base_uri": "https://localhost:8080/"
        },
        "id": "sfDTpz2Ac46i",
        "outputId": "ac3366c0-3f29-4d63-c513-176dd1df0a76"
      },
      "execution_count": 65,
      "outputs": [
        {
          "output_type": "stream",
          "name": "stdout",
          "text": [
            "Accuracy of the training set:  0.6419529837251357\n",
            "Accuracy of the testing set:  0.5949367088607594\n"
          ]
        }
      ]
    },
    {
      "cell_type": "code",
      "source": [
        "print(classification_report(Y_test, y_pred_NB_balanced))\n",
        "ConfusionMatrixDisplay.from_predictions(Y_test, y_pred_NB_balanced, colorbar=False)"
      ],
      "metadata": {
        "colab": {
          "base_uri": "https://localhost:8080/",
          "height": 459
        },
        "outputId": "493ff2ac-2139-435f-c9fc-3a044be3fcfa",
        "id": "51Kj5-Phc46j"
      },
      "execution_count": 66,
      "outputs": [
        {
          "output_type": "stream",
          "name": "stdout",
          "text": [
            "              precision    recall  f1-score   support\n",
            "\n",
            "           0       0.54      0.94      0.69       113\n",
            "           1       0.83      0.28      0.42       124\n",
            "\n",
            "    accuracy                           0.59       237\n",
            "   macro avg       0.69      0.61      0.55       237\n",
            "weighted avg       0.70      0.59      0.55       237\n",
            "\n"
          ]
        },
        {
          "output_type": "execute_result",
          "data": {
            "text/plain": [
              "<sklearn.metrics._plot.confusion_matrix.ConfusionMatrixDisplay at 0x7f4cb96181f0>"
            ]
          },
          "metadata": {},
          "execution_count": 66
        },
        {
          "output_type": "display_data",
          "data": {
            "text/plain": [
              "<Figure size 432x288 with 1 Axes>"
            ],
            "image/png": "[encoded data removed]"
          },
          "metadata": {}
        }
      ]
    },
    {
      "cell_type": "markdown",
      "source": [
        "### Support Vector Machine"
      ],
      "metadata": {
        "id": "SgBmpmVrc46b"
      }
    },
    {
      "cell_type": "code",
      "source": [
        "SVM_classifier_balanced = SVC(random_state = 42)\n",
        "SVM_classifier_balanced.fit(X_train, Y_train)\n",
        "y_pred_SVM_balanced = SVM_classifier_balanced.predict(X_test)"
      ],
      "metadata": {
        "id": "OwDfbTmNc46c"
      },
      "execution_count": 67,
      "outputs": []
    },
    {
      "cell_type": "code",
      "source": [
        "y_pred_SVM_train_balanced = SVM_classifier_balanced.predict(X_train)\n",
        "print('Accuracy of the training set: ', accuracy_score(Y_train, y_pred_SVM_train_balanced))\n",
        "print('Accuracy of the testing set: ', accuracy_score(Y_test, y_pred_SVM_balanced))"
      ],
      "metadata": {
        "colab": {
          "base_uri": "https://localhost:8080/"
        },
        "outputId": "6c8f5cbf-0f2a-441a-f291-5882079a155c",
        "id": "_sEAAaXbc46c"
      },
      "execution_count": 68,
      "outputs": [
        {
          "output_type": "stream",
          "name": "stdout",
          "text": [
            "Accuracy of the training set:  0.6473779385171791\n",
            "Accuracy of the testing set:  0.620253164556962\n"
          ]
        }
      ]
    },
    {
      "cell_type": "code",
      "source": [
        "print(classification_report(Y_test, y_pred_SVM_balanced))"
      ],
      "metadata": {
        "colab": {
          "base_uri": "https://localhost:8080/"
        },
        "outputId": "23e012ee-d82b-48ca-cb67-28d56ab29622",
        "id": "0S-BjiC7c46d"
      },
      "execution_count": 69,
      "outputs": [
        {
          "output_type": "stream",
          "name": "stdout",
          "text": [
            "              precision    recall  f1-score   support\n",
            "\n",
            "           0       0.57      0.81      0.67       113\n",
            "           1       0.72      0.44      0.55       124\n",
            "\n",
            "    accuracy                           0.62       237\n",
            "   macro avg       0.65      0.63      0.61       237\n",
            "weighted avg       0.65      0.62      0.61       237\n",
            "\n"
          ]
        }
      ]
    },
    {
      "cell_type": "code",
      "source": [
        "ConfusionMatrixDisplay.from_predictions(Y_test, y_pred_SVM_balanced, colorbar=False)"
      ],
      "metadata": {
        "colab": {
          "base_uri": "https://localhost:8080/",
          "height": 302
        },
        "outputId": "35574382-c5d8-41da-e3f9-2a42a80026e6",
        "id": "oN9TtjYSc46d"
      },
      "execution_count": 70,
      "outputs": [
        {
          "output_type": "execute_result",
          "data": {
            "text/plain": [
              "<sklearn.metrics._plot.confusion_matrix.ConfusionMatrixDisplay at 0x7f4cb9d71cd0>"
            ]
          },
          "metadata": {},
          "execution_count": 70
        },
        {
          "output_type": "display_data",
          "data": {
            "text/plain": [
              "<Figure size 432x288 with 1 Axes>"
            ],
            "image/png": "[encoded data removed]"
          },
          "metadata": {}
        }
      ]
    },
    {
      "cell_type": "markdown",
      "source": [
        "### Logistic Regression"
      ],
      "metadata": {
        "id": "E7ud_DzIc46e"
      }
    },
    {
      "cell_type": "code",
      "source": [
        "from sklearn.linear_model import LogisticRegression\n",
        "LR_classifier_balanced = LogisticRegression(random_state = 42)\n",
        "LR_classifier_balanced.fit(X_train, Y_train)\n",
        "LR_classifier_balanced.get_params()"
      ],
      "metadata": {
        "colab": {
          "base_uri": "https://localhost:8080/"
        },
        "outputId": "4a1dd744-bfa3-4764-b366-3978df07d516",
        "id": "BGKaHyWFc46f"
      },
      "execution_count": 71,
      "outputs": [
        {
          "output_type": "execute_result",
          "data": {
            "text/plain": [
              "{'C': 1.0,\n",
              " 'class_weight': None,\n",
              " 'dual': False,\n",
              " 'fit_intercept': True,\n",
              " 'intercept_scaling': 1,\n",
              " 'l1_ratio': None,\n",
              " 'max_iter': 100,\n",
              " 'multi_class': 'auto',\n",
              " 'n_jobs': None,\n",
              " 'penalty': 'l2',\n",
              " 'random_state': 42,\n",
              " 'solver': 'lbfgs',\n",
              " 'tol': 0.0001,\n",
              " 'verbose': 0,\n",
              " 'warm_start': False}"
            ]
          },
          "metadata": {},
          "execution_count": 71
        }
      ]
    },
    {
      "cell_type": "code",
      "source": [
        "y_pred_LR_balanced = LR_classifier_balanced.predict(X_test)\n",
        "y_pred_LR_train_balanced = LR_classifier_balanced.predict(X_train)\n",
        "print('Accuracy of the training set: ', accuracy_score(Y_train, y_pred_LR_train_balanced))\n",
        "print('Accuracy of the testing set: ', accuracy_score(Y_test, y_pred_LR_balanced))"
      ],
      "metadata": {
        "colab": {
          "base_uri": "https://localhost:8080/"
        },
        "id": "7ct9d-zwc46f",
        "outputId": "2e07f287-1d6c-4fd2-8387-866a3e59adc1"
      },
      "execution_count": 72,
      "outputs": [
        {
          "output_type": "stream",
          "name": "stdout",
          "text": [
            "Accuracy of the training set:  0.6871609403254972\n",
            "Accuracy of the testing set:  0.679324894514768\n"
          ]
        }
      ]
    },
    {
      "cell_type": "code",
      "source": [
        "print(classification_report(Y_test, y_pred_LR_balanced))"
      ],
      "metadata": {
        "colab": {
          "base_uri": "https://localhost:8080/"
        },
        "outputId": "110cfa1a-cf34-4462-94b5-652955ed36b4",
        "id": "CSYBxuQMc46g"
      },
      "execution_count": 73,
      "outputs": [
        {
          "output_type": "stream",
          "name": "stdout",
          "text": [
            "              precision    recall  f1-score   support\n",
            "\n",
            "           0       0.63      0.81      0.71       113\n",
            "           1       0.77      0.56      0.64       124\n",
            "\n",
            "    accuracy                           0.68       237\n",
            "   macro avg       0.70      0.69      0.68       237\n",
            "weighted avg       0.70      0.68      0.67       237\n",
            "\n"
          ]
        }
      ]
    },
    {
      "cell_type": "code",
      "source": [
        "ConfusionMatrixDisplay.from_predictions(Y_test, y_pred_LR_balanced, colorbar=False)"
      ],
      "metadata": {
        "colab": {
          "base_uri": "https://localhost:8080/",
          "height": 302
        },
        "outputId": "8d7d92ff-e252-4fce-8a05-d59f50771d80",
        "id": "FtzmnoM7c46h"
      },
      "execution_count": 74,
      "outputs": [
        {
          "output_type": "execute_result",
          "data": {
            "text/plain": [
              "<sklearn.metrics._plot.confusion_matrix.ConfusionMatrixDisplay at 0x7f4cb96ae460>"
            ]
          },
          "metadata": {},
          "execution_count": 74
        },
        {
          "output_type": "display_data",
          "data": {
            "text/plain": [
              "<Figure size 432x288 with 1 Axes>"
            ],
            "image/png": "[encoded data removed]"
          },
          "metadata": {}
        }
      ]
    },
    {
      "cell_type": "markdown",
      "source": [
        "### Decision Tree Classifier\n",
        "\n",
        "We limit the *max_depth* since this is a small dataset, in order to avoid overfitting."
      ],
      "metadata": {
        "id": "--mAn3adc46l"
      }
    },
    {
      "cell_type": "code",
      "source": [
        "from sklearn.tree import DecisionTreeClassifier\n",
        "DT_classifier_balanced = DecisionTreeClassifier(max_depth = 8, min_samples_split = 7)\n",
        "DT_classifier_balanced.fit(X_train, Y_train)\n",
        "DT_classifier_balanced.get_params()"
      ],
      "metadata": {
        "colab": {
          "base_uri": "https://localhost:8080/"
        },
        "outputId": "c736b5c4-be5a-4b37-e96f-4e635da0c2d9",
        "id": "aLN3fel_c46m"
      },
      "execution_count": 75,
      "outputs": [
        {
          "output_type": "execute_result",
          "data": {
            "text/plain": [
              "{'ccp_alpha': 0.0,\n",
              " 'class_weight': None,\n",
              " 'criterion': 'gini',\n",
              " 'max_depth': 8,\n",
              " 'max_features': None,\n",
              " 'max_leaf_nodes': None,\n",
              " 'min_impurity_decrease': 0.0,\n",
              " 'min_samples_leaf': 1,\n",
              " 'min_samples_split': 7,\n",
              " 'min_weight_fraction_leaf': 0.0,\n",
              " 'random_state': None,\n",
              " 'splitter': 'best'}"
            ]
          },
          "metadata": {},
          "execution_count": 75
        }
      ]
    },
    {
      "cell_type": "code",
      "source": [
        "y_pred_DT_balanced = DT_classifier_balanced.predict(X_test)\n",
        "y_pred_DT_train_balanced = DT_classifier_balanced.predict(X_train)\n",
        "print('Accuracy of the training set: ', accuracy_score(Y_train, y_pred_DT_train_balanced))\n",
        "print('Accuracy of the testing set: ', accuracy_score(Y_test, y_pred_DT_balanced))"
      ],
      "metadata": {
        "colab": {
          "base_uri": "https://localhost:8080/"
        },
        "outputId": "b404f0d8-17c1-47fd-fcad-5ba87b7028fd",
        "id": "PQNVHiJic46m"
      },
      "execution_count": 76,
      "outputs": [
        {
          "output_type": "stream",
          "name": "stdout",
          "text": [
            "Accuracy of the training set:  0.8716094032549728\n",
            "Accuracy of the testing set:  0.70042194092827\n"
          ]
        }
      ]
    },
    {
      "cell_type": "code",
      "source": [
        "print(classification_report(Y_test, y_pred_DT_balanced))\n",
        "ConfusionMatrixDisplay.from_predictions(Y_test, y_pred_DT_balanced, colorbar=False)"
      ],
      "metadata": {
        "colab": {
          "base_uri": "https://localhost:8080/",
          "height": 459
        },
        "outputId": "d7dca18a-8b7f-4bbd-f012-c0bda03f88fe",
        "id": "EnzduOhEc46o"
      },
      "execution_count": 77,
      "outputs": [
        {
          "output_type": "stream",
          "name": "stdout",
          "text": [
            "              precision    recall  f1-score   support\n",
            "\n",
            "           0       0.65      0.82      0.72       113\n",
            "           1       0.78      0.59      0.67       124\n",
            "\n",
            "    accuracy                           0.70       237\n",
            "   macro avg       0.72      0.71      0.70       237\n",
            "weighted avg       0.72      0.70      0.70       237\n",
            "\n"
          ]
        },
        {
          "output_type": "execute_result",
          "data": {
            "text/plain": [
              "<sklearn.metrics._plot.confusion_matrix.ConfusionMatrixDisplay at 0x7f4cb97984f0>"
            ]
          },
          "metadata": {},
          "execution_count": 77
        },
        {
          "output_type": "display_data",
          "data": {
            "text/plain": [
              "<Figure size 432x288 with 1 Axes>"
            ],
            "image/png": "[encoded data removed]"
          },
          "metadata": {}
        }
      ]
    },
    {
      "cell_type": "markdown",
      "source": [
        "### Random Forest Classifier\n",
        "\n",
        "We limit the max_depth since this is a small dataset, in order to control overfitting - we still need to fine-tune the hyperparameters in order to prevent overfitting."
      ],
      "metadata": {
        "id": "EMTxmnG6c46o"
      }
    },
    {
      "cell_type": "code",
      "source": [
        "from sklearn.ensemble import RandomForestClassifier\n",
        "RF_classifier_balanced = RandomForestClassifier(n_estimators = 50, max_depth = 8)\n",
        "RF_classifier_balanced.fit(X_train, Y_train)\n",
        "RF_classifier_balanced.get_params()"
      ],
      "metadata": {
        "colab": {
          "base_uri": "https://localhost:8080/"
        },
        "outputId": "65141671-9c86-4309-dba5-b3c1bc819f87",
        "id": "6FyBRL7zc46p"
      },
      "execution_count": 78,
      "outputs": [
        {
          "output_type": "execute_result",
          "data": {
            "text/plain": [
              "{'bootstrap': True,\n",
              " 'ccp_alpha': 0.0,\n",
              " 'class_weight': None,\n",
              " 'criterion': 'gini',\n",
              " 'max_depth': 8,\n",
              " 'max_features': 'auto',\n",
              " 'max_leaf_nodes': None,\n",
              " 'max_samples': None,\n",
              " 'min_impurity_decrease': 0.0,\n",
              " 'min_samples_leaf': 1,\n",
              " 'min_samples_split': 2,\n",
              " 'min_weight_fraction_leaf': 0.0,\n",
              " 'n_estimators': 50,\n",
              " 'n_jobs': None,\n",
              " 'oob_score': False,\n",
              " 'random_state': None,\n",
              " 'verbose': 0,\n",
              " 'warm_start': False}"
            ]
          },
          "metadata": {},
          "execution_count": 78
        }
      ]
    },
    {
      "cell_type": "code",
      "source": [
        "y_pred_RF_balanced = RF_classifier_balanced.predict(X_test)\n",
        "y_pred_RF_train_balanced = RF_classifier_balanced.predict(X_train)\n",
        "print('Accuracy of the training set: ', accuracy_score(Y_train, y_pred_RF_train_balanced))\n",
        "print('Accuracy of the testing set: ', accuracy_score(Y_test, y_pred_RF_balanced))"
      ],
      "metadata": {
        "colab": {
          "base_uri": "https://localhost:8080/"
        },
        "outputId": "38e8dda4-3a59-433c-8e52-3e52dc5ec69d",
        "id": "f5OG2FGKc46p"
      },
      "execution_count": 79,
      "outputs": [
        {
          "output_type": "stream",
          "name": "stdout",
          "text": [
            "Accuracy of the training set:  0.9132007233273056\n",
            "Accuracy of the testing set:  0.7088607594936709\n"
          ]
        }
      ]
    },
    {
      "cell_type": "code",
      "source": [
        "print(classification_report(Y_test, y_pred_RF_balanced))\n",
        "ConfusionMatrixDisplay.from_predictions(Y_test, y_pred_RF_balanced, colorbar=False)"
      ],
      "metadata": {
        "colab": {
          "base_uri": "https://localhost:8080/",
          "height": 459
        },
        "outputId": "5cd981f2-8649-40f8-ee03-208c9442e5ed",
        "id": "1e74-w05c46q"
      },
      "execution_count": 80,
      "outputs": [
        {
          "output_type": "stream",
          "name": "stdout",
          "text": [
            "              precision    recall  f1-score   support\n",
            "\n",
            "           0       0.66      0.80      0.72       113\n",
            "           1       0.77      0.63      0.69       124\n",
            "\n",
            "    accuracy                           0.71       237\n",
            "   macro avg       0.72      0.71      0.71       237\n",
            "weighted avg       0.72      0.71      0.71       237\n",
            "\n"
          ]
        },
        {
          "output_type": "execute_result",
          "data": {
            "text/plain": [
              "<sklearn.metrics._plot.confusion_matrix.ConfusionMatrixDisplay at 0x7f4cbe21a850>"
            ]
          },
          "metadata": {},
          "execution_count": 80
        },
        {
          "output_type": "display_data",
          "data": {
            "text/plain": [
              "<Figure size 432x288 with 1 Axes>"
            ],
            "image/png": "[encoded data removed]"
          },
          "metadata": {}
        }
      ]
    },
    {
      "cell_type": "markdown",
      "source": [
        "### AdaBoost Classifier"
      ],
      "metadata": {
        "id": "51jBkLF9c46q"
      }
    },
    {
      "cell_type": "code",
      "source": [
        "from sklearn.ensemble import AdaBoostClassifier\n",
        "adaboost_balanced = AdaBoostClassifier(learning_rate=0.05, base_estimator = RandomForestClassifier(max_depth = 8))\n",
        "adaboost_balanced.fit(X_train, Y_train)\n",
        "adaboost_balanced.get_params()"
      ],
      "metadata": {
        "colab": {
          "base_uri": "https://localhost:8080/"
        },
        "outputId": "975826b5-7e7e-46c1-c267-a148a90ac6c9",
        "id": "L0Z18TtHc46r"
      },
      "execution_count": 81,
      "outputs": [
        {
          "output_type": "execute_result",
          "data": {
            "text/plain": [
              "{'algorithm': 'SAMME.R',\n",
              " 'base_estimator__bootstrap': True,\n",
              " 'base_estimator__ccp_alpha': 0.0,\n",
              " 'base_estimator__class_weight': None,\n",
              " 'base_estimator__criterion': 'gini',\n",
              " 'base_estimator__max_depth': 8,\n",
              " 'base_estimator__max_features': 'auto',\n",
              " 'base_estimator__max_leaf_nodes': None,\n",
              " 'base_estimator__max_samples': None,\n",
              " 'base_estimator__min_impurity_decrease': 0.0,\n",
              " 'base_estimator__min_samples_leaf': 1,\n",
              " 'base_estimator__min_samples_split': 2,\n",
              " 'base_estimator__min_weight_fraction_leaf': 0.0,\n",
              " 'base_estimator__n_estimators': 100,\n",
              " 'base_estimator__n_jobs': None,\n",
              " 'base_estimator__oob_score': False,\n",
              " 'base_estimator__random_state': None,\n",
              " 'base_estimator__verbose': 0,\n",
              " 'base_estimator__warm_start': False,\n",
              " 'base_estimator': RandomForestClassifier(max_depth=8),\n",
              " 'learning_rate': 0.05,\n",
              " 'n_estimators': 50,\n",
              " 'random_state': None}"
            ]
          },
          "metadata": {},
          "execution_count": 81
        }
      ]
    },
    {
      "cell_type": "code",
      "source": [
        "y_pred_Adaboost_balanced = adaboost_balanced.predict(X_test)\n",
        "print('Accuracy of the training set: ', adaboost_balanced.score(X_train, Y_train))\n",
        "print('Accuracy of the testing set: ', accuracy_score(Y_test, y_pred_Adaboost_balanced))"
      ],
      "metadata": {
        "colab": {
          "base_uri": "https://localhost:8080/"
        },
        "outputId": "190aa3f3-b1f3-455d-e815-b39b20e3852f",
        "id": "UYH21TgMc46r"
      },
      "execution_count": 82,
      "outputs": [
        {
          "output_type": "stream",
          "name": "stdout",
          "text": [
            "Accuracy of the training set:  0.9891500904159132\n",
            "Accuracy of the testing set:  0.6962025316455697\n"
          ]
        }
      ]
    },
    {
      "cell_type": "code",
      "source": [
        "print(classification_report(Y_test, y_pred_Adaboost_balanced))\n",
        "ConfusionMatrixDisplay.from_predictions(Y_test, y_pred_Adaboost_balanced, colorbar=False)"
      ],
      "metadata": {
        "colab": {
          "base_uri": "https://localhost:8080/",
          "height": 459
        },
        "outputId": "f6a8ceda-dd27-43d9-fa5c-fb06b864e935",
        "id": "DCCOXhZMc46s"
      },
      "execution_count": 83,
      "outputs": [
        {
          "output_type": "stream",
          "name": "stdout",
          "text": [
            "              precision    recall  f1-score   support\n",
            "\n",
            "           0       0.66      0.74      0.70       113\n",
            "           1       0.74      0.65      0.69       124\n",
            "\n",
            "    accuracy                           0.70       237\n",
            "   macro avg       0.70      0.70      0.70       237\n",
            "weighted avg       0.70      0.70      0.70       237\n",
            "\n"
          ]
        },
        {
          "output_type": "execute_result",
          "data": {
            "text/plain": [
              "<sklearn.metrics._plot.confusion_matrix.ConfusionMatrixDisplay at 0x7f4cb970d2e0>"
            ]
          },
          "metadata": {},
          "execution_count": 83
        },
        {
          "output_type": "display_data",
          "data": {
            "text/plain": [
              "<Figure size 432x288 with 1 Axes>"
            ],
            "image/png": "[encoded data removed]"
          },
          "metadata": {}
        }
      ]
    },
    {
      "cell_type": "markdown",
      "source": [
        "### XGBoost Classifier\n",
        "\n",
        "We limit the n_estimators and the learning_rate."
      ],
      "metadata": {
        "id": "qlVPSEM-c46t"
      }
    },
    {
      "cell_type": "code",
      "source": [
        "from xgboost import XGBClassifier\n",
        "xgb_classifier_balanced = XGBClassifier(random_state = 42)\n",
        "xgb_classifier_balanced.fit(X_train, Y_train)\n",
        "xgb_classifier_balanced.get_params()"
      ],
      "metadata": {
        "colab": {
          "base_uri": "https://localhost:8080/"
        },
        "outputId": "8dd13854-7762-4ec2-ac76-580feb6b7b8e",
        "id": "hQwn1aZpc46t"
      },
      "execution_count": 84,
      "outputs": [
        {
          "output_type": "execute_result",
          "data": {
            "text/plain": [
              "{'base_score': 0.5,\n",
              " 'booster': 'gbtree',\n",
              " 'colsample_bylevel': 1,\n",
              " 'colsample_bynode': 1,\n",
              " 'colsample_bytree': 1,\n",
              " 'gamma': 0,\n",
              " 'learning_rate': 0.1,\n",
              " 'max_delta_step': 0,\n",
              " 'max_depth': 3,\n",
              " 'min_child_weight': 1,\n",
              " 'missing': None,\n",
              " 'n_estimators': 100,\n",
              " 'n_jobs': 1,\n",
              " 'nthread': None,\n",
              " 'objective': 'binary:logistic',\n",
              " 'random_state': 42,\n",
              " 'reg_alpha': 0,\n",
              " 'reg_lambda': 1,\n",
              " 'scale_pos_weight': 1,\n",
              " 'seed': None,\n",
              " 'silent': None,\n",
              " 'subsample': 1,\n",
              " 'verbosity': 1}"
            ]
          },
          "metadata": {},
          "execution_count": 84
        }
      ]
    },
    {
      "cell_type": "code",
      "source": [
        "y_pred_XGB_balanced = xgb_classifier_balanced.predict(X_test)\n",
        "print('Accuracy of the training set: ', xgb_classifier_balanced.score(X_train, Y_train))\n",
        "print('Accuracy of the testing set: ', accuracy_score(Y_test, y_pred_XGB_balanced))"
      ],
      "metadata": {
        "colab": {
          "base_uri": "https://localhost:8080/"
        },
        "outputId": "0f41235a-90b5-4a2c-f07c-4af25c6802dd",
        "id": "kjket3zRc46t"
      },
      "execution_count": 85,
      "outputs": [
        {
          "output_type": "stream",
          "name": "stdout",
          "text": [
            "Accuracy of the training set:  0.8933092224231465\n",
            "Accuracy of the testing set:  0.6624472573839663\n"
          ]
        }
      ]
    },
    {
      "cell_type": "code",
      "source": [
        "print(classification_report(Y_test, y_pred_XGB_balanced))\n",
        "ConfusionMatrixDisplay.from_predictions(Y_test, y_pred_XGB_balanced, colorbar=False)"
      ],
      "metadata": {
        "colab": {
          "base_uri": "https://localhost:8080/",
          "height": 459
        },
        "outputId": "42f2f4a8-c52f-4119-a21e-6a642b3f20cb",
        "id": "BJ8OkQORc46u"
      },
      "execution_count": 86,
      "outputs": [
        {
          "output_type": "stream",
          "name": "stdout",
          "text": [
            "              precision    recall  f1-score   support\n",
            "\n",
            "           0       0.63      0.69      0.66       113\n",
            "           1       0.69      0.64      0.66       124\n",
            "\n",
            "    accuracy                           0.66       237\n",
            "   macro avg       0.66      0.66      0.66       237\n",
            "weighted avg       0.66      0.66      0.66       237\n",
            "\n"
          ]
        },
        {
          "output_type": "execute_result",
          "data": {
            "text/plain": [
              "<sklearn.metrics._plot.confusion_matrix.ConfusionMatrixDisplay at 0x7f4cb8eace50>"
            ]
          },
          "metadata": {},
          "execution_count": 86
        },
        {
          "output_type": "display_data",
          "data": {
            "text/plain": [
              "<Figure size 432x288 with 1 Axes>"
            ],
            "image/png": "[encoded data removed]"
          },
          "metadata": {}
        }
      ]
    },
    {
      "cell_type": "markdown",
      "source": [
        "### Voting Classifier"
      ],
      "metadata": {
        "id": "8itM3oBxW4fp"
      }
    },
    {
      "cell_type": "code",
      "source": [
        "from sklearn.ensemble import VotingClassifier\n",
        "\n",
        "VC = VotingClassifier(estimators = [('kNN', kNN_classifier_balanced), ('NB', NB_classifier_balanced), ('SVM', SVM_classifier_balanced),\n",
        "                                    ('LR', LR_classifier_balanced), ('DT', DT_classifier_balanced), ('RF', RF_classifier_balanced), \n",
        "                                    ('Adaboost', adaboost_balanced), ('XGB', xgb_classifier_balanced)], voting = 'hard')\n",
        "VC.fit(X_train, Y_train)\n",
        "VC.get_params()"
      ],
      "metadata": {
        "colab": {
          "base_uri": "https://localhost:8080/"
        },
        "id": "F9Hg7i_IW44H",
        "outputId": "062e49ff-d064-47a8-ffc7-e2e7ab07bf99"
      },
      "execution_count": 87,
      "outputs": [
        {
          "output_type": "execute_result",
          "data": {
            "text/plain": [
              "{'estimators': [('kNN', KNeighborsClassifier(n_neighbors=3)),\n",
              "  ('NB', GaussianNB()),\n",
              "  ('SVM', SVC(random_state=42)),\n",
              "  ('LR', LogisticRegression(random_state=42)),\n",
              "  ('DT', DecisionTreeClassifier(max_depth=8, min_samples_split=7)),\n",
              "  ('RF', RandomForestClassifier(max_depth=8, n_estimators=50)),\n",
              "  ('Adaboost',\n",
              "   AdaBoostClassifier(base_estimator=RandomForestClassifier(max_depth=8),\n",
              "                      learning_rate=0.05)),\n",
              "  ('XGB', XGBClassifier(random_state=42))],\n",
              " 'flatten_transform': True,\n",
              " 'n_jobs': None,\n",
              " 'verbose': False,\n",
              " 'voting': 'hard',\n",
              " 'weights': None,\n",
              " 'kNN': KNeighborsClassifier(n_neighbors=3),\n",
              " 'NB': GaussianNB(),\n",
              " 'SVM': SVC(random_state=42),\n",
              " 'LR': LogisticRegression(random_state=42),\n",
              " 'DT': DecisionTreeClassifier(max_depth=8, min_samples_split=7),\n",
              " 'RF': RandomForestClassifier(max_depth=8, n_estimators=50),\n",
              " 'Adaboost': AdaBoostClassifier(base_estimator=RandomForestClassifier(max_depth=8),\n",
              "                    learning_rate=0.05),\n",
              " 'XGB': XGBClassifier(random_state=42),\n",
              " 'kNN__algorithm': 'auto',\n",
              " 'kNN__leaf_size': 30,\n",
              " 'kNN__metric': 'minkowski',\n",
              " 'kNN__metric_params': None,\n",
              " 'kNN__n_jobs': None,\n",
              " 'kNN__n_neighbors': 3,\n",
              " 'kNN__p': 2,\n",
              " 'kNN__weights': 'uniform',\n",
              " 'NB__priors': None,\n",
              " 'NB__var_smoothing': 1e-09,\n",
              " 'SVM__C': 1.0,\n",
              " 'SVM__break_ties': False,\n",
              " 'SVM__cache_size': 200,\n",
              " 'SVM__class_weight': None,\n",
              " 'SVM__coef0': 0.0,\n",
              " 'SVM__decision_function_shape': 'ovr',\n",
              " 'SVM__degree': 3,\n",
              " 'SVM__gamma': 'scale',\n",
              " 'SVM__kernel': 'rbf',\n",
              " 'SVM__max_iter': -1,\n",
              " 'SVM__probability': False,\n",
              " 'SVM__random_state': 42,\n",
              " 'SVM__shrinking': True,\n",
              " 'SVM__tol': 0.001,\n",
              " 'SVM__verbose': False,\n",
              " 'LR__C': 1.0,\n",
              " 'LR__class_weight': None,\n",
              " 'LR__dual': False,\n",
              " 'LR__fit_intercept': True,\n",
              " 'LR__intercept_scaling': 1,\n",
              " 'LR__l1_ratio': None,\n",
              " 'LR__max_iter': 100,\n",
              " 'LR__multi_class': 'auto',\n",
              " 'LR__n_jobs': None,\n",
              " 'LR__penalty': 'l2',\n",
              " 'LR__random_state': 42,\n",
              " 'LR__solver': 'lbfgs',\n",
              " 'LR__tol': 0.0001,\n",
              " 'LR__verbose': 0,\n",
              " 'LR__warm_start': False,\n",
              " 'DT__ccp_alpha': 0.0,\n",
              " 'DT__class_weight': None,\n",
              " 'DT__criterion': 'gini',\n",
              " 'DT__max_depth': 8,\n",
              " 'DT__max_features': None,\n",
              " 'DT__max_leaf_nodes': None,\n",
              " 'DT__min_impurity_decrease': 0.0,\n",
              " 'DT__min_samples_leaf': 1,\n",
              " 'DT__min_samples_split': 7,\n",
              " 'DT__min_weight_fraction_leaf': 0.0,\n",
              " 'DT__random_state': None,\n",
              " 'DT__splitter': 'best',\n",
              " 'RF__bootstrap': True,\n",
              " 'RF__ccp_alpha': 0.0,\n",
              " 'RF__class_weight': None,\n",
              " 'RF__criterion': 'gini',\n",
              " 'RF__max_depth': 8,\n",
              " 'RF__max_features': 'auto',\n",
              " 'RF__max_leaf_nodes': None,\n",
              " 'RF__max_samples': None,\n",
              " 'RF__min_impurity_decrease': 0.0,\n",
              " 'RF__min_samples_leaf': 1,\n",
              " 'RF__min_samples_split': 2,\n",
              " 'RF__min_weight_fraction_leaf': 0.0,\n",
              " 'RF__n_estimators': 50,\n",
              " 'RF__n_jobs': None,\n",
              " 'RF__oob_score': False,\n",
              " 'RF__random_state': None,\n",
              " 'RF__verbose': 0,\n",
              " 'RF__warm_start': False,\n",
              " 'Adaboost__algorithm': 'SAMME.R',\n",
              " 'Adaboost__base_estimator__bootstrap': True,\n",
              " 'Adaboost__base_estimator__ccp_alpha': 0.0,\n",
              " 'Adaboost__base_estimator__class_weight': None,\n",
              " 'Adaboost__base_estimator__criterion': 'gini',\n",
              " 'Adaboost__base_estimator__max_depth': 8,\n",
              " 'Adaboost__base_estimator__max_features': 'auto',\n",
              " 'Adaboost__base_estimator__max_leaf_nodes': None,\n",
              " 'Adaboost__base_estimator__max_samples': None,\n",
              " 'Adaboost__base_estimator__min_impurity_decrease': 0.0,\n",
              " 'Adaboost__base_estimator__min_samples_leaf': 1,\n",
              " 'Adaboost__base_estimator__min_samples_split': 2,\n",
              " 'Adaboost__base_estimator__min_weight_fraction_leaf': 0.0,\n",
              " 'Adaboost__base_estimator__n_estimators': 100,\n",
              " 'Adaboost__base_estimator__n_jobs': None,\n",
              " 'Adaboost__base_estimator__oob_score': False,\n",
              " 'Adaboost__base_estimator__random_state': None,\n",
              " 'Adaboost__base_estimator__verbose': 0,\n",
              " 'Adaboost__base_estimator__warm_start': False,\n",
              " 'Adaboost__base_estimator': RandomForestClassifier(max_depth=8),\n",
              " 'Adaboost__learning_rate': 0.05,\n",
              " 'Adaboost__n_estimators': 50,\n",
              " 'Adaboost__random_state': None,\n",
              " 'XGB__base_score': 0.5,\n",
              " 'XGB__booster': 'gbtree',\n",
              " 'XGB__colsample_bylevel': 1,\n",
              " 'XGB__colsample_bynode': 1,\n",
              " 'XGB__colsample_bytree': 1,\n",
              " 'XGB__gamma': 0,\n",
              " 'XGB__learning_rate': 0.1,\n",
              " 'XGB__max_delta_step': 0,\n",
              " 'XGB__max_depth': 3,\n",
              " 'XGB__min_child_weight': 1,\n",
              " 'XGB__missing': None,\n",
              " 'XGB__n_estimators': 100,\n",
              " 'XGB__n_jobs': 1,\n",
              " 'XGB__nthread': None,\n",
              " 'XGB__objective': 'binary:logistic',\n",
              " 'XGB__random_state': 42,\n",
              " 'XGB__reg_alpha': 0,\n",
              " 'XGB__reg_lambda': 1,\n",
              " 'XGB__scale_pos_weight': 1,\n",
              " 'XGB__seed': None,\n",
              " 'XGB__silent': None,\n",
              " 'XGB__subsample': 1,\n",
              " 'XGB__verbosity': 1}"
            ]
          },
          "metadata": {},
          "execution_count": 87
        }
      ]
    },
    {
      "cell_type": "code",
      "source": [
        "y_pred_VC_balanced = VC.predict(X_test)\n",
        "print('Accuracy of the training set: ', VC.score(X_train, Y_train))\n",
        "print('Accuracy of the testing set: ', accuracy_score(Y_test, y_pred_VC_balanced))"
      ],
      "metadata": {
        "colab": {
          "base_uri": "https://localhost:8080/"
        },
        "id": "-L-SwXKsYivM",
        "outputId": "e486d754-c117-436c-e4d2-639f933e6c3d"
      },
      "execution_count": 88,
      "outputs": [
        {
          "output_type": "stream",
          "name": "stdout",
          "text": [
            "Accuracy of the training set:  0.8462929475587704\n",
            "Accuracy of the testing set:  0.6919831223628692\n"
          ]
        }
      ]
    },
    {
      "cell_type": "code",
      "source": [
        "print(classification_report(Y_test, y_pred_VC_balanced))\n",
        "ConfusionMatrixDisplay.from_predictions(Y_test, y_pred_VC_balanced, colorbar=False)"
      ],
      "metadata": {
        "colab": {
          "base_uri": "https://localhost:8080/",
          "height": 459
        },
        "id": "_JXp4ocoYinl",
        "outputId": "e4d0ab5d-0b36-4ebf-fe6e-e705a3926a97"
      },
      "execution_count": 89,
      "outputs": [
        {
          "output_type": "stream",
          "name": "stdout",
          "text": [
            "              precision    recall  f1-score   support\n",
            "\n",
            "           0       0.62      0.89      0.73       113\n",
            "           1       0.84      0.51      0.63       124\n",
            "\n",
            "    accuracy                           0.69       237\n",
            "   macro avg       0.73      0.70      0.68       237\n",
            "weighted avg       0.74      0.69      0.68       237\n",
            "\n"
          ]
        },
        {
          "output_type": "execute_result",
          "data": {
            "text/plain": [
              "<sklearn.metrics._plot.confusion_matrix.ConfusionMatrixDisplay at 0x7f4cafe46340>"
            ]
          },
          "metadata": {},
          "execution_count": 89
        },
        {
          "output_type": "display_data",
          "data": {
            "text/plain": [
              "<Figure size 432x288 with 1 Axes>"
            ],
            "image/png": "[encoded data removed]"
          },
          "metadata": {}
        }
      ]
    },
    {
      "cell_type": "markdown",
      "source": [
        "### Accuracy"
      ],
      "metadata": {
        "id": "06X14wHfO7fP"
      }
    },
    {
      "cell_type": "code",
      "source": [
        "accuracy_df = pd.DataFrame()\n",
        "accuracy_df['Classifier'] = ['Decision Tree', 'kNN', 'Naive Bayes', 'SVC', 'Logistic Regression', 'Random Forest', 'Adaboost', \n",
        "                             'XGBoost', 'Voting Classifier']\n",
        "accuracy_df['Accuracy'] = [accuracy_score(Y_test, y_pred_DT_balanced), accuracy_score(Y_test, y_pred_kNN_balanced), \n",
        "                           accuracy_score(Y_test, y_pred_NB_balanced), accuracy_score(Y_test, y_pred_SVM_balanced), \n",
        "                           accuracy_score(Y_test, y_pred_LR_balanced), accuracy_score(Y_test, y_pred_RF_balanced),\n",
        "                           accuracy_score(Y_test, y_pred_Adaboost_balanced), accuracy_score(Y_test, y_pred_XGB_balanced), \n",
        "                           accuracy_score(Y_test, y_pred_VC_balanced)]\n",
        "\n",
        "sns.barplot(y = 'Accuracy', x = 'Classifier', data = accuracy_df, order = accuracy_df.sort_values('Accuracy', ascending = False).Classifier)\n",
        "plt.title('Accuracy of the Classifiers')\n",
        "plt.xticks(rotation=90)\n",
        "plt.show()"
      ],
      "metadata": {
        "colab": {
          "base_uri": "https://localhost:8080/",
          "height": 397
        },
        "id": "IydrVDkBFyFs",
        "outputId": "dc5a28d8-503f-4175-ec8c-33ca1ac8d869"
      },
      "execution_count": 90,
      "outputs": [
        {
          "output_type": "display_data",
          "data": {
            "text/plain": [
              "<Figure size 432x288 with 1 Axes>"
            ],
            "image/png": "[encoded data removed]"
          },
          "metadata": {}
        }
      ]
    },
    {
      "cell_type": "markdown",
      "source": [
        "Adaboost Classifier and Random Forest Classifier performs well when the target class is balanced. kNN with an accuracy of about 71% rounds off the top 3. SVC and Naive Bayes are not suitable here, in complete contrast to their performance when the target class was imbalanced."
      ],
      "metadata": {
        "id": "yrf6DF0EQTvb"
      }
    },
    {
      "cell_type": "markdown",
      "source": [
        "### ROC Curve"
      ],
      "metadata": {
        "id": "THmpDqB1Po8P"
      }
    },
    {
      "cell_type": "code",
      "source": [
        "plt.plot([0,1], [0,1], ':')\n",
        "fpr1, tpr1, thresholds = roc_curve(Y_test, y_pred_kNN_balanced)\n",
        "plt.plot(fpr1, tpr1, '--', label='kNN')\n",
        "fpr2, tpr2, thresholds = roc_curve(Y_test, y_pred_NB_balanced)\n",
        "plt.plot(fpr2, tpr2, '--', label='Naive Bayes')\n",
        "fpr3, tpr3, thresholds = roc_curve(Y_test, y_pred_SVM_balanced)\n",
        "plt.plot(fpr3, tpr3, '--', label='SVM Classifier')\n",
        "fpr4, tpr4, thresholds = roc_curve(Y_test, y_pred_LR_balanced)\n",
        "plt.plot(fpr4, tpr4, '--', label='Logistic Regression')\n",
        "fpr5, tpr5, thresholds = roc_curve(Y_test, y_pred_DT_balanced)\n",
        "plt.plot(fpr5, tpr5, '--', label='Decision Tree Classifier')\n",
        "fpr6, tpr6, thresholds = roc_curve(Y_test, y_pred_RF_balanced)\n",
        "plt.plot(fpr6, tpr6, '--', label='Random Forest Classifier')\n",
        "fpr7, tpr7, thresholds = roc_curve(Y_test, y_pred_Adaboost_balanced)\n",
        "plt.plot(fpr7, tpr7, '--', label='Adaboost Classifier')\n",
        "fpr8, tpr8, thresholds = roc_curve(Y_test, y_pred_XGB_balanced)\n",
        "plt.plot(fpr8, tpr8, '--', label='XGBoost Classifier')\n",
        "fpr9, tpr9, thresholds = roc_curve(Y_test, y_pred_VC_balanced)\n",
        "plt.plot(fpr9, tpr9, '--', label='Voting Classifier')\n",
        "plt.xlabel('False Positive Rate')\n",
        "plt.ylabel('True Positive Rate')\n",
        "plt.title('ROC Curve')\n",
        "plt.legend(bbox_to_anchor = (1.0, 0.5), loc = 'center left')\n",
        "plt.show()"
      ],
      "metadata": {
        "colab": {
          "base_uri": "https://localhost:8080/",
          "height": 301
        },
        "id": "bFChtNbqPfCw",
        "outputId": "acd80420-a772-4647-89e1-216aa8affbe6"
      },
      "execution_count": 91,
      "outputs": [
        {
          "output_type": "display_data",
          "data": {
            "text/plain": [
              "<Figure size 432x288 with 1 Axes>"
            ],
            "image/png": "[encoded data removed]"
          },
          "metadata": {}
        }
      ]
    },
    {
      "cell_type": "markdown",
      "source": [
        "Adaboost Classifier and Random Forest Classifier performs well on this dataset, given that we give importance to minimizing the False positives."
      ],
      "metadata": {
        "id": "WtdDAPhqTR3e"
      }
    },
    {
      "cell_type": "markdown",
      "source": [
        "### Precision-Recall Curve"
      ],
      "metadata": {
        "id": "yphE4olL_AG-"
      }
    },
    {
      "cell_type": "code",
      "source": [
        "from sklearn.metrics import precision_recall_curve\n",
        "\n",
        "no_skill = len(y_test[y_test == 1]) / len(y_test)\n",
        "plt.plot([0, 1], [no_skill, no_skill], linestyle='--')\n",
        "\n",
        "precision1, recall1, thresholds1 = precision_recall_curve(Y_test, y_pred_kNN_balanced)\n",
        "plt.plot(recall1, precision1, '--', label='k-Neighbors Classifier')\n",
        "precision2, recall2, thresholds2 = precision_recall_curve(Y_test, y_pred_NB_balanced)\n",
        "plt.plot(recall2, precision2, '--', label='Bernoulli Naive Bayes Classifier')\n",
        "precision3, recall3, thresholds3 = precision_recall_curve(Y_test, y_pred_SVM_balanced)\n",
        "plt.plot(recall3, precision3, '--', label='Support Vector Classifier')\n",
        "precision4, recall4, thresholds4 = precision_recall_curve(Y_test, y_pred_LR_balanced)\n",
        "plt.plot(recall4, precision4, '--', label='Logistic Regression Classifier')\n",
        "precision5, recall5, thresholds5 = precision_recall_curve(Y_test, y_pred_DT_balanced)\n",
        "plt.plot(recall5, precision5, '--', label='Decision Tree Classifier')\n",
        "precision6, recall6, thresholds6 = precision_recall_curve(Y_test, y_pred_RF_balanced)\n",
        "plt.plot(recall6, precision6, '--', label='Random Forest Classifier')\n",
        "\n",
        "fscore1 = (2 * precision1 * recall1) / (precision1 + recall1)\n",
        "fscore2 = (2 * precision2 * recall2) / (precision2 + recall2)\n",
        "fscore3 = (2 * precision3 * recall3) / (precision3 + recall3)\n",
        "fscore4 = (2 * precision4 * recall4) / (precision4 + recall4)\n",
        "fscore5 = (2 * precision5 * recall5) / (precision5 + recall5)\n",
        "fscore6 = (2 * precision6 * recall6) / (precision6 + recall6)\n",
        "\n",
        "ix1 = np.argmax(fscore1)\n",
        "ix2 = np.argmax(fscore2)\n",
        "ix3 = np.argmax(fscore3)\n",
        "ix4 = np.argmax(fscore4)\n",
        "ix5 = np.argmax(fscore5)\n",
        "ix6 = np.argmax(fscore6)\n",
        "\n",
        "plt.scatter(recall1[ix1], precision1[ix1], marker='o', label='Best Threshold kNN')\n",
        "plt.scatter(recall2[ix2], precision2[ix2], marker='o', label='Best Threshold NB')\n",
        "plt.scatter(recall3[ix3], precision3[ix3], marker='o', label='Best Threshold SVC')\n",
        "plt.scatter(recall4[ix4], precision4[ix4], marker='o', label='Best Threshold LR')\n",
        "plt.scatter(recall5[ix5], precision5[ix5], marker='o', label='Best Threshold DT')\n",
        "plt.scatter(recall6[ix6], precision6[ix6], marker='o', label='Best Threshold RF')\n",
        "\n",
        "plt.xlabel('Recall')\n",
        "plt.ylabel('Precision')\n",
        "plt.title('Precision-Recall Curve')\n",
        "plt.legend(bbox_to_anchor = (1.0, 0.5), loc = 'center left')\n",
        "plt.show()"
      ],
      "metadata": {
        "colab": {
          "base_uri": "https://localhost:8080/",
          "height": 301
        },
        "outputId": "8706d29f-62bf-4189-acd5-ee0d6aba5b2b",
        "id": "yYXG2nSA_AG_"
      },
      "execution_count": 92,
      "outputs": [
        {
          "output_type": "display_data",
          "data": {
            "text/plain": [
              "<Figure size 432x288 with 1 Axes>"
            ],
            "image/png": "[encoded data removed]"
          },
          "metadata": {}
        }
      ]
    },
    {
      "cell_type": "markdown",
      "source": [
        "An interesting Curve here, with Random Forests the only algorithm among the ones implemented to have a Best Threshold above the No-skill line. Random Forest Classifier performs better in this scenario too, albeit not too well."
      ],
      "metadata": {
        "id": "Bce5oev-_AHA"
      }
    },
    {
      "cell_type": "markdown",
      "source": [
        "## Conclusion\n",
        "\n",
        "Analyzing the ROC Curve, Accuracy and Precision-Recall Curve, it was understood that the Random Forests Classifier performs well in general, in comparison with other popular algorithms. However, the performance metrics are not very appreciable, with the accuracy spiking only upto mid-70%.\n",
        "\n",
        "It was also noted that the train/test split is the culprit if the accuracy of the test data surpasses the accuracy of the train data."
      ],
      "metadata": {
        "id": "goKo3ZnQAK6J"
      }
    }
  ]
}