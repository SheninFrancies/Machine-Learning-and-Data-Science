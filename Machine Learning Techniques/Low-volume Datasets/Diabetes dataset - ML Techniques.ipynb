{
  "nbformat": 4,
  "nbformat_minor": 0,
  "metadata": {
    "colab": {
      "provenance": [],
      "toc_visible": true
    },
    "kernelspec": {
      "name": "python3",
      "display_name": "Python 3"
    },
    "language_info": {
      "name": "python"
    }
  },
  "cells": [
    {
      "cell_type": "markdown",
      "source": [
        "# Diabetes Dataset\n",
        "\n",
        "The dataset can be found [here](https://www.kaggle.com/datasets/mathchi/diabetes-data-set).\n",
        "\n",
        "The dataset consists of the following features:\n",
        "1. Pregnancies\n",
        "2. Glucose\n",
        "3. BloodPressure\n",
        "4. SkinThickness\n",
        "5. Insulin\n",
        "6. BMI\n",
        "7. DiabetesPedigreeFunction\n",
        "8. Age\n",
        "9. Outcome\n",
        "\n",
        "The target variable is Outcome, which states whether the patient is diabetic or not. The dataset is of low-volume."
      ],
      "metadata": {
        "id": "V-xhw92M73m7"
      }
    },
    {
      "cell_type": "code",
      "source": [
        "import numpy as np\n",
        "import pandas as pd\n",
        "import seaborn as sns\n",
        "import matplotlib.pyplot as plt\n",
        "sns.set()"
      ],
      "metadata": {
        "id": "0FgwezJVRlag"
      },
      "execution_count": 1,
      "outputs": []
    },
    {
      "cell_type": "code",
      "source": [
        "data = pd.read_csv(r'/content/drive/MyDrive/Colab Notebooks/Machine Learning/Data Training/Diabetes Dataset/diabetes.csv')\n",
        "data.head()"
      ],
      "metadata": {
        "colab": {
          "base_uri": "https://localhost:8080/",
          "height": 206
        },
        "id": "C_WtZRGfR5nF",
        "outputId": "b0b3105b-9252-49f3-d855-aca12a6eaedd"
      },
      "execution_count": 2,
      "outputs": [
        {
          "output_type": "execute_result",
          "data": {
            "text/plain": [
              "   Pregnancies  Glucose  BloodPressure  SkinThickness  Insulin   BMI  \\\n",
              "0            6      148             72             35        0  33.6   \n",
              "1            1       85             66             29        0  26.6   \n",
              "2            8      183             64              0        0  23.3   \n",
              "3            1       89             66             23       94  28.1   \n",
              "4            0      137             40             35      168  43.1   \n",
              "\n",
              "   DiabetesPedigreeFunction  Age  Outcome  \n",
              "0                     0.627   50        1  \n",
              "1                     0.351   31        0  \n",
              "2                     0.672   32        1  \n",
              "3                     0.167   21        0  \n",
              "4                     2.288   33        1  "
            ],
            "text/html": [
              "\n",
              "  <div id=\"df-92f8d9fa-bc48-45ef-9a0a-df0a5870eb5f\">\n",
              "    <div class=\"colab-df-container\">\n",
              "      <div>\n",
              "<style scoped>\n",
              "    .dataframe tbody tr th:only-of-type {\n",
              "        vertical-align: middle;\n",
              "    }\n",
              "\n",
              "    .dataframe tbody tr th {\n",
              "        vertical-align: top;\n",
              "    }\n",
              "\n",
              "    .dataframe thead th {\n",
              "        text-align: right;\n",
              "    }\n",
              "</style>\n",
              "<table border=\"1\" class=\"dataframe\">\n",
              "  <thead>\n",
              "    <tr style=\"text-align: right;\">\n",
              "      <th></th>\n",
              "      <th>Pregnancies</th>\n",
              "      <th>Glucose</th>\n",
              "      <th>BloodPressure</th>\n",
              "      <th>SkinThickness</th>\n",
              "      <th>Insulin</th>\n",
              "      <th>BMI</th>\n",
              "      <th>DiabetesPedigreeFunction</th>\n",
              "      <th>Age</th>\n",
              "      <th>Outcome</th>\n",
              "    </tr>\n",
              "  </thead>\n",
              "  <tbody>\n",
              "    <tr>\n",
              "      <th>0</th>\n",
              "      <td>6</td>\n",
              "      <td>148</td>\n",
              "      <td>72</td>\n",
              "      <td>35</td>\n",
              "      <td>0</td>\n",
              "      <td>33.6</td>\n",
              "      <td>0.627</td>\n",
              "      <td>50</td>\n",
              "      <td>1</td>\n",
              "    </tr>\n",
              "    <tr>\n",
              "      <th>1</th>\n",
              "      <td>1</td>\n",
              "      <td>85</td>\n",
              "      <td>66</td>\n",
              "      <td>29</td>\n",
              "      <td>0</td>\n",
              "      <td>26.6</td>\n",
              "      <td>0.351</td>\n",
              "      <td>31</td>\n",
              "      <td>0</td>\n",
              "    </tr>\n",
              "    <tr>\n",
              "      <th>2</th>\n",
              "      <td>8</td>\n",
              "      <td>183</td>\n",
              "      <td>64</td>\n",
              "      <td>0</td>\n",
              "      <td>0</td>\n",
              "      <td>23.3</td>\n",
              "      <td>0.672</td>\n",
              "      <td>32</td>\n",
              "      <td>1</td>\n",
              "    </tr>\n",
              "    <tr>\n",
              "      <th>3</th>\n",
              "      <td>1</td>\n",
              "      <td>89</td>\n",
              "      <td>66</td>\n",
              "      <td>23</td>\n",
              "      <td>94</td>\n",
              "      <td>28.1</td>\n",
              "      <td>0.167</td>\n",
              "      <td>21</td>\n",
              "      <td>0</td>\n",
              "    </tr>\n",
              "    <tr>\n",
              "      <th>4</th>\n",
              "      <td>0</td>\n",
              "      <td>137</td>\n",
              "      <td>40</td>\n",
              "      <td>35</td>\n",
              "      <td>168</td>\n",
              "      <td>43.1</td>\n",
              "      <td>2.288</td>\n",
              "      <td>33</td>\n",
              "      <td>1</td>\n",
              "    </tr>\n",
              "  </tbody>\n",
              "</table>\n",
              "</div>\n",
              "      <button class=\"colab-df-convert\" onclick=\"convertToInteractive('df-92f8d9fa-bc48-45ef-9a0a-df0a5870eb5f')\"\n",
              "              title=\"Convert this dataframe to an interactive table.\"\n",
              "              style=\"display:none;\">\n",
              "        \n",
              "  <svg xmlns=\"http://www.w3.org/2000/svg\" height=\"24px\"viewBox=\"0 0 24 24\"\n",
              "       width=\"24px\">\n",
              "    <path d=\"M0 0h24v24H0V0z\" fill=\"none\"/>\n",
              "    <path d=\"M18.56 5.44l.94 2.06.94-2.06 2.06-.94-2.06-.94-.94-2.06-.94 2.06-2.06.94zm-11 1L8.5 8.5l.94-2.06 2.06-.94-2.06-.94L8.5 2.5l-.94 2.06-2.06.94zm10 10l.94 2.06.94-2.06 2.06-.94-2.06-.94-.94-2.06-.94 2.06-2.06.94z\"/><path d=\"M17.41 7.96l-1.37-1.37c-.4-.4-.92-.59-1.43-.59-.52 0-1.04.2-1.43.59L10.3 9.45l-7.72 7.72c-.78.78-.78 2.05 0 2.83L4 21.41c.39.39.9.59 1.41.59.51 0 1.02-.2 1.41-.59l7.78-7.78 2.81-2.81c.8-.78.8-2.07 0-2.86zM5.41 20L4 18.59l7.72-7.72 1.47 1.35L5.41 20z\"/>\n",
              "  </svg>\n",
              "      </button>\n",
              "      \n",
              "  <style>\n",
              "    .colab-df-container {\n",
              "      display:flex;\n",
              "      flex-wrap:wrap;\n",
              "      gap: 12px;\n",
              "    }\n",
              "\n",
              "    .colab-df-convert {\n",
              "      background-color: #E8F0FE;\n",
              "      border: none;\n",
              "      border-radius: 50%;\n",
              "      cursor: pointer;\n",
              "      display: none;\n",
              "      fill: #1967D2;\n",
              "      height: 32px;\n",
              "      padding: 0 0 0 0;\n",
              "      width: 32px;\n",
              "    }\n",
              "\n",
              "    .colab-df-convert:hover {\n",
              "      background-color: #E2EBFA;\n",
              "      box-shadow: 0px 1px 2px rgba(60, 64, 67, 0.3), 0px 1px 3px 1px rgba(60, 64, 67, 0.15);\n",
              "      fill: #174EA6;\n",
              "    }\n",
              "\n",
              "    [theme=dark] .colab-df-convert {\n",
              "      background-color: #3B4455;\n",
              "      fill: #D2E3FC;\n",
              "    }\n",
              "\n",
              "    [theme=dark] .colab-df-convert:hover {\n",
              "      background-color: #434B5C;\n",
              "      box-shadow: 0px 1px 3px 1px rgba(0, 0, 0, 0.15);\n",
              "      filter: drop-shadow(0px 1px 2px rgba(0, 0, 0, 0.3));\n",
              "      fill: #FFFFFF;\n",
              "    }\n",
              "  </style>\n",
              "\n",
              "      <script>\n",
              "        const buttonEl =\n",
              "          document.querySelector('#df-92f8d9fa-bc48-45ef-9a0a-df0a5870eb5f button.colab-df-convert');\n",
              "        buttonEl.style.display =\n",
              "          google.colab.kernel.accessAllowed ? 'block' : 'none';\n",
              "\n",
              "        async function convertToInteractive(key) {\n",
              "          const element = document.querySelector('#df-92f8d9fa-bc48-45ef-9a0a-df0a5870eb5f');\n",
              "          const dataTable =\n",
              "            await google.colab.kernel.invokeFunction('convertToInteractive',\n",
              "                                                     [key], {});\n",
              "          if (!dataTable) return;\n",
              "\n",
              "          const docLinkHtml = 'Like what you see? Visit the ' +\n",
              "            '<a target=\"_blank\" href=https://colab.research.google.com/notebooks/data_table.ipynb>data table notebook</a>'\n",
              "            + ' to learn more about interactive tables.';\n",
              "          element.innerHTML = '';\n",
              "          dataTable['output_type'] = 'display_data';\n",
              "          await google.colab.output.renderOutput(dataTable, element);\n",
              "          const docLink = document.createElement('div');\n",
              "          docLink.innerHTML = docLinkHtml;\n",
              "          element.appendChild(docLink);\n",
              "        }\n",
              "      </script>\n",
              "    </div>\n",
              "  </div>\n",
              "  "
            ]
          },
          "metadata": {},
          "execution_count": 2
        }
      ]
    },
    {
      "cell_type": "code",
      "source": [
        "data.info()"
      ],
      "metadata": {
        "colab": {
          "base_uri": "https://localhost:8080/"
        },
        "id": "jxr3GN8OSeqX",
        "outputId": "c5e08a64-08c0-40ff-f3fb-9eeabbd3a8fb"
      },
      "execution_count": 3,
      "outputs": [
        {
          "output_type": "stream",
          "name": "stdout",
          "text": [
            "<class 'pandas.core.frame.DataFrame'>\n",
            "RangeIndex: 768 entries, 0 to 767\n",
            "Data columns (total 9 columns):\n",
            " #   Column                    Non-Null Count  Dtype  \n",
            "---  ------                    --------------  -----  \n",
            " 0   Pregnancies               768 non-null    int64  \n",
            " 1   Glucose                   768 non-null    int64  \n",
            " 2   BloodPressure             768 non-null    int64  \n",
            " 3   SkinThickness             768 non-null    int64  \n",
            " 4   Insulin                   768 non-null    int64  \n",
            " 5   BMI                       768 non-null    float64\n",
            " 6   DiabetesPedigreeFunction  768 non-null    float64\n",
            " 7   Age                       768 non-null    int64  \n",
            " 8   Outcome                   768 non-null    int64  \n",
            "dtypes: float64(2), int64(7)\n",
            "memory usage: 54.1 KB\n"
          ]
        }
      ]
    },
    {
      "cell_type": "code",
      "source": [
        "data.isna().sum()"
      ],
      "metadata": {
        "colab": {
          "base_uri": "https://localhost:8080/"
        },
        "id": "xlr3yfRsSlwg",
        "outputId": "ccba1e73-ca58-4544-848a-1acd5e5ba78f"
      },
      "execution_count": 4,
      "outputs": [
        {
          "output_type": "execute_result",
          "data": {
            "text/plain": [
              "Pregnancies                 0\n",
              "Glucose                     0\n",
              "BloodPressure               0\n",
              "SkinThickness               0\n",
              "Insulin                     0\n",
              "BMI                         0\n",
              "DiabetesPedigreeFunction    0\n",
              "Age                         0\n",
              "Outcome                     0\n",
              "dtype: int64"
            ]
          },
          "metadata": {},
          "execution_count": 4
        }
      ]
    },
    {
      "cell_type": "markdown",
      "source": [
        "No Missing values."
      ],
      "metadata": {
        "id": "nbrYO7AM1CRz"
      }
    },
    {
      "cell_type": "markdown",
      "source": [
        "## Split into Inputs and Targets"
      ],
      "metadata": {
        "id": "wj8C9oZXSrsB"
      }
    },
    {
      "cell_type": "code",
      "source": [
        "x = data.iloc[:, :-1].values\n",
        "y = data.iloc[:, -1].values"
      ],
      "metadata": {
        "id": "pisTQ4moSn88"
      },
      "execution_count": 5,
      "outputs": []
    },
    {
      "cell_type": "code",
      "source": [
        "from collections import Counter\n",
        "Counter(y)"
      ],
      "metadata": {
        "colab": {
          "base_uri": "https://localhost:8080/"
        },
        "id": "aeMW82ci2qg8",
        "outputId": "ac013db4-f8e2-44db-b17e-8671ddb62270"
      },
      "execution_count": 6,
      "outputs": [
        {
          "output_type": "execute_result",
          "data": {
            "text/plain": [
              "Counter({1: 268, 0: 500})"
            ]
          },
          "metadata": {},
          "execution_count": 6
        }
      ]
    },
    {
      "cell_type": "markdown",
      "source": [
        "## Split into train and test sets"
      ],
      "metadata": {
        "id": "HmTLRrfeTKQq"
      }
    },
    {
      "cell_type": "code",
      "source": [
        "from sklearn.model_selection import train_test_split\n",
        "x_train, x_test, y_train, y_test = train_test_split(x, y, test_size=0.2, random_state=42)\n",
        "print('Shape x_train: ', x_train.shape)\n",
        "print('Shape y_train: ', y_train.shape)\n",
        "print('Shape x_test: ', x_test.shape)\n",
        "print('Shape y_test: ', y_test.shape)"
      ],
      "metadata": {
        "id": "1ChOacjdTZG8",
        "colab": {
          "base_uri": "https://localhost:8080/"
        },
        "outputId": "0a43db76-d2b4-4e71-fde3-af592cd7c4fc"
      },
      "execution_count": 7,
      "outputs": [
        {
          "output_type": "stream",
          "name": "stdout",
          "text": [
            "Shape x_train:  (614, 8)\n",
            "Shape y_train:  (614,)\n",
            "Shape x_test:  (154, 8)\n",
            "Shape y_test:  (154,)\n"
          ]
        }
      ]
    },
    {
      "cell_type": "markdown",
      "source": [
        "## Normalization"
      ],
      "metadata": {
        "id": "cS0-Q2CWTxiP"
      }
    },
    {
      "cell_type": "code",
      "source": [
        "from sklearn.preprocessing import StandardScaler"
      ],
      "metadata": {
        "id": "muVtlsriTt9a"
      },
      "execution_count": 8,
      "outputs": []
    },
    {
      "cell_type": "code",
      "source": [
        "scaler = StandardScaler()\n",
        "scaler.fit(x_train)\n",
        "x_train = scaler.transform(x_train)\n",
        "x_test = scaler.transform(x_test)"
      ],
      "metadata": {
        "id": "VE1iKLVpT18R"
      },
      "execution_count": 9,
      "outputs": []
    },
    {
      "cell_type": "markdown",
      "source": [
        "## ML Techniques - Imbalanced Target Class"
      ],
      "metadata": {
        "id": "e1XAFXKi5_tT"
      }
    },
    {
      "cell_type": "code",
      "source": [
        "from sklearn.metrics import accuracy_score, classification_report, confusion_matrix, ConfusionMatrixDisplay"
      ],
      "metadata": {
        "id": "A7pgrJ5-VE1R"
      },
      "execution_count": 10,
      "outputs": []
    },
    {
      "cell_type": "markdown",
      "source": [
        "### Support Vector Machine"
      ],
      "metadata": {
        "id": "G7bZu50hUhKS"
      }
    },
    {
      "cell_type": "code",
      "source": [
        "from sklearn.svm import SVC\n",
        "support_vector = SVC()\n",
        "support_vector.fit(x_train, y_train)\n",
        "y_pred_SVC = support_vector.predict(x_test)"
      ],
      "metadata": {
        "id": "cCbVTptdUrBQ"
      },
      "execution_count": 11,
      "outputs": []
    },
    {
      "cell_type": "code",
      "source": [
        "y_pred_SVC_train = support_vector.predict(x_train)\n",
        "print('Accuracy of the training set: ', accuracy_score(y_train, y_pred_SVC_train))\n",
        "print('Accuracy of the testing set: ', accuracy_score(y_test, y_pred_SVC))"
      ],
      "metadata": {
        "colab": {
          "base_uri": "https://localhost:8080/"
        },
        "id": "CgcQlG23VRFy",
        "outputId": "b1982bbf-8e5b-49a5-9947-7dd0bfb23c53"
      },
      "execution_count": 12,
      "outputs": [
        {
          "output_type": "stream",
          "name": "stdout",
          "text": [
            "Accuracy of the training set:  0.8338762214983714\n",
            "Accuracy of the testing set:  0.7337662337662337\n"
          ]
        }
      ]
    },
    {
      "cell_type": "code",
      "source": [
        "print(classification_report(y_test, y_pred_SVC))"
      ],
      "metadata": {
        "colab": {
          "base_uri": "https://localhost:8080/"
        },
        "id": "ShLyqfo8VVPj",
        "outputId": "c9d83231-8332-46c5-8026-62a11c981d16"
      },
      "execution_count": 13,
      "outputs": [
        {
          "output_type": "stream",
          "name": "stdout",
          "text": [
            "              precision    recall  f1-score   support\n",
            "\n",
            "           0       0.77      0.83      0.80        99\n",
            "           1       0.65      0.56      0.60        55\n",
            "\n",
            "    accuracy                           0.73       154\n",
            "   macro avg       0.71      0.70      0.70       154\n",
            "weighted avg       0.73      0.73      0.73       154\n",
            "\n"
          ]
        }
      ]
    },
    {
      "cell_type": "code",
      "source": [
        "ConfusionMatrixDisplay.from_predictions(y_test, y_pred_SVC, colorbar=False)"
      ],
      "metadata": {
        "colab": {
          "base_uri": "https://localhost:8080/",
          "height": 302
        },
        "id": "Kz77GUZkVm0a",
        "outputId": "32988da4-2c03-49a2-bdda-c12623238202"
      },
      "execution_count": 14,
      "outputs": [
        {
          "output_type": "execute_result",
          "data": {
            "text/plain": [
              "<sklearn.metrics._plot.confusion_matrix.ConfusionMatrixDisplay at 0x7f8fb30d2f10>"
            ]
          },
          "metadata": {},
          "execution_count": 14
        },
        {
          "output_type": "display_data",
          "data": {
            "text/plain": [
              "<Figure size 432x288 with 1 Axes>"
            ],
            "image/png": "[encoded data removed]"
          },
          "metadata": {}
        }
      ]
    },
    {
      "cell_type": "markdown",
      "source": [
        "### Logistic Regression"
      ],
      "metadata": {
        "id": "K4wjV2LE3OW3"
      }
    },
    {
      "cell_type": "code",
      "source": [
        "from sklearn.linear_model import LogisticRegression\n",
        "log_reg = LogisticRegression()\n",
        "log_reg.fit(x_train, y_train)\n",
        "log_reg.get_params()"
      ],
      "metadata": {
        "colab": {
          "base_uri": "https://localhost:8080/"
        },
        "id": "TMBhVAEp3QMw",
        "outputId": "3c690444-aac9-4574-a14f-6357c4b8c1a6"
      },
      "execution_count": 15,
      "outputs": [
        {
          "output_type": "execute_result",
          "data": {
            "text/plain": [
              "{'C': 1.0,\n",
              " 'class_weight': None,\n",
              " 'dual': False,\n",
              " 'fit_intercept': True,\n",
              " 'intercept_scaling': 1,\n",
              " 'l1_ratio': None,\n",
              " 'max_iter': 100,\n",
              " 'multi_class': 'auto',\n",
              " 'n_jobs': None,\n",
              " 'penalty': 'l2',\n",
              " 'random_state': None,\n",
              " 'solver': 'lbfgs',\n",
              " 'tol': 0.0001,\n",
              " 'verbose': 0,\n",
              " 'warm_start': False}"
            ]
          },
          "metadata": {},
          "execution_count": 15
        }
      ]
    },
    {
      "cell_type": "code",
      "source": [
        "y_pred_log_reg = log_reg.predict(x_test)"
      ],
      "metadata": {
        "id": "rN5uOUqg4h6G"
      },
      "execution_count": 16,
      "outputs": []
    },
    {
      "cell_type": "code",
      "source": [
        "y_pred_log_reg_train = log_reg.predict(x_train)\n",
        "print('Accuracy of the training set: ', accuracy_score(y_train, y_pred_log_reg_train))\n",
        "print('Accuracy of the testing set: ', accuracy_score(y_test, y_pred_log_reg))"
      ],
      "metadata": {
        "colab": {
          "base_uri": "https://localhost:8080/"
        },
        "id": "cqwxb_hf4pne",
        "outputId": "05d49983-41ae-4d26-e146-b7a0628afec2"
      },
      "execution_count": 17,
      "outputs": [
        {
          "output_type": "stream",
          "name": "stdout",
          "text": [
            "Accuracy of the training set:  0.7703583061889251\n",
            "Accuracy of the testing set:  0.7532467532467533\n"
          ]
        }
      ]
    },
    {
      "cell_type": "code",
      "source": [
        "print(classification_report(y_test, y_pred_log_reg))"
      ],
      "metadata": {
        "colab": {
          "base_uri": "https://localhost:8080/"
        },
        "id": "_9N-6Cy04xnj",
        "outputId": "6ea3d901-96a4-4aa6-f450-8e7d93a55968"
      },
      "execution_count": 18,
      "outputs": [
        {
          "output_type": "stream",
          "name": "stdout",
          "text": [
            "              precision    recall  f1-score   support\n",
            "\n",
            "           0       0.81      0.80      0.81        99\n",
            "           1       0.65      0.67      0.66        55\n",
            "\n",
            "    accuracy                           0.75       154\n",
            "   macro avg       0.73      0.74      0.73       154\n",
            "weighted avg       0.76      0.75      0.75       154\n",
            "\n"
          ]
        }
      ]
    },
    {
      "cell_type": "code",
      "source": [
        "ConfusionMatrixDisplay.from_predictions(y_test, y_pred_log_reg, colorbar=False)"
      ],
      "metadata": {
        "colab": {
          "base_uri": "https://localhost:8080/",
          "height": 302
        },
        "id": "HeBjbhdE41X3",
        "outputId": "304148fc-f0c1-4c65-bde2-513d21ba9131"
      },
      "execution_count": 19,
      "outputs": [
        {
          "output_type": "execute_result",
          "data": {
            "text/plain": [
              "<sklearn.metrics._plot.confusion_matrix.ConfusionMatrixDisplay at 0x7f8fb2fe5ca0>"
            ]
          },
          "metadata": {},
          "execution_count": 19
        },
        {
          "output_type": "display_data",
          "data": {
            "text/plain": [
              "<Figure size 432x288 with 1 Axes>"
            ],
            "image/png": "[encoded data removed]"
          },
          "metadata": {}
        }
      ]
    },
    {
      "cell_type": "markdown",
      "source": [
        "### Naive Bayes"
      ],
      "metadata": {
        "id": "lomhPBV_5OIp"
      }
    },
    {
      "cell_type": "code",
      "source": [
        "from sklearn.naive_bayes import GaussianNB\n",
        "Gaussian = GaussianNB()\n",
        "Gaussian.fit(x_train, y_train)\n",
        "Gaussian.get_params()"
      ],
      "metadata": {
        "colab": {
          "base_uri": "https://localhost:8080/"
        },
        "id": "MuD-3RBs45x8",
        "outputId": "77993b9e-b218-468e-8d15-323b8a70eb35"
      },
      "execution_count": 20,
      "outputs": [
        {
          "output_type": "execute_result",
          "data": {
            "text/plain": [
              "{'priors': None, 'var_smoothing': 1e-09}"
            ]
          },
          "metadata": {},
          "execution_count": 20
        }
      ]
    },
    {
      "cell_type": "code",
      "source": [
        "y_pred_Gaussian = Gaussian.predict(x_test)"
      ],
      "metadata": {
        "id": "4qZSwbFE5aME"
      },
      "execution_count": 21,
      "outputs": []
    },
    {
      "cell_type": "code",
      "source": [
        "y_pred_Gaussian_train = Gaussian.predict(x_train)\n",
        "print('Accuracy of the training set: ', accuracy_score(y_train, y_pred_Gaussian_train))\n",
        "print('Accuracy of the testing set: ', accuracy_score(y_test, y_pred_Gaussian))"
      ],
      "metadata": {
        "colab": {
          "base_uri": "https://localhost:8080/"
        },
        "id": "mFmZ8m8-5fu-",
        "outputId": "1a925aa6-0378-4dfb-c22e-2fc520ac3faf"
      },
      "execution_count": 22,
      "outputs": [
        {
          "output_type": "stream",
          "name": "stdout",
          "text": [
            "Accuracy of the training set:  0.752442996742671\n",
            "Accuracy of the testing set:  0.7662337662337663\n"
          ]
        }
      ]
    },
    {
      "cell_type": "code",
      "source": [
        "print(classification_report(y_test, y_pred_Gaussian))\n",
        "ConfusionMatrixDisplay.from_predictions(y_test, y_pred_Gaussian, colorbar=False)"
      ],
      "metadata": {
        "colab": {
          "base_uri": "https://localhost:8080/",
          "height": 459
        },
        "id": "9FubKh0F5oMV",
        "outputId": "3795ff77-f990-440c-9fea-e81b983a85c9"
      },
      "execution_count": 23,
      "outputs": [
        {
          "output_type": "stream",
          "name": "stdout",
          "text": [
            "              precision    recall  f1-score   support\n",
            "\n",
            "           0       0.83      0.80      0.81        99\n",
            "           1       0.66      0.71      0.68        55\n",
            "\n",
            "    accuracy                           0.77       154\n",
            "   macro avg       0.75      0.75      0.75       154\n",
            "weighted avg       0.77      0.77      0.77       154\n",
            "\n"
          ]
        },
        {
          "output_type": "execute_result",
          "data": {
            "text/plain": [
              "<sklearn.metrics._plot.confusion_matrix.ConfusionMatrixDisplay at 0x7f8fb2afba90>"
            ]
          },
          "metadata": {},
          "execution_count": 23
        },
        {
          "output_type": "display_data",
          "data": {
            "text/plain": [
              "<Figure size 432x288 with 1 Axes>"
            ],
            "image/png": "[encoded data removed]"
          },
          "metadata": {}
        }
      ]
    },
    {
      "cell_type": "markdown",
      "source": [
        "### k-Neighbours Classifier"
      ],
      "metadata": {
        "id": "vEjcM2qf58GW"
      }
    },
    {
      "cell_type": "code",
      "source": [
        "from sklearn.neighbors import KNeighborsClassifier\n",
        "kNN = KNeighborsClassifier()\n",
        "kNN.fit(x_train, y_train)\n",
        "kNN.get_params()"
      ],
      "metadata": {
        "colab": {
          "base_uri": "https://localhost:8080/"
        },
        "id": "5zIh6Udk5zVR",
        "outputId": "abf83252-2b72-47b3-fde8-16587c8b13ac"
      },
      "execution_count": 24,
      "outputs": [
        {
          "output_type": "execute_result",
          "data": {
            "text/plain": [
              "{'algorithm': 'auto',\n",
              " 'leaf_size': 30,\n",
              " 'metric': 'minkowski',\n",
              " 'metric_params': None,\n",
              " 'n_jobs': None,\n",
              " 'n_neighbors': 5,\n",
              " 'p': 2,\n",
              " 'weights': 'uniform'}"
            ]
          },
          "metadata": {},
          "execution_count": 24
        }
      ]
    },
    {
      "cell_type": "code",
      "source": [
        "y_pred_kNN = kNN.predict(x_test)\n",
        "y_pred_kNN_train = kNN.predict(x_train)\n",
        "print('Accuracy of the training set: ', accuracy_score(y_train, y_pred_kNN_train))\n",
        "print('Accuracy of the testing set: ', accuracy_score(y_test, y_pred_kNN))"
      ],
      "metadata": {
        "colab": {
          "base_uri": "https://localhost:8080/"
        },
        "id": "IqyL1s6X6WFa",
        "outputId": "b05848bb-8681-4597-99a9-704499c047e3"
      },
      "execution_count": 25,
      "outputs": [
        {
          "output_type": "stream",
          "name": "stdout",
          "text": [
            "Accuracy of the training set:  0.8241042345276873\n",
            "Accuracy of the testing set:  0.6948051948051948\n"
          ]
        }
      ]
    },
    {
      "cell_type": "code",
      "source": [
        "print(classification_report(y_test, y_pred_kNN))\n",
        "ConfusionMatrixDisplay.from_predictions(y_test, y_pred_kNN, colorbar=False)"
      ],
      "metadata": {
        "colab": {
          "base_uri": "https://localhost:8080/",
          "height": 459
        },
        "id": "D4hqQ3_T6gx3",
        "outputId": "5149636a-8114-4da3-f68a-b182167d2ba4"
      },
      "execution_count": 26,
      "outputs": [
        {
          "output_type": "stream",
          "name": "stdout",
          "text": [
            "              precision    recall  f1-score   support\n",
            "\n",
            "           0       0.75      0.80      0.77        99\n",
            "           1       0.58      0.51      0.54        55\n",
            "\n",
            "    accuracy                           0.69       154\n",
            "   macro avg       0.66      0.65      0.66       154\n",
            "weighted avg       0.69      0.69      0.69       154\n",
            "\n"
          ]
        },
        {
          "output_type": "execute_result",
          "data": {
            "text/plain": [
              "<sklearn.metrics._plot.confusion_matrix.ConfusionMatrixDisplay at 0x7f8fb2b6b880>"
            ]
          },
          "metadata": {},
          "execution_count": 26
        },
        {
          "output_type": "display_data",
          "data": {
            "text/plain": [
              "<Figure size 432x288 with 1 Axes>"
            ],
            "image/png": "[encoded data removed]"
          },
          "metadata": {}
        }
      ]
    },
    {
      "cell_type": "markdown",
      "source": [
        "### Decision Tree Classifier\n",
        "\n",
        "We limit the *max_depth* since this is a small dataset, in order to avoid overfitting."
      ],
      "metadata": {
        "id": "cM-JzPWY6qfz"
      }
    },
    {
      "cell_type": "code",
      "source": [
        "from sklearn.tree import DecisionTreeClassifier\n",
        "DT_classifier = DecisionTreeClassifier(max_depth=4)\n",
        "DT_classifier.fit(x_train, y_train)\n",
        "DT_classifier.get_params()"
      ],
      "metadata": {
        "colab": {
          "base_uri": "https://localhost:8080/"
        },
        "id": "NiBi59cX6mDv",
        "outputId": "e8170ecb-4ba1-4154-98f8-b56e8d8f945c"
      },
      "execution_count": 27,
      "outputs": [
        {
          "output_type": "execute_result",
          "data": {
            "text/plain": [
              "{'ccp_alpha': 0.0,\n",
              " 'class_weight': None,\n",
              " 'criterion': 'gini',\n",
              " 'max_depth': 4,\n",
              " 'max_features': None,\n",
              " 'max_leaf_nodes': None,\n",
              " 'min_impurity_decrease': 0.0,\n",
              " 'min_samples_leaf': 1,\n",
              " 'min_samples_split': 2,\n",
              " 'min_weight_fraction_leaf': 0.0,\n",
              " 'random_state': None,\n",
              " 'splitter': 'best'}"
            ]
          },
          "metadata": {},
          "execution_count": 27
        }
      ]
    },
    {
      "cell_type": "code",
      "source": [
        "y_pred_DT = DT_classifier.predict(x_test)\n",
        "y_pred_DT_train = DT_classifier.predict(x_train)\n",
        "print('Accuracy of the training set: ', accuracy_score(y_train, y_pred_DT_train))\n",
        "print('Accuracy of the testing set: ', accuracy_score(y_test, y_pred_DT))"
      ],
      "metadata": {
        "colab": {
          "base_uri": "https://localhost:8080/"
        },
        "id": "5Qay8oyL7BRA",
        "outputId": "a711c773-fdf0-4186-a543-0c9f22bb1895"
      },
      "execution_count": 28,
      "outputs": [
        {
          "output_type": "stream",
          "name": "stdout",
          "text": [
            "Accuracy of the training set:  0.7980456026058632\n",
            "Accuracy of the testing set:  0.6948051948051948\n"
          ]
        }
      ]
    },
    {
      "cell_type": "code",
      "source": [
        "print(classification_report(y_test, y_pred_DT))\n",
        "ConfusionMatrixDisplay.from_predictions(y_test, y_pred_DT, colorbar=False)"
      ],
      "metadata": {
        "colab": {
          "base_uri": "https://localhost:8080/",
          "height": 459
        },
        "id": "70GDCF5b7LCq",
        "outputId": "7b2c21ee-549d-4f7b-d101-8b81a50962ce"
      },
      "execution_count": 29,
      "outputs": [
        {
          "output_type": "stream",
          "name": "stdout",
          "text": [
            "              precision    recall  f1-score   support\n",
            "\n",
            "           0       0.80      0.70      0.75        99\n",
            "           1       0.56      0.69      0.62        55\n",
            "\n",
            "    accuracy                           0.69       154\n",
            "   macro avg       0.68      0.69      0.68       154\n",
            "weighted avg       0.72      0.69      0.70       154\n",
            "\n"
          ]
        },
        {
          "output_type": "execute_result",
          "data": {
            "text/plain": [
              "<sklearn.metrics._plot.confusion_matrix.ConfusionMatrixDisplay at 0x7f8fb2b6bd90>"
            ]
          },
          "metadata": {},
          "execution_count": 29
        },
        {
          "output_type": "display_data",
          "data": {
            "text/plain": [
              "<Figure size 432x288 with 1 Axes>"
            ],
            "image/png": "[encoded data removed]"
          },
          "metadata": {}
        }
      ]
    },
    {
      "cell_type": "markdown",
      "source": [
        "### Random Forest Classifier\n",
        "\n",
        "We limit the max_depth since this is a small dataset, in order to avoid overfitting."
      ],
      "metadata": {
        "id": "p-kO7O6A7jzS"
      }
    },
    {
      "cell_type": "code",
      "source": [
        "from sklearn.ensemble import RandomForestClassifier\n",
        "RF_classifier = RandomForestClassifier(max_depth=4)\n",
        "RF_classifier.fit(x_train, y_train)\n",
        "RF_classifier.get_params()"
      ],
      "metadata": {
        "colab": {
          "base_uri": "https://localhost:8080/"
        },
        "id": "3EtYAyvl7ddV",
        "outputId": "e8c584e7-a022-435d-ceaf-da136758fe40"
      },
      "execution_count": 30,
      "outputs": [
        {
          "output_type": "execute_result",
          "data": {
            "text/plain": [
              "{'bootstrap': True,\n",
              " 'ccp_alpha': 0.0,\n",
              " 'class_weight': None,\n",
              " 'criterion': 'gini',\n",
              " 'max_depth': 4,\n",
              " 'max_features': 'auto',\n",
              " 'max_leaf_nodes': None,\n",
              " 'max_samples': None,\n",
              " 'min_impurity_decrease': 0.0,\n",
              " 'min_samples_leaf': 1,\n",
              " 'min_samples_split': 2,\n",
              " 'min_weight_fraction_leaf': 0.0,\n",
              " 'n_estimators': 100,\n",
              " 'n_jobs': None,\n",
              " 'oob_score': False,\n",
              " 'random_state': None,\n",
              " 'verbose': 0,\n",
              " 'warm_start': False}"
            ]
          },
          "metadata": {},
          "execution_count": 30
        }
      ]
    },
    {
      "cell_type": "code",
      "source": [
        "y_pred_RF = RF_classifier.predict(x_test)\n",
        "y_pred_RF_train = RF_classifier.predict(x_train)\n",
        "print('Accuracy of the training set: ', accuracy_score(y_train, y_pred_RF_train))\n",
        "print('Accuracy of the testing set: ', accuracy_score(y_test, y_pred_RF))"
      ],
      "metadata": {
        "colab": {
          "base_uri": "https://localhost:8080/"
        },
        "id": "npaKKmqe7x5i",
        "outputId": "912c42df-2935-4ae8-846c-4330c8222dda"
      },
      "execution_count": 31,
      "outputs": [
        {
          "output_type": "stream",
          "name": "stdout",
          "text": [
            "Accuracy of the training set:  0.8289902280130294\n",
            "Accuracy of the testing set:  0.7727272727272727\n"
          ]
        }
      ]
    },
    {
      "cell_type": "code",
      "source": [
        "print(classification_report(y_test, y_pred_RF))\n",
        "ConfusionMatrixDisplay.from_predictions(y_test, y_pred_RF, colorbar=False)"
      ],
      "metadata": {
        "colab": {
          "base_uri": "https://localhost:8080/",
          "height": 459
        },
        "id": "lnT_kkOC74HZ",
        "outputId": "2217f045-5316-4271-b080-4a16384d139f"
      },
      "execution_count": 32,
      "outputs": [
        {
          "output_type": "stream",
          "name": "stdout",
          "text": [
            "              precision    recall  f1-score   support\n",
            "\n",
            "           0       0.80      0.86      0.83        99\n",
            "           1       0.71      0.62      0.66        55\n",
            "\n",
            "    accuracy                           0.77       154\n",
            "   macro avg       0.76      0.74      0.74       154\n",
            "weighted avg       0.77      0.77      0.77       154\n",
            "\n"
          ]
        },
        {
          "output_type": "execute_result",
          "data": {
            "text/plain": [
              "<sklearn.metrics._plot.confusion_matrix.ConfusionMatrixDisplay at 0x7f8fb242fe50>"
            ]
          },
          "metadata": {},
          "execution_count": 32
        },
        {
          "output_type": "display_data",
          "data": {
            "text/plain": [
              "<Figure size 432x288 with 1 Axes>"
            ],
            "image/png": "[encoded data removed]"
          },
          "metadata": {}
        }
      ]
    },
    {
      "cell_type": "markdown",
      "source": [
        "### AdaBoost Classifier\n",
        "\n",
        "We limit the learning_rate, since it can lead to overfitting."
      ],
      "metadata": {
        "id": "KxpaDnBGeL9r"
      }
    },
    {
      "cell_type": "code",
      "source": [
        "from sklearn.ensemble import AdaBoostClassifier\n",
        "adaboost = AdaBoostClassifier(learning_rate=0.01)\n",
        "adaboost.fit(x_train, y_train)\n",
        "adaboost.get_params()"
      ],
      "metadata": {
        "colab": {
          "base_uri": "https://localhost:8080/"
        },
        "id": "TFXywWh7eLt1",
        "outputId": "8c434016-9113-47d6-9d3a-c08fc3b8b2b0"
      },
      "execution_count": 33,
      "outputs": [
        {
          "output_type": "execute_result",
          "data": {
            "text/plain": [
              "{'algorithm': 'SAMME.R',\n",
              " 'base_estimator': None,\n",
              " 'learning_rate': 0.01,\n",
              " 'n_estimators': 50,\n",
              " 'random_state': None}"
            ]
          },
          "metadata": {},
          "execution_count": 33
        }
      ]
    },
    {
      "cell_type": "code",
      "source": [
        "y_pred_Adaboost = adaboost.predict(x_test)\n",
        "print('Accuracy of the training set: ', adaboost.score(x_train, y_train))\n",
        "print('Accuracy of the testing set: ', accuracy_score(y_test, y_pred_Adaboost))"
      ],
      "metadata": {
        "colab": {
          "base_uri": "https://localhost:8080/"
        },
        "id": "YrS4YPeLe5IQ",
        "outputId": "d032d26b-d2dd-4311-fb53-5d5e4a6aab10"
      },
      "execution_count": 34,
      "outputs": [
        {
          "output_type": "stream",
          "name": "stdout",
          "text": [
            "Accuracy of the training set:  0.749185667752443\n",
            "Accuracy of the testing set:  0.7402597402597403\n"
          ]
        }
      ]
    },
    {
      "cell_type": "markdown",
      "source": [
        "No overfitting issues here."
      ],
      "metadata": {
        "id": "bTMmWr5UgKlD"
      }
    },
    {
      "cell_type": "code",
      "source": [
        "print(classification_report(y_test, y_pred_Adaboost))\n",
        "ConfusionMatrixDisplay.from_predictions(y_test, y_pred_Adaboost, colorbar=False)"
      ],
      "metadata": {
        "colab": {
          "base_uri": "https://localhost:8080/",
          "height": 459
        },
        "id": "-4WNk7iZe5GE",
        "outputId": "c50dff90-00ec-42b9-faeb-a7370fd9b2ac"
      },
      "execution_count": 35,
      "outputs": [
        {
          "output_type": "stream",
          "name": "stdout",
          "text": [
            "              precision    recall  f1-score   support\n",
            "\n",
            "           0       0.73      0.94      0.82        99\n",
            "           1       0.78      0.38      0.51        55\n",
            "\n",
            "    accuracy                           0.74       154\n",
            "   macro avg       0.76      0.66      0.67       154\n",
            "weighted avg       0.75      0.74      0.71       154\n",
            "\n"
          ]
        },
        {
          "output_type": "execute_result",
          "data": {
            "text/plain": [
              "<sklearn.metrics._plot.confusion_matrix.ConfusionMatrixDisplay at 0x7f8fb290c880>"
            ]
          },
          "metadata": {},
          "execution_count": 35
        },
        {
          "output_type": "display_data",
          "data": {
            "text/plain": [
              "<Figure size 432x288 with 1 Axes>"
            ],
            "image/png": "[encoded data removed]"
          },
          "metadata": {}
        }
      ]
    },
    {
      "cell_type": "markdown",
      "source": [
        "### XGBoost Classifier\n",
        "\n",
        "We limit the n_estimators and the learning_rate."
      ],
      "metadata": {
        "id": "oJsZLLChgx3W"
      }
    },
    {
      "cell_type": "code",
      "source": [
        "from xgboost import XGBClassifier\n",
        "xgb_classifier = XGBClassifier(n_estimators=50, learning_rate = 0.01)\n",
        "xgb_classifier.fit(x_train, y_train)\n",
        "xgb_classifier.get_params()"
      ],
      "metadata": {
        "colab": {
          "base_uri": "https://localhost:8080/"
        },
        "id": "6-3-hgJ0gxfk",
        "outputId": "c9c16755-f27d-4f27-b1b6-21d2aa4e1389"
      },
      "execution_count": 36,
      "outputs": [
        {
          "output_type": "execute_result",
          "data": {
            "text/plain": [
              "{'base_score': 0.5,\n",
              " 'booster': 'gbtree',\n",
              " 'colsample_bylevel': 1,\n",
              " 'colsample_bynode': 1,\n",
              " 'colsample_bytree': 1,\n",
              " 'gamma': 0,\n",
              " 'learning_rate': 0.01,\n",
              " 'max_delta_step': 0,\n",
              " 'max_depth': 3,\n",
              " 'min_child_weight': 1,\n",
              " 'missing': None,\n",
              " 'n_estimators': 50,\n",
              " 'n_jobs': 1,\n",
              " 'nthread': None,\n",
              " 'objective': 'binary:logistic',\n",
              " 'random_state': 0,\n",
              " 'reg_alpha': 0,\n",
              " 'reg_lambda': 1,\n",
              " 'scale_pos_weight': 1,\n",
              " 'seed': None,\n",
              " 'silent': None,\n",
              " 'subsample': 1,\n",
              " 'verbosity': 1}"
            ]
          },
          "metadata": {},
          "execution_count": 36
        }
      ]
    },
    {
      "cell_type": "code",
      "source": [
        "y_pred_XGB = xgb_classifier.predict(x_test)\n",
        "print('Accuracy of the training set: ', xgb_classifier.score(x_train, y_train))\n",
        "print('Accuracy of the testing set: ', accuracy_score(y_test, y_pred_XGB))"
      ],
      "metadata": {
        "colab": {
          "base_uri": "https://localhost:8080/"
        },
        "id": "ijXKHxBoipdn",
        "outputId": "1a5e2b5a-8bfb-46ce-d5b7-577d20bbfb40"
      },
      "execution_count": 37,
      "outputs": [
        {
          "output_type": "stream",
          "name": "stdout",
          "text": [
            "Accuracy of the training set:  0.7801302931596091\n",
            "Accuracy of the testing set:  0.7662337662337663\n"
          ]
        }
      ]
    },
    {
      "cell_type": "code",
      "source": [
        "from sklearn.model_selection import cross_val_score\n",
        "print(cross_val_score(xgb_classifier, x_train, y_train, cv=3))"
      ],
      "metadata": {
        "colab": {
          "base_uri": "https://localhost:8080/"
        },
        "id": "cEktyrl-jatt",
        "outputId": "485340a4-61da-4926-e623-6670ca64404c"
      },
      "execution_count": 38,
      "outputs": [
        {
          "output_type": "stream",
          "name": "stdout",
          "text": [
            "[0.74146341 0.74634146 0.73039216]\n"
          ]
        }
      ]
    },
    {
      "cell_type": "code",
      "source": [
        "print(classification_report(y_test, y_pred_XGB))\n",
        "ConfusionMatrixDisplay.from_predictions(y_test, y_pred_XGB, colorbar=False)"
      ],
      "metadata": {
        "colab": {
          "base_uri": "https://localhost:8080/",
          "height": 459
        },
        "id": "i4QAxCheipSd",
        "outputId": "11eb5df9-4c3b-43f4-9abb-24b1b2151bc5"
      },
      "execution_count": 39,
      "outputs": [
        {
          "output_type": "stream",
          "name": "stdout",
          "text": [
            "              precision    recall  f1-score   support\n",
            "\n",
            "           0       0.80      0.85      0.82        99\n",
            "           1       0.69      0.62      0.65        55\n",
            "\n",
            "    accuracy                           0.77       154\n",
            "   macro avg       0.75      0.73      0.74       154\n",
            "weighted avg       0.76      0.77      0.76       154\n",
            "\n"
          ]
        },
        {
          "output_type": "execute_result",
          "data": {
            "text/plain": [
              "<sklearn.metrics._plot.confusion_matrix.ConfusionMatrixDisplay at 0x7f8fb2384670>"
            ]
          },
          "metadata": {},
          "execution_count": 39
        },
        {
          "output_type": "display_data",
          "data": {
            "text/plain": [
              "<Figure size 432x288 with 1 Axes>"
            ],
            "image/png": "[encoded data removed]"
          },
          "metadata": {}
        }
      ]
    },
    {
      "cell_type": "markdown",
      "source": [
        "### ROC Curve"
      ],
      "metadata": {
        "id": "rzEdxbWm8KKw"
      }
    },
    {
      "cell_type": "code",
      "source": [
        "from sklearn.metrics import roc_curve\n",
        "plt.plot([0,1], [0,1], ':')\n",
        "fpr1, tpr1, thresholds = roc_curve(y_test, y_pred_kNN)\n",
        "plt.plot(fpr1, tpr1, '--', label='kNN')\n",
        "fpr2, tpr2, thresholds = roc_curve(y_test, y_pred_Gaussian)\n",
        "plt.plot(fpr2, tpr2, '--', label='Naive Bayes')\n",
        "fpr3, tpr3, thresholds = roc_curve(y_test, y_pred_SVC)\n",
        "plt.plot(fpr3, tpr3, '--', label='SVM Classifier')\n",
        "fpr4, tpr4, thresholds = roc_curve(y_test, y_pred_log_reg)\n",
        "plt.plot(fpr4, tpr4, '--', label='Logistic Regression')\n",
        "fpr5, tpr5, thresholds = roc_curve(y_test, y_pred_DT)\n",
        "plt.plot(fpr5, tpr5, '--', label='Decision Tree Classifier')\n",
        "fpr6, tpr6, thresholds = roc_curve(y_test, y_pred_RF)\n",
        "plt.plot(fpr6, tpr6, '--', label='Random Forest Classifier')\n",
        "fpr7, tpr7, thresholds = roc_curve(y_test, y_pred_Adaboost)\n",
        "plt.plot(fpr7, tpr7, '--', label='Adaboost Classifier')\n",
        "fpr8, tpr8, thresholds = roc_curve(y_test, y_pred_XGB)\n",
        "plt.plot(fpr8, tpr8, '--', label='XGBoost Classifier')\n",
        "plt.xlabel('False Positive Rate')\n",
        "plt.ylabel('True Positive Rate')\n",
        "plt.legend(bbox_to_anchor = (1.0, 0.5), loc = 'center left')\n",
        "plt.show()"
      ],
      "metadata": {
        "colab": {
          "base_uri": "https://localhost:8080/",
          "height": 285
        },
        "id": "Iwr5crXl8Iyl",
        "outputId": "dacd311f-48d1-4023-f20f-96adcd38e7ad"
      },
      "execution_count": 40,
      "outputs": [
        {
          "output_type": "display_data",
          "data": {
            "text/plain": [
              "<Figure size 432x288 with 1 Axes>"
            ],
            "image/png": "[encoded data removed]"
          },
          "metadata": {}
        }
      ]
    },
    {
      "cell_type": "markdown",
      "source": [
        "### Accuracy Score"
      ],
      "metadata": {
        "id": "l8_sgrjOcZAT"
      }
    },
    {
      "cell_type": "code",
      "source": [
        "accuracy_df = pd.DataFrame()\n",
        "accuracy_df['Classifier'] = ['Decision Tree', 'kNN', 'Naive Bayes', 'SVC', 'Logistic Regression', 'Random Forest', 'AdaBoost', 'XGBoost']\n",
        "accuracy_df['Accuracy'] = [accuracy_score(y_test, y_pred_DT), accuracy_score(y_test, y_pred_kNN), accuracy_score(y_test, y_pred_Gaussian), \n",
        "                           accuracy_score(y_test, y_pred_SVC), accuracy_score(y_test, y_pred_log_reg), accuracy_score(y_test, y_pred_RF),\n",
        "                           accuracy_score(y_test, y_pred_Adaboost), accuracy_score(y_test, y_pred_XGB)]\n",
        "\n",
        "sns.barplot(y = 'Accuracy', x = 'Classifier', data = accuracy_df, order = accuracy_df.sort_values('Accuracy', ascending = False).Classifier)\n",
        "plt.title('Accuracy of the Classifiers')\n",
        "plt.xticks(rotation=90)\n",
        "plt.show()"
      ],
      "metadata": {
        "colab": {
          "base_uri": "https://localhost:8080/",
          "height": 397
        },
        "id": "snRxMfk4be44",
        "outputId": "bd3e2448-6ea4-48f4-a8a9-782b715b4327"
      },
      "execution_count": 41,
      "outputs": [
        {
          "output_type": "display_data",
          "data": {
            "text/plain": [
              "<Figure size 432x288 with 1 Axes>"
            ],
            "image/png": "[encoded data removed]"
          },
          "metadata": {}
        }
      ]
    },
    {
      "cell_type": "markdown",
      "source": [
        "For a better ROC Curve, it is required to balance the dataset, since the target class is NOT Balanced.\n",
        "\n",
        "From the accuracy score, it can be seen that Random Forest, Naive Bayes and XGBoost Classifiers are better of the algorithms implemented. However, in healthcare, we must be cautious about choosing the right classifier, since the false positives and false negatives could have significant consequences on the patient. Thus, it is imperative to improve the ROC Curve."
      ],
      "metadata": {
        "id": "M9wErVo19BN7"
      }
    },
    {
      "cell_type": "markdown",
      "source": [
        "## Balancing the Dataset - Oversampling"
      ],
      "metadata": {
        "id": "aP-3W8jilzeT"
      }
    },
    {
      "cell_type": "code",
      "source": [
        "from imblearn.over_sampling import ADASYN\n",
        "from collections import Counter\n",
        "adasyn = ADASYN()\n",
        "X, Y = adasyn.fit_resample(x, y)\n",
        "Counter(Y)"
      ],
      "metadata": {
        "colab": {
          "base_uri": "https://localhost:8080/"
        },
        "id": "dnHEPxSsl3UI",
        "outputId": "69f13537-ccd4-448f-e404-52fcffff1eda"
      },
      "execution_count": 42,
      "outputs": [
        {
          "output_type": "execute_result",
          "data": {
            "text/plain": [
              "Counter({1: 474, 0: 500})"
            ]
          },
          "metadata": {},
          "execution_count": 42
        }
      ]
    },
    {
      "cell_type": "code",
      "source": [
        "from sklearn.model_selection import train_test_split\n",
        "X_train, X_test, Y_train, Y_test = train_test_split(X, Y, random_state=42, test_size = 0.2)\n",
        "print('x_train shape: ', X_train.shape)\n",
        "print('x_test shape: ', X_test.shape)\n",
        "print('y_train shape: ', Y_train.shape)\n",
        "print('y_test shape: ', Y_test.shape)"
      ],
      "metadata": {
        "colab": {
          "base_uri": "https://localhost:8080/"
        },
        "id": "waoICP-Tc7bR",
        "outputId": "9568aa79-2a22-4e20-c1f2-b6ef3eaa5ff2"
      },
      "execution_count": 43,
      "outputs": [
        {
          "output_type": "stream",
          "name": "stdout",
          "text": [
            "x_train shape:  (779, 8)\n",
            "x_test shape:  (195, 8)\n",
            "y_train shape:  (779,)\n",
            "y_test shape:  (195,)\n"
          ]
        }
      ]
    },
    {
      "cell_type": "markdown",
      "source": [
        "## ML Techniques - Imbalanced Target Class"
      ],
      "metadata": {
        "id": "FAZEkWtYc46Z"
      }
    },
    {
      "cell_type": "markdown",
      "source": [
        "### Support Vector Machine"
      ],
      "metadata": {
        "id": "SgBmpmVrc46b"
      }
    },
    {
      "cell_type": "code",
      "source": [
        "from sklearn.svm import SVC\n",
        "support_vector_balanced = SVC()\n",
        "support_vector_balanced.fit(X_train, Y_train)\n",
        "y_pred_SVC_balanced = support_vector_balanced.predict(X_test)"
      ],
      "metadata": {
        "id": "OwDfbTmNc46c"
      },
      "execution_count": 44,
      "outputs": []
    },
    {
      "cell_type": "code",
      "source": [
        "y_pred_SVC_train_balanced = support_vector_balanced.predict(X_train)\n",
        "print('Accuracy of the training set: ', accuracy_score(Y_train, y_pred_SVC_train_balanced))\n",
        "print('Accuracy of the testing set: ', accuracy_score(Y_test, y_pred_SVC_balanced))"
      ],
      "metadata": {
        "colab": {
          "base_uri": "https://localhost:8080/"
        },
        "outputId": "8ae5ba43-c316-458e-aa32-3ca729e7db69",
        "id": "_sEAAaXbc46c"
      },
      "execution_count": 45,
      "outputs": [
        {
          "output_type": "stream",
          "name": "stdout",
          "text": [
            "Accuracy of the training set:  0.7137355584082157\n",
            "Accuracy of the testing set:  0.6871794871794872\n"
          ]
        }
      ]
    },
    {
      "cell_type": "code",
      "source": [
        "print(classification_report(Y_test, y_pred_SVC_balanced))"
      ],
      "metadata": {
        "colab": {
          "base_uri": "https://localhost:8080/"
        },
        "outputId": "ff02693a-678c-4c07-e674-672462fcf321",
        "id": "0S-BjiC7c46d"
      },
      "execution_count": 46,
      "outputs": [
        {
          "output_type": "stream",
          "name": "stdout",
          "text": [
            "              precision    recall  f1-score   support\n",
            "\n",
            "           0       0.67      0.76      0.71        98\n",
            "           1       0.71      0.62      0.66        97\n",
            "\n",
            "    accuracy                           0.69       195\n",
            "   macro avg       0.69      0.69      0.69       195\n",
            "weighted avg       0.69      0.69      0.69       195\n",
            "\n"
          ]
        }
      ]
    },
    {
      "cell_type": "code",
      "source": [
        "ConfusionMatrixDisplay.from_predictions(Y_test, y_pred_SVC_balanced, colorbar=False)"
      ],
      "metadata": {
        "colab": {
          "base_uri": "https://localhost:8080/",
          "height": 302
        },
        "outputId": "0be1f2bf-5c2a-4e55-890c-1e9d23fbb686",
        "id": "oN9TtjYSc46d"
      },
      "execution_count": 47,
      "outputs": [
        {
          "output_type": "execute_result",
          "data": {
            "text/plain": [
              "<sklearn.metrics._plot.confusion_matrix.ConfusionMatrixDisplay at 0x7f8fa945d4f0>"
            ]
          },
          "metadata": {},
          "execution_count": 47
        },
        {
          "output_type": "display_data",
          "data": {
            "text/plain": [
              "<Figure size 432x288 with 1 Axes>"
            ],
            "image/png": "[encoded data removed]"
          },
          "metadata": {}
        }
      ]
    },
    {
      "cell_type": "markdown",
      "source": [
        "### Logistic Regression"
      ],
      "metadata": {
        "id": "E7ud_DzIc46e"
      }
    },
    {
      "cell_type": "code",
      "source": [
        "from sklearn.linear_model import LogisticRegression\n",
        "log_reg_balanced = LogisticRegression(max_iter = 1000)\n",
        "log_reg_balanced.fit(X_train, Y_train)\n",
        "log_reg_balanced.get_params()"
      ],
      "metadata": {
        "colab": {
          "base_uri": "https://localhost:8080/"
        },
        "outputId": "3d7a8a88-1d76-4e57-895f-beed3a39c1c0",
        "id": "BGKaHyWFc46f"
      },
      "execution_count": 48,
      "outputs": [
        {
          "output_type": "execute_result",
          "data": {
            "text/plain": [
              "{'C': 1.0,\n",
              " 'class_weight': None,\n",
              " 'dual': False,\n",
              " 'fit_intercept': True,\n",
              " 'intercept_scaling': 1,\n",
              " 'l1_ratio': None,\n",
              " 'max_iter': 1000,\n",
              " 'multi_class': 'auto',\n",
              " 'n_jobs': None,\n",
              " 'penalty': 'l2',\n",
              " 'random_state': None,\n",
              " 'solver': 'lbfgs',\n",
              " 'tol': 0.0001,\n",
              " 'verbose': 0,\n",
              " 'warm_start': False}"
            ]
          },
          "metadata": {},
          "execution_count": 48
        }
      ]
    },
    {
      "cell_type": "code",
      "source": [
        "y_pred_log_reg_balanced = log_reg_balanced.predict(X_test)\n",
        "y_pred_log_reg_train_balanced = log_reg_balanced.predict(X_train)\n",
        "print('Accuracy of the training set: ', accuracy_score(Y_train, y_pred_log_reg_train_balanced))\n",
        "print('Accuracy of the testing set: ', accuracy_score(Y_test, y_pred_log_reg_balanced))"
      ],
      "metadata": {
        "colab": {
          "base_uri": "https://localhost:8080/"
        },
        "id": "7ct9d-zwc46f",
        "outputId": "4b586e66-ebc2-4968-d79a-2d9ed2eda70f"
      },
      "execution_count": 49,
      "outputs": [
        {
          "output_type": "stream",
          "name": "stdout",
          "text": [
            "Accuracy of the training set:  0.7368421052631579\n",
            "Accuracy of the testing set:  0.6974358974358974\n"
          ]
        }
      ]
    },
    {
      "cell_type": "code",
      "source": [
        "print(classification_report(Y_test, y_pred_log_reg_balanced))"
      ],
      "metadata": {
        "colab": {
          "base_uri": "https://localhost:8080/"
        },
        "outputId": "61a7b41c-e365-42d8-9058-d527dd3c6510",
        "id": "CSYBxuQMc46g"
      },
      "execution_count": 50,
      "outputs": [
        {
          "output_type": "stream",
          "name": "stdout",
          "text": [
            "              precision    recall  f1-score   support\n",
            "\n",
            "           0       0.68      0.74      0.71        98\n",
            "           1       0.72      0.65      0.68        97\n",
            "\n",
            "    accuracy                           0.70       195\n",
            "   macro avg       0.70      0.70      0.70       195\n",
            "weighted avg       0.70      0.70      0.70       195\n",
            "\n"
          ]
        }
      ]
    },
    {
      "cell_type": "code",
      "source": [
        "ConfusionMatrixDisplay.from_predictions(Y_test, y_pred_log_reg_balanced, colorbar=False)"
      ],
      "metadata": {
        "colab": {
          "base_uri": "https://localhost:8080/",
          "height": 302
        },
        "outputId": "7cc40468-d449-4e07-f5d6-1f2f204a20c4",
        "id": "FtzmnoM7c46h"
      },
      "execution_count": 51,
      "outputs": [
        {
          "output_type": "execute_result",
          "data": {
            "text/plain": [
              "<sklearn.metrics._plot.confusion_matrix.ConfusionMatrixDisplay at 0x7f8fa909ed60>"
            ]
          },
          "metadata": {},
          "execution_count": 51
        },
        {
          "output_type": "display_data",
          "data": {
            "text/plain": [
              "<Figure size 432x288 with 1 Axes>"
            ],
            "image/png": "[encoded data removed]"
          },
          "metadata": {}
        }
      ]
    },
    {
      "cell_type": "markdown",
      "source": [
        "### Naive Bayes"
      ],
      "metadata": {
        "id": "t6OskHsEc46h"
      }
    },
    {
      "cell_type": "code",
      "source": [
        "from sklearn.naive_bayes import GaussianNB\n",
        "Gaussian_balanced = GaussianNB()\n",
        "Gaussian_balanced.fit(X_train, Y_train)\n",
        "Gaussian_balanced.get_params()"
      ],
      "metadata": {
        "colab": {
          "base_uri": "https://localhost:8080/"
        },
        "outputId": "04520d38-4a37-4c52-8214-16ab2a40d560",
        "id": "jGUDVQHsc46h"
      },
      "execution_count": 52,
      "outputs": [
        {
          "output_type": "execute_result",
          "data": {
            "text/plain": [
              "{'priors': None, 'var_smoothing': 1e-09}"
            ]
          },
          "metadata": {},
          "execution_count": 52
        }
      ]
    },
    {
      "cell_type": "code",
      "source": [
        "y_pred_Gaussian_balanced = Gaussian_balanced.predict(X_test)\n",
        "y_pred_Gaussian_train_balanced = Gaussian_balanced.predict(X_train)\n",
        "print('Accuracy of the training set: ', accuracy_score(Y_train, y_pred_Gaussian_train_balanced))\n",
        "print('Accuracy of the testing set: ', accuracy_score(Y_test, y_pred_Gaussian_balanced))"
      ],
      "metadata": {
        "colab": {
          "base_uri": "https://localhost:8080/"
        },
        "id": "sfDTpz2Ac46i",
        "outputId": "2953430a-b934-4786-b98d-565d56a1ff8a"
      },
      "execution_count": 53,
      "outputs": [
        {
          "output_type": "stream",
          "name": "stdout",
          "text": [
            "Accuracy of the training set:  0.7034659820282413\n",
            "Accuracy of the testing set:  0.7384615384615385\n"
          ]
        }
      ]
    },
    {
      "cell_type": "code",
      "source": [
        "print(classification_report(Y_test, y_pred_Gaussian_balanced))\n",
        "ConfusionMatrixDisplay.from_predictions(Y_test, y_pred_Gaussian_balanced, colorbar=False)"
      ],
      "metadata": {
        "colab": {
          "base_uri": "https://localhost:8080/",
          "height": 459
        },
        "outputId": "c8511e3e-f459-495b-be4c-1a7736a9ca67",
        "id": "51Kj5-Phc46j"
      },
      "execution_count": 54,
      "outputs": [
        {
          "output_type": "stream",
          "name": "stdout",
          "text": [
            "              precision    recall  f1-score   support\n",
            "\n",
            "           0       0.70      0.83      0.76        98\n",
            "           1       0.79      0.65      0.71        97\n",
            "\n",
            "    accuracy                           0.74       195\n",
            "   macro avg       0.75      0.74      0.74       195\n",
            "weighted avg       0.75      0.74      0.74       195\n",
            "\n"
          ]
        },
        {
          "output_type": "execute_result",
          "data": {
            "text/plain": [
              "<sklearn.metrics._plot.confusion_matrix.ConfusionMatrixDisplay at 0x7f8fa90cde80>"
            ]
          },
          "metadata": {},
          "execution_count": 54
        },
        {
          "output_type": "display_data",
          "data": {
            "text/plain": [
              "<Figure size 432x288 with 1 Axes>"
            ],
            "image/png": "[encoded data removed]"
          },
          "metadata": {}
        }
      ]
    },
    {
      "cell_type": "markdown",
      "source": [
        "### k-Neighbours Classifier\n",
        "\n",
        "We can quickly tweak the n_neighbors to prevent overfitting."
      ],
      "metadata": {
        "id": "xt7xuZMKc46j"
      }
    },
    {
      "cell_type": "code",
      "source": [
        "from sklearn.neighbors import KNeighborsClassifier\n",
        "kNN_balanced = KNeighborsClassifier(n_neighbors = 10)\n",
        "kNN_balanced.fit(X_train, Y_train)\n",
        "kNN_balanced.get_params()"
      ],
      "metadata": {
        "colab": {
          "base_uri": "https://localhost:8080/"
        },
        "outputId": "c69f3326-cf7d-492d-9488-a23bbb886549",
        "id": "zaeOc9Hqc46k"
      },
      "execution_count": 55,
      "outputs": [
        {
          "output_type": "execute_result",
          "data": {
            "text/plain": [
              "{'algorithm': 'auto',\n",
              " 'leaf_size': 30,\n",
              " 'metric': 'minkowski',\n",
              " 'metric_params': None,\n",
              " 'n_jobs': None,\n",
              " 'n_neighbors': 10,\n",
              " 'p': 2,\n",
              " 'weights': 'uniform'}"
            ]
          },
          "metadata": {},
          "execution_count": 55
        }
      ]
    },
    {
      "cell_type": "code",
      "source": [
        "y_pred_kNN_balanced = kNN_balanced.predict(X_test)\n",
        "y_pred_kNN_train_balanced = kNN_balanced.predict(X_train)\n",
        "print('Accuracy of the training set: ', accuracy_score(Y_train, y_pred_kNN_train_balanced))\n",
        "print('Accuracy of the testing set: ', accuracy_score(Y_test, y_pred_kNN_balanced))"
      ],
      "metadata": {
        "colab": {
          "base_uri": "https://localhost:8080/"
        },
        "outputId": "a3a15b8e-9201-41fc-8c63-be085c7475cf",
        "id": "jYcUoOXxc46k"
      },
      "execution_count": 56,
      "outputs": [
        {
          "output_type": "stream",
          "name": "stdout",
          "text": [
            "Accuracy of the training set:  0.7637997432605905\n",
            "Accuracy of the testing set:  0.7128205128205128\n"
          ]
        }
      ]
    },
    {
      "cell_type": "code",
      "source": [
        "print(classification_report(Y_test, y_pred_kNN_balanced))\n",
        "ConfusionMatrixDisplay.from_predictions(Y_test, y_pred_kNN_balanced, colorbar=False)"
      ],
      "metadata": {
        "colab": {
          "base_uri": "https://localhost:8080/",
          "height": 459
        },
        "outputId": "3a1164c3-6d45-4559-c826-8dc4902c480c",
        "id": "dW6MEOSoc46l"
      },
      "execution_count": 57,
      "outputs": [
        {
          "output_type": "stream",
          "name": "stdout",
          "text": [
            "              precision    recall  f1-score   support\n",
            "\n",
            "           0       0.71      0.71      0.71        98\n",
            "           1       0.71      0.71      0.71        97\n",
            "\n",
            "    accuracy                           0.71       195\n",
            "   macro avg       0.71      0.71      0.71       195\n",
            "weighted avg       0.71      0.71      0.71       195\n",
            "\n"
          ]
        },
        {
          "output_type": "execute_result",
          "data": {
            "text/plain": [
              "<sklearn.metrics._plot.confusion_matrix.ConfusionMatrixDisplay at 0x7f8fa90e1460>"
            ]
          },
          "metadata": {},
          "execution_count": 57
        },
        {
          "output_type": "display_data",
          "data": {
            "text/plain": [
              "<Figure size 432x288 with 1 Axes>"
            ],
            "image/png": "[encoded data removed]"
          },
          "metadata": {}
        }
      ]
    },
    {
      "cell_type": "markdown",
      "source": [
        "### Decision Tree Classifier\n",
        "\n",
        "We limit the *max_depth* since this is a small dataset, in order to avoid overfitting."
      ],
      "metadata": {
        "id": "--mAn3adc46l"
      }
    },
    {
      "cell_type": "code",
      "source": [
        "from sklearn.tree import DecisionTreeClassifier\n",
        "DT_classifier_balanced = DecisionTreeClassifier(max_depth=4)\n",
        "DT_classifier_balanced.fit(X_train, Y_train)\n",
        "DT_classifier_balanced.get_params()"
      ],
      "metadata": {
        "colab": {
          "base_uri": "https://localhost:8080/"
        },
        "outputId": "0b62b7ab-5a47-413d-942c-d6494fe5b7b6",
        "id": "aLN3fel_c46m"
      },
      "execution_count": 58,
      "outputs": [
        {
          "output_type": "execute_result",
          "data": {
            "text/plain": [
              "{'ccp_alpha': 0.0,\n",
              " 'class_weight': None,\n",
              " 'criterion': 'gini',\n",
              " 'max_depth': 4,\n",
              " 'max_features': None,\n",
              " 'max_leaf_nodes': None,\n",
              " 'min_impurity_decrease': 0.0,\n",
              " 'min_samples_leaf': 1,\n",
              " 'min_samples_split': 2,\n",
              " 'min_weight_fraction_leaf': 0.0,\n",
              " 'random_state': None,\n",
              " 'splitter': 'best'}"
            ]
          },
          "metadata": {},
          "execution_count": 58
        }
      ]
    },
    {
      "cell_type": "code",
      "source": [
        "y_pred_DT_balanced = DT_classifier_balanced.predict(X_test)\n",
        "y_pred_DT_train_balanced = DT_classifier_balanced.predict(X_train)\n",
        "print('Accuracy of the training set: ', accuracy_score(Y_train, y_pred_DT_train_balanced))\n",
        "print('Accuracy of the testing set: ', accuracy_score(Y_test, y_pred_DT_balanced))"
      ],
      "metadata": {
        "colab": {
          "base_uri": "https://localhost:8080/"
        },
        "outputId": "2af46683-7f52-4323-cb60-1fe440880858",
        "id": "PQNVHiJic46m"
      },
      "execution_count": 59,
      "outputs": [
        {
          "output_type": "stream",
          "name": "stdout",
          "text": [
            "Accuracy of the training set:  0.7958921694480102\n",
            "Accuracy of the testing set:  0.7128205128205128\n"
          ]
        }
      ]
    },
    {
      "cell_type": "code",
      "source": [
        "print(classification_report(Y_test, y_pred_DT_balanced))\n",
        "ConfusionMatrixDisplay.from_predictions(Y_test, y_pred_DT_balanced, colorbar=False)"
      ],
      "metadata": {
        "colab": {
          "base_uri": "https://localhost:8080/",
          "height": 459
        },
        "outputId": "38c189b2-43ab-4fe1-83af-66495232fcf4",
        "id": "EnzduOhEc46o"
      },
      "execution_count": 60,
      "outputs": [
        {
          "output_type": "stream",
          "name": "stdout",
          "text": [
            "              precision    recall  f1-score   support\n",
            "\n",
            "           0       0.71      0.71      0.71        98\n",
            "           1       0.71      0.71      0.71        97\n",
            "\n",
            "    accuracy                           0.71       195\n",
            "   macro avg       0.71      0.71      0.71       195\n",
            "weighted avg       0.71      0.71      0.71       195\n",
            "\n"
          ]
        },
        {
          "output_type": "execute_result",
          "data": {
            "text/plain": [
              "<sklearn.metrics._plot.confusion_matrix.ConfusionMatrixDisplay at 0x7f8fa8f7d790>"
            ]
          },
          "metadata": {},
          "execution_count": 60
        },
        {
          "output_type": "display_data",
          "data": {
            "text/plain": [
              "<Figure size 432x288 with 1 Axes>"
            ],
            "image/png": "[encoded data removed]"
          },
          "metadata": {}
        }
      ]
    },
    {
      "cell_type": "markdown",
      "source": [
        "### Random Forest Classifier\n",
        "\n",
        "We limit the max_depth since this is a small dataset, in order to avoid overfitting."
      ],
      "metadata": {
        "id": "EMTxmnG6c46o"
      }
    },
    {
      "cell_type": "code",
      "source": [
        "from sklearn.ensemble import RandomForestClassifier\n",
        "RF_classifier_balanced = RandomForestClassifier(max_depth=4)\n",
        "RF_classifier_balanced.fit(X_train, Y_train)\n",
        "RF_classifier_balanced.get_params()"
      ],
      "metadata": {
        "colab": {
          "base_uri": "https://localhost:8080/"
        },
        "outputId": "e16f84b1-d401-4c60-efa6-3c2119488632",
        "id": "6FyBRL7zc46p"
      },
      "execution_count": 61,
      "outputs": [
        {
          "output_type": "execute_result",
          "data": {
            "text/plain": [
              "{'bootstrap': True,\n",
              " 'ccp_alpha': 0.0,\n",
              " 'class_weight': None,\n",
              " 'criterion': 'gini',\n",
              " 'max_depth': 4,\n",
              " 'max_features': 'auto',\n",
              " 'max_leaf_nodes': None,\n",
              " 'max_samples': None,\n",
              " 'min_impurity_decrease': 0.0,\n",
              " 'min_samples_leaf': 1,\n",
              " 'min_samples_split': 2,\n",
              " 'min_weight_fraction_leaf': 0.0,\n",
              " 'n_estimators': 100,\n",
              " 'n_jobs': None,\n",
              " 'oob_score': False,\n",
              " 'random_state': None,\n",
              " 'verbose': 0,\n",
              " 'warm_start': False}"
            ]
          },
          "metadata": {},
          "execution_count": 61
        }
      ]
    },
    {
      "cell_type": "code",
      "source": [
        "y_pred_RF_balanced = RF_classifier_balanced.predict(X_test)\n",
        "y_pred_RF_train_balanced = RF_classifier_balanced.predict(X_train)\n",
        "print('Accuracy of the training set: ', accuracy_score(Y_train, y_pred_RF_train_balanced))\n",
        "print('Accuracy of the testing set: ', accuracy_score(Y_test, y_pred_RF_balanced))"
      ],
      "metadata": {
        "colab": {
          "base_uri": "https://localhost:8080/"
        },
        "outputId": "4b03f755-0c90-41a0-965e-79a39aeabee6",
        "id": "f5OG2FGKc46p"
      },
      "execution_count": 62,
      "outputs": [
        {
          "output_type": "stream",
          "name": "stdout",
          "text": [
            "Accuracy of the training set:  0.8215661103979461\n",
            "Accuracy of the testing set:  0.7589743589743589\n"
          ]
        }
      ]
    },
    {
      "cell_type": "code",
      "source": [
        "print(classification_report(Y_test, y_pred_RF_balanced))\n",
        "ConfusionMatrixDisplay.from_predictions(Y_test, y_pred_RF_balanced, colorbar=False)"
      ],
      "metadata": {
        "colab": {
          "base_uri": "https://localhost:8080/",
          "height": 459
        },
        "outputId": "a6e34977-4cc5-491c-d0fe-5a5bedb7feb4",
        "id": "1e74-w05c46q"
      },
      "execution_count": 63,
      "outputs": [
        {
          "output_type": "stream",
          "name": "stdout",
          "text": [
            "              precision    recall  f1-score   support\n",
            "\n",
            "           0       0.76      0.76      0.76        98\n",
            "           1       0.76      0.76      0.76        97\n",
            "\n",
            "    accuracy                           0.76       195\n",
            "   macro avg       0.76      0.76      0.76       195\n",
            "weighted avg       0.76      0.76      0.76       195\n",
            "\n"
          ]
        },
        {
          "output_type": "execute_result",
          "data": {
            "text/plain": [
              "<sklearn.metrics._plot.confusion_matrix.ConfusionMatrixDisplay at 0x7f8fa8fea2e0>"
            ]
          },
          "metadata": {},
          "execution_count": 63
        },
        {
          "output_type": "display_data",
          "data": {
            "text/plain": [
              "<Figure size 432x288 with 1 Axes>"
            ],
            "image/png": "[encoded data removed]"
          },
          "metadata": {}
        }
      ]
    },
    {
      "cell_type": "markdown",
      "source": [
        "### AdaBoost Classifier\n",
        "\n",
        "We limit the learning_rate, since it can lead to overfitting."
      ],
      "metadata": {
        "id": "51jBkLF9c46q"
      }
    },
    {
      "cell_type": "code",
      "source": [
        "from sklearn.ensemble import AdaBoostClassifier\n",
        "adaboost_balanced = AdaBoostClassifier(learning_rate=0.01)\n",
        "adaboost_balanced.fit(X_train, Y_train)\n",
        "adaboost_balanced.get_params()"
      ],
      "metadata": {
        "colab": {
          "base_uri": "https://localhost:8080/"
        },
        "outputId": "2e700227-97d4-4174-a643-2fe3844d0c3b",
        "id": "L0Z18TtHc46r"
      },
      "execution_count": 64,
      "outputs": [
        {
          "output_type": "execute_result",
          "data": {
            "text/plain": [
              "{'algorithm': 'SAMME.R',\n",
              " 'base_estimator': None,\n",
              " 'learning_rate': 0.01,\n",
              " 'n_estimators': 50,\n",
              " 'random_state': None}"
            ]
          },
          "metadata": {},
          "execution_count": 64
        }
      ]
    },
    {
      "cell_type": "code",
      "source": [
        "y_pred_Adaboost_balanced = adaboost_balanced.predict(X_test)\n",
        "print('Accuracy of the training set: ', adaboost_balanced.score(X_train, Y_train))\n",
        "print('Accuracy of the testing set: ', accuracy_score(Y_test, y_pred_Adaboost_balanced))"
      ],
      "metadata": {
        "colab": {
          "base_uri": "https://localhost:8080/"
        },
        "outputId": "d1a3db1e-f176-4dcd-d244-0a378e4de0f7",
        "id": "UYH21TgMc46r"
      },
      "execution_count": 65,
      "outputs": [
        {
          "output_type": "stream",
          "name": "stdout",
          "text": [
            "Accuracy of the training set:  0.7291399229781772\n",
            "Accuracy of the testing set:  0.6974358974358974\n"
          ]
        }
      ]
    },
    {
      "cell_type": "markdown",
      "source": [
        "No overfitting issues here."
      ],
      "metadata": {
        "id": "sifYJMSwc46s"
      }
    },
    {
      "cell_type": "code",
      "source": [
        "print(classification_report(Y_test, y_pred_Adaboost_balanced))\n",
        "ConfusionMatrixDisplay.from_predictions(Y_test, y_pred_Adaboost_balanced, colorbar=False)"
      ],
      "metadata": {
        "colab": {
          "base_uri": "https://localhost:8080/",
          "height": 459
        },
        "outputId": "dbbacb49-c40d-44d5-84af-7e5a6467f0e5",
        "id": "DCCOXhZMc46s"
      },
      "execution_count": 66,
      "outputs": [
        {
          "output_type": "stream",
          "name": "stdout",
          "text": [
            "              precision    recall  f1-score   support\n",
            "\n",
            "           0       0.72      0.65      0.68        98\n",
            "           1       0.68      0.74      0.71        97\n",
            "\n",
            "    accuracy                           0.70       195\n",
            "   macro avg       0.70      0.70      0.70       195\n",
            "weighted avg       0.70      0.70      0.70       195\n",
            "\n"
          ]
        },
        {
          "output_type": "execute_result",
          "data": {
            "text/plain": [
              "<sklearn.metrics._plot.confusion_matrix.ConfusionMatrixDisplay at 0x7f8fa8f11b50>"
            ]
          },
          "metadata": {},
          "execution_count": 66
        },
        {
          "output_type": "display_data",
          "data": {
            "text/plain": [
              "<Figure size 432x288 with 1 Axes>"
            ],
            "image/png": "[encoded data removed]"
          },
          "metadata": {}
        }
      ]
    },
    {
      "cell_type": "markdown",
      "source": [
        "### XGBoost Classifier\n",
        "\n",
        "We limit the n_estimators and the learning_rate."
      ],
      "metadata": {
        "id": "qlVPSEM-c46t"
      }
    },
    {
      "cell_type": "code",
      "source": [
        "from xgboost import XGBClassifier\n",
        "xgb_classifier_balanced = XGBClassifier(n_estimators=50, learning_rate = 0.01)\n",
        "xgb_classifier_balanced.fit(X_train, Y_train)\n",
        "xgb_classifier_balanced.get_params()"
      ],
      "metadata": {
        "colab": {
          "base_uri": "https://localhost:8080/"
        },
        "outputId": "ea1edf64-a456-497e-e65e-e58cf1829c4b",
        "id": "hQwn1aZpc46t"
      },
      "execution_count": 67,
      "outputs": [
        {
          "output_type": "execute_result",
          "data": {
            "text/plain": [
              "{'base_score': 0.5,\n",
              " 'booster': 'gbtree',\n",
              " 'colsample_bylevel': 1,\n",
              " 'colsample_bynode': 1,\n",
              " 'colsample_bytree': 1,\n",
              " 'gamma': 0,\n",
              " 'learning_rate': 0.01,\n",
              " 'max_delta_step': 0,\n",
              " 'max_depth': 3,\n",
              " 'min_child_weight': 1,\n",
              " 'missing': None,\n",
              " 'n_estimators': 50,\n",
              " 'n_jobs': 1,\n",
              " 'nthread': None,\n",
              " 'objective': 'binary:logistic',\n",
              " 'random_state': 0,\n",
              " 'reg_alpha': 0,\n",
              " 'reg_lambda': 1,\n",
              " 'scale_pos_weight': 1,\n",
              " 'seed': None,\n",
              " 'silent': None,\n",
              " 'subsample': 1,\n",
              " 'verbosity': 1}"
            ]
          },
          "metadata": {},
          "execution_count": 67
        }
      ]
    },
    {
      "cell_type": "code",
      "source": [
        "y_pred_XGB_balanced = xgb_classifier_balanced.predict(X_test)\n",
        "print('Accuracy of the training set: ', xgb_classifier_balanced.score(X_train, Y_train))\n",
        "print('Accuracy of the testing set: ', accuracy_score(Y_test, y_pred_XGB_balanced))"
      ],
      "metadata": {
        "colab": {
          "base_uri": "https://localhost:8080/"
        },
        "outputId": "a33f90b0-ae92-4408-95dd-febf3538295e",
        "id": "kjket3zRc46t"
      },
      "execution_count": 68,
      "outputs": [
        {
          "output_type": "stream",
          "name": "stdout",
          "text": [
            "Accuracy of the training set:  0.7971758664955071\n",
            "Accuracy of the testing set:  0.7333333333333333\n"
          ]
        }
      ]
    },
    {
      "cell_type": "code",
      "source": [
        "from sklearn.model_selection import cross_val_score\n",
        "print(cross_val_score(xgb_classifier_balanced, X_train, Y_train, cv=3))"
      ],
      "metadata": {
        "colab": {
          "base_uri": "https://localhost:8080/"
        },
        "outputId": "441c1008-2ffa-4d24-84da-3fe89849f1f0",
        "id": "Q06Ahqu4c46u"
      },
      "execution_count": 69,
      "outputs": [
        {
          "output_type": "stream",
          "name": "stdout",
          "text": [
            "[0.75384615 0.73461538 0.75289575]\n"
          ]
        }
      ]
    },
    {
      "cell_type": "code",
      "source": [
        "print(classification_report(Y_test, y_pred_XGB_balanced))\n",
        "ConfusionMatrixDisplay.from_predictions(Y_test, y_pred_XGB_balanced, colorbar=False)"
      ],
      "metadata": {
        "colab": {
          "base_uri": "https://localhost:8080/",
          "height": 459
        },
        "outputId": "45a24c75-951d-4cb2-dfca-b8041e003c84",
        "id": "BJ8OkQORc46u"
      },
      "execution_count": 70,
      "outputs": [
        {
          "output_type": "stream",
          "name": "stdout",
          "text": [
            "              precision    recall  f1-score   support\n",
            "\n",
            "           0       0.74      0.72      0.73        98\n",
            "           1       0.73      0.74      0.73        97\n",
            "\n",
            "    accuracy                           0.73       195\n",
            "   macro avg       0.73      0.73      0.73       195\n",
            "weighted avg       0.73      0.73      0.73       195\n",
            "\n"
          ]
        },
        {
          "output_type": "execute_result",
          "data": {
            "text/plain": [
              "<sklearn.metrics._plot.confusion_matrix.ConfusionMatrixDisplay at 0x7f8fb2b13f10>"
            ]
          },
          "metadata": {},
          "execution_count": 70
        },
        {
          "output_type": "display_data",
          "data": {
            "text/plain": [
              "<Figure size 432x288 with 1 Axes>"
            ],
            "image/png": "[encoded data removed]"
          },
          "metadata": {}
        }
      ]
    },
    {
      "cell_type": "markdown",
      "source": [
        "### ROC Curve"
      ],
      "metadata": {
        "id": "81ziDAu-lsEd"
      }
    },
    {
      "cell_type": "code",
      "source": [
        "plt.plot([0,1], [0,1], ':')\n",
        "fpr1, tpr1, thresholds = roc_curve(Y_test, y_pred_kNN_balanced)\n",
        "plt.plot(fpr1, tpr1, '--', label='kNN')\n",
        "fpr2, tpr2, thresholds = roc_curve(Y_test, y_pred_Gaussian_balanced)\n",
        "plt.plot(fpr2, tpr2, '--', label='Naive Bayes')\n",
        "fpr3, tpr3, thresholds = roc_curve(Y_test, y_pred_SVC_balanced)\n",
        "plt.plot(fpr3, tpr3, '--', label='SVM Classifier')\n",
        "fpr4, tpr4, thresholds = roc_curve(Y_test, y_pred_log_reg_balanced)\n",
        "plt.plot(fpr4, tpr4, '--', label='Logistic Regression')\n",
        "fpr5, tpr5, thresholds = roc_curve(Y_test, y_pred_DT_balanced)\n",
        "plt.plot(fpr5, tpr5, '--', label='Decision Tree Classifier')\n",
        "fpr6, tpr6, thresholds = roc_curve(Y_test, y_pred_RF_balanced)\n",
        "plt.plot(fpr6, tpr6, '--', label='Random Forest Classifier')\n",
        "fpr7, tpr7, thresholds = roc_curve(Y_test, y_pred_Adaboost_balanced)\n",
        "plt.plot(fpr7, tpr7, '--', label='Adaboost Classifier')\n",
        "fpr8, tpr8, thresholds = roc_curve(Y_test, y_pred_XGB_balanced)\n",
        "plt.plot(fpr8, tpr8, '--', label='XGBoost Classifier')\n",
        "plt.xlabel('False Positive Rate')\n",
        "plt.ylabel('True Positive Rate')\n",
        "plt.legend(bbox_to_anchor = (1.0, 0.5), loc = 'center left')\n",
        "plt.show()"
      ],
      "metadata": {
        "colab": {
          "base_uri": "https://localhost:8080/",
          "height": 285
        },
        "id": "ubi6szYelbPe",
        "outputId": "14d198d9-769b-4036-867c-4f851f883fa7"
      },
      "execution_count": 71,
      "outputs": [
        {
          "output_type": "display_data",
          "data": {
            "text/plain": [
              "<Figure size 432x288 with 1 Axes>"
            ],
            "image/png": "[encoded data removed]"
          },
          "metadata": {}
        }
      ]
    },
    {
      "cell_type": "markdown",
      "source": [
        "### Accuracy Score"
      ],
      "metadata": {
        "id": "tOkG8KBvmEsW"
      }
    },
    {
      "cell_type": "code",
      "source": [
        "accuracy_df = pd.DataFrame()\n",
        "accuracy_df['Classifier'] = ['Decision Tree', 'kNN', 'Naive Bayes', 'SVC', 'Logistic Regression', 'Random Forest', 'AdaBoost', 'XGBoost']\n",
        "accuracy_df['Accuracy'] = [accuracy_score(Y_test, y_pred_DT_balanced), accuracy_score(Y_test, y_pred_kNN_balanced), \n",
        "                           accuracy_score(Y_test, y_pred_Gaussian_balanced), accuracy_score(Y_test, y_pred_SVC_balanced), \n",
        "                           accuracy_score(Y_test, y_pred_log_reg_balanced), accuracy_score(Y_test, y_pred_RF_balanced),\n",
        "                           accuracy_score(Y_test, y_pred_Adaboost_balanced), accuracy_score(Y_test, y_pred_XGB_balanced)]\n",
        "\n",
        "sns.barplot(y = 'Accuracy', x = 'Classifier', data = accuracy_df, order = accuracy_df.sort_values('Accuracy', ascending = False).Classifier)\n",
        "plt.title('Accuracy of the Classifiers')\n",
        "plt.xticks(rotation=90)\n",
        "plt.show()"
      ],
      "metadata": {
        "colab": {
          "base_uri": "https://localhost:8080/",
          "height": 397
        },
        "id": "Kbo7BWRdmAva",
        "outputId": "37d7ad3d-77fa-4ec3-feae-5e9625ee12af"
      },
      "execution_count": 72,
      "outputs": [
        {
          "output_type": "display_data",
          "data": {
            "text/plain": [
              "<Figure size 432x288 with 1 Axes>"
            ],
            "image/png": "[encoded data removed]"
          },
          "metadata": {}
        }
      ]
    },
    {
      "cell_type": "markdown",
      "source": [
        "Amongst the ML techniques implemented, we can see that Random Forest, Decision Tree, Naive Bayes and XGBoost Classifiers perform upto and close to 80% accuracy. We can also visualize from the ROC Curve that there is a slight improvement from when the target class was imbalanced. Balancing the dataset has little influence on the overall ROC Curve. For better ROC Curve and its respective characteristics, pruning of the Random Forests and Decision Tree Classifiers can be suggested. "
      ],
      "metadata": {
        "id": "yba7rnhTmcgO"
      }
    }
  ]
}