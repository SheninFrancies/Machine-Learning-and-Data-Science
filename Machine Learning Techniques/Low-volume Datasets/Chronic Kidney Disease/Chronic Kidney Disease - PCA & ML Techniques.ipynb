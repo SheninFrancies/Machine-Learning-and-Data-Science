{
  "nbformat": 4,
  "nbformat_minor": 0,
  "metadata": {
    "colab": {
      "provenance": [],
      "toc_visible": true
    },
    "kernelspec": {
      "name": "python3",
      "display_name": "Python 3"
    },
    "language_info": {
      "name": "python"
    }
  },
  "cells": [
    {
      "cell_type": "markdown",
      "source": [
        "# Chronic Kidney Disease - ML Techniques & PCA"
      ],
      "metadata": {
        "id": "3GfV01hrb_D0"
      }
    },
    {
      "cell_type": "code",
      "execution_count": 1,
      "metadata": {
        "id": "lMBQ9RTPoI4Y"
      },
      "outputs": [],
      "source": [
        "import pandas as pd\n",
        "import numpy as np\n",
        "import matplotlib.pyplot as plt\n",
        "import seaborn as sns\n",
        "sns.set()"
      ]
    },
    {
      "cell_type": "code",
      "source": [
        "data = pd.read_csv(r'/content/drive/MyDrive/Colab Notebooks/Machine Learning/Data Training/Chronic Kidney Disease/Chronic Kidney Disease Preprocessed.csv')\n",
        "data.head()"
      ],
      "metadata": {
        "colab": {
          "base_uri": "https://localhost:8080/",
          "height": 352
        },
        "id": "HK0uQ7f7rY1H",
        "outputId": "91b120f7-b9e1-48f0-b284-dc88070ad0ae"
      },
      "execution_count": 2,
      "outputs": [
        {
          "output_type": "execute_result",
          "data": {
            "text/plain": [
              "    Age  Blood Pressure  Specific Gravity  Albumin  Sugar  Red Blood Cells  \\\n",
              "0  48.0            80.0             1.020      1.0    0.0                1   \n",
              "1   7.0            50.0             1.020      4.0    0.0                1   \n",
              "2  62.0            80.0             1.010      2.0    3.0                1   \n",
              "3  48.0            70.0             1.005      4.0    0.0                1   \n",
              "4  51.0            80.0             1.010      2.0    0.0                1   \n",
              "\n",
              "   Pus Cells  Pus Cell Clumps  Bacteria  Blood Glucose Random  ...  \\\n",
              "0          1                0         0                 121.0  ...   \n",
              "1          1                0         0                  99.0  ...   \n",
              "2          1                0         0                 423.0  ...   \n",
              "3          0                1         0                 117.0  ...   \n",
              "4          1                0         0                 106.0  ...   \n",
              "\n",
              "   Packed Cell Volume  White Blood Cells  Red Blood Cells Count  Hypertension  \\\n",
              "0                44.0             7800.0                    5.2             1   \n",
              "1                38.0             6000.0                    5.2             0   \n",
              "2                31.0             7500.0                    5.2             0   \n",
              "3                32.0             6700.0                    3.9             1   \n",
              "4                35.0             7300.0                    4.6             0   \n",
              "\n",
              "   Diabetes Mellitus  Coronary Artery Disease  Appetite  Pedal Edema  Anemia  \\\n",
              "0                  1                        0         0            0       0   \n",
              "1                  0                        0         0            0       0   \n",
              "2                  1                        0         1            0       1   \n",
              "3                  0                        0         1            1       1   \n",
              "4                  0                        0         0            0       0   \n",
              "\n",
              "   Chronic Kidney Disease  \n",
              "0                     ckd  \n",
              "1                     ckd  \n",
              "2                     ckd  \n",
              "3                     ckd  \n",
              "4                     ckd  \n",
              "\n",
              "[5 rows x 25 columns]"
            ],
            "text/html": [
              "\n",
              "  <div id=\"df-eefa8da0-c6a7-4891-a36e-186bf17ed9d5\">\n",
              "    <div class=\"colab-df-container\">\n",
              "      <div>\n",
              "<style scoped>\n",
              "    .dataframe tbody tr th:only-of-type {\n",
              "        vertical-align: middle;\n",
              "    }\n",
              "\n",
              "    .dataframe tbody tr th {\n",
              "        vertical-align: top;\n",
              "    }\n",
              "\n",
              "    .dataframe thead th {\n",
              "        text-align: right;\n",
              "    }\n",
              "</style>\n",
              "<table border=\"1\" class=\"dataframe\">\n",
              "  <thead>\n",
              "    <tr style=\"text-align: right;\">\n",
              "      <th></th>\n",
              "      <th>Age</th>\n",
              "      <th>Blood Pressure</th>\n",
              "      <th>Specific Gravity</th>\n",
              "      <th>Albumin</th>\n",
              "      <th>Sugar</th>\n",
              "      <th>Red Blood Cells</th>\n",
              "      <th>Pus Cells</th>\n",
              "      <th>Pus Cell Clumps</th>\n",
              "      <th>Bacteria</th>\n",
              "      <th>Blood Glucose Random</th>\n",
              "      <th>...</th>\n",
              "      <th>Packed Cell Volume</th>\n",
              "      <th>White Blood Cells</th>\n",
              "      <th>Red Blood Cells Count</th>\n",
              "      <th>Hypertension</th>\n",
              "      <th>Diabetes Mellitus</th>\n",
              "      <th>Coronary Artery Disease</th>\n",
              "      <th>Appetite</th>\n",
              "      <th>Pedal Edema</th>\n",
              "      <th>Anemia</th>\n",
              "      <th>Chronic Kidney Disease</th>\n",
              "    </tr>\n",
              "  </thead>\n",
              "  <tbody>\n",
              "    <tr>\n",
              "      <th>0</th>\n",
              "      <td>48.0</td>\n",
              "      <td>80.0</td>\n",
              "      <td>1.020</td>\n",
              "      <td>1.0</td>\n",
              "      <td>0.0</td>\n",
              "      <td>1</td>\n",
              "      <td>1</td>\n",
              "      <td>0</td>\n",
              "      <td>0</td>\n",
              "      <td>121.0</td>\n",
              "      <td>...</td>\n",
              "      <td>44.0</td>\n",
              "      <td>7800.0</td>\n",
              "      <td>5.2</td>\n",
              "      <td>1</td>\n",
              "      <td>1</td>\n",
              "      <td>0</td>\n",
              "      <td>0</td>\n",
              "      <td>0</td>\n",
              "      <td>0</td>\n",
              "      <td>ckd</td>\n",
              "    </tr>\n",
              "    <tr>\n",
              "      <th>1</th>\n",
              "      <td>7.0</td>\n",
              "      <td>50.0</td>\n",
              "      <td>1.020</td>\n",
              "      <td>4.0</td>\n",
              "      <td>0.0</td>\n",
              "      <td>1</td>\n",
              "      <td>1</td>\n",
              "      <td>0</td>\n",
              "      <td>0</td>\n",
              "      <td>99.0</td>\n",
              "      <td>...</td>\n",
              "      <td>38.0</td>\n",
              "      <td>6000.0</td>\n",
              "      <td>5.2</td>\n",
              "      <td>0</td>\n",
              "      <td>0</td>\n",
              "      <td>0</td>\n",
              "      <td>0</td>\n",
              "      <td>0</td>\n",
              "      <td>0</td>\n",
              "      <td>ckd</td>\n",
              "    </tr>\n",
              "    <tr>\n",
              "      <th>2</th>\n",
              "      <td>62.0</td>\n",
              "      <td>80.0</td>\n",
              "      <td>1.010</td>\n",
              "      <td>2.0</td>\n",
              "      <td>3.0</td>\n",
              "      <td>1</td>\n",
              "      <td>1</td>\n",
              "      <td>0</td>\n",
              "      <td>0</td>\n",
              "      <td>423.0</td>\n",
              "      <td>...</td>\n",
              "      <td>31.0</td>\n",
              "      <td>7500.0</td>\n",
              "      <td>5.2</td>\n",
              "      <td>0</td>\n",
              "      <td>1</td>\n",
              "      <td>0</td>\n",
              "      <td>1</td>\n",
              "      <td>0</td>\n",
              "      <td>1</td>\n",
              "      <td>ckd</td>\n",
              "    </tr>\n",
              "    <tr>\n",
              "      <th>3</th>\n",
              "      <td>48.0</td>\n",
              "      <td>70.0</td>\n",
              "      <td>1.005</td>\n",
              "      <td>4.0</td>\n",
              "      <td>0.0</td>\n",
              "      <td>1</td>\n",
              "      <td>0</td>\n",
              "      <td>1</td>\n",
              "      <td>0</td>\n",
              "      <td>117.0</td>\n",
              "      <td>...</td>\n",
              "      <td>32.0</td>\n",
              "      <td>6700.0</td>\n",
              "      <td>3.9</td>\n",
              "      <td>1</td>\n",
              "      <td>0</td>\n",
              "      <td>0</td>\n",
              "      <td>1</td>\n",
              "      <td>1</td>\n",
              "      <td>1</td>\n",
              "      <td>ckd</td>\n",
              "    </tr>\n",
              "    <tr>\n",
              "      <th>4</th>\n",
              "      <td>51.0</td>\n",
              "      <td>80.0</td>\n",
              "      <td>1.010</td>\n",
              "      <td>2.0</td>\n",
              "      <td>0.0</td>\n",
              "      <td>1</td>\n",
              "      <td>1</td>\n",
              "      <td>0</td>\n",
              "      <td>0</td>\n",
              "      <td>106.0</td>\n",
              "      <td>...</td>\n",
              "      <td>35.0</td>\n",
              "      <td>7300.0</td>\n",
              "      <td>4.6</td>\n",
              "      <td>0</td>\n",
              "      <td>0</td>\n",
              "      <td>0</td>\n",
              "      <td>0</td>\n",
              "      <td>0</td>\n",
              "      <td>0</td>\n",
              "      <td>ckd</td>\n",
              "    </tr>\n",
              "  </tbody>\n",
              "</table>\n",
              "<p>5 rows × 25 columns</p>\n",
              "</div>\n",
              "      <button class=\"colab-df-convert\" onclick=\"convertToInteractive('df-eefa8da0-c6a7-4891-a36e-186bf17ed9d5')\"\n",
              "              title=\"Convert this dataframe to an interactive table.\"\n",
              "              style=\"display:none;\">\n",
              "        \n",
              "  <svg xmlns=\"http://www.w3.org/2000/svg\" height=\"24px\"viewBox=\"0 0 24 24\"\n",
              "       width=\"24px\">\n",
              "    <path d=\"M0 0h24v24H0V0z\" fill=\"none\"/>\n",
              "    <path d=\"M18.56 5.44l.94 2.06.94-2.06 2.06-.94-2.06-.94-.94-2.06-.94 2.06-2.06.94zm-11 1L8.5 8.5l.94-2.06 2.06-.94-2.06-.94L8.5 2.5l-.94 2.06-2.06.94zm10 10l.94 2.06.94-2.06 2.06-.94-2.06-.94-.94-2.06-.94 2.06-2.06.94z\"/><path d=\"M17.41 7.96l-1.37-1.37c-.4-.4-.92-.59-1.43-.59-.52 0-1.04.2-1.43.59L10.3 9.45l-7.72 7.72c-.78.78-.78 2.05 0 2.83L4 21.41c.39.39.9.59 1.41.59.51 0 1.02-.2 1.41-.59l7.78-7.78 2.81-2.81c.8-.78.8-2.07 0-2.86zM5.41 20L4 18.59l7.72-7.72 1.47 1.35L5.41 20z\"/>\n",
              "  </svg>\n",
              "      </button>\n",
              "      \n",
              "  <style>\n",
              "    .colab-df-container {\n",
              "      display:flex;\n",
              "      flex-wrap:wrap;\n",
              "      gap: 12px;\n",
              "    }\n",
              "\n",
              "    .colab-df-convert {\n",
              "      background-color: #E8F0FE;\n",
              "      border: none;\n",
              "      border-radius: 50%;\n",
              "      cursor: pointer;\n",
              "      display: none;\n",
              "      fill: #1967D2;\n",
              "      height: 32px;\n",
              "      padding: 0 0 0 0;\n",
              "      width: 32px;\n",
              "    }\n",
              "\n",
              "    .colab-df-convert:hover {\n",
              "      background-color: #E2EBFA;\n",
              "      box-shadow: 0px 1px 2px rgba(60, 64, 67, 0.3), 0px 1px 3px 1px rgba(60, 64, 67, 0.15);\n",
              "      fill: #174EA6;\n",
              "    }\n",
              "\n",
              "    [theme=dark] .colab-df-convert {\n",
              "      background-color: #3B4455;\n",
              "      fill: #D2E3FC;\n",
              "    }\n",
              "\n",
              "    [theme=dark] .colab-df-convert:hover {\n",
              "      background-color: #434B5C;\n",
              "      box-shadow: 0px 1px 3px 1px rgba(0, 0, 0, 0.15);\n",
              "      filter: drop-shadow(0px 1px 2px rgba(0, 0, 0, 0.3));\n",
              "      fill: #FFFFFF;\n",
              "    }\n",
              "  </style>\n",
              "\n",
              "      <script>\n",
              "        const buttonEl =\n",
              "          document.querySelector('#df-eefa8da0-c6a7-4891-a36e-186bf17ed9d5 button.colab-df-convert');\n",
              "        buttonEl.style.display =\n",
              "          google.colab.kernel.accessAllowed ? 'block' : 'none';\n",
              "\n",
              "        async function convertToInteractive(key) {\n",
              "          const element = document.querySelector('#df-eefa8da0-c6a7-4891-a36e-186bf17ed9d5');\n",
              "          const dataTable =\n",
              "            await google.colab.kernel.invokeFunction('convertToInteractive',\n",
              "                                                     [key], {});\n",
              "          if (!dataTable) return;\n",
              "\n",
              "          const docLinkHtml = 'Like what you see? Visit the ' +\n",
              "            '<a target=\"_blank\" href=https://colab.research.google.com/notebooks/data_table.ipynb>data table notebook</a>'\n",
              "            + ' to learn more about interactive tables.';\n",
              "          element.innerHTML = '';\n",
              "          dataTable['output_type'] = 'display_data';\n",
              "          await google.colab.output.renderOutput(dataTable, element);\n",
              "          const docLink = document.createElement('div');\n",
              "          docLink.innerHTML = docLinkHtml;\n",
              "          element.appendChild(docLink);\n",
              "        }\n",
              "      </script>\n",
              "    </div>\n",
              "  </div>\n",
              "  "
            ]
          },
          "metadata": {},
          "execution_count": 2
        }
      ]
    },
    {
      "cell_type": "markdown",
      "source": [
        "Quick check:"
      ],
      "metadata": {
        "id": "QkSXjX2UsQUZ"
      }
    },
    {
      "cell_type": "code",
      "source": [
        "data.info()"
      ],
      "metadata": {
        "colab": {
          "base_uri": "https://localhost:8080/"
        },
        "id": "uHUe7KKrsK7Q",
        "outputId": "7f5c259a-31cd-4f3d-a90b-b4d4ff4d5fb4"
      },
      "execution_count": 3,
      "outputs": [
        {
          "output_type": "stream",
          "name": "stdout",
          "text": [
            "<class 'pandas.core.frame.DataFrame'>\n",
            "RangeIndex: 400 entries, 0 to 399\n",
            "Data columns (total 25 columns):\n",
            " #   Column                   Non-Null Count  Dtype  \n",
            "---  ------                   --------------  -----  \n",
            " 0   Age                      400 non-null    float64\n",
            " 1   Blood Pressure           400 non-null    float64\n",
            " 2   Specific Gravity         400 non-null    float64\n",
            " 3   Albumin                  400 non-null    float64\n",
            " 4   Sugar                    400 non-null    float64\n",
            " 5   Red Blood Cells          400 non-null    int64  \n",
            " 6   Pus Cells                400 non-null    int64  \n",
            " 7   Pus Cell Clumps          400 non-null    int64  \n",
            " 8   Bacteria                 400 non-null    int64  \n",
            " 9   Blood Glucose Random     400 non-null    float64\n",
            " 10  Blood Urea               400 non-null    float64\n",
            " 11  Serum Creatinine         400 non-null    float64\n",
            " 12  Sodium                   400 non-null    float64\n",
            " 13  Potassium                400 non-null    float64\n",
            " 14  Hemoglobin               400 non-null    float64\n",
            " 15  Packed Cell Volume       400 non-null    float64\n",
            " 16  White Blood Cells        400 non-null    float64\n",
            " 17  Red Blood Cells Count    400 non-null    float64\n",
            " 18  Hypertension             400 non-null    int64  \n",
            " 19  Diabetes Mellitus        400 non-null    int64  \n",
            " 20  Coronary Artery Disease  400 non-null    int64  \n",
            " 21  Appetite                 400 non-null    int64  \n",
            " 22  Pedal Edema              400 non-null    int64  \n",
            " 23  Anemia                   400 non-null    int64  \n",
            " 24  Chronic Kidney Disease   400 non-null    object \n",
            "dtypes: float64(14), int64(10), object(1)\n",
            "memory usage: 78.2+ KB\n"
          ]
        }
      ]
    },
    {
      "cell_type": "markdown",
      "source": [
        "## Split the Features and Target"
      ],
      "metadata": {
        "id": "GZHQq95Cu6hI"
      }
    },
    {
      "cell_type": "code",
      "source": [
        "x_data = data.drop('Chronic Kidney Disease', axis = 1)\n",
        "print('Shape of Features: ', x_data.shape)\n",
        "y_data = data['Chronic Kidney Disease']\n",
        "print('Shape of the target: ', y_data.shape)"
      ],
      "metadata": {
        "colab": {
          "base_uri": "https://localhost:8080/"
        },
        "id": "B01MhUlOsUQQ",
        "outputId": "be0bfac7-11c1-4069-dc91-519bdf2a7d9d"
      },
      "execution_count": 4,
      "outputs": [
        {
          "output_type": "stream",
          "name": "stdout",
          "text": [
            "Shape of Features:  (400, 24)\n",
            "Shape of the target:  (400,)\n"
          ]
        }
      ]
    },
    {
      "cell_type": "markdown",
      "source": [
        "The target class is imbalanced:"
      ],
      "metadata": {
        "id": "hhu5GQMYvDAC"
      }
    },
    {
      "cell_type": "code",
      "source": [
        "sns.countplot(x = y_data)"
      ],
      "metadata": {
        "colab": {
          "base_uri": "https://localhost:8080/",
          "height": 302
        },
        "id": "luAQzGKNu4yY",
        "outputId": "1ca3aacc-a236-45b0-f354-f355f69966cf"
      },
      "execution_count": 5,
      "outputs": [
        {
          "output_type": "execute_result",
          "data": {
            "text/plain": [
              "<matplotlib.axes._subplots.AxesSubplot at 0x7f97d7807dc0>"
            ]
          },
          "metadata": {},
          "execution_count": 5
        },
        {
          "output_type": "display_data",
          "data": {
            "text/plain": [
              "<Figure size 432x288 with 1 Axes>"
            ],
            "image/png": "[encoded data removed]"
          },
          "metadata": {}
        }
      ]
    },
    {
      "cell_type": "markdown",
      "source": [
        "We balance the target class:"
      ],
      "metadata": {
        "id": "EylKaGR_vTD5"
      }
    },
    {
      "cell_type": "code",
      "source": [
        "from imblearn.over_sampling import ADASYN\n",
        "from collections import Counter\n",
        "oversampler = ADASYN()\n",
        "X_data, Y_data = oversampler.fit_resample(x_data, y_data)\n",
        "Counter(Y_data)"
      ],
      "metadata": {
        "colab": {
          "base_uri": "https://localhost:8080/"
        },
        "id": "pn1UvPU9vPGR",
        "outputId": "2fbe8036-ec4b-4c75-ba1e-9a69d4bd4750"
      },
      "execution_count": 6,
      "outputs": [
        {
          "output_type": "execute_result",
          "data": {
            "text/plain": [
              "Counter({'ckd': 250, 'notckd': 229})"
            ]
          },
          "metadata": {},
          "execution_count": 6
        }
      ]
    },
    {
      "cell_type": "code",
      "source": [
        "from sklearn.preprocessing import RobustScaler, MinMaxScaler\n",
        "robustscaler = RobustScaler()\n",
        "robustscaler.fit(X_data)\n",
        "X_scaled = robustscaler.transform(X_data)\n",
        "Scaled_Data = pd.DataFrame(X_scaled, columns = X_data.columns)\n",
        "Scaled_Data.head()"
      ],
      "metadata": {
        "colab": {
          "base_uri": "https://localhost:8080/",
          "height": 352
        },
        "id": "89_zL__pvoVf",
        "outputId": "a664af60-d0cd-45a8-8b50-f06c45cbbd1f"
      },
      "execution_count": 7,
      "outputs": [
        {
          "output_type": "execute_result",
          "data": {
            "text/plain": [
              "        Age  Blood Pressure  Specific Gravity  Albumin  Sugar  \\\n",
              "0 -0.227273        0.077055          0.000000      1.0    0.0   \n",
              "1 -2.090909       -2.922945          0.000000      4.0    0.0   \n",
              "2  0.409091        0.077055         -1.613455      2.0    3.0   \n",
              "3 -0.227273       -0.922945         -2.420182      4.0    0.0   \n",
              "4 -0.090909        0.077055         -1.613455      2.0    0.0   \n",
              "\n",
              "   Red Blood Cells  Pus Cells  Pus Cell Clumps  Bacteria  \\\n",
              "0              0.0        0.0              0.0       0.0   \n",
              "1              0.0        0.0              0.0       0.0   \n",
              "2              0.0        0.0              0.0       0.0   \n",
              "3              0.0       -1.0              1.0       0.0   \n",
              "4              0.0        0.0              0.0       0.0   \n",
              "\n",
              "   Blood Glucose Random  ...  Hemoglobin  Packed Cell Volume  \\\n",
              "0              0.209587  ...    0.342105            0.331356   \n",
              "1             -0.354516  ...   -0.736842           -0.331356   \n",
              "2              7.953176  ...   -1.184211           -1.104519   \n",
              "3              0.107023  ...   -0.763158           -0.994067   \n",
              "4             -0.175029  ...   -0.657895           -0.662711   \n",
              "\n",
              "   White Blood Cells  Red Blood Cells Count  Hypertension  Diabetes Mellitus  \\\n",
              "0          -0.552347               0.000000           1.0                1.0   \n",
              "1          -1.173737               0.000000           0.0                0.0   \n",
              "2          -0.655912               0.000000           0.0                1.0   \n",
              "3          -0.932086              -2.155639           1.0                0.0   \n",
              "4          -0.724955              -0.994910           0.0                0.0   \n",
              "\n",
              "   Coronary Artery Disease  Appetite  Pedal Edema  Anemia  \n",
              "0                      0.0       0.0          0.0     0.0  \n",
              "1                      0.0       0.0          0.0     0.0  \n",
              "2                      0.0       1.0          0.0     1.0  \n",
              "3                      0.0       1.0          1.0     1.0  \n",
              "4                      0.0       0.0          0.0     0.0  \n",
              "\n",
              "[5 rows x 24 columns]"
            ],
            "text/html": [
              "\n",
              "  <div id=\"df-2dfddfff-8762-44cf-8bb3-7b982f2b93c0\">\n",
              "    <div class=\"colab-df-container\">\n",
              "      <div>\n",
              "<style scoped>\n",
              "    .dataframe tbody tr th:only-of-type {\n",
              "        vertical-align: middle;\n",
              "    }\n",
              "\n",
              "    .dataframe tbody tr th {\n",
              "        vertical-align: top;\n",
              "    }\n",
              "\n",
              "    .dataframe thead th {\n",
              "        text-align: right;\n",
              "    }\n",
              "</style>\n",
              "<table border=\"1\" class=\"dataframe\">\n",
              "  <thead>\n",
              "    <tr style=\"text-align: right;\">\n",
              "      <th></th>\n",
              "      <th>Age</th>\n",
              "      <th>Blood Pressure</th>\n",
              "      <th>Specific Gravity</th>\n",
              "      <th>Albumin</th>\n",
              "      <th>Sugar</th>\n",
              "      <th>Red Blood Cells</th>\n",
              "      <th>Pus Cells</th>\n",
              "      <th>Pus Cell Clumps</th>\n",
              "      <th>Bacteria</th>\n",
              "      <th>Blood Glucose Random</th>\n",
              "      <th>...</th>\n",
              "      <th>Hemoglobin</th>\n",
              "      <th>Packed Cell Volume</th>\n",
              "      <th>White Blood Cells</th>\n",
              "      <th>Red Blood Cells Count</th>\n",
              "      <th>Hypertension</th>\n",
              "      <th>Diabetes Mellitus</th>\n",
              "      <th>Coronary Artery Disease</th>\n",
              "      <th>Appetite</th>\n",
              "      <th>Pedal Edema</th>\n",
              "      <th>Anemia</th>\n",
              "    </tr>\n",
              "  </thead>\n",
              "  <tbody>\n",
              "    <tr>\n",
              "      <th>0</th>\n",
              "      <td>-0.227273</td>\n",
              "      <td>0.077055</td>\n",
              "      <td>0.000000</td>\n",
              "      <td>1.0</td>\n",
              "      <td>0.0</td>\n",
              "      <td>0.0</td>\n",
              "      <td>0.0</td>\n",
              "      <td>0.0</td>\n",
              "      <td>0.0</td>\n",
              "      <td>0.209587</td>\n",
              "      <td>...</td>\n",
              "      <td>0.342105</td>\n",
              "      <td>0.331356</td>\n",
              "      <td>-0.552347</td>\n",
              "      <td>0.000000</td>\n",
              "      <td>1.0</td>\n",
              "      <td>1.0</td>\n",
              "      <td>0.0</td>\n",
              "      <td>0.0</td>\n",
              "      <td>0.0</td>\n",
              "      <td>0.0</td>\n",
              "    </tr>\n",
              "    <tr>\n",
              "      <th>1</th>\n",
              "      <td>-2.090909</td>\n",
              "      <td>-2.922945</td>\n",
              "      <td>0.000000</td>\n",
              "      <td>4.0</td>\n",
              "      <td>0.0</td>\n",
              "      <td>0.0</td>\n",
              "      <td>0.0</td>\n",
              "      <td>0.0</td>\n",
              "      <td>0.0</td>\n",
              "      <td>-0.354516</td>\n",
              "      <td>...</td>\n",
              "      <td>-0.736842</td>\n",
              "      <td>-0.331356</td>\n",
              "      <td>-1.173737</td>\n",
              "      <td>0.000000</td>\n",
              "      <td>0.0</td>\n",
              "      <td>0.0</td>\n",
              "      <td>0.0</td>\n",
              "      <td>0.0</td>\n",
              "      <td>0.0</td>\n",
              "      <td>0.0</td>\n",
              "    </tr>\n",
              "    <tr>\n",
              "      <th>2</th>\n",
              "      <td>0.409091</td>\n",
              "      <td>0.077055</td>\n",
              "      <td>-1.613455</td>\n",
              "      <td>2.0</td>\n",
              "      <td>3.0</td>\n",
              "      <td>0.0</td>\n",
              "      <td>0.0</td>\n",
              "      <td>0.0</td>\n",
              "      <td>0.0</td>\n",
              "      <td>7.953176</td>\n",
              "      <td>...</td>\n",
              "      <td>-1.184211</td>\n",
              "      <td>-1.104519</td>\n",
              "      <td>-0.655912</td>\n",
              "      <td>0.000000</td>\n",
              "      <td>0.0</td>\n",
              "      <td>1.0</td>\n",
              "      <td>0.0</td>\n",
              "      <td>1.0</td>\n",
              "      <td>0.0</td>\n",
              "      <td>1.0</td>\n",
              "    </tr>\n",
              "    <tr>\n",
              "      <th>3</th>\n",
              "      <td>-0.227273</td>\n",
              "      <td>-0.922945</td>\n",
              "      <td>-2.420182</td>\n",
              "      <td>4.0</td>\n",
              "      <td>0.0</td>\n",
              "      <td>0.0</td>\n",
              "      <td>-1.0</td>\n",
              "      <td>1.0</td>\n",
              "      <td>0.0</td>\n",
              "      <td>0.107023</td>\n",
              "      <td>...</td>\n",
              "      <td>-0.763158</td>\n",
              "      <td>-0.994067</td>\n",
              "      <td>-0.932086</td>\n",
              "      <td>-2.155639</td>\n",
              "      <td>1.0</td>\n",
              "      <td>0.0</td>\n",
              "      <td>0.0</td>\n",
              "      <td>1.0</td>\n",
              "      <td>1.0</td>\n",
              "      <td>1.0</td>\n",
              "    </tr>\n",
              "    <tr>\n",
              "      <th>4</th>\n",
              "      <td>-0.090909</td>\n",
              "      <td>0.077055</td>\n",
              "      <td>-1.613455</td>\n",
              "      <td>2.0</td>\n",
              "      <td>0.0</td>\n",
              "      <td>0.0</td>\n",
              "      <td>0.0</td>\n",
              "      <td>0.0</td>\n",
              "      <td>0.0</td>\n",
              "      <td>-0.175029</td>\n",
              "      <td>...</td>\n",
              "      <td>-0.657895</td>\n",
              "      <td>-0.662711</td>\n",
              "      <td>-0.724955</td>\n",
              "      <td>-0.994910</td>\n",
              "      <td>0.0</td>\n",
              "      <td>0.0</td>\n",
              "      <td>0.0</td>\n",
              "      <td>0.0</td>\n",
              "      <td>0.0</td>\n",
              "      <td>0.0</td>\n",
              "    </tr>\n",
              "  </tbody>\n",
              "</table>\n",
              "<p>5 rows × 24 columns</p>\n",
              "</div>\n",
              "      <button class=\"colab-df-convert\" onclick=\"convertToInteractive('df-2dfddfff-8762-44cf-8bb3-7b982f2b93c0')\"\n",
              "              title=\"Convert this dataframe to an interactive table.\"\n",
              "              style=\"display:none;\">\n",
              "        \n",
              "  <svg xmlns=\"http://www.w3.org/2000/svg\" height=\"24px\"viewBox=\"0 0 24 24\"\n",
              "       width=\"24px\">\n",
              "    <path d=\"M0 0h24v24H0V0z\" fill=\"none\"/>\n",
              "    <path d=\"M18.56 5.44l.94 2.06.94-2.06 2.06-.94-2.06-.94-.94-2.06-.94 2.06-2.06.94zm-11 1L8.5 8.5l.94-2.06 2.06-.94-2.06-.94L8.5 2.5l-.94 2.06-2.06.94zm10 10l.94 2.06.94-2.06 2.06-.94-2.06-.94-.94-2.06-.94 2.06-2.06.94z\"/><path d=\"M17.41 7.96l-1.37-1.37c-.4-.4-.92-.59-1.43-.59-.52 0-1.04.2-1.43.59L10.3 9.45l-7.72 7.72c-.78.78-.78 2.05 0 2.83L4 21.41c.39.39.9.59 1.41.59.51 0 1.02-.2 1.41-.59l7.78-7.78 2.81-2.81c.8-.78.8-2.07 0-2.86zM5.41 20L4 18.59l7.72-7.72 1.47 1.35L5.41 20z\"/>\n",
              "  </svg>\n",
              "      </button>\n",
              "      \n",
              "  <style>\n",
              "    .colab-df-container {\n",
              "      display:flex;\n",
              "      flex-wrap:wrap;\n",
              "      gap: 12px;\n",
              "    }\n",
              "\n",
              "    .colab-df-convert {\n",
              "      background-color: #E8F0FE;\n",
              "      border: none;\n",
              "      border-radius: 50%;\n",
              "      cursor: pointer;\n",
              "      display: none;\n",
              "      fill: #1967D2;\n",
              "      height: 32px;\n",
              "      padding: 0 0 0 0;\n",
              "      width: 32px;\n",
              "    }\n",
              "\n",
              "    .colab-df-convert:hover {\n",
              "      background-color: #E2EBFA;\n",
              "      box-shadow: 0px 1px 2px rgba(60, 64, 67, 0.3), 0px 1px 3px 1px rgba(60, 64, 67, 0.15);\n",
              "      fill: #174EA6;\n",
              "    }\n",
              "\n",
              "    [theme=dark] .colab-df-convert {\n",
              "      background-color: #3B4455;\n",
              "      fill: #D2E3FC;\n",
              "    }\n",
              "\n",
              "    [theme=dark] .colab-df-convert:hover {\n",
              "      background-color: #434B5C;\n",
              "      box-shadow: 0px 1px 3px 1px rgba(0, 0, 0, 0.15);\n",
              "      filter: drop-shadow(0px 1px 2px rgba(0, 0, 0, 0.3));\n",
              "      fill: #FFFFFF;\n",
              "    }\n",
              "  </style>\n",
              "\n",
              "      <script>\n",
              "        const buttonEl =\n",
              "          document.querySelector('#df-2dfddfff-8762-44cf-8bb3-7b982f2b93c0 button.colab-df-convert');\n",
              "        buttonEl.style.display =\n",
              "          google.colab.kernel.accessAllowed ? 'block' : 'none';\n",
              "\n",
              "        async function convertToInteractive(key) {\n",
              "          const element = document.querySelector('#df-2dfddfff-8762-44cf-8bb3-7b982f2b93c0');\n",
              "          const dataTable =\n",
              "            await google.colab.kernel.invokeFunction('convertToInteractive',\n",
              "                                                     [key], {});\n",
              "          if (!dataTable) return;\n",
              "\n",
              "          const docLinkHtml = 'Like what you see? Visit the ' +\n",
              "            '<a target=\"_blank\" href=https://colab.research.google.com/notebooks/data_table.ipynb>data table notebook</a>'\n",
              "            + ' to learn more about interactive tables.';\n",
              "          element.innerHTML = '';\n",
              "          dataTable['output_type'] = 'display_data';\n",
              "          await google.colab.output.renderOutput(dataTable, element);\n",
              "          const docLink = document.createElement('div');\n",
              "          docLink.innerHTML = docLinkHtml;\n",
              "          element.appendChild(docLink);\n",
              "        }\n",
              "      </script>\n",
              "    </div>\n",
              "  </div>\n",
              "  "
            ]
          },
          "metadata": {},
          "execution_count": 7
        }
      ]
    },
    {
      "cell_type": "code",
      "source": [
        "minmaxscaler = MinMaxScaler()\n",
        "minmaxscaler.fit(Scaled_Data)\n",
        "X_Scaled = minmaxscaler.transform(Scaled_Data)\n",
        "Scaled_data = pd.DataFrame(X_Scaled, columns = Scaled_Data.columns)\n",
        "Scaled_data.head()"
      ],
      "metadata": {
        "colab": {
          "base_uri": "https://localhost:8080/",
          "height": 352
        },
        "id": "F_oLlSNO_109",
        "outputId": "4a7aab81-9032-46be-e18e-eed7001ba5b6"
      },
      "execution_count": 8,
      "outputs": [
        {
          "output_type": "execute_result",
          "data": {
            "text/plain": [
              "        Age  Blood Pressure  Specific Gravity  Albumin  Sugar  \\\n",
              "0  0.522727        0.230769              0.75      0.2    0.0   \n",
              "1  0.056818        0.000000              0.75      0.8    0.0   \n",
              "2  0.681818        0.230769              0.25      0.4    0.6   \n",
              "3  0.522727        0.153846              0.00      0.8    0.0   \n",
              "4  0.556818        0.230769              0.25      0.4    0.0   \n",
              "\n",
              "   Red Blood Cells  Pus Cells  Pus Cell Clumps  Bacteria  \\\n",
              "0              1.0        1.0              0.0       0.0   \n",
              "1              1.0        1.0              0.0       0.0   \n",
              "2              1.0        1.0              0.0       0.0   \n",
              "3              1.0        0.0              1.0       0.0   \n",
              "4              1.0        1.0              0.0       0.0   \n",
              "\n",
              "   Blood Glucose Random  ...  Hemoglobin  Packed Cell Volume  \\\n",
              "0              0.211538  ...    0.836735            0.777778   \n",
              "1              0.164530  ...    0.557823            0.644444   \n",
              "2              0.856838  ...    0.442177            0.488889   \n",
              "3              0.202991  ...    0.551020            0.511111   \n",
              "4              0.179487  ...    0.578231            0.577778   \n",
              "\n",
              "   White Blood Cells  Red Blood Cells Count  Hypertension  Diabetes Mellitus  \\\n",
              "0           0.231405               0.525424           1.0                1.0   \n",
              "1           0.157025               0.525424           0.0                0.0   \n",
              "2           0.219008               0.525424           0.0                1.0   \n",
              "3           0.185950               0.305085           1.0                0.0   \n",
              "4           0.210744               0.423729           0.0                0.0   \n",
              "\n",
              "   Coronary Artery Disease  Appetite  Pedal Edema  Anemia  \n",
              "0                      0.0       0.0          0.0     0.0  \n",
              "1                      0.0       0.0          0.0     0.0  \n",
              "2                      0.0       1.0          0.0     1.0  \n",
              "3                      0.0       1.0          1.0     1.0  \n",
              "4                      0.0       0.0          0.0     0.0  \n",
              "\n",
              "[5 rows x 24 columns]"
            ],
            "text/html": [
              "\n",
              "  <div id=\"df-b619c1b3-acf3-46ee-8af0-fe2c0d83204b\">\n",
              "    <div class=\"colab-df-container\">\n",
              "      <div>\n",
              "<style scoped>\n",
              "    .dataframe tbody tr th:only-of-type {\n",
              "        vertical-align: middle;\n",
              "    }\n",
              "\n",
              "    .dataframe tbody tr th {\n",
              "        vertical-align: top;\n",
              "    }\n",
              "\n",
              "    .dataframe thead th {\n",
              "        text-align: right;\n",
              "    }\n",
              "</style>\n",
              "<table border=\"1\" class=\"dataframe\">\n",
              "  <thead>\n",
              "    <tr style=\"text-align: right;\">\n",
              "      <th></th>\n",
              "      <th>Age</th>\n",
              "      <th>Blood Pressure</th>\n",
              "      <th>Specific Gravity</th>\n",
              "      <th>Albumin</th>\n",
              "      <th>Sugar</th>\n",
              "      <th>Red Blood Cells</th>\n",
              "      <th>Pus Cells</th>\n",
              "      <th>Pus Cell Clumps</th>\n",
              "      <th>Bacteria</th>\n",
              "      <th>Blood Glucose Random</th>\n",
              "      <th>...</th>\n",
              "      <th>Hemoglobin</th>\n",
              "      <th>Packed Cell Volume</th>\n",
              "      <th>White Blood Cells</th>\n",
              "      <th>Red Blood Cells Count</th>\n",
              "      <th>Hypertension</th>\n",
              "      <th>Diabetes Mellitus</th>\n",
              "      <th>Coronary Artery Disease</th>\n",
              "      <th>Appetite</th>\n",
              "      <th>Pedal Edema</th>\n",
              "      <th>Anemia</th>\n",
              "    </tr>\n",
              "  </thead>\n",
              "  <tbody>\n",
              "    <tr>\n",
              "      <th>0</th>\n",
              "      <td>0.522727</td>\n",
              "      <td>0.230769</td>\n",
              "      <td>0.75</td>\n",
              "      <td>0.2</td>\n",
              "      <td>0.0</td>\n",
              "      <td>1.0</td>\n",
              "      <td>1.0</td>\n",
              "      <td>0.0</td>\n",
              "      <td>0.0</td>\n",
              "      <td>0.211538</td>\n",
              "      <td>...</td>\n",
              "      <td>0.836735</td>\n",
              "      <td>0.777778</td>\n",
              "      <td>0.231405</td>\n",
              "      <td>0.525424</td>\n",
              "      <td>1.0</td>\n",
              "      <td>1.0</td>\n",
              "      <td>0.0</td>\n",
              "      <td>0.0</td>\n",
              "      <td>0.0</td>\n",
              "      <td>0.0</td>\n",
              "    </tr>\n",
              "    <tr>\n",
              "      <th>1</th>\n",
              "      <td>0.056818</td>\n",
              "      <td>0.000000</td>\n",
              "      <td>0.75</td>\n",
              "      <td>0.8</td>\n",
              "      <td>0.0</td>\n",
              "      <td>1.0</td>\n",
              "      <td>1.0</td>\n",
              "      <td>0.0</td>\n",
              "      <td>0.0</td>\n",
              "      <td>0.164530</td>\n",
              "      <td>...</td>\n",
              "      <td>0.557823</td>\n",
              "      <td>0.644444</td>\n",
              "      <td>0.157025</td>\n",
              "      <td>0.525424</td>\n",
              "      <td>0.0</td>\n",
              "      <td>0.0</td>\n",
              "      <td>0.0</td>\n",
              "      <td>0.0</td>\n",
              "      <td>0.0</td>\n",
              "      <td>0.0</td>\n",
              "    </tr>\n",
              "    <tr>\n",
              "      <th>2</th>\n",
              "      <td>0.681818</td>\n",
              "      <td>0.230769</td>\n",
              "      <td>0.25</td>\n",
              "      <td>0.4</td>\n",
              "      <td>0.6</td>\n",
              "      <td>1.0</td>\n",
              "      <td>1.0</td>\n",
              "      <td>0.0</td>\n",
              "      <td>0.0</td>\n",
              "      <td>0.856838</td>\n",
              "      <td>...</td>\n",
              "      <td>0.442177</td>\n",
              "      <td>0.488889</td>\n",
              "      <td>0.219008</td>\n",
              "      <td>0.525424</td>\n",
              "      <td>0.0</td>\n",
              "      <td>1.0</td>\n",
              "      <td>0.0</td>\n",
              "      <td>1.0</td>\n",
              "      <td>0.0</td>\n",
              "      <td>1.0</td>\n",
              "    </tr>\n",
              "    <tr>\n",
              "      <th>3</th>\n",
              "      <td>0.522727</td>\n",
              "      <td>0.153846</td>\n",
              "      <td>0.00</td>\n",
              "      <td>0.8</td>\n",
              "      <td>0.0</td>\n",
              "      <td>1.0</td>\n",
              "      <td>0.0</td>\n",
              "      <td>1.0</td>\n",
              "      <td>0.0</td>\n",
              "      <td>0.202991</td>\n",
              "      <td>...</td>\n",
              "      <td>0.551020</td>\n",
              "      <td>0.511111</td>\n",
              "      <td>0.185950</td>\n",
              "      <td>0.305085</td>\n",
              "      <td>1.0</td>\n",
              "      <td>0.0</td>\n",
              "      <td>0.0</td>\n",
              "      <td>1.0</td>\n",
              "      <td>1.0</td>\n",
              "      <td>1.0</td>\n",
              "    </tr>\n",
              "    <tr>\n",
              "      <th>4</th>\n",
              "      <td>0.556818</td>\n",
              "      <td>0.230769</td>\n",
              "      <td>0.25</td>\n",
              "      <td>0.4</td>\n",
              "      <td>0.0</td>\n",
              "      <td>1.0</td>\n",
              "      <td>1.0</td>\n",
              "      <td>0.0</td>\n",
              "      <td>0.0</td>\n",
              "      <td>0.179487</td>\n",
              "      <td>...</td>\n",
              "      <td>0.578231</td>\n",
              "      <td>0.577778</td>\n",
              "      <td>0.210744</td>\n",
              "      <td>0.423729</td>\n",
              "      <td>0.0</td>\n",
              "      <td>0.0</td>\n",
              "      <td>0.0</td>\n",
              "      <td>0.0</td>\n",
              "      <td>0.0</td>\n",
              "      <td>0.0</td>\n",
              "    </tr>\n",
              "  </tbody>\n",
              "</table>\n",
              "<p>5 rows × 24 columns</p>\n",
              "</div>\n",
              "      <button class=\"colab-df-convert\" onclick=\"convertToInteractive('df-b619c1b3-acf3-46ee-8af0-fe2c0d83204b')\"\n",
              "              title=\"Convert this dataframe to an interactive table.\"\n",
              "              style=\"display:none;\">\n",
              "        \n",
              "  <svg xmlns=\"http://www.w3.org/2000/svg\" height=\"24px\"viewBox=\"0 0 24 24\"\n",
              "       width=\"24px\">\n",
              "    <path d=\"M0 0h24v24H0V0z\" fill=\"none\"/>\n",
              "    <path d=\"M18.56 5.44l.94 2.06.94-2.06 2.06-.94-2.06-.94-.94-2.06-.94 2.06-2.06.94zm-11 1L8.5 8.5l.94-2.06 2.06-.94-2.06-.94L8.5 2.5l-.94 2.06-2.06.94zm10 10l.94 2.06.94-2.06 2.06-.94-2.06-.94-.94-2.06-.94 2.06-2.06.94z\"/><path d=\"M17.41 7.96l-1.37-1.37c-.4-.4-.92-.59-1.43-.59-.52 0-1.04.2-1.43.59L10.3 9.45l-7.72 7.72c-.78.78-.78 2.05 0 2.83L4 21.41c.39.39.9.59 1.41.59.51 0 1.02-.2 1.41-.59l7.78-7.78 2.81-2.81c.8-.78.8-2.07 0-2.86zM5.41 20L4 18.59l7.72-7.72 1.47 1.35L5.41 20z\"/>\n",
              "  </svg>\n",
              "      </button>\n",
              "      \n",
              "  <style>\n",
              "    .colab-df-container {\n",
              "      display:flex;\n",
              "      flex-wrap:wrap;\n",
              "      gap: 12px;\n",
              "    }\n",
              "\n",
              "    .colab-df-convert {\n",
              "      background-color: #E8F0FE;\n",
              "      border: none;\n",
              "      border-radius: 50%;\n",
              "      cursor: pointer;\n",
              "      display: none;\n",
              "      fill: #1967D2;\n",
              "      height: 32px;\n",
              "      padding: 0 0 0 0;\n",
              "      width: 32px;\n",
              "    }\n",
              "\n",
              "    .colab-df-convert:hover {\n",
              "      background-color: #E2EBFA;\n",
              "      box-shadow: 0px 1px 2px rgba(60, 64, 67, 0.3), 0px 1px 3px 1px rgba(60, 64, 67, 0.15);\n",
              "      fill: #174EA6;\n",
              "    }\n",
              "\n",
              "    [theme=dark] .colab-df-convert {\n",
              "      background-color: #3B4455;\n",
              "      fill: #D2E3FC;\n",
              "    }\n",
              "\n",
              "    [theme=dark] .colab-df-convert:hover {\n",
              "      background-color: #434B5C;\n",
              "      box-shadow: 0px 1px 3px 1px rgba(0, 0, 0, 0.15);\n",
              "      filter: drop-shadow(0px 1px 2px rgba(0, 0, 0, 0.3));\n",
              "      fill: #FFFFFF;\n",
              "    }\n",
              "  </style>\n",
              "\n",
              "      <script>\n",
              "        const buttonEl =\n",
              "          document.querySelector('#df-b619c1b3-acf3-46ee-8af0-fe2c0d83204b button.colab-df-convert');\n",
              "        buttonEl.style.display =\n",
              "          google.colab.kernel.accessAllowed ? 'block' : 'none';\n",
              "\n",
              "        async function convertToInteractive(key) {\n",
              "          const element = document.querySelector('#df-b619c1b3-acf3-46ee-8af0-fe2c0d83204b');\n",
              "          const dataTable =\n",
              "            await google.colab.kernel.invokeFunction('convertToInteractive',\n",
              "                                                     [key], {});\n",
              "          if (!dataTable) return;\n",
              "\n",
              "          const docLinkHtml = 'Like what you see? Visit the ' +\n",
              "            '<a target=\"_blank\" href=https://colab.research.google.com/notebooks/data_table.ipynb>data table notebook</a>'\n",
              "            + ' to learn more about interactive tables.';\n",
              "          element.innerHTML = '';\n",
              "          dataTable['output_type'] = 'display_data';\n",
              "          await google.colab.output.renderOutput(dataTable, element);\n",
              "          const docLink = document.createElement('div');\n",
              "          docLink.innerHTML = docLinkHtml;\n",
              "          element.appendChild(docLink);\n",
              "        }\n",
              "      </script>\n",
              "    </div>\n",
              "  </div>\n",
              "  "
            ]
          },
          "metadata": {},
          "execution_count": 8
        }
      ]
    },
    {
      "cell_type": "markdown",
      "source": [
        "## Principal Component Analysis"
      ],
      "metadata": {
        "id": "bh3E2okc5PdG"
      }
    },
    {
      "cell_type": "markdown",
      "source": [
        "### Scree Plot - Robust Scaler"
      ],
      "metadata": {
        "id": "LW9nPHT1Bh3C"
      }
    },
    {
      "cell_type": "code",
      "source": [
        "from sklearn.decomposition import PCA\n",
        "pca_robust = PCA()\n",
        "pca_robust.fit(Scaled_Data)\n",
        "pca_robust.get_params()"
      ],
      "metadata": {
        "colab": {
          "base_uri": "https://localhost:8080/"
        },
        "id": "24n7Uh8JwXtX",
        "outputId": "67a850c5-530b-4eee-f6be-cd84e76f6c5c"
      },
      "execution_count": 9,
      "outputs": [
        {
          "output_type": "execute_result",
          "data": {
            "text/plain": [
              "{'copy': True,\n",
              " 'iterated_power': 'auto',\n",
              " 'n_components': None,\n",
              " 'random_state': None,\n",
              " 'svd_solver': 'auto',\n",
              " 'tol': 0.0,\n",
              " 'whiten': False}"
            ]
          },
          "metadata": {},
          "execution_count": 9
        }
      ]
    },
    {
      "cell_type": "code",
      "source": [
        "fig, ax = plt.subplots()\n",
        "xi = np.arange(1, len(Scaled_Data.columns)+1, 1)\n",
        "yi = np.cumsum(pca_robust.explained_variance_ratio_)\n",
        "\n",
        "plt.plot(xi, yi, marker='o', linestyle='--', color='b')\n",
        "plt.xlabel('Number of Components')\n",
        "plt.xticks(xi)\n",
        "plt.ylabel('Cumulative variance (%)')\n",
        "plt.title('Scree Plot')\n",
        "plt.axhline(y = 0.95, color='r', linestyle='--')\n",
        "ax.grid(\"both\")\n",
        "plt.show()"
      ],
      "metadata": {
        "colab": {
          "base_uri": "https://localhost:8080/",
          "height": 301
        },
        "id": "DKm_MIAZApWH",
        "outputId": "bb8eacc4-d350-48c5-b279-197767cf8a1e"
      },
      "execution_count": 10,
      "outputs": [
        {
          "output_type": "display_data",
          "data": {
            "text/plain": [
              "<Figure size 432x288 with 1 Axes>"
            ],
            "image/png": "[encoded data removed]"
          },
          "metadata": {}
        }
      ]
    },
    {
      "cell_type": "markdown",
      "source": [
        "We require 11 components to explain 95% of the variance."
      ],
      "metadata": {
        "id": "IhWbE4tZBAgb"
      }
    },
    {
      "cell_type": "markdown",
      "source": [
        "### Scree Plot - MinMax Scaler + Robust Scaler"
      ],
      "metadata": {
        "id": "wW4m1tViBmCR"
      }
    },
    {
      "cell_type": "code",
      "source": [
        "pca_minmax = PCA()\n",
        "pca_minmax.fit(Scaled_data)\n",
        "pca_minmax.get_params()"
      ],
      "metadata": {
        "colab": {
          "base_uri": "https://localhost:8080/"
        },
        "id": "U652xV6xBAEd",
        "outputId": "8c781cf0-0ede-4988-a12d-a48101eab486"
      },
      "execution_count": 11,
      "outputs": [
        {
          "output_type": "execute_result",
          "data": {
            "text/plain": [
              "{'copy': True,\n",
              " 'iterated_power': 'auto',\n",
              " 'n_components': None,\n",
              " 'random_state': None,\n",
              " 'svd_solver': 'auto',\n",
              " 'tol': 0.0,\n",
              " 'whiten': False}"
            ]
          },
          "metadata": {},
          "execution_count": 11
        }
      ]
    },
    {
      "cell_type": "code",
      "source": [
        "fig, ax = plt.subplots()\n",
        "xi = np.arange(1, len(Scaled_data.columns)+1, 1)\n",
        "yi = np.cumsum(pca_minmax.explained_variance_ratio_)\n",
        "\n",
        "plt.plot(xi, yi, marker='o', linestyle='--', color='b')\n",
        "plt.xlabel('Number of Components')\n",
        "plt.xticks(xi)\n",
        "plt.ylabel('Cumulative variance (%)')\n",
        "plt.title('Scree Plot')\n",
        "plt.axhline(y = 0.95, color='r', linestyle='--')\n",
        "ax.grid(\"both\")\n",
        "plt.show()"
      ],
      "metadata": {
        "colab": {
          "base_uri": "https://localhost:8080/",
          "height": 301
        },
        "id": "0ZmN30drB0_z",
        "outputId": "4b24eb60-1674-4b0a-c058-afc0dc1966a5"
      },
      "execution_count": 12,
      "outputs": [
        {
          "output_type": "display_data",
          "data": {
            "text/plain": [
              "<Figure size 432x288 with 1 Axes>"
            ],
            "image/png": "[encoded data removed]"
          },
          "metadata": {}
        }
      ]
    },
    {
      "cell_type": "markdown",
      "source": [
        "We need 15 components to explain 95% of the variance when we use MinMax Scaler on top of the Robust Scaler."
      ],
      "metadata": {
        "id": "NfrWB-brCBFh"
      }
    },
    {
      "cell_type": "markdown",
      "source": [
        "### PCA - Robust Scaler"
      ],
      "metadata": {
        "id": "0AhzBJ42CNNG"
      }
    },
    {
      "cell_type": "code",
      "source": [
        "pca_robust = PCA(n_components=0.95, random_state = 42)\n",
        "pca_robust.fit(Scaled_Data)\n",
        "X_PCA = pca_robust.transform(Scaled_Data)\n",
        "print('Shape of X before PCA: ', Scaled_Data.shape)\n",
        "print('Shape of X after PCA: ', X_PCA.shape)"
      ],
      "metadata": {
        "colab": {
          "base_uri": "https://localhost:8080/"
        },
        "id": "0Eht6a39CA0-",
        "outputId": "2b2dcb6c-15bb-4681-8522-4c3be78eaf75"
      },
      "execution_count": 13,
      "outputs": [
        {
          "output_type": "stream",
          "name": "stdout",
          "text": [
            "Shape of X before PCA:  (479, 24)\n",
            "Shape of X after PCA:  (479, 11)\n"
          ]
        }
      ]
    },
    {
      "cell_type": "code",
      "source": [
        "columns_PCA = ['PCA Compponent %i' %i for i in range(1, 12)]\n",
        "PCA_Data = pd.DataFrame(pca_robust.transform(X_data), columns = columns_PCA)\n",
        "PCA_Data.head()"
      ],
      "metadata": {
        "colab": {
          "base_uri": "https://localhost:8080/",
          "height": 285
        },
        "id": "xi6IOPzMB7wP",
        "outputId": "948056ef-3fbf-4c49-b0fc-7ac43f87799a"
      },
      "execution_count": 14,
      "outputs": [
        {
          "output_type": "execute_result",
          "data": {
            "text/plain": [
              "   PCA Compponent 1  PCA Compponent 2  PCA Compponent 3  PCA Compponent 4  \\\n",
              "0         92.612130       -759.703597       -468.205714       -207.540402   \n",
              "1         60.449591       -581.424849       -354.105856       -149.777523   \n",
              "2        120.677057       -930.407666       -516.181806        -22.868818   \n",
              "3         92.715356       -668.485280       -403.108499       -182.936318   \n",
              "4         83.836784       -708.183597       -436.680200       -197.995967   \n",
              "\n",
              "   PCA Compponent 5  PCA Compponent 6  PCA Compponent 7  PCA Compponent 8  \\\n",
              "0       -261.716923        311.922436       1732.970831       4953.227073   \n",
              "1       -211.032797        238.357861       1333.516221       3828.319363   \n",
              "2       -274.644754        232.920545       1617.865639       4739.231619   \n",
              "3       -229.573694        250.218074       1489.212560       4247.167395   \n",
              "4       -237.612450        296.071599       1622.655557       4644.437425   \n",
              "\n",
              "   PCA Compponent 9  PCA Compponent 10  PCA Compponent 11  \n",
              "0       4522.103712        2407.820400         127.275232  \n",
              "1       3452.770932        1877.056216          96.474819  \n",
              "2       4344.550395        2357.358901          39.536363  \n",
              "3       3889.994381        2066.706536         106.803751  \n",
              "4       4229.363023        2247.233342         115.130833  "
            ],
            "text/html": [
              "\n",
              "  <div id=\"df-348aee62-493b-4b29-8c05-d982221f5664\">\n",
              "    <div class=\"colab-df-container\">\n",
              "      <div>\n",
              "<style scoped>\n",
              "    .dataframe tbody tr th:only-of-type {\n",
              "        vertical-align: middle;\n",
              "    }\n",
              "\n",
              "    .dataframe tbody tr th {\n",
              "        vertical-align: top;\n",
              "    }\n",
              "\n",
              "    .dataframe thead th {\n",
              "        text-align: right;\n",
              "    }\n",
              "</style>\n",
              "<table border=\"1\" class=\"dataframe\">\n",
              "  <thead>\n",
              "    <tr style=\"text-align: right;\">\n",
              "      <th></th>\n",
              "      <th>PCA Compponent 1</th>\n",
              "      <th>PCA Compponent 2</th>\n",
              "      <th>PCA Compponent 3</th>\n",
              "      <th>PCA Compponent 4</th>\n",
              "      <th>PCA Compponent 5</th>\n",
              "      <th>PCA Compponent 6</th>\n",
              "      <th>PCA Compponent 7</th>\n",
              "      <th>PCA Compponent 8</th>\n",
              "      <th>PCA Compponent 9</th>\n",
              "      <th>PCA Compponent 10</th>\n",
              "      <th>PCA Compponent 11</th>\n",
              "    </tr>\n",
              "  </thead>\n",
              "  <tbody>\n",
              "    <tr>\n",
              "      <th>0</th>\n",
              "      <td>92.612130</td>\n",
              "      <td>-759.703597</td>\n",
              "      <td>-468.205714</td>\n",
              "      <td>-207.540402</td>\n",
              "      <td>-261.716923</td>\n",
              "      <td>311.922436</td>\n",
              "      <td>1732.970831</td>\n",
              "      <td>4953.227073</td>\n",
              "      <td>4522.103712</td>\n",
              "      <td>2407.820400</td>\n",
              "      <td>127.275232</td>\n",
              "    </tr>\n",
              "    <tr>\n",
              "      <th>1</th>\n",
              "      <td>60.449591</td>\n",
              "      <td>-581.424849</td>\n",
              "      <td>-354.105856</td>\n",
              "      <td>-149.777523</td>\n",
              "      <td>-211.032797</td>\n",
              "      <td>238.357861</td>\n",
              "      <td>1333.516221</td>\n",
              "      <td>3828.319363</td>\n",
              "      <td>3452.770932</td>\n",
              "      <td>1877.056216</td>\n",
              "      <td>96.474819</td>\n",
              "    </tr>\n",
              "    <tr>\n",
              "      <th>2</th>\n",
              "      <td>120.677057</td>\n",
              "      <td>-930.407666</td>\n",
              "      <td>-516.181806</td>\n",
              "      <td>-22.868818</td>\n",
              "      <td>-274.644754</td>\n",
              "      <td>232.920545</td>\n",
              "      <td>1617.865639</td>\n",
              "      <td>4739.231619</td>\n",
              "      <td>4344.550395</td>\n",
              "      <td>2357.358901</td>\n",
              "      <td>39.536363</td>\n",
              "    </tr>\n",
              "    <tr>\n",
              "      <th>3</th>\n",
              "      <td>92.715356</td>\n",
              "      <td>-668.485280</td>\n",
              "      <td>-403.108499</td>\n",
              "      <td>-182.936318</td>\n",
              "      <td>-229.573694</td>\n",
              "      <td>250.218074</td>\n",
              "      <td>1489.212560</td>\n",
              "      <td>4247.167395</td>\n",
              "      <td>3889.994381</td>\n",
              "      <td>2066.706536</td>\n",
              "      <td>106.803751</td>\n",
              "    </tr>\n",
              "    <tr>\n",
              "      <th>4</th>\n",
              "      <td>83.836784</td>\n",
              "      <td>-708.183597</td>\n",
              "      <td>-436.680200</td>\n",
              "      <td>-197.995967</td>\n",
              "      <td>-237.612450</td>\n",
              "      <td>296.071599</td>\n",
              "      <td>1622.655557</td>\n",
              "      <td>4644.437425</td>\n",
              "      <td>4229.363023</td>\n",
              "      <td>2247.233342</td>\n",
              "      <td>115.130833</td>\n",
              "    </tr>\n",
              "  </tbody>\n",
              "</table>\n",
              "</div>\n",
              "      <button class=\"colab-df-convert\" onclick=\"convertToInteractive('df-348aee62-493b-4b29-8c05-d982221f5664')\"\n",
              "              title=\"Convert this dataframe to an interactive table.\"\n",
              "              style=\"display:none;\">\n",
              "        \n",
              "  <svg xmlns=\"http://www.w3.org/2000/svg\" height=\"24px\"viewBox=\"0 0 24 24\"\n",
              "       width=\"24px\">\n",
              "    <path d=\"M0 0h24v24H0V0z\" fill=\"none\"/>\n",
              "    <path d=\"M18.56 5.44l.94 2.06.94-2.06 2.06-.94-2.06-.94-.94-2.06-.94 2.06-2.06.94zm-11 1L8.5 8.5l.94-2.06 2.06-.94-2.06-.94L8.5 2.5l-.94 2.06-2.06.94zm10 10l.94 2.06.94-2.06 2.06-.94-2.06-.94-.94-2.06-.94 2.06-2.06.94z\"/><path d=\"M17.41 7.96l-1.37-1.37c-.4-.4-.92-.59-1.43-.59-.52 0-1.04.2-1.43.59L10.3 9.45l-7.72 7.72c-.78.78-.78 2.05 0 2.83L4 21.41c.39.39.9.59 1.41.59.51 0 1.02-.2 1.41-.59l7.78-7.78 2.81-2.81c.8-.78.8-2.07 0-2.86zM5.41 20L4 18.59l7.72-7.72 1.47 1.35L5.41 20z\"/>\n",
              "  </svg>\n",
              "      </button>\n",
              "      \n",
              "  <style>\n",
              "    .colab-df-container {\n",
              "      display:flex;\n",
              "      flex-wrap:wrap;\n",
              "      gap: 12px;\n",
              "    }\n",
              "\n",
              "    .colab-df-convert {\n",
              "      background-color: #E8F0FE;\n",
              "      border: none;\n",
              "      border-radius: 50%;\n",
              "      cursor: pointer;\n",
              "      display: none;\n",
              "      fill: #1967D2;\n",
              "      height: 32px;\n",
              "      padding: 0 0 0 0;\n",
              "      width: 32px;\n",
              "    }\n",
              "\n",
              "    .colab-df-convert:hover {\n",
              "      background-color: #E2EBFA;\n",
              "      box-shadow: 0px 1px 2px rgba(60, 64, 67, 0.3), 0px 1px 3px 1px rgba(60, 64, 67, 0.15);\n",
              "      fill: #174EA6;\n",
              "    }\n",
              "\n",
              "    [theme=dark] .colab-df-convert {\n",
              "      background-color: #3B4455;\n",
              "      fill: #D2E3FC;\n",
              "    }\n",
              "\n",
              "    [theme=dark] .colab-df-convert:hover {\n",
              "      background-color: #434B5C;\n",
              "      box-shadow: 0px 1px 3px 1px rgba(0, 0, 0, 0.15);\n",
              "      filter: drop-shadow(0px 1px 2px rgba(0, 0, 0, 0.3));\n",
              "      fill: #FFFFFF;\n",
              "    }\n",
              "  </style>\n",
              "\n",
              "      <script>\n",
              "        const buttonEl =\n",
              "          document.querySelector('#df-348aee62-493b-4b29-8c05-d982221f5664 button.colab-df-convert');\n",
              "        buttonEl.style.display =\n",
              "          google.colab.kernel.accessAllowed ? 'block' : 'none';\n",
              "\n",
              "        async function convertToInteractive(key) {\n",
              "          const element = document.querySelector('#df-348aee62-493b-4b29-8c05-d982221f5664');\n",
              "          const dataTable =\n",
              "            await google.colab.kernel.invokeFunction('convertToInteractive',\n",
              "                                                     [key], {});\n",
              "          if (!dataTable) return;\n",
              "\n",
              "          const docLinkHtml = 'Like what you see? Visit the ' +\n",
              "            '<a target=\"_blank\" href=https://colab.research.google.com/notebooks/data_table.ipynb>data table notebook</a>'\n",
              "            + ' to learn more about interactive tables.';\n",
              "          element.innerHTML = '';\n",
              "          dataTable['output_type'] = 'display_data';\n",
              "          await google.colab.output.renderOutput(dataTable, element);\n",
              "          const docLink = document.createElement('div');\n",
              "          docLink.innerHTML = docLinkHtml;\n",
              "          element.appendChild(docLink);\n",
              "        }\n",
              "      </script>\n",
              "    </div>\n",
              "  </div>\n",
              "  "
            ]
          },
          "metadata": {},
          "execution_count": 14
        }
      ]
    },
    {
      "cell_type": "code",
      "source": [
        "from sklearn.preprocessing import LabelEncoder\n",
        "encoder = LabelEncoder()\n",
        "Y_encoded = encoder.fit_transform(Y_data)"
      ],
      "metadata": {
        "id": "aSavIgg1NpCk"
      },
      "execution_count": 15,
      "outputs": []
    },
    {
      "cell_type": "code",
      "source": [
        "X = PCA_Data.values\n",
        "Y = Y_encoded"
      ],
      "metadata": {
        "id": "CrTfBs2TClW0"
      },
      "execution_count": 16,
      "outputs": []
    },
    {
      "cell_type": "markdown",
      "source": [
        "## Split into Test and Train Sets"
      ],
      "metadata": {
        "id": "xuVNruh_C2BF"
      }
    },
    {
      "cell_type": "code",
      "source": [
        "from sklearn.model_selection import train_test_split\n",
        "X_train, X_test, Y_train, Y_test = train_test_split(X, Y, random_state=42, test_size = 0.2)\n",
        "print('X_train shape: ', X_train.shape)\n",
        "print('X_test shape: ', X_test.shape)\n",
        "print('Y_train shape: ', Y_train.shape)\n",
        "print('Y_test shape: ', Y_test.shape)"
      ],
      "metadata": {
        "colab": {
          "base_uri": "https://localhost:8080/"
        },
        "id": "6uki5Om8C0zS",
        "outputId": "d0522337-17e2-4fb4-8059-30e5796dcfd3"
      },
      "execution_count": 17,
      "outputs": [
        {
          "output_type": "stream",
          "name": "stdout",
          "text": [
            "X_train shape:  (383, 11)\n",
            "X_test shape:  (96, 11)\n",
            "Y_train shape:  (383,)\n",
            "Y_test shape:  (96,)\n"
          ]
        }
      ]
    },
    {
      "cell_type": "markdown",
      "source": [
        "## ML Techniques - Balanced Target class"
      ],
      "metadata": {
        "id": "-9yvTh88-1XI"
      }
    },
    {
      "cell_type": "code",
      "source": [
        "from sklearn.metrics import classification_report, confusion_matrix, ConfusionMatrixDisplay, accuracy_score, roc_curve, roc_auc_score"
      ],
      "metadata": {
        "id": "kyPMj6Y7fovJ"
      },
      "execution_count": 18,
      "outputs": []
    },
    {
      "cell_type": "markdown",
      "source": [
        "### k-Neighbours Classifier\n",
        "\n",
        "We can quickly tweak the n_neighbors to prevent overfitting."
      ],
      "metadata": {
        "id": "xt7xuZMKc46j"
      }
    },
    {
      "cell_type": "code",
      "source": [
        "from sklearn.neighbors import KNeighborsClassifier\n",
        "kNN_classifier_balanced = KNeighborsClassifier(n_neighbors = 5)\n",
        "kNN_classifier_balanced.fit(X_train, Y_train)\n",
        "kNN_classifier_balanced.get_params()"
      ],
      "metadata": {
        "colab": {
          "base_uri": "https://localhost:8080/"
        },
        "outputId": "488978fd-9b05-4dc6-df8f-65d8c92b9b76",
        "id": "zaeOc9Hqc46k"
      },
      "execution_count": 19,
      "outputs": [
        {
          "output_type": "execute_result",
          "data": {
            "text/plain": [
              "{'algorithm': 'auto',\n",
              " 'leaf_size': 30,\n",
              " 'metric': 'minkowski',\n",
              " 'metric_params': None,\n",
              " 'n_jobs': None,\n",
              " 'n_neighbors': 5,\n",
              " 'p': 2,\n",
              " 'weights': 'uniform'}"
            ]
          },
          "metadata": {},
          "execution_count": 19
        }
      ]
    },
    {
      "cell_type": "code",
      "source": [
        "y_pred_kNN_balanced = kNN_classifier_balanced.predict(X_test)\n",
        "y_pred_kNN_train_balanced = kNN_classifier_balanced.predict(X_train)\n",
        "print('Accuracy of the training set: ', accuracy_score(Y_train, y_pred_kNN_train_balanced))\n",
        "print('Accuracy of the testing set: ', accuracy_score(Y_test, y_pred_kNN_balanced))"
      ],
      "metadata": {
        "colab": {
          "base_uri": "https://localhost:8080/"
        },
        "outputId": "2fb0be9a-821b-4026-f1cc-84a2e8c578ec",
        "id": "jYcUoOXxc46k"
      },
      "execution_count": 20,
      "outputs": [
        {
          "output_type": "stream",
          "name": "stdout",
          "text": [
            "Accuracy of the training set:  0.8276762402088773\n",
            "Accuracy of the testing set:  0.78125\n"
          ]
        }
      ]
    },
    {
      "cell_type": "code",
      "source": [
        "print(classification_report(Y_test, y_pred_kNN_balanced))\n",
        "ConfusionMatrixDisplay.from_predictions(Y_test, y_pred_kNN_balanced, colorbar=False)"
      ],
      "metadata": {
        "colab": {
          "base_uri": "https://localhost:8080/",
          "height": 459
        },
        "outputId": "9d23991f-13ab-45b2-dd59-04c0216480b2",
        "id": "dW6MEOSoc46l"
      },
      "execution_count": 21,
      "outputs": [
        {
          "output_type": "stream",
          "name": "stdout",
          "text": [
            "              precision    recall  f1-score   support\n",
            "\n",
            "           0       0.94      0.61      0.74        49\n",
            "           1       0.70      0.96      0.81        47\n",
            "\n",
            "    accuracy                           0.78        96\n",
            "   macro avg       0.82      0.78      0.78        96\n",
            "weighted avg       0.82      0.78      0.78        96\n",
            "\n"
          ]
        },
        {
          "output_type": "execute_result",
          "data": {
            "text/plain": [
              "<sklearn.metrics._plot.confusion_matrix.ConfusionMatrixDisplay at 0x7f97d13cddc0>"
            ]
          },
          "metadata": {},
          "execution_count": 21
        },
        {
          "output_type": "display_data",
          "data": {
            "text/plain": [
              "<Figure size 432x288 with 1 Axes>"
            ],
            "image/png": "[encoded data removed]"
          },
          "metadata": {}
        }
      ]
    },
    {
      "cell_type": "markdown",
      "source": [
        "### Naive Bayes"
      ],
      "metadata": {
        "id": "t6OskHsEc46h"
      }
    },
    {
      "cell_type": "code",
      "source": [
        "from sklearn.naive_bayes import GaussianNB\n",
        "NB_classifier_balanced = GaussianNB()\n",
        "NB_classifier_balanced.fit(X_train, Y_train)\n",
        "NB_classifier_balanced.get_params()"
      ],
      "metadata": {
        "colab": {
          "base_uri": "https://localhost:8080/"
        },
        "outputId": "404f864b-16ce-4a18-9300-f7220443006e",
        "id": "jGUDVQHsc46h"
      },
      "execution_count": 22,
      "outputs": [
        {
          "output_type": "execute_result",
          "data": {
            "text/plain": [
              "{'priors': None, 'var_smoothing': 1e-09}"
            ]
          },
          "metadata": {},
          "execution_count": 22
        }
      ]
    },
    {
      "cell_type": "code",
      "source": [
        "y_pred_NB_balanced = NB_classifier_balanced.predict(X_test)\n",
        "y_pred_NB_train_balanced = NB_classifier_balanced.predict(X_train)\n",
        "print('Accuracy of the training set: ', accuracy_score(Y_train, y_pred_NB_train_balanced))\n",
        "print('Accuracy of the testing set: ', accuracy_score(Y_test, y_pred_NB_balanced))"
      ],
      "metadata": {
        "colab": {
          "base_uri": "https://localhost:8080/"
        },
        "id": "sfDTpz2Ac46i",
        "outputId": "48afd139-8075-4cd4-fa77-3c426ce03409"
      },
      "execution_count": 23,
      "outputs": [
        {
          "output_type": "stream",
          "name": "stdout",
          "text": [
            "Accuracy of the training set:  0.7154046997389034\n",
            "Accuracy of the testing set:  0.75\n"
          ]
        }
      ]
    },
    {
      "cell_type": "code",
      "source": [
        "print(classification_report(Y_test, y_pred_NB_balanced))\n",
        "ConfusionMatrixDisplay.from_predictions(Y_test, y_pred_NB_balanced, colorbar=False)"
      ],
      "metadata": {
        "colab": {
          "base_uri": "https://localhost:8080/",
          "height": 459
        },
        "outputId": "8f09c519-801a-4bd1-e32e-b2683dbfa61f",
        "id": "51Kj5-Phc46j"
      },
      "execution_count": 24,
      "outputs": [
        {
          "output_type": "stream",
          "name": "stdout",
          "text": [
            "              precision    recall  f1-score   support\n",
            "\n",
            "           0       0.78      0.71      0.74        49\n",
            "           1       0.73      0.79      0.76        47\n",
            "\n",
            "    accuracy                           0.75        96\n",
            "   macro avg       0.75      0.75      0.75        96\n",
            "weighted avg       0.75      0.75      0.75        96\n",
            "\n"
          ]
        },
        {
          "output_type": "execute_result",
          "data": {
            "text/plain": [
              "<sklearn.metrics._plot.confusion_matrix.ConfusionMatrixDisplay at 0x7f97d1367130>"
            ]
          },
          "metadata": {},
          "execution_count": 24
        },
        {
          "output_type": "display_data",
          "data": {
            "text/plain": [
              "<Figure size 432x288 with 1 Axes>"
            ],
            "image/png": "[encoded data removed]"
          },
          "metadata": {}
        }
      ]
    },
    {
      "cell_type": "markdown",
      "source": [
        "### Support Vector Machine"
      ],
      "metadata": {
        "id": "SgBmpmVrc46b"
      }
    },
    {
      "cell_type": "code",
      "source": [
        "from sklearn.svm import SVC\n",
        "SVM_classifier_balanced = SVC(random_state = 42, C = 0.01)\n",
        "SVM_classifier_balanced.fit(X_train, Y_train)\n",
        "y_pred_SVM_balanced = SVM_classifier_balanced.predict(X_test)\n",
        "SVM_classifier_balanced.get_params()"
      ],
      "metadata": {
        "id": "OwDfbTmNc46c",
        "colab": {
          "base_uri": "https://localhost:8080/"
        },
        "outputId": "200393e0-4219-4fe1-f906-7e630904e4d4"
      },
      "execution_count": 25,
      "outputs": [
        {
          "output_type": "execute_result",
          "data": {
            "text/plain": [
              "{'C': 0.01,\n",
              " 'break_ties': False,\n",
              " 'cache_size': 200,\n",
              " 'class_weight': None,\n",
              " 'coef0': 0.0,\n",
              " 'decision_function_shape': 'ovr',\n",
              " 'degree': 3,\n",
              " 'gamma': 'scale',\n",
              " 'kernel': 'rbf',\n",
              " 'max_iter': -1,\n",
              " 'probability': False,\n",
              " 'random_state': 42,\n",
              " 'shrinking': True,\n",
              " 'tol': 0.001,\n",
              " 'verbose': False}"
            ]
          },
          "metadata": {},
          "execution_count": 25
        }
      ]
    },
    {
      "cell_type": "code",
      "source": [
        "y_pred_SVM_train_balanced = SVM_classifier_balanced.predict(X_train)\n",
        "print('Accuracy of the training set: ', accuracy_score(Y_train, y_pred_SVM_train_balanced))\n",
        "print('Accuracy of the testing set: ', accuracy_score(Y_test, y_pred_SVM_balanced))"
      ],
      "metadata": {
        "colab": {
          "base_uri": "https://localhost:8080/"
        },
        "outputId": "46249540-a83f-477d-e904-35920b29496b",
        "id": "_sEAAaXbc46c"
      },
      "execution_count": 26,
      "outputs": [
        {
          "output_type": "stream",
          "name": "stdout",
          "text": [
            "Accuracy of the training set:  0.5248041775456919\n",
            "Accuracy of the testing set:  0.5104166666666666\n"
          ]
        }
      ]
    },
    {
      "cell_type": "code",
      "source": [
        "print(classification_report(Y_test, y_pred_SVM_balanced, labels = np.unique(y_pred_SVM_balanced)))"
      ],
      "metadata": {
        "colab": {
          "base_uri": "https://localhost:8080/"
        },
        "outputId": "99766f78-0776-4e2b-ef63-7bbe6cabbf00",
        "id": "0S-BjiC7c46d"
      },
      "execution_count": 27,
      "outputs": [
        {
          "output_type": "stream",
          "name": "stdout",
          "text": [
            "              precision    recall  f1-score   support\n",
            "\n",
            "           0       0.51      1.00      0.68        49\n",
            "\n",
            "   micro avg       0.51      1.00      0.68        49\n",
            "   macro avg       0.51      1.00      0.68        49\n",
            "weighted avg       0.51      1.00      0.68        49\n",
            "\n"
          ]
        }
      ]
    },
    {
      "cell_type": "code",
      "source": [
        "ConfusionMatrixDisplay.from_predictions(Y_test, y_pred_SVM_balanced, colorbar=False)"
      ],
      "metadata": {
        "colab": {
          "base_uri": "https://localhost:8080/",
          "height": 302
        },
        "outputId": "0b3f04d8-dee2-41e2-d337-ee7d0c6bfe36",
        "id": "oN9TtjYSc46d"
      },
      "execution_count": 28,
      "outputs": [
        {
          "output_type": "execute_result",
          "data": {
            "text/plain": [
              "<sklearn.metrics._plot.confusion_matrix.ConfusionMatrixDisplay at 0x7f97d12b4e50>"
            ]
          },
          "metadata": {},
          "execution_count": 28
        },
        {
          "output_type": "display_data",
          "data": {
            "text/plain": [
              "<Figure size 432x288 with 1 Axes>"
            ],
            "image/png": "[encoded data removed]"
          },
          "metadata": {}
        }
      ]
    },
    {
      "cell_type": "markdown",
      "source": [
        "### Logistic Regression"
      ],
      "metadata": {
        "id": "E7ud_DzIc46e"
      }
    },
    {
      "cell_type": "code",
      "source": [
        "from sklearn.linear_model import LogisticRegression\n",
        "LR_classifier_balanced = LogisticRegression(random_state = 42, solver = 'liblinear')\n",
        "LR_classifier_balanced.fit(X_train, Y_train)\n",
        "LR_classifier_balanced.get_params()"
      ],
      "metadata": {
        "colab": {
          "base_uri": "https://localhost:8080/"
        },
        "outputId": "7888b478-15ea-4476-c330-235176f221f3",
        "id": "BGKaHyWFc46f"
      },
      "execution_count": 29,
      "outputs": [
        {
          "output_type": "execute_result",
          "data": {
            "text/plain": [
              "{'C': 1.0,\n",
              " 'class_weight': None,\n",
              " 'dual': False,\n",
              " 'fit_intercept': True,\n",
              " 'intercept_scaling': 1,\n",
              " 'l1_ratio': None,\n",
              " 'max_iter': 100,\n",
              " 'multi_class': 'auto',\n",
              " 'n_jobs': None,\n",
              " 'penalty': 'l2',\n",
              " 'random_state': 42,\n",
              " 'solver': 'liblinear',\n",
              " 'tol': 0.0001,\n",
              " 'verbose': 0,\n",
              " 'warm_start': False}"
            ]
          },
          "metadata": {},
          "execution_count": 29
        }
      ]
    },
    {
      "cell_type": "code",
      "source": [
        "y_pred_LR_balanced = LR_classifier_balanced.predict(X_test)\n",
        "y_pred_LR_train_balanced = LR_classifier_balanced.predict(X_train)\n",
        "print('Accuracy of the training set: ', accuracy_score(Y_train, y_pred_LR_train_balanced))\n",
        "print('Accuracy of the testing set: ', accuracy_score(Y_test, y_pred_LR_balanced))"
      ],
      "metadata": {
        "colab": {
          "base_uri": "https://localhost:8080/"
        },
        "id": "7ct9d-zwc46f",
        "outputId": "7d32b00c-1d0a-4e22-eaf1-c5c49fa4c7b7"
      },
      "execution_count": 30,
      "outputs": [
        {
          "output_type": "stream",
          "name": "stdout",
          "text": [
            "Accuracy of the training set:  0.9817232375979112\n",
            "Accuracy of the testing set:  0.9791666666666666\n"
          ]
        }
      ]
    },
    {
      "cell_type": "code",
      "source": [
        "print(classification_report(Y_test, y_pred_LR_balanced))"
      ],
      "metadata": {
        "colab": {
          "base_uri": "https://localhost:8080/"
        },
        "outputId": "7a43237b-ca43-4b17-8df5-f992f1ef8540",
        "id": "CSYBxuQMc46g"
      },
      "execution_count": 31,
      "outputs": [
        {
          "output_type": "stream",
          "name": "stdout",
          "text": [
            "              precision    recall  f1-score   support\n",
            "\n",
            "           0       0.98      0.98      0.98        49\n",
            "           1       0.98      0.98      0.98        47\n",
            "\n",
            "    accuracy                           0.98        96\n",
            "   macro avg       0.98      0.98      0.98        96\n",
            "weighted avg       0.98      0.98      0.98        96\n",
            "\n"
          ]
        }
      ]
    },
    {
      "cell_type": "code",
      "source": [
        "ConfusionMatrixDisplay.from_predictions(Y_test, y_pred_LR_balanced, colorbar=False)"
      ],
      "metadata": {
        "colab": {
          "base_uri": "https://localhost:8080/",
          "height": 302
        },
        "outputId": "c9354d8f-e9dc-4692-8138-141f29ac50b9",
        "id": "FtzmnoM7c46h"
      },
      "execution_count": 32,
      "outputs": [
        {
          "output_type": "execute_result",
          "data": {
            "text/plain": [
              "<sklearn.metrics._plot.confusion_matrix.ConfusionMatrixDisplay at 0x7f97d1276760>"
            ]
          },
          "metadata": {},
          "execution_count": 32
        },
        {
          "output_type": "display_data",
          "data": {
            "text/plain": [
              "<Figure size 432x288 with 1 Axes>"
            ],
            "image/png": "[encoded data removed]"
          },
          "metadata": {}
        }
      ]
    },
    {
      "cell_type": "markdown",
      "source": [
        "### Decision Tree Classifier\n",
        "\n",
        "We limit the *max_depth* since this is a small dataset, in order to avoid overfitting."
      ],
      "metadata": {
        "id": "--mAn3adc46l"
      }
    },
    {
      "cell_type": "code",
      "source": [
        "from sklearn.tree import DecisionTreeClassifier\n",
        "DT_classifier_balanced = DecisionTreeClassifier(max_depth = 5)\n",
        "DT_classifier_balanced.fit(X_train, Y_train)\n",
        "DT_classifier_balanced.get_params()"
      ],
      "metadata": {
        "colab": {
          "base_uri": "https://localhost:8080/"
        },
        "outputId": "f09fa898-d937-4f74-eb61-879e76ce470a",
        "id": "aLN3fel_c46m"
      },
      "execution_count": 33,
      "outputs": [
        {
          "output_type": "execute_result",
          "data": {
            "text/plain": [
              "{'ccp_alpha': 0.0,\n",
              " 'class_weight': None,\n",
              " 'criterion': 'gini',\n",
              " 'max_depth': 5,\n",
              " 'max_features': None,\n",
              " 'max_leaf_nodes': None,\n",
              " 'min_impurity_decrease': 0.0,\n",
              " 'min_samples_leaf': 1,\n",
              " 'min_samples_split': 2,\n",
              " 'min_weight_fraction_leaf': 0.0,\n",
              " 'random_state': None,\n",
              " 'splitter': 'best'}"
            ]
          },
          "metadata": {},
          "execution_count": 33
        }
      ]
    },
    {
      "cell_type": "code",
      "source": [
        "y_pred_DT_balanced = DT_classifier_balanced.predict(X_test)\n",
        "y_pred_DT_train_balanced = DT_classifier_balanced.predict(X_train)\n",
        "print('Accuracy of the training set: ', accuracy_score(Y_train, y_pred_DT_train_balanced))\n",
        "print('Accuracy of the testing set: ', accuracy_score(Y_test, y_pred_DT_balanced))"
      ],
      "metadata": {
        "colab": {
          "base_uri": "https://localhost:8080/"
        },
        "outputId": "11999b24-a7b2-4740-c5cf-36f1283bb380",
        "id": "PQNVHiJic46m"
      },
      "execution_count": 34,
      "outputs": [
        {
          "output_type": "stream",
          "name": "stdout",
          "text": [
            "Accuracy of the training set:  0.9242819843342036\n",
            "Accuracy of the testing set:  0.8541666666666666\n"
          ]
        }
      ]
    },
    {
      "cell_type": "code",
      "source": [
        "print(classification_report(Y_test, y_pred_DT_balanced))\n",
        "ConfusionMatrixDisplay.from_predictions(Y_test, y_pred_DT_balanced, colorbar=False)"
      ],
      "metadata": {
        "colab": {
          "base_uri": "https://localhost:8080/",
          "height": 459
        },
        "outputId": "959f6286-1bea-4db6-f7ba-f81f41f1c129",
        "id": "EnzduOhEc46o"
      },
      "execution_count": 35,
      "outputs": [
        {
          "output_type": "stream",
          "name": "stdout",
          "text": [
            "              precision    recall  f1-score   support\n",
            "\n",
            "           0       0.95      0.76      0.84        49\n",
            "           1       0.79      0.96      0.87        47\n",
            "\n",
            "    accuracy                           0.85        96\n",
            "   macro avg       0.87      0.86      0.85        96\n",
            "weighted avg       0.87      0.85      0.85        96\n",
            "\n"
          ]
        },
        {
          "output_type": "execute_result",
          "data": {
            "text/plain": [
              "<sklearn.metrics._plot.confusion_matrix.ConfusionMatrixDisplay at 0x7f97d1241fa0>"
            ]
          },
          "metadata": {},
          "execution_count": 35
        },
        {
          "output_type": "display_data",
          "data": {
            "text/plain": [
              "<Figure size 432x288 with 1 Axes>"
            ],
            "image/png": "[encoded data removed]"
          },
          "metadata": {}
        }
      ]
    },
    {
      "cell_type": "markdown",
      "source": [
        "### Random Forest Classifier\n",
        "\n",
        "We limit the max_depth since this is a small dataset, in order to control overfitting - we still need to fine-tune the hyperparameters in order to prevent overfitting."
      ],
      "metadata": {
        "id": "EMTxmnG6c46o"
      }
    },
    {
      "cell_type": "code",
      "source": [
        "from sklearn.ensemble import RandomForestClassifier\n",
        "RF_classifier_balanced = RandomForestClassifier(max_depth=4)\n",
        "RF_classifier_balanced.fit(X_train, Y_train)\n",
        "RF_classifier_balanced.get_params()"
      ],
      "metadata": {
        "colab": {
          "base_uri": "https://localhost:8080/"
        },
        "outputId": "90777a48-da7c-4bdd-e4bb-9f1fedf2a023",
        "id": "6FyBRL7zc46p"
      },
      "execution_count": 36,
      "outputs": [
        {
          "output_type": "execute_result",
          "data": {
            "text/plain": [
              "{'bootstrap': True,\n",
              " 'ccp_alpha': 0.0,\n",
              " 'class_weight': None,\n",
              " 'criterion': 'gini',\n",
              " 'max_depth': 4,\n",
              " 'max_features': 'auto',\n",
              " 'max_leaf_nodes': None,\n",
              " 'max_samples': None,\n",
              " 'min_impurity_decrease': 0.0,\n",
              " 'min_samples_leaf': 1,\n",
              " 'min_samples_split': 2,\n",
              " 'min_weight_fraction_leaf': 0.0,\n",
              " 'n_estimators': 100,\n",
              " 'n_jobs': None,\n",
              " 'oob_score': False,\n",
              " 'random_state': None,\n",
              " 'verbose': 0,\n",
              " 'warm_start': False}"
            ]
          },
          "metadata": {},
          "execution_count": 36
        }
      ]
    },
    {
      "cell_type": "code",
      "source": [
        "y_pred_RF_balanced = RF_classifier_balanced.predict(X_test)\n",
        "y_pred_RF_train_balanced = RF_classifier_balanced.predict(X_train)\n",
        "print('Accuracy of the training set: ', accuracy_score(Y_train, y_pred_RF_train_balanced))\n",
        "print('Accuracy of the testing set: ', accuracy_score(Y_test, y_pred_RF_balanced))"
      ],
      "metadata": {
        "colab": {
          "base_uri": "https://localhost:8080/"
        },
        "outputId": "00830b89-6551-46de-efba-1508ffd1e48c",
        "id": "f5OG2FGKc46p"
      },
      "execution_count": 37,
      "outputs": [
        {
          "output_type": "stream",
          "name": "stdout",
          "text": [
            "Accuracy of the training set:  0.8903394255874674\n",
            "Accuracy of the testing set:  0.84375\n"
          ]
        }
      ]
    },
    {
      "cell_type": "code",
      "source": [
        "print(classification_report(Y_test, y_pred_RF_balanced))\n",
        "ConfusionMatrixDisplay.from_predictions(Y_test, y_pred_RF_balanced, colorbar=False)"
      ],
      "metadata": {
        "colab": {
          "base_uri": "https://localhost:8080/",
          "height": 459
        },
        "outputId": "31d68bd3-cc73-4f1f-fe58-9a5ed80a753b",
        "id": "1e74-w05c46q"
      },
      "execution_count": 38,
      "outputs": [
        {
          "output_type": "stream",
          "name": "stdout",
          "text": [
            "              precision    recall  f1-score   support\n",
            "\n",
            "           0       0.97      0.71      0.82        49\n",
            "           1       0.77      0.98      0.86        47\n",
            "\n",
            "    accuracy                           0.84        96\n",
            "   macro avg       0.87      0.85      0.84        96\n",
            "weighted avg       0.87      0.84      0.84        96\n",
            "\n"
          ]
        },
        {
          "output_type": "execute_result",
          "data": {
            "text/plain": [
              "<sklearn.metrics._plot.confusion_matrix.ConfusionMatrixDisplay at 0x7f97d12b49d0>"
            ]
          },
          "metadata": {},
          "execution_count": 38
        },
        {
          "output_type": "display_data",
          "data": {
            "text/plain": [
              "<Figure size 432x288 with 1 Axes>"
            ],
            "image/png": "[encoded data removed]"
          },
          "metadata": {}
        }
      ]
    },
    {
      "cell_type": "markdown",
      "source": [
        "### AdaBoost Classifier"
      ],
      "metadata": {
        "id": "51jBkLF9c46q"
      }
    },
    {
      "cell_type": "code",
      "source": [
        "from sklearn.ensemble import AdaBoostClassifier\n",
        "adaboost_balanced = AdaBoostClassifier(random_state = 42, base_estimator = RandomForestClassifier(max_depth = 7))\n",
        "adaboost_balanced.fit(X_train, Y_train)\n",
        "adaboost_balanced.get_params()"
      ],
      "metadata": {
        "colab": {
          "base_uri": "https://localhost:8080/"
        },
        "outputId": "d72509cd-dce1-4a82-baa2-2ab8572f8868",
        "id": "L0Z18TtHc46r"
      },
      "execution_count": 39,
      "outputs": [
        {
          "output_type": "execute_result",
          "data": {
            "text/plain": [
              "{'algorithm': 'SAMME.R',\n",
              " 'base_estimator__bootstrap': True,\n",
              " 'base_estimator__ccp_alpha': 0.0,\n",
              " 'base_estimator__class_weight': None,\n",
              " 'base_estimator__criterion': 'gini',\n",
              " 'base_estimator__max_depth': 7,\n",
              " 'base_estimator__max_features': 'auto',\n",
              " 'base_estimator__max_leaf_nodes': None,\n",
              " 'base_estimator__max_samples': None,\n",
              " 'base_estimator__min_impurity_decrease': 0.0,\n",
              " 'base_estimator__min_samples_leaf': 1,\n",
              " 'base_estimator__min_samples_split': 2,\n",
              " 'base_estimator__min_weight_fraction_leaf': 0.0,\n",
              " 'base_estimator__n_estimators': 100,\n",
              " 'base_estimator__n_jobs': None,\n",
              " 'base_estimator__oob_score': False,\n",
              " 'base_estimator__random_state': None,\n",
              " 'base_estimator__verbose': 0,\n",
              " 'base_estimator__warm_start': False,\n",
              " 'base_estimator': RandomForestClassifier(max_depth=7),\n",
              " 'learning_rate': 1.0,\n",
              " 'n_estimators': 50,\n",
              " 'random_state': 42}"
            ]
          },
          "metadata": {},
          "execution_count": 39
        }
      ]
    },
    {
      "cell_type": "code",
      "source": [
        "y_pred_Adaboost_balanced = adaboost_balanced.predict(X_test)\n",
        "print('Accuracy of the training set: ', adaboost_balanced.score(X_train, Y_train))\n",
        "print('Accuracy of the testing set: ', accuracy_score(Y_test, y_pred_Adaboost_balanced))"
      ],
      "metadata": {
        "colab": {
          "base_uri": "https://localhost:8080/"
        },
        "outputId": "a3d18a6f-258f-49db-a6f6-571eb1aa8cbd",
        "id": "UYH21TgMc46r"
      },
      "execution_count": 40,
      "outputs": [
        {
          "output_type": "stream",
          "name": "stdout",
          "text": [
            "Accuracy of the training set:  0.97911227154047\n",
            "Accuracy of the testing set:  0.8645833333333334\n"
          ]
        }
      ]
    },
    {
      "cell_type": "code",
      "source": [
        "print(classification_report(Y_test, y_pred_Adaboost_balanced))\n",
        "ConfusionMatrixDisplay.from_predictions(Y_test, y_pred_Adaboost_balanced, colorbar=False)"
      ],
      "metadata": {
        "colab": {
          "base_uri": "https://localhost:8080/",
          "height": 459
        },
        "outputId": "da7eb0ae-6783-44f0-e3e0-15939fcdadd6",
        "id": "DCCOXhZMc46s"
      },
      "execution_count": 41,
      "outputs": [
        {
          "output_type": "stream",
          "name": "stdout",
          "text": [
            "              precision    recall  f1-score   support\n",
            "\n",
            "           0       0.97      0.76      0.85        49\n",
            "           1       0.79      0.98      0.88        47\n",
            "\n",
            "    accuracy                           0.86        96\n",
            "   macro avg       0.88      0.87      0.86        96\n",
            "weighted avg       0.89      0.86      0.86        96\n",
            "\n"
          ]
        },
        {
          "output_type": "execute_result",
          "data": {
            "text/plain": [
              "<sklearn.metrics._plot.confusion_matrix.ConfusionMatrixDisplay at 0x7f97d11275e0>"
            ]
          },
          "metadata": {},
          "execution_count": 41
        },
        {
          "output_type": "display_data",
          "data": {
            "text/plain": [
              "<Figure size 432x288 with 1 Axes>"
            ],
            "image/png": "[encoded data removed]"
          },
          "metadata": {}
        }
      ]
    },
    {
      "cell_type": "markdown",
      "source": [
        "### XGBoost Classifier\n",
        "\n",
        "We limit the n_estimators and the learning_rate."
      ],
      "metadata": {
        "id": "qlVPSEM-c46t"
      }
    },
    {
      "cell_type": "code",
      "source": [
        "from xgboost import XGBClassifier\n",
        "xgb_classifier_balanced = XGBClassifier(random_state = 42, n_estimators = 50)\n",
        "xgb_classifier_balanced.fit(X_train, Y_train)\n",
        "xgb_classifier_balanced.get_params()"
      ],
      "metadata": {
        "colab": {
          "base_uri": "https://localhost:8080/"
        },
        "outputId": "3f8b14c0-4946-48b9-b4a3-0244b005bc1e",
        "id": "hQwn1aZpc46t"
      },
      "execution_count": 42,
      "outputs": [
        {
          "output_type": "execute_result",
          "data": {
            "text/plain": [
              "{'base_score': 0.5,\n",
              " 'booster': 'gbtree',\n",
              " 'colsample_bylevel': 1,\n",
              " 'colsample_bynode': 1,\n",
              " 'colsample_bytree': 1,\n",
              " 'gamma': 0,\n",
              " 'learning_rate': 0.1,\n",
              " 'max_delta_step': 0,\n",
              " 'max_depth': 3,\n",
              " 'min_child_weight': 1,\n",
              " 'missing': None,\n",
              " 'n_estimators': 50,\n",
              " 'n_jobs': 1,\n",
              " 'nthread': None,\n",
              " 'objective': 'binary:logistic',\n",
              " 'random_state': 42,\n",
              " 'reg_alpha': 0,\n",
              " 'reg_lambda': 1,\n",
              " 'scale_pos_weight': 1,\n",
              " 'seed': None,\n",
              " 'silent': None,\n",
              " 'subsample': 1,\n",
              " 'verbosity': 1}"
            ]
          },
          "metadata": {},
          "execution_count": 42
        }
      ]
    },
    {
      "cell_type": "code",
      "source": [
        "y_pred_XGB_balanced = xgb_classifier_balanced.predict(X_test)\n",
        "print('Accuracy of the training set: ', xgb_classifier_balanced.score(X_train, Y_train))\n",
        "print('Accuracy of the testing set: ', accuracy_score(Y_test, y_pred_XGB_balanced))"
      ],
      "metadata": {
        "colab": {
          "base_uri": "https://localhost:8080/"
        },
        "outputId": "3844c279-5e43-4e58-8149-713d7f0d72d2",
        "id": "kjket3zRc46t"
      },
      "execution_count": 43,
      "outputs": [
        {
          "output_type": "stream",
          "name": "stdout",
          "text": [
            "Accuracy of the training set:  0.9503916449086162\n",
            "Accuracy of the testing set:  0.8854166666666666\n"
          ]
        }
      ]
    },
    {
      "cell_type": "code",
      "source": [
        "print(classification_report(Y_test, y_pred_XGB_balanced))\n",
        "ConfusionMatrixDisplay.from_predictions(Y_test, y_pred_XGB_balanced, colorbar=False)"
      ],
      "metadata": {
        "colab": {
          "base_uri": "https://localhost:8080/",
          "height": 459
        },
        "outputId": "be4928e6-07f9-4b16-b4cc-1fa5743e07b2",
        "id": "BJ8OkQORc46u"
      },
      "execution_count": 44,
      "outputs": [
        {
          "output_type": "stream",
          "name": "stdout",
          "text": [
            "              precision    recall  f1-score   support\n",
            "\n",
            "           0       0.97      0.80      0.88        49\n",
            "           1       0.82      0.98      0.89        47\n",
            "\n",
            "    accuracy                           0.89        96\n",
            "   macro avg       0.90      0.89      0.88        96\n",
            "weighted avg       0.90      0.89      0.88        96\n",
            "\n"
          ]
        },
        {
          "output_type": "execute_result",
          "data": {
            "text/plain": [
              "<sklearn.metrics._plot.confusion_matrix.ConfusionMatrixDisplay at 0x7f97d1241610>"
            ]
          },
          "metadata": {},
          "execution_count": 44
        },
        {
          "output_type": "display_data",
          "data": {
            "text/plain": [
              "<Figure size 432x288 with 1 Axes>"
            ],
            "image/png": "[encoded data removed]"
          },
          "metadata": {}
        }
      ]
    },
    {
      "cell_type": "markdown",
      "source": [
        "### Voting Classifier"
      ],
      "metadata": {
        "id": "8itM3oBxW4fp"
      }
    },
    {
      "cell_type": "code",
      "source": [
        "from sklearn.ensemble import VotingClassifier\n",
        "\n",
        "VC = VotingClassifier(estimators = [('kNN', kNN_classifier_balanced), ('NB', NB_classifier_balanced), ('SVM', SVM_classifier_balanced),\n",
        "                                    ('LR', LR_classifier_balanced), ('DT', DT_classifier_balanced), ('RF', RF_classifier_balanced), \n",
        "                                    ('Adaboost', adaboost_balanced), ('XGB', xgb_classifier_balanced)], voting = 'hard')\n",
        "VC.fit(X_train, Y_train)\n",
        "VC.get_params()"
      ],
      "metadata": {
        "colab": {
          "base_uri": "https://localhost:8080/"
        },
        "id": "F9Hg7i_IW44H",
        "outputId": "7b0fd306-43c0-45b4-a4ec-4b9958c8873f"
      },
      "execution_count": 45,
      "outputs": [
        {
          "output_type": "execute_result",
          "data": {
            "text/plain": [
              "{'estimators': [('kNN', KNeighborsClassifier()),\n",
              "  ('NB', GaussianNB()),\n",
              "  ('SVM', SVC(C=0.01, random_state=42)),\n",
              "  ('LR', LogisticRegression(random_state=42, solver='liblinear')),\n",
              "  ('DT', DecisionTreeClassifier(max_depth=5)),\n",
              "  ('RF', RandomForestClassifier(max_depth=4)),\n",
              "  ('Adaboost',\n",
              "   AdaBoostClassifier(base_estimator=RandomForestClassifier(max_depth=7),\n",
              "                      random_state=42)),\n",
              "  ('XGB', XGBClassifier(n_estimators=50, random_state=42))],\n",
              " 'flatten_transform': True,\n",
              " 'n_jobs': None,\n",
              " 'verbose': False,\n",
              " 'voting': 'hard',\n",
              " 'weights': None,\n",
              " 'kNN': KNeighborsClassifier(),\n",
              " 'NB': GaussianNB(),\n",
              " 'SVM': SVC(C=0.01, random_state=42),\n",
              " 'LR': LogisticRegression(random_state=42, solver='liblinear'),\n",
              " 'DT': DecisionTreeClassifier(max_depth=5),\n",
              " 'RF': RandomForestClassifier(max_depth=4),\n",
              " 'Adaboost': AdaBoostClassifier(base_estimator=RandomForestClassifier(max_depth=7),\n",
              "                    random_state=42),\n",
              " 'XGB': XGBClassifier(n_estimators=50, random_state=42),\n",
              " 'kNN__algorithm': 'auto',\n",
              " 'kNN__leaf_size': 30,\n",
              " 'kNN__metric': 'minkowski',\n",
              " 'kNN__metric_params': None,\n",
              " 'kNN__n_jobs': None,\n",
              " 'kNN__n_neighbors': 5,\n",
              " 'kNN__p': 2,\n",
              " 'kNN__weights': 'uniform',\n",
              " 'NB__priors': None,\n",
              " 'NB__var_smoothing': 1e-09,\n",
              " 'SVM__C': 0.01,\n",
              " 'SVM__break_ties': False,\n",
              " 'SVM__cache_size': 200,\n",
              " 'SVM__class_weight': None,\n",
              " 'SVM__coef0': 0.0,\n",
              " 'SVM__decision_function_shape': 'ovr',\n",
              " 'SVM__degree': 3,\n",
              " 'SVM__gamma': 'scale',\n",
              " 'SVM__kernel': 'rbf',\n",
              " 'SVM__max_iter': -1,\n",
              " 'SVM__probability': False,\n",
              " 'SVM__random_state': 42,\n",
              " 'SVM__shrinking': True,\n",
              " 'SVM__tol': 0.001,\n",
              " 'SVM__verbose': False,\n",
              " 'LR__C': 1.0,\n",
              " 'LR__class_weight': None,\n",
              " 'LR__dual': False,\n",
              " 'LR__fit_intercept': True,\n",
              " 'LR__intercept_scaling': 1,\n",
              " 'LR__l1_ratio': None,\n",
              " 'LR__max_iter': 100,\n",
              " 'LR__multi_class': 'auto',\n",
              " 'LR__n_jobs': None,\n",
              " 'LR__penalty': 'l2',\n",
              " 'LR__random_state': 42,\n",
              " 'LR__solver': 'liblinear',\n",
              " 'LR__tol': 0.0001,\n",
              " 'LR__verbose': 0,\n",
              " 'LR__warm_start': False,\n",
              " 'DT__ccp_alpha': 0.0,\n",
              " 'DT__class_weight': None,\n",
              " 'DT__criterion': 'gini',\n",
              " 'DT__max_depth': 5,\n",
              " 'DT__max_features': None,\n",
              " 'DT__max_leaf_nodes': None,\n",
              " 'DT__min_impurity_decrease': 0.0,\n",
              " 'DT__min_samples_leaf': 1,\n",
              " 'DT__min_samples_split': 2,\n",
              " 'DT__min_weight_fraction_leaf': 0.0,\n",
              " 'DT__random_state': None,\n",
              " 'DT__splitter': 'best',\n",
              " 'RF__bootstrap': True,\n",
              " 'RF__ccp_alpha': 0.0,\n",
              " 'RF__class_weight': None,\n",
              " 'RF__criterion': 'gini',\n",
              " 'RF__max_depth': 4,\n",
              " 'RF__max_features': 'auto',\n",
              " 'RF__max_leaf_nodes': None,\n",
              " 'RF__max_samples': None,\n",
              " 'RF__min_impurity_decrease': 0.0,\n",
              " 'RF__min_samples_leaf': 1,\n",
              " 'RF__min_samples_split': 2,\n",
              " 'RF__min_weight_fraction_leaf': 0.0,\n",
              " 'RF__n_estimators': 100,\n",
              " 'RF__n_jobs': None,\n",
              " 'RF__oob_score': False,\n",
              " 'RF__random_state': None,\n",
              " 'RF__verbose': 0,\n",
              " 'RF__warm_start': False,\n",
              " 'Adaboost__algorithm': 'SAMME.R',\n",
              " 'Adaboost__base_estimator__bootstrap': True,\n",
              " 'Adaboost__base_estimator__ccp_alpha': 0.0,\n",
              " 'Adaboost__base_estimator__class_weight': None,\n",
              " 'Adaboost__base_estimator__criterion': 'gini',\n",
              " 'Adaboost__base_estimator__max_depth': 7,\n",
              " 'Adaboost__base_estimator__max_features': 'auto',\n",
              " 'Adaboost__base_estimator__max_leaf_nodes': None,\n",
              " 'Adaboost__base_estimator__max_samples': None,\n",
              " 'Adaboost__base_estimator__min_impurity_decrease': 0.0,\n",
              " 'Adaboost__base_estimator__min_samples_leaf': 1,\n",
              " 'Adaboost__base_estimator__min_samples_split': 2,\n",
              " 'Adaboost__base_estimator__min_weight_fraction_leaf': 0.0,\n",
              " 'Adaboost__base_estimator__n_estimators': 100,\n",
              " 'Adaboost__base_estimator__n_jobs': None,\n",
              " 'Adaboost__base_estimator__oob_score': False,\n",
              " 'Adaboost__base_estimator__random_state': None,\n",
              " 'Adaboost__base_estimator__verbose': 0,\n",
              " 'Adaboost__base_estimator__warm_start': False,\n",
              " 'Adaboost__base_estimator': RandomForestClassifier(max_depth=7),\n",
              " 'Adaboost__learning_rate': 1.0,\n",
              " 'Adaboost__n_estimators': 50,\n",
              " 'Adaboost__random_state': 42,\n",
              " 'XGB__base_score': 0.5,\n",
              " 'XGB__booster': 'gbtree',\n",
              " 'XGB__colsample_bylevel': 1,\n",
              " 'XGB__colsample_bynode': 1,\n",
              " 'XGB__colsample_bytree': 1,\n",
              " 'XGB__gamma': 0,\n",
              " 'XGB__learning_rate': 0.1,\n",
              " 'XGB__max_delta_step': 0,\n",
              " 'XGB__max_depth': 3,\n",
              " 'XGB__min_child_weight': 1,\n",
              " 'XGB__missing': None,\n",
              " 'XGB__n_estimators': 50,\n",
              " 'XGB__n_jobs': 1,\n",
              " 'XGB__nthread': None,\n",
              " 'XGB__objective': 'binary:logistic',\n",
              " 'XGB__random_state': 42,\n",
              " 'XGB__reg_alpha': 0,\n",
              " 'XGB__reg_lambda': 1,\n",
              " 'XGB__scale_pos_weight': 1,\n",
              " 'XGB__seed': None,\n",
              " 'XGB__silent': None,\n",
              " 'XGB__subsample': 1,\n",
              " 'XGB__verbosity': 1}"
            ]
          },
          "metadata": {},
          "execution_count": 45
        }
      ]
    },
    {
      "cell_type": "code",
      "source": [
        "y_pred_VC_balanced = VC.predict(X_test)\n",
        "print('Accuracy of the training set: ', VC.score(X_train, Y_train))\n",
        "print('Accuracy of the testing set: ', accuracy_score(Y_test, y_pred_VC_balanced))"
      ],
      "metadata": {
        "colab": {
          "base_uri": "https://localhost:8080/"
        },
        "id": "-L-SwXKsYivM",
        "outputId": "b448bb44-823a-4749-9eb4-802c3b782ea9"
      },
      "execution_count": 46,
      "outputs": [
        {
          "output_type": "stream",
          "name": "stdout",
          "text": [
            "Accuracy of the training set:  0.9660574412532638\n",
            "Accuracy of the testing set:  0.8645833333333334\n"
          ]
        }
      ]
    },
    {
      "cell_type": "code",
      "source": [
        "print(classification_report(Y_test, y_pred_VC_balanced))\n",
        "ConfusionMatrixDisplay.from_predictions(Y_test, y_pred_VC_balanced, colorbar=False)"
      ],
      "metadata": {
        "colab": {
          "base_uri": "https://localhost:8080/",
          "height": 459
        },
        "id": "_JXp4ocoYinl",
        "outputId": "581d45d2-08ca-4de9-c212-3d6fd2adc3d9"
      },
      "execution_count": 47,
      "outputs": [
        {
          "output_type": "stream",
          "name": "stdout",
          "text": [
            "              precision    recall  f1-score   support\n",
            "\n",
            "           0       0.97      0.76      0.85        49\n",
            "           1       0.79      0.98      0.88        47\n",
            "\n",
            "    accuracy                           0.86        96\n",
            "   macro avg       0.88      0.87      0.86        96\n",
            "weighted avg       0.89      0.86      0.86        96\n",
            "\n"
          ]
        },
        {
          "output_type": "execute_result",
          "data": {
            "text/plain": [
              "<sklearn.metrics._plot.confusion_matrix.ConfusionMatrixDisplay at 0x7f97c83034c0>"
            ]
          },
          "metadata": {},
          "execution_count": 47
        },
        {
          "output_type": "display_data",
          "data": {
            "text/plain": [
              "<Figure size 432x288 with 1 Axes>"
            ],
            "image/png": "[encoded data removed]"
          },
          "metadata": {}
        }
      ]
    },
    {
      "cell_type": "markdown",
      "source": [
        "### Accuracy"
      ],
      "metadata": {
        "id": "06X14wHfO7fP"
      }
    },
    {
      "cell_type": "code",
      "source": [
        "accuracy_df = pd.DataFrame()\n",
        "accuracy_df['Classifier'] = ['Decision Tree', 'kNN', 'Naive Bayes', 'SVC', 'Logistic Regression', 'Random Forest', 'Adaboost', \n",
        "                             'XGBoost', 'Voting Classifier']\n",
        "accuracy_df['Accuracy'] = [accuracy_score(Y_test, y_pred_DT_balanced), accuracy_score(Y_test, y_pred_kNN_balanced), \n",
        "                           accuracy_score(Y_test, y_pred_NB_balanced), accuracy_score(Y_test, y_pred_SVM_balanced), \n",
        "                           accuracy_score(Y_test, y_pred_LR_balanced), accuracy_score(Y_test, y_pred_RF_balanced),\n",
        "                           accuracy_score(Y_test, y_pred_Adaboost_balanced), accuracy_score(Y_test, y_pred_XGB_balanced), \n",
        "                           accuracy_score(Y_test, y_pred_VC_balanced)]\n",
        "\n",
        "sns.barplot(y = 'Accuracy', x = 'Classifier', data = accuracy_df, order = accuracy_df.sort_values('Accuracy', ascending = False).Classifier)\n",
        "plt.title('Accuracy of the Classifiers')\n",
        "plt.xticks(rotation=90)\n",
        "plt.show()"
      ],
      "metadata": {
        "colab": {
          "base_uri": "https://localhost:8080/",
          "height": 397
        },
        "id": "IydrVDkBFyFs",
        "outputId": "2eb8d97c-b61e-4bc8-ce09-d7ae9166a4f8"
      },
      "execution_count": 48,
      "outputs": [
        {
          "output_type": "display_data",
          "data": {
            "text/plain": [
              "<Figure size 432x288 with 1 Axes>"
            ],
            "image/png": "[encoded data removed]"
          },
          "metadata": {}
        }
      ]
    },
    {
      "cell_type": "markdown",
      "source": [
        "XGBoost, Voting Classifier and Adaboost Classifier produces considerably good accuracy of the algorithms implemented upon balancing the target class. It must however be noted that Logistic Regression Classifier has to be used with caution, since its training accuracy is less than the testing accuracy, which may be due to the underlying distribution. Thus, it is recommended to test the Logistic Regression Classifier with a new Test data, to better evaluate its performance."
      ],
      "metadata": {
        "id": "yrf6DF0EQTvb"
      }
    },
    {
      "cell_type": "markdown",
      "source": [
        "### ROC Curve"
      ],
      "metadata": {
        "id": "THmpDqB1Po8P"
      }
    },
    {
      "cell_type": "code",
      "source": [
        "plt.plot([0,1], [0,1], ':')\n",
        "fpr1, tpr1, thresholds = roc_curve(Y_test, y_pred_kNN_balanced)\n",
        "plt.plot(fpr1, tpr1, '--', label='kNN')\n",
        "fpr2, tpr2, thresholds = roc_curve(Y_test, y_pred_NB_balanced)\n",
        "plt.plot(fpr2, tpr2, '--', label='Naive Bayes')\n",
        "fpr3, tpr3, thresholds = roc_curve(Y_test, y_pred_SVM_balanced)\n",
        "plt.plot(fpr3, tpr3, '--', label='SVM Classifier')\n",
        "fpr4, tpr4, thresholds = roc_curve(Y_test, y_pred_LR_balanced)\n",
        "plt.plot(fpr4, tpr4, '--', label='Logistic Regression')\n",
        "fpr5, tpr5, thresholds = roc_curve(Y_test, y_pred_DT_balanced)\n",
        "plt.plot(fpr5, tpr5, '--', label='Decision Tree Classifier')\n",
        "fpr6, tpr6, thresholds = roc_curve(Y_test, y_pred_RF_balanced)\n",
        "plt.plot(fpr6, tpr6, '--', label='Random Forest Classifier')\n",
        "fpr7, tpr7, thresholds = roc_curve(Y_test, y_pred_Adaboost_balanced)\n",
        "plt.plot(fpr7, tpr7, '--', label='Adaboost Classifier')\n",
        "fpr8, tpr8, thresholds = roc_curve(Y_test, y_pred_XGB_balanced)\n",
        "plt.plot(fpr8, tpr8, '--', label='XGBoost Classifier')\n",
        "fpr9, tpr9, thresholds = roc_curve(Y_test, y_pred_VC_balanced)\n",
        "plt.plot(fpr9, tpr9, '--', label='Voting Classifier')\n",
        "plt.xlabel('False Positive Rate')\n",
        "plt.ylabel('True Positive Rate')\n",
        "plt.title('ROC Curve')\n",
        "plt.legend(bbox_to_anchor = (1.0, 0.5), loc = 'center left')\n",
        "plt.show()"
      ],
      "metadata": {
        "colab": {
          "base_uri": "https://localhost:8080/",
          "height": 301
        },
        "id": "bFChtNbqPfCw",
        "outputId": "80bf50d4-6536-475b-ec1c-02c7d85c2455"
      },
      "execution_count": 49,
      "outputs": [
        {
          "output_type": "display_data",
          "data": {
            "text/plain": [
              "<Figure size 432x288 with 1 Axes>"
            ],
            "image/png": "[encoded data removed]"
          },
          "metadata": {}
        }
      ]
    },
    {
      "cell_type": "markdown",
      "source": [
        "Voting Classifier and XGBoost Classifier performs considerably well, in comparison to other algorithms. The ROC Curve of Logistic Regression is perfect, however, the classifier must be used with caution."
      ],
      "metadata": {
        "id": "WtdDAPhqTR3e"
      }
    },
    {
      "cell_type": "markdown",
      "source": [
        "## Conclusion\n",
        "\n",
        "Upon balancing the target class, XGBoost Classifier works best among the classifiers we have implemented. However, it is still not a perfect classifier. Noteworthy is the performance of the Logistic Regression Classifier. However, it has to be investigated further for to analyze whether the model overfits the data or if it was purely chance.\n",
        "\n",
        "\n",
        "When it concerns healthcare, especially in the case of Chronic disease and conditions, it is much better to be wary of the consequences of our model - whether it overfits or underfits - they must be thoroughly examined and their limits and biases studied before their deployment."
      ],
      "metadata": {
        "id": "qaiawAKVTh9a"
      }
    }
  ]
}