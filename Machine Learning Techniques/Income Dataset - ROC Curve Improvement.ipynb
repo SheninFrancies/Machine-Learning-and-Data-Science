{
  "nbformat": 4,
  "nbformat_minor": 0,
  "metadata": {
    "colab": {
      "provenance": [],
      "toc_visible": true
    },
    "kernelspec": {
      "name": "python3",
      "display_name": "Python 3"
    },
    "language_info": {
      "name": "python"
    }
  },
  "cells": [
    {
      "cell_type": "markdown",
      "source": [
        "# Income Dataset\n",
        "# Improving the ROC Curve by handling Imbalance in Dataset"
      ],
      "metadata": {
        "id": "xVotdEV6AaSZ"
      }
    },
    {
      "cell_type": "code",
      "execution_count": 1,
      "metadata": {
        "id": "nXfrtTA1SAXo"
      },
      "outputs": [],
      "source": [
        "import numpy as np\n",
        "import pandas as pd\n",
        "import matplotlib.pyplot as plt"
      ]
    },
    {
      "cell_type": "code",
      "source": [
        "data = pd.read_csv(r'/content/drive/MyDrive/Colab Notebooks/Machine Learning/Data Training/Income Dataset/Income_preprocessed.csv')\n",
        "data.head()"
      ],
      "metadata": {
        "colab": {
          "base_uri": "https://localhost:8080/",
          "height": 374
        },
        "id": "i5cXu4klAi3N",
        "outputId": "7260b25f-ea7f-468d-cf5c-93e332c4fe50"
      },
      "execution_count": 2,
      "outputs": [
        {
          "output_type": "execute_result",
          "data": {
            "text/plain": [
              "   Age      WorkClass  Weight      Education  EducationNumber  \\\n",
              "0   50  Self Employed   83311  Undergraduate               13   \n",
              "1   38        Private  215646    High School                9   \n",
              "2   53        Private  234721         School                7   \n",
              "3   28        Private  338409  Undergraduate               13   \n",
              "4   37        Private  284582       Graduate               14   \n",
              "\n",
              "          Occupation    Relationship MarriageStatus   PartnerStatus    Race  \\\n",
              "0    Exec-managerial         Husband        Married           Civil   White   \n",
              "1  Handlers-cleaners   Not-in-family       Divorced  No Information   White   \n",
              "2  Handlers-cleaners         Husband        Married           Civil   Black   \n",
              "3     Prof-specialty            Wife        Married           Civil   Black   \n",
              "4    Exec-managerial            Wife        Married           Civil   White   \n",
              "\n",
              "       Sex  CapitalGain  CapitalLoss  HoursPerWeek Native Country  Salary  \n",
              "0     Male            0            0            13  United-States   <=50K  \n",
              "1     Male            0            0            40  United-States   <=50K  \n",
              "2     Male            0            0            40  United-States   <=50K  \n",
              "3   Female            0            0            40           Cuba   <=50K  \n",
              "4   Female            0            0            40  United-States   <=50K  "
            ],
            "text/html": [
              "\n",
              "  <div id=\"df-8c81ab5c-e15b-4688-889d-713366a1057d\">\n",
              "    <div class=\"colab-df-container\">\n",
              "      <div>\n",
              "<style scoped>\n",
              "    .dataframe tbody tr th:only-of-type {\n",
              "        vertical-align: middle;\n",
              "    }\n",
              "\n",
              "    .dataframe tbody tr th {\n",
              "        vertical-align: top;\n",
              "    }\n",
              "\n",
              "    .dataframe thead th {\n",
              "        text-align: right;\n",
              "    }\n",
              "</style>\n",
              "<table border=\"1\" class=\"dataframe\">\n",
              "  <thead>\n",
              "    <tr style=\"text-align: right;\">\n",
              "      <th></th>\n",
              "      <th>Age</th>\n",
              "      <th>WorkClass</th>\n",
              "      <th>Weight</th>\n",
              "      <th>Education</th>\n",
              "      <th>EducationNumber</th>\n",
              "      <th>Occupation</th>\n",
              "      <th>Relationship</th>\n",
              "      <th>MarriageStatus</th>\n",
              "      <th>PartnerStatus</th>\n",
              "      <th>Race</th>\n",
              "      <th>Sex</th>\n",
              "      <th>CapitalGain</th>\n",
              "      <th>CapitalLoss</th>\n",
              "      <th>HoursPerWeek</th>\n",
              "      <th>Native Country</th>\n",
              "      <th>Salary</th>\n",
              "    </tr>\n",
              "  </thead>\n",
              "  <tbody>\n",
              "    <tr>\n",
              "      <th>0</th>\n",
              "      <td>50</td>\n",
              "      <td>Self Employed</td>\n",
              "      <td>83311</td>\n",
              "      <td>Undergraduate</td>\n",
              "      <td>13</td>\n",
              "      <td>Exec-managerial</td>\n",
              "      <td>Husband</td>\n",
              "      <td>Married</td>\n",
              "      <td>Civil</td>\n",
              "      <td>White</td>\n",
              "      <td>Male</td>\n",
              "      <td>0</td>\n",
              "      <td>0</td>\n",
              "      <td>13</td>\n",
              "      <td>United-States</td>\n",
              "      <td>&lt;=50K</td>\n",
              "    </tr>\n",
              "    <tr>\n",
              "      <th>1</th>\n",
              "      <td>38</td>\n",
              "      <td>Private</td>\n",
              "      <td>215646</td>\n",
              "      <td>High School</td>\n",
              "      <td>9</td>\n",
              "      <td>Handlers-cleaners</td>\n",
              "      <td>Not-in-family</td>\n",
              "      <td>Divorced</td>\n",
              "      <td>No Information</td>\n",
              "      <td>White</td>\n",
              "      <td>Male</td>\n",
              "      <td>0</td>\n",
              "      <td>0</td>\n",
              "      <td>40</td>\n",
              "      <td>United-States</td>\n",
              "      <td>&lt;=50K</td>\n",
              "    </tr>\n",
              "    <tr>\n",
              "      <th>2</th>\n",
              "      <td>53</td>\n",
              "      <td>Private</td>\n",
              "      <td>234721</td>\n",
              "      <td>School</td>\n",
              "      <td>7</td>\n",
              "      <td>Handlers-cleaners</td>\n",
              "      <td>Husband</td>\n",
              "      <td>Married</td>\n",
              "      <td>Civil</td>\n",
              "      <td>Black</td>\n",
              "      <td>Male</td>\n",
              "      <td>0</td>\n",
              "      <td>0</td>\n",
              "      <td>40</td>\n",
              "      <td>United-States</td>\n",
              "      <td>&lt;=50K</td>\n",
              "    </tr>\n",
              "    <tr>\n",
              "      <th>3</th>\n",
              "      <td>28</td>\n",
              "      <td>Private</td>\n",
              "      <td>338409</td>\n",
              "      <td>Undergraduate</td>\n",
              "      <td>13</td>\n",
              "      <td>Prof-specialty</td>\n",
              "      <td>Wife</td>\n",
              "      <td>Married</td>\n",
              "      <td>Civil</td>\n",
              "      <td>Black</td>\n",
              "      <td>Female</td>\n",
              "      <td>0</td>\n",
              "      <td>0</td>\n",
              "      <td>40</td>\n",
              "      <td>Cuba</td>\n",
              "      <td>&lt;=50K</td>\n",
              "    </tr>\n",
              "    <tr>\n",
              "      <th>4</th>\n",
              "      <td>37</td>\n",
              "      <td>Private</td>\n",
              "      <td>284582</td>\n",
              "      <td>Graduate</td>\n",
              "      <td>14</td>\n",
              "      <td>Exec-managerial</td>\n",
              "      <td>Wife</td>\n",
              "      <td>Married</td>\n",
              "      <td>Civil</td>\n",
              "      <td>White</td>\n",
              "      <td>Female</td>\n",
              "      <td>0</td>\n",
              "      <td>0</td>\n",
              "      <td>40</td>\n",
              "      <td>United-States</td>\n",
              "      <td>&lt;=50K</td>\n",
              "    </tr>\n",
              "  </tbody>\n",
              "</table>\n",
              "</div>\n",
              "      <button class=\"colab-df-convert\" onclick=\"convertToInteractive('df-8c81ab5c-e15b-4688-889d-713366a1057d')\"\n",
              "              title=\"Convert this dataframe to an interactive table.\"\n",
              "              style=\"display:none;\">\n",
              "        \n",
              "  <svg xmlns=\"http://www.w3.org/2000/svg\" height=\"24px\"viewBox=\"0 0 24 24\"\n",
              "       width=\"24px\">\n",
              "    <path d=\"M0 0h24v24H0V0z\" fill=\"none\"/>\n",
              "    <path d=\"M18.56 5.44l.94 2.06.94-2.06 2.06-.94-2.06-.94-.94-2.06-.94 2.06-2.06.94zm-11 1L8.5 8.5l.94-2.06 2.06-.94-2.06-.94L8.5 2.5l-.94 2.06-2.06.94zm10 10l.94 2.06.94-2.06 2.06-.94-2.06-.94-.94-2.06-.94 2.06-2.06.94z\"/><path d=\"M17.41 7.96l-1.37-1.37c-.4-.4-.92-.59-1.43-.59-.52 0-1.04.2-1.43.59L10.3 9.45l-7.72 7.72c-.78.78-.78 2.05 0 2.83L4 21.41c.39.39.9.59 1.41.59.51 0 1.02-.2 1.41-.59l7.78-7.78 2.81-2.81c.8-.78.8-2.07 0-2.86zM5.41 20L4 18.59l7.72-7.72 1.47 1.35L5.41 20z\"/>\n",
              "  </svg>\n",
              "      </button>\n",
              "      \n",
              "  <style>\n",
              "    .colab-df-container {\n",
              "      display:flex;\n",
              "      flex-wrap:wrap;\n",
              "      gap: 12px;\n",
              "    }\n",
              "\n",
              "    .colab-df-convert {\n",
              "      background-color: #E8F0FE;\n",
              "      border: none;\n",
              "      border-radius: 50%;\n",
              "      cursor: pointer;\n",
              "      display: none;\n",
              "      fill: #1967D2;\n",
              "      height: 32px;\n",
              "      padding: 0 0 0 0;\n",
              "      width: 32px;\n",
              "    }\n",
              "\n",
              "    .colab-df-convert:hover {\n",
              "      background-color: #E2EBFA;\n",
              "      box-shadow: 0px 1px 2px rgba(60, 64, 67, 0.3), 0px 1px 3px 1px rgba(60, 64, 67, 0.15);\n",
              "      fill: #174EA6;\n",
              "    }\n",
              "\n",
              "    [theme=dark] .colab-df-convert {\n",
              "      background-color: #3B4455;\n",
              "      fill: #D2E3FC;\n",
              "    }\n",
              "\n",
              "    [theme=dark] .colab-df-convert:hover {\n",
              "      background-color: #434B5C;\n",
              "      box-shadow: 0px 1px 3px 1px rgba(0, 0, 0, 0.15);\n",
              "      filter: drop-shadow(0px 1px 2px rgba(0, 0, 0, 0.3));\n",
              "      fill: #FFFFFF;\n",
              "    }\n",
              "  </style>\n",
              "\n",
              "      <script>\n",
              "        const buttonEl =\n",
              "          document.querySelector('#df-8c81ab5c-e15b-4688-889d-713366a1057d button.colab-df-convert');\n",
              "        buttonEl.style.display =\n",
              "          google.colab.kernel.accessAllowed ? 'block' : 'none';\n",
              "\n",
              "        async function convertToInteractive(key) {\n",
              "          const element = document.querySelector('#df-8c81ab5c-e15b-4688-889d-713366a1057d');\n",
              "          const dataTable =\n",
              "            await google.colab.kernel.invokeFunction('convertToInteractive',\n",
              "                                                     [key], {});\n",
              "          if (!dataTable) return;\n",
              "\n",
              "          const docLinkHtml = 'Like what you see? Visit the ' +\n",
              "            '<a target=\"_blank\" href=https://colab.research.google.com/notebooks/data_table.ipynb>data table notebook</a>'\n",
              "            + ' to learn more about interactive tables.';\n",
              "          element.innerHTML = '';\n",
              "          dataTable['output_type'] = 'display_data';\n",
              "          await google.colab.output.renderOutput(dataTable, element);\n",
              "          const docLink = document.createElement('div');\n",
              "          docLink.innerHTML = docLinkHtml;\n",
              "          element.appendChild(docLink);\n",
              "        }\n",
              "      </script>\n",
              "    </div>\n",
              "  </div>\n",
              "  "
            ]
          },
          "metadata": {},
          "execution_count": 2
        }
      ]
    },
    {
      "cell_type": "code",
      "source": [
        "data.describe()"
      ],
      "metadata": {
        "colab": {
          "base_uri": "https://localhost:8080/",
          "height": 300
        },
        "id": "vW3GIKB7AyYO",
        "outputId": "495e5ef8-aa0c-484a-dd25-644d8d097fa8"
      },
      "execution_count": 3,
      "outputs": [
        {
          "output_type": "execute_result",
          "data": {
            "text/plain": [
              "                Age        Weight  EducationNumber   CapitalGain  \\\n",
              "count  32560.000000  3.256000e+04     32560.000000  32560.000000   \n",
              "mean      38.581634  1.897818e+05        10.080590   1077.615172   \n",
              "std       13.640642  1.055498e+05         2.572709   7385.402999   \n",
              "min       17.000000  1.228500e+04         1.000000      0.000000   \n",
              "25%       28.000000  1.178315e+05         9.000000      0.000000   \n",
              "50%       37.000000  1.783630e+05        10.000000      0.000000   \n",
              "75%       48.000000  2.370545e+05        12.000000      0.000000   \n",
              "max       90.000000  1.484705e+06        16.000000  99999.000000   \n",
              "\n",
              "        CapitalLoss  HoursPerWeek  \n",
              "count  32560.000000  32560.000000  \n",
              "mean      87.306511     40.437469  \n",
              "std      402.966116     12.347618  \n",
              "min        0.000000      1.000000  \n",
              "25%        0.000000     40.000000  \n",
              "50%        0.000000     40.000000  \n",
              "75%        0.000000     45.000000  \n",
              "max     4356.000000     99.000000  "
            ],
            "text/html": [
              "\n",
              "  <div id=\"df-6f02096c-4234-4dfc-9c77-affd4f656b71\">\n",
              "    <div class=\"colab-df-container\">\n",
              "      <div>\n",
              "<style scoped>\n",
              "    .dataframe tbody tr th:only-of-type {\n",
              "        vertical-align: middle;\n",
              "    }\n",
              "\n",
              "    .dataframe tbody tr th {\n",
              "        vertical-align: top;\n",
              "    }\n",
              "\n",
              "    .dataframe thead th {\n",
              "        text-align: right;\n",
              "    }\n",
              "</style>\n",
              "<table border=\"1\" class=\"dataframe\">\n",
              "  <thead>\n",
              "    <tr style=\"text-align: right;\">\n",
              "      <th></th>\n",
              "      <th>Age</th>\n",
              "      <th>Weight</th>\n",
              "      <th>EducationNumber</th>\n",
              "      <th>CapitalGain</th>\n",
              "      <th>CapitalLoss</th>\n",
              "      <th>HoursPerWeek</th>\n",
              "    </tr>\n",
              "  </thead>\n",
              "  <tbody>\n",
              "    <tr>\n",
              "      <th>count</th>\n",
              "      <td>32560.000000</td>\n",
              "      <td>3.256000e+04</td>\n",
              "      <td>32560.000000</td>\n",
              "      <td>32560.000000</td>\n",
              "      <td>32560.000000</td>\n",
              "      <td>32560.000000</td>\n",
              "    </tr>\n",
              "    <tr>\n",
              "      <th>mean</th>\n",
              "      <td>38.581634</td>\n",
              "      <td>1.897818e+05</td>\n",
              "      <td>10.080590</td>\n",
              "      <td>1077.615172</td>\n",
              "      <td>87.306511</td>\n",
              "      <td>40.437469</td>\n",
              "    </tr>\n",
              "    <tr>\n",
              "      <th>std</th>\n",
              "      <td>13.640642</td>\n",
              "      <td>1.055498e+05</td>\n",
              "      <td>2.572709</td>\n",
              "      <td>7385.402999</td>\n",
              "      <td>402.966116</td>\n",
              "      <td>12.347618</td>\n",
              "    </tr>\n",
              "    <tr>\n",
              "      <th>min</th>\n",
              "      <td>17.000000</td>\n",
              "      <td>1.228500e+04</td>\n",
              "      <td>1.000000</td>\n",
              "      <td>0.000000</td>\n",
              "      <td>0.000000</td>\n",
              "      <td>1.000000</td>\n",
              "    </tr>\n",
              "    <tr>\n",
              "      <th>25%</th>\n",
              "      <td>28.000000</td>\n",
              "      <td>1.178315e+05</td>\n",
              "      <td>9.000000</td>\n",
              "      <td>0.000000</td>\n",
              "      <td>0.000000</td>\n",
              "      <td>40.000000</td>\n",
              "    </tr>\n",
              "    <tr>\n",
              "      <th>50%</th>\n",
              "      <td>37.000000</td>\n",
              "      <td>1.783630e+05</td>\n",
              "      <td>10.000000</td>\n",
              "      <td>0.000000</td>\n",
              "      <td>0.000000</td>\n",
              "      <td>40.000000</td>\n",
              "    </tr>\n",
              "    <tr>\n",
              "      <th>75%</th>\n",
              "      <td>48.000000</td>\n",
              "      <td>2.370545e+05</td>\n",
              "      <td>12.000000</td>\n",
              "      <td>0.000000</td>\n",
              "      <td>0.000000</td>\n",
              "      <td>45.000000</td>\n",
              "    </tr>\n",
              "    <tr>\n",
              "      <th>max</th>\n",
              "      <td>90.000000</td>\n",
              "      <td>1.484705e+06</td>\n",
              "      <td>16.000000</td>\n",
              "      <td>99999.000000</td>\n",
              "      <td>4356.000000</td>\n",
              "      <td>99.000000</td>\n",
              "    </tr>\n",
              "  </tbody>\n",
              "</table>\n",
              "</div>\n",
              "      <button class=\"colab-df-convert\" onclick=\"convertToInteractive('df-6f02096c-4234-4dfc-9c77-affd4f656b71')\"\n",
              "              title=\"Convert this dataframe to an interactive table.\"\n",
              "              style=\"display:none;\">\n",
              "        \n",
              "  <svg xmlns=\"http://www.w3.org/2000/svg\" height=\"24px\"viewBox=\"0 0 24 24\"\n",
              "       width=\"24px\">\n",
              "    <path d=\"M0 0h24v24H0V0z\" fill=\"none\"/>\n",
              "    <path d=\"M18.56 5.44l.94 2.06.94-2.06 2.06-.94-2.06-.94-.94-2.06-.94 2.06-2.06.94zm-11 1L8.5 8.5l.94-2.06 2.06-.94-2.06-.94L8.5 2.5l-.94 2.06-2.06.94zm10 10l.94 2.06.94-2.06 2.06-.94-2.06-.94-.94-2.06-.94 2.06-2.06.94z\"/><path d=\"M17.41 7.96l-1.37-1.37c-.4-.4-.92-.59-1.43-.59-.52 0-1.04.2-1.43.59L10.3 9.45l-7.72 7.72c-.78.78-.78 2.05 0 2.83L4 21.41c.39.39.9.59 1.41.59.51 0 1.02-.2 1.41-.59l7.78-7.78 2.81-2.81c.8-.78.8-2.07 0-2.86zM5.41 20L4 18.59l7.72-7.72 1.47 1.35L5.41 20z\"/>\n",
              "  </svg>\n",
              "      </button>\n",
              "      \n",
              "  <style>\n",
              "    .colab-df-container {\n",
              "      display:flex;\n",
              "      flex-wrap:wrap;\n",
              "      gap: 12px;\n",
              "    }\n",
              "\n",
              "    .colab-df-convert {\n",
              "      background-color: #E8F0FE;\n",
              "      border: none;\n",
              "      border-radius: 50%;\n",
              "      cursor: pointer;\n",
              "      display: none;\n",
              "      fill: #1967D2;\n",
              "      height: 32px;\n",
              "      padding: 0 0 0 0;\n",
              "      width: 32px;\n",
              "    }\n",
              "\n",
              "    .colab-df-convert:hover {\n",
              "      background-color: #E2EBFA;\n",
              "      box-shadow: 0px 1px 2px rgba(60, 64, 67, 0.3), 0px 1px 3px 1px rgba(60, 64, 67, 0.15);\n",
              "      fill: #174EA6;\n",
              "    }\n",
              "\n",
              "    [theme=dark] .colab-df-convert {\n",
              "      background-color: #3B4455;\n",
              "      fill: #D2E3FC;\n",
              "    }\n",
              "\n",
              "    [theme=dark] .colab-df-convert:hover {\n",
              "      background-color: #434B5C;\n",
              "      box-shadow: 0px 1px 3px 1px rgba(0, 0, 0, 0.15);\n",
              "      filter: drop-shadow(0px 1px 2px rgba(0, 0, 0, 0.3));\n",
              "      fill: #FFFFFF;\n",
              "    }\n",
              "  </style>\n",
              "\n",
              "      <script>\n",
              "        const buttonEl =\n",
              "          document.querySelector('#df-6f02096c-4234-4dfc-9c77-affd4f656b71 button.colab-df-convert');\n",
              "        buttonEl.style.display =\n",
              "          google.colab.kernel.accessAllowed ? 'block' : 'none';\n",
              "\n",
              "        async function convertToInteractive(key) {\n",
              "          const element = document.querySelector('#df-6f02096c-4234-4dfc-9c77-affd4f656b71');\n",
              "          const dataTable =\n",
              "            await google.colab.kernel.invokeFunction('convertToInteractive',\n",
              "                                                     [key], {});\n",
              "          if (!dataTable) return;\n",
              "\n",
              "          const docLinkHtml = 'Like what you see? Visit the ' +\n",
              "            '<a target=\"_blank\" href=https://colab.research.google.com/notebooks/data_table.ipynb>data table notebook</a>'\n",
              "            + ' to learn more about interactive tables.';\n",
              "          element.innerHTML = '';\n",
              "          dataTable['output_type'] = 'display_data';\n",
              "          await google.colab.output.renderOutput(dataTable, element);\n",
              "          const docLink = document.createElement('div');\n",
              "          docLink.innerHTML = docLinkHtml;\n",
              "          element.appendChild(docLink);\n",
              "        }\n",
              "      </script>\n",
              "    </div>\n",
              "  </div>\n",
              "  "
            ]
          },
          "metadata": {},
          "execution_count": 3
        }
      ]
    },
    {
      "cell_type": "code",
      "source": [
        "data.info()"
      ],
      "metadata": {
        "colab": {
          "base_uri": "https://localhost:8080/"
        },
        "id": "QphwhL5EA1Um",
        "outputId": "0fe3e8b5-5ec3-48f7-d173-412e8e4c0d59"
      },
      "execution_count": 4,
      "outputs": [
        {
          "output_type": "stream",
          "name": "stdout",
          "text": [
            "<class 'pandas.core.frame.DataFrame'>\n",
            "RangeIndex: 32560 entries, 0 to 32559\n",
            "Data columns (total 16 columns):\n",
            " #   Column           Non-Null Count  Dtype \n",
            "---  ------           --------------  ----- \n",
            " 0   Age              32560 non-null  int64 \n",
            " 1   WorkClass        32560 non-null  object\n",
            " 2   Weight           32560 non-null  int64 \n",
            " 3   Education        32560 non-null  object\n",
            " 4   EducationNumber  32560 non-null  int64 \n",
            " 5   Occupation       32560 non-null  object\n",
            " 6   Relationship     32560 non-null  object\n",
            " 7   MarriageStatus   32560 non-null  object\n",
            " 8   PartnerStatus    32560 non-null  object\n",
            " 9   Race             32560 non-null  object\n",
            " 10  Sex              32560 non-null  object\n",
            " 11  CapitalGain      32560 non-null  int64 \n",
            " 12  CapitalLoss      32560 non-null  int64 \n",
            " 13  HoursPerWeek     32560 non-null  int64 \n",
            " 14  Native Country   32560 non-null  object\n",
            " 15  Salary           32560 non-null  object\n",
            "dtypes: int64(6), object(10)\n",
            "memory usage: 4.0+ MB\n"
          ]
        }
      ]
    },
    {
      "cell_type": "markdown",
      "source": [
        "## Encoding"
      ],
      "metadata": {
        "id": "XMJV5RIfLwDA"
      }
    },
    {
      "cell_type": "code",
      "source": [
        "from sklearn.preprocessing import LabelEncoder\n",
        "encoder = LabelEncoder()"
      ],
      "metadata": {
        "id": "QsLrpjYYA4eA"
      },
      "execution_count": 5,
      "outputs": []
    },
    {
      "cell_type": "code",
      "source": [
        "data['Education'] = encoder.fit_transform(data['Education'])\n",
        "data['WorkClass'] = encoder.fit_transform(data['WorkClass'])\n",
        "data['Occupation'] = encoder.fit_transform(data['Occupation'])\n",
        "data['MarriageStatus'] = encoder.fit_transform(data['MarriageStatus'])\n",
        "data['Relationship'] = encoder.fit_transform(data['Relationship'])\n",
        "data['PartnerStatus'] = encoder.fit_transform(data['PartnerStatus'])\n",
        "data['Race'] = encoder.fit_transform(data['Race'])\n",
        "data['Sex'] = encoder.fit_transform(data['Sex'])\n",
        "data['Native Country'] = encoder.fit_transform(data['Native Country'])\n",
        "\n",
        "# Target - <= 50K : 0 | >50K: 1\n",
        "data['Salary'] = encoder.fit_transform(data['Salary'])"
      ],
      "metadata": {
        "id": "2mqQq4VlL3xO"
      },
      "execution_count": 6,
      "outputs": []
    },
    {
      "cell_type": "code",
      "source": [
        "data['Salary'].value_counts()"
      ],
      "metadata": {
        "colab": {
          "base_uri": "https://localhost:8080/"
        },
        "id": "nhGNw9tO_YwY",
        "outputId": "6efd036b-d6c1-4bc6-a124-b70573ca802d"
      },
      "execution_count": 7,
      "outputs": [
        {
          "output_type": "execute_result",
          "data": {
            "text/plain": [
              "0    24719\n",
              "1     7841\n",
              "Name: Salary, dtype: int64"
            ]
          },
          "metadata": {},
          "execution_count": 7
        }
      ]
    },
    {
      "cell_type": "markdown",
      "source": [
        "The dataset is Unbalanced."
      ],
      "metadata": {
        "id": "Tdrc8RAv3F3-"
      }
    },
    {
      "cell_type": "code",
      "source": [
        "data.head()"
      ],
      "metadata": {
        "colab": {
          "base_uri": "https://localhost:8080/",
          "height": 287
        },
        "id": "6-lAzzcWNjij",
        "outputId": "294b2089-f01c-4921-a66b-509ab62abbfe"
      },
      "execution_count": 8,
      "outputs": [
        {
          "output_type": "execute_result",
          "data": {
            "text/plain": [
              "   Age  WorkClass  Weight  Education  EducationNumber  Occupation  \\\n",
              "0   50          3   83311          6               13           3   \n",
              "1   38          2  215646          3                9           5   \n",
              "2   53          2  234721          5                7           5   \n",
              "3   28          2  338409          6               13           9   \n",
              "4   37          2  284582          2               14           3   \n",
              "\n",
              "   Relationship  MarriageStatus  PartnerStatus  Race  Sex  CapitalGain  \\\n",
              "0             0               1              1     4    1            0   \n",
              "1             1               0              3     4    1            0   \n",
              "2             0               1              1     2    1            0   \n",
              "3             5               1              1     2    0            0   \n",
              "4             5               1              1     4    0            0   \n",
              "\n",
              "   CapitalLoss  HoursPerWeek  Native Country  Salary  \n",
              "0            0            13              38       0  \n",
              "1            0            40              38       0  \n",
              "2            0            40              38       0  \n",
              "3            0            40               4       0  \n",
              "4            0            40              38       0  "
            ],
            "text/html": [
              "\n",
              "  <div id=\"df-21f2ff38-2626-4af1-b944-e339923c3e0b\">\n",
              "    <div class=\"colab-df-container\">\n",
              "      <div>\n",
              "<style scoped>\n",
              "    .dataframe tbody tr th:only-of-type {\n",
              "        vertical-align: middle;\n",
              "    }\n",
              "\n",
              "    .dataframe tbody tr th {\n",
              "        vertical-align: top;\n",
              "    }\n",
              "\n",
              "    .dataframe thead th {\n",
              "        text-align: right;\n",
              "    }\n",
              "</style>\n",
              "<table border=\"1\" class=\"dataframe\">\n",
              "  <thead>\n",
              "    <tr style=\"text-align: right;\">\n",
              "      <th></th>\n",
              "      <th>Age</th>\n",
              "      <th>WorkClass</th>\n",
              "      <th>Weight</th>\n",
              "      <th>Education</th>\n",
              "      <th>EducationNumber</th>\n",
              "      <th>Occupation</th>\n",
              "      <th>Relationship</th>\n",
              "      <th>MarriageStatus</th>\n",
              "      <th>PartnerStatus</th>\n",
              "      <th>Race</th>\n",
              "      <th>Sex</th>\n",
              "      <th>CapitalGain</th>\n",
              "      <th>CapitalLoss</th>\n",
              "      <th>HoursPerWeek</th>\n",
              "      <th>Native Country</th>\n",
              "      <th>Salary</th>\n",
              "    </tr>\n",
              "  </thead>\n",
              "  <tbody>\n",
              "    <tr>\n",
              "      <th>0</th>\n",
              "      <td>50</td>\n",
              "      <td>3</td>\n",
              "      <td>83311</td>\n",
              "      <td>6</td>\n",
              "      <td>13</td>\n",
              "      <td>3</td>\n",
              "      <td>0</td>\n",
              "      <td>1</td>\n",
              "      <td>1</td>\n",
              "      <td>4</td>\n",
              "      <td>1</td>\n",
              "      <td>0</td>\n",
              "      <td>0</td>\n",
              "      <td>13</td>\n",
              "      <td>38</td>\n",
              "      <td>0</td>\n",
              "    </tr>\n",
              "    <tr>\n",
              "      <th>1</th>\n",
              "      <td>38</td>\n",
              "      <td>2</td>\n",
              "      <td>215646</td>\n",
              "      <td>3</td>\n",
              "      <td>9</td>\n",
              "      <td>5</td>\n",
              "      <td>1</td>\n",
              "      <td>0</td>\n",
              "      <td>3</td>\n",
              "      <td>4</td>\n",
              "      <td>1</td>\n",
              "      <td>0</td>\n",
              "      <td>0</td>\n",
              "      <td>40</td>\n",
              "      <td>38</td>\n",
              "      <td>0</td>\n",
              "    </tr>\n",
              "    <tr>\n",
              "      <th>2</th>\n",
              "      <td>53</td>\n",
              "      <td>2</td>\n",
              "      <td>234721</td>\n",
              "      <td>5</td>\n",
              "      <td>7</td>\n",
              "      <td>5</td>\n",
              "      <td>0</td>\n",
              "      <td>1</td>\n",
              "      <td>1</td>\n",
              "      <td>2</td>\n",
              "      <td>1</td>\n",
              "      <td>0</td>\n",
              "      <td>0</td>\n",
              "      <td>40</td>\n",
              "      <td>38</td>\n",
              "      <td>0</td>\n",
              "    </tr>\n",
              "    <tr>\n",
              "      <th>3</th>\n",
              "      <td>28</td>\n",
              "      <td>2</td>\n",
              "      <td>338409</td>\n",
              "      <td>6</td>\n",
              "      <td>13</td>\n",
              "      <td>9</td>\n",
              "      <td>5</td>\n",
              "      <td>1</td>\n",
              "      <td>1</td>\n",
              "      <td>2</td>\n",
              "      <td>0</td>\n",
              "      <td>0</td>\n",
              "      <td>0</td>\n",
              "      <td>40</td>\n",
              "      <td>4</td>\n",
              "      <td>0</td>\n",
              "    </tr>\n",
              "    <tr>\n",
              "      <th>4</th>\n",
              "      <td>37</td>\n",
              "      <td>2</td>\n",
              "      <td>284582</td>\n",
              "      <td>2</td>\n",
              "      <td>14</td>\n",
              "      <td>3</td>\n",
              "      <td>5</td>\n",
              "      <td>1</td>\n",
              "      <td>1</td>\n",
              "      <td>4</td>\n",
              "      <td>0</td>\n",
              "      <td>0</td>\n",
              "      <td>0</td>\n",
              "      <td>40</td>\n",
              "      <td>38</td>\n",
              "      <td>0</td>\n",
              "    </tr>\n",
              "  </tbody>\n",
              "</table>\n",
              "</div>\n",
              "      <button class=\"colab-df-convert\" onclick=\"convertToInteractive('df-21f2ff38-2626-4af1-b944-e339923c3e0b')\"\n",
              "              title=\"Convert this dataframe to an interactive table.\"\n",
              "              style=\"display:none;\">\n",
              "        \n",
              "  <svg xmlns=\"http://www.w3.org/2000/svg\" height=\"24px\"viewBox=\"0 0 24 24\"\n",
              "       width=\"24px\">\n",
              "    <path d=\"M0 0h24v24H0V0z\" fill=\"none\"/>\n",
              "    <path d=\"M18.56 5.44l.94 2.06.94-2.06 2.06-.94-2.06-.94-.94-2.06-.94 2.06-2.06.94zm-11 1L8.5 8.5l.94-2.06 2.06-.94-2.06-.94L8.5 2.5l-.94 2.06-2.06.94zm10 10l.94 2.06.94-2.06 2.06-.94-2.06-.94-.94-2.06-.94 2.06-2.06.94z\"/><path d=\"M17.41 7.96l-1.37-1.37c-.4-.4-.92-.59-1.43-.59-.52 0-1.04.2-1.43.59L10.3 9.45l-7.72 7.72c-.78.78-.78 2.05 0 2.83L4 21.41c.39.39.9.59 1.41.59.51 0 1.02-.2 1.41-.59l7.78-7.78 2.81-2.81c.8-.78.8-2.07 0-2.86zM5.41 20L4 18.59l7.72-7.72 1.47 1.35L5.41 20z\"/>\n",
              "  </svg>\n",
              "      </button>\n",
              "      \n",
              "  <style>\n",
              "    .colab-df-container {\n",
              "      display:flex;\n",
              "      flex-wrap:wrap;\n",
              "      gap: 12px;\n",
              "    }\n",
              "\n",
              "    .colab-df-convert {\n",
              "      background-color: #E8F0FE;\n",
              "      border: none;\n",
              "      border-radius: 50%;\n",
              "      cursor: pointer;\n",
              "      display: none;\n",
              "      fill: #1967D2;\n",
              "      height: 32px;\n",
              "      padding: 0 0 0 0;\n",
              "      width: 32px;\n",
              "    }\n",
              "\n",
              "    .colab-df-convert:hover {\n",
              "      background-color: #E2EBFA;\n",
              "      box-shadow: 0px 1px 2px rgba(60, 64, 67, 0.3), 0px 1px 3px 1px rgba(60, 64, 67, 0.15);\n",
              "      fill: #174EA6;\n",
              "    }\n",
              "\n",
              "    [theme=dark] .colab-df-convert {\n",
              "      background-color: #3B4455;\n",
              "      fill: #D2E3FC;\n",
              "    }\n",
              "\n",
              "    [theme=dark] .colab-df-convert:hover {\n",
              "      background-color: #434B5C;\n",
              "      box-shadow: 0px 1px 3px 1px rgba(0, 0, 0, 0.15);\n",
              "      filter: drop-shadow(0px 1px 2px rgba(0, 0, 0, 0.3));\n",
              "      fill: #FFFFFF;\n",
              "    }\n",
              "  </style>\n",
              "\n",
              "      <script>\n",
              "        const buttonEl =\n",
              "          document.querySelector('#df-21f2ff38-2626-4af1-b944-e339923c3e0b button.colab-df-convert');\n",
              "        buttonEl.style.display =\n",
              "          google.colab.kernel.accessAllowed ? 'block' : 'none';\n",
              "\n",
              "        async function convertToInteractive(key) {\n",
              "          const element = document.querySelector('#df-21f2ff38-2626-4af1-b944-e339923c3e0b');\n",
              "          const dataTable =\n",
              "            await google.colab.kernel.invokeFunction('convertToInteractive',\n",
              "                                                     [key], {});\n",
              "          if (!dataTable) return;\n",
              "\n",
              "          const docLinkHtml = 'Like what you see? Visit the ' +\n",
              "            '<a target=\"_blank\" href=https://colab.research.google.com/notebooks/data_table.ipynb>data table notebook</a>'\n",
              "            + ' to learn more about interactive tables.';\n",
              "          element.innerHTML = '';\n",
              "          dataTable['output_type'] = 'display_data';\n",
              "          await google.colab.output.renderOutput(dataTable, element);\n",
              "          const docLink = document.createElement('div');\n",
              "          docLink.innerHTML = docLinkHtml;\n",
              "          element.appendChild(docLink);\n",
              "        }\n",
              "      </script>\n",
              "    </div>\n",
              "  </div>\n",
              "  "
            ]
          },
          "metadata": {},
          "execution_count": 8
        }
      ]
    },
    {
      "cell_type": "code",
      "source": [
        "x = data.iloc[:, :-1].values\n",
        "y = data.iloc[:, -1].values"
      ],
      "metadata": {
        "id": "U3TRntrtQYPj"
      },
      "execution_count": 9,
      "outputs": []
    },
    {
      "cell_type": "markdown",
      "source": [
        "## Train and Test Sets"
      ],
      "metadata": {
        "id": "Z6I9ueANRKx3"
      }
    },
    {
      "cell_type": "code",
      "source": [
        "from sklearn.model_selection import train_test_split\n",
        "x_train, x_test, y_train, y_test = train_test_split(x, y, random_state=42, test_size=0.2)\n",
        "print('Shape x_train: ', x_train.shape)\n",
        "print('Shape y_train: ', y_train.shape)\n",
        "print('Shape x_test: ', x_test.shape)\n",
        "print('Shape y_test: ', y_test.shape)"
      ],
      "metadata": {
        "colab": {
          "base_uri": "https://localhost:8080/"
        },
        "id": "NdxHjPjIRGRQ",
        "outputId": "92156462-1889-4ad4-b877-7bc73b54d4f7"
      },
      "execution_count": 10,
      "outputs": [
        {
          "output_type": "stream",
          "name": "stdout",
          "text": [
            "Shape x_train:  (26048, 15)\n",
            "Shape y_train:  (26048,)\n",
            "Shape x_test:  (6512, 15)\n",
            "Shape y_test:  (6512,)\n"
          ]
        }
      ]
    },
    {
      "cell_type": "markdown",
      "source": [
        "## Standardization"
      ],
      "metadata": {
        "id": "2NzmQhwwR7SN"
      }
    },
    {
      "cell_type": "code",
      "source": [
        "from sklearn.preprocessing import StandardScaler\n",
        "scaler = StandardScaler()\n",
        "scaler.fit(x_train)\n",
        "x_train = scaler.transform(x_train)\n",
        "x_test = scaler.transform(x_test)"
      ],
      "metadata": {
        "id": "XG_o7w5CRR8g"
      },
      "execution_count": 11,
      "outputs": []
    },
    {
      "cell_type": "markdown",
      "source": [
        "## ML Techniques\n",
        "\n",
        "We attempt to use various ML Algorithms for classification."
      ],
      "metadata": {
        "id": "G5eiGlQjTDTx"
      }
    },
    {
      "cell_type": "code",
      "source": [
        "from sklearn.metrics import (classification_report, confusion_matrix, ConfusionMatrixDisplay, accuracy_score, \n",
        "                             roc_auc_score, roc_curve)"
      ],
      "metadata": {
        "id": "tPpFOVykZWOe"
      },
      "execution_count": 12,
      "outputs": []
    },
    {
      "cell_type": "markdown",
      "source": [
        "### k-Nearest Neighbours"
      ],
      "metadata": {
        "id": "RCVk2pHmTRZp"
      }
    },
    {
      "cell_type": "code",
      "source": [
        "from sklearn.neighbors import KNeighborsClassifier\n",
        "kNN_classifier = KNeighborsClassifier()\n",
        "kNN_classifier.fit(x_train, y_train)\n",
        "y_pred_kNN = kNN_classifier.predict(x_test)"
      ],
      "metadata": {
        "id": "pQfHdpExSAMR"
      },
      "execution_count": 13,
      "outputs": []
    },
    {
      "cell_type": "code",
      "source": [
        "y_pred_kNN_train = kNN_classifier.predict(x_train)\n",
        "print('Accuracy of the train set: ', accuracy_score(y_train, y_pred_kNN_train))\n",
        "print('Accuracy of the test set: ', accuracy_score(y_test, y_pred_kNN))"
      ],
      "metadata": {
        "colab": {
          "base_uri": "https://localhost:8080/"
        },
        "id": "pTKYZgwLZQe1",
        "outputId": "2bce96d7-b7c7-45a8-d5b9-ce17efb2a464"
      },
      "execution_count": 14,
      "outputs": [
        {
          "output_type": "stream",
          "name": "stdout",
          "text": [
            "Accuracy of the train set:  0.8797988329238329\n",
            "Accuracy of the test set:  0.820485257985258\n"
          ]
        }
      ]
    },
    {
      "cell_type": "code",
      "source": [
        "print(classification_report(y_test, y_pred_kNN))"
      ],
      "metadata": {
        "colab": {
          "base_uri": "https://localhost:8080/"
        },
        "id": "ZV7cR37jZ4RE",
        "outputId": "71c34792-4470-4caa-d692-d17bcb02f736"
      },
      "execution_count": 15,
      "outputs": [
        {
          "output_type": "stream",
          "name": "stdout",
          "text": [
            "              precision    recall  f1-score   support\n",
            "\n",
            "           0       0.86      0.91      0.88      4912\n",
            "           1       0.66      0.56      0.61      1600\n",
            "\n",
            "    accuracy                           0.82      6512\n",
            "   macro avg       0.76      0.73      0.74      6512\n",
            "weighted avg       0.81      0.82      0.82      6512\n",
            "\n"
          ]
        }
      ]
    },
    {
      "cell_type": "code",
      "source": [
        "ConfusionMatrixDisplay(confusion_matrix(y_test, y_pred_kNN), display_labels=['<=50K', '>50K']).plot()"
      ],
      "metadata": {
        "colab": {
          "base_uri": "https://localhost:8080/",
          "height": 296
        },
        "id": "e0rGakTFZ-Lw",
        "outputId": "7aca9626-ce5b-43da-d752-8b9dd8a41062"
      },
      "execution_count": 16,
      "outputs": [
        {
          "output_type": "execute_result",
          "data": {
            "text/plain": [
              "<sklearn.metrics._plot.confusion_matrix.ConfusionMatrixDisplay at 0x7f7e99e85a90>"
            ]
          },
          "metadata": {},
          "execution_count": 16
        },
        {
          "output_type": "display_data",
          "data": {
            "text/plain": [
              "<Figure size 432x288 with 2 Axes>"
            ],
            "image/png": "[encoded data removed]"
          },
          "metadata": {
            "needs_background": "light"
          }
        }
      ]
    },
    {
      "cell_type": "markdown",
      "source": [
        "### Naive Bayes"
      ],
      "metadata": {
        "id": "9QxPtx76a4GE"
      }
    },
    {
      "cell_type": "code",
      "source": [
        "from sklearn.naive_bayes import GaussianNB\n",
        "NB_classifier = GaussianNB()\n",
        "NB_classifier.fit(x_train, y_train)\n",
        "y_pred_NB = NB_classifier.predict(x_test)"
      ],
      "metadata": {
        "id": "_J1lFhF5ae-s"
      },
      "execution_count": 17,
      "outputs": []
    },
    {
      "cell_type": "code",
      "source": [
        "y_pred_NB_train = NB_classifier.predict(x_train)\n",
        "print('Accuracy of the train set: ', accuracy_score(y_train, y_pred_NB_train))\n",
        "print('Accuracy of the test set: ', accuracy_score(y_test, y_pred_NB))"
      ],
      "metadata": {
        "colab": {
          "base_uri": "https://localhost:8080/"
        },
        "id": "0gGgxc9_bKEg",
        "outputId": "b0c4a416-df6f-461a-e897-e8d68606aaed"
      },
      "execution_count": 18,
      "outputs": [
        {
          "output_type": "stream",
          "name": "stdout",
          "text": [
            "Accuracy of the train set:  0.8201013513513513\n",
            "Accuracy of the test set:  0.8243243243243243\n"
          ]
        }
      ]
    },
    {
      "cell_type": "code",
      "source": [
        "print(classification_report(y_test, y_pred_NB))"
      ],
      "metadata": {
        "colab": {
          "base_uri": "https://localhost:8080/"
        },
        "id": "VxyY9WrFbRtH",
        "outputId": "675dd499-7382-48db-a8b3-38bd208c5de0"
      },
      "execution_count": 19,
      "outputs": [
        {
          "output_type": "stream",
          "name": "stdout",
          "text": [
            "              precision    recall  f1-score   support\n",
            "\n",
            "           0       0.84      0.94      0.89      4912\n",
            "           1       0.72      0.47      0.57      1600\n",
            "\n",
            "    accuracy                           0.82      6512\n",
            "   macro avg       0.78      0.70      0.73      6512\n",
            "weighted avg       0.81      0.82      0.81      6512\n",
            "\n"
          ]
        }
      ]
    },
    {
      "cell_type": "code",
      "source": [
        "ConfusionMatrixDisplay(confusion_matrix(y_test, y_pred_NB), display_labels=['<=50K', '>50K']).plot()"
      ],
      "metadata": {
        "colab": {
          "base_uri": "https://localhost:8080/",
          "height": 296
        },
        "id": "U01vFPXrbVG3",
        "outputId": "4f4ac576-5179-4761-d379-e781bae46b76"
      },
      "execution_count": 20,
      "outputs": [
        {
          "output_type": "execute_result",
          "data": {
            "text/plain": [
              "<sklearn.metrics._plot.confusion_matrix.ConfusionMatrixDisplay at 0x7f7e99d96e50>"
            ]
          },
          "metadata": {},
          "execution_count": 20
        },
        {
          "output_type": "display_data",
          "data": {
            "text/plain": [
              "<Figure size 432x288 with 2 Axes>"
            ],
            "image/png": "[encoded data removed]"
          },
          "metadata": {
            "needs_background": "light"
          }
        }
      ]
    },
    {
      "cell_type": "markdown",
      "source": [
        "### Support Vector Machine"
      ],
      "metadata": {
        "id": "7Rl3icw5bwKo"
      }
    },
    {
      "cell_type": "code",
      "source": [
        "from sklearn.svm import SVC\n",
        "SVM_classifier = SVC()\n",
        "SVM_classifier.fit(x_train, y_train)\n",
        "y_pred_SVM = SVM_classifier.predict(x_test)"
      ],
      "metadata": {
        "id": "7i0wOAZWbY8X"
      },
      "execution_count": 21,
      "outputs": []
    },
    {
      "cell_type": "code",
      "source": [
        "y_pred_SVM_train = SVM_classifier.predict(x_train)\n",
        "print('Accuracy of the train set: ', accuracy_score(y_train, y_pred_SVM_train))\n",
        "print('Accuracy of the test set: ', accuracy_score(y_test, y_pred_SVM))"
      ],
      "metadata": {
        "colab": {
          "base_uri": "https://localhost:8080/"
        },
        "id": "lzi2rNMIcDJT",
        "outputId": "99399307-2bb1-4967-ad6b-ab33e962cc3a"
      },
      "execution_count": 22,
      "outputs": [
        {
          "output_type": "stream",
          "name": "stdout",
          "text": [
            "Accuracy of the train set:  0.8560350122850123\n",
            "Accuracy of the test set:  0.8456695331695332\n"
          ]
        }
      ]
    },
    {
      "cell_type": "code",
      "source": [
        "print(classification_report(y_test, y_pred_SVM))"
      ],
      "metadata": {
        "colab": {
          "base_uri": "https://localhost:8080/"
        },
        "id": "Nxk-OW7EcDFy",
        "outputId": "208d1791-5764-40a7-acf5-f0b519222122"
      },
      "execution_count": 23,
      "outputs": [
        {
          "output_type": "stream",
          "name": "stdout",
          "text": [
            "              precision    recall  f1-score   support\n",
            "\n",
            "           0       0.87      0.94      0.90      4912\n",
            "           1       0.75      0.56      0.64      1600\n",
            "\n",
            "    accuracy                           0.85      6512\n",
            "   macro avg       0.81      0.75      0.77      6512\n",
            "weighted avg       0.84      0.85      0.84      6512\n",
            "\n"
          ]
        }
      ]
    },
    {
      "cell_type": "code",
      "source": [
        "ConfusionMatrixDisplay.from_predictions(y_test, y_pred_SVM)"
      ],
      "metadata": {
        "colab": {
          "base_uri": "https://localhost:8080/",
          "height": 296
        },
        "id": "_UrtrYyHcgHS",
        "outputId": "945539a1-2f2a-44d5-fb74-701315a6a1a2"
      },
      "execution_count": 24,
      "outputs": [
        {
          "output_type": "execute_result",
          "data": {
            "text/plain": [
              "<sklearn.metrics._plot.confusion_matrix.ConfusionMatrixDisplay at 0x7f7e9a424210>"
            ]
          },
          "metadata": {},
          "execution_count": 24
        },
        {
          "output_type": "display_data",
          "data": {
            "text/plain": [
              "<Figure size 432x288 with 2 Axes>"
            ],
            "image/png": "[encoded data removed]"
          },
          "metadata": {
            "needs_background": "light"
          }
        }
      ]
    },
    {
      "cell_type": "markdown",
      "source": [
        "### Logistic Regression"
      ],
      "metadata": {
        "id": "FA46mrF0dIBn"
      }
    },
    {
      "cell_type": "code",
      "source": [
        "from sklearn.linear_model import LogisticRegression\n",
        "LR_classifier = LogisticRegression()\n",
        "LR_classifier.fit(x_train, y_train)\n",
        "y_pred_LR = LR_classifier.predict(x_test)"
      ],
      "metadata": {
        "id": "beNwIotmcqdC"
      },
      "execution_count": 25,
      "outputs": []
    },
    {
      "cell_type": "code",
      "source": [
        "y_pred_LR_train = LR_classifier.predict(x_train)\n",
        "print('Accuracy of the train set: ', accuracy_score(y_train, y_pred_LR_train))\n",
        "print('Accuracy of the test set: ', accuracy_score(y_test, y_pred_LR))"
      ],
      "metadata": {
        "colab": {
          "base_uri": "https://localhost:8080/"
        },
        "id": "FEtAdtlZdq_2",
        "outputId": "baceba9d-8a8f-44ef-fcfa-a6c107bc052a"
      },
      "execution_count": 26,
      "outputs": [
        {
          "output_type": "stream",
          "name": "stdout",
          "text": [
            "Accuracy of the train set:  0.8381065724815725\n",
            "Accuracy of the test set:  0.8366093366093366\n"
          ]
        }
      ]
    },
    {
      "cell_type": "code",
      "source": [
        "print(classification_report(y_test, y_pred_LR))"
      ],
      "metadata": {
        "colab": {
          "base_uri": "https://localhost:8080/"
        },
        "id": "kcGdUI3bdq8V",
        "outputId": "bad97031-08e5-4ca0-c4b8-f4fedf217bd8"
      },
      "execution_count": 27,
      "outputs": [
        {
          "output_type": "stream",
          "name": "stdout",
          "text": [
            "              precision    recall  f1-score   support\n",
            "\n",
            "           0       0.87      0.93      0.90      4912\n",
            "           1       0.71      0.56      0.63      1600\n",
            "\n",
            "    accuracy                           0.84      6512\n",
            "   macro avg       0.79      0.74      0.76      6512\n",
            "weighted avg       0.83      0.84      0.83      6512\n",
            "\n"
          ]
        }
      ]
    },
    {
      "cell_type": "code",
      "source": [
        "ConfusionMatrixDisplay.from_predictions(y_test, y_pred_LR)"
      ],
      "metadata": {
        "colab": {
          "base_uri": "https://localhost:8080/",
          "height": 298
        },
        "id": "VMJquwLrdq4N",
        "outputId": "633dcff2-8d8e-4410-f55d-cab36d313818"
      },
      "execution_count": 28,
      "outputs": [
        {
          "output_type": "execute_result",
          "data": {
            "text/plain": [
              "<sklearn.metrics._plot.confusion_matrix.ConfusionMatrixDisplay at 0x7f7e9978e210>"
            ]
          },
          "metadata": {},
          "execution_count": 28
        },
        {
          "output_type": "display_data",
          "data": {
            "text/plain": [
              "<Figure size 432x288 with 2 Axes>"
            ],
            "image/png": "[encoded data removed]"
          },
          "metadata": {
            "needs_background": "light"
          }
        }
      ]
    },
    {
      "cell_type": "markdown",
      "source": [
        "### Decision Tree "
      ],
      "metadata": {
        "id": "9MnHCc3SeU11"
      }
    },
    {
      "cell_type": "code",
      "source": [
        "from sklearn.tree import DecisionTreeClassifier\n",
        "DT_classifier = DecisionTreeClassifier()\n",
        "DT_classifier.fit(x_train, y_train)\n",
        "y_pred_DT = DT_classifier.predict(x_test)\n",
        "DT_classifier.get_params()"
      ],
      "metadata": {
        "colab": {
          "base_uri": "https://localhost:8080/"
        },
        "id": "IG2FpKJCdq01",
        "outputId": "1df169e9-35d6-4cd5-ac8b-6793bfb37bd7"
      },
      "execution_count": 29,
      "outputs": [
        {
          "output_type": "execute_result",
          "data": {
            "text/plain": [
              "{'ccp_alpha': 0.0,\n",
              " 'class_weight': None,\n",
              " 'criterion': 'gini',\n",
              " 'max_depth': None,\n",
              " 'max_features': None,\n",
              " 'max_leaf_nodes': None,\n",
              " 'min_impurity_decrease': 0.0,\n",
              " 'min_samples_leaf': 1,\n",
              " 'min_samples_split': 2,\n",
              " 'min_weight_fraction_leaf': 0.0,\n",
              " 'random_state': None,\n",
              " 'splitter': 'best'}"
            ]
          },
          "metadata": {},
          "execution_count": 29
        }
      ]
    },
    {
      "cell_type": "code",
      "source": [
        "y_pred_DT_train = DT_classifier.predict(x_train)\n",
        "print('Accuracy of the train set: ', accuracy_score(y_train, y_pred_DT_train))\n",
        "print('Accuracy of the test set: ', accuracy_score(y_test, y_pred_DT))"
      ],
      "metadata": {
        "colab": {
          "base_uri": "https://localhost:8080/"
        },
        "id": "tPQspH32epgp",
        "outputId": "5c4b5ca9-b4cb-468d-8e54-ea0224e7bf5a"
      },
      "execution_count": 30,
      "outputs": [
        {
          "output_type": "stream",
          "name": "stdout",
          "text": [
            "Accuracy of the train set:  0.9999616093366094\n",
            "Accuracy of the test set:  0.808507371007371\n"
          ]
        }
      ]
    },
    {
      "cell_type": "markdown",
      "source": [
        "There is overfitting, as evident between the huge difference between the accuracy of the training and testing datasets. \n",
        "We can use Pre-pruning technique to reduce overfitting."
      ],
      "metadata": {
        "id": "jp6roYA9gzb5"
      }
    },
    {
      "cell_type": "markdown",
      "source": [
        "#### Pre-pruning Technique for Decision Tree\n",
        "\n",
        "We find the best values for the Hyperparameters 'max_depth', 'min_samples_leaf' and 'min_samples_split'. We will set the Cross validation to 3-fold and evaluate the Decision Tree."
      ],
      "metadata": {
        "id": "86RjCJeHh3U-"
      }
    },
    {
      "cell_type": "code",
      "source": [
        "from sklearn.model_selection import GridSearchCV\n",
        "\n",
        "parameters_grid = {\n",
        "   \"max_depth\": [3, 5, 10, 15, 20, 25, 30],\n",
        "    \"min_samples_split\": [2, 5, 7, 10, 12, 15],\n",
        "    \"min_samples_leaf\": [1, 2, 5, 7] \n",
        "}\n",
        "\n",
        "grid_cv = GridSearchCV(DT_classifier, parameters_grid, scoring=\"roc_auc\", n_jobs=-1, cv=3).fit(x_train, y_train)"
      ],
      "metadata": {
        "id": "hFpJPikhfG82"
      },
      "execution_count": 31,
      "outputs": []
    },
    {
      "cell_type": "code",
      "source": [
        "print(\"Parameters for Grid Search: \", grid_cv.best_params_)\n",
        "print(\"CV score for Grid Search: \", grid_cv.best_score_)\n",
        "print(\"Train AUC-ROC Score for GS: \", roc_auc_score(y_train, grid_cv.predict(x_train)))\n",
        "print(\"Test AUC-ROC Score for GS: \", roc_auc_score(y_test, grid_cv.predict(x_test)))"
      ],
      "metadata": {
        "colab": {
          "base_uri": "https://localhost:8080/"
        },
        "id": "dyBCToGMigs3",
        "outputId": "b78d13c9-9b9b-4c55-9db7-9db63f0dc80e"
      },
      "execution_count": 32,
      "outputs": [
        {
          "output_type": "stream",
          "name": "stdout",
          "text": [
            "Parameters for Grid Search:  {'max_depth': 10, 'min_samples_leaf': 7, 'min_samples_split': 2}\n",
            "CV score for Grid Search:  0.8935650454118783\n",
            "Train AUC-ROC Score for GS:  0.7960149200399137\n",
            "Test AUC-ROC Score for GS:  0.7860779723127036\n"
          ]
        }
      ]
    },
    {
      "cell_type": "markdown",
      "source": [
        "We use the parameters from Pre-pruning to model the Decision Tree again:"
      ],
      "metadata": {
        "id": "WWoLXIc7j11S"
      }
    },
    {
      "cell_type": "code",
      "source": [
        "DT_classifier_pruned = DecisionTreeClassifier(max_depth = 10, min_samples_leaf = 7, min_samples_split = 2)\n",
        "DT_classifier_pruned.fit(x_train, y_train)\n",
        "y_pred_DT_pruned = DT_classifier_pruned.predict(x_test)"
      ],
      "metadata": {
        "id": "dN3CTyrhi3G1"
      },
      "execution_count": 33,
      "outputs": []
    },
    {
      "cell_type": "code",
      "source": [
        "y_pred_DT_pruned_train = DT_classifier_pruned.predict(x_train)\n",
        "print('Accuracy of the train set: ', accuracy_score(y_train, y_pred_DT_pruned_train))\n",
        "print('Accuracy of the test set: ', accuracy_score(y_test, y_pred_DT_pruned))"
      ],
      "metadata": {
        "colab": {
          "base_uri": "https://localhost:8080/"
        },
        "id": "mf1HsQ-lkM2f",
        "outputId": "9818f852-d573-4c24-f8cc-06b7954c11e6"
      },
      "execution_count": 34,
      "outputs": [
        {
          "output_type": "stream",
          "name": "stdout",
          "text": [
            "Accuracy of the train set:  0.8640202702702703\n",
            "Accuracy of the test set:  0.851965601965602\n"
          ]
        }
      ]
    },
    {
      "cell_type": "markdown",
      "source": [
        "The overfitting problem is solved. We now do a Performance Evaluation."
      ],
      "metadata": {
        "id": "VQc9eeYrkgsv"
      }
    },
    {
      "cell_type": "code",
      "source": [
        "print(classification_report(y_test, y_pred_DT_pruned))"
      ],
      "metadata": {
        "colab": {
          "base_uri": "https://localhost:8080/"
        },
        "id": "VBqFM-tskWmC",
        "outputId": "23919f62-6499-4c1d-ae4e-32365b4a5a7d"
      },
      "execution_count": 35,
      "outputs": [
        {
          "output_type": "stream",
          "name": "stdout",
          "text": [
            "              precision    recall  f1-score   support\n",
            "\n",
            "           0       0.89      0.92      0.90      4912\n",
            "           1       0.72      0.66      0.68      1600\n",
            "\n",
            "    accuracy                           0.85      6512\n",
            "   macro avg       0.80      0.79      0.79      6512\n",
            "weighted avg       0.85      0.85      0.85      6512\n",
            "\n"
          ]
        }
      ]
    },
    {
      "cell_type": "code",
      "source": [
        "ConfusionMatrixDisplay.from_predictions(y_test, y_pred_DT_pruned)"
      ],
      "metadata": {
        "colab": {
          "base_uri": "https://localhost:8080/",
          "height": 300
        },
        "id": "_lq0jJCpkc6P",
        "outputId": "9719683e-6a97-489f-e6ba-1a9698e9a23d"
      },
      "execution_count": 36,
      "outputs": [
        {
          "output_type": "execute_result",
          "data": {
            "text/plain": [
              "<sklearn.metrics._plot.confusion_matrix.ConfusionMatrixDisplay at 0x7f7e96d308d0>"
            ]
          },
          "metadata": {},
          "execution_count": 36
        },
        {
          "output_type": "display_data",
          "data": {
            "text/plain": [
              "<Figure size 432x288 with 2 Axes>"
            ],
            "image/png": "[encoded data removed]"
          },
          "metadata": {
            "needs_background": "light"
          }
        }
      ]
    },
    {
      "cell_type": "markdown",
      "source": [
        "### Random Forests"
      ],
      "metadata": {
        "id": "vCiXguKSlIBa"
      }
    },
    {
      "cell_type": "code",
      "source": [
        "from sklearn.ensemble import RandomForestClassifier\n",
        "RF_classifier = RandomForestClassifier(random_state=42)\n",
        "RF_classifier.fit(x_train, y_train)\n",
        "y_pred_RF = RF_classifier.predict(x_test)\n",
        "RF_classifier.get_params()"
      ],
      "metadata": {
        "colab": {
          "base_uri": "https://localhost:8080/"
        },
        "id": "v6l6fU3pkq5Q",
        "outputId": "6f672e21-d0e9-4ebe-ed7d-4e5f2ab4f69e"
      },
      "execution_count": 37,
      "outputs": [
        {
          "output_type": "execute_result",
          "data": {
            "text/plain": [
              "{'bootstrap': True,\n",
              " 'ccp_alpha': 0.0,\n",
              " 'class_weight': None,\n",
              " 'criterion': 'gini',\n",
              " 'max_depth': None,\n",
              " 'max_features': 'auto',\n",
              " 'max_leaf_nodes': None,\n",
              " 'max_samples': None,\n",
              " 'min_impurity_decrease': 0.0,\n",
              " 'min_samples_leaf': 1,\n",
              " 'min_samples_split': 2,\n",
              " 'min_weight_fraction_leaf': 0.0,\n",
              " 'n_estimators': 100,\n",
              " 'n_jobs': None,\n",
              " 'oob_score': False,\n",
              " 'random_state': 42,\n",
              " 'verbose': 0,\n",
              " 'warm_start': False}"
            ]
          },
          "metadata": {},
          "execution_count": 37
        }
      ]
    },
    {
      "cell_type": "code",
      "source": [
        "y_pred_RF_train = RF_classifier.predict(x_train)\n",
        "print('Accuracy of the train set: ', accuracy_score(y_train, y_pred_RF_train))\n",
        "print('Accuracy of the test set: ', accuracy_score(y_test, y_pred_RF))"
      ],
      "metadata": {
        "colab": {
          "base_uri": "https://localhost:8080/"
        },
        "id": "hK1Fdh7BuLqS",
        "outputId": "2646064a-9fb3-4233-c9b2-7674e1cbc2a9"
      },
      "execution_count": 38,
      "outputs": [
        {
          "output_type": "stream",
          "name": "stdout",
          "text": [
            "Accuracy of the train set:  0.9999616093366094\n",
            "Accuracy of the test set:  0.8551904176904177\n"
          ]
        }
      ]
    },
    {
      "cell_type": "markdown",
      "source": [
        "Again, this is a case of overfitting. We perform Pre-pruning."
      ],
      "metadata": {
        "id": "1Qc8NlWu7Ceu"
      }
    },
    {
      "cell_type": "markdown",
      "source": [
        "#### Pre-pruning Technique for Random Forest\n",
        "\n",
        "Overfitting can be solved to a great extent by the hyperparameters 'max_depth' (how deep will we have our decision trees) and 'n_estimators' (number of decision trees in each layer)."
      ],
      "metadata": {
        "id": "nzP5tSCq7KRr"
      }
    },
    {
      "cell_type": "code",
      "source": [
        "parameters_grid = {\n",
        "   \"max_depth\": [3, 5],\n",
        "    \"n_estimators\": [200, 300]\n",
        "}\n",
        "\n",
        "grid_cv = GridSearchCV(RF_classifier, parameters_grid, scoring=\"roc_auc\", n_jobs=-1, cv=3).fit(x_train, y_train)"
      ],
      "metadata": {
        "id": "MSzGg7iWuLmx"
      },
      "execution_count": 39,
      "outputs": []
    },
    {
      "cell_type": "code",
      "source": [
        "print(\"Parameters for Grid Search: \", grid_cv.best_params_)\n",
        "print(\"CV score for Grid Search: \", grid_cv.best_score_)\n",
        "print(\"Train AUC-ROC Score for GS: \", roc_auc_score(y_train, grid_cv.predict(x_train)))\n",
        "print(\"Test AUC-ROC Score for GS: \", roc_auc_score(y_test, grid_cv.predict(x_test)))"
      ],
      "metadata": {
        "colab": {
          "base_uri": "https://localhost:8080/"
        },
        "id": "oDPU_3jL0Miy",
        "outputId": "2e3fe993-4d3e-4548-8c46-b90697196511"
      },
      "execution_count": 40,
      "outputs": [
        {
          "output_type": "stream",
          "name": "stdout",
          "text": [
            "Parameters for Grid Search:  {'max_depth': 5, 'n_estimators': 200}\n",
            "CV score for Grid Search:  0.9032115609914575\n",
            "Train AUC-ROC Score for GS:  0.7381354570888031\n",
            "Test AUC-ROC Score for GS:  0.7434486970684039\n"
          ]
        }
      ]
    },
    {
      "cell_type": "markdown",
      "source": [
        "We use the parameters from GridSearchCV to train the Random Forest:"
      ],
      "metadata": {
        "id": "faOmXwPLAYFm"
      }
    },
    {
      "cell_type": "code",
      "source": [
        "RF_classifier_pruned = RandomForestClassifier(n_estimators=300, max_depth=5)\n",
        "RF_classifier_pruned.fit(x_train, y_train)\n",
        "y_pred_RF_pruned = RF_classifier_pruned.predict(x_test)"
      ],
      "metadata": {
        "id": "aOsv_9N_0bno"
      },
      "execution_count": 41,
      "outputs": []
    },
    {
      "cell_type": "code",
      "source": [
        "y_pred_RF_pruned_train = RF_classifier_pruned.predict(x_train)\n",
        "print('Accuracy of the train set: ', accuracy_score(y_train, y_pred_RF_pruned_train))\n",
        "print('Accuracy of the test set: ', accuracy_score(y_test, y_pred_RF_pruned))"
      ],
      "metadata": {
        "colab": {
          "base_uri": "https://localhost:8080/"
        },
        "id": "RvYyJnrzuLYO",
        "outputId": "bf169150-8014-421b-8022-76c35f791254"
      },
      "execution_count": 42,
      "outputs": [
        {
          "output_type": "stream",
          "name": "stdout",
          "text": [
            "Accuracy of the train set:  0.8540003071253072\n",
            "Accuracy of the test set:  0.8511977886977887\n"
          ]
        }
      ]
    },
    {
      "cell_type": "markdown",
      "source": [
        "The overfitting problem is now solved. We can evaluate the Performance of the model:"
      ],
      "metadata": {
        "id": "VUbO4G547uat"
      }
    },
    {
      "cell_type": "code",
      "source": [
        "print(classification_report(y_test, y_pred_RF_pruned))"
      ],
      "metadata": {
        "colab": {
          "base_uri": "https://localhost:8080/"
        },
        "id": "8hIJtbGq7rYl",
        "outputId": "9a3cb1ca-61fe-4ce6-dfbe-104bbb5260fe"
      },
      "execution_count": 43,
      "outputs": [
        {
          "output_type": "stream",
          "name": "stdout",
          "text": [
            "              precision    recall  f1-score   support\n",
            "\n",
            "           0       0.86      0.96      0.91      4912\n",
            "           1       0.79      0.53      0.64      1600\n",
            "\n",
            "    accuracy                           0.85      6512\n",
            "   macro avg       0.83      0.74      0.77      6512\n",
            "weighted avg       0.85      0.85      0.84      6512\n",
            "\n"
          ]
        }
      ]
    },
    {
      "cell_type": "code",
      "source": [
        "ConfusionMatrixDisplay.from_predictions(y_test, y_pred_RF_pruned)"
      ],
      "metadata": {
        "colab": {
          "base_uri": "https://localhost:8080/",
          "height": 296
        },
        "id": "AqPvOTst8Bjv",
        "outputId": "ed1c1f6a-d889-47cf-8993-b8fa9af8196f"
      },
      "execution_count": 44,
      "outputs": [
        {
          "output_type": "execute_result",
          "data": {
            "text/plain": [
              "<sklearn.metrics._plot.confusion_matrix.ConfusionMatrixDisplay at 0x7f7e96318390>"
            ]
          },
          "metadata": {},
          "execution_count": 44
        },
        {
          "output_type": "display_data",
          "data": {
            "text/plain": [
              "<Figure size 432x288 with 2 Axes>"
            ],
            "image/png": "[encoded data removed]"
          },
          "metadata": {
            "needs_background": "light"
          }
        }
      ]
    },
    {
      "cell_type": "markdown",
      "source": [
        "### Stacking Classifier"
      ],
      "metadata": {
        "id": "v6-UrSoIAlZV"
      }
    },
    {
      "cell_type": "code",
      "source": [
        "from sklearn.ensemble import StackingClassifier, GradientBoostingClassifier\n",
        "base_est_svm = SVC()\n",
        "base_est_gb = GradientBoostingClassifier(n_estimators=300, random_state=42)\n",
        "base_est_rf = RandomForestClassifier(n_estimators=300, max_depth = 5, random_state=42)\n",
        "base_est_dt = DecisionTreeClassifier(random_state=42, max_depth = 10, min_samples_leaf = 7, min_samples_split = 2)\n",
        "estimators = [('RF', base_est_rf), ('GB', base_est_gb), ('DT', base_est_dt)]\n",
        "StackClassifier = StackingClassifier(estimators=estimators, final_estimator=LogisticRegression(), cv=5)\n",
        "StackClassifier.get_params()"
      ],
      "metadata": {
        "colab": {
          "base_uri": "https://localhost:8080/"
        },
        "id": "gqG2yQGV8ta6",
        "outputId": "a1d592ed-ccb9-4ea3-8823-a64234ef709d"
      },
      "execution_count": 45,
      "outputs": [
        {
          "output_type": "execute_result",
          "data": {
            "text/plain": [
              "{'cv': 5,\n",
              " 'estimators': [('RF',\n",
              "   RandomForestClassifier(max_depth=5, n_estimators=300, random_state=42)),\n",
              "  ('GB', GradientBoostingClassifier(n_estimators=300, random_state=42)),\n",
              "  ('DT',\n",
              "   DecisionTreeClassifier(max_depth=10, min_samples_leaf=7, random_state=42))],\n",
              " 'final_estimator__C': 1.0,\n",
              " 'final_estimator__class_weight': None,\n",
              " 'final_estimator__dual': False,\n",
              " 'final_estimator__fit_intercept': True,\n",
              " 'final_estimator__intercept_scaling': 1,\n",
              " 'final_estimator__l1_ratio': None,\n",
              " 'final_estimator__max_iter': 100,\n",
              " 'final_estimator__multi_class': 'auto',\n",
              " 'final_estimator__n_jobs': None,\n",
              " 'final_estimator__penalty': 'l2',\n",
              " 'final_estimator__random_state': None,\n",
              " 'final_estimator__solver': 'lbfgs',\n",
              " 'final_estimator__tol': 0.0001,\n",
              " 'final_estimator__verbose': 0,\n",
              " 'final_estimator__warm_start': False,\n",
              " 'final_estimator': LogisticRegression(),\n",
              " 'n_jobs': None,\n",
              " 'passthrough': False,\n",
              " 'stack_method': 'auto',\n",
              " 'verbose': 0,\n",
              " 'RF': RandomForestClassifier(max_depth=5, n_estimators=300, random_state=42),\n",
              " 'GB': GradientBoostingClassifier(n_estimators=300, random_state=42),\n",
              " 'DT': DecisionTreeClassifier(max_depth=10, min_samples_leaf=7, random_state=42),\n",
              " 'RF__bootstrap': True,\n",
              " 'RF__ccp_alpha': 0.0,\n",
              " 'RF__class_weight': None,\n",
              " 'RF__criterion': 'gini',\n",
              " 'RF__max_depth': 5,\n",
              " 'RF__max_features': 'auto',\n",
              " 'RF__max_leaf_nodes': None,\n",
              " 'RF__max_samples': None,\n",
              " 'RF__min_impurity_decrease': 0.0,\n",
              " 'RF__min_samples_leaf': 1,\n",
              " 'RF__min_samples_split': 2,\n",
              " 'RF__min_weight_fraction_leaf': 0.0,\n",
              " 'RF__n_estimators': 300,\n",
              " 'RF__n_jobs': None,\n",
              " 'RF__oob_score': False,\n",
              " 'RF__random_state': 42,\n",
              " 'RF__verbose': 0,\n",
              " 'RF__warm_start': False,\n",
              " 'GB__ccp_alpha': 0.0,\n",
              " 'GB__criterion': 'friedman_mse',\n",
              " 'GB__init': None,\n",
              " 'GB__learning_rate': 0.1,\n",
              " 'GB__loss': 'deviance',\n",
              " 'GB__max_depth': 3,\n",
              " 'GB__max_features': None,\n",
              " 'GB__max_leaf_nodes': None,\n",
              " 'GB__min_impurity_decrease': 0.0,\n",
              " 'GB__min_samples_leaf': 1,\n",
              " 'GB__min_samples_split': 2,\n",
              " 'GB__min_weight_fraction_leaf': 0.0,\n",
              " 'GB__n_estimators': 300,\n",
              " 'GB__n_iter_no_change': None,\n",
              " 'GB__random_state': 42,\n",
              " 'GB__subsample': 1.0,\n",
              " 'GB__tol': 0.0001,\n",
              " 'GB__validation_fraction': 0.1,\n",
              " 'GB__verbose': 0,\n",
              " 'GB__warm_start': False,\n",
              " 'DT__ccp_alpha': 0.0,\n",
              " 'DT__class_weight': None,\n",
              " 'DT__criterion': 'gini',\n",
              " 'DT__max_depth': 10,\n",
              " 'DT__max_features': None,\n",
              " 'DT__max_leaf_nodes': None,\n",
              " 'DT__min_impurity_decrease': 0.0,\n",
              " 'DT__min_samples_leaf': 7,\n",
              " 'DT__min_samples_split': 2,\n",
              " 'DT__min_weight_fraction_leaf': 0.0,\n",
              " 'DT__random_state': 42,\n",
              " 'DT__splitter': 'best'}"
            ]
          },
          "metadata": {},
          "execution_count": 45
        }
      ]
    },
    {
      "cell_type": "code",
      "source": [
        "StackClassifier.fit(x_train, y_train)"
      ],
      "metadata": {
        "colab": {
          "base_uri": "https://localhost:8080/"
        },
        "id": "XEzQQlqXBNli",
        "outputId": "66252f39-e1c8-42bb-ad01-bc1a802aae9b"
      },
      "execution_count": 46,
      "outputs": [
        {
          "output_type": "execute_result",
          "data": {
            "text/plain": [
              "StackingClassifier(cv=5,\n",
              "                   estimators=[('RF',\n",
              "                                RandomForestClassifier(max_depth=5,\n",
              "                                                       n_estimators=300,\n",
              "                                                       random_state=42)),\n",
              "                               ('GB',\n",
              "                                GradientBoostingClassifier(n_estimators=300,\n",
              "                                                           random_state=42)),\n",
              "                               ('DT',\n",
              "                                DecisionTreeClassifier(max_depth=10,\n",
              "                                                       min_samples_leaf=7,\n",
              "                                                       random_state=42))],\n",
              "                   final_estimator=LogisticRegression())"
            ]
          },
          "metadata": {},
          "execution_count": 46
        }
      ]
    },
    {
      "cell_type": "code",
      "source": [
        "y_pred_Stack = StackClassifier.predict(x_test)"
      ],
      "metadata": {
        "id": "nd0RoJP3BTYB"
      },
      "execution_count": 47,
      "outputs": []
    },
    {
      "cell_type": "code",
      "source": [
        "y_pred_Stack_train = StackClassifier.predict(x_train)\n",
        "print('Accuracy of the train set: ', accuracy_score(y_train, y_pred_Stack_train))\n",
        "print('Accuracy of the test set: ', accuracy_score(y_test, y_pred_Stack))"
      ],
      "metadata": {
        "colab": {
          "base_uri": "https://localhost:8080/"
        },
        "id": "d7dnNbboBuF4",
        "outputId": "3c4e9103-05a5-4830-86b1-02e5a37a7e7e"
      },
      "execution_count": 48,
      "outputs": [
        {
          "output_type": "stream",
          "name": "stdout",
          "text": [
            "Accuracy of the train set:  0.8779944717444718\n",
            "Accuracy of the test set:  0.870085995085995\n"
          ]
        }
      ]
    },
    {
      "cell_type": "code",
      "source": [
        "print(classification_report(y_test, y_pred_Stack))"
      ],
      "metadata": {
        "colab": {
          "base_uri": "https://localhost:8080/"
        },
        "id": "ffnAYrFFCHrW",
        "outputId": "9a8bac6a-c9cd-43de-90b0-add03182c6d8"
      },
      "execution_count": 49,
      "outputs": [
        {
          "output_type": "stream",
          "name": "stdout",
          "text": [
            "              precision    recall  f1-score   support\n",
            "\n",
            "           0       0.89      0.94      0.92      4912\n",
            "           1       0.78      0.66      0.71      1600\n",
            "\n",
            "    accuracy                           0.87      6512\n",
            "   macro avg       0.84      0.80      0.81      6512\n",
            "weighted avg       0.87      0.87      0.87      6512\n",
            "\n"
          ]
        }
      ]
    },
    {
      "cell_type": "code",
      "source": [
        "ConfusionMatrixDisplay.from_predictions(y_test, y_pred_Stack)"
      ],
      "metadata": {
        "colab": {
          "base_uri": "https://localhost:8080/",
          "height": 296
        },
        "id": "09inPP0TCM8R",
        "outputId": "c7b434f4-8326-49df-f970-4fc04c9b48b8"
      },
      "execution_count": 50,
      "outputs": [
        {
          "output_type": "execute_result",
          "data": {
            "text/plain": [
              "<sklearn.metrics._plot.confusion_matrix.ConfusionMatrixDisplay at 0x7f7e95f90ad0>"
            ]
          },
          "metadata": {},
          "execution_count": 50
        },
        {
          "output_type": "display_data",
          "data": {
            "text/plain": [
              "<Figure size 432x288 with 2 Axes>"
            ],
            "image/png": "[encoded data removed]"
          },
          "metadata": {
            "needs_background": "light"
          }
        }
      ]
    },
    {
      "cell_type": "markdown",
      "source": [
        "## ROC Curve"
      ],
      "metadata": {
        "id": "O1L0T9De8Jiq"
      }
    },
    {
      "cell_type": "code",
      "source": [
        "plt.plot([0,1], [0,1], ':')\n",
        "fpr1, tpr1, thresholds = roc_curve(y_test, y_pred_kNN)\n",
        "plt.plot(fpr1, tpr1, '--', label='kNN')\n",
        "fpr2, tpr2, thresholds = roc_curve(y_test, y_pred_NB)\n",
        "plt.plot(fpr2, tpr2, '--', label='Naive Bayes')\n",
        "fpr3, tpr3, thresholds = roc_curve(y_test, y_pred_SVM)\n",
        "plt.plot(fpr3, tpr3, '--', label='SVM')\n",
        "fpr4, tpr4, thresholds = roc_curve(y_test, y_pred_LR)\n",
        "plt.plot(fpr4, tpr4, '--', label='Logistic Regression')\n",
        "fpr5, tpr5, thresholds = roc_curve(y_test, y_pred_DT_pruned)\n",
        "plt.plot(fpr5, tpr5, '--', label='Decision Tree (Pruned)')\n",
        "fpr6, tpr6, thresholds = roc_curve(y_test, y_pred_RF_pruned)\n",
        "plt.plot(fpr6, tpr6, '--', label='Random Forest (Pruned)')\n",
        "fpr7, tpr7, thresholds = roc_curve(y_test, y_pred_Stack)\n",
        "plt.plot(fpr7, tpr7, '--', label='Stacking Classifier')\n",
        "plt.xlabel('False Positive Rate')\n",
        "plt.ylabel('True Positive Rate')\n",
        "plt.legend()\n",
        "plt.show()"
      ],
      "metadata": {
        "colab": {
          "base_uri": "https://localhost:8080/",
          "height": 279
        },
        "id": "xfmwSlKa8Fo4",
        "outputId": "4b0576fa-0129-4792-cd02-1b822b3f9617"
      },
      "execution_count": 51,
      "outputs": [
        {
          "output_type": "display_data",
          "data": {
            "text/plain": [
              "<Figure size 432x288 with 1 Axes>"
            ],
            "image/png": "[encoded data removed]"
          },
          "metadata": {
            "needs_background": "light"
          }
        }
      ]
    },
    {
      "cell_type": "markdown",
      "source": [
        "It seems that the Classifiers does not really do well when it comes to dealing with False Positives. However, in terms of accuracy, Stacking Classifier and Decision Tree tend to outperform other algorithms that we have implemented so far.\n",
        "\n",
        "We have to tackle the Imbalance in the dataset in order to have a better ROC Curve."
      ],
      "metadata": {
        "id": "zimTIs_W-Ik9"
      }
    },
    {
      "cell_type": "markdown",
      "source": [
        "# Tackling Imbalace in the dataset\n",
        "\n",
        "We now analyze the performance of different algorithms after the dataset is balanced."
      ],
      "metadata": {
        "id": "QfeQFMO-ER8S"
      }
    },
    {
      "cell_type": "markdown",
      "source": [
        "### Oversampling using ADASYN"
      ],
      "metadata": {
        "id": "-GTWPx_v8xqm"
      }
    },
    {
      "cell_type": "code",
      "source": [
        "from imblearn.over_sampling import ADASYN\n",
        "from collections import Counter\n",
        "oversampler = ADASYN()\n",
        "X, Y = oversampler.fit_resample(x,y)\n",
        "Counter(Y)"
      ],
      "metadata": {
        "colab": {
          "base_uri": "https://localhost:8080/"
        },
        "id": "RTOQzCI62KD2",
        "outputId": "01b02431-ce43-43c9-c562-4bbf2d1ac0bb"
      },
      "execution_count": 52,
      "outputs": [
        {
          "output_type": "execute_result",
          "data": {
            "text/plain": [
              "Counter({0: 24719, 1: 24850})"
            ]
          },
          "metadata": {},
          "execution_count": 52
        }
      ]
    },
    {
      "cell_type": "markdown",
      "source": [
        "### Train and Test Sets"
      ],
      "metadata": {
        "id": "_9YyobOw82KG"
      }
    },
    {
      "cell_type": "code",
      "source": [
        "x_train_balanced, x_test_balanced, y_train_balanced, y_test_balanced = train_test_split(X, Y, random_state=42, test_size=0.2)\n",
        "print('Shape x_train: ', x_train_balanced.shape)\n",
        "print('Shape y_train: ', y_train_balanced.shape)\n",
        "print('Shape x_test: ', x_test_balanced.shape)\n",
        "print('Shape y_test: ', y_test_balanced.shape)"
      ],
      "metadata": {
        "colab": {
          "base_uri": "https://localhost:8080/"
        },
        "id": "XPZI6GXK8cfG",
        "outputId": "89d88f76-43dd-4d41-8d47-aae3dd96cfc1"
      },
      "execution_count": 53,
      "outputs": [
        {
          "output_type": "stream",
          "name": "stdout",
          "text": [
            "Shape x_train:  (39655, 15)\n",
            "Shape y_train:  (39655,)\n",
            "Shape x_test:  (9914, 15)\n",
            "Shape y_test:  (9914,)\n"
          ]
        }
      ]
    },
    {
      "cell_type": "markdown",
      "source": [
        "### Standardization"
      ],
      "metadata": {
        "id": "ajLE3DmV84kd"
      }
    },
    {
      "cell_type": "code",
      "source": [
        "scaler = StandardScaler()\n",
        "scaler.fit(x_train_balanced)\n",
        "x_train_balanced = scaler.transform(x_train_balanced)\n",
        "x_test_balanced = scaler.transform(x_test_balanced)"
      ],
      "metadata": {
        "id": "xL5qc_0n8lQs"
      },
      "execution_count": 54,
      "outputs": []
    },
    {
      "cell_type": "markdown",
      "source": [
        "### ML Techniques"
      ],
      "metadata": {
        "id": "r6GGzbFR87O1"
      }
    },
    {
      "cell_type": "markdown",
      "source": [
        "#### k-Nearest Neighbours"
      ],
      "metadata": {
        "id": "GedvUl7v9AmJ"
      }
    },
    {
      "cell_type": "code",
      "source": [
        "kNN_classifier_balanced = KNeighborsClassifier()\n",
        "kNN_classifier_balanced.fit(x_train_balanced, y_train_balanced)\n",
        "y_pred_kNN_balanced = kNN_classifier_balanced.predict(x_test_balanced)"
      ],
      "metadata": {
        "id": "P34DWlGh8sMO"
      },
      "execution_count": 55,
      "outputs": []
    },
    {
      "cell_type": "code",
      "source": [
        "y_pred_kNN_train_balanced = kNN_classifier_balanced.predict(x_train_balanced)\n",
        "print('Accuracy of the train set: ', accuracy_score(y_train_balanced, y_pred_kNN_train_balanced))\n",
        "print('Accuracy of the test set: ', accuracy_score(y_test_balanced, y_pred_kNN_balanced))"
      ],
      "metadata": {
        "colab": {
          "base_uri": "https://localhost:8080/"
        },
        "id": "IxFmEH199Iq4",
        "outputId": "2d09872e-1a1c-4c42-c9c4-73c04f1e8d54"
      },
      "execution_count": 56,
      "outputs": [
        {
          "output_type": "stream",
          "name": "stdout",
          "text": [
            "Accuracy of the train set:  0.9026352288488211\n",
            "Accuracy of the test set:  0.8518257010288481\n"
          ]
        }
      ]
    },
    {
      "cell_type": "code",
      "source": [
        "print(classification_report(y_test_balanced, y_pred_kNN_balanced))"
      ],
      "metadata": {
        "colab": {
          "base_uri": "https://localhost:8080/"
        },
        "id": "BsxMvBv09Oc5",
        "outputId": "d42e8007-b819-44ac-ce20-1fd98d6bc768"
      },
      "execution_count": 57,
      "outputs": [
        {
          "output_type": "stream",
          "name": "stdout",
          "text": [
            "              precision    recall  f1-score   support\n",
            "\n",
            "           0       0.87      0.83      0.85      4998\n",
            "           1       0.84      0.87      0.85      4916\n",
            "\n",
            "    accuracy                           0.85      9914\n",
            "   macro avg       0.85      0.85      0.85      9914\n",
            "weighted avg       0.85      0.85      0.85      9914\n",
            "\n"
          ]
        }
      ]
    },
    {
      "cell_type": "code",
      "source": [
        "ConfusionMatrixDisplay(confusion_matrix(y_test_balanced, y_pred_kNN_balanced), display_labels=['<=50K', '>50K']).plot()"
      ],
      "metadata": {
        "colab": {
          "base_uri": "https://localhost:8080/",
          "height": 296
        },
        "id": "Ux0gHR6G9Zfs",
        "outputId": "956e6bc3-70a6-466b-e085-20608e6f4bd7"
      },
      "execution_count": 58,
      "outputs": [
        {
          "output_type": "execute_result",
          "data": {
            "text/plain": [
              "<sklearn.metrics._plot.confusion_matrix.ConfusionMatrixDisplay at 0x7f7e952bcc10>"
            ]
          },
          "metadata": {},
          "execution_count": 58
        },
        {
          "output_type": "display_data",
          "data": {
            "text/plain": [
              "<Figure size 432x288 with 2 Axes>"
            ],
            "image/png": "[encoded data removed]"
          },
          "metadata": {
            "needs_background": "light"
          }
        }
      ]
    },
    {
      "cell_type": "markdown",
      "source": [
        "#### Naive Bayes"
      ],
      "metadata": {
        "id": "mQfdu4S89fJG"
      }
    },
    {
      "cell_type": "code",
      "source": [
        "NB_classifier_balanced = GaussianNB()\n",
        "NB_classifier_balanced.fit(x_train_balanced, y_train_balanced)\n",
        "y_pred_NB_balanced = NB_classifier_balanced.predict(x_test_balanced)"
      ],
      "metadata": {
        "id": "AYozZk8y9eGV"
      },
      "execution_count": 59,
      "outputs": []
    },
    {
      "cell_type": "code",
      "source": [
        "y_pred_NB_train_balanced = NB_classifier_balanced.predict(x_train_balanced)\n",
        "print('Accuracy of the train set: ', accuracy_score(y_train_balanced, y_pred_NB_train_balanced))\n",
        "print('Accuracy of the test set: ', accuracy_score(y_test_balanced, y_pred_NB_balanced))"
      ],
      "metadata": {
        "colab": {
          "base_uri": "https://localhost:8080/"
        },
        "id": "NfnqJZi29m3P",
        "outputId": "c00c14c9-0534-4633-f618-2d6a31a5df33"
      },
      "execution_count": 60,
      "outputs": [
        {
          "output_type": "stream",
          "name": "stdout",
          "text": [
            "Accuracy of the train set:  0.7583911234396671\n",
            "Accuracy of the test set:  0.7561024813395198\n"
          ]
        }
      ]
    },
    {
      "cell_type": "code",
      "source": [
        "print(classification_report(y_test_balanced, y_pred_NB_balanced))"
      ],
      "metadata": {
        "colab": {
          "base_uri": "https://localhost:8080/"
        },
        "id": "fKVZvZ319vLH",
        "outputId": "28c4b263-dcae-4ed9-e44d-df2c2645e055"
      },
      "execution_count": 61,
      "outputs": [
        {
          "output_type": "stream",
          "name": "stdout",
          "text": [
            "              precision    recall  f1-score   support\n",
            "\n",
            "           0       0.74      0.80      0.77      4998\n",
            "           1       0.78      0.71      0.74      4916\n",
            "\n",
            "    accuracy                           0.76      9914\n",
            "   macro avg       0.76      0.76      0.76      9914\n",
            "weighted avg       0.76      0.76      0.76      9914\n",
            "\n"
          ]
        }
      ]
    },
    {
      "cell_type": "code",
      "source": [
        "ConfusionMatrixDisplay(confusion_matrix(y_test_balanced, y_pred_NB_balanced), display_labels=['<=50K', '>50K']).plot()"
      ],
      "metadata": {
        "colab": {
          "base_uri": "https://localhost:8080/",
          "height": 296
        },
        "id": "hxmTxq32-d6Q",
        "outputId": "309d4b10-c3b2-45e7-a318-2a633da389c5"
      },
      "execution_count": 62,
      "outputs": [
        {
          "output_type": "execute_result",
          "data": {
            "text/plain": [
              "<sklearn.metrics._plot.confusion_matrix.ConfusionMatrixDisplay at 0x7f7e9576a1d0>"
            ]
          },
          "metadata": {},
          "execution_count": 62
        },
        {
          "output_type": "display_data",
          "data": {
            "text/plain": [
              "<Figure size 432x288 with 2 Axes>"
            ],
            "image/png": "[encoded data removed]"
          },
          "metadata": {
            "needs_background": "light"
          }
        }
      ]
    },
    {
      "cell_type": "markdown",
      "source": [
        "#### Support Vector Machine"
      ],
      "metadata": {
        "id": "JHx2jXSh-qf3"
      }
    },
    {
      "cell_type": "code",
      "source": [
        "SVM_classifier_balanced = SVC()\n",
        "SVM_classifier_balanced.fit(x_train_balanced, y_train_balanced)\n",
        "y_pred_SVM_balanced = SVM_classifier_balanced.predict(x_test_balanced)"
      ],
      "metadata": {
        "id": "44xLaZ-6-n2P"
      },
      "execution_count": 63,
      "outputs": []
    },
    {
      "cell_type": "code",
      "source": [
        "y_pred_SVM_train_balanced = SVM_classifier_balanced.predict(x_train_balanced)\n",
        "print('Accuracy of the train set: ', accuracy_score(y_train_balanced, y_pred_SVM_train_balanced))\n",
        "print('Accuracy of the test set: ', accuracy_score(y_test_balanced, y_pred_SVM_balanced))"
      ],
      "metadata": {
        "colab": {
          "base_uri": "https://localhost:8080/"
        },
        "id": "NxCSyu56_L4-",
        "outputId": "264543e4-7b64-4f5a-b296-4adfb447b8aa"
      },
      "execution_count": 64,
      "outputs": [
        {
          "output_type": "stream",
          "name": "stdout",
          "text": [
            "Accuracy of the train set:  0.8686168200731308\n",
            "Accuracy of the test set:  0.8619124470445834\n"
          ]
        }
      ]
    },
    {
      "cell_type": "code",
      "source": [
        "print(classification_report(y_test_balanced, y_pred_SVM_balanced))"
      ],
      "metadata": {
        "colab": {
          "base_uri": "https://localhost:8080/"
        },
        "id": "tQTZu2DL_XX3",
        "outputId": "e3a03cd5-51e6-47fa-8168-dbc2aa106c90"
      },
      "execution_count": 65,
      "outputs": [
        {
          "output_type": "stream",
          "name": "stdout",
          "text": [
            "              precision    recall  f1-score   support\n",
            "\n",
            "           0       0.90      0.81      0.86      4998\n",
            "           1       0.83      0.91      0.87      4916\n",
            "\n",
            "    accuracy                           0.86      9914\n",
            "   macro avg       0.87      0.86      0.86      9914\n",
            "weighted avg       0.87      0.86      0.86      9914\n",
            "\n"
          ]
        }
      ]
    },
    {
      "cell_type": "code",
      "source": [
        "ConfusionMatrixDisplay.from_predictions(y_test_balanced, y_pred_SVM_balanced)"
      ],
      "metadata": {
        "colab": {
          "base_uri": "https://localhost:8080/",
          "height": 296
        },
        "id": "6Ky6wrKIAD_o",
        "outputId": "ad034077-942f-4c67-cc47-966bcf91089b"
      },
      "execution_count": 66,
      "outputs": [
        {
          "output_type": "execute_result",
          "data": {
            "text/plain": [
              "<sklearn.metrics._plot.confusion_matrix.ConfusionMatrixDisplay at 0x7f7e95247e90>"
            ]
          },
          "metadata": {},
          "execution_count": 66
        },
        {
          "output_type": "display_data",
          "data": {
            "text/plain": [
              "<Figure size 432x288 with 2 Axes>"
            ],
            "image/png": "[encoded data removed]"
          },
          "metadata": {
            "needs_background": "light"
          }
        }
      ]
    },
    {
      "cell_type": "markdown",
      "source": [
        "#### Logistic Regression"
      ],
      "metadata": {
        "id": "TGRRuYZeAMFF"
      }
    },
    {
      "cell_type": "code",
      "source": [
        "LR_classifier_balanced = LogisticRegression()\n",
        "LR_classifier_balanced.fit(x_train_balanced, y_train_balanced)\n",
        "y_pred_LR_balanced = LR_classifier_balanced.predict(x_test_balanced)"
      ],
      "metadata": {
        "id": "O9phEeypAQTm"
      },
      "execution_count": 67,
      "outputs": []
    },
    {
      "cell_type": "code",
      "source": [
        "y_pred_LR_train_balanced = LR_classifier_balanced.predict(x_train_balanced)\n",
        "print('Accuracy of the train set: ', accuracy_score(y_train_balanced, y_pred_LR_train_balanced))\n",
        "print('Accuracy of the test set: ', accuracy_score(y_test_balanced, y_pred_LR_balanced))"
      ],
      "metadata": {
        "colab": {
          "base_uri": "https://localhost:8080/"
        },
        "id": "ztfvLtgSAtff",
        "outputId": "2bb58e41-ba0f-4e64-9b52-0df5068559f5"
      },
      "execution_count": 68,
      "outputs": [
        {
          "output_type": "stream",
          "name": "stdout",
          "text": [
            "Accuracy of the train set:  0.8221409658302862\n",
            "Accuracy of the test set:  0.8180351018761347\n"
          ]
        }
      ]
    },
    {
      "cell_type": "code",
      "source": [
        "print(classification_report(y_test_balanced, y_pred_LR_balanced))"
      ],
      "metadata": {
        "colab": {
          "base_uri": "https://localhost:8080/"
        },
        "id": "LeT6lJ8ZAtUJ",
        "outputId": "902def45-2333-4f9a-9e29-b8d68dcd7522"
      },
      "execution_count": 69,
      "outputs": [
        {
          "output_type": "stream",
          "name": "stdout",
          "text": [
            "              precision    recall  f1-score   support\n",
            "\n",
            "           0       0.87      0.75      0.81      4998\n",
            "           1       0.78      0.89      0.83      4916\n",
            "\n",
            "    accuracy                           0.82      9914\n",
            "   macro avg       0.82      0.82      0.82      9914\n",
            "weighted avg       0.82      0.82      0.82      9914\n",
            "\n"
          ]
        }
      ]
    },
    {
      "cell_type": "code",
      "source": [
        "ConfusionMatrixDisplay.from_predictions(y_test_balanced, y_pred_LR_balanced)"
      ],
      "metadata": {
        "colab": {
          "base_uri": "https://localhost:8080/",
          "height": 296
        },
        "id": "6HXUYWinBhMI",
        "outputId": "c9f17ec6-f9cb-4fe9-ad15-c5ec6bd4427a"
      },
      "execution_count": 70,
      "outputs": [
        {
          "output_type": "execute_result",
          "data": {
            "text/plain": [
              "<sklearn.metrics._plot.confusion_matrix.ConfusionMatrixDisplay at 0x7f7ea94c3a10>"
            ]
          },
          "metadata": {},
          "execution_count": 70
        },
        {
          "output_type": "display_data",
          "data": {
            "text/plain": [
              "<Figure size 432x288 with 2 Axes>"
            ],
            "image/png": "[encoded data removed]"
          },
          "metadata": {
            "needs_background": "light"
          }
        }
      ]
    },
    {
      "cell_type": "markdown",
      "source": [
        "#### Decision Tree"
      ],
      "metadata": {
        "id": "k5EsUhMGCd_4"
      }
    },
    {
      "cell_type": "code",
      "source": [
        "DT_classifier_balanced = DecisionTreeClassifier()\n",
        "DT_classifier_balanced.fit(x_train_balanced, y_train_balanced)\n",
        "y_pred_DT_balanced = DT_classifier_balanced.predict(x_test_balanced)\n",
        "DT_classifier_balanced.get_params()"
      ],
      "metadata": {
        "colab": {
          "base_uri": "https://localhost:8080/"
        },
        "id": "AuO4VNCBBhIq",
        "outputId": "771cae2a-f534-412e-e147-0961987caf5d"
      },
      "execution_count": 71,
      "outputs": [
        {
          "output_type": "execute_result",
          "data": {
            "text/plain": [
              "{'ccp_alpha': 0.0,\n",
              " 'class_weight': None,\n",
              " 'criterion': 'gini',\n",
              " 'max_depth': None,\n",
              " 'max_features': None,\n",
              " 'max_leaf_nodes': None,\n",
              " 'min_impurity_decrease': 0.0,\n",
              " 'min_samples_leaf': 1,\n",
              " 'min_samples_split': 2,\n",
              " 'min_weight_fraction_leaf': 0.0,\n",
              " 'random_state': None,\n",
              " 'splitter': 'best'}"
            ]
          },
          "metadata": {},
          "execution_count": 71
        }
      ]
    },
    {
      "cell_type": "code",
      "source": [
        "y_pred_DT_train_balanced = DT_classifier_balanced.predict(x_train_balanced)\n",
        "print('Accuracy of the train set: ', accuracy_score(y_train_balanced, y_pred_DT_train_balanced))\n",
        "print('Accuracy of the test set: ', accuracy_score(y_test_balanced, y_pred_DT_balanced))"
      ],
      "metadata": {
        "colab": {
          "base_uri": "https://localhost:8080/"
        },
        "id": "bN6bf1voClic",
        "outputId": "2e97fcb9-45d7-4b0f-8e1a-918a7621e12a"
      },
      "execution_count": 72,
      "outputs": [
        {
          "output_type": "stream",
          "name": "stdout",
          "text": [
            "Accuracy of the train set:  1.0\n",
            "Accuracy of the test set:  0.8593907605406496\n"
          ]
        }
      ]
    },
    {
      "cell_type": "markdown",
      "source": [
        "This is probably overfitting: we perform pre-pruning by oversampling."
      ],
      "metadata": {
        "id": "hrtkcRhHDECg"
      }
    },
    {
      "cell_type": "markdown",
      "source": [
        "##### Pre-pruning Technique for Decision Tree"
      ],
      "metadata": {
        "id": "_BogQefvC_Os"
      }
    },
    {
      "cell_type": "code",
      "source": [
        "parameters_grid = {\n",
        "   \"max_depth\": [3, 5, 10, 15, 20, 25, 30],\n",
        "    \"min_samples_split\": [2, 5, 7, 10, 12, 15],\n",
        "    \"min_samples_leaf\": [1, 2, 5, 7] \n",
        "}\n",
        "\n",
        "grid_cv = GridSearchCV(DT_classifier_balanced, parameters_grid, scoring=\"roc_auc\", n_jobs=-1, cv=3).fit(x_train_balanced,\n",
        "                                                                                                        y_train_balanced)"
      ],
      "metadata": {
        "id": "E7k-QjdJCr7Z"
      },
      "execution_count": 73,
      "outputs": []
    },
    {
      "cell_type": "code",
      "source": [
        "print(\"Parameters for Grid Search: \", grid_cv.best_params_)\n",
        "print(\"CV score for Grid Search: \", grid_cv.best_score_)\n",
        "print(\"Train AUC-ROC Score for GS: \", roc_auc_score(y_train_balanced, grid_cv.predict(x_train_balanced)))\n",
        "print(\"Test AUC-ROC Score for GS: \", roc_auc_score(y_test_balanced, grid_cv.predict(x_test_balanced)))"
      ],
      "metadata": {
        "colab": {
          "base_uri": "https://localhost:8080/"
        },
        "id": "dOtdb6teC6bP",
        "outputId": "761f95ed-9e4b-4084-f9a1-b44818effbec"
      },
      "execution_count": 74,
      "outputs": [
        {
          "output_type": "stream",
          "name": "stdout",
          "text": [
            "Parameters for Grid Search:  {'max_depth': 10, 'min_samples_leaf': 2, 'min_samples_split': 15}\n",
            "CV score for Grid Search:  0.9399462068698914\n",
            "Train AUC-ROC Score for GS:  0.874005189693302\n",
            "Test AUC-ROC Score for GS:  0.8652534650963722\n"
          ]
        }
      ]
    },
    {
      "cell_type": "markdown",
      "source": [
        "We use the values that have been suggested as optimal by the GridSearchCV:"
      ],
      "metadata": {
        "id": "6F49lw7EIuLa"
      }
    },
    {
      "cell_type": "code",
      "source": [
        "DT_classifier_balanced_pruned = DecisionTreeClassifier(max_depth = 10, min_samples_leaf = 2, min_samples_split = 15)\n",
        "DT_classifier_balanced_pruned.fit(x_train_balanced, y_train_balanced)\n",
        "y_pred_DT_balanced_pruned = DT_classifier_balanced_pruned.predict(x_test_balanced)"
      ],
      "metadata": {
        "id": "55dyE2ElDLnG"
      },
      "execution_count": 75,
      "outputs": []
    },
    {
      "cell_type": "code",
      "source": [
        "y_pred_DT_balanced_pruned_train = DT_classifier_balanced_pruned.predict(x_train_balanced)\n",
        "print('Accuracy of the train set: ', accuracy_score(y_train_balanced, y_pred_DT_balanced_pruned_train))\n",
        "print('Accuracy of the test set: ', accuracy_score(y_test_balanced, y_pred_DT_balanced_pruned))"
      ],
      "metadata": {
        "colab": {
          "base_uri": "https://localhost:8080/"
        },
        "id": "Npagz9ZfDZK8",
        "outputId": "e1ec573a-25f5-4be0-f125-08c6a2cb2e0a"
      },
      "execution_count": 76,
      "outputs": [
        {
          "output_type": "stream",
          "name": "stdout",
          "text": [
            "Accuracy of the train set:  0.8738872777707729\n",
            "Accuracy of the test set:  0.8654428081500908\n"
          ]
        }
      ]
    },
    {
      "cell_type": "markdown",
      "source": [
        "The problem of oversampling has been solved. We can now check the performance of the model:"
      ],
      "metadata": {
        "id": "hMI60adwI7zT"
      }
    },
    {
      "cell_type": "code",
      "source": [
        "print(classification_report(y_test_balanced, y_pred_DT_balanced_pruned))"
      ],
      "metadata": {
        "colab": {
          "base_uri": "https://localhost:8080/"
        },
        "id": "wXpbT8e2Djv-",
        "outputId": "6969de98-9020-4876-911e-a4a281992e81"
      },
      "execution_count": 77,
      "outputs": [
        {
          "output_type": "stream",
          "name": "stdout",
          "text": [
            "              precision    recall  f1-score   support\n",
            "\n",
            "           0       0.86      0.88      0.87      4998\n",
            "           1       0.87      0.85      0.86      4916\n",
            "\n",
            "    accuracy                           0.87      9914\n",
            "   macro avg       0.87      0.87      0.87      9914\n",
            "weighted avg       0.87      0.87      0.87      9914\n",
            "\n"
          ]
        }
      ]
    },
    {
      "cell_type": "code",
      "source": [
        "ConfusionMatrixDisplay.from_predictions(y_test_balanced, y_pred_DT_balanced_pruned)"
      ],
      "metadata": {
        "colab": {
          "base_uri": "https://localhost:8080/",
          "height": 296
        },
        "id": "b9bu5tanDsn9",
        "outputId": "0abd10da-1259-4bf4-cf54-dd85babf54eb"
      },
      "execution_count": 78,
      "outputs": [
        {
          "output_type": "execute_result",
          "data": {
            "text/plain": [
              "<sklearn.metrics._plot.confusion_matrix.ConfusionMatrixDisplay at 0x7f7e96408650>"
            ]
          },
          "metadata": {},
          "execution_count": 78
        },
        {
          "output_type": "display_data",
          "data": {
            "text/plain": [
              "<Figure size 432x288 with 2 Axes>"
            ],
            "image/png": "[encoded data removed]"
          },
          "metadata": {
            "needs_background": "light"
          }
        }
      ]
    },
    {
      "cell_type": "markdown",
      "source": [
        "#### Random Forests"
      ],
      "metadata": {
        "id": "Omz41yUYEHhS"
      }
    },
    {
      "cell_type": "code",
      "source": [
        "RF_classifier_balanced = RandomForestClassifier(random_state=42)\n",
        "RF_classifier_balanced.fit(x_train_balanced, y_train_balanced)\n",
        "y_pred_RF_balanced = RF_classifier_balanced.predict(x_test_balanced)\n",
        "RF_classifier_balanced.get_params()"
      ],
      "metadata": {
        "colab": {
          "base_uri": "https://localhost:8080/"
        },
        "id": "ok3tY6P1Dxjb",
        "outputId": "1d1f9fe1-06dc-4f0a-c1fd-d0a4546a817a"
      },
      "execution_count": 79,
      "outputs": [
        {
          "output_type": "execute_result",
          "data": {
            "text/plain": [
              "{'bootstrap': True,\n",
              " 'ccp_alpha': 0.0,\n",
              " 'class_weight': None,\n",
              " 'criterion': 'gini',\n",
              " 'max_depth': None,\n",
              " 'max_features': 'auto',\n",
              " 'max_leaf_nodes': None,\n",
              " 'max_samples': None,\n",
              " 'min_impurity_decrease': 0.0,\n",
              " 'min_samples_leaf': 1,\n",
              " 'min_samples_split': 2,\n",
              " 'min_weight_fraction_leaf': 0.0,\n",
              " 'n_estimators': 100,\n",
              " 'n_jobs': None,\n",
              " 'oob_score': False,\n",
              " 'random_state': 42,\n",
              " 'verbose': 0,\n",
              " 'warm_start': False}"
            ]
          },
          "metadata": {},
          "execution_count": 79
        }
      ]
    },
    {
      "cell_type": "code",
      "source": [
        "y_pred_RF_train_balanced = RF_classifier_balanced.predict(x_train_balanced)\n",
        "print('Accuracy of the train set: ', accuracy_score(y_train_balanced, y_pred_RF_train_balanced))\n",
        "print('Accuracy of the test set: ', accuracy_score(y_test_balanced, y_pred_RF_balanced))"
      ],
      "metadata": {
        "colab": {
          "base_uri": "https://localhost:8080/"
        },
        "id": "y3KDd2RzER7R",
        "outputId": "d202dd32-0c45-4499-d64d-74bbfe10de33"
      },
      "execution_count": 80,
      "outputs": [
        {
          "output_type": "stream",
          "name": "stdout",
          "text": [
            "Accuracy of the train set:  0.9999747824990544\n",
            "Accuracy of the test set:  0.8935848295339923\n"
          ]
        }
      ]
    },
    {
      "cell_type": "markdown",
      "source": [
        "Overfitting exists here; we perform Pre-pruning."
      ],
      "metadata": {
        "id": "IT7FbsukJFoO"
      }
    },
    {
      "cell_type": "markdown",
      "source": [
        "##### Pre-pruning Technique for Random Forest"
      ],
      "metadata": {
        "id": "wYNLPRAJErG8"
      }
    },
    {
      "cell_type": "code",
      "source": [
        "parameters_grid = {\n",
        "    \"max_depth\": [10, 15, 20],\n",
        "    \"n_estimators\": [400, 500]\n",
        "}\n",
        "\n",
        "grid_cv = GridSearchCV(RF_classifier_balanced, parameters_grid, scoring=\"roc_auc\", n_jobs=-1, cv=3).fit(x_train_balanced,\n",
        "                                                                                                        y_train_balanced)"
      ],
      "metadata": {
        "id": "q0jOvQD1Ef6R"
      },
      "execution_count": 81,
      "outputs": []
    },
    {
      "cell_type": "code",
      "source": [
        "print(\"Parameters for Grid Search: \", grid_cv.best_params_)\n",
        "print(\"CV score for Grid Search: \", grid_cv.best_score_)\n",
        "print(\"Train AUC-ROC Score for GS: \", roc_auc_score(y_train_balanced, grid_cv.predict(x_train_balanced)))\n",
        "print(\"Test AUC-ROC Score for GS: \", roc_auc_score(y_test_balanced, grid_cv.predict(x_test_balanced)))"
      ],
      "metadata": {
        "colab": {
          "base_uri": "https://localhost:8080/"
        },
        "id": "4tA1e07iFFiN",
        "outputId": "579fed8f-e3b4-4480-a102-adb6e22be824"
      },
      "execution_count": 82,
      "outputs": [
        {
          "output_type": "stream",
          "name": "stdout",
          "text": [
            "Parameters for Grid Search:  {'max_depth': 20, 'n_estimators': 500}\n",
            "CV score for Grid Search:  0.9615148528763844\n",
            "Train AUC-ROC Score for GS:  0.9542238385200648\n",
            "Test AUC-ROC Score for GS:  0.8912908939002777\n"
          ]
        }
      ]
    },
    {
      "cell_type": "markdown",
      "source": [
        "Using the values that were derived from GridSearchCV:"
      ],
      "metadata": {
        "id": "djSQ6ubyJNKJ"
      }
    },
    {
      "cell_type": "code",
      "source": [
        "RF_classifier_pruned_balanced = RandomForestClassifier(n_estimators=500, max_depth=20)\n",
        "RF_classifier_pruned_balanced.fit(x_train_balanced, y_train_balanced)\n",
        "y_pred_RF_pruned_balanced = RF_classifier_pruned_balanced.predict(x_test_balanced)"
      ],
      "metadata": {
        "id": "MQvldKKeFb_9"
      },
      "execution_count": 84,
      "outputs": []
    },
    {
      "cell_type": "code",
      "source": [
        "y_pred_RF_pruned_train_balanced = RF_classifier_pruned_balanced.predict(x_train_balanced)\n",
        "print('Accuracy of the train set: ', accuracy_score(y_train_balanced, y_pred_RF_pruned_train_balanced))\n",
        "print('Accuracy of the test set: ', accuracy_score(y_test_balanced, y_pred_RF_pruned_balanced))"
      ],
      "metadata": {
        "colab": {
          "base_uri": "https://localhost:8080/"
        },
        "id": "l26bqk4nFb7A",
        "outputId": "8698c4dd-d4b6-4a70-cb68-a4374e78361b"
      },
      "execution_count": 85,
      "outputs": [
        {
          "output_type": "stream",
          "name": "stdout",
          "text": [
            "Accuracy of the train set:  0.9540537132770143\n",
            "Accuracy of the test set:  0.8892475287472261\n"
          ]
        }
      ]
    },
    {
      "cell_type": "markdown",
      "source": [
        "There still may exist some small level of overfitting. However, we can let this be our optimal model (we could however further tune the hyperparameters and generate a better model) and evaluate its performance:"
      ],
      "metadata": {
        "id": "-6nYPVbRJVQ5"
      }
    },
    {
      "cell_type": "code",
      "source": [
        "print(classification_report(y_test_balanced, y_pred_RF_pruned_balanced))"
      ],
      "metadata": {
        "colab": {
          "base_uri": "https://localhost:8080/"
        },
        "id": "RwF4Hw5pFQMS",
        "outputId": "ce158242-5169-4fc1-ae60-47826672d057"
      },
      "execution_count": 86,
      "outputs": [
        {
          "output_type": "stream",
          "name": "stdout",
          "text": [
            "              precision    recall  f1-score   support\n",
            "\n",
            "           0       0.90      0.87      0.89      4998\n",
            "           1       0.88      0.90      0.89      4916\n",
            "\n",
            "    accuracy                           0.89      9914\n",
            "   macro avg       0.89      0.89      0.89      9914\n",
            "weighted avg       0.89      0.89      0.89      9914\n",
            "\n"
          ]
        }
      ]
    },
    {
      "cell_type": "code",
      "source": [
        "ConfusionMatrixDisplay.from_predictions(y_test_balanced, y_pred_RF_pruned_balanced)"
      ],
      "metadata": {
        "colab": {
          "base_uri": "https://localhost:8080/",
          "height": 296
        },
        "id": "66IkXMqvFQGV",
        "outputId": "860417d5-f43f-4b25-cd9b-552ec3dd552e"
      },
      "execution_count": 87,
      "outputs": [
        {
          "output_type": "execute_result",
          "data": {
            "text/plain": [
              "<sklearn.metrics._plot.confusion_matrix.ConfusionMatrixDisplay at 0x7f7e94f31c10>"
            ]
          },
          "metadata": {},
          "execution_count": 87
        },
        {
          "output_type": "display_data",
          "data": {
            "text/plain": [
              "<Figure size 432x288 with 2 Axes>"
            ],
            "image/png": "[encoded data removed]"
          },
          "metadata": {
            "needs_background": "light"
          }
        }
      ]
    },
    {
      "cell_type": "markdown",
      "source": [
        "#### Stacking Classifier"
      ],
      "metadata": {
        "id": "1jOu-p4X9VHb"
      }
    },
    {
      "cell_type": "markdown",
      "source": [
        "We can use the parameters from Decision Tree and Random Forests in the Stacking Classifier:"
      ],
      "metadata": {
        "id": "F4UdZVJcJodq"
      }
    },
    {
      "cell_type": "code",
      "source": [
        "base_est_gb = GradientBoostingClassifier(n_estimators=400, random_state=42)\n",
        "base_est_rf = RandomForestClassifier(n_estimators=400, max_depth = 20, random_state=42)\n",
        "base_est_dt = DecisionTreeClassifier(random_state=42, max_depth = 10, min_samples_leaf = 2, min_samples_split = 15)\n",
        "estimators = [('RF', base_est_rf), ('GB', base_est_gb), ('DT', base_est_dt)]\n",
        "StackClassifier = StackingClassifier(estimators=estimators, final_estimator= SVC(), cv=5)\n",
        "StackClassifier.get_params()"
      ],
      "metadata": {
        "colab": {
          "base_uri": "https://localhost:8080/"
        },
        "id": "bwLrKR9L9Uq-",
        "outputId": "13ac747d-f8c6-4ff9-f09a-ec0b3b6ff1d1"
      },
      "execution_count": 88,
      "outputs": [
        {
          "output_type": "execute_result",
          "data": {
            "text/plain": [
              "{'cv': 5,\n",
              " 'estimators': [('RF',\n",
              "   RandomForestClassifier(max_depth=20, n_estimators=400, random_state=42)),\n",
              "  ('GB', GradientBoostingClassifier(n_estimators=400, random_state=42)),\n",
              "  ('DT',\n",
              "   DecisionTreeClassifier(max_depth=10, min_samples_leaf=2, min_samples_split=15,\n",
              "                          random_state=42))],\n",
              " 'final_estimator__C': 1.0,\n",
              " 'final_estimator__break_ties': False,\n",
              " 'final_estimator__cache_size': 200,\n",
              " 'final_estimator__class_weight': None,\n",
              " 'final_estimator__coef0': 0.0,\n",
              " 'final_estimator__decision_function_shape': 'ovr',\n",
              " 'final_estimator__degree': 3,\n",
              " 'final_estimator__gamma': 'scale',\n",
              " 'final_estimator__kernel': 'rbf',\n",
              " 'final_estimator__max_iter': -1,\n",
              " 'final_estimator__probability': False,\n",
              " 'final_estimator__random_state': None,\n",
              " 'final_estimator__shrinking': True,\n",
              " 'final_estimator__tol': 0.001,\n",
              " 'final_estimator__verbose': False,\n",
              " 'final_estimator': SVC(),\n",
              " 'n_jobs': None,\n",
              " 'passthrough': False,\n",
              " 'stack_method': 'auto',\n",
              " 'verbose': 0,\n",
              " 'RF': RandomForestClassifier(max_depth=20, n_estimators=400, random_state=42),\n",
              " 'GB': GradientBoostingClassifier(n_estimators=400, random_state=42),\n",
              " 'DT': DecisionTreeClassifier(max_depth=10, min_samples_leaf=2, min_samples_split=15,\n",
              "                        random_state=42),\n",
              " 'RF__bootstrap': True,\n",
              " 'RF__ccp_alpha': 0.0,\n",
              " 'RF__class_weight': None,\n",
              " 'RF__criterion': 'gini',\n",
              " 'RF__max_depth': 20,\n",
              " 'RF__max_features': 'auto',\n",
              " 'RF__max_leaf_nodes': None,\n",
              " 'RF__max_samples': None,\n",
              " 'RF__min_impurity_decrease': 0.0,\n",
              " 'RF__min_samples_leaf': 1,\n",
              " 'RF__min_samples_split': 2,\n",
              " 'RF__min_weight_fraction_leaf': 0.0,\n",
              " 'RF__n_estimators': 400,\n",
              " 'RF__n_jobs': None,\n",
              " 'RF__oob_score': False,\n",
              " 'RF__random_state': 42,\n",
              " 'RF__verbose': 0,\n",
              " 'RF__warm_start': False,\n",
              " 'GB__ccp_alpha': 0.0,\n",
              " 'GB__criterion': 'friedman_mse',\n",
              " 'GB__init': None,\n",
              " 'GB__learning_rate': 0.1,\n",
              " 'GB__loss': 'deviance',\n",
              " 'GB__max_depth': 3,\n",
              " 'GB__max_features': None,\n",
              " 'GB__max_leaf_nodes': None,\n",
              " 'GB__min_impurity_decrease': 0.0,\n",
              " 'GB__min_samples_leaf': 1,\n",
              " 'GB__min_samples_split': 2,\n",
              " 'GB__min_weight_fraction_leaf': 0.0,\n",
              " 'GB__n_estimators': 400,\n",
              " 'GB__n_iter_no_change': None,\n",
              " 'GB__random_state': 42,\n",
              " 'GB__subsample': 1.0,\n",
              " 'GB__tol': 0.0001,\n",
              " 'GB__validation_fraction': 0.1,\n",
              " 'GB__verbose': 0,\n",
              " 'GB__warm_start': False,\n",
              " 'DT__ccp_alpha': 0.0,\n",
              " 'DT__class_weight': None,\n",
              " 'DT__criterion': 'gini',\n",
              " 'DT__max_depth': 10,\n",
              " 'DT__max_features': None,\n",
              " 'DT__max_leaf_nodes': None,\n",
              " 'DT__min_impurity_decrease': 0.0,\n",
              " 'DT__min_samples_leaf': 2,\n",
              " 'DT__min_samples_split': 15,\n",
              " 'DT__min_weight_fraction_leaf': 0.0,\n",
              " 'DT__random_state': 42,\n",
              " 'DT__splitter': 'best'}"
            ]
          },
          "metadata": {},
          "execution_count": 88
        }
      ]
    },
    {
      "cell_type": "code",
      "source": [
        "StackClassifier.fit(x_train_balanced, y_train_balanced)"
      ],
      "metadata": {
        "colab": {
          "base_uri": "https://localhost:8080/"
        },
        "id": "nTFGLXMH_quI",
        "outputId": "43d1c17a-ae3e-44a2-fafe-73b975328802"
      },
      "execution_count": 89,
      "outputs": [
        {
          "output_type": "execute_result",
          "data": {
            "text/plain": [
              "StackingClassifier(cv=5,\n",
              "                   estimators=[('RF',\n",
              "                                RandomForestClassifier(max_depth=20,\n",
              "                                                       n_estimators=400,\n",
              "                                                       random_state=42)),\n",
              "                               ('GB',\n",
              "                                GradientBoostingClassifier(n_estimators=400,\n",
              "                                                           random_state=42)),\n",
              "                               ('DT',\n",
              "                                DecisionTreeClassifier(max_depth=10,\n",
              "                                                       min_samples_leaf=2,\n",
              "                                                       min_samples_split=15,\n",
              "                                                       random_state=42))],\n",
              "                   final_estimator=SVC())"
            ]
          },
          "metadata": {},
          "execution_count": 89
        }
      ]
    },
    {
      "cell_type": "code",
      "source": [
        "y_pred_Stack_balanced = StackClassifier.predict(x_test_balanced)"
      ],
      "metadata": {
        "id": "_K-IEe4o_qpn"
      },
      "execution_count": 90,
      "outputs": []
    },
    {
      "cell_type": "code",
      "source": [
        "y_pred_Stack_train_balanced = StackClassifier.predict(x_train_balanced)\n",
        "print('Accuracy of the train set: ', accuracy_score(y_train_balanced, y_pred_Stack_train_balanced))\n",
        "print('Accuracy of the test set: ', accuracy_score(y_test_balanced, y_pred_Stack_balanced))"
      ],
      "metadata": {
        "colab": {
          "base_uri": "https://localhost:8080/"
        },
        "id": "2-9TjMp6_qnH",
        "outputId": "02ab3db8-08fa-40d0-f2b2-c0b8b06a8ffd"
      },
      "execution_count": 91,
      "outputs": [
        {
          "output_type": "stream",
          "name": "stdout",
          "text": [
            "Accuracy of the train set:  0.9273988147774556\n",
            "Accuracy of the test set:  0.898325600161388\n"
          ]
        }
      ]
    },
    {
      "cell_type": "code",
      "source": [
        "print(classification_report(y_test_balanced, y_pred_Stack_balanced))"
      ],
      "metadata": {
        "colab": {
          "base_uri": "https://localhost:8080/"
        },
        "id": "MhdGSfMZBlqy",
        "outputId": "e1d90469-11c6-4ded-cc59-40e6f8431694"
      },
      "execution_count": 92,
      "outputs": [
        {
          "output_type": "stream",
          "name": "stdout",
          "text": [
            "              precision    recall  f1-score   support\n",
            "\n",
            "           0       0.89      0.90      0.90      4998\n",
            "           1       0.90      0.89      0.90      4916\n",
            "\n",
            "    accuracy                           0.90      9914\n",
            "   macro avg       0.90      0.90      0.90      9914\n",
            "weighted avg       0.90      0.90      0.90      9914\n",
            "\n"
          ]
        }
      ]
    },
    {
      "cell_type": "code",
      "source": [
        "ConfusionMatrixDisplay.from_predictions(y_test_balanced, y_pred_Stack_balanced)"
      ],
      "metadata": {
        "colab": {
          "base_uri": "https://localhost:8080/",
          "height": 299
        },
        "id": "eX36mYhqBlPI",
        "outputId": "5af16502-f1df-4d76-d2ee-edbabaa85bb1"
      },
      "execution_count": 93,
      "outputs": [
        {
          "output_type": "execute_result",
          "data": {
            "text/plain": [
              "<sklearn.metrics._plot.confusion_matrix.ConfusionMatrixDisplay at 0x7f7e95205090>"
            ]
          },
          "metadata": {},
          "execution_count": 93
        },
        {
          "output_type": "display_data",
          "data": {
            "text/plain": [
              "<Figure size 432x288 with 2 Axes>"
            ],
            "image/png": "[encoded data removed]"
          },
          "metadata": {
            "needs_background": "light"
          }
        }
      ]
    },
    {
      "cell_type": "markdown",
      "source": [
        "## ROC Curve"
      ],
      "metadata": {
        "id": "aaaZLu2BH7g5"
      }
    },
    {
      "cell_type": "code",
      "source": [
        "plt.plot([0,1], [0,1], ':')\n",
        "fpr1, tpr1, thresholds = roc_curve(y_test_balanced, y_pred_kNN_balanced)\n",
        "plt.plot(fpr1, tpr1, '--', label='kNN')\n",
        "fpr2, tpr2, thresholds = roc_curve(y_test_balanced, y_pred_NB_balanced)\n",
        "plt.plot(fpr2, tpr2, '--', label='Naive Bayes')\n",
        "fpr3, tpr3, thresholds = roc_curve(y_test_balanced, y_pred_SVM_balanced)\n",
        "plt.plot(fpr3, tpr3, '--', label='SVM')\n",
        "fpr4, tpr4, thresholds = roc_curve(y_test_balanced, y_pred_LR_balanced)\n",
        "plt.plot(fpr4, tpr4, '--', label='Logistic Regression')\n",
        "fpr5, tpr5, thresholds = roc_curve(y_test_balanced, y_pred_DT_balanced_pruned)\n",
        "plt.plot(fpr5, tpr5, '--', label='Decision Tree (Pruned)')\n",
        "fpr6, tpr6, thresholds = roc_curve(y_test_balanced, y_pred_RF_pruned_balanced)\n",
        "plt.plot(fpr6, tpr6, '--', label='Random Forest (Pruned)')\n",
        "fpr7, tpr7, thresholds = roc_curve(y_test_balanced, y_pred_Stack_balanced)\n",
        "plt.plot(fpr7, tpr7, '--', label='Stacking Classifier')\n",
        "plt.xlabel('False Positive Rate')\n",
        "plt.ylabel('True Positive Rate')\n",
        "plt.legend()\n",
        "plt.show()"
      ],
      "metadata": {
        "colab": {
          "base_uri": "https://localhost:8080/",
          "height": 279
        },
        "id": "RkyRjPyZFQDZ",
        "outputId": "6ad633f4-fb78-4124-b8db-105ce55d355f"
      },
      "execution_count": 94,
      "outputs": [
        {
          "output_type": "display_data",
          "data": {
            "text/plain": [
              "<Figure size 432x288 with 1 Axes>"
            ],
            "image/png": "[encoded data removed]"
          },
          "metadata": {
            "needs_background": "light"
          }
        }
      ]
    },
    {
      "cell_type": "markdown",
      "source": [
        "The ROC Curve looks much better now, after balancing the dataset, as opposed to before."
      ],
      "metadata": {
        "id": "MAwb0LFfJ1wW"
      }
    },
    {
      "cell_type": "markdown",
      "source": [
        "# The Overall ROC Curve"
      ],
      "metadata": {
        "id": "1ioY4nA4Ij4S"
      }
    },
    {
      "cell_type": "code",
      "source": [
        "plt.plot([0,1], [0,1], ':')\n",
        "fpr1, tpr1, thresholds = roc_curve(y_test_balanced, y_pred_kNN_balanced)\n",
        "plt.plot(fpr1, tpr1, '-', label='kNN (Balanced)')\n",
        "fpr2, tpr2, thresholds = roc_curve(y_test_balanced, y_pred_NB_balanced)\n",
        "plt.plot(fpr2, tpr2, '-', label='Naive Bayes (Balanced)')\n",
        "fpr3, tpr3, thresholds = roc_curve(y_test_balanced, y_pred_SVM_balanced)\n",
        "plt.plot(fpr3, tpr3, '-', label='SVM (Balanced)')\n",
        "fpr4, tpr4, thresholds = roc_curve(y_test_balanced, y_pred_LR_balanced)\n",
        "plt.plot(fpr4, tpr4, '-', label='Logistic Regression (Balanced)')\n",
        "fpr5, tpr5, thresholds = roc_curve(y_test_balanced, y_pred_DT_balanced_pruned)\n",
        "plt.plot(fpr5, tpr5, '-', label='Decision Tree (Pruned & Balanced)')\n",
        "fpr6, tpr6, thresholds = roc_curve(y_test_balanced, y_pred_RF_pruned_balanced)\n",
        "plt.plot(fpr6, tpr6, '-', label='Random Forest (Pruned & Balanced)')\n",
        "fpr7, tpr7, thresholds = roc_curve(y_test, y_pred_kNN)\n",
        "plt.plot(fpr7, tpr7, '--', label='kNN')\n",
        "fpr8, tpr8, thresholds = roc_curve(y_test, y_pred_NB)\n",
        "plt.plot(fpr8, tpr8, '--', label='Naive Bayes')\n",
        "fpr9, tpr9, thresholds = roc_curve(y_test, y_pred_SVM)\n",
        "plt.plot(fpr9, tpr9, '--', label='SVM')\n",
        "fpr10, tpr10, thresholds = roc_curve(y_test, y_pred_LR)\n",
        "plt.plot(fpr10, tpr10, '--', label='Logistic Regression')\n",
        "fpr11, tpr11, thresholds = roc_curve(y_test, y_pred_DT_pruned)\n",
        "plt.plot(fpr11, tpr11, '--', label='Decision Tree (Pruned)')\n",
        "fpr12, tpr12, thresholds = roc_curve(y_test, y_pred_RF_pruned)\n",
        "plt.plot(fpr12, tpr12, '--', label='Random Forest (Pruned)')\n",
        "fpr13, tpr13, thresholds = roc_curve(y_test, y_pred_Stack)\n",
        "plt.plot(fpr13, tpr13, '--', label='Stacking Classifier')\n",
        "fpr14, tpr14, thresholds = roc_curve(y_test_balanced, y_pred_Stack_balanced)\n",
        "plt.plot(fpr14, tpr14, '-', label='Stacking Classifier (Balanced)')\n",
        "plt.xlabel('False Positive Rate')\n",
        "plt.ylabel('True Positive Rate')\n",
        "plt.legend(bbox_to_anchor=(1.05, 0.5), loc='center left')\n",
        "plt.show()"
      ],
      "metadata": {
        "colab": {
          "base_uri": "https://localhost:8080/",
          "height": 279
        },
        "id": "HWYugo3MId6x",
        "outputId": "5f2763c5-85be-4d0c-a69f-f84141ade444"
      },
      "execution_count": 95,
      "outputs": [
        {
          "output_type": "display_data",
          "data": {
            "text/plain": [
              "<Figure size 432x288 with 1 Axes>"
            ],
            "image/png": "[encoded data removed]"
          },
          "metadata": {
            "needs_background": "light"
          }
        }
      ]
    },
    {
      "cell_type": "markdown",
      "source": [
        "# Conclusion\n",
        "\n",
        "We have demonstrated with this model that the ROC Curve and therefore the rate of true positives could be improved by balancing the dataset. \n",
        "\n",
        "In this particular dataset, the stacking classifier consisting of the three best individual classifiers performs the best, followed by the Random Forest Classifier."
      ],
      "metadata": {
        "id": "reqmnabKIRqe"
      }
    },
    {
      "cell_type": "markdown",
      "source": [
        "# Notes\n",
        "\n",
        "1. AdaBoost, a Boosting algorithm, may perform considerably as good as Random Forest and Stacking Classifier. This algorithm has not been implemented on this dataset.\n",
        "2. The aim of this notebook is to demonstrate that balancing the dataset can help achieve a better true positive rate, therby improvving the classifier. As such, a detailed analysis of individual algorithms have not been provided."
      ],
      "metadata": {
        "id": "v3r0V0l7KnW4"
      }
    }
  ]
}