{
  "nbformat": 4,
  "nbformat_minor": 0,
  "metadata": {
    "colab": {
      "provenance": [],
      "toc_visible": true,
      "collapsed_sections": [
        "q6pABfXvy0IY",
        "G8COoDLzzCh4",
        "-y-ag9voyj7m",
        "s2giUYqM4YUY",
        "RjYcL1wu6d-J",
        "Nr2sidhnGiG3",
        "c9PLrIxSIvI0",
        "gQ8lhFJcKnj_",
        "gPysex7wH1aL",
        "LK4nEJPVJqKg"
      ]
    },
    "kernelspec": {
      "name": "python3",
      "display_name": "Python 3"
    },
    "language_info": {
      "name": "python"
    }
  },
  "cells": [
    {
      "cell_type": "markdown",
      "source": [
        "# Framingham Heart Study Dataset\n",
        "\n",
        "The dataset can be found [here](https://www.kaggle.com/datasets/aasheesh200/framingham-heart-study-dataset).\n",
        "\n",
        "The dataset consists of the following parameters:\n",
        "1. male\t\n",
        "2. age\t\n",
        "3. education\t\n",
        "4. currentSmoker\t\n",
        "5. cigsPerDay\t\n",
        "6. BPMeds\n",
        "7. prevalentStroke\t\n",
        "8. prevalentHyp\t\n",
        "9. diabetes\t\n",
        "10. totChol\t\n",
        "11. sysBP\t\n",
        "12. diaBP\t\n",
        "13. BMI\t\n",
        "14. heartRate\t\n",
        "15. glucose\t\n",
        "16. TenYearCHD\n",
        "\n",
        "Based on the medical history, we would like to predict whether the patient would have a Chronic Heart Disease or not in 10 years.\n",
        "\n",
        "The dataset is imbalanced and thus, oversampling and undersampling techniques have been applied to understand their effects on the ROC Curve."
      ],
      "metadata": {
        "id": "fbbwrZhVoNLe"
      }
    },
    {
      "cell_type": "code",
      "execution_count": 1,
      "metadata": {
        "id": "BwLqArI7oAC1"
      },
      "outputs": [],
      "source": [
        "import pandas as pd\n",
        "import numpy as np\n",
        "import seaborn as sns\n",
        "import matplotlib.pyplot as plt\n",
        "sns.set()"
      ]
    },
    {
      "cell_type": "code",
      "source": [
        "data = pd.read_csv(r'/content/drive/MyDrive/Colab Notebooks/Machine Learning/Data Training/Uploaded/Framingham Heart Study Dataset/framingham.csv')\n",
        "data.head()"
      ],
      "metadata": {
        "colab": {
          "base_uri": "https://localhost:8080/",
          "height": 270
        },
        "id": "sO5D1brIoXXk",
        "outputId": "bcc6f51a-af09-4e05-f2c2-cd8aad7092f8"
      },
      "execution_count": 2,
      "outputs": [
        {
          "output_type": "execute_result",
          "data": {
            "text/plain": [
              "   male  age  education  currentSmoker  cigsPerDay  BPMeds  prevalentStroke  \\\n",
              "0     1   39        4.0              0         0.0     0.0                0   \n",
              "1     0   46        2.0              0         0.0     0.0                0   \n",
              "2     1   48        1.0              1        20.0     0.0                0   \n",
              "3     0   61        3.0              1        30.0     0.0                0   \n",
              "4     0   46        3.0              1        23.0     0.0                0   \n",
              "\n",
              "   prevalentHyp  diabetes  totChol  sysBP  diaBP    BMI  heartRate  glucose  \\\n",
              "0             0         0    195.0  106.0   70.0  26.97       80.0     77.0   \n",
              "1             0         0    250.0  121.0   81.0  28.73       95.0     76.0   \n",
              "2             0         0    245.0  127.5   80.0  25.34       75.0     70.0   \n",
              "3             1         0    225.0  150.0   95.0  28.58       65.0    103.0   \n",
              "4             0         0    285.0  130.0   84.0  23.10       85.0     85.0   \n",
              "\n",
              "   TenYearCHD  \n",
              "0           0  \n",
              "1           0  \n",
              "2           0  \n",
              "3           1  \n",
              "4           0  "
            ],
            "text/html": [
              "\n",
              "  <div id=\"df-b4824750-53aa-4a68-8f1f-484367274fc7\">\n",
              "    <div class=\"colab-df-container\">\n",
              "      <div>\n",
              "<style scoped>\n",
              "    .dataframe tbody tr th:only-of-type {\n",
              "        vertical-align: middle;\n",
              "    }\n",
              "\n",
              "    .dataframe tbody tr th {\n",
              "        vertical-align: top;\n",
              "    }\n",
              "\n",
              "    .dataframe thead th {\n",
              "        text-align: right;\n",
              "    }\n",
              "</style>\n",
              "<table border=\"1\" class=\"dataframe\">\n",
              "  <thead>\n",
              "    <tr style=\"text-align: right;\">\n",
              "      <th></th>\n",
              "      <th>male</th>\n",
              "      <th>age</th>\n",
              "      <th>education</th>\n",
              "      <th>currentSmoker</th>\n",
              "      <th>cigsPerDay</th>\n",
              "      <th>BPMeds</th>\n",
              "      <th>prevalentStroke</th>\n",
              "      <th>prevalentHyp</th>\n",
              "      <th>diabetes</th>\n",
              "      <th>totChol</th>\n",
              "      <th>sysBP</th>\n",
              "      <th>diaBP</th>\n",
              "      <th>BMI</th>\n",
              "      <th>heartRate</th>\n",
              "      <th>glucose</th>\n",
              "      <th>TenYearCHD</th>\n",
              "    </tr>\n",
              "  </thead>\n",
              "  <tbody>\n",
              "    <tr>\n",
              "      <th>0</th>\n",
              "      <td>1</td>\n",
              "      <td>39</td>\n",
              "      <td>4.0</td>\n",
              "      <td>0</td>\n",
              "      <td>0.0</td>\n",
              "      <td>0.0</td>\n",
              "      <td>0</td>\n",
              "      <td>0</td>\n",
              "      <td>0</td>\n",
              "      <td>195.0</td>\n",
              "      <td>106.0</td>\n",
              "      <td>70.0</td>\n",
              "      <td>26.97</td>\n",
              "      <td>80.0</td>\n",
              "      <td>77.0</td>\n",
              "      <td>0</td>\n",
              "    </tr>\n",
              "    <tr>\n",
              "      <th>1</th>\n",
              "      <td>0</td>\n",
              "      <td>46</td>\n",
              "      <td>2.0</td>\n",
              "      <td>0</td>\n",
              "      <td>0.0</td>\n",
              "      <td>0.0</td>\n",
              "      <td>0</td>\n",
              "      <td>0</td>\n",
              "      <td>0</td>\n",
              "      <td>250.0</td>\n",
              "      <td>121.0</td>\n",
              "      <td>81.0</td>\n",
              "      <td>28.73</td>\n",
              "      <td>95.0</td>\n",
              "      <td>76.0</td>\n",
              "      <td>0</td>\n",
              "    </tr>\n",
              "    <tr>\n",
              "      <th>2</th>\n",
              "      <td>1</td>\n",
              "      <td>48</td>\n",
              "      <td>1.0</td>\n",
              "      <td>1</td>\n",
              "      <td>20.0</td>\n",
              "      <td>0.0</td>\n",
              "      <td>0</td>\n",
              "      <td>0</td>\n",
              "      <td>0</td>\n",
              "      <td>245.0</td>\n",
              "      <td>127.5</td>\n",
              "      <td>80.0</td>\n",
              "      <td>25.34</td>\n",
              "      <td>75.0</td>\n",
              "      <td>70.0</td>\n",
              "      <td>0</td>\n",
              "    </tr>\n",
              "    <tr>\n",
              "      <th>3</th>\n",
              "      <td>0</td>\n",
              "      <td>61</td>\n",
              "      <td>3.0</td>\n",
              "      <td>1</td>\n",
              "      <td>30.0</td>\n",
              "      <td>0.0</td>\n",
              "      <td>0</td>\n",
              "      <td>1</td>\n",
              "      <td>0</td>\n",
              "      <td>225.0</td>\n",
              "      <td>150.0</td>\n",
              "      <td>95.0</td>\n",
              "      <td>28.58</td>\n",
              "      <td>65.0</td>\n",
              "      <td>103.0</td>\n",
              "      <td>1</td>\n",
              "    </tr>\n",
              "    <tr>\n",
              "      <th>4</th>\n",
              "      <td>0</td>\n",
              "      <td>46</td>\n",
              "      <td>3.0</td>\n",
              "      <td>1</td>\n",
              "      <td>23.0</td>\n",
              "      <td>0.0</td>\n",
              "      <td>0</td>\n",
              "      <td>0</td>\n",
              "      <td>0</td>\n",
              "      <td>285.0</td>\n",
              "      <td>130.0</td>\n",
              "      <td>84.0</td>\n",
              "      <td>23.10</td>\n",
              "      <td>85.0</td>\n",
              "      <td>85.0</td>\n",
              "      <td>0</td>\n",
              "    </tr>\n",
              "  </tbody>\n",
              "</table>\n",
              "</div>\n",
              "      <button class=\"colab-df-convert\" onclick=\"convertToInteractive('df-b4824750-53aa-4a68-8f1f-484367274fc7')\"\n",
              "              title=\"Convert this dataframe to an interactive table.\"\n",
              "              style=\"display:none;\">\n",
              "        \n",
              "  <svg xmlns=\"http://www.w3.org/2000/svg\" height=\"24px\"viewBox=\"0 0 24 24\"\n",
              "       width=\"24px\">\n",
              "    <path d=\"M0 0h24v24H0V0z\" fill=\"none\"/>\n",
              "    <path d=\"M18.56 5.44l.94 2.06.94-2.06 2.06-.94-2.06-.94-.94-2.06-.94 2.06-2.06.94zm-11 1L8.5 8.5l.94-2.06 2.06-.94-2.06-.94L8.5 2.5l-.94 2.06-2.06.94zm10 10l.94 2.06.94-2.06 2.06-.94-2.06-.94-.94-2.06-.94 2.06-2.06.94z\"/><path d=\"M17.41 7.96l-1.37-1.37c-.4-.4-.92-.59-1.43-.59-.52 0-1.04.2-1.43.59L10.3 9.45l-7.72 7.72c-.78.78-.78 2.05 0 2.83L4 21.41c.39.39.9.59 1.41.59.51 0 1.02-.2 1.41-.59l7.78-7.78 2.81-2.81c.8-.78.8-2.07 0-2.86zM5.41 20L4 18.59l7.72-7.72 1.47 1.35L5.41 20z\"/>\n",
              "  </svg>\n",
              "      </button>\n",
              "      \n",
              "  <style>\n",
              "    .colab-df-container {\n",
              "      display:flex;\n",
              "      flex-wrap:wrap;\n",
              "      gap: 12px;\n",
              "    }\n",
              "\n",
              "    .colab-df-convert {\n",
              "      background-color: #E8F0FE;\n",
              "      border: none;\n",
              "      border-radius: 50%;\n",
              "      cursor: pointer;\n",
              "      display: none;\n",
              "      fill: #1967D2;\n",
              "      height: 32px;\n",
              "      padding: 0 0 0 0;\n",
              "      width: 32px;\n",
              "    }\n",
              "\n",
              "    .colab-df-convert:hover {\n",
              "      background-color: #E2EBFA;\n",
              "      box-shadow: 0px 1px 2px rgba(60, 64, 67, 0.3), 0px 1px 3px 1px rgba(60, 64, 67, 0.15);\n",
              "      fill: #174EA6;\n",
              "    }\n",
              "\n",
              "    [theme=dark] .colab-df-convert {\n",
              "      background-color: #3B4455;\n",
              "      fill: #D2E3FC;\n",
              "    }\n",
              "\n",
              "    [theme=dark] .colab-df-convert:hover {\n",
              "      background-color: #434B5C;\n",
              "      box-shadow: 0px 1px 3px 1px rgba(0, 0, 0, 0.15);\n",
              "      filter: drop-shadow(0px 1px 2px rgba(0, 0, 0, 0.3));\n",
              "      fill: #FFFFFF;\n",
              "    }\n",
              "  </style>\n",
              "\n",
              "      <script>\n",
              "        const buttonEl =\n",
              "          document.querySelector('#df-b4824750-53aa-4a68-8f1f-484367274fc7 button.colab-df-convert');\n",
              "        buttonEl.style.display =\n",
              "          google.colab.kernel.accessAllowed ? 'block' : 'none';\n",
              "\n",
              "        async function convertToInteractive(key) {\n",
              "          const element = document.querySelector('#df-b4824750-53aa-4a68-8f1f-484367274fc7');\n",
              "          const dataTable =\n",
              "            await google.colab.kernel.invokeFunction('convertToInteractive',\n",
              "                                                     [key], {});\n",
              "          if (!dataTable) return;\n",
              "\n",
              "          const docLinkHtml = 'Like what you see? Visit the ' +\n",
              "            '<a target=\"_blank\" href=https://colab.research.google.com/notebooks/data_table.ipynb>data table notebook</a>'\n",
              "            + ' to learn more about interactive tables.';\n",
              "          element.innerHTML = '';\n",
              "          dataTable['output_type'] = 'display_data';\n",
              "          await google.colab.output.renderOutput(dataTable, element);\n",
              "          const docLink = document.createElement('div');\n",
              "          docLink.innerHTML = docLinkHtml;\n",
              "          element.appendChild(docLink);\n",
              "        }\n",
              "      </script>\n",
              "    </div>\n",
              "  </div>\n",
              "  "
            ]
          },
          "metadata": {},
          "execution_count": 2
        }
      ]
    },
    {
      "cell_type": "code",
      "source": [
        "data.shape"
      ],
      "metadata": {
        "colab": {
          "base_uri": "https://localhost:8080/"
        },
        "id": "wQ2dn39gxusj",
        "outputId": "16d34fd6-462b-4574-a654-510fb60225b5"
      },
      "execution_count": 3,
      "outputs": [
        {
          "output_type": "execute_result",
          "data": {
            "text/plain": [
              "(4240, 16)"
            ]
          },
          "metadata": {},
          "execution_count": 3
        }
      ]
    },
    {
      "cell_type": "code",
      "source": [
        "sns.heatmap(data.corr(), cmap = 'viridis')"
      ],
      "metadata": {
        "colab": {
          "base_uri": "https://localhost:8080/",
          "height": 367
        },
        "id": "9390TUFQtZ5f",
        "outputId": "e2b6b593-0a66-4b0b-bf17-8172dae5ea75"
      },
      "execution_count": 4,
      "outputs": [
        {
          "output_type": "execute_result",
          "data": {
            "text/plain": [
              "<matplotlib.axes._subplots.AxesSubplot at 0x7fdd0bd024c0>"
            ]
          },
          "metadata": {},
          "execution_count": 4
        },
        {
          "output_type": "display_data",
          "data": {
            "text/plain": [
              "<Figure size 432x288 with 2 Axes>"
            ],
            "image/png": "[encoded data removed]"
          },
          "metadata": {}
        }
      ]
    },
    {
      "cell_type": "markdown",
      "source": [
        "There exists some correlation between *cigsPerDay* and *currentSmoker*; this makes sense. There is also some degree of correlation between *diabetes* and *glucose* as well as between *prevalentHyp* and *sysBP and diaBP*."
      ],
      "metadata": {
        "id": "0OvSQVDtt5hI"
      }
    },
    {
      "cell_type": "markdown",
      "source": [
        "Heart Disease do not depend on the Education. We hence drop it."
      ],
      "metadata": {
        "id": "5zFAVZ-apgrX"
      }
    },
    {
      "cell_type": "code",
      "source": [
        "data.drop('education', axis=1, inplace=True)\n",
        "data.info()"
      ],
      "metadata": {
        "colab": {
          "base_uri": "https://localhost:8080/"
        },
        "id": "M3bBFuQQpUAq",
        "outputId": "ac560078-649d-4341-9061-83aee76d4450"
      },
      "execution_count": 5,
      "outputs": [
        {
          "output_type": "stream",
          "name": "stdout",
          "text": [
            "<class 'pandas.core.frame.DataFrame'>\n",
            "RangeIndex: 4240 entries, 0 to 4239\n",
            "Data columns (total 15 columns):\n",
            " #   Column           Non-Null Count  Dtype  \n",
            "---  ------           --------------  -----  \n",
            " 0   male             4240 non-null   int64  \n",
            " 1   age              4240 non-null   int64  \n",
            " 2   currentSmoker    4240 non-null   int64  \n",
            " 3   cigsPerDay       4211 non-null   float64\n",
            " 4   BPMeds           4187 non-null   float64\n",
            " 5   prevalentStroke  4240 non-null   int64  \n",
            " 6   prevalentHyp     4240 non-null   int64  \n",
            " 7   diabetes         4240 non-null   int64  \n",
            " 8   totChol          4190 non-null   float64\n",
            " 9   sysBP            4240 non-null   float64\n",
            " 10  diaBP            4240 non-null   float64\n",
            " 11  BMI              4221 non-null   float64\n",
            " 12  heartRate        4239 non-null   float64\n",
            " 13  glucose          3852 non-null   float64\n",
            " 14  TenYearCHD       4240 non-null   int64  \n",
            "dtypes: float64(8), int64(7)\n",
            "memory usage: 497.0 KB\n"
          ]
        }
      ]
    },
    {
      "cell_type": "markdown",
      "source": [
        "## Preprocessing"
      ],
      "metadata": {
        "id": "WWyoU2g0sJp0"
      }
    },
    {
      "cell_type": "code",
      "source": [
        "sns.heatmap(data.isnull(), cmap='viridis', cbar=False, yticklabels=False)"
      ],
      "metadata": {
        "colab": {
          "base_uri": "https://localhost:8080/",
          "height": 363
        },
        "id": "GJK8C3X_pviK",
        "outputId": "100cf995-5700-4d6c-b276-38e8a286cf84"
      },
      "execution_count": 6,
      "outputs": [
        {
          "output_type": "execute_result",
          "data": {
            "text/plain": [
              "<matplotlib.axes._subplots.AxesSubplot at 0x7fdd093fcb50>"
            ]
          },
          "metadata": {},
          "execution_count": 6
        },
        {
          "output_type": "display_data",
          "data": {
            "text/plain": [
              "<Figure size 432x288 with 1 Axes>"
            ],
            "image/png": "[encoded data removed]"
          },
          "metadata": {}
        }
      ]
    },
    {
      "cell_type": "code",
      "source": [
        "data['cigsPerDay'].unique()"
      ],
      "metadata": {
        "colab": {
          "base_uri": "https://localhost:8080/"
        },
        "id": "Daznyxglp6Jl",
        "outputId": "2ce41246-a0ae-40b2-ee2a-ef4825b78aff"
      },
      "execution_count": 7,
      "outputs": [
        {
          "output_type": "execute_result",
          "data": {
            "text/plain": [
              "array([ 0., 20., 30., 23., 15.,  9., 10.,  5., 35., 43.,  1., 40.,  3.,\n",
              "        2., nan, 12.,  4., 18., 25., 60., 14., 45.,  8., 50., 13., 11.,\n",
              "        7.,  6., 38., 29., 17., 16., 19., 70.])"
            ]
          },
          "metadata": {},
          "execution_count": 7
        }
      ]
    },
    {
      "cell_type": "markdown",
      "source": [
        "We replace the missing values in *Cigarettes Per Day* column with its mode:"
      ],
      "metadata": {
        "id": "MA0SOi7TqJdr"
      }
    },
    {
      "cell_type": "code",
      "source": [
        "data['cigsPerDay'] = data['cigsPerDay'].fillna(data['cigsPerDay'].mode()[0])"
      ],
      "metadata": {
        "id": "VEiFkR0CqDI9"
      },
      "execution_count": 8,
      "outputs": []
    },
    {
      "cell_type": "code",
      "source": [
        "data['BPMeds'].unique()"
      ],
      "metadata": {
        "colab": {
          "base_uri": "https://localhost:8080/"
        },
        "id": "SgoxLtrLqZhy",
        "outputId": "37707fba-f365-4cd1-8a90-192d388fc883"
      },
      "execution_count": 9,
      "outputs": [
        {
          "output_type": "execute_result",
          "data": {
            "text/plain": [
              "array([ 0.,  1., nan])"
            ]
          },
          "metadata": {},
          "execution_count": 9
        }
      ]
    },
    {
      "cell_type": "markdown",
      "source": [
        "We replace the missing values in *BPMeds* column with its mode:"
      ],
      "metadata": {
        "id": "z1_8Z3BgwfJ4"
      }
    },
    {
      "cell_type": "code",
      "source": [
        "data['BPMeds'] = data['BPMeds'].fillna(data['BPMeds'].mode()[0])"
      ],
      "metadata": {
        "id": "Y6NcZZ7eqhVi"
      },
      "execution_count": 10,
      "outputs": []
    },
    {
      "cell_type": "code",
      "source": [
        "data['totChol'].unique()"
      ],
      "metadata": {
        "colab": {
          "base_uri": "https://localhost:8080/"
        },
        "id": "6jj87hldqtrj",
        "outputId": "b5edda8c-602b-4da3-dfea-8c6da25a2a79"
      },
      "execution_count": 11,
      "outputs": [
        {
          "output_type": "execute_result",
          "data": {
            "text/plain": [
              "array([195., 250., 245., 225., 285., 228., 205., 313., 260., 254., 247.,\n",
              "       294., 332., 226., 221., 232., 291., 190., 185., 234., 215., 270.,\n",
              "       272., 295., 209., 175., 214., 257., 178., 233., 180., 243., 237.,\n",
              "        nan, 311., 208., 252., 261., 179., 194., 267., 216., 240., 266.,\n",
              "       255., 220., 235., 212., 223., 300., 302., 248., 200., 189., 258.,\n",
              "       202., 213., 183., 274., 170., 210., 197., 326., 188., 256., 244.,\n",
              "       193., 239., 296., 269., 275., 268., 265., 173., 273., 290., 278.,\n",
              "       264., 282., 241., 288., 222., 303., 246., 150., 187., 286., 154.,\n",
              "       279., 293., 259., 219., 230., 320., 312., 165., 159., 174., 242.,\n",
              "       301., 167., 308., 325., 229., 236., 224., 253., 464., 171., 186.,\n",
              "       227., 249., 176., 163., 191., 263., 196., 310., 164., 135., 238.,\n",
              "       207., 342., 287., 182., 352., 284., 217., 203., 262., 129., 155.,\n",
              "       323., 206., 283., 319., 304., 340., 328., 280., 368., 218., 276.,\n",
              "       339., 231., 198., 177., 201., 277., 184., 199., 168., 292., 305.,\n",
              "       306., 152., 161., 181., 251., 271., 370., 439., 145., 330., 157.,\n",
              "       398., 162., 314., 166., 160., 281., 289., 355., 307., 156., 329.,\n",
              "       143., 211., 298., 334., 192., 204., 318., 309., 353., 360., 335.,\n",
              "       158., 372., 346., 169., 140., 324., 600., 315., 392., 322., 149.,\n",
              "       137., 172., 317., 358., 153., 345., 391., 410., 297., 356., 338.,\n",
              "       107., 148., 366., 333., 327., 344., 126., 365., 362., 316., 144.,\n",
              "       351., 390., 321., 405., 359., 350., 336., 380., 299., 124., 371.,\n",
              "       113., 354., 382., 364., 341., 133., 367., 432., 337., 696., 363.,\n",
              "       331., 361., 453., 347., 373., 385., 119.])"
            ]
          },
          "metadata": {},
          "execution_count": 11
        }
      ]
    },
    {
      "cell_type": "markdown",
      "source": [
        "We replace the missing values in *totChol* column with its mean:"
      ],
      "metadata": {
        "id": "sznq3cAzwty0"
      }
    },
    {
      "cell_type": "code",
      "source": [
        "data['totChol'] = data['totChol'].fillna(data['totChol'].mean())"
      ],
      "metadata": {
        "id": "3kCeLcTrqzGa"
      },
      "execution_count": 12,
      "outputs": []
    },
    {
      "cell_type": "code",
      "source": [
        "data['glucose'].unique()"
      ],
      "metadata": {
        "colab": {
          "base_uri": "https://localhost:8080/"
        },
        "id": "kFEX-ysOrAkk",
        "outputId": "5b7b0c76-14a4-406a-f7fd-af42f069b5b1"
      },
      "execution_count": 13,
      "outputs": [
        {
          "output_type": "execute_result",
          "data": {
            "text/plain": [
              "array([ 77.,  76.,  70., 103.,  85.,  99.,  78.,  79.,  88.,  61.,  64.,\n",
              "        84.,  nan,  72.,  89.,  65., 113.,  75.,  83.,  66.,  74.,  63.,\n",
              "        87., 225.,  90.,  80., 100., 215.,  98.,  62.,  95.,  94.,  55.,\n",
              "        82.,  93.,  73.,  45., 202.,  68.,  97., 104.,  96., 126., 120.,\n",
              "       105.,  71.,  56.,  60., 117., 102.,  58.,  92., 109.,  86., 107.,\n",
              "        54.,  67.,  69.,  57.,  91., 132., 150.,  59.,  81., 115., 140.,\n",
              "       112., 118., 143., 114., 160., 110., 123., 108., 145., 122., 137.,\n",
              "       106., 127., 205., 130., 101.,  47.,  53., 216., 163., 144., 116.,\n",
              "       121., 172., 124., 111.,  40., 186., 223., 325.,  44., 156., 268.,\n",
              "        50., 274., 292., 255., 136., 206., 131., 148., 297.,  43., 173.,\n",
              "        48., 386., 155., 147., 170.,  52., 320., 254., 394., 270., 244.,\n",
              "       183., 142., 119., 135., 167., 207., 129., 177., 250., 294., 166.,\n",
              "       125., 332., 368., 348., 248., 370., 193., 191., 256., 235., 210.,\n",
              "       260.])"
            ]
          },
          "metadata": {},
          "execution_count": 13
        }
      ]
    },
    {
      "cell_type": "markdown",
      "source": [
        "We replace the missing values in *glucose* column with its mean:"
      ],
      "metadata": {
        "id": "Xwilcq3AwzPk"
      }
    },
    {
      "cell_type": "code",
      "source": [
        "data['glucose'] = data['glucose'].fillna(data['glucose'].mean())"
      ],
      "metadata": {
        "id": "fAKQDv1irGku"
      },
      "execution_count": 14,
      "outputs": []
    },
    {
      "cell_type": "markdown",
      "source": [
        "Check the missing values using *isnull* method; we cannot see smaller missing values on the heatmap."
      ],
      "metadata": {
        "id": "U-9-36-8rTQS"
      }
    },
    {
      "cell_type": "code",
      "source": [
        "data.isnull().sum()"
      ],
      "metadata": {
        "colab": {
          "base_uri": "https://localhost:8080/"
        },
        "id": "gMzVKLpTrO8i",
        "outputId": "994d4c7c-32ce-4589-9591-73b0fb45e996"
      },
      "execution_count": 15,
      "outputs": [
        {
          "output_type": "execute_result",
          "data": {
            "text/plain": [
              "male                0\n",
              "age                 0\n",
              "currentSmoker       0\n",
              "cigsPerDay          0\n",
              "BPMeds              0\n",
              "prevalentStroke     0\n",
              "prevalentHyp        0\n",
              "diabetes            0\n",
              "totChol             0\n",
              "sysBP               0\n",
              "diaBP               0\n",
              "BMI                19\n",
              "heartRate           1\n",
              "glucose             0\n",
              "TenYearCHD          0\n",
              "dtype: int64"
            ]
          },
          "metadata": {},
          "execution_count": 15
        }
      ]
    },
    {
      "cell_type": "markdown",
      "source": [
        "We first check if the values in the column *BMI* is continuous or discrete:"
      ],
      "metadata": {
        "id": "kmgB9buBw4ij"
      }
    },
    {
      "cell_type": "code",
      "source": [
        "data['BMI'].value_counts()"
      ],
      "metadata": {
        "colab": {
          "base_uri": "https://localhost:8080/"
        },
        "id": "xjV7_TZyrRQ4",
        "outputId": "b1bfa38e-e7a9-409a-f384-1d6b1d36ccc7"
      },
      "execution_count": 16,
      "outputs": [
        {
          "output_type": "execute_result",
          "data": {
            "text/plain": [
              "22.91    18\n",
              "23.48    18\n",
              "22.54    18\n",
              "22.19    18\n",
              "25.09    16\n",
              "         ..\n",
              "29.14     1\n",
              "38.43     1\n",
              "42.15     1\n",
              "28.10     1\n",
              "20.91     1\n",
              "Name: BMI, Length: 1364, dtype: int64"
            ]
          },
          "metadata": {},
          "execution_count": 16
        }
      ]
    },
    {
      "cell_type": "markdown",
      "source": [
        "We replace the missing values in *BMI* column with its mean:"
      ],
      "metadata": {
        "id": "-wDYJL4fw-Yd"
      }
    },
    {
      "cell_type": "code",
      "source": [
        "data['BMI'] = data['BMI'].fillna(data['BMI'].mean())"
      ],
      "metadata": {
        "id": "w3EMSzlErgDR"
      },
      "execution_count": 17,
      "outputs": []
    },
    {
      "cell_type": "code",
      "source": [
        "data['heartRate'].unique()"
      ],
      "metadata": {
        "colab": {
          "base_uri": "https://localhost:8080/"
        },
        "id": "ZUxPe8BIrr8W",
        "outputId": "499803da-3dfe-4b67-e8b1-d9912483f601"
      },
      "execution_count": 18,
      "outputs": [
        {
          "output_type": "execute_result",
          "data": {
            "text/plain": [
              "array([ 80.,  95.,  75.,  65.,  85.,  77.,  60.,  79.,  76.,  93.,  72.,\n",
              "        98.,  64.,  70.,  71.,  62.,  73.,  90.,  96.,  68.,  63.,  88.,\n",
              "        78.,  83., 100.,  67.,  84.,  57.,  50.,  74.,  86.,  55.,  92.,\n",
              "        66.,  87., 110.,  81.,  56.,  89.,  82.,  48., 105.,  61.,  54.,\n",
              "        69.,  52.,  94., 140., 130.,  58., 108., 104.,  91.,  53.,  nan,\n",
              "       106.,  59.,  51., 102., 107., 112., 125., 103.,  44.,  47.,  45.,\n",
              "        97., 122., 120.,  99., 115., 143., 101.,  46.])"
            ]
          },
          "metadata": {},
          "execution_count": 18
        }
      ]
    },
    {
      "cell_type": "markdown",
      "source": [
        "We replace the missing values in *heartRate* column with its mean:"
      ],
      "metadata": {
        "id": "BNaPlQ3pxBSy"
      }
    },
    {
      "cell_type": "code",
      "source": [
        "data['heartRate'] = data['heartRate'].fillna(data['heartRate'].mean())"
      ],
      "metadata": {
        "id": "cmf9VkKKruzq"
      },
      "execution_count": 19,
      "outputs": []
    },
    {
      "cell_type": "code",
      "source": [
        "data.isnull().sum()"
      ],
      "metadata": {
        "colab": {
          "base_uri": "https://localhost:8080/"
        },
        "id": "PqP1h_Rqr3Cz",
        "outputId": "647b1ef0-9558-4489-b24c-0e34fef2e68e"
      },
      "execution_count": 20,
      "outputs": [
        {
          "output_type": "execute_result",
          "data": {
            "text/plain": [
              "male               0\n",
              "age                0\n",
              "currentSmoker      0\n",
              "cigsPerDay         0\n",
              "BPMeds             0\n",
              "prevalentStroke    0\n",
              "prevalentHyp       0\n",
              "diabetes           0\n",
              "totChol            0\n",
              "sysBP              0\n",
              "diaBP              0\n",
              "BMI                0\n",
              "heartRate          0\n",
              "glucose            0\n",
              "TenYearCHD         0\n",
              "dtype: int64"
            ]
          },
          "metadata": {},
          "execution_count": 20
        }
      ]
    },
    {
      "cell_type": "markdown",
      "source": [
        "The missing values are handled."
      ],
      "metadata": {
        "id": "WbGKpPskxEPY"
      }
    },
    {
      "cell_type": "markdown",
      "source": [
        "Check the Target variable:"
      ],
      "metadata": {
        "id": "I7E5v5N3sXoR"
      }
    },
    {
      "cell_type": "code",
      "source": [
        "data['TenYearCHD'].value_counts()"
      ],
      "metadata": {
        "id": "rFhCpqdjsaRa",
        "colab": {
          "base_uri": "https://localhost:8080/"
        },
        "outputId": "8625d9da-c147-4aea-fd50-5a0bbbef65f0"
      },
      "execution_count": 21,
      "outputs": [
        {
          "output_type": "execute_result",
          "data": {
            "text/plain": [
              "0    3596\n",
              "1     644\n",
              "Name: TenYearCHD, dtype: int64"
            ]
          },
          "metadata": {},
          "execution_count": 21
        }
      ]
    },
    {
      "cell_type": "markdown",
      "source": [
        "The dataset is unbalanced. We have to balance the dataset; we will need to check the performance before and after balancing the dataset."
      ],
      "metadata": {
        "id": "XrP_4s7yyF0Y"
      }
    },
    {
      "cell_type": "markdown",
      "source": [
        "## Split into Features and Targets"
      ],
      "metadata": {
        "id": "q6pABfXvy0IY"
      }
    },
    {
      "cell_type": "code",
      "source": [
        "x = data.iloc[:, :-1]\n",
        "y = data.iloc[:, -1]"
      ],
      "metadata": {
        "id": "7qLb7-jBy7kL"
      },
      "execution_count": 22,
      "outputs": []
    },
    {
      "cell_type": "markdown",
      "source": [
        "## Feature Selection"
      ],
      "metadata": {
        "id": "RTNy0iYEK-KP"
      }
    },
    {
      "cell_type": "code",
      "source": [
        "from sklearn.feature_selection import SelectKBest, chi2"
      ],
      "metadata": {
        "id": "FSlMz4ieLApu"
      },
      "execution_count": 23,
      "outputs": []
    },
    {
      "cell_type": "code",
      "source": [
        "X_features = SelectKBest(chi2).fit(x, y)"
      ],
      "metadata": {
        "id": "hoJ76PA1LAmS"
      },
      "execution_count": 24,
      "outputs": []
    },
    {
      "cell_type": "code",
      "source": [
        "cols = x.columns\n",
        "score_df = pd.DataFrame({'Features': cols, 'Score': X_features.scores_}).sort_values('Score', ascending=False)\n",
        "score_df"
      ],
      "metadata": {
        "colab": {
          "base_uri": "https://localhost:8080/",
          "height": 488
        },
        "id": "NAv2_hHSNW9e",
        "outputId": "3bb3f5fa-46db-4985-b76b-26c0c497a3a5"
      },
      "execution_count": 25,
      "outputs": [
        {
          "output_type": "execute_result",
          "data": {
            "text/plain": [
              "           Features       Score\n",
              "9             sysBP  727.935535\n",
              "13          glucose  391.151105\n",
              "1               age  319.266019\n",
              "8           totChol  235.502392\n",
              "3        cigsPerDay  231.669558\n",
              "10            diaBP  152.748563\n",
              "6      prevalentHyp   92.048736\n",
              "7          diabetes   39.144944\n",
              "4            BPMeds   30.759595\n",
              "0              male   18.899930\n",
              "5   prevalentStroke   16.109887\n",
              "11              BMI   15.227367\n",
              "12        heartRate    4.232372\n",
              "2     currentSmoker    0.811334"
            ],
            "text/html": [
              "\n",
              "  <div id=\"df-871c3679-9800-469e-ba50-7bf63bcfc19d\">\n",
              "    <div class=\"colab-df-container\">\n",
              "      <div>\n",
              "<style scoped>\n",
              "    .dataframe tbody tr th:only-of-type {\n",
              "        vertical-align: middle;\n",
              "    }\n",
              "\n",
              "    .dataframe tbody tr th {\n",
              "        vertical-align: top;\n",
              "    }\n",
              "\n",
              "    .dataframe thead th {\n",
              "        text-align: right;\n",
              "    }\n",
              "</style>\n",
              "<table border=\"1\" class=\"dataframe\">\n",
              "  <thead>\n",
              "    <tr style=\"text-align: right;\">\n",
              "      <th></th>\n",
              "      <th>Features</th>\n",
              "      <th>Score</th>\n",
              "    </tr>\n",
              "  </thead>\n",
              "  <tbody>\n",
              "    <tr>\n",
              "      <th>9</th>\n",
              "      <td>sysBP</td>\n",
              "      <td>727.935535</td>\n",
              "    </tr>\n",
              "    <tr>\n",
              "      <th>13</th>\n",
              "      <td>glucose</td>\n",
              "      <td>391.151105</td>\n",
              "    </tr>\n",
              "    <tr>\n",
              "      <th>1</th>\n",
              "      <td>age</td>\n",
              "      <td>319.266019</td>\n",
              "    </tr>\n",
              "    <tr>\n",
              "      <th>8</th>\n",
              "      <td>totChol</td>\n",
              "      <td>235.502392</td>\n",
              "    </tr>\n",
              "    <tr>\n",
              "      <th>3</th>\n",
              "      <td>cigsPerDay</td>\n",
              "      <td>231.669558</td>\n",
              "    </tr>\n",
              "    <tr>\n",
              "      <th>10</th>\n",
              "      <td>diaBP</td>\n",
              "      <td>152.748563</td>\n",
              "    </tr>\n",
              "    <tr>\n",
              "      <th>6</th>\n",
              "      <td>prevalentHyp</td>\n",
              "      <td>92.048736</td>\n",
              "    </tr>\n",
              "    <tr>\n",
              "      <th>7</th>\n",
              "      <td>diabetes</td>\n",
              "      <td>39.144944</td>\n",
              "    </tr>\n",
              "    <tr>\n",
              "      <th>4</th>\n",
              "      <td>BPMeds</td>\n",
              "      <td>30.759595</td>\n",
              "    </tr>\n",
              "    <tr>\n",
              "      <th>0</th>\n",
              "      <td>male</td>\n",
              "      <td>18.899930</td>\n",
              "    </tr>\n",
              "    <tr>\n",
              "      <th>5</th>\n",
              "      <td>prevalentStroke</td>\n",
              "      <td>16.109887</td>\n",
              "    </tr>\n",
              "    <tr>\n",
              "      <th>11</th>\n",
              "      <td>BMI</td>\n",
              "      <td>15.227367</td>\n",
              "    </tr>\n",
              "    <tr>\n",
              "      <th>12</th>\n",
              "      <td>heartRate</td>\n",
              "      <td>4.232372</td>\n",
              "    </tr>\n",
              "    <tr>\n",
              "      <th>2</th>\n",
              "      <td>currentSmoker</td>\n",
              "      <td>0.811334</td>\n",
              "    </tr>\n",
              "  </tbody>\n",
              "</table>\n",
              "</div>\n",
              "      <button class=\"colab-df-convert\" onclick=\"convertToInteractive('df-871c3679-9800-469e-ba50-7bf63bcfc19d')\"\n",
              "              title=\"Convert this dataframe to an interactive table.\"\n",
              "              style=\"display:none;\">\n",
              "        \n",
              "  <svg xmlns=\"http://www.w3.org/2000/svg\" height=\"24px\"viewBox=\"0 0 24 24\"\n",
              "       width=\"24px\">\n",
              "    <path d=\"M0 0h24v24H0V0z\" fill=\"none\"/>\n",
              "    <path d=\"M18.56 5.44l.94 2.06.94-2.06 2.06-.94-2.06-.94-.94-2.06-.94 2.06-2.06.94zm-11 1L8.5 8.5l.94-2.06 2.06-.94-2.06-.94L8.5 2.5l-.94 2.06-2.06.94zm10 10l.94 2.06.94-2.06 2.06-.94-2.06-.94-.94-2.06-.94 2.06-2.06.94z\"/><path d=\"M17.41 7.96l-1.37-1.37c-.4-.4-.92-.59-1.43-.59-.52 0-1.04.2-1.43.59L10.3 9.45l-7.72 7.72c-.78.78-.78 2.05 0 2.83L4 21.41c.39.39.9.59 1.41.59.51 0 1.02-.2 1.41-.59l7.78-7.78 2.81-2.81c.8-.78.8-2.07 0-2.86zM5.41 20L4 18.59l7.72-7.72 1.47 1.35L5.41 20z\"/>\n",
              "  </svg>\n",
              "      </button>\n",
              "      \n",
              "  <style>\n",
              "    .colab-df-container {\n",
              "      display:flex;\n",
              "      flex-wrap:wrap;\n",
              "      gap: 12px;\n",
              "    }\n",
              "\n",
              "    .colab-df-convert {\n",
              "      background-color: #E8F0FE;\n",
              "      border: none;\n",
              "      border-radius: 50%;\n",
              "      cursor: pointer;\n",
              "      display: none;\n",
              "      fill: #1967D2;\n",
              "      height: 32px;\n",
              "      padding: 0 0 0 0;\n",
              "      width: 32px;\n",
              "    }\n",
              "\n",
              "    .colab-df-convert:hover {\n",
              "      background-color: #E2EBFA;\n",
              "      box-shadow: 0px 1px 2px rgba(60, 64, 67, 0.3), 0px 1px 3px 1px rgba(60, 64, 67, 0.15);\n",
              "      fill: #174EA6;\n",
              "    }\n",
              "\n",
              "    [theme=dark] .colab-df-convert {\n",
              "      background-color: #3B4455;\n",
              "      fill: #D2E3FC;\n",
              "    }\n",
              "\n",
              "    [theme=dark] .colab-df-convert:hover {\n",
              "      background-color: #434B5C;\n",
              "      box-shadow: 0px 1px 3px 1px rgba(0, 0, 0, 0.15);\n",
              "      filter: drop-shadow(0px 1px 2px rgba(0, 0, 0, 0.3));\n",
              "      fill: #FFFFFF;\n",
              "    }\n",
              "  </style>\n",
              "\n",
              "      <script>\n",
              "        const buttonEl =\n",
              "          document.querySelector('#df-871c3679-9800-469e-ba50-7bf63bcfc19d button.colab-df-convert');\n",
              "        buttonEl.style.display =\n",
              "          google.colab.kernel.accessAllowed ? 'block' : 'none';\n",
              "\n",
              "        async function convertToInteractive(key) {\n",
              "          const element = document.querySelector('#df-871c3679-9800-469e-ba50-7bf63bcfc19d');\n",
              "          const dataTable =\n",
              "            await google.colab.kernel.invokeFunction('convertToInteractive',\n",
              "                                                     [key], {});\n",
              "          if (!dataTable) return;\n",
              "\n",
              "          const docLinkHtml = 'Like what you see? Visit the ' +\n",
              "            '<a target=\"_blank\" href=https://colab.research.google.com/notebooks/data_table.ipynb>data table notebook</a>'\n",
              "            + ' to learn more about interactive tables.';\n",
              "          element.innerHTML = '';\n",
              "          dataTable['output_type'] = 'display_data';\n",
              "          await google.colab.output.renderOutput(dataTable, element);\n",
              "          const docLink = document.createElement('div');\n",
              "          docLink.innerHTML = docLinkHtml;\n",
              "          element.appendChild(docLink);\n",
              "        }\n",
              "      </script>\n",
              "    </div>\n",
              "  </div>\n",
              "  "
            ]
          },
          "metadata": {},
          "execution_count": 25
        }
      ]
    },
    {
      "cell_type": "code",
      "source": [
        "X_features = SelectKBest(chi2, k=9)\n",
        "X_transform = X_features.fit_transform(x, y)"
      ],
      "metadata": {
        "id": "Z6cYqCzCNW3P"
      },
      "execution_count": 26,
      "outputs": []
    },
    {
      "cell_type": "code",
      "source": [
        "x.columns"
      ],
      "metadata": {
        "colab": {
          "base_uri": "https://localhost:8080/"
        },
        "id": "jGbP9kkSP9en",
        "outputId": "534dcdb4-a24d-4f3f-e27c-86013d4aa890"
      },
      "execution_count": 27,
      "outputs": [
        {
          "output_type": "execute_result",
          "data": {
            "text/plain": [
              "Index(['male', 'age', 'currentSmoker', 'cigsPerDay', 'BPMeds',\n",
              "       'prevalentStroke', 'prevalentHyp', 'diabetes', 'totChol', 'sysBP',\n",
              "       'diaBP', 'BMI', 'heartRate', 'glucose'],\n",
              "      dtype='object')"
            ]
          },
          "metadata": {},
          "execution_count": 27
        }
      ]
    },
    {
      "cell_type": "code",
      "source": [
        "filter = X_features.get_support()\n",
        "print(x.columns[filter])\n",
        "filtered_x = x.columns[filter]"
      ],
      "metadata": {
        "colab": {
          "base_uri": "https://localhost:8080/"
        },
        "id": "KyHIEw1jO_K7",
        "outputId": "ab253509-1df8-4e75-cd6f-4675658cfe9a"
      },
      "execution_count": 28,
      "outputs": [
        {
          "output_type": "stream",
          "name": "stdout",
          "text": [
            "Index(['age', 'cigsPerDay', 'BPMeds', 'prevalentHyp', 'diabetes', 'totChol',\n",
            "       'sysBP', 'diaBP', 'glucose'],\n",
            "      dtype='object')\n"
          ]
        }
      ]
    },
    {
      "cell_type": "code",
      "source": [
        "filtered_x = np.array(x.columns[filter])\n",
        "data_copy = data.copy()\n",
        "for col in data_copy.columns:\n",
        "  if col not in filtered_x:\n",
        "    data_copy.drop(col, axis = 1, inplace = True)\n",
        "data_copy.columns"
      ],
      "metadata": {
        "colab": {
          "base_uri": "https://localhost:8080/"
        },
        "id": "UYHgDuteQvTj",
        "outputId": "54427de8-0ef9-49b5-fe0b-455a9799c183"
      },
      "execution_count": 29,
      "outputs": [
        {
          "output_type": "execute_result",
          "data": {
            "text/plain": [
              "Index(['age', 'cigsPerDay', 'BPMeds', 'prevalentHyp', 'diabetes', 'totChol',\n",
              "       'sysBP', 'diaBP', 'glucose'],\n",
              "      dtype='object')"
            ]
          },
          "metadata": {},
          "execution_count": 29
        }
      ]
    },
    {
      "cell_type": "code",
      "source": [
        "data_copy.head()"
      ],
      "metadata": {
        "colab": {
          "base_uri": "https://localhost:8080/",
          "height": 206
        },
        "id": "T3vOgCiuR2Rn",
        "outputId": "b050f817-b70d-4c79-b69e-a670a13eb06a"
      },
      "execution_count": 30,
      "outputs": [
        {
          "output_type": "execute_result",
          "data": {
            "text/plain": [
              "   age  cigsPerDay  BPMeds  prevalentHyp  diabetes  totChol  sysBP  diaBP  \\\n",
              "0   39         0.0     0.0             0         0    195.0  106.0   70.0   \n",
              "1   46         0.0     0.0             0         0    250.0  121.0   81.0   \n",
              "2   48        20.0     0.0             0         0    245.0  127.5   80.0   \n",
              "3   61        30.0     0.0             1         0    225.0  150.0   95.0   \n",
              "4   46        23.0     0.0             0         0    285.0  130.0   84.0   \n",
              "\n",
              "   glucose  \n",
              "0     77.0  \n",
              "1     76.0  \n",
              "2     70.0  \n",
              "3    103.0  \n",
              "4     85.0  "
            ],
            "text/html": [
              "\n",
              "  <div id=\"df-10ff0308-d780-464b-81c4-32a6db1a3f6c\">\n",
              "    <div class=\"colab-df-container\">\n",
              "      <div>\n",
              "<style scoped>\n",
              "    .dataframe tbody tr th:only-of-type {\n",
              "        vertical-align: middle;\n",
              "    }\n",
              "\n",
              "    .dataframe tbody tr th {\n",
              "        vertical-align: top;\n",
              "    }\n",
              "\n",
              "    .dataframe thead th {\n",
              "        text-align: right;\n",
              "    }\n",
              "</style>\n",
              "<table border=\"1\" class=\"dataframe\">\n",
              "  <thead>\n",
              "    <tr style=\"text-align: right;\">\n",
              "      <th></th>\n",
              "      <th>age</th>\n",
              "      <th>cigsPerDay</th>\n",
              "      <th>BPMeds</th>\n",
              "      <th>prevalentHyp</th>\n",
              "      <th>diabetes</th>\n",
              "      <th>totChol</th>\n",
              "      <th>sysBP</th>\n",
              "      <th>diaBP</th>\n",
              "      <th>glucose</th>\n",
              "    </tr>\n",
              "  </thead>\n",
              "  <tbody>\n",
              "    <tr>\n",
              "      <th>0</th>\n",
              "      <td>39</td>\n",
              "      <td>0.0</td>\n",
              "      <td>0.0</td>\n",
              "      <td>0</td>\n",
              "      <td>0</td>\n",
              "      <td>195.0</td>\n",
              "      <td>106.0</td>\n",
              "      <td>70.0</td>\n",
              "      <td>77.0</td>\n",
              "    </tr>\n",
              "    <tr>\n",
              "      <th>1</th>\n",
              "      <td>46</td>\n",
              "      <td>0.0</td>\n",
              "      <td>0.0</td>\n",
              "      <td>0</td>\n",
              "      <td>0</td>\n",
              "      <td>250.0</td>\n",
              "      <td>121.0</td>\n",
              "      <td>81.0</td>\n",
              "      <td>76.0</td>\n",
              "    </tr>\n",
              "    <tr>\n",
              "      <th>2</th>\n",
              "      <td>48</td>\n",
              "      <td>20.0</td>\n",
              "      <td>0.0</td>\n",
              "      <td>0</td>\n",
              "      <td>0</td>\n",
              "      <td>245.0</td>\n",
              "      <td>127.5</td>\n",
              "      <td>80.0</td>\n",
              "      <td>70.0</td>\n",
              "    </tr>\n",
              "    <tr>\n",
              "      <th>3</th>\n",
              "      <td>61</td>\n",
              "      <td>30.0</td>\n",
              "      <td>0.0</td>\n",
              "      <td>1</td>\n",
              "      <td>0</td>\n",
              "      <td>225.0</td>\n",
              "      <td>150.0</td>\n",
              "      <td>95.0</td>\n",
              "      <td>103.0</td>\n",
              "    </tr>\n",
              "    <tr>\n",
              "      <th>4</th>\n",
              "      <td>46</td>\n",
              "      <td>23.0</td>\n",
              "      <td>0.0</td>\n",
              "      <td>0</td>\n",
              "      <td>0</td>\n",
              "      <td>285.0</td>\n",
              "      <td>130.0</td>\n",
              "      <td>84.0</td>\n",
              "      <td>85.0</td>\n",
              "    </tr>\n",
              "  </tbody>\n",
              "</table>\n",
              "</div>\n",
              "      <button class=\"colab-df-convert\" onclick=\"convertToInteractive('df-10ff0308-d780-464b-81c4-32a6db1a3f6c')\"\n",
              "              title=\"Convert this dataframe to an interactive table.\"\n",
              "              style=\"display:none;\">\n",
              "        \n",
              "  <svg xmlns=\"http://www.w3.org/2000/svg\" height=\"24px\"viewBox=\"0 0 24 24\"\n",
              "       width=\"24px\">\n",
              "    <path d=\"M0 0h24v24H0V0z\" fill=\"none\"/>\n",
              "    <path d=\"M18.56 5.44l.94 2.06.94-2.06 2.06-.94-2.06-.94-.94-2.06-.94 2.06-2.06.94zm-11 1L8.5 8.5l.94-2.06 2.06-.94-2.06-.94L8.5 2.5l-.94 2.06-2.06.94zm10 10l.94 2.06.94-2.06 2.06-.94-2.06-.94-.94-2.06-.94 2.06-2.06.94z\"/><path d=\"M17.41 7.96l-1.37-1.37c-.4-.4-.92-.59-1.43-.59-.52 0-1.04.2-1.43.59L10.3 9.45l-7.72 7.72c-.78.78-.78 2.05 0 2.83L4 21.41c.39.39.9.59 1.41.59.51 0 1.02-.2 1.41-.59l7.78-7.78 2.81-2.81c.8-.78.8-2.07 0-2.86zM5.41 20L4 18.59l7.72-7.72 1.47 1.35L5.41 20z\"/>\n",
              "  </svg>\n",
              "      </button>\n",
              "      \n",
              "  <style>\n",
              "    .colab-df-container {\n",
              "      display:flex;\n",
              "      flex-wrap:wrap;\n",
              "      gap: 12px;\n",
              "    }\n",
              "\n",
              "    .colab-df-convert {\n",
              "      background-color: #E8F0FE;\n",
              "      border: none;\n",
              "      border-radius: 50%;\n",
              "      cursor: pointer;\n",
              "      display: none;\n",
              "      fill: #1967D2;\n",
              "      height: 32px;\n",
              "      padding: 0 0 0 0;\n",
              "      width: 32px;\n",
              "    }\n",
              "\n",
              "    .colab-df-convert:hover {\n",
              "      background-color: #E2EBFA;\n",
              "      box-shadow: 0px 1px 2px rgba(60, 64, 67, 0.3), 0px 1px 3px 1px rgba(60, 64, 67, 0.15);\n",
              "      fill: #174EA6;\n",
              "    }\n",
              "\n",
              "    [theme=dark] .colab-df-convert {\n",
              "      background-color: #3B4455;\n",
              "      fill: #D2E3FC;\n",
              "    }\n",
              "\n",
              "    [theme=dark] .colab-df-convert:hover {\n",
              "      background-color: #434B5C;\n",
              "      box-shadow: 0px 1px 3px 1px rgba(0, 0, 0, 0.15);\n",
              "      filter: drop-shadow(0px 1px 2px rgba(0, 0, 0, 0.3));\n",
              "      fill: #FFFFFF;\n",
              "    }\n",
              "  </style>\n",
              "\n",
              "      <script>\n",
              "        const buttonEl =\n",
              "          document.querySelector('#df-10ff0308-d780-464b-81c4-32a6db1a3f6c button.colab-df-convert');\n",
              "        buttonEl.style.display =\n",
              "          google.colab.kernel.accessAllowed ? 'block' : 'none';\n",
              "\n",
              "        async function convertToInteractive(key) {\n",
              "          const element = document.querySelector('#df-10ff0308-d780-464b-81c4-32a6db1a3f6c');\n",
              "          const dataTable =\n",
              "            await google.colab.kernel.invokeFunction('convertToInteractive',\n",
              "                                                     [key], {});\n",
              "          if (!dataTable) return;\n",
              "\n",
              "          const docLinkHtml = 'Like what you see? Visit the ' +\n",
              "            '<a target=\"_blank\" href=https://colab.research.google.com/notebooks/data_table.ipynb>data table notebook</a>'\n",
              "            + ' to learn more about interactive tables.';\n",
              "          element.innerHTML = '';\n",
              "          dataTable['output_type'] = 'display_data';\n",
              "          await google.colab.output.renderOutput(dataTable, element);\n",
              "          const docLink = document.createElement('div');\n",
              "          docLink.innerHTML = docLinkHtml;\n",
              "          element.appendChild(docLink);\n",
              "        }\n",
              "      </script>\n",
              "    </div>\n",
              "  </div>\n",
              "  "
            ]
          },
          "metadata": {},
          "execution_count": 30
        }
      ]
    },
    {
      "cell_type": "code",
      "source": [
        "data_copy.shape"
      ],
      "metadata": {
        "colab": {
          "base_uri": "https://localhost:8080/"
        },
        "id": "J8h_Lfm8R6Wv",
        "outputId": "c7471c49-e144-4299-c927-043bef167501"
      },
      "execution_count": 31,
      "outputs": [
        {
          "output_type": "execute_result",
          "data": {
            "text/plain": [
              "(4240, 9)"
            ]
          },
          "metadata": {},
          "execution_count": 31
        }
      ]
    },
    {
      "cell_type": "markdown",
      "source": [
        "## Split into Features and Targets"
      ],
      "metadata": {
        "id": "j02ZaUIcSEQU"
      }
    },
    {
      "cell_type": "code",
      "source": [
        "x = data_copy.values\n",
        "y = data.iloc[:, -1].values"
      ],
      "metadata": {
        "id": "GLrq8pegSEC1"
      },
      "execution_count": 32,
      "outputs": []
    },
    {
      "cell_type": "markdown",
      "source": [
        "## Split into Test and Train Sets"
      ],
      "metadata": {
        "id": "G8COoDLzzCh4"
      }
    },
    {
      "cell_type": "code",
      "source": [
        "from sklearn.model_selection import train_test_split\n",
        "x_train, x_test, y_train, y_test = train_test_split(x, y, test_size = 0.2, random_state = 42)\n",
        "print('Shape x_train: ', x_train.shape)\n",
        "print('Shape x_test: ', x_test.shape)\n",
        "print('Shape y_train: ', y_train.shape)\n",
        "print('Shape y_test: ', y_test.shape)"
      ],
      "metadata": {
        "colab": {
          "base_uri": "https://localhost:8080/"
        },
        "id": "NAWuOPrbzG2n",
        "outputId": "21c87181-ee05-416f-95e8-6aed009bbd91"
      },
      "execution_count": 33,
      "outputs": [
        {
          "output_type": "stream",
          "name": "stdout",
          "text": [
            "Shape x_train:  (3392, 9)\n",
            "Shape x_test:  (848, 9)\n",
            "Shape y_train:  (3392,)\n",
            "Shape y_test:  (848,)\n"
          ]
        }
      ]
    },
    {
      "cell_type": "markdown",
      "source": [
        "## Standardization"
      ],
      "metadata": {
        "id": "-y-ag9voyj7m"
      }
    },
    {
      "cell_type": "code",
      "source": [
        "from sklearn.preprocessing import StandardScaler\n",
        "scaler = StandardScaler()\n",
        "scaler.fit(x_train)\n",
        "x_train = scaler.transform(x_train)\n",
        "x_test = scaler.transform(x_test)"
      ],
      "metadata": {
        "id": "lbAi95boylvu"
      },
      "execution_count": 34,
      "outputs": []
    },
    {
      "cell_type": "markdown",
      "source": [
        "## ML Techniques - Imbalanced Dataset\n",
        "\n",
        "\n",
        "\n"
      ],
      "metadata": {
        "id": "N8btfsj6sLuQ"
      }
    },
    {
      "cell_type": "code",
      "source": [
        "from sklearn.metrics import accuracy_score, ConfusionMatrixDisplay, classification_report, roc_curve, f1_score"
      ],
      "metadata": {
        "id": "yJVZCHJTzwSK"
      },
      "execution_count": 35,
      "outputs": []
    },
    {
      "cell_type": "markdown",
      "source": [
        "### k-Nearest Neighbours"
      ],
      "metadata": {
        "id": "nvsWQ2z1sOZl"
      }
    },
    {
      "cell_type": "code",
      "source": [
        "from sklearn.neighbors import KNeighborsClassifier\n",
        "kNN = KNeighborsClassifier()\n",
        "kNN.fit(x_train, y_train)\n",
        "kNN.get_params()"
      ],
      "metadata": {
        "id": "yu0g8zrusG76",
        "colab": {
          "base_uri": "https://localhost:8080/"
        },
        "outputId": "32db2e6d-de2a-4cb6-8c83-100479f1a8bf"
      },
      "execution_count": 36,
      "outputs": [
        {
          "output_type": "execute_result",
          "data": {
            "text/plain": [
              "{'algorithm': 'auto',\n",
              " 'leaf_size': 30,\n",
              " 'metric': 'minkowski',\n",
              " 'metric_params': None,\n",
              " 'n_jobs': None,\n",
              " 'n_neighbors': 5,\n",
              " 'p': 2,\n",
              " 'weights': 'uniform'}"
            ]
          },
          "metadata": {},
          "execution_count": 36
        }
      ]
    },
    {
      "cell_type": "code",
      "source": [
        "y_pred_kNN = kNN.predict(x_test)"
      ],
      "metadata": {
        "id": "w6CRt07QzqXY"
      },
      "execution_count": 37,
      "outputs": []
    },
    {
      "cell_type": "code",
      "source": [
        "y_pred_kNN_train = kNN.predict(x_train)\n",
        "print('Accuracy of training data: ', accuracy_score(y_train, y_pred_kNN_train))\n",
        "print('Accuracy of testing data: ', accuracy_score(y_test, y_pred_kNN))"
      ],
      "metadata": {
        "colab": {
          "base_uri": "https://localhost:8080/"
        },
        "id": "RAsWzY8azvem",
        "outputId": "00368b0f-79bb-4ff7-b347-adb9e2c1290e"
      },
      "execution_count": 38,
      "outputs": [
        {
          "output_type": "stream",
          "name": "stdout",
          "text": [
            "Accuracy of training data:  0.8691037735849056\n",
            "Accuracy of testing data:  0.8360849056603774\n"
          ]
        }
      ]
    },
    {
      "cell_type": "code",
      "source": [
        "print(classification_report(y_test, y_pred_kNN))"
      ],
      "metadata": {
        "colab": {
          "base_uri": "https://localhost:8080/"
        },
        "id": "OQ8f7ivm0KJc",
        "outputId": "3ee547eb-9a8c-4e4d-9377-8594233dd442"
      },
      "execution_count": 39,
      "outputs": [
        {
          "output_type": "stream",
          "name": "stdout",
          "text": [
            "              precision    recall  f1-score   support\n",
            "\n",
            "           0       0.86      0.97      0.91       725\n",
            "           1       0.25      0.07      0.10       123\n",
            "\n",
            "    accuracy                           0.84       848\n",
            "   macro avg       0.55      0.52      0.51       848\n",
            "weighted avg       0.77      0.84      0.79       848\n",
            "\n"
          ]
        }
      ]
    },
    {
      "cell_type": "code",
      "source": [
        "ConfusionMatrixDisplay.from_predictions(y_test, y_pred_kNN, colorbar=False)"
      ],
      "metadata": {
        "colab": {
          "base_uri": "https://localhost:8080/",
          "height": 302
        },
        "id": "pQwQqsKy0SCN",
        "outputId": "8afda7b5-5617-44d3-e671-9b1cc389ae97"
      },
      "execution_count": 40,
      "outputs": [
        {
          "output_type": "execute_result",
          "data": {
            "text/plain": [
              "<sklearn.metrics._plot.confusion_matrix.ConfusionMatrixDisplay at 0x7fdd08f4ba90>"
            ]
          },
          "metadata": {},
          "execution_count": 40
        },
        {
          "output_type": "display_data",
          "data": {
            "text/plain": [
              "<Figure size 432x288 with 1 Axes>"
            ],
            "image/png": "[encoded data removed]"
          },
          "metadata": {}
        }
      ]
    },
    {
      "cell_type": "markdown",
      "source": [
        "We immediately note that the false negatives is high, and the resulting F1 score is very low. This classifier predicts the '0' class (or the *No heart disease* class) accurately but fail to predict correctly if there actually is a heart disease. \n",
        "\n",
        "This goes on to show the importance of balancing the dataset."
      ],
      "metadata": {
        "id": "8uCIQGVS0ggy"
      }
    },
    {
      "cell_type": "markdown",
      "source": [
        "### Support Vector Machine"
      ],
      "metadata": {
        "id": "s2giUYqM4YUY"
      }
    },
    {
      "cell_type": "code",
      "source": [
        "from sklearn.svm import SVC\n",
        "support_vector_classifier = SVC()\n",
        "support_vector_classifier.fit(x_train, y_train)\n",
        "support_vector_classifier.get_params()"
      ],
      "metadata": {
        "colab": {
          "base_uri": "https://localhost:8080/"
        },
        "id": "75Pzr6PX4byj",
        "outputId": "2410eed2-79f3-4384-c60d-e8f17045d87d"
      },
      "execution_count": 41,
      "outputs": [
        {
          "output_type": "execute_result",
          "data": {
            "text/plain": [
              "{'C': 1.0,\n",
              " 'break_ties': False,\n",
              " 'cache_size': 200,\n",
              " 'class_weight': None,\n",
              " 'coef0': 0.0,\n",
              " 'decision_function_shape': 'ovr',\n",
              " 'degree': 3,\n",
              " 'gamma': 'scale',\n",
              " 'kernel': 'rbf',\n",
              " 'max_iter': -1,\n",
              " 'probability': False,\n",
              " 'random_state': None,\n",
              " 'shrinking': True,\n",
              " 'tol': 0.001,\n",
              " 'verbose': False}"
            ]
          },
          "metadata": {},
          "execution_count": 41
        }
      ]
    },
    {
      "cell_type": "code",
      "source": [
        "y_pred_SVC = support_vector_classifier.predict(x_test)"
      ],
      "metadata": {
        "id": "kiH9OZsb4bki"
      },
      "execution_count": 42,
      "outputs": []
    },
    {
      "cell_type": "code",
      "source": [
        "y_pred_SVC_train = support_vector_classifier.predict(x_train)\n",
        "print('Accuracy of training data: ', accuracy_score(y_train, y_pred_SVC_train))\n",
        "print('Accuracy of testing data: ', accuracy_score(y_test, y_pred_SVC))"
      ],
      "metadata": {
        "colab": {
          "base_uri": "https://localhost:8080/"
        },
        "id": "KIBuU-5h4bg3",
        "outputId": "08aa939a-411f-4e5a-cfe7-0a013f826109"
      },
      "execution_count": 43,
      "outputs": [
        {
          "output_type": "stream",
          "name": "stdout",
          "text": [
            "Accuracy of training data:  0.8555424528301887\n",
            "Accuracy of testing data:  0.8537735849056604\n"
          ]
        }
      ]
    },
    {
      "cell_type": "code",
      "source": [
        "print(classification_report(y_test, y_pred_SVC))"
      ],
      "metadata": {
        "colab": {
          "base_uri": "https://localhost:8080/"
        },
        "id": "1N3DKxdv5Jc7",
        "outputId": "e1f7b6e0-8219-4935-8520-009f48f57dc0"
      },
      "execution_count": 44,
      "outputs": [
        {
          "output_type": "stream",
          "name": "stdout",
          "text": [
            "              precision    recall  f1-score   support\n",
            "\n",
            "           0       0.85      1.00      0.92       725\n",
            "           1       0.00      0.00      0.00       123\n",
            "\n",
            "    accuracy                           0.85       848\n",
            "   macro avg       0.43      0.50      0.46       848\n",
            "weighted avg       0.73      0.85      0.79       848\n",
            "\n"
          ]
        }
      ]
    },
    {
      "cell_type": "code",
      "source": [
        "ConfusionMatrixDisplay.from_predictions(y_test, y_pred_SVC, colorbar=False)"
      ],
      "metadata": {
        "colab": {
          "base_uri": "https://localhost:8080/",
          "height": 0
        },
        "id": "xhWDIzoe5JAo",
        "outputId": "677cb7cf-b78e-4b67-9e16-aebcd40652dd"
      },
      "execution_count": 45,
      "outputs": [
        {
          "output_type": "execute_result",
          "data": {
            "text/plain": [
              "<sklearn.metrics._plot.confusion_matrix.ConfusionMatrixDisplay at 0x7fdd0807e670>"
            ]
          },
          "metadata": {},
          "execution_count": 45
        },
        {
          "output_type": "display_data",
          "data": {
            "text/plain": [
              "<Figure size 432x288 with 1 Axes>"
            ],
            "image/png": "[encoded data removed]"
          },
          "metadata": {}
        }
      ]
    },
    {
      "cell_type": "markdown",
      "source": [
        "The Support Vector Classifier performs worse than kNN in terms of F1-score. We continue with other algorithms."
      ],
      "metadata": {
        "id": "Z_x9vkWz6UfE"
      }
    },
    {
      "cell_type": "markdown",
      "source": [
        "### Naive Bayes"
      ],
      "metadata": {
        "id": "RjYcL1wu6d-J"
      }
    },
    {
      "cell_type": "code",
      "source": [
        "from sklearn.naive_bayes import GaussianNB\n",
        "Gaussian = GaussianNB()\n",
        "Gaussian.fit(x_train, y_train)\n",
        "Gaussian.get_params()"
      ],
      "metadata": {
        "colab": {
          "base_uri": "https://localhost:8080/"
        },
        "id": "EXMQvhg16gL0",
        "outputId": "8e3324c8-a2f5-452e-f576-e25ea65c00f7"
      },
      "execution_count": 46,
      "outputs": [
        {
          "output_type": "execute_result",
          "data": {
            "text/plain": [
              "{'priors': None, 'var_smoothing': 1e-09}"
            ]
          },
          "metadata": {},
          "execution_count": 46
        }
      ]
    },
    {
      "cell_type": "code",
      "source": [
        "y_pred_Gaussian = Gaussian.predict(x_test)"
      ],
      "metadata": {
        "id": "Bt4wkeqC6gIS"
      },
      "execution_count": 47,
      "outputs": []
    },
    {
      "cell_type": "code",
      "source": [
        "y_pred_Gaussian_train = Gaussian.predict(x_train)\n",
        "print('Accuracy of training data: ', accuracy_score(y_train, y_pred_Gaussian_train))\n",
        "print('Accuracy of testing data: ', accuracy_score(y_test, y_pred_Gaussian))"
      ],
      "metadata": {
        "colab": {
          "base_uri": "https://localhost:8080/"
        },
        "id": "RcRkONMy6gDE",
        "outputId": "0f7d2d4d-2a26-498f-d710-59759fea3343"
      },
      "execution_count": 48,
      "outputs": [
        {
          "output_type": "stream",
          "name": "stdout",
          "text": [
            "Accuracy of training data:  0.8172169811320755\n",
            "Accuracy of testing data:  0.8337264150943396\n"
          ]
        }
      ]
    },
    {
      "cell_type": "code",
      "source": [
        "print(classification_report(y_test, y_pred_Gaussian))"
      ],
      "metadata": {
        "colab": {
          "base_uri": "https://localhost:8080/"
        },
        "id": "oZWzPy6F69q0",
        "outputId": "2b3519dd-4763-4ac7-be88-551eabe70da6"
      },
      "execution_count": 49,
      "outputs": [
        {
          "output_type": "stream",
          "name": "stdout",
          "text": [
            "              precision    recall  f1-score   support\n",
            "\n",
            "           0       0.87      0.94      0.91       725\n",
            "           1       0.36      0.20      0.25       123\n",
            "\n",
            "    accuracy                           0.83       848\n",
            "   macro avg       0.62      0.57      0.58       848\n",
            "weighted avg       0.80      0.83      0.81       848\n",
            "\n"
          ]
        }
      ]
    },
    {
      "cell_type": "code",
      "source": [
        "ConfusionMatrixDisplay.from_predictions(y_test, y_pred_Gaussian, colorbar=False)"
      ],
      "metadata": {
        "colab": {
          "base_uri": "https://localhost:8080/",
          "height": 0
        },
        "id": "51cCvo4j69ec",
        "outputId": "90b879cb-e69f-4661-b8aa-62091845c77f"
      },
      "execution_count": 50,
      "outputs": [
        {
          "output_type": "execute_result",
          "data": {
            "text/plain": [
              "<sklearn.metrics._plot.confusion_matrix.ConfusionMatrixDisplay at 0x7fdd07ff7040>"
            ]
          },
          "metadata": {},
          "execution_count": 50
        },
        {
          "output_type": "display_data",
          "data": {
            "text/plain": [
              "<Figure size 432x288 with 1 Axes>"
            ],
            "image/png": "[encoded data removed]"
          },
          "metadata": {}
        }
      ]
    },
    {
      "cell_type": "markdown",
      "source": [
        "### Logistic Regression"
      ],
      "metadata": {
        "id": "Nr2sidhnGiG3"
      }
    },
    {
      "cell_type": "code",
      "source": [
        "from sklearn.linear_model import LogisticRegression\n",
        "log_reg = LogisticRegression()\n",
        "log_reg.fit(x_train, y_train)\n",
        "log_reg.get_params()"
      ],
      "metadata": {
        "colab": {
          "base_uri": "https://localhost:8080/"
        },
        "id": "L197fo4DGv6p",
        "outputId": "ecb1e830-bb99-4c54-99de-b8545813935b"
      },
      "execution_count": 51,
      "outputs": [
        {
          "output_type": "execute_result",
          "data": {
            "text/plain": [
              "{'C': 1.0,\n",
              " 'class_weight': None,\n",
              " 'dual': False,\n",
              " 'fit_intercept': True,\n",
              " 'intercept_scaling': 1,\n",
              " 'l1_ratio': None,\n",
              " 'max_iter': 100,\n",
              " 'multi_class': 'auto',\n",
              " 'n_jobs': None,\n",
              " 'penalty': 'l2',\n",
              " 'random_state': None,\n",
              " 'solver': 'lbfgs',\n",
              " 'tol': 0.0001,\n",
              " 'verbose': 0,\n",
              " 'warm_start': False}"
            ]
          },
          "metadata": {},
          "execution_count": 51
        }
      ]
    },
    {
      "cell_type": "code",
      "source": [
        "y_pred_log_reg = log_reg.predict(x_test)"
      ],
      "metadata": {
        "id": "4k_b_yjBGv26"
      },
      "execution_count": 52,
      "outputs": []
    },
    {
      "cell_type": "code",
      "source": [
        "y_pred_log_reg_train = log_reg.predict(x_train)\n",
        "print('Accuracy of training data: ', accuracy_score(y_train, y_pred_log_reg_train))\n",
        "print('Accuracy of testing data: ', accuracy_score(y_test, y_pred_log_reg))"
      ],
      "metadata": {
        "colab": {
          "base_uri": "https://localhost:8080/"
        },
        "id": "9PIMIMUPGv0Y",
        "outputId": "63bdd238-ee8f-4458-df84-92878c46b15c"
      },
      "execution_count": 53,
      "outputs": [
        {
          "output_type": "stream",
          "name": "stdout",
          "text": [
            "Accuracy of training data:  0.8537735849056604\n",
            "Accuracy of testing data:  0.8573113207547169\n"
          ]
        }
      ]
    },
    {
      "cell_type": "code",
      "source": [
        "print(classification_report(y_test, y_pred_log_reg))"
      ],
      "metadata": {
        "colab": {
          "base_uri": "https://localhost:8080/"
        },
        "id": "NYTV_vFRHmkC",
        "outputId": "b110c5b9-e5fc-4dfa-b522-114bf94dd704"
      },
      "execution_count": 54,
      "outputs": [
        {
          "output_type": "stream",
          "name": "stdout",
          "text": [
            "              precision    recall  f1-score   support\n",
            "\n",
            "           0       0.86      0.99      0.92       725\n",
            "           1       0.60      0.05      0.09       123\n",
            "\n",
            "    accuracy                           0.86       848\n",
            "   macro avg       0.73      0.52      0.51       848\n",
            "weighted avg       0.82      0.86      0.80       848\n",
            "\n"
          ]
        }
      ]
    },
    {
      "cell_type": "code",
      "source": [
        "ConfusionMatrixDisplay.from_predictions(y_test, y_pred_log_reg, colorbar=False)"
      ],
      "metadata": {
        "colab": {
          "base_uri": "https://localhost:8080/",
          "height": 0
        },
        "id": "aXAls-b1HsbK",
        "outputId": "04197f16-35f9-4198-f8d9-d51ae789d07a"
      },
      "execution_count": 55,
      "outputs": [
        {
          "output_type": "execute_result",
          "data": {
            "text/plain": [
              "<sklearn.metrics._plot.confusion_matrix.ConfusionMatrixDisplay at 0x7fdd07efa760>"
            ]
          },
          "metadata": {},
          "execution_count": 55
        },
        {
          "output_type": "display_data",
          "data": {
            "text/plain": [
              "<Figure size 432x288 with 1 Axes>"
            ],
            "image/png": "[encoded data removed]"
          },
          "metadata": {}
        }
      ]
    },
    {
      "cell_type": "markdown",
      "source": [
        "### Decision Tree Classifier"
      ],
      "metadata": {
        "id": "c9PLrIxSIvI0"
      }
    },
    {
      "cell_type": "code",
      "source": [
        "from sklearn.tree import DecisionTreeClassifier\n",
        "DT_classifier = DecisionTreeClassifier(random_state = 42)\n",
        "DT_classifier.fit(x_train, y_train)\n",
        "DT_classifier.get_params()"
      ],
      "metadata": {
        "colab": {
          "base_uri": "https://localhost:8080/"
        },
        "id": "jTO23oheIysh",
        "outputId": "2f4636b5-e054-491c-aae8-6bd28c6e79ef"
      },
      "execution_count": 56,
      "outputs": [
        {
          "output_type": "execute_result",
          "data": {
            "text/plain": [
              "{'ccp_alpha': 0.0,\n",
              " 'class_weight': None,\n",
              " 'criterion': 'gini',\n",
              " 'max_depth': None,\n",
              " 'max_features': None,\n",
              " 'max_leaf_nodes': None,\n",
              " 'min_impurity_decrease': 0.0,\n",
              " 'min_samples_leaf': 1,\n",
              " 'min_samples_split': 2,\n",
              " 'min_weight_fraction_leaf': 0.0,\n",
              " 'random_state': 42,\n",
              " 'splitter': 'best'}"
            ]
          },
          "metadata": {},
          "execution_count": 56
        }
      ]
    },
    {
      "cell_type": "code",
      "source": [
        "y_pred_DT = DT_classifier.predict(x_test)"
      ],
      "metadata": {
        "id": "5LNXMoLfIyo-"
      },
      "execution_count": 57,
      "outputs": []
    },
    {
      "cell_type": "code",
      "source": [
        "y_pred_DT_train = DT_classifier.predict(x_train)\n",
        "print('Accuracy of training data: ', accuracy_score(y_train, y_pred_DT_train))\n",
        "print('Accuracy of testing data: ', accuracy_score(y_test, y_pred_DT))"
      ],
      "metadata": {
        "colab": {
          "base_uri": "https://localhost:8080/"
        },
        "id": "R4CSSoaEIylN",
        "outputId": "373c6362-fe38-4672-859b-47b9f99f91a9"
      },
      "execution_count": 58,
      "outputs": [
        {
          "output_type": "stream",
          "name": "stdout",
          "text": [
            "Accuracy of training data:  1.0\n",
            "Accuracy of testing data:  0.7594339622641509\n"
          ]
        }
      ]
    },
    {
      "cell_type": "code",
      "source": [
        "print(classification_report(y_test, y_pred_DT))"
      ],
      "metadata": {
        "colab": {
          "base_uri": "https://localhost:8080/"
        },
        "id": "_R2cOBF0JTtS",
        "outputId": "8ecba508-d3a4-4f95-9dbb-b726c26863aa"
      },
      "execution_count": 59,
      "outputs": [
        {
          "output_type": "stream",
          "name": "stdout",
          "text": [
            "              precision    recall  f1-score   support\n",
            "\n",
            "           0       0.87      0.85      0.86       725\n",
            "           1       0.20      0.23      0.22       123\n",
            "\n",
            "    accuracy                           0.76       848\n",
            "   macro avg       0.54      0.54      0.54       848\n",
            "weighted avg       0.77      0.76      0.76       848\n",
            "\n"
          ]
        }
      ]
    },
    {
      "cell_type": "code",
      "source": [
        "ConfusionMatrixDisplay.from_predictions(y_test, y_pred_DT, colorbar=False)"
      ],
      "metadata": {
        "colab": {
          "base_uri": "https://localhost:8080/",
          "height": 0
        },
        "id": "D3KLm2zaJTmr",
        "outputId": "ac3f654a-aa7c-4111-cbb7-c45bc626cda5"
      },
      "execution_count": 60,
      "outputs": [
        {
          "output_type": "execute_result",
          "data": {
            "text/plain": [
              "<sklearn.metrics._plot.confusion_matrix.ConfusionMatrixDisplay at 0x7fdd07f9eaf0>"
            ]
          },
          "metadata": {},
          "execution_count": 60
        },
        {
          "output_type": "display_data",
          "data": {
            "text/plain": [
              "<Figure size 432x288 with 1 Axes>"
            ],
            "image/png": "[encoded data removed]"
          },
          "metadata": {}
        }
      ]
    },
    {
      "cell_type": "markdown",
      "source": [
        "### Random Forest Classifier"
      ],
      "metadata": {
        "id": "gQ8lhFJcKnj_"
      }
    },
    {
      "cell_type": "code",
      "source": [
        "from sklearn.ensemble import RandomForestClassifier\n",
        "RF_classifier = RandomForestClassifier(random_state = 42)\n",
        "RF_classifier.fit(x_train, y_train)\n",
        "RF_classifier.get_params()"
      ],
      "metadata": {
        "colab": {
          "base_uri": "https://localhost:8080/"
        },
        "id": "JMnpuwqMKrTI",
        "outputId": "dd8e3a86-9de2-4574-bf49-14d2abd1c1f0"
      },
      "execution_count": 61,
      "outputs": [
        {
          "output_type": "execute_result",
          "data": {
            "text/plain": [
              "{'bootstrap': True,\n",
              " 'ccp_alpha': 0.0,\n",
              " 'class_weight': None,\n",
              " 'criterion': 'gini',\n",
              " 'max_depth': None,\n",
              " 'max_features': 'auto',\n",
              " 'max_leaf_nodes': None,\n",
              " 'max_samples': None,\n",
              " 'min_impurity_decrease': 0.0,\n",
              " 'min_samples_leaf': 1,\n",
              " 'min_samples_split': 2,\n",
              " 'min_weight_fraction_leaf': 0.0,\n",
              " 'n_estimators': 100,\n",
              " 'n_jobs': None,\n",
              " 'oob_score': False,\n",
              " 'random_state': 42,\n",
              " 'verbose': 0,\n",
              " 'warm_start': False}"
            ]
          },
          "metadata": {},
          "execution_count": 61
        }
      ]
    },
    {
      "cell_type": "code",
      "source": [
        "y_pred_RF = RF_classifier.predict(x_test)"
      ],
      "metadata": {
        "id": "LnTk_QYLKrNq"
      },
      "execution_count": 62,
      "outputs": []
    },
    {
      "cell_type": "code",
      "source": [
        "y_pred_RF_train = RF_classifier.predict(x_train)\n",
        "print('Accuracy of training data: ', accuracy_score(y_train, y_pred_RF_train))\n",
        "print('Accuracy of testing data: ', accuracy_score(y_test, y_pred_RF))"
      ],
      "metadata": {
        "colab": {
          "base_uri": "https://localhost:8080/"
        },
        "id": "ZX2Nh9zJKrCQ",
        "outputId": "9b3058a4-af31-48d1-e9c6-c3b53cb46e5b"
      },
      "execution_count": 63,
      "outputs": [
        {
          "output_type": "stream",
          "name": "stdout",
          "text": [
            "Accuracy of training data:  1.0\n",
            "Accuracy of testing data:  0.8514150943396226\n"
          ]
        }
      ]
    },
    {
      "cell_type": "code",
      "source": [
        "print(classification_report(y_test, y_pred_RF))"
      ],
      "metadata": {
        "colab": {
          "base_uri": "https://localhost:8080/"
        },
        "id": "Zxft43YTKq80",
        "outputId": "da93dbdd-6183-4632-db09-b8f9955334ee"
      },
      "execution_count": 64,
      "outputs": [
        {
          "output_type": "stream",
          "name": "stdout",
          "text": [
            "              precision    recall  f1-score   support\n",
            "\n",
            "           0       0.86      0.98      0.92       725\n",
            "           1       0.42      0.07      0.11       123\n",
            "\n",
            "    accuracy                           0.85       848\n",
            "   macro avg       0.64      0.52      0.52       848\n",
            "weighted avg       0.80      0.85      0.80       848\n",
            "\n"
          ]
        }
      ]
    },
    {
      "cell_type": "code",
      "source": [
        "ConfusionMatrixDisplay.from_predictions(y_test, y_pred_RF, colorbar=False)"
      ],
      "metadata": {
        "colab": {
          "base_uri": "https://localhost:8080/",
          "height": 0
        },
        "id": "32rhT2TBKq5o",
        "outputId": "d37a1b86-330a-4ad6-f754-0b795cae95d8"
      },
      "execution_count": 65,
      "outputs": [
        {
          "output_type": "execute_result",
          "data": {
            "text/plain": [
              "<sklearn.metrics._plot.confusion_matrix.ConfusionMatrixDisplay at 0x7fdd079e0ca0>"
            ]
          },
          "metadata": {},
          "execution_count": 65
        },
        {
          "output_type": "display_data",
          "data": {
            "text/plain": [
              "<Figure size 432x288 with 1 Axes>"
            ],
            "image/png": "[encoded data removed]"
          },
          "metadata": {}
        }
      ]
    },
    {
      "cell_type": "markdown",
      "source": [
        "# Framingham Heart Study - Balancing the Dataset using ADASYN"
      ],
      "metadata": {
        "id": "1to7Rt5D1Fus"
      }
    },
    {
      "cell_type": "markdown",
      "source": [
        "We oversample the class using the ADAptive SYNthetic (ADASYN) Sampling Approach: "
      ],
      "metadata": {
        "id": "tStbMsMfxaDU"
      }
    },
    {
      "cell_type": "code",
      "source": [
        "from collections import Counter\n",
        "from imblearn.over_sampling import ADASYN\n",
        "oversampler = ADASYN()\n",
        "X, Y = oversampler.fit_resample(x, y)\n",
        "Counter(Y)"
      ],
      "metadata": {
        "colab": {
          "base_uri": "https://localhost:8080/"
        },
        "id": "HwF46J571Kxb",
        "outputId": "e472c118-be02-4e25-a180-82237e84c110"
      },
      "execution_count": 66,
      "outputs": [
        {
          "output_type": "execute_result",
          "data": {
            "text/plain": [
              "Counter({0: 3596, 1: 3629})"
            ]
          },
          "metadata": {},
          "execution_count": 66
        }
      ]
    },
    {
      "cell_type": "markdown",
      "source": [
        "We now have a balanced dataset. We can now split this into training and testing datasets."
      ],
      "metadata": {
        "id": "8kSEg5kW1hZ1"
      }
    },
    {
      "cell_type": "markdown",
      "source": [
        "## Split into Test and Train Sets"
      ],
      "metadata": {
        "id": "mUZz5J_k1oN_"
      }
    },
    {
      "cell_type": "code",
      "source": [
        "X_train, X_test, Y_train, Y_test = train_test_split(X, Y, test_size = 0.2, random_state = 42)\n",
        "print('Shape X_train: ', X_train.shape)\n",
        "print('Shape X_test: ', X_test.shape)\n",
        "print('Shape Y_train: ', Y_train.shape)\n",
        "print('Shape Y_test: ', Y_test.shape)"
      ],
      "metadata": {
        "colab": {
          "base_uri": "https://localhost:8080/"
        },
        "id": "iiyzxWL41uhF",
        "outputId": "b8cb9a14-2050-4cf8-c7cd-63796caf5504"
      },
      "execution_count": 67,
      "outputs": [
        {
          "output_type": "stream",
          "name": "stdout",
          "text": [
            "Shape X_train:  (5780, 9)\n",
            "Shape X_test:  (1445, 9)\n",
            "Shape Y_train:  (5780,)\n",
            "Shape Y_test:  (1445,)\n"
          ]
        }
      ]
    },
    {
      "cell_type": "markdown",
      "source": [
        "## Standardization"
      ],
      "metadata": {
        "id": "N8JcbTZj2DRn"
      }
    },
    {
      "cell_type": "code",
      "source": [
        "Scaler = StandardScaler()\n",
        "Scaler.fit(X_train)\n",
        "X_train = Scaler.transform(X_train)\n",
        "X_test = Scaler.transform(X_test)"
      ],
      "metadata": {
        "id": "Z4aft4cp2FX-"
      },
      "execution_count": 68,
      "outputs": []
    },
    {
      "cell_type": "markdown",
      "source": [
        "## ML Techniques - Balanced Dataset"
      ],
      "metadata": {
        "id": "Wkj64K_z0_6U"
      }
    },
    {
      "cell_type": "markdown",
      "source": [
        "### k-Nearest Neighbours"
      ],
      "metadata": {
        "id": "T6JGmPX02fli"
      }
    },
    {
      "cell_type": "code",
      "source": [
        "kNN_balanced = KNeighborsClassifier()\n",
        "kNN_balanced.fit(X_train, Y_train)\n",
        "kNN_balanced.get_params()"
      ],
      "metadata": {
        "colab": {
          "base_uri": "https://localhost:8080/"
        },
        "id": "brhwmIno2fVI",
        "outputId": "5dd8865b-6f70-41fa-92ff-67bf59f65637"
      },
      "execution_count": 69,
      "outputs": [
        {
          "output_type": "execute_result",
          "data": {
            "text/plain": [
              "{'algorithm': 'auto',\n",
              " 'leaf_size': 30,\n",
              " 'metric': 'minkowski',\n",
              " 'metric_params': None,\n",
              " 'n_jobs': None,\n",
              " 'n_neighbors': 5,\n",
              " 'p': 2,\n",
              " 'weights': 'uniform'}"
            ]
          },
          "metadata": {},
          "execution_count": 69
        }
      ]
    },
    {
      "cell_type": "code",
      "source": [
        "Y_pred_kNN = kNN_balanced.predict(X_test)"
      ],
      "metadata": {
        "id": "DiP1iRcV0dZO"
      },
      "execution_count": 70,
      "outputs": []
    },
    {
      "cell_type": "code",
      "source": [
        "Y_pred_kNN_train = kNN_balanced.predict(X_train)\n",
        "print('Accuracy of training data: ', accuracy_score(Y_train, Y_pred_kNN_train))\n",
        "print('Accuracy of testing data: ', accuracy_score(Y_test, Y_pred_kNN))"
      ],
      "metadata": {
        "colab": {
          "base_uri": "https://localhost:8080/"
        },
        "id": "Do_8J2M72yaD",
        "outputId": "48736b2e-c6ae-4917-9f9a-7cf2b66f7152"
      },
      "execution_count": 71,
      "outputs": [
        {
          "output_type": "stream",
          "name": "stdout",
          "text": [
            "Accuracy of training data:  0.8731833910034602\n",
            "Accuracy of testing data:  0.8110726643598616\n"
          ]
        }
      ]
    },
    {
      "cell_type": "code",
      "source": [
        "print(classification_report(Y_test, Y_pred_kNN))"
      ],
      "metadata": {
        "colab": {
          "base_uri": "https://localhost:8080/"
        },
        "id": "B2NfOj-43JM4",
        "outputId": "57f7856b-32f7-49d9-d67d-9a0ad0264a43"
      },
      "execution_count": 72,
      "outputs": [
        {
          "output_type": "stream",
          "name": "stdout",
          "text": [
            "              precision    recall  f1-score   support\n",
            "\n",
            "           0       0.93      0.68      0.79       748\n",
            "           1       0.74      0.95      0.83       697\n",
            "\n",
            "    accuracy                           0.81      1445\n",
            "   macro avg       0.83      0.82      0.81      1445\n",
            "weighted avg       0.84      0.81      0.81      1445\n",
            "\n"
          ]
        }
      ]
    },
    {
      "cell_type": "code",
      "source": [
        "ConfusionMatrixDisplay.from_predictions(Y_test, Y_pred_kNN, colorbar=False)"
      ],
      "metadata": {
        "colab": {
          "base_uri": "https://localhost:8080/",
          "height": 302
        },
        "id": "P2P2JXR-3TGx",
        "outputId": "6d0b81bc-a672-4b50-c2c9-ccfcc9a663a7"
      },
      "execution_count": 73,
      "outputs": [
        {
          "output_type": "execute_result",
          "data": {
            "text/plain": [
              "<sklearn.metrics._plot.confusion_matrix.ConfusionMatrixDisplay at 0x7fdd088ca370>"
            ]
          },
          "metadata": {},
          "execution_count": 73
        },
        {
          "output_type": "display_data",
          "data": {
            "text/plain": [
              "<Figure size 432x288 with 1 Axes>"
            ],
            "image/png": "[encoded data removed]"
          },
          "metadata": {}
        }
      ]
    },
    {
      "cell_type": "markdown",
      "source": [
        "### Support Vector Machine"
      ],
      "metadata": {
        "id": "F-SL7Hke5hzj"
      }
    },
    {
      "cell_type": "code",
      "source": [
        "support_vector_classifier_balanced = SVC()\n",
        "support_vector_classifier_balanced.fit(X_train, Y_train)\n",
        "support_vector_classifier_balanced.get_params()"
      ],
      "metadata": {
        "colab": {
          "base_uri": "https://localhost:8080/"
        },
        "id": "oNgAs5MG3dEZ",
        "outputId": "b6036a50-59b2-4ee5-ddd2-f0c6697a3421"
      },
      "execution_count": 74,
      "outputs": [
        {
          "output_type": "execute_result",
          "data": {
            "text/plain": [
              "{'C': 1.0,\n",
              " 'break_ties': False,\n",
              " 'cache_size': 200,\n",
              " 'class_weight': None,\n",
              " 'coef0': 0.0,\n",
              " 'decision_function_shape': 'ovr',\n",
              " 'degree': 3,\n",
              " 'gamma': 'scale',\n",
              " 'kernel': 'rbf',\n",
              " 'max_iter': -1,\n",
              " 'probability': False,\n",
              " 'random_state': None,\n",
              " 'shrinking': True,\n",
              " 'tol': 0.001,\n",
              " 'verbose': False}"
            ]
          },
          "metadata": {},
          "execution_count": 74
        }
      ]
    },
    {
      "cell_type": "code",
      "source": [
        "Y_pred_SVC = support_vector_classifier_balanced.predict(X_test)"
      ],
      "metadata": {
        "id": "DBtFWfRP5qca"
      },
      "execution_count": 75,
      "outputs": []
    },
    {
      "cell_type": "code",
      "source": [
        "Y_pred_SVC_train = support_vector_classifier_balanced.predict(X_train)\n",
        "print('Accuracy of training data: ', accuracy_score(Y_train, Y_pred_SVC_train))\n",
        "print('Accuracy of testing data: ', accuracy_score(Y_test, Y_pred_SVC))"
      ],
      "metadata": {
        "colab": {
          "base_uri": "https://localhost:8080/"
        },
        "id": "IMuapqRa5v0O",
        "outputId": "ac32bc2f-a8fa-44d9-a7b9-9d2680bf6bd0"
      },
      "execution_count": 76,
      "outputs": [
        {
          "output_type": "stream",
          "name": "stdout",
          "text": [
            "Accuracy of training data:  0.71280276816609\n",
            "Accuracy of testing data:  0.701038062283737\n"
          ]
        }
      ]
    },
    {
      "cell_type": "code",
      "source": [
        "print(classification_report(Y_test, Y_pred_SVC))"
      ],
      "metadata": {
        "colab": {
          "base_uri": "https://localhost:8080/"
        },
        "id": "NalRwC-i53RB",
        "outputId": "ab63540d-8444-4b9e-ce7f-4cd4fd9426d1"
      },
      "execution_count": 77,
      "outputs": [
        {
          "output_type": "stream",
          "name": "stdout",
          "text": [
            "              precision    recall  f1-score   support\n",
            "\n",
            "           0       0.73      0.67      0.70       748\n",
            "           1       0.67      0.74      0.70       697\n",
            "\n",
            "    accuracy                           0.70      1445\n",
            "   macro avg       0.70      0.70      0.70      1445\n",
            "weighted avg       0.70      0.70      0.70      1445\n",
            "\n"
          ]
        }
      ]
    },
    {
      "cell_type": "code",
      "source": [
        "ConfusionMatrixDisplay.from_predictions(Y_test, Y_pred_SVC, colorbar=False)"
      ],
      "metadata": {
        "colab": {
          "base_uri": "https://localhost:8080/",
          "height": 302
        },
        "id": "ZKk9VfYT6LCr",
        "outputId": "6d398922-c1c1-4494-d476-c99628388928"
      },
      "execution_count": 78,
      "outputs": [
        {
          "output_type": "execute_result",
          "data": {
            "text/plain": [
              "<sklearn.metrics._plot.confusion_matrix.ConfusionMatrixDisplay at 0x7fdd0807ef40>"
            ]
          },
          "metadata": {},
          "execution_count": 78
        },
        {
          "output_type": "display_data",
          "data": {
            "text/plain": [
              "<Figure size 432x288 with 1 Axes>"
            ],
            "image/png": "[encoded data removed]"
          },
          "metadata": {}
        }
      ]
    },
    {
      "cell_type": "markdown",
      "source": [
        "### Naive Bayes"
      ],
      "metadata": {
        "id": "xuItOQKX8Ai7"
      }
    },
    {
      "cell_type": "code",
      "source": [
        "Gaussian_balanced = GaussianNB()\n",
        "Gaussian_balanced.fit(X_train, Y_train)\n",
        "Gaussian_balanced.get_params()"
      ],
      "metadata": {
        "colab": {
          "base_uri": "https://localhost:8080/"
        },
        "id": "_V2DCjGR6RXu",
        "outputId": "d9bf0267-e323-40be-b414-4e74dac5fb96"
      },
      "execution_count": 79,
      "outputs": [
        {
          "output_type": "execute_result",
          "data": {
            "text/plain": [
              "{'priors': None, 'var_smoothing': 1e-09}"
            ]
          },
          "metadata": {},
          "execution_count": 79
        }
      ]
    },
    {
      "cell_type": "code",
      "source": [
        "Y_pred_Gaussian = Gaussian_balanced.predict(X_test)"
      ],
      "metadata": {
        "id": "llakJbaM8tGp"
      },
      "execution_count": 80,
      "outputs": []
    },
    {
      "cell_type": "code",
      "source": [
        "Y_pred_Gaussian_train = Gaussian_balanced.predict(X_train)\n",
        "print('Accuracy of training data: ', accuracy_score(Y_train, Y_pred_Gaussian_train))\n",
        "print('Accuracy of testing data: ', accuracy_score(Y_test, Y_pred_Gaussian))"
      ],
      "metadata": {
        "colab": {
          "base_uri": "https://localhost:8080/"
        },
        "id": "7GJcS0rwEIm0",
        "outputId": "34b3dc1e-771f-40c1-eb5d-d9a39bcd5267"
      },
      "execution_count": 81,
      "outputs": [
        {
          "output_type": "stream",
          "name": "stdout",
          "text": [
            "Accuracy of training data:  0.5935986159169551\n",
            "Accuracy of testing data:  0.5986159169550173\n"
          ]
        }
      ]
    },
    {
      "cell_type": "code",
      "source": [
        "print(classification_report(Y_test, Y_pred_Gaussian))"
      ],
      "metadata": {
        "colab": {
          "base_uri": "https://localhost:8080/"
        },
        "id": "5dmHml8xEigU",
        "outputId": "ae5b2a0d-de09-4a17-8f7b-592d6b2bd920"
      },
      "execution_count": 82,
      "outputs": [
        {
          "output_type": "stream",
          "name": "stdout",
          "text": [
            "              precision    recall  f1-score   support\n",
            "\n",
            "           0       0.58      0.80      0.67       748\n",
            "           1       0.64      0.38      0.48       697\n",
            "\n",
            "    accuracy                           0.60      1445\n",
            "   macro avg       0.61      0.59      0.58      1445\n",
            "weighted avg       0.61      0.60      0.58      1445\n",
            "\n"
          ]
        }
      ]
    },
    {
      "cell_type": "code",
      "source": [
        "ConfusionMatrixDisplay.from_predictions(Y_test, Y_pred_Gaussian, colorbar=False)"
      ],
      "metadata": {
        "colab": {
          "base_uri": "https://localhost:8080/",
          "height": 302
        },
        "id": "MW7Tzw85EnLE",
        "outputId": "33a69ea1-b713-463d-f690-03275742e029"
      },
      "execution_count": 83,
      "outputs": [
        {
          "output_type": "execute_result",
          "data": {
            "text/plain": [
              "<sklearn.metrics._plot.confusion_matrix.ConfusionMatrixDisplay at 0x7fdd075f9850>"
            ]
          },
          "metadata": {},
          "execution_count": 83
        },
        {
          "output_type": "display_data",
          "data": {
            "text/plain": [
              "<Figure size 432x288 with 1 Axes>"
            ],
            "image/png": "[encoded data removed]"
          },
          "metadata": {}
        }
      ]
    },
    {
      "cell_type": "markdown",
      "source": [
        "### Logistic Regression"
      ],
      "metadata": {
        "id": "gPysex7wH1aL"
      }
    },
    {
      "cell_type": "code",
      "source": [
        "log_reg_balanced = LogisticRegression()\n",
        "log_reg_balanced.fit(X_train, Y_train)\n",
        "log_reg_balanced.get_params()"
      ],
      "metadata": {
        "colab": {
          "base_uri": "https://localhost:8080/"
        },
        "id": "oGISqER6Es3Z",
        "outputId": "77524fbc-836a-4eb9-8cf2-ec1c60c98dd3"
      },
      "execution_count": 84,
      "outputs": [
        {
          "output_type": "execute_result",
          "data": {
            "text/plain": [
              "{'C': 1.0,\n",
              " 'class_weight': None,\n",
              " 'dual': False,\n",
              " 'fit_intercept': True,\n",
              " 'intercept_scaling': 1,\n",
              " 'l1_ratio': None,\n",
              " 'max_iter': 100,\n",
              " 'multi_class': 'auto',\n",
              " 'n_jobs': None,\n",
              " 'penalty': 'l2',\n",
              " 'random_state': None,\n",
              " 'solver': 'lbfgs',\n",
              " 'tol': 0.0001,\n",
              " 'verbose': 0,\n",
              " 'warm_start': False}"
            ]
          },
          "metadata": {},
          "execution_count": 84
        }
      ]
    },
    {
      "cell_type": "code",
      "source": [
        "Y_pred_log_reg = log_reg_balanced.predict(X_test)"
      ],
      "metadata": {
        "id": "cctq0MLEH_uc"
      },
      "execution_count": 85,
      "outputs": []
    },
    {
      "cell_type": "code",
      "source": [
        "Y_pred_log_reg_train = log_reg_balanced.predict(X_train)\n",
        "print('Accuracy of training data: ', accuracy_score(Y_train, Y_pred_log_reg_train))\n",
        "print('Accuracy of testing data: ', accuracy_score(Y_test, Y_pred_log_reg))"
      ],
      "metadata": {
        "colab": {
          "base_uri": "https://localhost:8080/"
        },
        "id": "fML4_iPVIFHz",
        "outputId": "defc27e3-6fec-4182-cad5-3e6e3a857685"
      },
      "execution_count": 86,
      "outputs": [
        {
          "output_type": "stream",
          "name": "stdout",
          "text": [
            "Accuracy of training data:  0.6468858131487889\n",
            "Accuracy of testing data:  0.6581314878892733\n"
          ]
        }
      ]
    },
    {
      "cell_type": "code",
      "source": [
        "print(classification_report(Y_test, Y_pred_log_reg))"
      ],
      "metadata": {
        "colab": {
          "base_uri": "https://localhost:8080/"
        },
        "id": "c8YuPh0YIhSJ",
        "outputId": "d7841ecb-878c-429a-8892-8d0a8f7645cd"
      },
      "execution_count": 87,
      "outputs": [
        {
          "output_type": "stream",
          "name": "stdout",
          "text": [
            "              precision    recall  f1-score   support\n",
            "\n",
            "           0       0.68      0.64      0.66       748\n",
            "           1       0.64      0.67      0.66       697\n",
            "\n",
            "    accuracy                           0.66      1445\n",
            "   macro avg       0.66      0.66      0.66      1445\n",
            "weighted avg       0.66      0.66      0.66      1445\n",
            "\n"
          ]
        }
      ]
    },
    {
      "cell_type": "code",
      "source": [
        "ConfusionMatrixDisplay.from_predictions(Y_test, Y_pred_log_reg, colorbar=False)"
      ],
      "metadata": {
        "colab": {
          "base_uri": "https://localhost:8080/",
          "height": 0
        },
        "id": "5rzkblUAIluG",
        "outputId": "da2ca5af-cf1f-449d-f1a6-b88aa2f117ca"
      },
      "execution_count": 88,
      "outputs": [
        {
          "output_type": "execute_result",
          "data": {
            "text/plain": [
              "<sklearn.metrics._plot.confusion_matrix.ConfusionMatrixDisplay at 0x7fdd07510910>"
            ]
          },
          "metadata": {},
          "execution_count": 88
        },
        {
          "output_type": "display_data",
          "data": {
            "text/plain": [
              "<Figure size 432x288 with 1 Axes>"
            ],
            "image/png": "[encoded data removed]"
          },
          "metadata": {}
        }
      ]
    },
    {
      "cell_type": "markdown",
      "source": [
        "### Decision Tree Classifier"
      ],
      "metadata": {
        "id": "LK4nEJPVJqKg"
      }
    },
    {
      "cell_type": "code",
      "source": [
        "DT_classifier_balanced = DecisionTreeClassifier(random_state = 42)\n",
        "DT_classifier_balanced.fit(X_train, Y_train)\n",
        "DT_classifier_balanced.get_params()"
      ],
      "metadata": {
        "colab": {
          "base_uri": "https://localhost:8080/"
        },
        "id": "8wmlUlscIqMy",
        "outputId": "05139dc6-6dbf-487f-c5b8-ffb37c0a9139"
      },
      "execution_count": 89,
      "outputs": [
        {
          "output_type": "execute_result",
          "data": {
            "text/plain": [
              "{'ccp_alpha': 0.0,\n",
              " 'class_weight': None,\n",
              " 'criterion': 'gini',\n",
              " 'max_depth': None,\n",
              " 'max_features': None,\n",
              " 'max_leaf_nodes': None,\n",
              " 'min_impurity_decrease': 0.0,\n",
              " 'min_samples_leaf': 1,\n",
              " 'min_samples_split': 2,\n",
              " 'min_weight_fraction_leaf': 0.0,\n",
              " 'random_state': 42,\n",
              " 'splitter': 'best'}"
            ]
          },
          "metadata": {},
          "execution_count": 89
        }
      ]
    },
    {
      "cell_type": "code",
      "source": [
        "Y_pred_DT = DT_classifier_balanced.predict(X_test)"
      ],
      "metadata": {
        "id": "z4soPh6qJ2kL"
      },
      "execution_count": 90,
      "outputs": []
    },
    {
      "cell_type": "code",
      "source": [
        "Y_pred_DT_train = DT_classifier_balanced.predict(X_train)\n",
        "print('Accuracy of training data: ', accuracy_score(Y_train, Y_pred_DT_train))\n",
        "print('Accuracy of testing data: ', accuracy_score(Y_test, Y_pred_DT))"
      ],
      "metadata": {
        "colab": {
          "base_uri": "https://localhost:8080/"
        },
        "id": "0urbxhUoJ63j",
        "outputId": "e331c464-b695-4691-9828-ac33d680f4f1"
      },
      "execution_count": 91,
      "outputs": [
        {
          "output_type": "stream",
          "name": "stdout",
          "text": [
            "Accuracy of training data:  1.0\n",
            "Accuracy of testing data:  0.8006920415224914\n"
          ]
        }
      ]
    },
    {
      "cell_type": "code",
      "source": [
        "print(classification_report(Y_test, Y_pred_DT))"
      ],
      "metadata": {
        "colab": {
          "base_uri": "https://localhost:8080/"
        },
        "id": "LBdB5ztoKBiP",
        "outputId": "18148948-4136-4bd8-ccaa-b61d5938ae37"
      },
      "execution_count": 92,
      "outputs": [
        {
          "output_type": "stream",
          "name": "stdout",
          "text": [
            "              precision    recall  f1-score   support\n",
            "\n",
            "           0       0.82      0.78      0.80       748\n",
            "           1       0.78      0.82      0.80       697\n",
            "\n",
            "    accuracy                           0.80      1445\n",
            "   macro avg       0.80      0.80      0.80      1445\n",
            "weighted avg       0.80      0.80      0.80      1445\n",
            "\n"
          ]
        }
      ]
    },
    {
      "cell_type": "code",
      "source": [
        "ConfusionMatrixDisplay.from_predictions(Y_test, Y_pred_DT, colorbar=False)"
      ],
      "metadata": {
        "colab": {
          "base_uri": "https://localhost:8080/",
          "height": 0
        },
        "id": "psoWYW9TKHJR",
        "outputId": "efca0cce-bbe6-4508-9bec-4b8cd721eb8f"
      },
      "execution_count": 93,
      "outputs": [
        {
          "output_type": "execute_result",
          "data": {
            "text/plain": [
              "<sklearn.metrics._plot.confusion_matrix.ConfusionMatrixDisplay at 0x7fdd0750dcd0>"
            ]
          },
          "metadata": {},
          "execution_count": 93
        },
        {
          "output_type": "display_data",
          "data": {
            "text/plain": [
              "<Figure size 432x288 with 1 Axes>"
            ],
            "image/png": "[encoded data removed]"
          },
          "metadata": {}
        }
      ]
    },
    {
      "cell_type": "markdown",
      "source": [
        "### Random Forest Classifier"
      ],
      "metadata": {
        "id": "0t7CZpVDLkdT"
      }
    },
    {
      "cell_type": "code",
      "source": [
        "RF_classifier_balanced = RandomForestClassifier(random_state = 42)\n",
        "RF_classifier_balanced.fit(X_train, Y_train)\n",
        "RF_classifier_balanced.get_params()"
      ],
      "metadata": {
        "colab": {
          "base_uri": "https://localhost:8080/"
        },
        "id": "jmY3B93PKMv9",
        "outputId": "ea1edbc4-8f53-4245-9f38-f25f9bcbda55"
      },
      "execution_count": 94,
      "outputs": [
        {
          "output_type": "execute_result",
          "data": {
            "text/plain": [
              "{'bootstrap': True,\n",
              " 'ccp_alpha': 0.0,\n",
              " 'class_weight': None,\n",
              " 'criterion': 'gini',\n",
              " 'max_depth': None,\n",
              " 'max_features': 'auto',\n",
              " 'max_leaf_nodes': None,\n",
              " 'max_samples': None,\n",
              " 'min_impurity_decrease': 0.0,\n",
              " 'min_samples_leaf': 1,\n",
              " 'min_samples_split': 2,\n",
              " 'min_weight_fraction_leaf': 0.0,\n",
              " 'n_estimators': 100,\n",
              " 'n_jobs': None,\n",
              " 'oob_score': False,\n",
              " 'random_state': 42,\n",
              " 'verbose': 0,\n",
              " 'warm_start': False}"
            ]
          },
          "metadata": {},
          "execution_count": 94
        }
      ]
    },
    {
      "cell_type": "code",
      "source": [
        "Y_pred_RF = RF_classifier_balanced.predict(X_test)"
      ],
      "metadata": {
        "id": "94ar7LJYL9tu"
      },
      "execution_count": 95,
      "outputs": []
    },
    {
      "cell_type": "code",
      "source": [
        "Y_pred_RF_train = RF_classifier_balanced.predict(X_train)\n",
        "print('Accuracy of training data: ', accuracy_score(Y_train, Y_pred_RF_train))\n",
        "print('Accuracy of testing data: ', accuracy_score(Y_test, Y_pred_RF))"
      ],
      "metadata": {
        "colab": {
          "base_uri": "https://localhost:8080/"
        },
        "id": "T1XGdaAxMCv6",
        "outputId": "0d140d63-410d-45ad-fa30-0847ff14d16a"
      },
      "execution_count": 96,
      "outputs": [
        {
          "output_type": "stream",
          "name": "stdout",
          "text": [
            "Accuracy of training data:  1.0\n",
            "Accuracy of testing data:  0.8948096885813149\n"
          ]
        }
      ]
    },
    {
      "cell_type": "code",
      "source": [
        "print(classification_report(Y_test, Y_pred_RF))"
      ],
      "metadata": {
        "colab": {
          "base_uri": "https://localhost:8080/"
        },
        "id": "fS5S0f4OMIjh",
        "outputId": "8d541cdf-1bc3-4bc4-8fd9-c0c3c1b3f9f6"
      },
      "execution_count": 97,
      "outputs": [
        {
          "output_type": "stream",
          "name": "stdout",
          "text": [
            "              precision    recall  f1-score   support\n",
            "\n",
            "           0       0.92      0.88      0.90       748\n",
            "           1       0.87      0.91      0.89       697\n",
            "\n",
            "    accuracy                           0.89      1445\n",
            "   macro avg       0.89      0.90      0.89      1445\n",
            "weighted avg       0.90      0.89      0.89      1445\n",
            "\n"
          ]
        }
      ]
    },
    {
      "cell_type": "code",
      "source": [
        "ConfusionMatrixDisplay.from_predictions(Y_test, Y_pred_RF, colorbar=False)"
      ],
      "metadata": {
        "colab": {
          "base_uri": "https://localhost:8080/",
          "height": 302
        },
        "id": "X5xIqLA-MM_a",
        "outputId": "a3714273-c73f-4f9e-b0d4-3ba21a1bd781"
      },
      "execution_count": 98,
      "outputs": [
        {
          "output_type": "execute_result",
          "data": {
            "text/plain": [
              "<sklearn.metrics._plot.confusion_matrix.ConfusionMatrixDisplay at 0x7fdd074c1850>"
            ]
          },
          "metadata": {},
          "execution_count": 98
        },
        {
          "output_type": "display_data",
          "data": {
            "text/plain": [
              "<Figure size 432x288 with 1 Axes>"
            ],
            "image/png": "[encoded data removed]"
          },
          "metadata": {}
        }
      ]
    },
    {
      "cell_type": "markdown",
      "source": [
        "# Framingham Heart Study - Balancing the Dataset using SMOTE"
      ],
      "metadata": {
        "id": "0RUKAJLGurD5"
      }
    },
    {
      "cell_type": "markdown",
      "source": [
        "We balance the dataset using SMOTE (Synthetic Minoriy Oversampling TEchnique)."
      ],
      "metadata": {
        "id": "PUvk2ZCJvcR6"
      }
    },
    {
      "cell_type": "code",
      "source": [
        "from collections import Counter\n",
        "from imblearn.over_sampling import SMOTE\n",
        "oversampler_SMOTE = SMOTE()\n",
        "X_SMOTE, Y_SMOTE = oversampler_SMOTE.fit_resample(x, y)\n",
        "Counter(Y_SMOTE)"
      ],
      "metadata": {
        "colab": {
          "base_uri": "https://localhost:8080/"
        },
        "id": "pj5fbHCWu1d0",
        "outputId": "31613f33-36cc-4145-b5a6-fd8e8313c173"
      },
      "execution_count": 99,
      "outputs": [
        {
          "output_type": "execute_result",
          "data": {
            "text/plain": [
              "Counter({0: 3596, 1: 3596})"
            ]
          },
          "metadata": {},
          "execution_count": 99
        }
      ]
    },
    {
      "cell_type": "markdown",
      "source": [
        "## Split into Test and Train Sets"
      ],
      "metadata": {
        "id": "hcBf_nnMvEOH"
      }
    },
    {
      "cell_type": "code",
      "source": [
        "X_train_SMOTE, X_test_SMOTE, Y_train_SMOTE, Y_test_SMOTE = train_test_split(X_SMOTE, Y_SMOTE, test_size = 0.2, random_state = 42)\n",
        "print('Shape X_train: ', X_train_SMOTE.shape)\n",
        "print('Shape X_test: ', X_test_SMOTE.shape)\n",
        "print('Shape Y_train: ', Y_train_SMOTE.shape)\n",
        "print('Shape Y_test: ', Y_test_SMOTE.shape)"
      ],
      "metadata": {
        "colab": {
          "base_uri": "https://localhost:8080/"
        },
        "id": "5oDiPwi8vPmG",
        "outputId": "9df5db7d-d1d8-467a-9381-133ce090731e"
      },
      "execution_count": 100,
      "outputs": [
        {
          "output_type": "stream",
          "name": "stdout",
          "text": [
            "Shape X_train:  (5753, 9)\n",
            "Shape X_test:  (1439, 9)\n",
            "Shape Y_train:  (5753,)\n",
            "Shape Y_test:  (1439,)\n"
          ]
        }
      ]
    },
    {
      "cell_type": "markdown",
      "source": [
        "## Standardization"
      ],
      "metadata": {
        "id": "RGpmBmFUvHQ0"
      }
    },
    {
      "cell_type": "code",
      "source": [
        "Scaler = StandardScaler()\n",
        "Scaler.fit(X_train_SMOTE)\n",
        "X_train_SMOTE = Scaler.transform(X_train_SMOTE)\n",
        "X_test_SMOTE = Scaler.transform(X_test_SMOTE)"
      ],
      "metadata": {
        "id": "Moz2DVjYvnTy"
      },
      "execution_count": 101,
      "outputs": []
    },
    {
      "cell_type": "markdown",
      "source": [
        "## ML Techniques - Balanced Dataset"
      ],
      "metadata": {
        "id": "nS3kvK-KvKVe"
      }
    },
    {
      "cell_type": "markdown",
      "source": [
        "### k-Nearest Neighbours"
      ],
      "metadata": {
        "id": "9g6mJmqFv8pv"
      }
    },
    {
      "cell_type": "code",
      "source": [
        "kNN_balanced_SMOTE = KNeighborsClassifier()\n",
        "kNN_balanced_SMOTE.fit(X_train_SMOTE, Y_train_SMOTE)\n",
        "kNN_balanced_SMOTE.get_params()"
      ],
      "metadata": {
        "colab": {
          "base_uri": "https://localhost:8080/"
        },
        "outputId": "aa2c4d3e-1059-4007-b836-903033db4bac",
        "id": "PWyVVLORv8pw"
      },
      "execution_count": 102,
      "outputs": [
        {
          "output_type": "execute_result",
          "data": {
            "text/plain": [
              "{'algorithm': 'auto',\n",
              " 'leaf_size': 30,\n",
              " 'metric': 'minkowski',\n",
              " 'metric_params': None,\n",
              " 'n_jobs': None,\n",
              " 'n_neighbors': 5,\n",
              " 'p': 2,\n",
              " 'weights': 'uniform'}"
            ]
          },
          "metadata": {},
          "execution_count": 102
        }
      ]
    },
    {
      "cell_type": "code",
      "source": [
        "Y_pred_kNN_SMOTE = kNN_balanced_SMOTE.predict(X_test_SMOTE)"
      ],
      "metadata": {
        "id": "feECEDkiv8px"
      },
      "execution_count": 103,
      "outputs": []
    },
    {
      "cell_type": "code",
      "source": [
        "Y_pred_kNN_SMOTE_train = kNN_balanced_SMOTE.predict(X_train_SMOTE)\n",
        "print('Accuracy of training data: ', accuracy_score(Y_train_SMOTE, Y_pred_kNN_SMOTE_train))\n",
        "print('Accuracy of testing data: ', accuracy_score(Y_test_SMOTE, Y_pred_kNN_SMOTE))"
      ],
      "metadata": {
        "colab": {
          "base_uri": "https://localhost:8080/"
        },
        "outputId": "6c218b79-201d-4312-cc70-5d3e5be5ef09",
        "id": "kke3rfBCv8px"
      },
      "execution_count": 104,
      "outputs": [
        {
          "output_type": "stream",
          "name": "stdout",
          "text": [
            "Accuracy of training data:  0.8656353207022424\n",
            "Accuracy of testing data:  0.8116747741487144\n"
          ]
        }
      ]
    },
    {
      "cell_type": "code",
      "source": [
        "print(classification_report(Y_test_SMOTE, Y_pred_kNN_SMOTE))"
      ],
      "metadata": {
        "colab": {
          "base_uri": "https://localhost:8080/"
        },
        "outputId": "92a9b127-a61e-4eef-bad6-8adb37278e59",
        "id": "mjeOzNVTv8py"
      },
      "execution_count": 105,
      "outputs": [
        {
          "output_type": "stream",
          "name": "stdout",
          "text": [
            "              precision    recall  f1-score   support\n",
            "\n",
            "           0       0.88      0.74      0.80       745\n",
            "           1       0.76      0.89      0.82       694\n",
            "\n",
            "    accuracy                           0.81      1439\n",
            "   macro avg       0.82      0.81      0.81      1439\n",
            "weighted avg       0.82      0.81      0.81      1439\n",
            "\n"
          ]
        }
      ]
    },
    {
      "cell_type": "code",
      "source": [
        "ConfusionMatrixDisplay.from_predictions(Y_test_SMOTE, Y_pred_kNN_SMOTE, colorbar=False)"
      ],
      "metadata": {
        "colab": {
          "base_uri": "https://localhost:8080/",
          "height": 302
        },
        "outputId": "4407e04a-19ef-415a-c541-09dc6c370849",
        "id": "_GBBUcwOv8py"
      },
      "execution_count": 106,
      "outputs": [
        {
          "output_type": "execute_result",
          "data": {
            "text/plain": [
              "<sklearn.metrics._plot.confusion_matrix.ConfusionMatrixDisplay at 0x7fdd074759d0>"
            ]
          },
          "metadata": {},
          "execution_count": 106
        },
        {
          "output_type": "display_data",
          "data": {
            "text/plain": [
              "<Figure size 432x288 with 1 Axes>"
            ],
            "image/png": "[encoded data removed]"
          },
          "metadata": {}
        }
      ]
    },
    {
      "cell_type": "markdown",
      "source": [
        "The F1-score of the kNN Classifier has improved drastically but the precision is still not considerably good. We can check the performance of other algorithms."
      ],
      "metadata": {
        "id": "PUGnTKUfv8pz"
      }
    },
    {
      "cell_type": "markdown",
      "source": [
        "### Support Vector Machine"
      ],
      "metadata": {
        "id": "5Ti-n7Hxwn2j"
      }
    },
    {
      "cell_type": "code",
      "source": [
        "support_vector_classifier_balanced_SMOTE = SVC()\n",
        "support_vector_classifier_balanced_SMOTE.fit(X_train_SMOTE, Y_train_SMOTE)\n",
        "support_vector_classifier_balanced_SMOTE.get_params()"
      ],
      "metadata": {
        "colab": {
          "base_uri": "https://localhost:8080/"
        },
        "outputId": "45e89fe1-0e73-4832-8547-6a4d649be817",
        "id": "nb_yt1V5wn2j"
      },
      "execution_count": 107,
      "outputs": [
        {
          "output_type": "execute_result",
          "data": {
            "text/plain": [
              "{'C': 1.0,\n",
              " 'break_ties': False,\n",
              " 'cache_size': 200,\n",
              " 'class_weight': None,\n",
              " 'coef0': 0.0,\n",
              " 'decision_function_shape': 'ovr',\n",
              " 'degree': 3,\n",
              " 'gamma': 'scale',\n",
              " 'kernel': 'rbf',\n",
              " 'max_iter': -1,\n",
              " 'probability': False,\n",
              " 'random_state': None,\n",
              " 'shrinking': True,\n",
              " 'tol': 0.001,\n",
              " 'verbose': False}"
            ]
          },
          "metadata": {},
          "execution_count": 107
        }
      ]
    },
    {
      "cell_type": "code",
      "source": [
        "Y_pred_SVC_SMOTE = support_vector_classifier_balanced_SMOTE.predict(X_test_SMOTE)"
      ],
      "metadata": {
        "id": "Q6WTU1gmwn2k"
      },
      "execution_count": 108,
      "outputs": []
    },
    {
      "cell_type": "code",
      "source": [
        "Y_pred_SVC_SMOTE_train = support_vector_classifier_balanced_SMOTE.predict(X_train_SMOTE)\n",
        "print('Accuracy of training data: ', accuracy_score(Y_train_SMOTE, Y_pred_SVC_SMOTE_train))\n",
        "print('Accuracy of testing data: ', accuracy_score(Y_test_SMOTE, Y_pred_SVC_SMOTE))"
      ],
      "metadata": {
        "colab": {
          "base_uri": "https://localhost:8080/"
        },
        "outputId": "2feedf24-014d-412a-a605-520c275bcc9b",
        "id": "W3BkziKxwn2k"
      },
      "execution_count": 109,
      "outputs": [
        {
          "output_type": "stream",
          "name": "stdout",
          "text": [
            "Accuracy of training data:  0.7204936554840953\n",
            "Accuracy of testing data:  0.7136900625434329\n"
          ]
        }
      ]
    },
    {
      "cell_type": "code",
      "source": [
        "print(classification_report(Y_test_SMOTE, Y_pred_SVC_SMOTE))"
      ],
      "metadata": {
        "colab": {
          "base_uri": "https://localhost:8080/"
        },
        "outputId": "86d41264-0368-4fd8-9113-159e0987f868",
        "id": "l8AKiA-fwn2l"
      },
      "execution_count": 110,
      "outputs": [
        {
          "output_type": "stream",
          "name": "stdout",
          "text": [
            "              precision    recall  f1-score   support\n",
            "\n",
            "           0       0.72      0.72      0.72       745\n",
            "           1       0.70      0.70      0.70       694\n",
            "\n",
            "    accuracy                           0.71      1439\n",
            "   macro avg       0.71      0.71      0.71      1439\n",
            "weighted avg       0.71      0.71      0.71      1439\n",
            "\n"
          ]
        }
      ]
    },
    {
      "cell_type": "code",
      "source": [
        "ConfusionMatrixDisplay.from_predictions(Y_test_SMOTE, Y_pred_SVC_SMOTE, colorbar=False)"
      ],
      "metadata": {
        "colab": {
          "base_uri": "https://localhost:8080/",
          "height": 302
        },
        "outputId": "2a0d29ac-74de-4850-c2a4-4605d6582ca5",
        "id": "wOcPQgTBwn2l"
      },
      "execution_count": 111,
      "outputs": [
        {
          "output_type": "execute_result",
          "data": {
            "text/plain": [
              "<sklearn.metrics._plot.confusion_matrix.ConfusionMatrixDisplay at 0x7fdd073c2e50>"
            ]
          },
          "metadata": {},
          "execution_count": 111
        },
        {
          "output_type": "display_data",
          "data": {
            "text/plain": [
              "<Figure size 432x288 with 1 Axes>"
            ],
            "image/png": "[encoded data removed]"
          },
          "metadata": {}
        }
      ]
    },
    {
      "cell_type": "markdown",
      "source": [
        "### Naive Bayes"
      ],
      "metadata": {
        "id": "8G-ea7ozxTKQ"
      }
    },
    {
      "cell_type": "code",
      "source": [
        "Gaussian_balanced_SMOTE = GaussianNB()\n",
        "Gaussian_balanced_SMOTE.fit(X_train_SMOTE, Y_train_SMOTE)\n",
        "Gaussian_balanced_SMOTE.get_params()"
      ],
      "metadata": {
        "colab": {
          "base_uri": "https://localhost:8080/"
        },
        "outputId": "a0a965ee-73dc-4959-da8a-7fb55e193f8b",
        "id": "XoUmjcvOxTKR"
      },
      "execution_count": 112,
      "outputs": [
        {
          "output_type": "execute_result",
          "data": {
            "text/plain": [
              "{'priors': None, 'var_smoothing': 1e-09}"
            ]
          },
          "metadata": {},
          "execution_count": 112
        }
      ]
    },
    {
      "cell_type": "code",
      "source": [
        "Y_pred_Gaussian_SMOTE = Gaussian_balanced_SMOTE.predict(X_test_SMOTE)"
      ],
      "metadata": {
        "id": "NSWFj627xTKS"
      },
      "execution_count": 113,
      "outputs": []
    },
    {
      "cell_type": "code",
      "source": [
        "Y_pred_Gaussian_SMOTE_train = Gaussian_balanced_SMOTE.predict(X_train_SMOTE)\n",
        "print('Accuracy of training data: ', accuracy_score(Y_train_SMOTE, Y_pred_Gaussian_SMOTE_train))\n",
        "print('Accuracy of testing data: ', accuracy_score(Y_test_SMOTE, Y_pred_Gaussian_SMOTE))"
      ],
      "metadata": {
        "colab": {
          "base_uri": "https://localhost:8080/"
        },
        "outputId": "88361b56-9d70-4524-9294-c6ed796503d1",
        "id": "FZbpX0OExTKT"
      },
      "execution_count": 114,
      "outputs": [
        {
          "output_type": "stream",
          "name": "stdout",
          "text": [
            "Accuracy of training data:  0.6153311315835216\n",
            "Accuracy of testing data:  0.6108408617095205\n"
          ]
        }
      ]
    },
    {
      "cell_type": "code",
      "source": [
        "print(classification_report(Y_test_SMOTE, Y_pred_Gaussian_SMOTE))"
      ],
      "metadata": {
        "colab": {
          "base_uri": "https://localhost:8080/"
        },
        "outputId": "ea0717cc-006d-446e-fff4-1622b40d975d",
        "id": "mv2libMQxTKT"
      },
      "execution_count": 115,
      "outputs": [
        {
          "output_type": "stream",
          "name": "stdout",
          "text": [
            "              precision    recall  f1-score   support\n",
            "\n",
            "           0       0.59      0.84      0.69       745\n",
            "           1       0.68      0.36      0.47       694\n",
            "\n",
            "    accuracy                           0.61      1439\n",
            "   macro avg       0.63      0.60      0.58      1439\n",
            "weighted avg       0.63      0.61      0.59      1439\n",
            "\n"
          ]
        }
      ]
    },
    {
      "cell_type": "code",
      "source": [
        "ConfusionMatrixDisplay.from_predictions(Y_test_SMOTE, Y_pred_Gaussian_SMOTE, colorbar=False)"
      ],
      "metadata": {
        "colab": {
          "base_uri": "https://localhost:8080/",
          "height": 302
        },
        "outputId": "914447ec-c3ec-4927-dd26-35aa21f5850d",
        "id": "eIaNkDWHxTKU"
      },
      "execution_count": 116,
      "outputs": [
        {
          "output_type": "execute_result",
          "data": {
            "text/plain": [
              "<sklearn.metrics._plot.confusion_matrix.ConfusionMatrixDisplay at 0x7fdd073880d0>"
            ]
          },
          "metadata": {},
          "execution_count": 116
        },
        {
          "output_type": "display_data",
          "data": {
            "text/plain": [
              "<Figure size 432x288 with 1 Axes>"
            ],
            "image/png": "[encoded data removed]"
          },
          "metadata": {}
        }
      ]
    },
    {
      "cell_type": "markdown",
      "source": [
        "### Logistic Regression"
      ],
      "metadata": {
        "id": "VB5b7uqkxTKU"
      }
    },
    {
      "cell_type": "code",
      "source": [
        "log_reg_balanced_SMOTE = LogisticRegression()\n",
        "log_reg_balanced_SMOTE.fit(X_train_SMOTE, Y_train_SMOTE)\n",
        "log_reg_balanced_SMOTE.get_params()"
      ],
      "metadata": {
        "colab": {
          "base_uri": "https://localhost:8080/"
        },
        "outputId": "4878a14b-a99d-4077-9153-9431680985e5",
        "id": "DzKpsaIjxTKV"
      },
      "execution_count": 117,
      "outputs": [
        {
          "output_type": "execute_result",
          "data": {
            "text/plain": [
              "{'C': 1.0,\n",
              " 'class_weight': None,\n",
              " 'dual': False,\n",
              " 'fit_intercept': True,\n",
              " 'intercept_scaling': 1,\n",
              " 'l1_ratio': None,\n",
              " 'max_iter': 100,\n",
              " 'multi_class': 'auto',\n",
              " 'n_jobs': None,\n",
              " 'penalty': 'l2',\n",
              " 'random_state': None,\n",
              " 'solver': 'lbfgs',\n",
              " 'tol': 0.0001,\n",
              " 'verbose': 0,\n",
              " 'warm_start': False}"
            ]
          },
          "metadata": {},
          "execution_count": 117
        }
      ]
    },
    {
      "cell_type": "code",
      "source": [
        "Y_pred_log_reg_SMOTE = log_reg_balanced_SMOTE.predict(X_test_SMOTE)"
      ],
      "metadata": {
        "id": "Cpt-GCIZxTKV"
      },
      "execution_count": 118,
      "outputs": []
    },
    {
      "cell_type": "code",
      "source": [
        "Y_pred_log_reg_SMOTE_train = log_reg_balanced_SMOTE.predict(X_train_SMOTE)\n",
        "print('Accuracy of training data: ', accuracy_score(Y_train_SMOTE, Y_pred_log_reg_SMOTE_train))\n",
        "print('Accuracy of testing data: ', accuracy_score(Y_test_SMOTE, Y_pred_log_reg_SMOTE))"
      ],
      "metadata": {
        "colab": {
          "base_uri": "https://localhost:8080/"
        },
        "outputId": "277ff75e-a2f7-41b9-ec60-d299fa1c38ec",
        "id": "97t33uCAxTKW"
      },
      "execution_count": 119,
      "outputs": [
        {
          "output_type": "stream",
          "name": "stdout",
          "text": [
            "Accuracy of training data:  0.6695637058925777\n",
            "Accuracy of testing data:  0.6643502432244615\n"
          ]
        }
      ]
    },
    {
      "cell_type": "code",
      "source": [
        "print(classification_report(Y_test_SMOTE, Y_pred_log_reg_SMOTE))"
      ],
      "metadata": {
        "colab": {
          "base_uri": "https://localhost:8080/"
        },
        "outputId": "f5e6d821-1283-4890-8402-71ae98e63021",
        "id": "3YCFip6gxTKX"
      },
      "execution_count": 120,
      "outputs": [
        {
          "output_type": "stream",
          "name": "stdout",
          "text": [
            "              precision    recall  f1-score   support\n",
            "\n",
            "           0       0.68      0.66      0.67       745\n",
            "           1       0.65      0.67      0.66       694\n",
            "\n",
            "    accuracy                           0.66      1439\n",
            "   macro avg       0.66      0.66      0.66      1439\n",
            "weighted avg       0.66      0.66      0.66      1439\n",
            "\n"
          ]
        }
      ]
    },
    {
      "cell_type": "code",
      "source": [
        "ConfusionMatrixDisplay.from_predictions(Y_test_SMOTE, Y_pred_log_reg_SMOTE, colorbar=False)"
      ],
      "metadata": {
        "colab": {
          "base_uri": "https://localhost:8080/",
          "height": 302
        },
        "outputId": "c70a464b-56fc-4f01-8186-458916404ac3",
        "id": "MI4T02cOxTKX"
      },
      "execution_count": 121,
      "outputs": [
        {
          "output_type": "execute_result",
          "data": {
            "text/plain": [
              "<sklearn.metrics._plot.confusion_matrix.ConfusionMatrixDisplay at 0x7fdd07360e50>"
            ]
          },
          "metadata": {},
          "execution_count": 121
        },
        {
          "output_type": "display_data",
          "data": {
            "text/plain": [
              "<Figure size 432x288 with 1 Axes>"
            ],
            "image/png": "[encoded data removed]"
          },
          "metadata": {}
        }
      ]
    },
    {
      "cell_type": "markdown",
      "source": [
        "### Decision Tree Classifier"
      ],
      "metadata": {
        "id": "Vgapuxe5xTKY"
      }
    },
    {
      "cell_type": "code",
      "source": [
        "DT_classifier_balanced_SMOTE = DecisionTreeClassifier(random_state = 42)\n",
        "DT_classifier_balanced_SMOTE.fit(X_train_SMOTE, Y_train_SMOTE)\n",
        "DT_classifier_balanced_SMOTE.get_params()"
      ],
      "metadata": {
        "colab": {
          "base_uri": "https://localhost:8080/"
        },
        "outputId": "580dbb2c-f505-43e7-e085-cefcb096f802",
        "id": "YsQaNoqkxTKY"
      },
      "execution_count": 122,
      "outputs": [
        {
          "output_type": "execute_result",
          "data": {
            "text/plain": [
              "{'ccp_alpha': 0.0,\n",
              " 'class_weight': None,\n",
              " 'criterion': 'gini',\n",
              " 'max_depth': None,\n",
              " 'max_features': None,\n",
              " 'max_leaf_nodes': None,\n",
              " 'min_impurity_decrease': 0.0,\n",
              " 'min_samples_leaf': 1,\n",
              " 'min_samples_split': 2,\n",
              " 'min_weight_fraction_leaf': 0.0,\n",
              " 'random_state': 42,\n",
              " 'splitter': 'best'}"
            ]
          },
          "metadata": {},
          "execution_count": 122
        }
      ]
    },
    {
      "cell_type": "code",
      "source": [
        "Y_pred_DT_SMOTE = DT_classifier_balanced_SMOTE.predict(X_test_SMOTE)"
      ],
      "metadata": {
        "id": "caGWWtduxTKZ"
      },
      "execution_count": 123,
      "outputs": []
    },
    {
      "cell_type": "code",
      "source": [
        "Y_pred_DT_SMOTE_train = DT_classifier_balanced_SMOTE.predict(X_train_SMOTE)\n",
        "print('Accuracy of training data: ', accuracy_score(Y_train_SMOTE, Y_pred_DT_SMOTE_train))\n",
        "print('Accuracy of testing data: ', accuracy_score(Y_test_SMOTE, Y_pred_DT_SMOTE))"
      ],
      "metadata": {
        "colab": {
          "base_uri": "https://localhost:8080/"
        },
        "outputId": "88b2953e-f9a5-410a-a238-463279ad588b",
        "id": "DbGoI6cPxTKZ"
      },
      "execution_count": 124,
      "outputs": [
        {
          "output_type": "stream",
          "name": "stdout",
          "text": [
            "Accuracy of training data:  1.0\n",
            "Accuracy of testing data:  0.7873523280055594\n"
          ]
        }
      ]
    },
    {
      "cell_type": "code",
      "source": [
        "print(classification_report(Y_test_SMOTE, Y_pred_DT_SMOTE))"
      ],
      "metadata": {
        "colab": {
          "base_uri": "https://localhost:8080/"
        },
        "outputId": "963a21b5-35f8-4a31-ea82-5e879d630826",
        "id": "z8xvVFF2xTKa"
      },
      "execution_count": 125,
      "outputs": [
        {
          "output_type": "stream",
          "name": "stdout",
          "text": [
            "              precision    recall  f1-score   support\n",
            "\n",
            "           0       0.80      0.79      0.79       745\n",
            "           1       0.77      0.79      0.78       694\n",
            "\n",
            "    accuracy                           0.79      1439\n",
            "   macro avg       0.79      0.79      0.79      1439\n",
            "weighted avg       0.79      0.79      0.79      1439\n",
            "\n"
          ]
        }
      ]
    },
    {
      "cell_type": "code",
      "source": [
        "ConfusionMatrixDisplay.from_predictions(Y_test_SMOTE, Y_pred_DT_SMOTE, colorbar=False)"
      ],
      "metadata": {
        "colab": {
          "base_uri": "https://localhost:8080/",
          "height": 302
        },
        "outputId": "e98622bd-7f99-4a43-a765-c473caee8623",
        "id": "SdtFuQE2xTKb"
      },
      "execution_count": 126,
      "outputs": [
        {
          "output_type": "execute_result",
          "data": {
            "text/plain": [
              "<sklearn.metrics._plot.confusion_matrix.ConfusionMatrixDisplay at 0x7fdd0735cdf0>"
            ]
          },
          "metadata": {},
          "execution_count": 126
        },
        {
          "output_type": "display_data",
          "data": {
            "text/plain": [
              "<Figure size 432x288 with 1 Axes>"
            ],
            "image/png": "[encoded data removed]"
          },
          "metadata": {}
        }
      ]
    },
    {
      "cell_type": "markdown",
      "source": [
        "### Random Forest Classifier"
      ],
      "metadata": {
        "id": "jshMzEZIxTKb"
      }
    },
    {
      "cell_type": "code",
      "source": [
        "RF_classifier_balanced_SMOTE = RandomForestClassifier(random_state = 42)\n",
        "RF_classifier_balanced_SMOTE.fit(X_train_SMOTE, Y_train_SMOTE)\n",
        "RF_classifier_balanced_SMOTE.get_params()"
      ],
      "metadata": {
        "colab": {
          "base_uri": "https://localhost:8080/"
        },
        "outputId": "99aa676a-463f-4eff-a43c-62cfa49479bd",
        "id": "e7hWD_7txTKb"
      },
      "execution_count": 127,
      "outputs": [
        {
          "output_type": "execute_result",
          "data": {
            "text/plain": [
              "{'bootstrap': True,\n",
              " 'ccp_alpha': 0.0,\n",
              " 'class_weight': None,\n",
              " 'criterion': 'gini',\n",
              " 'max_depth': None,\n",
              " 'max_features': 'auto',\n",
              " 'max_leaf_nodes': None,\n",
              " 'max_samples': None,\n",
              " 'min_impurity_decrease': 0.0,\n",
              " 'min_samples_leaf': 1,\n",
              " 'min_samples_split': 2,\n",
              " 'min_weight_fraction_leaf': 0.0,\n",
              " 'n_estimators': 100,\n",
              " 'n_jobs': None,\n",
              " 'oob_score': False,\n",
              " 'random_state': 42,\n",
              " 'verbose': 0,\n",
              " 'warm_start': False}"
            ]
          },
          "metadata": {},
          "execution_count": 127
        }
      ]
    },
    {
      "cell_type": "code",
      "source": [
        "Y_pred_RF_SMOTE = RF_classifier_balanced_SMOTE.predict(X_test_SMOTE)"
      ],
      "metadata": {
        "id": "ZkvoDKx4xTKc"
      },
      "execution_count": 128,
      "outputs": []
    },
    {
      "cell_type": "code",
      "source": [
        "Y_pred_RF_SMOTE_train = RF_classifier_balanced_SMOTE.predict(X_train_SMOTE)\n",
        "print('Accuracy of training data: ', accuracy_score(Y_train_SMOTE, Y_pred_RF_SMOTE_train))\n",
        "print('Accuracy of testing data: ', accuracy_score(Y_test_SMOTE, Y_pred_RF_SMOTE))"
      ],
      "metadata": {
        "colab": {
          "base_uri": "https://localhost:8080/"
        },
        "outputId": "5068d7be-51cd-4f45-b828-5daa210653c0",
        "id": "oLyZOkh8xTKc"
      },
      "execution_count": 129,
      "outputs": [
        {
          "output_type": "stream",
          "name": "stdout",
          "text": [
            "Accuracy of training data:  1.0\n",
            "Accuracy of testing data:  0.8679638637943016\n"
          ]
        }
      ]
    },
    {
      "cell_type": "code",
      "source": [
        "print(classification_report(Y_test_SMOTE, Y_pred_RF_SMOTE))"
      ],
      "metadata": {
        "colab": {
          "base_uri": "https://localhost:8080/"
        },
        "outputId": "a4ed9958-e6b0-450e-e464-c1bf4e842c94",
        "id": "Wggo7SosxTKd"
      },
      "execution_count": 130,
      "outputs": [
        {
          "output_type": "stream",
          "name": "stdout",
          "text": [
            "              precision    recall  f1-score   support\n",
            "\n",
            "           0       0.86      0.89      0.87       745\n",
            "           1       0.87      0.85      0.86       694\n",
            "\n",
            "    accuracy                           0.87      1439\n",
            "   macro avg       0.87      0.87      0.87      1439\n",
            "weighted avg       0.87      0.87      0.87      1439\n",
            "\n"
          ]
        }
      ]
    },
    {
      "cell_type": "code",
      "source": [
        "ConfusionMatrixDisplay.from_predictions(Y_test_SMOTE, Y_pred_RF_SMOTE, colorbar=False)"
      ],
      "metadata": {
        "colab": {
          "base_uri": "https://localhost:8080/",
          "height": 302
        },
        "outputId": "4f34a57a-0c79-419c-9b1c-995727581432",
        "id": "QfInsAVqxTKd"
      },
      "execution_count": 131,
      "outputs": [
        {
          "output_type": "execute_result",
          "data": {
            "text/plain": [
              "<sklearn.metrics._plot.confusion_matrix.ConfusionMatrixDisplay at 0x7fdd0744aac0>"
            ]
          },
          "metadata": {},
          "execution_count": 131
        },
        {
          "output_type": "display_data",
          "data": {
            "text/plain": [
              "<Figure size 432x288 with 1 Axes>"
            ],
            "image/png": "[encoded data removed]"
          },
          "metadata": {}
        }
      ]
    },
    {
      "cell_type": "markdown",
      "source": [
        "# ROC Curve"
      ],
      "metadata": {
        "id": "fECy0EOtMWXW"
      }
    },
    {
      "cell_type": "code",
      "source": [
        "plt.plot([0,1], [0,1], ':')\n",
        "fpr1, tpr1, thresholds = roc_curve(y_test, y_pred_kNN)\n",
        "plt.plot(fpr1, tpr1, '--', label='kNN Classifier')\n",
        "fpr2, tpr2, thresholds = roc_curve(y_test, y_pred_SVC)\n",
        "plt.plot(fpr2, tpr2, '--', label='SVC')\n",
        "fpr3, tpr3, thresholds = roc_curve(y_test, y_pred_Gaussian)\n",
        "plt.plot(fpr3, tpr3, '--', label='Naive Bayes Classifier')\n",
        "fpr4, tpr4, thresholds = roc_curve(y_test, y_pred_log_reg)\n",
        "plt.plot(fpr4, tpr4, '--', label='Logistic Regression')\n",
        "fpr5, tpr5, thresholds = roc_curve(y_test, y_pred_DT)\n",
        "plt.plot(fpr5, tpr5, '--', label='Decision Tree Classifier')\n",
        "fpr6, tpr6, thresholds = roc_curve(y_test, y_pred_RF)\n",
        "plt.plot(fpr6, tpr6, '--', label='Random Forest Classifier')\n",
        "\n",
        "fpr7, tpr7, thresholds = roc_curve(Y_test, Y_pred_kNN)\n",
        "plt.plot(fpr7, tpr7, '-', label='kNN Classifier (ADASYN)')\n",
        "fpr8, tpr8, thresholds = roc_curve(Y_test, Y_pred_SVC)\n",
        "plt.plot(fpr8, tpr8, '-', label='SVC (ADASYN)')\n",
        "fpr9, tpr9, thresholds = roc_curve(Y_test, Y_pred_Gaussian)\n",
        "plt.plot(fpr9, tpr9, '-', label='Naive Bayes Classifier (ADASYN)')\n",
        "fpr10, tpr10, thresholds = roc_curve(Y_test, Y_pred_log_reg)\n",
        "plt.plot(fpr10, tpr10, '-', label='Logistic Regression (ADASYN)')\n",
        "fpr11, tpr11, thresholds = roc_curve(Y_test, Y_pred_DT)\n",
        "plt.plot(fpr11, tpr11, '-', label='Decision Tree Classifier (ADASYN)')\n",
        "fpr12, tpr12, thresholds = roc_curve(Y_test, Y_pred_RF)\n",
        "plt.plot(fpr12, tpr12, '-', label='Random Forest Classifier (ADASYN)')\n",
        "\n",
        "fpr13, tpr13, thresholds = roc_curve(Y_test_SMOTE, Y_pred_kNN_SMOTE)\n",
        "plt.plot(fpr13, tpr13, ':', label='kNN Classifier (SMOTE)')\n",
        "fpr14, tpr14, thresholds = roc_curve(Y_test_SMOTE, Y_pred_SVC_SMOTE)\n",
        "plt.plot(fpr14, tpr14, ':', label='SVC (SMOTE)')\n",
        "fpr15, tpr15, thresholds = roc_curve(Y_test_SMOTE, Y_pred_Gaussian_SMOTE)\n",
        "plt.plot(fpr15, tpr15, ':', label='Naive Bayes Classifier (SMOTE)')\n",
        "fpr16, tpr16, thresholds = roc_curve(Y_test_SMOTE, Y_pred_log_reg_SMOTE)\n",
        "plt.plot(fpr16, tpr16, ':', label='Logistic Regression (SMOTE)')\n",
        "fpr17, tpr17, thresholds = roc_curve(Y_test_SMOTE, Y_pred_DT_SMOTE)\n",
        "plt.plot(fpr17, tpr17, ':', label='Decision Tree Classifier (SMOTE)')\n",
        "fpr18, tpr18, thresholds = roc_curve(Y_test_SMOTE, Y_pred_RF_SMOTE)\n",
        "plt.plot(fpr18, tpr18, ':', label='Random Forest Classifier (SMOTE)')\n",
        "\n",
        "plt.xlabel('False Positive Rate')\n",
        "plt.ylabel('True Positive Rate')\n",
        "plt.title('ROC Curve')\n",
        "plt.legend(bbox_to_anchor = (1.0, 0.5), loc = 'center left')\n",
        "plt.show()"
      ],
      "metadata": {
        "colab": {
          "base_uri": "https://localhost:8080/",
          "height": 317
        },
        "id": "XfTod7TzMSBI",
        "outputId": "5b8d3d94-3418-4dde-c80c-ccfc168943a3"
      },
      "execution_count": 132,
      "outputs": [
        {
          "output_type": "display_data",
          "data": {
            "text/plain": [
              "<Figure size 432x288 with 1 Axes>"
            ],
            "image/png": "[encoded data removed]"
          },
          "metadata": {}
        }
      ]
    },
    {
      "cell_type": "markdown",
      "source": [
        "The ROC Curve drastically changes for a balanced dataset in comparison \n",
        "to an imbalanced dataset.\n",
        "\n",
        "The classifier that works best is the Random Forest Classifier, followed by the Decision Tree Classifier.\n",
        "\n",
        "It is noted that the accuracy score is not a good metric of performance for unbalanced datasets; we must focus on the F1 score, precision and recall."
      ],
      "metadata": {
        "id": "AlfrrcOVP4At"
      }
    },
    {
      "cell_type": "markdown",
      "source": [
        "# Framingham Heart Study - Balancing the Dataset using RandomUnderSampler"
      ],
      "metadata": {
        "id": "8AIh6q5R0dtz"
      }
    },
    {
      "cell_type": "markdown",
      "source": [
        "We balance the dataset using SMOTE (Synthetic Minoriy Oversampling TEchnique)."
      ],
      "metadata": {
        "id": "b40IDmd-0dtz"
      }
    },
    {
      "cell_type": "code",
      "source": [
        "from collections import Counter\n",
        "from imblearn.under_sampling import RandomUnderSampler\n",
        "undersampler = RandomUnderSampler()\n",
        "X_RUS, Y_RUS = undersampler.fit_resample(x, y)\n",
        "Counter(Y_RUS)"
      ],
      "metadata": {
        "colab": {
          "base_uri": "https://localhost:8080/"
        },
        "outputId": "798e1511-ab4e-4646-fbe3-99de93268c5a",
        "id": "bC5pN54A0dtz"
      },
      "execution_count": 133,
      "outputs": [
        {
          "output_type": "execute_result",
          "data": {
            "text/plain": [
              "Counter({0: 644, 1: 644})"
            ]
          },
          "metadata": {},
          "execution_count": 133
        }
      ]
    },
    {
      "cell_type": "markdown",
      "source": [
        "## Split into Test and Train Sets"
      ],
      "metadata": {
        "id": "1qPd96wT0dt0"
      }
    },
    {
      "cell_type": "code",
      "source": [
        "X_train_RUS, X_test_RUS, Y_train_RUS, Y_test_RUS = train_test_split(X_RUS, Y_RUS, test_size = 0.2, random_state = 42)\n",
        "print('Shape X_train: ', X_train_RUS.shape)\n",
        "print('Shape X_test: ', X_test_RUS.shape)\n",
        "print('Shape Y_train: ', Y_train_RUS.shape)\n",
        "print('Shape Y_test: ', Y_test_RUS.shape)"
      ],
      "metadata": {
        "colab": {
          "base_uri": "https://localhost:8080/"
        },
        "outputId": "90494fa0-de1d-4dca-d61d-0e24170632c5",
        "id": "bPNlBawW0dt0"
      },
      "execution_count": 134,
      "outputs": [
        {
          "output_type": "stream",
          "name": "stdout",
          "text": [
            "Shape X_train:  (1030, 9)\n",
            "Shape X_test:  (258, 9)\n",
            "Shape Y_train:  (1030,)\n",
            "Shape Y_test:  (258,)\n"
          ]
        }
      ]
    },
    {
      "cell_type": "markdown",
      "source": [
        "## Standardization"
      ],
      "metadata": {
        "id": "9q3Kkuun0dt1"
      }
    },
    {
      "cell_type": "code",
      "source": [
        "Scaler = StandardScaler()\n",
        "Scaler.fit(X_train_RUS)\n",
        "X_train_RUS = Scaler.transform(X_train_RUS)\n",
        "X_test_RUS = Scaler.transform(X_test_RUS)"
      ],
      "metadata": {
        "id": "8CxTMm380dt1"
      },
      "execution_count": 135,
      "outputs": []
    },
    {
      "cell_type": "markdown",
      "source": [
        "## ML Techniques - Balanced Dataset"
      ],
      "metadata": {
        "id": "qkhjaUU00dt1"
      }
    },
    {
      "cell_type": "markdown",
      "source": [
        "### k-Nearest Neighbours"
      ],
      "metadata": {
        "id": "NzvEbMgI0dt1"
      }
    },
    {
      "cell_type": "code",
      "source": [
        "kNN_balanced_RUS = KNeighborsClassifier()\n",
        "kNN_balanced_RUS.fit(X_train_RUS, Y_train_RUS)\n",
        "kNN_balanced_RUS.get_params()"
      ],
      "metadata": {
        "colab": {
          "base_uri": "https://localhost:8080/"
        },
        "outputId": "7196aa11-a811-40e2-84d6-65cad53a5cb8",
        "id": "Gup4-_8d0dt1"
      },
      "execution_count": 136,
      "outputs": [
        {
          "output_type": "execute_result",
          "data": {
            "text/plain": [
              "{'algorithm': 'auto',\n",
              " 'leaf_size': 30,\n",
              " 'metric': 'minkowski',\n",
              " 'metric_params': None,\n",
              " 'n_jobs': None,\n",
              " 'n_neighbors': 5,\n",
              " 'p': 2,\n",
              " 'weights': 'uniform'}"
            ]
          },
          "metadata": {},
          "execution_count": 136
        }
      ]
    },
    {
      "cell_type": "code",
      "source": [
        "Y_pred_kNN_RUS = kNN_balanced_RUS.predict(X_test_RUS)"
      ],
      "metadata": {
        "id": "m39WMMs80dt2"
      },
      "execution_count": 137,
      "outputs": []
    },
    {
      "cell_type": "code",
      "source": [
        "Y_pred_kNN_RUS_train = kNN_balanced_RUS.predict(X_train_RUS)\n",
        "print('Accuracy of training data: ', accuracy_score(Y_train_RUS, Y_pred_kNN_RUS_train))\n",
        "print('Accuracy of testing data: ', accuracy_score(Y_test_RUS, Y_pred_kNN_RUS))"
      ],
      "metadata": {
        "colab": {
          "base_uri": "https://localhost:8080/"
        },
        "outputId": "f2ff438a-7f12-4a46-bb87-8636052f5e37",
        "id": "MQykCxmg0dt2"
      },
      "execution_count": 138,
      "outputs": [
        {
          "output_type": "stream",
          "name": "stdout",
          "text": [
            "Accuracy of training data:  0.7252427184466019\n",
            "Accuracy of testing data:  0.5852713178294574\n"
          ]
        }
      ]
    },
    {
      "cell_type": "code",
      "source": [
        "print(classification_report(Y_test_RUS, Y_pred_kNN_RUS))"
      ],
      "metadata": {
        "colab": {
          "base_uri": "https://localhost:8080/"
        },
        "outputId": "c9d994ac-0c00-4964-e2df-3be6a7be13bf",
        "id": "_2L20UjZ0dt2"
      },
      "execution_count": 139,
      "outputs": [
        {
          "output_type": "stream",
          "name": "stdout",
          "text": [
            "              precision    recall  f1-score   support\n",
            "\n",
            "           0       0.62      0.61      0.61       139\n",
            "           1       0.55      0.55      0.55       119\n",
            "\n",
            "    accuracy                           0.59       258\n",
            "   macro avg       0.58      0.58      0.58       258\n",
            "weighted avg       0.59      0.59      0.59       258\n",
            "\n"
          ]
        }
      ]
    },
    {
      "cell_type": "code",
      "source": [
        "ConfusionMatrixDisplay.from_predictions(Y_test_RUS, Y_pred_kNN_RUS, colorbar=False)"
      ],
      "metadata": {
        "colab": {
          "base_uri": "https://localhost:8080/",
          "height": 302
        },
        "outputId": "4b36dd74-2762-48c2-bef2-a6735655ec10",
        "id": "K5yIgoRS0dt2"
      },
      "execution_count": 140,
      "outputs": [
        {
          "output_type": "execute_result",
          "data": {
            "text/plain": [
              "<sklearn.metrics._plot.confusion_matrix.ConfusionMatrixDisplay at 0x7fdd071b4070>"
            ]
          },
          "metadata": {},
          "execution_count": 140
        },
        {
          "output_type": "display_data",
          "data": {
            "text/plain": [
              "<Figure size 432x288 with 1 Axes>"
            ],
            "image/png": "[encoded data removed]"
          },
          "metadata": {}
        }
      ]
    },
    {
      "cell_type": "markdown",
      "source": [
        "### Support Vector Machine"
      ],
      "metadata": {
        "id": "y_bbgKTr0dt3"
      }
    },
    {
      "cell_type": "code",
      "source": [
        "support_vector_classifier_balanced_RUS = SVC()\n",
        "support_vector_classifier_balanced_RUS.fit(X_train_RUS, Y_train_RUS)\n",
        "support_vector_classifier_balanced_RUS.get_params()"
      ],
      "metadata": {
        "colab": {
          "base_uri": "https://localhost:8080/"
        },
        "outputId": "f8dfd17a-2069-4f12-d1d7-4f9cd80f1b51",
        "id": "8GuW_9QM0dt3"
      },
      "execution_count": 141,
      "outputs": [
        {
          "output_type": "execute_result",
          "data": {
            "text/plain": [
              "{'C': 1.0,\n",
              " 'break_ties': False,\n",
              " 'cache_size': 200,\n",
              " 'class_weight': None,\n",
              " 'coef0': 0.0,\n",
              " 'decision_function_shape': 'ovr',\n",
              " 'degree': 3,\n",
              " 'gamma': 'scale',\n",
              " 'kernel': 'rbf',\n",
              " 'max_iter': -1,\n",
              " 'probability': False,\n",
              " 'random_state': None,\n",
              " 'shrinking': True,\n",
              " 'tol': 0.001,\n",
              " 'verbose': False}"
            ]
          },
          "metadata": {},
          "execution_count": 141
        }
      ]
    },
    {
      "cell_type": "code",
      "source": [
        "Y_pred_SVC_RUS = support_vector_classifier_balanced_RUS.predict(X_test_RUS)"
      ],
      "metadata": {
        "id": "BSOFfbBI0dt3"
      },
      "execution_count": 142,
      "outputs": []
    },
    {
      "cell_type": "code",
      "source": [
        "Y_pred_SVC_RUS_train = support_vector_classifier_balanced_RUS.predict(X_train_RUS)\n",
        "print('Accuracy of training data: ', accuracy_score(Y_train_RUS, Y_pred_SVC_RUS_train))\n",
        "print('Accuracy of testing data: ', accuracy_score(Y_test_RUS, Y_pred_SVC_RUS))"
      ],
      "metadata": {
        "colab": {
          "base_uri": "https://localhost:8080/"
        },
        "outputId": "5ea762e1-e576-4586-8fc0-b24e5fa6ba0f",
        "id": "J1eXE5UK0dt3"
      },
      "execution_count": 143,
      "outputs": [
        {
          "output_type": "stream",
          "name": "stdout",
          "text": [
            "Accuracy of training data:  0.6679611650485436\n",
            "Accuracy of testing data:  0.6511627906976745\n"
          ]
        }
      ]
    },
    {
      "cell_type": "code",
      "source": [
        "print(classification_report(Y_test_RUS, Y_pred_SVC_RUS))"
      ],
      "metadata": {
        "colab": {
          "base_uri": "https://localhost:8080/"
        },
        "outputId": "6b8fab06-614f-4c09-db0f-6e60ab45227c",
        "id": "FL4bAUtm0dt3"
      },
      "execution_count": 144,
      "outputs": [
        {
          "output_type": "stream",
          "name": "stdout",
          "text": [
            "              precision    recall  f1-score   support\n",
            "\n",
            "           0       0.72      0.58      0.64       139\n",
            "           1       0.60      0.73      0.66       119\n",
            "\n",
            "    accuracy                           0.65       258\n",
            "   macro avg       0.66      0.66      0.65       258\n",
            "weighted avg       0.66      0.65      0.65       258\n",
            "\n"
          ]
        }
      ]
    },
    {
      "cell_type": "code",
      "source": [
        "ConfusionMatrixDisplay.from_predictions(Y_test_RUS, Y_pred_SVC_RUS, colorbar=False)"
      ],
      "metadata": {
        "colab": {
          "base_uri": "https://localhost:8080/",
          "height": 302
        },
        "outputId": "01598a92-05f7-4042-b91e-7fed90495ebc",
        "id": "mSfe47tx0dt4"
      },
      "execution_count": 145,
      "outputs": [
        {
          "output_type": "execute_result",
          "data": {
            "text/plain": [
              "<sklearn.metrics._plot.confusion_matrix.ConfusionMatrixDisplay at 0x7fdd0596d100>"
            ]
          },
          "metadata": {},
          "execution_count": 145
        },
        {
          "output_type": "display_data",
          "data": {
            "text/plain": [
              "<Figure size 432x288 with 1 Axes>"
            ],
            "image/png": "[encoded data removed]"
          },
          "metadata": {}
        }
      ]
    },
    {
      "cell_type": "markdown",
      "source": [
        "### Naive Bayes"
      ],
      "metadata": {
        "id": "RAChSib00dt4"
      }
    },
    {
      "cell_type": "code",
      "source": [
        "Gaussian_balanced_RUS = GaussianNB()\n",
        "Gaussian_balanced_RUS.fit(X_train_RUS, Y_train_RUS)\n",
        "Gaussian_balanced_RUS.get_params()"
      ],
      "metadata": {
        "colab": {
          "base_uri": "https://localhost:8080/"
        },
        "outputId": "02130163-b738-4e37-f64b-e6ce7b7aa834",
        "id": "MKb3zV350dt4"
      },
      "execution_count": 146,
      "outputs": [
        {
          "output_type": "execute_result",
          "data": {
            "text/plain": [
              "{'priors': None, 'var_smoothing': 1e-09}"
            ]
          },
          "metadata": {},
          "execution_count": 146
        }
      ]
    },
    {
      "cell_type": "code",
      "source": [
        "Y_pred_Gaussian_RUS = Gaussian_balanced_RUS.predict(X_test_RUS)"
      ],
      "metadata": {
        "id": "BJXTORF00dt4"
      },
      "execution_count": 147,
      "outputs": []
    },
    {
      "cell_type": "code",
      "source": [
        "Y_pred_Gaussian_RUS_train = Gaussian_balanced_RUS.predict(X_train_RUS)\n",
        "print('Accuracy of training data: ', accuracy_score(Y_train_RUS, Y_pred_Gaussian_RUS_train))\n",
        "print('Accuracy of testing data: ', accuracy_score(Y_test_RUS, Y_pred_Gaussian_RUS))"
      ],
      "metadata": {
        "colab": {
          "base_uri": "https://localhost:8080/"
        },
        "outputId": "af8fd5c0-a889-4767-a74f-38f84b8d2df0",
        "id": "uZF9Q-yU0dt4"
      },
      "execution_count": 148,
      "outputs": [
        {
          "output_type": "stream",
          "name": "stdout",
          "text": [
            "Accuracy of training data:  0.5786407766990291\n",
            "Accuracy of testing data:  0.6666666666666666\n"
          ]
        }
      ]
    },
    {
      "cell_type": "code",
      "source": [
        "print(classification_report(Y_test_RUS, Y_pred_Gaussian_RUS))"
      ],
      "metadata": {
        "colab": {
          "base_uri": "https://localhost:8080/"
        },
        "outputId": "34337d18-dd98-4a82-f9c0-7bff48c0d7ae",
        "id": "aaIlVjTh0dt5"
      },
      "execution_count": 149,
      "outputs": [
        {
          "output_type": "stream",
          "name": "stdout",
          "text": [
            "              precision    recall  f1-score   support\n",
            "\n",
            "           0       0.62      0.96      0.76       139\n",
            "           1       0.87      0.33      0.48       119\n",
            "\n",
            "    accuracy                           0.67       258\n",
            "   macro avg       0.75      0.64      0.62       258\n",
            "weighted avg       0.74      0.67      0.63       258\n",
            "\n"
          ]
        }
      ]
    },
    {
      "cell_type": "code",
      "source": [
        "ConfusionMatrixDisplay.from_predictions(Y_test_RUS, Y_pred_Gaussian_RUS, colorbar=False)"
      ],
      "metadata": {
        "colab": {
          "base_uri": "https://localhost:8080/",
          "height": 302
        },
        "outputId": "0ce706e0-e9b1-4f33-83c2-9bb81d91aa38",
        "id": "_GEBTvaU0dt6"
      },
      "execution_count": 150,
      "outputs": [
        {
          "output_type": "execute_result",
          "data": {
            "text/plain": [
              "<sklearn.metrics._plot.confusion_matrix.ConfusionMatrixDisplay at 0x7fdd071a51c0>"
            ]
          },
          "metadata": {},
          "execution_count": 150
        },
        {
          "output_type": "display_data",
          "data": {
            "text/plain": [
              "<Figure size 432x288 with 1 Axes>"
            ],
            "image/png": "[encoded data removed]"
          },
          "metadata": {}
        }
      ]
    },
    {
      "cell_type": "markdown",
      "source": [
        "### Logistic Regression"
      ],
      "metadata": {
        "id": "wlMRiDtr0dt6"
      }
    },
    {
      "cell_type": "code",
      "source": [
        "log_reg_balanced_RUS = LogisticRegression()\n",
        "log_reg_balanced_RUS.fit(X_train_RUS, Y_train_RUS)\n",
        "log_reg_balanced_RUS.get_params()"
      ],
      "metadata": {
        "colab": {
          "base_uri": "https://localhost:8080/"
        },
        "outputId": "7ba43658-0944-44e4-cef0-41709ed833e0",
        "id": "BJqIFTxP0dt6"
      },
      "execution_count": 151,
      "outputs": [
        {
          "output_type": "execute_result",
          "data": {
            "text/plain": [
              "{'C': 1.0,\n",
              " 'class_weight': None,\n",
              " 'dual': False,\n",
              " 'fit_intercept': True,\n",
              " 'intercept_scaling': 1,\n",
              " 'l1_ratio': None,\n",
              " 'max_iter': 100,\n",
              " 'multi_class': 'auto',\n",
              " 'n_jobs': None,\n",
              " 'penalty': 'l2',\n",
              " 'random_state': None,\n",
              " 'solver': 'lbfgs',\n",
              " 'tol': 0.0001,\n",
              " 'verbose': 0,\n",
              " 'warm_start': False}"
            ]
          },
          "metadata": {},
          "execution_count": 151
        }
      ]
    },
    {
      "cell_type": "code",
      "source": [
        "Y_pred_log_reg_RUS = log_reg_balanced_RUS.predict(X_test_RUS)"
      ],
      "metadata": {
        "id": "gvX3-dKJ0dt7"
      },
      "execution_count": 152,
      "outputs": []
    },
    {
      "cell_type": "code",
      "source": [
        "Y_pred_log_reg_RUS_train = log_reg_balanced_RUS.predict(X_train_RUS)\n",
        "print('Accuracy of training data: ', accuracy_score(Y_train_RUS, Y_pred_log_reg_RUS_train))\n",
        "print('Accuracy of testing data: ', accuracy_score(Y_test_RUS, Y_pred_log_reg_RUS))"
      ],
      "metadata": {
        "colab": {
          "base_uri": "https://localhost:8080/"
        },
        "outputId": "0cb7c9cd-c92a-4bcc-9455-8c3a26eb9992",
        "id": "J6c8nzry0dt7"
      },
      "execution_count": 153,
      "outputs": [
        {
          "output_type": "stream",
          "name": "stdout",
          "text": [
            "Accuracy of training data:  0.6524271844660194\n",
            "Accuracy of testing data:  0.6666666666666666\n"
          ]
        }
      ]
    },
    {
      "cell_type": "code",
      "source": [
        "print(classification_report(Y_test_RUS, Y_pred_log_reg_RUS))"
      ],
      "metadata": {
        "colab": {
          "base_uri": "https://localhost:8080/"
        },
        "outputId": "64898933-019b-4306-8297-1d125884ea18",
        "id": "v46P8VGP0dt8"
      },
      "execution_count": 154,
      "outputs": [
        {
          "output_type": "stream",
          "name": "stdout",
          "text": [
            "              precision    recall  f1-score   support\n",
            "\n",
            "           0       0.71      0.64      0.67       139\n",
            "           1       0.62      0.70      0.66       119\n",
            "\n",
            "    accuracy                           0.67       258\n",
            "   macro avg       0.67      0.67      0.67       258\n",
            "weighted avg       0.67      0.67      0.67       258\n",
            "\n"
          ]
        }
      ]
    },
    {
      "cell_type": "code",
      "source": [
        "ConfusionMatrixDisplay.from_predictions(Y_test_RUS, Y_pred_log_reg_RUS, colorbar=False)"
      ],
      "metadata": {
        "colab": {
          "base_uri": "https://localhost:8080/",
          "height": 302
        },
        "outputId": "8504f203-c00c-4798-a083-eb0dd245d14a",
        "id": "rItZkh9Y0dt8"
      },
      "execution_count": 155,
      "outputs": [
        {
          "output_type": "execute_result",
          "data": {
            "text/plain": [
              "<sklearn.metrics._plot.confusion_matrix.ConfusionMatrixDisplay at 0x7fdd05879820>"
            ]
          },
          "metadata": {},
          "execution_count": 155
        },
        {
          "output_type": "display_data",
          "data": {
            "text/plain": [
              "<Figure size 432x288 with 1 Axes>"
            ],
            "image/png": "[encoded data removed]"
          },
          "metadata": {}
        }
      ]
    },
    {
      "cell_type": "markdown",
      "source": [
        "### Decision Tree Classifier"
      ],
      "metadata": {
        "id": "YWEj5P1T0dt8"
      }
    },
    {
      "cell_type": "markdown",
      "source": [
        "To prevent overfitting, we need to limit the parameter *max_depth*."
      ],
      "metadata": {
        "id": "zbXSf6lg3NED"
      }
    },
    {
      "cell_type": "code",
      "source": [
        "DT_classifier_balanced_RUS = DecisionTreeClassifier(random_state = 42, max_depth=5)\n",
        "DT_classifier_balanced_RUS.fit(X_train_RUS, Y_train_RUS)\n",
        "DT_classifier_balanced_RUS.get_params()"
      ],
      "metadata": {
        "colab": {
          "base_uri": "https://localhost:8080/"
        },
        "outputId": "77b63468-ad20-44da-843f-8c22f51cda0c",
        "id": "rvNCHJwX0dt9"
      },
      "execution_count": 156,
      "outputs": [
        {
          "output_type": "execute_result",
          "data": {
            "text/plain": [
              "{'ccp_alpha': 0.0,\n",
              " 'class_weight': None,\n",
              " 'criterion': 'gini',\n",
              " 'max_depth': 5,\n",
              " 'max_features': None,\n",
              " 'max_leaf_nodes': None,\n",
              " 'min_impurity_decrease': 0.0,\n",
              " 'min_samples_leaf': 1,\n",
              " 'min_samples_split': 2,\n",
              " 'min_weight_fraction_leaf': 0.0,\n",
              " 'random_state': 42,\n",
              " 'splitter': 'best'}"
            ]
          },
          "metadata": {},
          "execution_count": 156
        }
      ]
    },
    {
      "cell_type": "code",
      "source": [
        "Y_pred_DT_RUS = DT_classifier_balanced_RUS.predict(X_test_RUS)"
      ],
      "metadata": {
        "id": "SsXyG_YZ0dt9"
      },
      "execution_count": 157,
      "outputs": []
    },
    {
      "cell_type": "code",
      "source": [
        "Y_pred_DT_RUS_train = DT_classifier_balanced_RUS.predict(X_train_RUS)\n",
        "print('Accuracy of training data: ', accuracy_score(Y_train_RUS, Y_pred_DT_RUS_train))\n",
        "print('Accuracy of testing data: ', accuracy_score(Y_test_RUS, Y_pred_DT_RUS))"
      ],
      "metadata": {
        "colab": {
          "base_uri": "https://localhost:8080/"
        },
        "outputId": "2a929871-bc7c-472c-cf43-db270b4fb36c",
        "id": "eBSPeCFE0dt9"
      },
      "execution_count": 158,
      "outputs": [
        {
          "output_type": "stream",
          "name": "stdout",
          "text": [
            "Accuracy of training data:  0.6932038834951456\n",
            "Accuracy of testing data:  0.5658914728682171\n"
          ]
        }
      ]
    },
    {
      "cell_type": "code",
      "source": [
        "print(classification_report(Y_test_RUS, Y_pred_DT_RUS))"
      ],
      "metadata": {
        "colab": {
          "base_uri": "https://localhost:8080/"
        },
        "outputId": "05d1383d-652b-4fe9-8a86-d7087fdfe33d",
        "id": "-CeUm3op0dt-"
      },
      "execution_count": 159,
      "outputs": [
        {
          "output_type": "stream",
          "name": "stdout",
          "text": [
            "              precision    recall  f1-score   support\n",
            "\n",
            "           0       0.68      0.37      0.48       139\n",
            "           1       0.52      0.80      0.63       119\n",
            "\n",
            "    accuracy                           0.57       258\n",
            "   macro avg       0.60      0.58      0.55       258\n",
            "weighted avg       0.61      0.57      0.55       258\n",
            "\n"
          ]
        }
      ]
    },
    {
      "cell_type": "code",
      "source": [
        "ConfusionMatrixDisplay.from_predictions(Y_test_RUS, Y_pred_DT_RUS, colorbar=False)"
      ],
      "metadata": {
        "colab": {
          "base_uri": "https://localhost:8080/",
          "height": 302
        },
        "outputId": "29f4f871-de2e-4282-c1be-c972f6158732",
        "id": "SboX-Gsw0dt-"
      },
      "execution_count": 160,
      "outputs": [
        {
          "output_type": "execute_result",
          "data": {
            "text/plain": [
              "<sklearn.metrics._plot.confusion_matrix.ConfusionMatrixDisplay at 0x7fdd058797c0>"
            ]
          },
          "metadata": {},
          "execution_count": 160
        },
        {
          "output_type": "display_data",
          "data": {
            "text/plain": [
              "<Figure size 432x288 with 1 Axes>"
            ],
            "image/png": "[encoded data removed]"
          },
          "metadata": {}
        }
      ]
    },
    {
      "cell_type": "markdown",
      "source": [
        "### Random Forest Classifier"
      ],
      "metadata": {
        "id": "C7dq2tg30dt_"
      }
    },
    {
      "cell_type": "code",
      "source": [
        "RF_classifier_balanced_RUS = RandomForestClassifier(random_state = 42, max_depth = 5)\n",
        "RF_classifier_balanced_RUS.fit(X_train_RUS, Y_train_RUS)\n",
        "RF_classifier_balanced_RUS.get_params()"
      ],
      "metadata": {
        "colab": {
          "base_uri": "https://localhost:8080/"
        },
        "outputId": "d9cc5f25-6342-440a-885b-5024f59b6d5b",
        "id": "WimVzqbu0dt_"
      },
      "execution_count": 161,
      "outputs": [
        {
          "output_type": "execute_result",
          "data": {
            "text/plain": [
              "{'bootstrap': True,\n",
              " 'ccp_alpha': 0.0,\n",
              " 'class_weight': None,\n",
              " 'criterion': 'gini',\n",
              " 'max_depth': 5,\n",
              " 'max_features': 'auto',\n",
              " 'max_leaf_nodes': None,\n",
              " 'max_samples': None,\n",
              " 'min_impurity_decrease': 0.0,\n",
              " 'min_samples_leaf': 1,\n",
              " 'min_samples_split': 2,\n",
              " 'min_weight_fraction_leaf': 0.0,\n",
              " 'n_estimators': 100,\n",
              " 'n_jobs': None,\n",
              " 'oob_score': False,\n",
              " 'random_state': 42,\n",
              " 'verbose': 0,\n",
              " 'warm_start': False}"
            ]
          },
          "metadata": {},
          "execution_count": 161
        }
      ]
    },
    {
      "cell_type": "code",
      "source": [
        "Y_pred_RF_RUS = RF_classifier_balanced_RUS.predict(X_test_RUS)"
      ],
      "metadata": {
        "id": "AvTElUXA0dt_"
      },
      "execution_count": 162,
      "outputs": []
    },
    {
      "cell_type": "code",
      "source": [
        "Y_pred_RF_RUS_train = RF_classifier_balanced_RUS.predict(X_train_RUS)\n",
        "print('Accuracy of training data: ', accuracy_score(Y_train_RUS, Y_pred_RF_RUS_train))\n",
        "print('Accuracy of testing data: ', accuracy_score(Y_test_RUS, Y_pred_RF_RUS))"
      ],
      "metadata": {
        "colab": {
          "base_uri": "https://localhost:8080/"
        },
        "outputId": "71981dc9-90cc-42c3-ce57-8febc5e3795b",
        "id": "954_SJ5j0duA"
      },
      "execution_count": 163,
      "outputs": [
        {
          "output_type": "stream",
          "name": "stdout",
          "text": [
            "Accuracy of training data:  0.7291262135922331\n",
            "Accuracy of testing data:  0.6666666666666666\n"
          ]
        }
      ]
    },
    {
      "cell_type": "code",
      "source": [
        "print(classification_report(Y_test_RUS, Y_pred_RF_RUS))"
      ],
      "metadata": {
        "colab": {
          "base_uri": "https://localhost:8080/"
        },
        "outputId": "ebf8b9b1-b1d2-47f8-f6f7-839d2bf5d787",
        "id": "I_dsd2d60duA"
      },
      "execution_count": 164,
      "outputs": [
        {
          "output_type": "stream",
          "name": "stdout",
          "text": [
            "              precision    recall  f1-score   support\n",
            "\n",
            "           0       0.73      0.60      0.66       139\n",
            "           1       0.61      0.75      0.67       119\n",
            "\n",
            "    accuracy                           0.67       258\n",
            "   macro avg       0.67      0.67      0.67       258\n",
            "weighted avg       0.68      0.67      0.67       258\n",
            "\n"
          ]
        }
      ]
    },
    {
      "cell_type": "code",
      "source": [
        "ConfusionMatrixDisplay.from_predictions(Y_test_RUS, Y_pred_RF_RUS, colorbar=False)"
      ],
      "metadata": {
        "colab": {
          "base_uri": "https://localhost:8080/",
          "height": 302
        },
        "outputId": "2a7c1b25-f7fe-4c06-a89e-7bf00dd2ac08",
        "id": "o6BJ-ZpO0duA"
      },
      "execution_count": 165,
      "outputs": [
        {
          "output_type": "execute_result",
          "data": {
            "text/plain": [
              "<sklearn.metrics._plot.confusion_matrix.ConfusionMatrixDisplay at 0x7fdd071b4eb0>"
            ]
          },
          "metadata": {},
          "execution_count": 165
        },
        {
          "output_type": "display_data",
          "data": {
            "text/plain": [
              "<Figure size 432x288 with 1 Axes>"
            ],
            "image/png": "[encoded data removed]"
          },
          "metadata": {}
        }
      ]
    },
    {
      "cell_type": "markdown",
      "source": [
        "# ROC Curve"
      ],
      "metadata": {
        "id": "Jeqzj6Tp4PGM"
      }
    },
    {
      "cell_type": "code",
      "source": [
        "plt.plot([0,1], [0,1], ':')\n",
        "fpr1, tpr1, thresholds = roc_curve(y_test, y_pred_kNN)\n",
        "plt.plot(fpr1, tpr1, '--', label='kNN Classifier')\n",
        "fpr2, tpr2, thresholds = roc_curve(y_test, y_pred_SVC)\n",
        "plt.plot(fpr2, tpr2, '--', label='SVC')\n",
        "fpr3, tpr3, thresholds = roc_curve(y_test, y_pred_Gaussian)\n",
        "plt.plot(fpr3, tpr3, '--', label='Naive Bayes Classifier')\n",
        "fpr4, tpr4, thresholds = roc_curve(y_test, y_pred_log_reg)\n",
        "plt.plot(fpr4, tpr4, '--', label='Logistic Regression')\n",
        "fpr5, tpr5, thresholds = roc_curve(y_test, y_pred_DT)\n",
        "plt.plot(fpr5, tpr5, '--', label='Decision Tree Classifier')\n",
        "fpr6, tpr6, thresholds = roc_curve(y_test, y_pred_RF)\n",
        "plt.plot(fpr6, tpr6, '--', label='Random Forest Classifier')\n",
        "\n",
        "fpr7, tpr7, thresholds = roc_curve(Y_test, Y_pred_kNN)\n",
        "plt.plot(fpr7, tpr7, '-', label='kNN Classifier (ADASYN)')\n",
        "fpr8, tpr8, thresholds = roc_curve(Y_test, Y_pred_SVC)\n",
        "plt.plot(fpr8, tpr8, '-', label='SVC (ADASYN)')\n",
        "fpr9, tpr9, thresholds = roc_curve(Y_test, Y_pred_Gaussian)\n",
        "plt.plot(fpr9, tpr9, '-', label='Naive Bayes Classifier (ADASYN)')\n",
        "fpr10, tpr10, thresholds = roc_curve(Y_test, Y_pred_log_reg)\n",
        "plt.plot(fpr10, tpr10, '-', label='Logistic Regression (ADASYN)')\n",
        "fpr11, tpr11, thresholds = roc_curve(Y_test, Y_pred_DT)\n",
        "plt.plot(fpr11, tpr11, '-', label='Decision Tree Classifier (ADASYN)')\n",
        "fpr12, tpr12, thresholds = roc_curve(Y_test, Y_pred_RF)\n",
        "plt.plot(fpr12, tpr12, '-', label='Random Forest Classifier (ADASYN)')\n",
        "\n",
        "fpr13, tpr13, thresholds = roc_curve(Y_test_RUS, Y_pred_kNN_RUS)\n",
        "plt.plot(fpr13, tpr13, ':', label='kNN Classifier (RandomUnderSampler)')\n",
        "fpr14, tpr14, thresholds = roc_curve(Y_test_RUS, Y_pred_SVC_RUS)\n",
        "plt.plot(fpr14, tpr14, ':', label='SVC (RandomUnderSampler)')\n",
        "fpr15, tpr15, thresholds = roc_curve(Y_test_RUS, Y_pred_Gaussian_RUS)\n",
        "plt.plot(fpr15, tpr15, ':', label='Naive Bayes Classifier (RandomUnderSampler)')\n",
        "fpr16, tpr16, thresholds = roc_curve(Y_test_RUS, Y_pred_log_reg_RUS)\n",
        "plt.plot(fpr16, tpr16, ':', label='Logistic Regression (RandomUnderSampler)')\n",
        "fpr17, tpr17, thresholds = roc_curve(Y_test_RUS, Y_pred_DT_RUS)\n",
        "plt.plot(fpr17, tpr17, ':', label='Decision Tree Classifier (RandomUnderSampler)')\n",
        "fpr18, tpr18, thresholds = roc_curve(Y_test_RUS, Y_pred_RF_RUS)\n",
        "plt.plot(fpr18, tpr18, ':', label='Random Forest Classifier (RandomUnderSampler)')\n",
        "\n",
        "plt.xlabel('False Positive Rate')\n",
        "plt.ylabel('True Positive Rate')\n",
        "plt.title('ROC Curve')\n",
        "plt.legend(bbox_to_anchor = (1.0, 0.5), loc = 'center left')\n",
        "plt.show()"
      ],
      "metadata": {
        "colab": {
          "base_uri": "https://localhost:8080/",
          "height": 317
        },
        "outputId": "645f2515-ddd7-4cb8-b71c-c17ef707b5d4",
        "id": "iEr79emZ4PGN"
      },
      "execution_count": 166,
      "outputs": [
        {
          "output_type": "display_data",
          "data": {
            "text/plain": [
              "<Figure size 432x288 with 1 Axes>"
            ],
            "image/png": "[encoded data removed]"
          },
          "metadata": {}
        }
      ]
    },
    {
      "cell_type": "markdown",
      "source": [
        "The ROC Curve drastically changes when balancing the dataset using Oversampling and Undersampling.\n",
        "\n",
        "The ROC Curve is much better when oversampling techniques are applied on the dataset, as opposed to the undersampling techniques. Thus, it can be concluded that for this particular dataset, it is better to perform oversampling techniques to balance the dataset."
      ],
      "metadata": {
        "id": "B-rpJq5W4PGO"
      }
    }
  ]
}